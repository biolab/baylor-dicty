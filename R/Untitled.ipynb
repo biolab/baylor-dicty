{
 "cells": [
  {
   "cell_type": "code",
   "execution_count": 3,
   "metadata": {},
   "outputs": [],
   "source": [
    "dataPath='/home/khrovatin/timeTrajectoriesNet/data/counts/'\n",
    "dataPathNormalised='/home/khrovatin/timeTrajectoriesNet/data/RPKUM/'\n",
    "dataPathCode='/home/khrovatin/git/baylor-dicty/R/'"
   ]
  },
  {
   "cell_type": "code",
   "execution_count": 4,
   "metadata": {},
   "outputs": [],
   "source": [
    "library(\"DESeq2\")\n",
    "library('dplyr')\n",
    "source(paste(dataPathCode,'libraryDE.R',sep=''))\n",
    "\n",
    "library(\"BiocParallel\")\n",
    "register(MulticoreParam(4))\n"
   ]
  },
  {
   "cell_type": "code",
   "execution_count": 5,
   "metadata": {},
   "outputs": [],
   "source": [
    "#Load data counts\n",
    "genes<-read.table(paste(dataPath,\"mergedGenes_counts.tsv\",sep=''), header=TRUE,row.names=1, sep=\"\\t\")\n",
    "conditions<-read.table(paste(dataPathNormalised,\"conditions_mergedGenes.tsv\",sep=''), header=TRUE,row.names='Measurment', sep=\"\\t\")\n",
    "#R imported colnames of genes with changes but gene IDs remained ok\n",
    "rownames(conditions)<-make.names(rownames(conditions))\n",
    "#Load data normalised\n",
    "genesNorm<-read.table(paste(dataPathNormalised,\"mergedGenes_RPKUM.tsv\",sep=''), header=TRUE,row.names=1, sep=\"\\t\")\n",
    "\n",
    "STAGES<-c('no_agg','stream','lag','tag','tip','slug','mhat','cul','FB','yem')\n",
    "PHENOTYPES_ORDERED=c('no_agg', 'stream', 'lag', 'tag', 'tip', 'slug', 'mhat', 'cul', 'FB','yem')\n",
    "PHENOTYPES_X=data.frame(Phenotype=PHENOTYPES_ORDERED,X=c(1:length(PHENOTYPES_ORDERED)))"
   ]
  },
  {
   "cell_type": "code",
   "execution_count": 12,
   "metadata": {},
   "outputs": [
    {
     "name": "stdout",
     "output_type": "stream",
     "text": [
      "[1] \"no_agg\"\n",
      "[1] \"N rep 36\"\n",
      "[1] 297  16\n"
     ]
    },
    {
     "name": "stderr",
     "output_type": "stream",
     "text": [
      "estimating size factors\n",
      "\n",
      "estimating dispersions\n",
      "\n",
      "gene-wise dispersion estimates: 4 workers\n",
      "\n",
      "mean-dispersion relationship\n",
      "\n",
      "final dispersion estimates, fitting model and testing: 4 workers\n",
      "\n",
      "-- replacing outliers and refitting for 4 genes\n",
      "-- DESeq argument 'minReplicatesForReplace' = 7 \n",
      "-- original counts are preserved in counts(dds)\n",
      "\n",
      "estimating dispersions\n",
      "\n",
      "fitting model and testing\n",
      "\n"
     ]
    },
    {
     "name": "stdout",
     "output_type": "stream",
     "text": [
      "[1] \"stream\"\n",
      "[1] \"N rep 32\"\n",
      "[1] 264  16\n"
     ]
    },
    {
     "name": "stderr",
     "output_type": "stream",
     "text": [
      "estimating size factors\n",
      "\n",
      "estimating dispersions\n",
      "\n",
      "gene-wise dispersion estimates: 4 workers\n",
      "\n",
      "mean-dispersion relationship\n",
      "\n",
      "final dispersion estimates, fitting model and testing: 4 workers\n",
      "\n",
      "-- replacing outliers and refitting for 5 genes\n",
      "-- DESeq argument 'minReplicatesForReplace' = 7 \n",
      "-- original counts are preserved in counts(dds)\n",
      "\n",
      "estimating dispersions\n",
      "\n",
      "fitting model and testing\n",
      "\n"
     ]
    },
    {
     "name": "stdout",
     "output_type": "stream",
     "text": [
      "[1] \"lag\"\n",
      "[1] \"N rep 32\"\n",
      "[1] 263  16\n"
     ]
    },
    {
     "name": "stderr",
     "output_type": "stream",
     "text": [
      "estimating size factors\n",
      "\n",
      "estimating dispersions\n",
      "\n",
      "gene-wise dispersion estimates: 4 workers\n",
      "\n",
      "mean-dispersion relationship\n",
      "\n",
      "final dispersion estimates, fitting model and testing: 4 workers\n",
      "\n"
     ]
    }
   ],
   "source": [
    "#*** Find stage specific genes 1 vs all adjusting for replicates (Do in WT or all)\n",
    "#Uses only replicates present in both stage and rest group\n",
    "# For stage A use timepoints with phenotypes A and A/B for test and everything without A as control (B, B/C)\n",
    "\n",
    "#WT or all - also change the path for saving below\n",
    "conditions_test=conditions\n",
    "#conditions_test=conditions[conditions$Group=='WT',]\n",
    "conditions_test=conditions_test[rowSums(conditions_test[, PHENOTYPES_ORDERED])>0, ]\n",
    "for (stage in STAGES){\n",
    "  print(stage)\n",
    "  if (sum(conditions_test[stage])>0){\n",
    "    test<-conditions_test[conditions_test[stage]==1,]\n",
    "    #Select only measurments where 'stage' is the only phenotype e.g. test only A (not A/B)\n",
    "    #single_stage1<-rowSums(test[,STAGES])==1\n",
    "    #test<-test[single_stage1,]\n",
    "    control<-conditions_test[conditions_test[stage]!=1,]\n",
    "    replicates<-intersect(control$Replicate,test$Replicate)\n",
    "    print(paste('N rep',length(unique(replicates))))\n",
    "    test<-test[test$Replicate %in% replicates,]\n",
    "    control<-control[control$Replicate %in% replicates,]\n",
    "    test$Comparison<-rep(stage,dim(test)[1])\n",
    "    control$Comparison<-rep('other',dim(control)[1])\n",
    "    conditions_sub<-rbind(test,control)\n",
    "    genes_sub<-genes[,rownames(conditions_sub)]\n",
    "    print(dim(conditions_sub))\n",
    "    res<-runDeSeq2(conditions_sub,genes_sub,case=stage,control='other',design=~Replicate+Comparison,main_lvl='Comparison',padj=0.05,logFC=1,\n",
    "                   path='/home/khrovatin/timeTrajectoriesNet/data/deTime/stage_vs_other/')\n",
    "  } \n",
    "} \n"
   ]
  },
  {
   "cell_type": "code",
   "execution_count": null,
   "metadata": {},
   "outputs": [],
   "source": []
  }
 ],
 "metadata": {
  "kernelspec": {
   "display_name": "R",
   "language": "R",
   "name": "ir"
  },
  "language_info": {
   "codemirror_mode": "r",
   "file_extension": ".r",
   "mimetype": "text/x-r-source",
   "name": "R",
   "pygments_lexer": "r",
   "version": "3.6.1"
  }
 },
 "nbformat": 4,
 "nbformat_minor": 4
}
