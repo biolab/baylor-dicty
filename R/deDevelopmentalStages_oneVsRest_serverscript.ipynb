{
 "cells": [
  {
   "cell_type": "code",
   "execution_count": 1,
   "metadata": {},
   "outputs": [],
   "source": [
    "dataPath='/home/khrovatin/timeTrajectoriesNet/data/counts/'\n",
    "dataPathNormalised='/home/khrovatin/timeTrajectoriesNet/data/RPKUM/'\n",
    "dataPathCode='/home/khrovatin/git/baylor-dicty/R/'"
   ]
  },
  {
   "cell_type": "code",
   "execution_count": 8,
   "metadata": {},
   "outputs": [],
   "source": [
    "library(\"DESeq2\")\n",
    "library('dplyr')\n",
    "source(paste(dataPathCode,'libraryDE.R',sep=''))\n",
    "\n",
    "library(\"BiocParallel\")\n",
    "register(MulticoreParam(10))\n"
   ]
  },
  {
   "cell_type": "code",
   "execution_count": 3,
   "metadata": {},
   "outputs": [],
   "source": [
    "#Load data counts\n",
    "genes<-read.table(paste(dataPath,\"mergedGenes_counts.tsv\",sep=''), header=TRUE,row.names=1, sep=\"\\t\")\n",
    "conditions<-read.table(paste(dataPathNormalised,\"conditions_mergedGenes.tsv\",sep=''), header=TRUE,row.names='Measurment', sep=\"\\t\")\n",
    "#R imported colnames of genes with changes but gene IDs remained ok\n",
    "rownames(conditions)<-make.names(rownames(conditions))\n",
    "\n",
    "STAGES<-c('no_agg','stream','lag','tag','tip','slug','mhat','cul','FB','yem')\n",
    "PHENOTYPES_ORDERED=c('no_agg', 'stream', 'lag', 'tag', 'tip', 'slug', 'mhat', 'cul', 'FB','yem')\n",
    "PHENOTYPES_X=data.frame(Phenotype=PHENOTYPES_ORDERED,X=c(1:length(PHENOTYPES_ORDERED)))"
   ]
  },
  {
   "cell_type": "code",
   "execution_count": 10,
   "metadata": {
    "scrolled": false
   },
   "outputs": [
    {
     "name": "stdout",
     "output_type": "stream",
     "text": [
      "[1] \"no_agg\"\n",
      "[1] \"N rep 9\"\n",
      "~Replicate + Comparison\n",
      "[1] 70 16\n"
     ]
    },
    {
     "name": "stderr",
     "output_type": "stream",
     "text": [
      "estimating size factors\n",
      "\n",
      "estimating dispersions\n",
      "\n",
      "gene-wise dispersion estimates: 10 workers\n",
      "\n",
      "mean-dispersion relationship\n",
      "\n",
      "final dispersion estimates, fitting model and testing: 10 workers\n",
      "\n",
      "-- replacing outliers and refitting for 160 genes\n",
      "-- DESeq argument 'minReplicatesForReplace' = 7 \n",
      "-- original counts are preserved in counts(dds)\n",
      "\n",
      "estimating dispersions\n",
      "\n",
      "fitting model and testing\n",
      "\n"
     ]
    },
    {
     "name": "stdout",
     "output_type": "stream",
     "text": [
      "\n",
      "out of 12333 with nonzero total read count\n",
      "adjusted p-value < 0.1\n",
      "LFC > 0 (up)       : 4126, 33%\n",
      "LFC < 0 (down)     : 5007, 41%\n",
      "outliers [1]       : 91, 0.74%\n",
      "low counts [2]     : 0, 0%\n",
      "(mean count < 0)\n",
      "[1] see 'cooksCutoff' argument of ?results\n",
      "[2] see 'independentFiltering' argument of ?results\n",
      "\n",
      "NULL\n",
      "[1] \"stream\"\n",
      "[1] \"N rep 8\"\n",
      "~Replicate + Comparison\n",
      "[1] 60 16\n"
     ]
    },
    {
     "name": "stderr",
     "output_type": "stream",
     "text": [
      "estimating size factors\n",
      "\n",
      "estimating dispersions\n",
      "\n",
      "gene-wise dispersion estimates: 10 workers\n",
      "\n",
      "mean-dispersion relationship\n",
      "\n",
      "final dispersion estimates, fitting model and testing: 10 workers\n",
      "\n",
      "-- replacing outliers and refitting for 157 genes\n",
      "-- DESeq argument 'minReplicatesForReplace' = 7 \n",
      "-- original counts are preserved in counts(dds)\n",
      "\n",
      "estimating dispersions\n",
      "\n",
      "fitting model and testing\n",
      "\n"
     ]
    },
    {
     "name": "stdout",
     "output_type": "stream",
     "text": [
      "\n",
      "out of 12325 with nonzero total read count\n",
      "adjusted p-value < 0.1\n",
      "LFC > 0 (up)       : 1740, 14%\n",
      "LFC < 0 (down)     : 3765, 31%\n",
      "outliers [1]       : 144, 1.2%\n",
      "low counts [2]     : 239, 1.9%\n",
      "(mean count < 0)\n",
      "[1] see 'cooksCutoff' argument of ?results\n",
      "[2] see 'independentFiltering' argument of ?results\n",
      "\n",
      "NULL\n",
      "[1] \"lag\"\n",
      "[1] \"N rep 9\"\n",
      "~Replicate + Comparison\n",
      "[1] 70 16\n"
     ]
    },
    {
     "name": "stderr",
     "output_type": "stream",
     "text": [
      "estimating size factors\n",
      "\n",
      "estimating dispersions\n",
      "\n",
      "gene-wise dispersion estimates: 10 workers\n",
      "\n",
      "mean-dispersion relationship\n",
      "\n",
      "final dispersion estimates, fitting model and testing: 10 workers\n",
      "\n",
      "-- replacing outliers and refitting for 131 genes\n",
      "-- DESeq argument 'minReplicatesForReplace' = 7 \n",
      "-- original counts are preserved in counts(dds)\n",
      "\n",
      "estimating dispersions\n",
      "\n",
      "fitting model and testing\n",
      "\n"
     ]
    },
    {
     "name": "stdout",
     "output_type": "stream",
     "text": [
      "\n",
      "out of 12333 with nonzero total read count\n",
      "adjusted p-value < 0.1\n",
      "LFC > 0 (up)       : 1898, 15%\n",
      "LFC < 0 (down)     : 4166, 34%\n",
      "outliers [1]       : 127, 1%\n",
      "low counts [2]     : 0, 0%\n",
      "(mean count < 0)\n",
      "[1] see 'cooksCutoff' argument of ?results\n",
      "[2] see 'independentFiltering' argument of ?results\n",
      "\n",
      "NULL\n",
      "[1] \"tag\"\n",
      "[1] \"N rep 7\"\n",
      "~Replicate + Comparison\n",
      "[1] 57 16\n"
     ]
    },
    {
     "name": "stderr",
     "output_type": "stream",
     "text": [
      "estimating size factors\n",
      "\n",
      "estimating dispersions\n",
      "\n",
      "gene-wise dispersion estimates: 10 workers\n",
      "\n",
      "mean-dispersion relationship\n",
      "\n",
      "final dispersion estimates, fitting model and testing: 10 workers\n",
      "\n",
      "-- replacing outliers and refitting for 162 genes\n",
      "-- DESeq argument 'minReplicatesForReplace' = 7 \n",
      "-- original counts are preserved in counts(dds)\n",
      "\n",
      "estimating dispersions\n",
      "\n",
      "fitting model and testing\n",
      "\n"
     ]
    },
    {
     "name": "stdout",
     "output_type": "stream",
     "text": [
      "\n",
      "out of 12300 with nonzero total read count\n",
      "adjusted p-value < 0.1\n",
      "LFC > 0 (up)       : 626, 5.1%\n",
      "LFC < 0 (down)     : 1925, 16%\n",
      "outliers [1]       : 150, 1.2%\n",
      "low counts [2]     : 477, 3.9%\n",
      "(mean count < 0)\n",
      "[1] see 'cooksCutoff' argument of ?results\n",
      "[2] see 'independentFiltering' argument of ?results\n",
      "\n",
      "NULL\n",
      "[1] \"tip\"\n",
      "[1] \"N rep 4\"\n",
      "~Replicate + Comparison\n",
      "[1] 35 16\n"
     ]
    },
    {
     "name": "stderr",
     "output_type": "stream",
     "text": [
      "estimating size factors\n",
      "\n",
      "estimating dispersions\n",
      "\n",
      "gene-wise dispersion estimates: 10 workers\n",
      "\n",
      "mean-dispersion relationship\n",
      "\n",
      "final dispersion estimates, fitting model and testing: 10 workers\n",
      "\n",
      "-- replacing outliers and refitting for 336 genes\n",
      "-- DESeq argument 'minReplicatesForReplace' = 7 \n",
      "-- original counts are preserved in counts(dds)\n",
      "\n",
      "estimating dispersions\n",
      "\n",
      "fitting model and testing\n",
      "\n"
     ]
    },
    {
     "name": "stdout",
     "output_type": "stream",
     "text": [
      "\n",
      "out of 12277 with nonzero total read count\n",
      "adjusted p-value < 0.1\n",
      "LFC > 0 (up)       : 617, 5%\n",
      "LFC < 0 (down)     : 1694, 14%\n",
      "outliers [1]       : 262, 2.1%\n",
      "low counts [2]     : 1190, 9.7%\n",
      "(mean count < 2)\n",
      "[1] see 'cooksCutoff' argument of ?results\n",
      "[2] see 'independentFiltering' argument of ?results\n",
      "\n",
      "NULL\n",
      "[1] \"slug\"\n",
      "[1] \"N rep 9\"\n",
      "~Replicate + Comparison\n",
      "[1] 70 16\n"
     ]
    },
    {
     "name": "stderr",
     "output_type": "stream",
     "text": [
      "estimating size factors\n",
      "\n",
      "estimating dispersions\n",
      "\n",
      "gene-wise dispersion estimates: 10 workers\n",
      "\n",
      "mean-dispersion relationship\n",
      "\n",
      "final dispersion estimates, fitting model and testing: 10 workers\n",
      "\n",
      "-- replacing outliers and refitting for 136 genes\n",
      "-- DESeq argument 'minReplicatesForReplace' = 7 \n",
      "-- original counts are preserved in counts(dds)\n",
      "\n",
      "estimating dispersions\n",
      "\n",
      "fitting model and testing\n",
      "\n"
     ]
    },
    {
     "name": "stdout",
     "output_type": "stream",
     "text": [
      "\n",
      "out of 12333 with nonzero total read count\n",
      "adjusted p-value < 0.1\n",
      "LFC > 0 (up)       : 2404, 19%\n",
      "LFC < 0 (down)     : 3577, 29%\n",
      "outliers [1]       : 122, 0.99%\n",
      "low counts [2]     : 479, 3.9%\n",
      "(mean count < 0)\n",
      "[1] see 'cooksCutoff' argument of ?results\n",
      "[2] see 'independentFiltering' argument of ?results\n",
      "\n",
      "NULL\n",
      "[1] \"mhat\"\n",
      "[1] \"N rep 9\"\n",
      "~Replicate + Comparison\n",
      "[1] 70 16\n"
     ]
    },
    {
     "name": "stderr",
     "output_type": "stream",
     "text": [
      "estimating size factors\n",
      "\n",
      "estimating dispersions\n",
      "\n",
      "gene-wise dispersion estimates: 10 workers\n",
      "\n",
      "mean-dispersion relationship\n",
      "\n",
      "final dispersion estimates, fitting model and testing: 10 workers\n",
      "\n",
      "-- replacing outliers and refitting for 198 genes\n",
      "-- DESeq argument 'minReplicatesForReplace' = 7 \n",
      "-- original counts are preserved in counts(dds)\n",
      "\n",
      "estimating dispersions\n",
      "\n",
      "fitting model and testing\n",
      "\n"
     ]
    },
    {
     "name": "stdout",
     "output_type": "stream",
     "text": [
      "\n",
      "out of 12333 with nonzero total read count\n",
      "adjusted p-value < 0.1\n",
      "LFC > 0 (up)       : 3176, 26%\n",
      "LFC < 0 (down)     : 3948, 32%\n",
      "outliers [1]       : 185, 1.5%\n",
      "low counts [2]     : 240, 1.9%\n",
      "(mean count < 0)\n",
      "[1] see 'cooksCutoff' argument of ?results\n",
      "[2] see 'independentFiltering' argument of ?results\n",
      "\n",
      "NULL\n",
      "[1] \"cul\"\n",
      "[1] \"N rep 9\"\n",
      "~Replicate + Comparison\n",
      "[1] 70 16\n"
     ]
    },
    {
     "name": "stderr",
     "output_type": "stream",
     "text": [
      "estimating size factors\n",
      "\n",
      "estimating dispersions\n",
      "\n",
      "gene-wise dispersion estimates: 10 workers\n",
      "\n",
      "mean-dispersion relationship\n",
      "\n",
      "final dispersion estimates, fitting model and testing: 10 workers\n",
      "\n",
      "-- replacing outliers and refitting for 147 genes\n",
      "-- DESeq argument 'minReplicatesForReplace' = 7 \n",
      "-- original counts are preserved in counts(dds)\n",
      "\n",
      "estimating dispersions\n",
      "\n",
      "fitting model and testing\n",
      "\n"
     ]
    },
    {
     "name": "stdout",
     "output_type": "stream",
     "text": [
      "\n",
      "out of 12333 with nonzero total read count\n",
      "adjusted p-value < 0.1\n",
      "LFC > 0 (up)       : 3983, 32%\n",
      "LFC < 0 (down)     : 4394, 36%\n",
      "outliers [1]       : 125, 1%\n",
      "low counts [2]     : 479, 3.9%\n",
      "(mean count < 0)\n",
      "[1] see 'cooksCutoff' argument of ?results\n",
      "[2] see 'independentFiltering' argument of ?results\n",
      "\n",
      "NULL\n",
      "[1] \"FB\"\n",
      "[1] \"N rep 9\"\n",
      "~Replicate + Comparison\n",
      "[1] 70 16\n"
     ]
    },
    {
     "name": "stderr",
     "output_type": "stream",
     "text": [
      "estimating size factors\n",
      "\n",
      "estimating dispersions\n",
      "\n",
      "gene-wise dispersion estimates: 10 workers\n",
      "\n",
      "mean-dispersion relationship\n",
      "\n",
      "final dispersion estimates, fitting model and testing: 10 workers\n",
      "\n",
      "-- replacing outliers and refitting for 329 genes\n",
      "-- DESeq argument 'minReplicatesForReplace' = 7 \n",
      "-- original counts are preserved in counts(dds)\n",
      "\n",
      "estimating dispersions\n",
      "\n",
      "fitting model and testing\n",
      "\n"
     ]
    },
    {
     "name": "stdout",
     "output_type": "stream",
     "text": [
      "\n",
      "out of 12333 with nonzero total read count\n",
      "adjusted p-value < 0.1\n",
      "LFC > 0 (up)       : 2366, 19%\n",
      "LFC < 0 (down)     : 3551, 29%\n",
      "outliers [1]       : 307, 2.5%\n",
      "low counts [2]     : 240, 1.9%\n",
      "(mean count < 0)\n",
      "[1] see 'cooksCutoff' argument of ?results\n",
      "[2] see 'independentFiltering' argument of ?results\n",
      "\n",
      "NULL\n",
      "[1] \"yem\"\n"
     ]
    }
   ],
   "source": [
    "#*** Find stage specific genes 1 vs all adjusting for replicates (Do in WT or all)\n",
    "#Uses only replicates present in both stage and rest group\n",
    "# For stage A use timepoints with phenotypes A and A/B for test and everything without A as control (B, B/C)\n",
    "\n",
    "\n",
    "#Use replicate as confounder - if FALSE use all data (not only those reps that in stage of interest and in other)\n",
    "adjust_rep=TRUE\n",
    "#WT or all - also change the path for saving below\n",
    "#conditions_test=conditions\n",
    "conditions_test=conditions[conditions$Group=='WT',]\n",
    "#path_save='/home/khrovatin/timeTrajectoriesNet/data/deTime/stage_vs_other/nobatchrep/'\n",
    "path_save='/home/khrovatin/timeTrajectoriesNet/data/deTime/stage_vs_other/WT_batchrep/'\n",
    "\n",
    "conditions_test=conditions_test[rowSums(conditions_test[, PHENOTYPES_ORDERED])>0, ]\n",
    "for (stage in STAGES){\n",
    "  print(stage)\n",
    "  if (sum(conditions_test[stage])>0){\n",
    "    test<-conditions_test[conditions_test[stage]==1,]\n",
    "    #Select only measurments where 'stage' is the only phenotype e.g. test only A (not A/B)\n",
    "    #single_stage1<-rowSums(test[,STAGES])==1\n",
    "    #test<-test[single_stage1,]\n",
    "    control<-conditions_test[conditions_test[stage]!=1,]\n",
    "    if (adjust_rep){\n",
    "      replicates<-intersect(control$Replicate,test$Replicate)\n",
    "      print(paste('N rep',length(unique(replicates))))\n",
    "      test<-test[test$Replicate %in% replicates,]\n",
    "      control<-control[control$Replicate %in% replicates,]\n",
    "    }\n",
    "    test$Comparison<-rep(stage,dim(test)[1])\n",
    "    control$Comparison<-rep('other',dim(control)[1])\n",
    "    conditions_sub<-rbind(test,control)\n",
    "    genes_sub<-genes[,rownames(conditions_sub)]\n",
    "    design_formula=~Replicate+Comparison\n",
    "    if (!adjust_rep) design_formula=~Comparison\n",
    "    print(design_formula)\n",
    "    print(dim(conditions_sub))\n",
    "    res<-runDeSeq2(conditions_sub,genes_sub,case=stage,control='other',design=design_formula,main_lvl='Comparison',\n",
    "                   padj=NULL, logFC=NULL,\n",
    "                   path=path_save, save_dds_path=path_save)\n",
    "  } \n",
    "} \n"
   ]
  },
  {
   "cell_type": "code",
   "execution_count": 10,
   "metadata": {},
   "outputs": [],
   "source": [
    "#TODO\n",
    "#The code for individual strains -combining pvals got deleated. See explanations for how it was done."
   ]
  }
 ],
 "metadata": {
  "kernelspec": {
   "display_name": "R",
   "language": "R",
   "name": "ir"
  },
  "language_info": {
   "codemirror_mode": "r",
   "file_extension": ".r",
   "mimetype": "text/x-r-source",
   "name": "R",
   "pygments_lexer": "r",
   "version": "3.6.1"
  }
 },
 "nbformat": 4,
 "nbformat_minor": 4
}
