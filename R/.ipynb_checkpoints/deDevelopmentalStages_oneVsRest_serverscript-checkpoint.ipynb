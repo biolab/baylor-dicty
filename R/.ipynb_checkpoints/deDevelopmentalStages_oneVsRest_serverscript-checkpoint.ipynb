{
 "cells": [
  {
   "cell_type": "code",
   "execution_count": 2,
   "metadata": {},
   "outputs": [],
   "source": [
    "dataPath='/home/khrovatin/timeTrajectoriesNet/data/counts/'\n",
    "dataPathNormalised='/home/khrovatin/timeTrajectoriesNet/data/RPKUM/'\n",
    "dataPathCode='/home/khrovatin/git/baylor-dicty/R/'"
   ]
  },
  {
   "cell_type": "code",
   "execution_count": null,
   "metadata": {},
   "outputs": [],
   "source": [
    "library(\"DESeq2\")\n",
    "library('dplyr')\n",
    "source(paste(dataPathCode,'libraryDE.R',sep=''))\n",
    "\n",
    "library(\"BiocParallel\")\n",
    "register(MulticoreParam(10))\n"
   ]
  },
  {
   "cell_type": "code",
   "execution_count": 5,
   "metadata": {},
   "outputs": [],
   "source": [
    "#Load data counts\n",
    "genes<-read.table(paste(dataPath,\"mergedGenes_counts.tsv\",sep=''), header=TRUE,row.names=1, sep=\"\\t\")\n",
    "conditions<-read.table(paste(dataPathNormalised,\"conditions_mergedGenes.tsv\",sep=''), header=TRUE,row.names='Measurment', sep=\"\\t\")\n",
    "#R imported colnames of genes with changes but gene IDs remained ok\n",
    "rownames(conditions)<-make.names(rownames(conditions))\n",
    "\n",
    "STAGES<-c('no_agg','stream','lag','tag','tip','slug','mhat','cul','FB','yem')\n",
    "PHENOTYPES_ORDERED=c('no_agg', 'stream', 'lag', 'tag', 'tip', 'slug', 'mhat', 'cul', 'FB','yem')\n",
    "PHENOTYPES_X=data.frame(Phenotype=PHENOTYPES_ORDERED,X=c(1:length(PHENOTYPES_ORDERED)))"
   ]
  },
  {
   "cell_type": "code",
   "execution_count": null,
   "metadata": {},
   "outputs": [
    {
     "name": "stdout",
     "output_type": "stream",
     "text": [
      "[1] \"no_agg\"\n",
      "~Comparison\n",
      "[1] 356  16\n"
     ]
    },
    {
     "name": "stderr",
     "output_type": "stream",
     "text": [
      "estimating size factors\n",
      "\n",
      "estimating dispersions\n",
      "\n",
      "gene-wise dispersion estimates: 10 workers\n",
      "\n",
      "mean-dispersion relationship\n",
      "\n",
      "final dispersion estimates, fitting model and testing: 10 workers\n",
      "\n",
      "-- replacing outliers and refitting for 488 genes\n",
      "-- DESeq argument 'minReplicatesForReplace' = 7 \n",
      "-- original counts are preserved in counts(dds)\n",
      "\n",
      "estimating dispersions\n",
      "\n",
      "fitting model and testing\n",
      "\n"
     ]
    },
    {
     "name": "stdout",
     "output_type": "stream",
     "text": [
      "\n",
      "out of 12453 with nonzero total read count\n",
      "adjusted p-value < 0.1\n",
      "LFC > 0 (up)       : 4771, 38%\n",
      "LFC < 0 (down)     : 5550, 45%\n",
      "outliers [1]       : 0, 0%\n",
      "low counts [2]     : 0, 0%\n",
      "(mean count < 0)\n",
      "[1] see 'cooksCutoff' argument of ?results\n",
      "[2] see 'independentFiltering' argument of ?results\n",
      "\n",
      "NULL\n",
      "[1] \"stream\"\n",
      "~Comparison\n",
      "[1] 356  16\n"
     ]
    },
    {
     "name": "stderr",
     "output_type": "stream",
     "text": [
      "estimating size factors\n",
      "\n",
      "estimating dispersions\n",
      "\n",
      "gene-wise dispersion estimates: 10 workers\n",
      "\n",
      "mean-dispersion relationship\n",
      "\n",
      "final dispersion estimates, fitting model and testing: 10 workers\n",
      "\n",
      "-- replacing outliers and refitting for 796 genes\n",
      "-- DESeq argument 'minReplicatesForReplace' = 7 \n",
      "-- original counts are preserved in counts(dds)\n",
      "\n",
      "estimating dispersions\n",
      "\n",
      "fitting model and testing\n",
      "\n"
     ]
    }
   ],
   "source": [
    "#*** Find stage specific genes 1 vs all adjusting for replicates (Do in WT or all)\n",
    "#Uses only replicates present in both stage and rest group\n",
    "# For stage A use timepoints with phenotypes A and A/B for test and everything without A as control (B, B/C)\n",
    "\n",
    "\n",
    "#Use replicate as confounder - if FALSE use all data (not only those reps that in stage of interest and in other)\n",
    "adjust_rep=FALSE\n",
    "#WT or all - also change the path for saving below\n",
    "conditions_test=conditions\n",
    "#conditions_test=conditions[conditions$Group=='WT',]\n",
    "conditions_test=conditions_test[rowSums(conditions_test[, PHENOTYPES_ORDERED])>0, ]\n",
    "for (stage in STAGES){\n",
    "  print(stage)\n",
    "  if (sum(conditions_test[stage])>0){\n",
    "    test<-conditions_test[conditions_test[stage]==1,]\n",
    "    #Select only measurments where 'stage' is the only phenotype e.g. test only A (not A/B)\n",
    "    #single_stage1<-rowSums(test[,STAGES])==1\n",
    "    #test<-test[single_stage1,]\n",
    "    control<-conditions_test[conditions_test[stage]!=1,]\n",
    "    if (adjust_rep){\n",
    "      replicates<-intersect(control$Replicate,test$Replicate)\n",
    "      print(paste('N rep',length(unique(replicates))))\n",
    "      test<-test[test$Replicate %in% replicates,]\n",
    "      control<-control[control$Replicate %in% replicates,]\n",
    "    }\n",
    "    test$Comparison<-rep(stage,dim(test)[1])\n",
    "    control$Comparison<-rep('other',dim(control)[1])\n",
    "    conditions_sub<-rbind(test,control)\n",
    "    genes_sub<-genes[,rownames(conditions_sub)]\n",
    "    design_formula=~Replicate+Comparison\n",
    "    if (!adjust_rep) design_formula=~Comparison\n",
    "    print(design_formula)\n",
    "    print(dim(conditions_sub))\n",
    "    res<-runDeSeq2(conditions_sub,genes_sub,case=stage,control='other',design=design_formula,main_lvl='Comparison',padj=0.05,logFC=1,\n",
    "                   path='/home/khrovatin/timeTrajectoriesNet/data/deTime/stage_vs_other/nobatchrep/')\n",
    "  } \n",
    "} \n"
   ]
  },
  {
   "cell_type": "code",
   "execution_count": null,
   "metadata": {},
   "outputs": [],
   "source": []
  }
 ],
 "metadata": {
  "kernelspec": {
   "display_name": "R",
   "language": "R",
   "name": "ir"
  },
  "language_info": {
   "codemirror_mode": "r",
   "file_extension": ".r",
   "mimetype": "text/x-r-source",
   "name": "R",
   "pygments_lexer": "r",
   "version": "3.6.1"
  }
 },
 "nbformat": 4,
 "nbformat_minor": 4
}
