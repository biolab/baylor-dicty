{
 "cells": [
  {
   "cell_type": "code",
   "execution_count": 58,
   "metadata": {},
   "outputs": [],
   "source": [
    "import os\n",
    "import sys\n",
    "from importlib import reload\n",
    "\n",
    "module_path = os.path.abspath(os.path.join('..'))\n",
    "if module_path not in sys.path:\n",
    "    sys.path.insert(0,module_path)\n",
    "\n",
    "import pandas as pd\n",
    "import numpy as np\n",
    "from sklearn.metrics import precision_recall_fscore_support,roc_auc_score,auc,roc_curve, precision_recall_curve\n",
    "from sklearn.model_selection import StratifiedKFold\n",
    "import sklearn.preprocessing as pp\n",
    "#alt.renderers.enable('notebook')\n",
    "from IPython.display import display\n",
    "from mord import LogisticAT\n",
    "\n",
    "import stages_DE.stages_library\n",
    "import importlib\n",
    "importlib.reload(stages_DE.stages_library)\n",
    "\n",
    "from networks.functionsDENet import loadPickle,savePickle\n",
    "from stages_DE.stages_library import PHENOTYPES, PHENOTYPES_X, summary_classification, summary_classification_print_sort, scatter_catgory\n"
   ]
  },
  {
   "cell_type": "code",
   "execution_count": 5,
   "metadata": {},
   "outputs": [],
   "source": [
    "proteus=True\n",
    "if proteus:\n",
    "    pathClassification = '/home/khrovatin/timeTrajectoriesNet/data/stages/classification/'\n",
    "    dataPath= '/home/khrovatin/timeTrajectoriesNet/data/RPKUM/'\n",
    "else:\n",
    "    pathClassification = '/home/karin/Documents/timeTrajectories/data/stages/classification/'"
   ]
  },
  {
   "cell_type": "code",
   "execution_count": 6,
   "metadata": {},
   "outputs": [],
   "source": [
    "genes = pd.read_csv(dataPath + 'mergedGenes_RPKUM.tsv', sep='\\t', index_col=0)\n",
    "conditions = pd.read_csv(dataPath + 'conditions_mergedGenes.tsv', sep='\\t', index_col=None)\n",
    "\n",
    "# Retain only samples with annotations\n",
    "Y = conditions[(conditions[PHENOTYPES] != 0).any(axis=1)]\n",
    "X = genes[Y.Measurment].T.values\n",
    "\n",
    "# Remove targets with too little positive samples\n",
    "order=PHENOTYPES.copy()\n",
    "order.remove('tag_spore')\n",
    "Y = Y[order].values\n",
    "\n",
    "# Remove constant features\n",
    "X=X[:,(X.std(axis=0)!=0)]"
   ]
  },
  {
   "cell_type": "code",
   "execution_count": 27,
   "metadata": {},
   "outputs": [],
   "source": [
    "# Transform multi-target data into single target data\n",
    "# (assign sample to each Y that it has annotated - some samples will be repeated)\n",
    "# Transform Y form multi target with labels {0,1} to single target with labels 1...N (ordered ints)\n",
    "X_transformed=[]\n",
    "Y_transformed=[]\n",
    "for idx_sample in range(Y.shape[0]):\n",
    "    y=Y[idx_sample,:]\n",
    "    x=X[idx_sample,:]\n",
    "    for idx_phenotype,phenotype in enumerate(order):\n",
    "        if y[idx_phenotype] ==1:\n",
    "            Y_transformed.append(PHENOTYPES_X[phenotype])\n",
    "            X_transformed.append(x)\n",
    "X_transformed=np.array(X_transformed)\n",
    "Y_transformed=np.array(Y_transformed)"
   ]
  },
  {
   "cell_type": "code",
   "execution_count": 85,
   "metadata": {},
   "outputs": [
    {
     "name": "stdout",
     "output_type": "stream",
     "text": [
      "1\n",
      "2\n",
      "3\n",
      "4\n",
      "5\n"
     ]
    }
   ],
   "source": [
    "prfs_all=pd.DataFrame()\n",
    "rac_all=pd.DataFrame()\n",
    "feats_all=pd.DataFrame()\n",
    "\n",
    "X_model=X_transformed.copy()\n",
    "Y_model=Y_transformed.copy()\n",
    "order_model=order.copy()\n",
    "\n",
    "split = StratifiedKFold(n_splits=5)\n",
    "fold=0\n",
    "                \n",
    "# Cross validation\n",
    "for train_index, test_index in split.split(X_model, Y_model):\n",
    "    fold += 1\n",
    "    print(fold)\n",
    "    scaler = pp.MinMaxScaler()\n",
    "    #Scale X features to [0,1], use X_train_fold scaller to also scale X_test_fold\n",
    "    X_train_fold, X_test_fold = X_model[train_index], X_model[test_index]\n",
    "    Y_train_fold, Y_test_fold = Y_model[train_index], Y_model[test_index]\n",
    "    X_train_fold=scaler.fit_transform(X_train_fold)\n",
    "    X_test_fold=scaler.transform(X_test_fold)\n",
    "    \n",
    "    classifier=LogisticAT().fit(X_train_fold,Y_train_fold)\n",
    "    \n",
    "    # Quality metrics for the model\n",
    "    Y_predict_fold = classifier.predict(X_test_fold)\n",
    "    Y_p_fold = classifier.predict_proba(X_test_fold)\n",
    "\n",
    "    prfs=pd.DataFrame(precision_recall_fscore_support(Y_test_fold, Y_predict_fold),index=['precision','recall','F_score','support']).T\n",
    "    prfs['Group']=order_model\n",
    "    prfs_all=prfs_all.append(prfs)\n",
    "    prfs=list(precision_recall_fscore_support(Y_test_fold, Y_predict_fold, average='micro'))\n",
    "    prfs.extend(['micro'])\n",
    "    prfs=dict(zip(['precision','recall','F_score','support','Group'],prfs))\n",
    "    prfs_all = prfs_all.append( prfs,ignore_index=True)\n",
    "    prfs=list(precision_recall_fscore_support(Y_test_fold, Y_predict_fold, average='macro'))\n",
    "    prfs.extend(['macro'])\n",
    "    prfs=dict(zip(['precision','recall','F_score','support','Group'],prfs))\n",
    "    prfs_all = prfs_all.append( prfs,ignore_index=True)\n",
    "\n",
    "    rac=dict(zip(['roc_auc','Group'],[roc_auc_score(Y_test_fold, Y_p_fold,multi_class='ovr',average='weighted'),'weighted_ovr']))\n",
    "    rac_all=rac_all.append(rac,ignore_index=True)\n",
    "    rac=dict(zip(['roc_auc','Group'],[roc_auc_score(Y_test_fold, Y_p_fold,multi_class='ovo', average='macro'),'macro_ovo']))\n",
    "    rac_all=rac_all.append(rac,ignore_index=True)\n",
    "\n",
    "    # N used features in the model\n",
    "    feats= dict(zip(['N_features',  'Group'],[(classifier.coef_ !=0).sum(),  'all']))\n",
    "    feats_all = feats_all.append(feats,ignore_index=True)\n",
    "savePickle(pathClassification+'logisticOrdinalRegression.pkl',{'prfs':prfs_all,'rac':rac_all,'featsN':feats_all})"
   ]
  },
  {
   "cell_type": "code",
   "execution_count": 113,
   "metadata": {},
   "outputs": [],
   "source": [
    "classifier=LogisticAT().fit(X_transformed[9:300,],Y_transformed[9:300])"
   ]
  },
  {
   "cell_type": "code",
   "execution_count": 114,
   "metadata": {},
   "outputs": [
    {
     "data": {
      "text/plain": [
       "array([[1.00000000e+00, 4.44089210e-16, 2.22044605e-16, 0.00000000e+00,\n",
       "        0.00000000e+00, 0.00000000e+00, 0.00000000e+00, 0.00000000e+00,\n",
       "        0.00000000e+00, 0.00000000e+00],\n",
       "       [3.03799769e-03, 5.17714906e-03, 4.94593757e-02, 4.93758076e-01,\n",
       "        4.33887001e-01, 1.45800185e-02, 1.00133626e-04, 2.48618429e-07,\n",
       "        2.26851427e-10, 7.61612995e-14],\n",
       "       [5.23555742e-08, 8.99598296e-08, 9.09251078e-07, 2.00691998e-05,\n",
       "        1.13072092e-03, 1.44979597e-01, 8.39591773e-01, 1.42635805e-02,\n",
       "        1.32032788e-05, 4.43082704e-09],\n",
       "       [4.45320213e-06, 7.65161148e-06, 7.73306455e-05, 1.70385534e-03,\n",
       "        8.75307917e-02, 8.46395084e-01, 6.41105818e-02, 1.70095923e-04,\n",
       "        1.55230148e-07, 5.20923304e-11],\n",
       "       [1.20934978e-07, 2.07796173e-07, 2.10025573e-06, 4.63560557e-05,\n",
       "        2.60782046e-03, 2.80658589e-01, 7.10453604e-01, 6.22548441e-03,\n",
       "        5.71604995e-06, 1.91820826e-09],\n",
       "       [1.20934978e-07, 2.07796173e-07, 2.10025573e-06, 4.63560557e-05,\n",
       "        2.60782046e-03, 2.80658589e-01, 7.10453604e-01, 6.22548441e-03,\n",
       "        5.71604995e-06, 1.91820826e-09],\n",
       "       [6.66387267e-10, 1.14501836e-09, 1.15730566e-08, 2.55448469e-07,\n",
       "        1.44086197e-05, 2.15888131e-03, 4.65570756e-01, 5.31219066e-01,\n",
       "        1.03627067e-03, 3.48113537e-07],\n",
       "       [3.32674747e-08, 5.71617552e-08, 5.77751277e-07, 1.27523572e-05,\n",
       "        7.18783486e-04, 9.73472048e-02, 8.79634674e-01, 2.22651309e-02,\n",
       "        2.07788545e-05, 6.97313229e-09],\n",
       "       [3.32674747e-08, 5.71617552e-08, 5.77751277e-07, 1.27523572e-05,\n",
       "        7.18783486e-04, 9.73472048e-02, 8.79634674e-01, 2.22651309e-02,\n",
       "        2.07788545e-05, 6.97313229e-09]])"
      ]
     },
     "execution_count": 114,
     "metadata": {},
     "output_type": "execute_result"
    }
   ],
   "source": [
    "classifier.predict_proba(X_transformed[:9,])"
   ]
  },
  {
   "cell_type": "code",
   "execution_count": 116,
   "metadata": {},
   "outputs": [
    {
     "data": {
      "text/plain": [
       "array([1, 4, 7, 6, 7, 7, 8, 7, 7])"
      ]
     },
     "execution_count": 116,
     "metadata": {},
     "output_type": "execute_result"
    }
   ],
   "source": [
    "classifier.predict(X_transformed[:9,])"
   ]
  },
  {
   "cell_type": "code",
   "execution_count": 117,
   "metadata": {},
   "outputs": [
    {
     "data": {
      "text/plain": [
       "array([1, 4, 4, 5, 5, 6, 6, 7, 8])"
      ]
     },
     "execution_count": 117,
     "metadata": {},
     "output_type": "execute_result"
    }
   ],
   "source": [
    "Y_transformed[:9]"
   ]
  },
  {
   "cell_type": "code",
   "execution_count": 115,
   "metadata": {},
   "outputs": [
    {
     "data": {
      "text/plain": [
       "array([[1., 0., 0., 0., 0., 0., 0., 0., 0., 0.],\n",
       "       [0., 0., 1., 0., 0., 0., 0., 0., 0., 0.],\n",
       "       [0., 0., 1., 0., 0., 0., 0., 0., 0., 0.],\n",
       "       [0., 0., 0., 1., 0., 0., 0., 0., 0., 0.],\n",
       "       [0., 0., 0., 1., 1., 0., 0., 0., 0., 0.],\n",
       "       [0., 0., 0., 0., 1., 0., 0., 0., 0., 0.],\n",
       "       [0., 0., 0., 0., 0., 1., 1., 0., 0., 0.],\n",
       "       [0., 0., 0., 0., 0., 0., 1., 0., 0., 0.],\n",
       "       [0., 0., 0., 0., 0., 0., 1., 1., 0., 0.]])"
      ]
     },
     "execution_count": 115,
     "metadata": {},
     "output_type": "execute_result"
    }
   ],
   "source": [
    "Y[:9]"
   ]
  },
  {
   "cell_type": "code",
   "execution_count": 86,
   "metadata": {},
   "outputs": [],
   "source": [
    "result=loadPickle(pathClassification+'logisticOrdinalRegression.pkl')"
   ]
  },
  {
   "cell_type": "code",
   "execution_count": 89,
   "metadata": {},
   "outputs": [
    {
     "name": "stdout",
     "output_type": "stream",
     "text": [
      "F score summary for ordinal logistic regression\n",
      "Mean cross validation F score averaged across all phenotypes and standard error\n",
      "macro       0.23  +- 0.03\n",
      "micro       0.35  +- 0.04\n",
      "Mean cross validation F score of individual phenotypes and standard error\n",
      "no_agg      0.65  +- 0.06\n",
      "mhat        0.28  +- 0.08\n",
      "tip         0.27  +- 0.12\n",
      "tag         0.23  +- 0.04\n",
      "lag         0.22  +- 0.03\n",
      "slug        0.16  +- 0.10\n",
      "cul         0.15  +- 0.09\n",
      "FB          0.14  +- 0.10\n",
      "disappear   0.13  +- 0.08\n",
      "stream      0.04  +- 0.04\n",
      "\n",
      "\n"
     ]
    },
    {
     "name": "stderr",
     "output_type": "stream",
     "text": [
      "/home/khrovatin/git/baylor-dicty/stages_DE/stages_library.py:460: SettingWithCopyWarning: \n",
      "A value is trying to be set on a copy of a slice from a DataFrame.\n",
      "Try using .loc[row_indexer,col_indexer] = value instead\n",
      "\n",
      "See the caveats in the documentation: https://pandas.pydata.org/pandas-docs/stable/user_guide/indexing.html#returning-a-view-versus-a-copy\n",
      "  averages_summary['Group']=pd.Categorical(averages_summary['Group'], averages)\n"
     ]
    }
   ],
   "source": [
    "summary=summary_classification(result['prfs'],'F_score',\"Group\",print_df=False)\n",
    "print('F score summary for ordinal logistic regression')\n",
    "summary_classification_print_sort(summary,statistic='F score',averages=['macro','micro'],groups=order)\n",
    "print('\\n')"
   ]
  },
  {
   "cell_type": "code",
   "execution_count": null,
   "metadata": {},
   "outputs": [],
   "source": []
  }
 ],
 "metadata": {
  "kernelspec": {
   "display_name": "Python 3",
   "language": "python",
   "name": "python3"
  },
  "language_info": {
   "codemirror_mode": {
    "name": "ipython",
    "version": 3
   },
   "file_extension": ".py",
   "mimetype": "text/x-python",
   "name": "python",
   "nbconvert_exporter": "python",
   "pygments_lexer": "ipython3",
   "version": "3.7.5"
  }
 },
 "nbformat": 4,
 "nbformat_minor": 4
}
