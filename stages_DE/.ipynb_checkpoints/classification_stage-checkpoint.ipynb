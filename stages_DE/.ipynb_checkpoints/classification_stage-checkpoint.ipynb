{
 "cells": [
  {
   "cell_type": "code",
   "execution_count": 10,
   "metadata": {},
   "outputs": [],
   "source": [
    "import os\n",
    "import sys\n",
    "from importlib import reload\n",
    "\n",
    "module_path = os.path.abspath(os.path.join('..'))\n",
    "if module_path not in sys.path:\n",
    "    sys.path.insert(0,module_path)\n",
    "\n",
    "\n",
    "import pandas as pd\n",
    "import numpy as np\n",
    "from skmultilearn.problem_transform import ClassifierChain\n",
    "from sklearn.linear_model import LogisticRegression\n",
    "from sklearn.metrics import precision_recall_fscore_support,roc_auc_score\n",
    "from skmultilearn.model_selection import IterativeStratification\n",
    "import sklearn.preprocessing as pp\n",
    "import altair as alt\n",
    "alt.renderers.enable('notebook')\n",
    "\n",
    "from networks.functionsDENet import loadPickle\n",
    "from stages_DE.stages_library import PHENOTYPES"
   ]
  },
  {
   "cell_type": "code",
   "execution_count": 2,
   "metadata": {},
   "outputs": [],
   "source": [
    "pathClassification = '/home/karin/Documents/timeTrajectories/data/stages/classification'"
   ]
  },
  {
   "cell_type": "code",
   "execution_count": 5,
   "metadata": {},
   "outputs": [],
   "source": [
    "X_train, Y_train, X_test, Y_test = loadPickle(pathClassification + 'train_test.pkl')\n",
    "order=PHENOTYPES.copy()\n",
    "order.remove('tag_spore')"
   ]
  },
  {
   "cell_type": "code",
   "execution_count": 8,
   "metadata": {},
   "outputs": [
    {
     "name": "stdout",
     "output_type": "stream",
     "text": [
      "1\n",
      "0.9\n"
     ]
    },
    {
     "name": "stderr",
     "output_type": "stream",
     "text": [
      "/home/karin/Documents/git/orange3venv/lib/python3.6/site-packages/sklearn/linear_model/_sag.py:330: ConvergenceWarning: The max_iter was reached which means the coef_ did not converge\n",
      "  \"the coef_ did not converge\", ConvergenceWarning)\n",
      "/home/karin/Documents/git/orange3venv/lib/python3.6/site-packages/sklearn/linear_model/_sag.py:330: ConvergenceWarning: The max_iter was reached which means the coef_ did not converge\n",
      "  \"the coef_ did not converge\", ConvergenceWarning)\n",
      "/home/karin/Documents/git/orange3venv/lib/python3.6/site-packages/sklearn/linear_model/_sag.py:330: ConvergenceWarning: The max_iter was reached which means the coef_ did not converge\n",
      "  \"the coef_ did not converge\", ConvergenceWarning)\n",
      "/home/karin/Documents/git/orange3venv/lib/python3.6/site-packages/sklearn/linear_model/_sag.py:330: ConvergenceWarning: The max_iter was reached which means the coef_ did not converge\n",
      "  \"the coef_ did not converge\", ConvergenceWarning)\n",
      "/home/karin/Documents/git/orange3venv/lib/python3.6/site-packages/sklearn/linear_model/_sag.py:330: ConvergenceWarning: The max_iter was reached which means the coef_ did not converge\n",
      "  \"the coef_ did not converge\", ConvergenceWarning)\n",
      "/home/karin/Documents/git/orange3venv/lib/python3.6/site-packages/sklearn/linear_model/_sag.py:330: ConvergenceWarning: The max_iter was reached which means the coef_ did not converge\n",
      "  \"the coef_ did not converge\", ConvergenceWarning)\n",
      "/home/karin/Documents/git/orange3venv/lib/python3.6/site-packages/sklearn/linear_model/_sag.py:330: ConvergenceWarning: The max_iter was reached which means the coef_ did not converge\n",
      "  \"the coef_ did not converge\", ConvergenceWarning)\n",
      "/home/karin/Documents/git/orange3venv/lib/python3.6/site-packages/sklearn/linear_model/_sag.py:330: ConvergenceWarning: The max_iter was reached which means the coef_ did not converge\n",
      "  \"the coef_ did not converge\", ConvergenceWarning)\n",
      "/home/karin/Documents/git/orange3venv/lib/python3.6/site-packages/sklearn/linear_model/_sag.py:330: ConvergenceWarning: The max_iter was reached which means the coef_ did not converge\n",
      "  \"the coef_ did not converge\", ConvergenceWarning)\n",
      "/home/karin/Documents/git/orange3venv/lib/python3.6/site-packages/sklearn/linear_model/_sag.py:330: ConvergenceWarning: The max_iter was reached which means the coef_ did not converge\n",
      "  \"the coef_ did not converge\", ConvergenceWarning)\n",
      "/home/karin/Documents/git/orange3venv/lib/python3.6/site-packages/sklearn/metrics/_classification.py:1272: UndefinedMetricWarning: Precision and F-score are ill-defined and being set to 0.0 in labels with no predicted samples. Use `zero_division` parameter to control this behavior.\n",
      "  _warn_prf(average, modifier, msg_start, len(result))\n"
     ]
    },
    {
     "name": "stdout",
     "output_type": "stream",
     "text": [
      "0.7\n"
     ]
    },
    {
     "name": "stderr",
     "output_type": "stream",
     "text": [
      "/home/karin/Documents/git/orange3venv/lib/python3.6/site-packages/sklearn/linear_model/_sag.py:330: ConvergenceWarning: The max_iter was reached which means the coef_ did not converge\n",
      "  \"the coef_ did not converge\", ConvergenceWarning)\n",
      "/home/karin/Documents/git/orange3venv/lib/python3.6/site-packages/sklearn/linear_model/_sag.py:330: ConvergenceWarning: The max_iter was reached which means the coef_ did not converge\n",
      "  \"the coef_ did not converge\", ConvergenceWarning)\n",
      "/home/karin/Documents/git/orange3venv/lib/python3.6/site-packages/sklearn/linear_model/_sag.py:330: ConvergenceWarning: The max_iter was reached which means the coef_ did not converge\n",
      "  \"the coef_ did not converge\", ConvergenceWarning)\n",
      "/home/karin/Documents/git/orange3venv/lib/python3.6/site-packages/sklearn/linear_model/_sag.py:330: ConvergenceWarning: The max_iter was reached which means the coef_ did not converge\n",
      "  \"the coef_ did not converge\", ConvergenceWarning)\n",
      "/home/karin/Documents/git/orange3venv/lib/python3.6/site-packages/sklearn/linear_model/_sag.py:330: ConvergenceWarning: The max_iter was reached which means the coef_ did not converge\n",
      "  \"the coef_ did not converge\", ConvergenceWarning)\n",
      "/home/karin/Documents/git/orange3venv/lib/python3.6/site-packages/sklearn/linear_model/_sag.py:330: ConvergenceWarning: The max_iter was reached which means the coef_ did not converge\n",
      "  \"the coef_ did not converge\", ConvergenceWarning)\n",
      "/home/karin/Documents/git/orange3venv/lib/python3.6/site-packages/sklearn/linear_model/_sag.py:330: ConvergenceWarning: The max_iter was reached which means the coef_ did not converge\n",
      "  \"the coef_ did not converge\", ConvergenceWarning)\n",
      "/home/karin/Documents/git/orange3venv/lib/python3.6/site-packages/sklearn/linear_model/_sag.py:330: ConvergenceWarning: The max_iter was reached which means the coef_ did not converge\n",
      "  \"the coef_ did not converge\", ConvergenceWarning)\n",
      "/home/karin/Documents/git/orange3venv/lib/python3.6/site-packages/sklearn/linear_model/_sag.py:330: ConvergenceWarning: The max_iter was reached which means the coef_ did not converge\n",
      "  \"the coef_ did not converge\", ConvergenceWarning)\n",
      "/home/karin/Documents/git/orange3venv/lib/python3.6/site-packages/sklearn/linear_model/_sag.py:330: ConvergenceWarning: The max_iter was reached which means the coef_ did not converge\n",
      "  \"the coef_ did not converge\", ConvergenceWarning)\n",
      "/home/karin/Documents/git/orange3venv/lib/python3.6/site-packages/sklearn/metrics/_classification.py:1272: UndefinedMetricWarning: Precision and F-score are ill-defined and being set to 0.0 in labels with no predicted samples. Use `zero_division` parameter to control this behavior.\n",
      "  _warn_prf(average, modifier, msg_start, len(result))\n"
     ]
    },
    {
     "name": "stdout",
     "output_type": "stream",
     "text": [
      "0.5\n"
     ]
    },
    {
     "name": "stderr",
     "output_type": "stream",
     "text": [
      "/home/karin/Documents/git/orange3venv/lib/python3.6/site-packages/sklearn/linear_model/_sag.py:330: ConvergenceWarning: The max_iter was reached which means the coef_ did not converge\n",
      "  \"the coef_ did not converge\", ConvergenceWarning)\n",
      "/home/karin/Documents/git/orange3venv/lib/python3.6/site-packages/sklearn/linear_model/_sag.py:330: ConvergenceWarning: The max_iter was reached which means the coef_ did not converge\n",
      "  \"the coef_ did not converge\", ConvergenceWarning)\n",
      "/home/karin/Documents/git/orange3venv/lib/python3.6/site-packages/sklearn/linear_model/_sag.py:330: ConvergenceWarning: The max_iter was reached which means the coef_ did not converge\n",
      "  \"the coef_ did not converge\", ConvergenceWarning)\n",
      "/home/karin/Documents/git/orange3venv/lib/python3.6/site-packages/sklearn/linear_model/_sag.py:330: ConvergenceWarning: The max_iter was reached which means the coef_ did not converge\n",
      "  \"the coef_ did not converge\", ConvergenceWarning)\n",
      "/home/karin/Documents/git/orange3venv/lib/python3.6/site-packages/sklearn/linear_model/_sag.py:330: ConvergenceWarning: The max_iter was reached which means the coef_ did not converge\n",
      "  \"the coef_ did not converge\", ConvergenceWarning)\n",
      "/home/karin/Documents/git/orange3venv/lib/python3.6/site-packages/sklearn/linear_model/_sag.py:330: ConvergenceWarning: The max_iter was reached which means the coef_ did not converge\n",
      "  \"the coef_ did not converge\", ConvergenceWarning)\n",
      "/home/karin/Documents/git/orange3venv/lib/python3.6/site-packages/sklearn/linear_model/_sag.py:330: ConvergenceWarning: The max_iter was reached which means the coef_ did not converge\n",
      "  \"the coef_ did not converge\", ConvergenceWarning)\n",
      "/home/karin/Documents/git/orange3venv/lib/python3.6/site-packages/sklearn/linear_model/_sag.py:330: ConvergenceWarning: The max_iter was reached which means the coef_ did not converge\n",
      "  \"the coef_ did not converge\", ConvergenceWarning)\n",
      "/home/karin/Documents/git/orange3venv/lib/python3.6/site-packages/sklearn/linear_model/_sag.py:330: ConvergenceWarning: The max_iter was reached which means the coef_ did not converge\n",
      "  \"the coef_ did not converge\", ConvergenceWarning)\n",
      "/home/karin/Documents/git/orange3venv/lib/python3.6/site-packages/sklearn/linear_model/_sag.py:330: ConvergenceWarning: The max_iter was reached which means the coef_ did not converge\n",
      "  \"the coef_ did not converge\", ConvergenceWarning)\n",
      "/home/karin/Documents/git/orange3venv/lib/python3.6/site-packages/sklearn/metrics/_classification.py:1272: UndefinedMetricWarning: Precision and F-score are ill-defined and being set to 0.0 in labels with no predicted samples. Use `zero_division` parameter to control this behavior.\n",
      "  _warn_prf(average, modifier, msg_start, len(result))\n"
     ]
    },
    {
     "name": "stdout",
     "output_type": "stream",
     "text": [
      "0.3\n"
     ]
    },
    {
     "name": "stderr",
     "output_type": "stream",
     "text": [
      "/home/karin/Documents/git/orange3venv/lib/python3.6/site-packages/sklearn/linear_model/_sag.py:330: ConvergenceWarning: The max_iter was reached which means the coef_ did not converge\n",
      "  \"the coef_ did not converge\", ConvergenceWarning)\n",
      "/home/karin/Documents/git/orange3venv/lib/python3.6/site-packages/sklearn/linear_model/_sag.py:330: ConvergenceWarning: The max_iter was reached which means the coef_ did not converge\n",
      "  \"the coef_ did not converge\", ConvergenceWarning)\n",
      "/home/karin/Documents/git/orange3venv/lib/python3.6/site-packages/sklearn/linear_model/_sag.py:330: ConvergenceWarning: The max_iter was reached which means the coef_ did not converge\n",
      "  \"the coef_ did not converge\", ConvergenceWarning)\n",
      "/home/karin/Documents/git/orange3venv/lib/python3.6/site-packages/sklearn/linear_model/_sag.py:330: ConvergenceWarning: The max_iter was reached which means the coef_ did not converge\n",
      "  \"the coef_ did not converge\", ConvergenceWarning)\n",
      "/home/karin/Documents/git/orange3venv/lib/python3.6/site-packages/sklearn/linear_model/_sag.py:330: ConvergenceWarning: The max_iter was reached which means the coef_ did not converge\n",
      "  \"the coef_ did not converge\", ConvergenceWarning)\n",
      "/home/karin/Documents/git/orange3venv/lib/python3.6/site-packages/sklearn/linear_model/_sag.py:330: ConvergenceWarning: The max_iter was reached which means the coef_ did not converge\n",
      "  \"the coef_ did not converge\", ConvergenceWarning)\n",
      "/home/karin/Documents/git/orange3venv/lib/python3.6/site-packages/sklearn/linear_model/_sag.py:330: ConvergenceWarning: The max_iter was reached which means the coef_ did not converge\n",
      "  \"the coef_ did not converge\", ConvergenceWarning)\n",
      "/home/karin/Documents/git/orange3venv/lib/python3.6/site-packages/sklearn/linear_model/_sag.py:330: ConvergenceWarning: The max_iter was reached which means the coef_ did not converge\n",
      "  \"the coef_ did not converge\", ConvergenceWarning)\n",
      "/home/karin/Documents/git/orange3venv/lib/python3.6/site-packages/sklearn/linear_model/_sag.py:330: ConvergenceWarning: The max_iter was reached which means the coef_ did not converge\n",
      "  \"the coef_ did not converge\", ConvergenceWarning)\n",
      "/home/karin/Documents/git/orange3venv/lib/python3.6/site-packages/sklearn/linear_model/_sag.py:330: ConvergenceWarning: The max_iter was reached which means the coef_ did not converge\n",
      "  \"the coef_ did not converge\", ConvergenceWarning)\n",
      "/home/karin/Documents/git/orange3venv/lib/python3.6/site-packages/sklearn/metrics/_classification.py:1272: UndefinedMetricWarning: Precision and F-score are ill-defined and being set to 0.0 in labels with no predicted samples. Use `zero_division` parameter to control this behavior.\n",
      "  _warn_prf(average, modifier, msg_start, len(result))\n"
     ]
    },
    {
     "name": "stdout",
     "output_type": "stream",
     "text": [
      "0.2\n"
     ]
    },
    {
     "name": "stderr",
     "output_type": "stream",
     "text": [
      "/home/karin/Documents/git/orange3venv/lib/python3.6/site-packages/sklearn/linear_model/_sag.py:330: ConvergenceWarning: The max_iter was reached which means the coef_ did not converge\n",
      "  \"the coef_ did not converge\", ConvergenceWarning)\n",
      "/home/karin/Documents/git/orange3venv/lib/python3.6/site-packages/sklearn/linear_model/_sag.py:330: ConvergenceWarning: The max_iter was reached which means the coef_ did not converge\n",
      "  \"the coef_ did not converge\", ConvergenceWarning)\n",
      "/home/karin/Documents/git/orange3venv/lib/python3.6/site-packages/sklearn/linear_model/_sag.py:330: ConvergenceWarning: The max_iter was reached which means the coef_ did not converge\n",
      "  \"the coef_ did not converge\", ConvergenceWarning)\n",
      "/home/karin/Documents/git/orange3venv/lib/python3.6/site-packages/sklearn/linear_model/_sag.py:330: ConvergenceWarning: The max_iter was reached which means the coef_ did not converge\n",
      "  \"the coef_ did not converge\", ConvergenceWarning)\n",
      "/home/karin/Documents/git/orange3venv/lib/python3.6/site-packages/sklearn/linear_model/_sag.py:330: ConvergenceWarning: The max_iter was reached which means the coef_ did not converge\n",
      "  \"the coef_ did not converge\", ConvergenceWarning)\n",
      "/home/karin/Documents/git/orange3venv/lib/python3.6/site-packages/sklearn/linear_model/_sag.py:330: ConvergenceWarning: The max_iter was reached which means the coef_ did not converge\n",
      "  \"the coef_ did not converge\", ConvergenceWarning)\n",
      "/home/karin/Documents/git/orange3venv/lib/python3.6/site-packages/sklearn/linear_model/_sag.py:330: ConvergenceWarning: The max_iter was reached which means the coef_ did not converge\n",
      "  \"the coef_ did not converge\", ConvergenceWarning)\n",
      "/home/karin/Documents/git/orange3venv/lib/python3.6/site-packages/sklearn/linear_model/_sag.py:330: ConvergenceWarning: The max_iter was reached which means the coef_ did not converge\n",
      "  \"the coef_ did not converge\", ConvergenceWarning)\n",
      "/home/karin/Documents/git/orange3venv/lib/python3.6/site-packages/sklearn/linear_model/_sag.py:330: ConvergenceWarning: The max_iter was reached which means the coef_ did not converge\n",
      "  \"the coef_ did not converge\", ConvergenceWarning)\n",
      "/home/karin/Documents/git/orange3venv/lib/python3.6/site-packages/sklearn/linear_model/_sag.py:330: ConvergenceWarning: The max_iter was reached which means the coef_ did not converge\n",
      "  \"the coef_ did not converge\", ConvergenceWarning)\n",
      "/home/karin/Documents/git/orange3venv/lib/python3.6/site-packages/sklearn/metrics/_classification.py:1272: UndefinedMetricWarning: Precision and F-score are ill-defined and being set to 0.0 in labels with no predicted samples. Use `zero_division` parameter to control this behavior.\n",
      "  _warn_prf(average, modifier, msg_start, len(result))\n"
     ]
    },
    {
     "name": "stdout",
     "output_type": "stream",
     "text": [
      "0.1\n"
     ]
    },
    {
     "name": "stderr",
     "output_type": "stream",
     "text": [
      "/home/karin/Documents/git/orange3venv/lib/python3.6/site-packages/sklearn/linear_model/_sag.py:330: ConvergenceWarning: The max_iter was reached which means the coef_ did not converge\n",
      "  \"the coef_ did not converge\", ConvergenceWarning)\n",
      "/home/karin/Documents/git/orange3venv/lib/python3.6/site-packages/sklearn/linear_model/_sag.py:330: ConvergenceWarning: The max_iter was reached which means the coef_ did not converge\n",
      "  \"the coef_ did not converge\", ConvergenceWarning)\n",
      "/home/karin/Documents/git/orange3venv/lib/python3.6/site-packages/sklearn/linear_model/_sag.py:330: ConvergenceWarning: The max_iter was reached which means the coef_ did not converge\n",
      "  \"the coef_ did not converge\", ConvergenceWarning)\n",
      "/home/karin/Documents/git/orange3venv/lib/python3.6/site-packages/sklearn/linear_model/_sag.py:330: ConvergenceWarning: The max_iter was reached which means the coef_ did not converge\n",
      "  \"the coef_ did not converge\", ConvergenceWarning)\n",
      "/home/karin/Documents/git/orange3venv/lib/python3.6/site-packages/sklearn/linear_model/_sag.py:330: ConvergenceWarning: The max_iter was reached which means the coef_ did not converge\n",
      "  \"the coef_ did not converge\", ConvergenceWarning)\n",
      "/home/karin/Documents/git/orange3venv/lib/python3.6/site-packages/sklearn/linear_model/_sag.py:330: ConvergenceWarning: The max_iter was reached which means the coef_ did not converge\n",
      "  \"the coef_ did not converge\", ConvergenceWarning)\n",
      "/home/karin/Documents/git/orange3venv/lib/python3.6/site-packages/sklearn/linear_model/_sag.py:330: ConvergenceWarning: The max_iter was reached which means the coef_ did not converge\n",
      "  \"the coef_ did not converge\", ConvergenceWarning)\n",
      "/home/karin/Documents/git/orange3venv/lib/python3.6/site-packages/sklearn/metrics/_classification.py:1272: UndefinedMetricWarning: Precision and F-score are ill-defined and being set to 0.0 in labels with no predicted samples. Use `zero_division` parameter to control this behavior.\n",
      "  _warn_prf(average, modifier, msg_start, len(result))\n"
     ]
    },
    {
     "name": "stdout",
     "output_type": "stream",
     "text": [
      "2\n",
      "0.9\n"
     ]
    },
    {
     "name": "stderr",
     "output_type": "stream",
     "text": [
      "/home/karin/Documents/git/orange3venv/lib/python3.6/site-packages/sklearn/linear_model/_sag.py:330: ConvergenceWarning: The max_iter was reached which means the coef_ did not converge\n",
      "  \"the coef_ did not converge\", ConvergenceWarning)\n",
      "/home/karin/Documents/git/orange3venv/lib/python3.6/site-packages/sklearn/linear_model/_sag.py:330: ConvergenceWarning: The max_iter was reached which means the coef_ did not converge\n",
      "  \"the coef_ did not converge\", ConvergenceWarning)\n",
      "/home/karin/Documents/git/orange3venv/lib/python3.6/site-packages/sklearn/linear_model/_sag.py:330: ConvergenceWarning: The max_iter was reached which means the coef_ did not converge\n",
      "  \"the coef_ did not converge\", ConvergenceWarning)\n",
      "/home/karin/Documents/git/orange3venv/lib/python3.6/site-packages/sklearn/linear_model/_sag.py:330: ConvergenceWarning: The max_iter was reached which means the coef_ did not converge\n",
      "  \"the coef_ did not converge\", ConvergenceWarning)\n",
      "/home/karin/Documents/git/orange3venv/lib/python3.6/site-packages/sklearn/linear_model/_sag.py:330: ConvergenceWarning: The max_iter was reached which means the coef_ did not converge\n",
      "  \"the coef_ did not converge\", ConvergenceWarning)\n",
      "/home/karin/Documents/git/orange3venv/lib/python3.6/site-packages/sklearn/linear_model/_sag.py:330: ConvergenceWarning: The max_iter was reached which means the coef_ did not converge\n",
      "  \"the coef_ did not converge\", ConvergenceWarning)\n",
      "/home/karin/Documents/git/orange3venv/lib/python3.6/site-packages/sklearn/linear_model/_sag.py:330: ConvergenceWarning: The max_iter was reached which means the coef_ did not converge\n",
      "  \"the coef_ did not converge\", ConvergenceWarning)\n",
      "/home/karin/Documents/git/orange3venv/lib/python3.6/site-packages/sklearn/linear_model/_sag.py:330: ConvergenceWarning: The max_iter was reached which means the coef_ did not converge\n",
      "  \"the coef_ did not converge\", ConvergenceWarning)\n",
      "/home/karin/Documents/git/orange3venv/lib/python3.6/site-packages/sklearn/linear_model/_sag.py:330: ConvergenceWarning: The max_iter was reached which means the coef_ did not converge\n",
      "  \"the coef_ did not converge\", ConvergenceWarning)\n",
      "/home/karin/Documents/git/orange3venv/lib/python3.6/site-packages/sklearn/linear_model/_sag.py:330: ConvergenceWarning: The max_iter was reached which means the coef_ did not converge\n",
      "  \"the coef_ did not converge\", ConvergenceWarning)\n"
     ]
    },
    {
     "name": "stdout",
     "output_type": "stream",
     "text": [
      "0.7\n"
     ]
    },
    {
     "name": "stderr",
     "output_type": "stream",
     "text": [
      "/home/karin/Documents/git/orange3venv/lib/python3.6/site-packages/sklearn/linear_model/_sag.py:330: ConvergenceWarning: The max_iter was reached which means the coef_ did not converge\n",
      "  \"the coef_ did not converge\", ConvergenceWarning)\n",
      "/home/karin/Documents/git/orange3venv/lib/python3.6/site-packages/sklearn/linear_model/_sag.py:330: ConvergenceWarning: The max_iter was reached which means the coef_ did not converge\n",
      "  \"the coef_ did not converge\", ConvergenceWarning)\n",
      "/home/karin/Documents/git/orange3venv/lib/python3.6/site-packages/sklearn/linear_model/_sag.py:330: ConvergenceWarning: The max_iter was reached which means the coef_ did not converge\n",
      "  \"the coef_ did not converge\", ConvergenceWarning)\n",
      "/home/karin/Documents/git/orange3venv/lib/python3.6/site-packages/sklearn/linear_model/_sag.py:330: ConvergenceWarning: The max_iter was reached which means the coef_ did not converge\n",
      "  \"the coef_ did not converge\", ConvergenceWarning)\n",
      "/home/karin/Documents/git/orange3venv/lib/python3.6/site-packages/sklearn/linear_model/_sag.py:330: ConvergenceWarning: The max_iter was reached which means the coef_ did not converge\n",
      "  \"the coef_ did not converge\", ConvergenceWarning)\n",
      "/home/karin/Documents/git/orange3venv/lib/python3.6/site-packages/sklearn/linear_model/_sag.py:330: ConvergenceWarning: The max_iter was reached which means the coef_ did not converge\n",
      "  \"the coef_ did not converge\", ConvergenceWarning)\n",
      "/home/karin/Documents/git/orange3venv/lib/python3.6/site-packages/sklearn/linear_model/_sag.py:330: ConvergenceWarning: The max_iter was reached which means the coef_ did not converge\n",
      "  \"the coef_ did not converge\", ConvergenceWarning)\n",
      "/home/karin/Documents/git/orange3venv/lib/python3.6/site-packages/sklearn/linear_model/_sag.py:330: ConvergenceWarning: The max_iter was reached which means the coef_ did not converge\n",
      "  \"the coef_ did not converge\", ConvergenceWarning)\n",
      "/home/karin/Documents/git/orange3venv/lib/python3.6/site-packages/sklearn/linear_model/_sag.py:330: ConvergenceWarning: The max_iter was reached which means the coef_ did not converge\n",
      "  \"the coef_ did not converge\", ConvergenceWarning)\n",
      "/home/karin/Documents/git/orange3venv/lib/python3.6/site-packages/sklearn/linear_model/_sag.py:330: ConvergenceWarning: The max_iter was reached which means the coef_ did not converge\n",
      "  \"the coef_ did not converge\", ConvergenceWarning)\n",
      "/home/karin/Documents/git/orange3venv/lib/python3.6/site-packages/sklearn/metrics/_classification.py:1272: UndefinedMetricWarning: Precision and F-score are ill-defined and being set to 0.0 in labels with no predicted samples. Use `zero_division` parameter to control this behavior.\n",
      "  _warn_prf(average, modifier, msg_start, len(result))\n"
     ]
    },
    {
     "name": "stdout",
     "output_type": "stream",
     "text": [
      "0.5\n"
     ]
    },
    {
     "name": "stderr",
     "output_type": "stream",
     "text": [
      "/home/karin/Documents/git/orange3venv/lib/python3.6/site-packages/sklearn/linear_model/_sag.py:330: ConvergenceWarning: The max_iter was reached which means the coef_ did not converge\n",
      "  \"the coef_ did not converge\", ConvergenceWarning)\n",
      "/home/karin/Documents/git/orange3venv/lib/python3.6/site-packages/sklearn/linear_model/_sag.py:330: ConvergenceWarning: The max_iter was reached which means the coef_ did not converge\n",
      "  \"the coef_ did not converge\", ConvergenceWarning)\n",
      "/home/karin/Documents/git/orange3venv/lib/python3.6/site-packages/sklearn/linear_model/_sag.py:330: ConvergenceWarning: The max_iter was reached which means the coef_ did not converge\n",
      "  \"the coef_ did not converge\", ConvergenceWarning)\n",
      "/home/karin/Documents/git/orange3venv/lib/python3.6/site-packages/sklearn/linear_model/_sag.py:330: ConvergenceWarning: The max_iter was reached which means the coef_ did not converge\n",
      "  \"the coef_ did not converge\", ConvergenceWarning)\n",
      "/home/karin/Documents/git/orange3venv/lib/python3.6/site-packages/sklearn/linear_model/_sag.py:330: ConvergenceWarning: The max_iter was reached which means the coef_ did not converge\n",
      "  \"the coef_ did not converge\", ConvergenceWarning)\n",
      "/home/karin/Documents/git/orange3venv/lib/python3.6/site-packages/sklearn/linear_model/_sag.py:330: ConvergenceWarning: The max_iter was reached which means the coef_ did not converge\n",
      "  \"the coef_ did not converge\", ConvergenceWarning)\n",
      "/home/karin/Documents/git/orange3venv/lib/python3.6/site-packages/sklearn/linear_model/_sag.py:330: ConvergenceWarning: The max_iter was reached which means the coef_ did not converge\n",
      "  \"the coef_ did not converge\", ConvergenceWarning)\n",
      "/home/karin/Documents/git/orange3venv/lib/python3.6/site-packages/sklearn/linear_model/_sag.py:330: ConvergenceWarning: The max_iter was reached which means the coef_ did not converge\n",
      "  \"the coef_ did not converge\", ConvergenceWarning)\n",
      "/home/karin/Documents/git/orange3venv/lib/python3.6/site-packages/sklearn/linear_model/_sag.py:330: ConvergenceWarning: The max_iter was reached which means the coef_ did not converge\n",
      "  \"the coef_ did not converge\", ConvergenceWarning)\n",
      "/home/karin/Documents/git/orange3venv/lib/python3.6/site-packages/sklearn/linear_model/_sag.py:330: ConvergenceWarning: The max_iter was reached which means the coef_ did not converge\n",
      "  \"the coef_ did not converge\", ConvergenceWarning)\n",
      "/home/karin/Documents/git/orange3venv/lib/python3.6/site-packages/sklearn/metrics/_classification.py:1272: UndefinedMetricWarning: Precision and F-score are ill-defined and being set to 0.0 in labels with no predicted samples. Use `zero_division` parameter to control this behavior.\n",
      "  _warn_prf(average, modifier, msg_start, len(result))\n"
     ]
    },
    {
     "name": "stdout",
     "output_type": "stream",
     "text": [
      "0.3\n"
     ]
    },
    {
     "name": "stderr",
     "output_type": "stream",
     "text": [
      "/home/karin/Documents/git/orange3venv/lib/python3.6/site-packages/sklearn/linear_model/_sag.py:330: ConvergenceWarning: The max_iter was reached which means the coef_ did not converge\n",
      "  \"the coef_ did not converge\", ConvergenceWarning)\n",
      "/home/karin/Documents/git/orange3venv/lib/python3.6/site-packages/sklearn/linear_model/_sag.py:330: ConvergenceWarning: The max_iter was reached which means the coef_ did not converge\n",
      "  \"the coef_ did not converge\", ConvergenceWarning)\n",
      "/home/karin/Documents/git/orange3venv/lib/python3.6/site-packages/sklearn/linear_model/_sag.py:330: ConvergenceWarning: The max_iter was reached which means the coef_ did not converge\n",
      "  \"the coef_ did not converge\", ConvergenceWarning)\n",
      "/home/karin/Documents/git/orange3venv/lib/python3.6/site-packages/sklearn/linear_model/_sag.py:330: ConvergenceWarning: The max_iter was reached which means the coef_ did not converge\n",
      "  \"the coef_ did not converge\", ConvergenceWarning)\n",
      "/home/karin/Documents/git/orange3venv/lib/python3.6/site-packages/sklearn/linear_model/_sag.py:330: ConvergenceWarning: The max_iter was reached which means the coef_ did not converge\n",
      "  \"the coef_ did not converge\", ConvergenceWarning)\n",
      "/home/karin/Documents/git/orange3venv/lib/python3.6/site-packages/sklearn/linear_model/_sag.py:330: ConvergenceWarning: The max_iter was reached which means the coef_ did not converge\n",
      "  \"the coef_ did not converge\", ConvergenceWarning)\n",
      "/home/karin/Documents/git/orange3venv/lib/python3.6/site-packages/sklearn/linear_model/_sag.py:330: ConvergenceWarning: The max_iter was reached which means the coef_ did not converge\n",
      "  \"the coef_ did not converge\", ConvergenceWarning)\n",
      "/home/karin/Documents/git/orange3venv/lib/python3.6/site-packages/sklearn/linear_model/_sag.py:330: ConvergenceWarning: The max_iter was reached which means the coef_ did not converge\n",
      "  \"the coef_ did not converge\", ConvergenceWarning)\n",
      "/home/karin/Documents/git/orange3venv/lib/python3.6/site-packages/sklearn/linear_model/_sag.py:330: ConvergenceWarning: The max_iter was reached which means the coef_ did not converge\n",
      "  \"the coef_ did not converge\", ConvergenceWarning)\n",
      "/home/karin/Documents/git/orange3venv/lib/python3.6/site-packages/sklearn/linear_model/_sag.py:330: ConvergenceWarning: The max_iter was reached which means the coef_ did not converge\n",
      "  \"the coef_ did not converge\", ConvergenceWarning)\n",
      "/home/karin/Documents/git/orange3venv/lib/python3.6/site-packages/sklearn/metrics/_classification.py:1272: UndefinedMetricWarning: Precision and F-score are ill-defined and being set to 0.0 in labels with no predicted samples. Use `zero_division` parameter to control this behavior.\n",
      "  _warn_prf(average, modifier, msg_start, len(result))\n"
     ]
    },
    {
     "name": "stdout",
     "output_type": "stream",
     "text": [
      "0.2\n"
     ]
    },
    {
     "name": "stderr",
     "output_type": "stream",
     "text": [
      "/home/karin/Documents/git/orange3venv/lib/python3.6/site-packages/sklearn/linear_model/_sag.py:330: ConvergenceWarning: The max_iter was reached which means the coef_ did not converge\n",
      "  \"the coef_ did not converge\", ConvergenceWarning)\n",
      "/home/karin/Documents/git/orange3venv/lib/python3.6/site-packages/sklearn/linear_model/_sag.py:330: ConvergenceWarning: The max_iter was reached which means the coef_ did not converge\n",
      "  \"the coef_ did not converge\", ConvergenceWarning)\n",
      "/home/karin/Documents/git/orange3venv/lib/python3.6/site-packages/sklearn/linear_model/_sag.py:330: ConvergenceWarning: The max_iter was reached which means the coef_ did not converge\n",
      "  \"the coef_ did not converge\", ConvergenceWarning)\n",
      "/home/karin/Documents/git/orange3venv/lib/python3.6/site-packages/sklearn/linear_model/_sag.py:330: ConvergenceWarning: The max_iter was reached which means the coef_ did not converge\n",
      "  \"the coef_ did not converge\", ConvergenceWarning)\n",
      "/home/karin/Documents/git/orange3venv/lib/python3.6/site-packages/sklearn/linear_model/_sag.py:330: ConvergenceWarning: The max_iter was reached which means the coef_ did not converge\n",
      "  \"the coef_ did not converge\", ConvergenceWarning)\n",
      "/home/karin/Documents/git/orange3venv/lib/python3.6/site-packages/sklearn/linear_model/_sag.py:330: ConvergenceWarning: The max_iter was reached which means the coef_ did not converge\n",
      "  \"the coef_ did not converge\", ConvergenceWarning)\n",
      "/home/karin/Documents/git/orange3venv/lib/python3.6/site-packages/sklearn/linear_model/_sag.py:330: ConvergenceWarning: The max_iter was reached which means the coef_ did not converge\n",
      "  \"the coef_ did not converge\", ConvergenceWarning)\n",
      "/home/karin/Documents/git/orange3venv/lib/python3.6/site-packages/sklearn/linear_model/_sag.py:330: ConvergenceWarning: The max_iter was reached which means the coef_ did not converge\n",
      "  \"the coef_ did not converge\", ConvergenceWarning)\n",
      "/home/karin/Documents/git/orange3venv/lib/python3.6/site-packages/sklearn/linear_model/_sag.py:330: ConvergenceWarning: The max_iter was reached which means the coef_ did not converge\n",
      "  \"the coef_ did not converge\", ConvergenceWarning)\n",
      "/home/karin/Documents/git/orange3venv/lib/python3.6/site-packages/sklearn/linear_model/_sag.py:330: ConvergenceWarning: The max_iter was reached which means the coef_ did not converge\n",
      "  \"the coef_ did not converge\", ConvergenceWarning)\n",
      "/home/karin/Documents/git/orange3venv/lib/python3.6/site-packages/sklearn/metrics/_classification.py:1272: UndefinedMetricWarning: Precision and F-score are ill-defined and being set to 0.0 in labels with no predicted samples. Use `zero_division` parameter to control this behavior.\n",
      "  _warn_prf(average, modifier, msg_start, len(result))\n"
     ]
    },
    {
     "name": "stdout",
     "output_type": "stream",
     "text": [
      "0.1\n"
     ]
    },
    {
     "name": "stderr",
     "output_type": "stream",
     "text": [
      "/home/karin/Documents/git/orange3venv/lib/python3.6/site-packages/sklearn/linear_model/_sag.py:330: ConvergenceWarning: The max_iter was reached which means the coef_ did not converge\n",
      "  \"the coef_ did not converge\", ConvergenceWarning)\n",
      "/home/karin/Documents/git/orange3venv/lib/python3.6/site-packages/sklearn/linear_model/_sag.py:330: ConvergenceWarning: The max_iter was reached which means the coef_ did not converge\n",
      "  \"the coef_ did not converge\", ConvergenceWarning)\n",
      "/home/karin/Documents/git/orange3venv/lib/python3.6/site-packages/sklearn/linear_model/_sag.py:330: ConvergenceWarning: The max_iter was reached which means the coef_ did not converge\n",
      "  \"the coef_ did not converge\", ConvergenceWarning)\n",
      "/home/karin/Documents/git/orange3venv/lib/python3.6/site-packages/sklearn/linear_model/_sag.py:330: ConvergenceWarning: The max_iter was reached which means the coef_ did not converge\n",
      "  \"the coef_ did not converge\", ConvergenceWarning)\n",
      "/home/karin/Documents/git/orange3venv/lib/python3.6/site-packages/sklearn/linear_model/_sag.py:330: ConvergenceWarning: The max_iter was reached which means the coef_ did not converge\n",
      "  \"the coef_ did not converge\", ConvergenceWarning)\n",
      "/home/karin/Documents/git/orange3venv/lib/python3.6/site-packages/sklearn/linear_model/_sag.py:330: ConvergenceWarning: The max_iter was reached which means the coef_ did not converge\n",
      "  \"the coef_ did not converge\", ConvergenceWarning)\n",
      "/home/karin/Documents/git/orange3venv/lib/python3.6/site-packages/sklearn/linear_model/_sag.py:330: ConvergenceWarning: The max_iter was reached which means the coef_ did not converge\n",
      "  \"the coef_ did not converge\", ConvergenceWarning)\n",
      "/home/karin/Documents/git/orange3venv/lib/python3.6/site-packages/sklearn/linear_model/_sag.py:330: ConvergenceWarning: The max_iter was reached which means the coef_ did not converge\n",
      "  \"the coef_ did not converge\", ConvergenceWarning)\n",
      "/home/karin/Documents/git/orange3venv/lib/python3.6/site-packages/sklearn/linear_model/_sag.py:330: ConvergenceWarning: The max_iter was reached which means the coef_ did not converge\n",
      "  \"the coef_ did not converge\", ConvergenceWarning)\n",
      "/home/karin/Documents/git/orange3venv/lib/python3.6/site-packages/sklearn/linear_model/_sag.py:330: ConvergenceWarning: The max_iter was reached which means the coef_ did not converge\n",
      "  \"the coef_ did not converge\", ConvergenceWarning)\n",
      "/home/karin/Documents/git/orange3venv/lib/python3.6/site-packages/sklearn/metrics/_classification.py:1272: UndefinedMetricWarning: Precision and F-score are ill-defined and being set to 0.0 in labels with no predicted samples. Use `zero_division` parameter to control this behavior.\n",
      "  _warn_prf(average, modifier, msg_start, len(result))\n"
     ]
    },
    {
     "name": "stdout",
     "output_type": "stream",
     "text": [
      "3\n",
      "0.9\n"
     ]
    },
    {
     "name": "stderr",
     "output_type": "stream",
     "text": [
      "/home/karin/Documents/git/orange3venv/lib/python3.6/site-packages/sklearn/linear_model/_sag.py:330: ConvergenceWarning: The max_iter was reached which means the coef_ did not converge\n",
      "  \"the coef_ did not converge\", ConvergenceWarning)\n",
      "/home/karin/Documents/git/orange3venv/lib/python3.6/site-packages/sklearn/linear_model/_sag.py:330: ConvergenceWarning: The max_iter was reached which means the coef_ did not converge\n",
      "  \"the coef_ did not converge\", ConvergenceWarning)\n",
      "/home/karin/Documents/git/orange3venv/lib/python3.6/site-packages/sklearn/linear_model/_sag.py:330: ConvergenceWarning: The max_iter was reached which means the coef_ did not converge\n",
      "  \"the coef_ did not converge\", ConvergenceWarning)\n",
      "/home/karin/Documents/git/orange3venv/lib/python3.6/site-packages/sklearn/linear_model/_sag.py:330: ConvergenceWarning: The max_iter was reached which means the coef_ did not converge\n",
      "  \"the coef_ did not converge\", ConvergenceWarning)\n",
      "/home/karin/Documents/git/orange3venv/lib/python3.6/site-packages/sklearn/linear_model/_sag.py:330: ConvergenceWarning: The max_iter was reached which means the coef_ did not converge\n",
      "  \"the coef_ did not converge\", ConvergenceWarning)\n",
      "/home/karin/Documents/git/orange3venv/lib/python3.6/site-packages/sklearn/linear_model/_sag.py:330: ConvergenceWarning: The max_iter was reached which means the coef_ did not converge\n",
      "  \"the coef_ did not converge\", ConvergenceWarning)\n",
      "/home/karin/Documents/git/orange3venv/lib/python3.6/site-packages/sklearn/linear_model/_sag.py:330: ConvergenceWarning: The max_iter was reached which means the coef_ did not converge\n",
      "  \"the coef_ did not converge\", ConvergenceWarning)\n",
      "/home/karin/Documents/git/orange3venv/lib/python3.6/site-packages/sklearn/linear_model/_sag.py:330: ConvergenceWarning: The max_iter was reached which means the coef_ did not converge\n",
      "  \"the coef_ did not converge\", ConvergenceWarning)\n",
      "/home/karin/Documents/git/orange3venv/lib/python3.6/site-packages/sklearn/linear_model/_sag.py:330: ConvergenceWarning: The max_iter was reached which means the coef_ did not converge\n",
      "  \"the coef_ did not converge\", ConvergenceWarning)\n",
      "/home/karin/Documents/git/orange3venv/lib/python3.6/site-packages/sklearn/linear_model/_sag.py:330: ConvergenceWarning: The max_iter was reached which means the coef_ did not converge\n",
      "  \"the coef_ did not converge\", ConvergenceWarning)\n",
      "/home/karin/Documents/git/orange3venv/lib/python3.6/site-packages/sklearn/metrics/_classification.py:1272: UndefinedMetricWarning: Precision and F-score are ill-defined and being set to 0.0 in labels with no predicted samples. Use `zero_division` parameter to control this behavior.\n",
      "  _warn_prf(average, modifier, msg_start, len(result))\n"
     ]
    },
    {
     "name": "stdout",
     "output_type": "stream",
     "text": [
      "0.7\n"
     ]
    },
    {
     "name": "stderr",
     "output_type": "stream",
     "text": [
      "/home/karin/Documents/git/orange3venv/lib/python3.6/site-packages/sklearn/linear_model/_sag.py:330: ConvergenceWarning: The max_iter was reached which means the coef_ did not converge\n",
      "  \"the coef_ did not converge\", ConvergenceWarning)\n",
      "/home/karin/Documents/git/orange3venv/lib/python3.6/site-packages/sklearn/linear_model/_sag.py:330: ConvergenceWarning: The max_iter was reached which means the coef_ did not converge\n",
      "  \"the coef_ did not converge\", ConvergenceWarning)\n",
      "/home/karin/Documents/git/orange3venv/lib/python3.6/site-packages/sklearn/linear_model/_sag.py:330: ConvergenceWarning: The max_iter was reached which means the coef_ did not converge\n",
      "  \"the coef_ did not converge\", ConvergenceWarning)\n",
      "/home/karin/Documents/git/orange3venv/lib/python3.6/site-packages/sklearn/linear_model/_sag.py:330: ConvergenceWarning: The max_iter was reached which means the coef_ did not converge\n",
      "  \"the coef_ did not converge\", ConvergenceWarning)\n",
      "/home/karin/Documents/git/orange3venv/lib/python3.6/site-packages/sklearn/linear_model/_sag.py:330: ConvergenceWarning: The max_iter was reached which means the coef_ did not converge\n",
      "  \"the coef_ did not converge\", ConvergenceWarning)\n",
      "/home/karin/Documents/git/orange3venv/lib/python3.6/site-packages/sklearn/linear_model/_sag.py:330: ConvergenceWarning: The max_iter was reached which means the coef_ did not converge\n",
      "  \"the coef_ did not converge\", ConvergenceWarning)\n",
      "/home/karin/Documents/git/orange3venv/lib/python3.6/site-packages/sklearn/linear_model/_sag.py:330: ConvergenceWarning: The max_iter was reached which means the coef_ did not converge\n",
      "  \"the coef_ did not converge\", ConvergenceWarning)\n",
      "/home/karin/Documents/git/orange3venv/lib/python3.6/site-packages/sklearn/linear_model/_sag.py:330: ConvergenceWarning: The max_iter was reached which means the coef_ did not converge\n",
      "  \"the coef_ did not converge\", ConvergenceWarning)\n",
      "/home/karin/Documents/git/orange3venv/lib/python3.6/site-packages/sklearn/linear_model/_sag.py:330: ConvergenceWarning: The max_iter was reached which means the coef_ did not converge\n",
      "  \"the coef_ did not converge\", ConvergenceWarning)\n",
      "/home/karin/Documents/git/orange3venv/lib/python3.6/site-packages/sklearn/linear_model/_sag.py:330: ConvergenceWarning: The max_iter was reached which means the coef_ did not converge\n",
      "  \"the coef_ did not converge\", ConvergenceWarning)\n",
      "/home/karin/Documents/git/orange3venv/lib/python3.6/site-packages/sklearn/metrics/_classification.py:1272: UndefinedMetricWarning: Precision and F-score are ill-defined and being set to 0.0 in labels with no predicted samples. Use `zero_division` parameter to control this behavior.\n",
      "  _warn_prf(average, modifier, msg_start, len(result))\n"
     ]
    },
    {
     "name": "stdout",
     "output_type": "stream",
     "text": [
      "0.5\n"
     ]
    },
    {
     "name": "stderr",
     "output_type": "stream",
     "text": [
      "/home/karin/Documents/git/orange3venv/lib/python3.6/site-packages/sklearn/linear_model/_sag.py:330: ConvergenceWarning: The max_iter was reached which means the coef_ did not converge\n",
      "  \"the coef_ did not converge\", ConvergenceWarning)\n",
      "/home/karin/Documents/git/orange3venv/lib/python3.6/site-packages/sklearn/linear_model/_sag.py:330: ConvergenceWarning: The max_iter was reached which means the coef_ did not converge\n",
      "  \"the coef_ did not converge\", ConvergenceWarning)\n",
      "/home/karin/Documents/git/orange3venv/lib/python3.6/site-packages/sklearn/linear_model/_sag.py:330: ConvergenceWarning: The max_iter was reached which means the coef_ did not converge\n",
      "  \"the coef_ did not converge\", ConvergenceWarning)\n",
      "/home/karin/Documents/git/orange3venv/lib/python3.6/site-packages/sklearn/linear_model/_sag.py:330: ConvergenceWarning: The max_iter was reached which means the coef_ did not converge\n",
      "  \"the coef_ did not converge\", ConvergenceWarning)\n",
      "/home/karin/Documents/git/orange3venv/lib/python3.6/site-packages/sklearn/linear_model/_sag.py:330: ConvergenceWarning: The max_iter was reached which means the coef_ did not converge\n",
      "  \"the coef_ did not converge\", ConvergenceWarning)\n",
      "/home/karin/Documents/git/orange3venv/lib/python3.6/site-packages/sklearn/linear_model/_sag.py:330: ConvergenceWarning: The max_iter was reached which means the coef_ did not converge\n",
      "  \"the coef_ did not converge\", ConvergenceWarning)\n",
      "/home/karin/Documents/git/orange3venv/lib/python3.6/site-packages/sklearn/linear_model/_sag.py:330: ConvergenceWarning: The max_iter was reached which means the coef_ did not converge\n",
      "  \"the coef_ did not converge\", ConvergenceWarning)\n",
      "/home/karin/Documents/git/orange3venv/lib/python3.6/site-packages/sklearn/linear_model/_sag.py:330: ConvergenceWarning: The max_iter was reached which means the coef_ did not converge\n",
      "  \"the coef_ did not converge\", ConvergenceWarning)\n",
      "/home/karin/Documents/git/orange3venv/lib/python3.6/site-packages/sklearn/linear_model/_sag.py:330: ConvergenceWarning: The max_iter was reached which means the coef_ did not converge\n",
      "  \"the coef_ did not converge\", ConvergenceWarning)\n",
      "/home/karin/Documents/git/orange3venv/lib/python3.6/site-packages/sklearn/linear_model/_sag.py:330: ConvergenceWarning: The max_iter was reached which means the coef_ did not converge\n",
      "  \"the coef_ did not converge\", ConvergenceWarning)\n",
      "/home/karin/Documents/git/orange3venv/lib/python3.6/site-packages/sklearn/metrics/_classification.py:1272: UndefinedMetricWarning: Precision and F-score are ill-defined and being set to 0.0 in labels with no predicted samples. Use `zero_division` parameter to control this behavior.\n",
      "  _warn_prf(average, modifier, msg_start, len(result))\n"
     ]
    },
    {
     "name": "stdout",
     "output_type": "stream",
     "text": [
      "0.3\n"
     ]
    },
    {
     "name": "stderr",
     "output_type": "stream",
     "text": [
      "/home/karin/Documents/git/orange3venv/lib/python3.6/site-packages/sklearn/linear_model/_sag.py:330: ConvergenceWarning: The max_iter was reached which means the coef_ did not converge\n",
      "  \"the coef_ did not converge\", ConvergenceWarning)\n",
      "/home/karin/Documents/git/orange3venv/lib/python3.6/site-packages/sklearn/linear_model/_sag.py:330: ConvergenceWarning: The max_iter was reached which means the coef_ did not converge\n",
      "  \"the coef_ did not converge\", ConvergenceWarning)\n",
      "/home/karin/Documents/git/orange3venv/lib/python3.6/site-packages/sklearn/linear_model/_sag.py:330: ConvergenceWarning: The max_iter was reached which means the coef_ did not converge\n",
      "  \"the coef_ did not converge\", ConvergenceWarning)\n",
      "/home/karin/Documents/git/orange3venv/lib/python3.6/site-packages/sklearn/linear_model/_sag.py:330: ConvergenceWarning: The max_iter was reached which means the coef_ did not converge\n",
      "  \"the coef_ did not converge\", ConvergenceWarning)\n",
      "/home/karin/Documents/git/orange3venv/lib/python3.6/site-packages/sklearn/linear_model/_sag.py:330: ConvergenceWarning: The max_iter was reached which means the coef_ did not converge\n",
      "  \"the coef_ did not converge\", ConvergenceWarning)\n",
      "/home/karin/Documents/git/orange3venv/lib/python3.6/site-packages/sklearn/linear_model/_sag.py:330: ConvergenceWarning: The max_iter was reached which means the coef_ did not converge\n",
      "  \"the coef_ did not converge\", ConvergenceWarning)\n",
      "/home/karin/Documents/git/orange3venv/lib/python3.6/site-packages/sklearn/linear_model/_sag.py:330: ConvergenceWarning: The max_iter was reached which means the coef_ did not converge\n",
      "  \"the coef_ did not converge\", ConvergenceWarning)\n",
      "/home/karin/Documents/git/orange3venv/lib/python3.6/site-packages/sklearn/linear_model/_sag.py:330: ConvergenceWarning: The max_iter was reached which means the coef_ did not converge\n",
      "  \"the coef_ did not converge\", ConvergenceWarning)\n",
      "/home/karin/Documents/git/orange3venv/lib/python3.6/site-packages/sklearn/linear_model/_sag.py:330: ConvergenceWarning: The max_iter was reached which means the coef_ did not converge\n",
      "  \"the coef_ did not converge\", ConvergenceWarning)\n",
      "/home/karin/Documents/git/orange3venv/lib/python3.6/site-packages/sklearn/linear_model/_sag.py:330: ConvergenceWarning: The max_iter was reached which means the coef_ did not converge\n",
      "  \"the coef_ did not converge\", ConvergenceWarning)\n",
      "/home/karin/Documents/git/orange3venv/lib/python3.6/site-packages/sklearn/metrics/_classification.py:1272: UndefinedMetricWarning: Precision and F-score are ill-defined and being set to 0.0 in labels with no predicted samples. Use `zero_division` parameter to control this behavior.\n",
      "  _warn_prf(average, modifier, msg_start, len(result))\n"
     ]
    },
    {
     "name": "stdout",
     "output_type": "stream",
     "text": [
      "0.2\n"
     ]
    },
    {
     "name": "stderr",
     "output_type": "stream",
     "text": [
      "/home/karin/Documents/git/orange3venv/lib/python3.6/site-packages/sklearn/linear_model/_sag.py:330: ConvergenceWarning: The max_iter was reached which means the coef_ did not converge\n",
      "  \"the coef_ did not converge\", ConvergenceWarning)\n",
      "/home/karin/Documents/git/orange3venv/lib/python3.6/site-packages/sklearn/linear_model/_sag.py:330: ConvergenceWarning: The max_iter was reached which means the coef_ did not converge\n",
      "  \"the coef_ did not converge\", ConvergenceWarning)\n",
      "/home/karin/Documents/git/orange3venv/lib/python3.6/site-packages/sklearn/linear_model/_sag.py:330: ConvergenceWarning: The max_iter was reached which means the coef_ did not converge\n",
      "  \"the coef_ did not converge\", ConvergenceWarning)\n",
      "/home/karin/Documents/git/orange3venv/lib/python3.6/site-packages/sklearn/linear_model/_sag.py:330: ConvergenceWarning: The max_iter was reached which means the coef_ did not converge\n",
      "  \"the coef_ did not converge\", ConvergenceWarning)\n",
      "/home/karin/Documents/git/orange3venv/lib/python3.6/site-packages/sklearn/linear_model/_sag.py:330: ConvergenceWarning: The max_iter was reached which means the coef_ did not converge\n",
      "  \"the coef_ did not converge\", ConvergenceWarning)\n",
      "/home/karin/Documents/git/orange3venv/lib/python3.6/site-packages/sklearn/linear_model/_sag.py:330: ConvergenceWarning: The max_iter was reached which means the coef_ did not converge\n",
      "  \"the coef_ did not converge\", ConvergenceWarning)\n",
      "/home/karin/Documents/git/orange3venv/lib/python3.6/site-packages/sklearn/linear_model/_sag.py:330: ConvergenceWarning: The max_iter was reached which means the coef_ did not converge\n",
      "  \"the coef_ did not converge\", ConvergenceWarning)\n",
      "/home/karin/Documents/git/orange3venv/lib/python3.6/site-packages/sklearn/linear_model/_sag.py:330: ConvergenceWarning: The max_iter was reached which means the coef_ did not converge\n",
      "  \"the coef_ did not converge\", ConvergenceWarning)\n",
      "/home/karin/Documents/git/orange3venv/lib/python3.6/site-packages/sklearn/linear_model/_sag.py:330: ConvergenceWarning: The max_iter was reached which means the coef_ did not converge\n",
      "  \"the coef_ did not converge\", ConvergenceWarning)\n",
      "/home/karin/Documents/git/orange3venv/lib/python3.6/site-packages/sklearn/linear_model/_sag.py:330: ConvergenceWarning: The max_iter was reached which means the coef_ did not converge\n",
      "  \"the coef_ did not converge\", ConvergenceWarning)\n",
      "/home/karin/Documents/git/orange3venv/lib/python3.6/site-packages/sklearn/metrics/_classification.py:1272: UndefinedMetricWarning: Precision and F-score are ill-defined and being set to 0.0 in labels with no predicted samples. Use `zero_division` parameter to control this behavior.\n",
      "  _warn_prf(average, modifier, msg_start, len(result))\n"
     ]
    },
    {
     "name": "stdout",
     "output_type": "stream",
     "text": [
      "0.1\n"
     ]
    },
    {
     "name": "stderr",
     "output_type": "stream",
     "text": [
      "/home/karin/Documents/git/orange3venv/lib/python3.6/site-packages/sklearn/linear_model/_sag.py:330: ConvergenceWarning: The max_iter was reached which means the coef_ did not converge\n",
      "  \"the coef_ did not converge\", ConvergenceWarning)\n",
      "/home/karin/Documents/git/orange3venv/lib/python3.6/site-packages/sklearn/linear_model/_sag.py:330: ConvergenceWarning: The max_iter was reached which means the coef_ did not converge\n",
      "  \"the coef_ did not converge\", ConvergenceWarning)\n",
      "/home/karin/Documents/git/orange3venv/lib/python3.6/site-packages/sklearn/linear_model/_sag.py:330: ConvergenceWarning: The max_iter was reached which means the coef_ did not converge\n",
      "  \"the coef_ did not converge\", ConvergenceWarning)\n",
      "/home/karin/Documents/git/orange3venv/lib/python3.6/site-packages/sklearn/linear_model/_sag.py:330: ConvergenceWarning: The max_iter was reached which means the coef_ did not converge\n",
      "  \"the coef_ did not converge\", ConvergenceWarning)\n",
      "/home/karin/Documents/git/orange3venv/lib/python3.6/site-packages/sklearn/linear_model/_sag.py:330: ConvergenceWarning: The max_iter was reached which means the coef_ did not converge\n",
      "  \"the coef_ did not converge\", ConvergenceWarning)\n",
      "/home/karin/Documents/git/orange3venv/lib/python3.6/site-packages/sklearn/linear_model/_sag.py:330: ConvergenceWarning: The max_iter was reached which means the coef_ did not converge\n",
      "  \"the coef_ did not converge\", ConvergenceWarning)\n",
      "/home/karin/Documents/git/orange3venv/lib/python3.6/site-packages/sklearn/linear_model/_sag.py:330: ConvergenceWarning: The max_iter was reached which means the coef_ did not converge\n",
      "  \"the coef_ did not converge\", ConvergenceWarning)\n",
      "/home/karin/Documents/git/orange3venv/lib/python3.6/site-packages/sklearn/linear_model/_sag.py:330: ConvergenceWarning: The max_iter was reached which means the coef_ did not converge\n",
      "  \"the coef_ did not converge\", ConvergenceWarning)\n",
      "/home/karin/Documents/git/orange3venv/lib/python3.6/site-packages/sklearn/linear_model/_sag.py:330: ConvergenceWarning: The max_iter was reached which means the coef_ did not converge\n",
      "  \"the coef_ did not converge\", ConvergenceWarning)\n",
      "/home/karin/Documents/git/orange3venv/lib/python3.6/site-packages/sklearn/metrics/_classification.py:1272: UndefinedMetricWarning: Precision and F-score are ill-defined and being set to 0.0 in labels with no predicted samples. Use `zero_division` parameter to control this behavior.\n",
      "  _warn_prf(average, modifier, msg_start, len(result))\n"
     ]
    },
    {
     "name": "stdout",
     "output_type": "stream",
     "text": [
      "4\n",
      "0.9\n"
     ]
    },
    {
     "name": "stderr",
     "output_type": "stream",
     "text": [
      "/home/karin/Documents/git/orange3venv/lib/python3.6/site-packages/sklearn/linear_model/_sag.py:330: ConvergenceWarning: The max_iter was reached which means the coef_ did not converge\n",
      "  \"the coef_ did not converge\", ConvergenceWarning)\n",
      "/home/karin/Documents/git/orange3venv/lib/python3.6/site-packages/sklearn/linear_model/_sag.py:330: ConvergenceWarning: The max_iter was reached which means the coef_ did not converge\n",
      "  \"the coef_ did not converge\", ConvergenceWarning)\n",
      "/home/karin/Documents/git/orange3venv/lib/python3.6/site-packages/sklearn/linear_model/_sag.py:330: ConvergenceWarning: The max_iter was reached which means the coef_ did not converge\n",
      "  \"the coef_ did not converge\", ConvergenceWarning)\n",
      "/home/karin/Documents/git/orange3venv/lib/python3.6/site-packages/sklearn/linear_model/_sag.py:330: ConvergenceWarning: The max_iter was reached which means the coef_ did not converge\n",
      "  \"the coef_ did not converge\", ConvergenceWarning)\n",
      "/home/karin/Documents/git/orange3venv/lib/python3.6/site-packages/sklearn/linear_model/_sag.py:330: ConvergenceWarning: The max_iter was reached which means the coef_ did not converge\n",
      "  \"the coef_ did not converge\", ConvergenceWarning)\n",
      "/home/karin/Documents/git/orange3venv/lib/python3.6/site-packages/sklearn/linear_model/_sag.py:330: ConvergenceWarning: The max_iter was reached which means the coef_ did not converge\n",
      "  \"the coef_ did not converge\", ConvergenceWarning)\n",
      "/home/karin/Documents/git/orange3venv/lib/python3.6/site-packages/sklearn/linear_model/_sag.py:330: ConvergenceWarning: The max_iter was reached which means the coef_ did not converge\n",
      "  \"the coef_ did not converge\", ConvergenceWarning)\n",
      "/home/karin/Documents/git/orange3venv/lib/python3.6/site-packages/sklearn/linear_model/_sag.py:330: ConvergenceWarning: The max_iter was reached which means the coef_ did not converge\n",
      "  \"the coef_ did not converge\", ConvergenceWarning)\n",
      "/home/karin/Documents/git/orange3venv/lib/python3.6/site-packages/sklearn/linear_model/_sag.py:330: ConvergenceWarning: The max_iter was reached which means the coef_ did not converge\n",
      "  \"the coef_ did not converge\", ConvergenceWarning)\n",
      "/home/karin/Documents/git/orange3venv/lib/python3.6/site-packages/sklearn/linear_model/_sag.py:330: ConvergenceWarning: The max_iter was reached which means the coef_ did not converge\n",
      "  \"the coef_ did not converge\", ConvergenceWarning)\n"
     ]
    },
    {
     "name": "stdout",
     "output_type": "stream",
     "text": [
      "0.7\n"
     ]
    },
    {
     "name": "stderr",
     "output_type": "stream",
     "text": [
      "/home/karin/Documents/git/orange3venv/lib/python3.6/site-packages/sklearn/linear_model/_sag.py:330: ConvergenceWarning: The max_iter was reached which means the coef_ did not converge\n",
      "  \"the coef_ did not converge\", ConvergenceWarning)\n",
      "/home/karin/Documents/git/orange3venv/lib/python3.6/site-packages/sklearn/linear_model/_sag.py:330: ConvergenceWarning: The max_iter was reached which means the coef_ did not converge\n",
      "  \"the coef_ did not converge\", ConvergenceWarning)\n",
      "/home/karin/Documents/git/orange3venv/lib/python3.6/site-packages/sklearn/linear_model/_sag.py:330: ConvergenceWarning: The max_iter was reached which means the coef_ did not converge\n",
      "  \"the coef_ did not converge\", ConvergenceWarning)\n",
      "/home/karin/Documents/git/orange3venv/lib/python3.6/site-packages/sklearn/linear_model/_sag.py:330: ConvergenceWarning: The max_iter was reached which means the coef_ did not converge\n",
      "  \"the coef_ did not converge\", ConvergenceWarning)\n",
      "/home/karin/Documents/git/orange3venv/lib/python3.6/site-packages/sklearn/linear_model/_sag.py:330: ConvergenceWarning: The max_iter was reached which means the coef_ did not converge\n",
      "  \"the coef_ did not converge\", ConvergenceWarning)\n",
      "/home/karin/Documents/git/orange3venv/lib/python3.6/site-packages/sklearn/linear_model/_sag.py:330: ConvergenceWarning: The max_iter was reached which means the coef_ did not converge\n",
      "  \"the coef_ did not converge\", ConvergenceWarning)\n",
      "/home/karin/Documents/git/orange3venv/lib/python3.6/site-packages/sklearn/linear_model/_sag.py:330: ConvergenceWarning: The max_iter was reached which means the coef_ did not converge\n",
      "  \"the coef_ did not converge\", ConvergenceWarning)\n",
      "/home/karin/Documents/git/orange3venv/lib/python3.6/site-packages/sklearn/linear_model/_sag.py:330: ConvergenceWarning: The max_iter was reached which means the coef_ did not converge\n",
      "  \"the coef_ did not converge\", ConvergenceWarning)\n",
      "/home/karin/Documents/git/orange3venv/lib/python3.6/site-packages/sklearn/linear_model/_sag.py:330: ConvergenceWarning: The max_iter was reached which means the coef_ did not converge\n",
      "  \"the coef_ did not converge\", ConvergenceWarning)\n",
      "/home/karin/Documents/git/orange3venv/lib/python3.6/site-packages/sklearn/linear_model/_sag.py:330: ConvergenceWarning: The max_iter was reached which means the coef_ did not converge\n",
      "  \"the coef_ did not converge\", ConvergenceWarning)\n",
      "/home/karin/Documents/git/orange3venv/lib/python3.6/site-packages/sklearn/metrics/_classification.py:1272: UndefinedMetricWarning: Precision and F-score are ill-defined and being set to 0.0 in labels with no predicted samples. Use `zero_division` parameter to control this behavior.\n",
      "  _warn_prf(average, modifier, msg_start, len(result))\n"
     ]
    },
    {
     "name": "stdout",
     "output_type": "stream",
     "text": [
      "0.5\n"
     ]
    },
    {
     "name": "stderr",
     "output_type": "stream",
     "text": [
      "/home/karin/Documents/git/orange3venv/lib/python3.6/site-packages/sklearn/linear_model/_sag.py:330: ConvergenceWarning: The max_iter was reached which means the coef_ did not converge\n",
      "  \"the coef_ did not converge\", ConvergenceWarning)\n",
      "/home/karin/Documents/git/orange3venv/lib/python3.6/site-packages/sklearn/linear_model/_sag.py:330: ConvergenceWarning: The max_iter was reached which means the coef_ did not converge\n",
      "  \"the coef_ did not converge\", ConvergenceWarning)\n",
      "/home/karin/Documents/git/orange3venv/lib/python3.6/site-packages/sklearn/linear_model/_sag.py:330: ConvergenceWarning: The max_iter was reached which means the coef_ did not converge\n",
      "  \"the coef_ did not converge\", ConvergenceWarning)\n",
      "/home/karin/Documents/git/orange3venv/lib/python3.6/site-packages/sklearn/linear_model/_sag.py:330: ConvergenceWarning: The max_iter was reached which means the coef_ did not converge\n",
      "  \"the coef_ did not converge\", ConvergenceWarning)\n",
      "/home/karin/Documents/git/orange3venv/lib/python3.6/site-packages/sklearn/linear_model/_sag.py:330: ConvergenceWarning: The max_iter was reached which means the coef_ did not converge\n",
      "  \"the coef_ did not converge\", ConvergenceWarning)\n",
      "/home/karin/Documents/git/orange3venv/lib/python3.6/site-packages/sklearn/linear_model/_sag.py:330: ConvergenceWarning: The max_iter was reached which means the coef_ did not converge\n",
      "  \"the coef_ did not converge\", ConvergenceWarning)\n",
      "/home/karin/Documents/git/orange3venv/lib/python3.6/site-packages/sklearn/linear_model/_sag.py:330: ConvergenceWarning: The max_iter was reached which means the coef_ did not converge\n",
      "  \"the coef_ did not converge\", ConvergenceWarning)\n",
      "/home/karin/Documents/git/orange3venv/lib/python3.6/site-packages/sklearn/linear_model/_sag.py:330: ConvergenceWarning: The max_iter was reached which means the coef_ did not converge\n",
      "  \"the coef_ did not converge\", ConvergenceWarning)\n",
      "/home/karin/Documents/git/orange3venv/lib/python3.6/site-packages/sklearn/linear_model/_sag.py:330: ConvergenceWarning: The max_iter was reached which means the coef_ did not converge\n",
      "  \"the coef_ did not converge\", ConvergenceWarning)\n",
      "/home/karin/Documents/git/orange3venv/lib/python3.6/site-packages/sklearn/linear_model/_sag.py:330: ConvergenceWarning: The max_iter was reached which means the coef_ did not converge\n",
      "  \"the coef_ did not converge\", ConvergenceWarning)\n",
      "/home/karin/Documents/git/orange3venv/lib/python3.6/site-packages/sklearn/metrics/_classification.py:1272: UndefinedMetricWarning: Precision and F-score are ill-defined and being set to 0.0 in labels with no predicted samples. Use `zero_division` parameter to control this behavior.\n",
      "  _warn_prf(average, modifier, msg_start, len(result))\n"
     ]
    },
    {
     "name": "stdout",
     "output_type": "stream",
     "text": [
      "0.3\n"
     ]
    },
    {
     "name": "stderr",
     "output_type": "stream",
     "text": [
      "/home/karin/Documents/git/orange3venv/lib/python3.6/site-packages/sklearn/linear_model/_sag.py:330: ConvergenceWarning: The max_iter was reached which means the coef_ did not converge\n",
      "  \"the coef_ did not converge\", ConvergenceWarning)\n",
      "/home/karin/Documents/git/orange3venv/lib/python3.6/site-packages/sklearn/linear_model/_sag.py:330: ConvergenceWarning: The max_iter was reached which means the coef_ did not converge\n",
      "  \"the coef_ did not converge\", ConvergenceWarning)\n",
      "/home/karin/Documents/git/orange3venv/lib/python3.6/site-packages/sklearn/linear_model/_sag.py:330: ConvergenceWarning: The max_iter was reached which means the coef_ did not converge\n",
      "  \"the coef_ did not converge\", ConvergenceWarning)\n",
      "/home/karin/Documents/git/orange3venv/lib/python3.6/site-packages/sklearn/linear_model/_sag.py:330: ConvergenceWarning: The max_iter was reached which means the coef_ did not converge\n",
      "  \"the coef_ did not converge\", ConvergenceWarning)\n",
      "/home/karin/Documents/git/orange3venv/lib/python3.6/site-packages/sklearn/linear_model/_sag.py:330: ConvergenceWarning: The max_iter was reached which means the coef_ did not converge\n",
      "  \"the coef_ did not converge\", ConvergenceWarning)\n",
      "/home/karin/Documents/git/orange3venv/lib/python3.6/site-packages/sklearn/linear_model/_sag.py:330: ConvergenceWarning: The max_iter was reached which means the coef_ did not converge\n",
      "  \"the coef_ did not converge\", ConvergenceWarning)\n",
      "/home/karin/Documents/git/orange3venv/lib/python3.6/site-packages/sklearn/linear_model/_sag.py:330: ConvergenceWarning: The max_iter was reached which means the coef_ did not converge\n",
      "  \"the coef_ did not converge\", ConvergenceWarning)\n",
      "/home/karin/Documents/git/orange3venv/lib/python3.6/site-packages/sklearn/linear_model/_sag.py:330: ConvergenceWarning: The max_iter was reached which means the coef_ did not converge\n",
      "  \"the coef_ did not converge\", ConvergenceWarning)\n",
      "/home/karin/Documents/git/orange3venv/lib/python3.6/site-packages/sklearn/linear_model/_sag.py:330: ConvergenceWarning: The max_iter was reached which means the coef_ did not converge\n",
      "  \"the coef_ did not converge\", ConvergenceWarning)\n",
      "/home/karin/Documents/git/orange3venv/lib/python3.6/site-packages/sklearn/linear_model/_sag.py:330: ConvergenceWarning: The max_iter was reached which means the coef_ did not converge\n",
      "  \"the coef_ did not converge\", ConvergenceWarning)\n",
      "/home/karin/Documents/git/orange3venv/lib/python3.6/site-packages/sklearn/metrics/_classification.py:1272: UndefinedMetricWarning: Precision and F-score are ill-defined and being set to 0.0 in labels with no predicted samples. Use `zero_division` parameter to control this behavior.\n",
      "  _warn_prf(average, modifier, msg_start, len(result))\n"
     ]
    },
    {
     "name": "stdout",
     "output_type": "stream",
     "text": [
      "0.2\n"
     ]
    },
    {
     "name": "stderr",
     "output_type": "stream",
     "text": [
      "/home/karin/Documents/git/orange3venv/lib/python3.6/site-packages/sklearn/linear_model/_sag.py:330: ConvergenceWarning: The max_iter was reached which means the coef_ did not converge\n",
      "  \"the coef_ did not converge\", ConvergenceWarning)\n",
      "/home/karin/Documents/git/orange3venv/lib/python3.6/site-packages/sklearn/linear_model/_sag.py:330: ConvergenceWarning: The max_iter was reached which means the coef_ did not converge\n",
      "  \"the coef_ did not converge\", ConvergenceWarning)\n",
      "/home/karin/Documents/git/orange3venv/lib/python3.6/site-packages/sklearn/linear_model/_sag.py:330: ConvergenceWarning: The max_iter was reached which means the coef_ did not converge\n",
      "  \"the coef_ did not converge\", ConvergenceWarning)\n",
      "/home/karin/Documents/git/orange3venv/lib/python3.6/site-packages/sklearn/linear_model/_sag.py:330: ConvergenceWarning: The max_iter was reached which means the coef_ did not converge\n",
      "  \"the coef_ did not converge\", ConvergenceWarning)\n",
      "/home/karin/Documents/git/orange3venv/lib/python3.6/site-packages/sklearn/linear_model/_sag.py:330: ConvergenceWarning: The max_iter was reached which means the coef_ did not converge\n",
      "  \"the coef_ did not converge\", ConvergenceWarning)\n",
      "/home/karin/Documents/git/orange3venv/lib/python3.6/site-packages/sklearn/linear_model/_sag.py:330: ConvergenceWarning: The max_iter was reached which means the coef_ did not converge\n",
      "  \"the coef_ did not converge\", ConvergenceWarning)\n",
      "/home/karin/Documents/git/orange3venv/lib/python3.6/site-packages/sklearn/linear_model/_sag.py:330: ConvergenceWarning: The max_iter was reached which means the coef_ did not converge\n",
      "  \"the coef_ did not converge\", ConvergenceWarning)\n",
      "/home/karin/Documents/git/orange3venv/lib/python3.6/site-packages/sklearn/linear_model/_sag.py:330: ConvergenceWarning: The max_iter was reached which means the coef_ did not converge\n",
      "  \"the coef_ did not converge\", ConvergenceWarning)\n",
      "/home/karin/Documents/git/orange3venv/lib/python3.6/site-packages/sklearn/linear_model/_sag.py:330: ConvergenceWarning: The max_iter was reached which means the coef_ did not converge\n",
      "  \"the coef_ did not converge\", ConvergenceWarning)\n",
      "/home/karin/Documents/git/orange3venv/lib/python3.6/site-packages/sklearn/linear_model/_sag.py:330: ConvergenceWarning: The max_iter was reached which means the coef_ did not converge\n",
      "  \"the coef_ did not converge\", ConvergenceWarning)\n",
      "/home/karin/Documents/git/orange3venv/lib/python3.6/site-packages/sklearn/metrics/_classification.py:1272: UndefinedMetricWarning: Precision and F-score are ill-defined and being set to 0.0 in labels with no predicted samples. Use `zero_division` parameter to control this behavior.\n",
      "  _warn_prf(average, modifier, msg_start, len(result))\n"
     ]
    },
    {
     "name": "stdout",
     "output_type": "stream",
     "text": [
      "0.1\n"
     ]
    },
    {
     "name": "stderr",
     "output_type": "stream",
     "text": [
      "/home/karin/Documents/git/orange3venv/lib/python3.6/site-packages/sklearn/linear_model/_sag.py:330: ConvergenceWarning: The max_iter was reached which means the coef_ did not converge\n",
      "  \"the coef_ did not converge\", ConvergenceWarning)\n",
      "/home/karin/Documents/git/orange3venv/lib/python3.6/site-packages/sklearn/linear_model/_sag.py:330: ConvergenceWarning: The max_iter was reached which means the coef_ did not converge\n",
      "  \"the coef_ did not converge\", ConvergenceWarning)\n",
      "/home/karin/Documents/git/orange3venv/lib/python3.6/site-packages/sklearn/linear_model/_sag.py:330: ConvergenceWarning: The max_iter was reached which means the coef_ did not converge\n",
      "  \"the coef_ did not converge\", ConvergenceWarning)\n",
      "/home/karin/Documents/git/orange3venv/lib/python3.6/site-packages/sklearn/linear_model/_sag.py:330: ConvergenceWarning: The max_iter was reached which means the coef_ did not converge\n",
      "  \"the coef_ did not converge\", ConvergenceWarning)\n",
      "/home/karin/Documents/git/orange3venv/lib/python3.6/site-packages/sklearn/linear_model/_sag.py:330: ConvergenceWarning: The max_iter was reached which means the coef_ did not converge\n",
      "  \"the coef_ did not converge\", ConvergenceWarning)\n",
      "/home/karin/Documents/git/orange3venv/lib/python3.6/site-packages/sklearn/linear_model/_sag.py:330: ConvergenceWarning: The max_iter was reached which means the coef_ did not converge\n",
      "  \"the coef_ did not converge\", ConvergenceWarning)\n",
      "/home/karin/Documents/git/orange3venv/lib/python3.6/site-packages/sklearn/linear_model/_sag.py:330: ConvergenceWarning: The max_iter was reached which means the coef_ did not converge\n",
      "  \"the coef_ did not converge\", ConvergenceWarning)\n",
      "/home/karin/Documents/git/orange3venv/lib/python3.6/site-packages/sklearn/linear_model/_sag.py:330: ConvergenceWarning: The max_iter was reached which means the coef_ did not converge\n",
      "  \"the coef_ did not converge\", ConvergenceWarning)\n",
      "/home/karin/Documents/git/orange3venv/lib/python3.6/site-packages/sklearn/linear_model/_sag.py:330: ConvergenceWarning: The max_iter was reached which means the coef_ did not converge\n",
      "  \"the coef_ did not converge\", ConvergenceWarning)\n",
      "/home/karin/Documents/git/orange3venv/lib/python3.6/site-packages/sklearn/metrics/_classification.py:1272: UndefinedMetricWarning: Precision and F-score are ill-defined and being set to 0.0 in labels with no predicted samples. Use `zero_division` parameter to control this behavior.\n",
      "  _warn_prf(average, modifier, msg_start, len(result))\n"
     ]
    },
    {
     "name": "stdout",
     "output_type": "stream",
     "text": [
      "5\n",
      "0.9\n"
     ]
    },
    {
     "name": "stderr",
     "output_type": "stream",
     "text": [
      "/home/karin/Documents/git/orange3venv/lib/python3.6/site-packages/sklearn/linear_model/_sag.py:330: ConvergenceWarning: The max_iter was reached which means the coef_ did not converge\n",
      "  \"the coef_ did not converge\", ConvergenceWarning)\n",
      "/home/karin/Documents/git/orange3venv/lib/python3.6/site-packages/sklearn/linear_model/_sag.py:330: ConvergenceWarning: The max_iter was reached which means the coef_ did not converge\n",
      "  \"the coef_ did not converge\", ConvergenceWarning)\n",
      "/home/karin/Documents/git/orange3venv/lib/python3.6/site-packages/sklearn/linear_model/_sag.py:330: ConvergenceWarning: The max_iter was reached which means the coef_ did not converge\n",
      "  \"the coef_ did not converge\", ConvergenceWarning)\n",
      "/home/karin/Documents/git/orange3venv/lib/python3.6/site-packages/sklearn/linear_model/_sag.py:330: ConvergenceWarning: The max_iter was reached which means the coef_ did not converge\n",
      "  \"the coef_ did not converge\", ConvergenceWarning)\n",
      "/home/karin/Documents/git/orange3venv/lib/python3.6/site-packages/sklearn/linear_model/_sag.py:330: ConvergenceWarning: The max_iter was reached which means the coef_ did not converge\n",
      "  \"the coef_ did not converge\", ConvergenceWarning)\n",
      "/home/karin/Documents/git/orange3venv/lib/python3.6/site-packages/sklearn/linear_model/_sag.py:330: ConvergenceWarning: The max_iter was reached which means the coef_ did not converge\n",
      "  \"the coef_ did not converge\", ConvergenceWarning)\n",
      "/home/karin/Documents/git/orange3venv/lib/python3.6/site-packages/sklearn/linear_model/_sag.py:330: ConvergenceWarning: The max_iter was reached which means the coef_ did not converge\n",
      "  \"the coef_ did not converge\", ConvergenceWarning)\n",
      "/home/karin/Documents/git/orange3venv/lib/python3.6/site-packages/sklearn/linear_model/_sag.py:330: ConvergenceWarning: The max_iter was reached which means the coef_ did not converge\n",
      "  \"the coef_ did not converge\", ConvergenceWarning)\n",
      "/home/karin/Documents/git/orange3venv/lib/python3.6/site-packages/sklearn/linear_model/_sag.py:330: ConvergenceWarning: The max_iter was reached which means the coef_ did not converge\n",
      "  \"the coef_ did not converge\", ConvergenceWarning)\n",
      "/home/karin/Documents/git/orange3venv/lib/python3.6/site-packages/sklearn/linear_model/_sag.py:330: ConvergenceWarning: The max_iter was reached which means the coef_ did not converge\n",
      "  \"the coef_ did not converge\", ConvergenceWarning)\n",
      "/home/karin/Documents/git/orange3venv/lib/python3.6/site-packages/sklearn/metrics/_classification.py:1272: UndefinedMetricWarning: Precision and F-score are ill-defined and being set to 0.0 in labels with no predicted samples. Use `zero_division` parameter to control this behavior.\n",
      "  _warn_prf(average, modifier, msg_start, len(result))\n"
     ]
    },
    {
     "name": "stdout",
     "output_type": "stream",
     "text": [
      "0.7\n"
     ]
    },
    {
     "name": "stderr",
     "output_type": "stream",
     "text": [
      "/home/karin/Documents/git/orange3venv/lib/python3.6/site-packages/sklearn/linear_model/_sag.py:330: ConvergenceWarning: The max_iter was reached which means the coef_ did not converge\n",
      "  \"the coef_ did not converge\", ConvergenceWarning)\n",
      "/home/karin/Documents/git/orange3venv/lib/python3.6/site-packages/sklearn/linear_model/_sag.py:330: ConvergenceWarning: The max_iter was reached which means the coef_ did not converge\n",
      "  \"the coef_ did not converge\", ConvergenceWarning)\n",
      "/home/karin/Documents/git/orange3venv/lib/python3.6/site-packages/sklearn/linear_model/_sag.py:330: ConvergenceWarning: The max_iter was reached which means the coef_ did not converge\n",
      "  \"the coef_ did not converge\", ConvergenceWarning)\n",
      "/home/karin/Documents/git/orange3venv/lib/python3.6/site-packages/sklearn/linear_model/_sag.py:330: ConvergenceWarning: The max_iter was reached which means the coef_ did not converge\n",
      "  \"the coef_ did not converge\", ConvergenceWarning)\n",
      "/home/karin/Documents/git/orange3venv/lib/python3.6/site-packages/sklearn/linear_model/_sag.py:330: ConvergenceWarning: The max_iter was reached which means the coef_ did not converge\n",
      "  \"the coef_ did not converge\", ConvergenceWarning)\n",
      "/home/karin/Documents/git/orange3venv/lib/python3.6/site-packages/sklearn/linear_model/_sag.py:330: ConvergenceWarning: The max_iter was reached which means the coef_ did not converge\n",
      "  \"the coef_ did not converge\", ConvergenceWarning)\n",
      "/home/karin/Documents/git/orange3venv/lib/python3.6/site-packages/sklearn/linear_model/_sag.py:330: ConvergenceWarning: The max_iter was reached which means the coef_ did not converge\n",
      "  \"the coef_ did not converge\", ConvergenceWarning)\n",
      "/home/karin/Documents/git/orange3venv/lib/python3.6/site-packages/sklearn/linear_model/_sag.py:330: ConvergenceWarning: The max_iter was reached which means the coef_ did not converge\n",
      "  \"the coef_ did not converge\", ConvergenceWarning)\n",
      "/home/karin/Documents/git/orange3venv/lib/python3.6/site-packages/sklearn/linear_model/_sag.py:330: ConvergenceWarning: The max_iter was reached which means the coef_ did not converge\n",
      "  \"the coef_ did not converge\", ConvergenceWarning)\n",
      "/home/karin/Documents/git/orange3venv/lib/python3.6/site-packages/sklearn/linear_model/_sag.py:330: ConvergenceWarning: The max_iter was reached which means the coef_ did not converge\n",
      "  \"the coef_ did not converge\", ConvergenceWarning)\n",
      "/home/karin/Documents/git/orange3venv/lib/python3.6/site-packages/sklearn/metrics/_classification.py:1272: UndefinedMetricWarning: Precision and F-score are ill-defined and being set to 0.0 in labels with no predicted samples. Use `zero_division` parameter to control this behavior.\n",
      "  _warn_prf(average, modifier, msg_start, len(result))\n"
     ]
    },
    {
     "name": "stdout",
     "output_type": "stream",
     "text": [
      "0.5\n"
     ]
    },
    {
     "name": "stderr",
     "output_type": "stream",
     "text": [
      "/home/karin/Documents/git/orange3venv/lib/python3.6/site-packages/sklearn/linear_model/_sag.py:330: ConvergenceWarning: The max_iter was reached which means the coef_ did not converge\n",
      "  \"the coef_ did not converge\", ConvergenceWarning)\n",
      "/home/karin/Documents/git/orange3venv/lib/python3.6/site-packages/sklearn/linear_model/_sag.py:330: ConvergenceWarning: The max_iter was reached which means the coef_ did not converge\n",
      "  \"the coef_ did not converge\", ConvergenceWarning)\n",
      "/home/karin/Documents/git/orange3venv/lib/python3.6/site-packages/sklearn/linear_model/_sag.py:330: ConvergenceWarning: The max_iter was reached which means the coef_ did not converge\n",
      "  \"the coef_ did not converge\", ConvergenceWarning)\n",
      "/home/karin/Documents/git/orange3venv/lib/python3.6/site-packages/sklearn/linear_model/_sag.py:330: ConvergenceWarning: The max_iter was reached which means the coef_ did not converge\n",
      "  \"the coef_ did not converge\", ConvergenceWarning)\n",
      "/home/karin/Documents/git/orange3venv/lib/python3.6/site-packages/sklearn/linear_model/_sag.py:330: ConvergenceWarning: The max_iter was reached which means the coef_ did not converge\n",
      "  \"the coef_ did not converge\", ConvergenceWarning)\n",
      "/home/karin/Documents/git/orange3venv/lib/python3.6/site-packages/sklearn/linear_model/_sag.py:330: ConvergenceWarning: The max_iter was reached which means the coef_ did not converge\n",
      "  \"the coef_ did not converge\", ConvergenceWarning)\n",
      "/home/karin/Documents/git/orange3venv/lib/python3.6/site-packages/sklearn/linear_model/_sag.py:330: ConvergenceWarning: The max_iter was reached which means the coef_ did not converge\n",
      "  \"the coef_ did not converge\", ConvergenceWarning)\n",
      "/home/karin/Documents/git/orange3venv/lib/python3.6/site-packages/sklearn/linear_model/_sag.py:330: ConvergenceWarning: The max_iter was reached which means the coef_ did not converge\n",
      "  \"the coef_ did not converge\", ConvergenceWarning)\n",
      "/home/karin/Documents/git/orange3venv/lib/python3.6/site-packages/sklearn/linear_model/_sag.py:330: ConvergenceWarning: The max_iter was reached which means the coef_ did not converge\n",
      "  \"the coef_ did not converge\", ConvergenceWarning)\n",
      "/home/karin/Documents/git/orange3venv/lib/python3.6/site-packages/sklearn/linear_model/_sag.py:330: ConvergenceWarning: The max_iter was reached which means the coef_ did not converge\n",
      "  \"the coef_ did not converge\", ConvergenceWarning)\n",
      "/home/karin/Documents/git/orange3venv/lib/python3.6/site-packages/sklearn/metrics/_classification.py:1272: UndefinedMetricWarning: Precision and F-score are ill-defined and being set to 0.0 in labels with no predicted samples. Use `zero_division` parameter to control this behavior.\n",
      "  _warn_prf(average, modifier, msg_start, len(result))\n"
     ]
    },
    {
     "name": "stdout",
     "output_type": "stream",
     "text": [
      "0.3\n"
     ]
    },
    {
     "name": "stderr",
     "output_type": "stream",
     "text": [
      "/home/karin/Documents/git/orange3venv/lib/python3.6/site-packages/sklearn/linear_model/_sag.py:330: ConvergenceWarning: The max_iter was reached which means the coef_ did not converge\n",
      "  \"the coef_ did not converge\", ConvergenceWarning)\n",
      "/home/karin/Documents/git/orange3venv/lib/python3.6/site-packages/sklearn/linear_model/_sag.py:330: ConvergenceWarning: The max_iter was reached which means the coef_ did not converge\n",
      "  \"the coef_ did not converge\", ConvergenceWarning)\n",
      "/home/karin/Documents/git/orange3venv/lib/python3.6/site-packages/sklearn/linear_model/_sag.py:330: ConvergenceWarning: The max_iter was reached which means the coef_ did not converge\n",
      "  \"the coef_ did not converge\", ConvergenceWarning)\n",
      "/home/karin/Documents/git/orange3venv/lib/python3.6/site-packages/sklearn/linear_model/_sag.py:330: ConvergenceWarning: The max_iter was reached which means the coef_ did not converge\n",
      "  \"the coef_ did not converge\", ConvergenceWarning)\n",
      "/home/karin/Documents/git/orange3venv/lib/python3.6/site-packages/sklearn/linear_model/_sag.py:330: ConvergenceWarning: The max_iter was reached which means the coef_ did not converge\n",
      "  \"the coef_ did not converge\", ConvergenceWarning)\n",
      "/home/karin/Documents/git/orange3venv/lib/python3.6/site-packages/sklearn/linear_model/_sag.py:330: ConvergenceWarning: The max_iter was reached which means the coef_ did not converge\n",
      "  \"the coef_ did not converge\", ConvergenceWarning)\n",
      "/home/karin/Documents/git/orange3venv/lib/python3.6/site-packages/sklearn/linear_model/_sag.py:330: ConvergenceWarning: The max_iter was reached which means the coef_ did not converge\n",
      "  \"the coef_ did not converge\", ConvergenceWarning)\n",
      "/home/karin/Documents/git/orange3venv/lib/python3.6/site-packages/sklearn/linear_model/_sag.py:330: ConvergenceWarning: The max_iter was reached which means the coef_ did not converge\n",
      "  \"the coef_ did not converge\", ConvergenceWarning)\n",
      "/home/karin/Documents/git/orange3venv/lib/python3.6/site-packages/sklearn/linear_model/_sag.py:330: ConvergenceWarning: The max_iter was reached which means the coef_ did not converge\n",
      "  \"the coef_ did not converge\", ConvergenceWarning)\n",
      "/home/karin/Documents/git/orange3venv/lib/python3.6/site-packages/sklearn/linear_model/_sag.py:330: ConvergenceWarning: The max_iter was reached which means the coef_ did not converge\n",
      "  \"the coef_ did not converge\", ConvergenceWarning)\n",
      "/home/karin/Documents/git/orange3venv/lib/python3.6/site-packages/sklearn/metrics/_classification.py:1272: UndefinedMetricWarning: Precision and F-score are ill-defined and being set to 0.0 in labels with no predicted samples. Use `zero_division` parameter to control this behavior.\n",
      "  _warn_prf(average, modifier, msg_start, len(result))\n"
     ]
    },
    {
     "name": "stdout",
     "output_type": "stream",
     "text": [
      "0.2\n"
     ]
    },
    {
     "name": "stderr",
     "output_type": "stream",
     "text": [
      "/home/karin/Documents/git/orange3venv/lib/python3.6/site-packages/sklearn/linear_model/_sag.py:330: ConvergenceWarning: The max_iter was reached which means the coef_ did not converge\n",
      "  \"the coef_ did not converge\", ConvergenceWarning)\n",
      "/home/karin/Documents/git/orange3venv/lib/python3.6/site-packages/sklearn/linear_model/_sag.py:330: ConvergenceWarning: The max_iter was reached which means the coef_ did not converge\n",
      "  \"the coef_ did not converge\", ConvergenceWarning)\n",
      "/home/karin/Documents/git/orange3venv/lib/python3.6/site-packages/sklearn/linear_model/_sag.py:330: ConvergenceWarning: The max_iter was reached which means the coef_ did not converge\n",
      "  \"the coef_ did not converge\", ConvergenceWarning)\n",
      "/home/karin/Documents/git/orange3venv/lib/python3.6/site-packages/sklearn/linear_model/_sag.py:330: ConvergenceWarning: The max_iter was reached which means the coef_ did not converge\n",
      "  \"the coef_ did not converge\", ConvergenceWarning)\n",
      "/home/karin/Documents/git/orange3venv/lib/python3.6/site-packages/sklearn/linear_model/_sag.py:330: ConvergenceWarning: The max_iter was reached which means the coef_ did not converge\n",
      "  \"the coef_ did not converge\", ConvergenceWarning)\n",
      "/home/karin/Documents/git/orange3venv/lib/python3.6/site-packages/sklearn/linear_model/_sag.py:330: ConvergenceWarning: The max_iter was reached which means the coef_ did not converge\n",
      "  \"the coef_ did not converge\", ConvergenceWarning)\n",
      "/home/karin/Documents/git/orange3venv/lib/python3.6/site-packages/sklearn/linear_model/_sag.py:330: ConvergenceWarning: The max_iter was reached which means the coef_ did not converge\n",
      "  \"the coef_ did not converge\", ConvergenceWarning)\n",
      "/home/karin/Documents/git/orange3venv/lib/python3.6/site-packages/sklearn/linear_model/_sag.py:330: ConvergenceWarning: The max_iter was reached which means the coef_ did not converge\n",
      "  \"the coef_ did not converge\", ConvergenceWarning)\n",
      "/home/karin/Documents/git/orange3venv/lib/python3.6/site-packages/sklearn/linear_model/_sag.py:330: ConvergenceWarning: The max_iter was reached which means the coef_ did not converge\n",
      "  \"the coef_ did not converge\", ConvergenceWarning)\n",
      "/home/karin/Documents/git/orange3venv/lib/python3.6/site-packages/sklearn/linear_model/_sag.py:330: ConvergenceWarning: The max_iter was reached which means the coef_ did not converge\n",
      "  \"the coef_ did not converge\", ConvergenceWarning)\n",
      "/home/karin/Documents/git/orange3venv/lib/python3.6/site-packages/sklearn/metrics/_classification.py:1272: UndefinedMetricWarning: Precision and F-score are ill-defined and being set to 0.0 in labels with no predicted samples. Use `zero_division` parameter to control this behavior.\n",
      "  _warn_prf(average, modifier, msg_start, len(result))\n"
     ]
    },
    {
     "name": "stdout",
     "output_type": "stream",
     "text": [
      "0.1\n"
     ]
    },
    {
     "name": "stderr",
     "output_type": "stream",
     "text": [
      "/home/karin/Documents/git/orange3venv/lib/python3.6/site-packages/sklearn/linear_model/_sag.py:330: ConvergenceWarning: The max_iter was reached which means the coef_ did not converge\n",
      "  \"the coef_ did not converge\", ConvergenceWarning)\n",
      "/home/karin/Documents/git/orange3venv/lib/python3.6/site-packages/sklearn/linear_model/_sag.py:330: ConvergenceWarning: The max_iter was reached which means the coef_ did not converge\n",
      "  \"the coef_ did not converge\", ConvergenceWarning)\n",
      "/home/karin/Documents/git/orange3venv/lib/python3.6/site-packages/sklearn/linear_model/_sag.py:330: ConvergenceWarning: The max_iter was reached which means the coef_ did not converge\n",
      "  \"the coef_ did not converge\", ConvergenceWarning)\n",
      "/home/karin/Documents/git/orange3venv/lib/python3.6/site-packages/sklearn/linear_model/_sag.py:330: ConvergenceWarning: The max_iter was reached which means the coef_ did not converge\n",
      "  \"the coef_ did not converge\", ConvergenceWarning)\n",
      "/home/karin/Documents/git/orange3venv/lib/python3.6/site-packages/sklearn/linear_model/_sag.py:330: ConvergenceWarning: The max_iter was reached which means the coef_ did not converge\n",
      "  \"the coef_ did not converge\", ConvergenceWarning)\n",
      "/home/karin/Documents/git/orange3venv/lib/python3.6/site-packages/sklearn/linear_model/_sag.py:330: ConvergenceWarning: The max_iter was reached which means the coef_ did not converge\n",
      "  \"the coef_ did not converge\", ConvergenceWarning)\n",
      "/home/karin/Documents/git/orange3venv/lib/python3.6/site-packages/sklearn/linear_model/_sag.py:330: ConvergenceWarning: The max_iter was reached which means the coef_ did not converge\n",
      "  \"the coef_ did not converge\", ConvergenceWarning)\n",
      "/home/karin/Documents/git/orange3venv/lib/python3.6/site-packages/sklearn/linear_model/_sag.py:330: ConvergenceWarning: The max_iter was reached which means the coef_ did not converge\n",
      "  \"the coef_ did not converge\", ConvergenceWarning)\n",
      "/home/karin/Documents/git/orange3venv/lib/python3.6/site-packages/sklearn/linear_model/_sag.py:330: ConvergenceWarning: The max_iter was reached which means the coef_ did not converge\n",
      "  \"the coef_ did not converge\", ConvergenceWarning)\n",
      "/home/karin/Documents/git/orange3venv/lib/python3.6/site-packages/sklearn/metrics/_classification.py:1272: UndefinedMetricWarning: Precision and F-score are ill-defined and being set to 0.0 in labels with no predicted samples. Use `zero_division` parameter to control this behavior.\n",
      "  _warn_prf(average, modifier, msg_start, len(result))\n"
     ]
    }
   ],
   "source": [
    "# split = LeaveOneOut()\n",
    "prfs_all=pd.DataFrame()\n",
    "rac_all=pd.DataFrame()\n",
    "feats_all=pd.DataFrame()\n",
    "split = IterativeStratification(n_splits=5, order=1)\n",
    "fold=0\n",
    "for train_index, test_index in split.split(X_train, Y_train):\n",
    "    fold += 1\n",
    "    print(fold)\n",
    "    X_train_fold, X_test_fold = pp.minmax_scale(X_train[train_index]), pp.minmax_scale(X_train[test_index])\n",
    "    Y_train_fold, Y_test_fold = pp.minmax_scale(Y_train[train_index]), pp.minmax_scale(Y_train[test_index])\n",
    "    for c in [0.9,0.7,0.5,0.3,0.2,0.1]:\n",
    "        print(c)\n",
    "        # Order already ensured when selecting Y columns\n",
    "        classifier = ClassifierChain(\n",
    "            classifier=LogisticRegression(penalty='l1', n_jobs=3, C=c, solver='saga', max_iter=4000)).fit(X_train_fold,\n",
    "                                                                                                         Y_train_fold)\n",
    "\n",
    "        Y_predict_fold = classifier.predict(X_test_fold)\n",
    "        Y_p_fold = classifier.predict_proba(X_test_fold)\n",
    "        prfs=pd.DataFrame(precision_recall_fscore_support(Y_test_fold, Y_predict_fold),index=['precision','recall','F_score','support']).T\n",
    "        prfs['Stage']=order\n",
    "        prfs['C']=[c]*prfs.shape[0]\n",
    "        prfs_all=prfs_all.append(prfs)\n",
    "        prfs=list(precision_recall_fscore_support(Y_test_fold, Y_predict_fold, average='micro'))\n",
    "        prfs.extend(['all',c])\n",
    "        prfs=dict(zip(['precision','recall','F_score','support','Stage',\"C\"],prfs))\n",
    "        prfs_all = prfs_all.append( prfs,ignore_index=True)\n",
    "        rac=dict(zip(['roc_auc','C'],[ roc_auc_score(Y_test_fold, Y_p_fold.toarray(), average='micro'),c]))\n",
    "        rac_all=rac_all.append(rac,ignore_index=True)\n",
    "\n",
    "        feats_combined = set()\n",
    "        for i in range(len(order)):\n",
    "            cl = classifier.classifiers_[i]\n",
    "            feats_stage = set(pd.Series(range(X_train.shape[1]))[(cl.coef_ != 0).flatten()[:X_train.shape[1]]].index)\n",
    "            feats_combined = feats_combined | feats_stage\n",
    "            #print(len(feats_stage), len(feats_combined))\n",
    "            feats=dict(zip(['N_features','C','Stage'],[len(feats_stage),c,order[i]]))\n",
    "            feats_all=feats_all.append(feats,ignore_index=True)\n",
    "        feats= dict(zip(['N_features', 'C', 'Stage'],[len(feats_combined), c, 'all']))\n",
    "        feats_all = feats_all.append(feats,ignore_index=True)"
   ]
  },
  {
   "cell_type": "code",
   "execution_count": 17,
   "metadata": {},
   "outputs": [
    {
     "data": {
      "application/javascript": [
       "const spec = {\"config\": {\"view\": {\"width\": 400, \"height\": 300}, \"mark\": {\"tooltip\": null}}, \"data\": {\"name\": \"data-870b8bc5097bae00bf7d86afd702cf1f\"}, \"mark\": {\"type\": \"circle\", \"size\": 60}, \"encoding\": {\"color\": {\"type\": \"nominal\", \"field\": \"Stage\"}, \"x\": {\"type\": \"quantitative\", \"field\": \"C\"}, \"y\": {\"type\": \"quantitative\", \"field\": \"precision\"}}, \"$schema\": \"https://vega.github.io/schema/vega-lite/v3.4.0.json\", \"datasets\": {\"data-870b8bc5097bae00bf7d86afd702cf1f\": [{\"precision\": 0.92, \"recall\": 0.8214285714285714, \"F_score\": 0.8679245283018867, \"support\": 28.0, \"Stage\": \"no_agg\", \"C\": 0.9}, {\"precision\": 0.5454545454545454, \"recall\": 0.6666666666666666, \"F_score\": 0.6, \"support\": 9.0, \"Stage\": \"stream\", \"C\": 0.9}, {\"precision\": 0.5625, \"recall\": 0.6428571428571429, \"F_score\": 0.6000000000000001, \"support\": 14.0, \"Stage\": \"lag\", \"C\": 0.9}, {\"precision\": 0.8888888888888888, \"recall\": 0.6666666666666666, \"F_score\": 0.761904761904762, \"support\": 12.0, \"Stage\": \"tag\", \"C\": 0.9}, {\"precision\": 1.0, \"recall\": 0.25, \"F_score\": 0.4, \"support\": 4.0, \"Stage\": \"tip\", \"C\": 0.9}, {\"precision\": 0.8333333333333334, \"recall\": 0.5, \"F_score\": 0.625, \"support\": 10.0, \"Stage\": \"slug\", \"C\": 0.9}, {\"precision\": 0.0, \"recall\": 0.0, \"F_score\": 0.0, \"support\": 2.0, \"Stage\": \"mhat\", \"C\": 0.9}, {\"precision\": 0.8333333333333334, \"recall\": 0.8333333333333334, \"F_score\": 0.8333333333333334, \"support\": 6.0, \"Stage\": \"cul\", \"C\": 0.9}, {\"precision\": 0.25, \"recall\": 0.3333333333333333, \"F_score\": 0.28571428571428575, \"support\": 3.0, \"Stage\": \"FB\", \"C\": 0.9}, {\"precision\": 1.0, \"recall\": 0.25, \"F_score\": 0.4, \"support\": 4.0, \"Stage\": \"disappear\", \"C\": 0.9}, {\"precision\": 0.7468354430379747, \"recall\": 0.6413043478260869, \"F_score\": 0.6900584795321637, \"support\": null, \"Stage\": \"all\", \"C\": 0.9}, {\"precision\": 0.92, \"recall\": 0.8214285714285714, \"F_score\": 0.8679245283018867, \"support\": 28.0, \"Stage\": \"no_agg\", \"C\": 0.7}, {\"precision\": 0.6, \"recall\": 0.6666666666666666, \"F_score\": 0.631578947368421, \"support\": 9.0, \"Stage\": \"stream\", \"C\": 0.7}, {\"precision\": 0.5625, \"recall\": 0.6428571428571429, \"F_score\": 0.6000000000000001, \"support\": 14.0, \"Stage\": \"lag\", \"C\": 0.7}, {\"precision\": 0.8888888888888888, \"recall\": 0.6666666666666666, \"F_score\": 0.761904761904762, \"support\": 12.0, \"Stage\": \"tag\", \"C\": 0.7}, {\"precision\": 0.0, \"recall\": 0.0, \"F_score\": 0.0, \"support\": 4.0, \"Stage\": \"tip\", \"C\": 0.7}, {\"precision\": 0.8, \"recall\": 0.4, \"F_score\": 0.5333333333333333, \"support\": 10.0, \"Stage\": \"slug\", \"C\": 0.7}, {\"precision\": 0.0, \"recall\": 0.0, \"F_score\": 0.0, \"support\": 2.0, \"Stage\": \"mhat\", \"C\": 0.7}, {\"precision\": 0.8333333333333334, \"recall\": 0.8333333333333334, \"F_score\": 0.8333333333333334, \"support\": 6.0, \"Stage\": \"cul\", \"C\": 0.7}, {\"precision\": 0.25, \"recall\": 0.3333333333333333, \"F_score\": 0.28571428571428575, \"support\": 3.0, \"Stage\": \"FB\", \"C\": 0.7}, {\"precision\": 0.0, \"recall\": 0.0, \"F_score\": 0.0, \"support\": 4.0, \"Stage\": \"disappear\", \"C\": 0.7}, {\"precision\": 0.7466666666666667, \"recall\": 0.6086956521739131, \"F_score\": 0.6706586826347306, \"support\": null, \"Stage\": \"all\", \"C\": 0.7}, {\"precision\": 0.92, \"recall\": 0.8214285714285714, \"F_score\": 0.8679245283018867, \"support\": 28.0, \"Stage\": \"no_agg\", \"C\": 0.5}, {\"precision\": 0.5, \"recall\": 0.4444444444444444, \"F_score\": 0.47058823529411764, \"support\": 9.0, \"Stage\": \"stream\", \"C\": 0.5}, {\"precision\": 0.5714285714285714, \"recall\": 0.5714285714285714, \"F_score\": 0.5714285714285714, \"support\": 14.0, \"Stage\": \"lag\", \"C\": 0.5}, {\"precision\": 1.0, \"recall\": 0.6666666666666666, \"F_score\": 0.8, \"support\": 12.0, \"Stage\": \"tag\", \"C\": 0.5}, {\"precision\": 0.0, \"recall\": 0.0, \"F_score\": 0.0, \"support\": 4.0, \"Stage\": \"tip\", \"C\": 0.5}, {\"precision\": 0.8, \"recall\": 0.4, \"F_score\": 0.5333333333333333, \"support\": 10.0, \"Stage\": \"slug\", \"C\": 0.5}, {\"precision\": 0.0, \"recall\": 0.0, \"F_score\": 0.0, \"support\": 2.0, \"Stage\": \"mhat\", \"C\": 0.5}, {\"precision\": 0.8, \"recall\": 0.6666666666666666, \"F_score\": 0.7272727272727272, \"support\": 6.0, \"Stage\": \"cul\", \"C\": 0.5}, {\"precision\": 0.25, \"recall\": 0.3333333333333333, \"F_score\": 0.28571428571428575, \"support\": 3.0, \"Stage\": \"FB\", \"C\": 0.5}, {\"precision\": 0.0, \"recall\": 0.0, \"F_score\": 0.0, \"support\": 4.0, \"Stage\": \"disappear\", \"C\": 0.5}, {\"precision\": 0.7536231884057971, \"recall\": 0.5652173913043478, \"F_score\": 0.6459627329192545, \"support\": null, \"Stage\": \"all\", \"C\": 0.5}, {\"precision\": 0.92, \"recall\": 0.8214285714285714, \"F_score\": 0.8679245283018867, \"support\": 28.0, \"Stage\": \"no_agg\", \"C\": 0.3}, {\"precision\": 0.6, \"recall\": 0.3333333333333333, \"F_score\": 0.42857142857142855, \"support\": 9.0, \"Stage\": \"stream\", \"C\": 0.3}, {\"precision\": 0.5833333333333334, \"recall\": 0.5, \"F_score\": 0.5384615384615384, \"support\": 14.0, \"Stage\": \"lag\", \"C\": 0.3}, {\"precision\": 1.0, \"recall\": 0.5833333333333334, \"F_score\": 0.7368421052631579, \"support\": 12.0, \"Stage\": \"tag\", \"C\": 0.3}, {\"precision\": 0.0, \"recall\": 0.0, \"F_score\": 0.0, \"support\": 4.0, \"Stage\": \"tip\", \"C\": 0.3}, {\"precision\": 1.0, \"recall\": 0.4, \"F_score\": 0.5714285714285715, \"support\": 10.0, \"Stage\": \"slug\", \"C\": 0.3}, {\"precision\": 0.0, \"recall\": 0.0, \"F_score\": 0.0, \"support\": 2.0, \"Stage\": \"mhat\", \"C\": 0.3}, {\"precision\": 1.0, \"recall\": 0.6666666666666666, \"F_score\": 0.8, \"support\": 6.0, \"Stage\": \"cul\", \"C\": 0.3}, {\"precision\": 0.0, \"recall\": 0.0, \"F_score\": 0.0, \"support\": 3.0, \"Stage\": \"FB\", \"C\": 0.3}, {\"precision\": 0.0, \"recall\": 0.0, \"F_score\": 0.0, \"support\": 4.0, \"Stage\": \"disappear\", \"C\": 0.3}, {\"precision\": 0.8421052631578947, \"recall\": 0.5217391304347826, \"F_score\": 0.6442953020134228, \"support\": null, \"Stage\": \"all\", \"C\": 0.3}, {\"precision\": 0.9583333333333334, \"recall\": 0.8214285714285714, \"F_score\": 0.8846153846153847, \"support\": 28.0, \"Stage\": \"no_agg\", \"C\": 0.2}, {\"precision\": 0.0, \"recall\": 0.0, \"F_score\": 0.0, \"support\": 9.0, \"Stage\": \"stream\", \"C\": 0.2}, {\"precision\": 0.6666666666666666, \"recall\": 0.14285714285714285, \"F_score\": 0.23529411764705882, \"support\": 14.0, \"Stage\": \"lag\", \"C\": 0.2}, {\"precision\": 1.0, \"recall\": 0.08333333333333333, \"F_score\": 0.15384615384615385, \"support\": 12.0, \"Stage\": \"tag\", \"C\": 0.2}, {\"precision\": 0.0, \"recall\": 0.0, \"F_score\": 0.0, \"support\": 4.0, \"Stage\": \"tip\", \"C\": 0.2}, {\"precision\": 1.0, \"recall\": 0.2, \"F_score\": 0.33333333333333337, \"support\": 10.0, \"Stage\": \"slug\", \"C\": 0.2}, {\"precision\": 0.0, \"recall\": 0.0, \"F_score\": 0.0, \"support\": 2.0, \"Stage\": \"mhat\", \"C\": 0.2}, {\"precision\": 0.0, \"recall\": 0.0, \"F_score\": 0.0, \"support\": 6.0, \"Stage\": \"cul\", \"C\": 0.2}, {\"precision\": 0.0, \"recall\": 0.0, \"F_score\": 0.0, \"support\": 3.0, \"Stage\": \"FB\", \"C\": 0.2}, {\"precision\": 0.0, \"recall\": 0.0, \"F_score\": 0.0, \"support\": 4.0, \"Stage\": \"disappear\", \"C\": 0.2}, {\"precision\": 0.9032258064516129, \"recall\": 0.30434782608695654, \"F_score\": 0.4552845528455284, \"support\": null, \"Stage\": \"all\", \"C\": 0.2}, {\"precision\": 0.92, \"recall\": 0.8214285714285714, \"F_score\": 0.8679245283018867, \"support\": 28.0, \"Stage\": \"no_agg\", \"C\": 0.1}, {\"precision\": 0.0, \"recall\": 0.0, \"F_score\": 0.0, \"support\": 9.0, \"Stage\": \"stream\", \"C\": 0.1}, {\"precision\": 0.0, \"recall\": 0.0, \"F_score\": 0.0, \"support\": 14.0, \"Stage\": \"lag\", \"C\": 0.1}, {\"precision\": 0.0, \"recall\": 0.0, \"F_score\": 0.0, \"support\": 12.0, \"Stage\": \"tag\", \"C\": 0.1}, {\"precision\": 0.0, \"recall\": 0.0, \"F_score\": 0.0, \"support\": 4.0, \"Stage\": \"tip\", \"C\": 0.1}, {\"precision\": 0.0, \"recall\": 0.0, \"F_score\": 0.0, \"support\": 10.0, \"Stage\": \"slug\", \"C\": 0.1}, {\"precision\": 0.0, \"recall\": 0.0, \"F_score\": 0.0, \"support\": 2.0, \"Stage\": \"mhat\", \"C\": 0.1}, {\"precision\": 0.0, \"recall\": 0.0, \"F_score\": 0.0, \"support\": 6.0, \"Stage\": \"cul\", \"C\": 0.1}, {\"precision\": 0.0, \"recall\": 0.0, \"F_score\": 0.0, \"support\": 3.0, \"Stage\": \"FB\", \"C\": 0.1}, {\"precision\": 0.0, \"recall\": 0.0, \"F_score\": 0.0, \"support\": 4.0, \"Stage\": \"disappear\", \"C\": 0.1}, {\"precision\": 0.92, \"recall\": 0.25, \"F_score\": 0.3931623931623932, \"support\": null, \"Stage\": \"all\", \"C\": 0.1}, {\"precision\": 0.8125, \"recall\": 0.9285714285714286, \"F_score\": 0.8666666666666666, \"support\": 28.0, \"Stage\": \"no_agg\", \"C\": 0.9}, {\"precision\": 0.6666666666666666, \"recall\": 0.3333333333333333, \"F_score\": 0.4444444444444444, \"support\": 12.0, \"Stage\": \"stream\", \"C\": 0.9}, {\"precision\": 0.8, \"recall\": 0.5333333333333333, \"F_score\": 0.64, \"support\": 15.0, \"Stage\": \"lag\", \"C\": 0.9}, {\"precision\": 0.8571428571428571, \"recall\": 0.5, \"F_score\": 0.631578947368421, \"support\": 12.0, \"Stage\": \"tag\", \"C\": 0.9}, {\"precision\": 1.0, \"recall\": 0.25, \"F_score\": 0.4, \"support\": 4.0, \"Stage\": \"tip\", \"C\": 0.9}, {\"precision\": 0.8571428571428571, \"recall\": 0.6, \"F_score\": 0.7058823529411764, \"support\": 10.0, \"Stage\": \"slug\", \"C\": 0.9}, {\"precision\": 0.5, \"recall\": 0.5, \"F_score\": 0.5, \"support\": 2.0, \"Stage\": \"mhat\", \"C\": 0.9}, {\"precision\": 0.75, \"recall\": 0.5, \"F_score\": 0.6, \"support\": 6.0, \"Stage\": \"cul\", \"C\": 0.9}, {\"precision\": 0.6666666666666666, \"recall\": 0.5, \"F_score\": 0.5714285714285715, \"support\": 4.0, \"Stage\": \"FB\", \"C\": 0.9}, {\"precision\": 0.5, \"recall\": 0.5, \"F_score\": 0.5, \"support\": 2.0, \"Stage\": \"disappear\", \"C\": 0.9}, {\"precision\": 0.7837837837837838, \"recall\": 0.6105263157894737, \"F_score\": 0.6863905325443787, \"support\": null, \"Stage\": \"all\", \"C\": 0.9}, {\"precision\": 0.8064516129032258, \"recall\": 0.8928571428571429, \"F_score\": 0.8474576271186439, \"support\": 28.0, \"Stage\": \"no_agg\", \"C\": 0.7}, {\"precision\": 0.75, \"recall\": 0.25, \"F_score\": 0.375, \"support\": 12.0, \"Stage\": \"stream\", \"C\": 0.7}, {\"precision\": 0.8, \"recall\": 0.5333333333333333, \"F_score\": 0.64, \"support\": 15.0, \"Stage\": \"lag\", \"C\": 0.7}, {\"precision\": 0.8571428571428571, \"recall\": 0.5, \"F_score\": 0.631578947368421, \"support\": 12.0, \"Stage\": \"tag\", \"C\": 0.7}, {\"precision\": 0.0, \"recall\": 0.0, \"F_score\": 0.0, \"support\": 4.0, \"Stage\": \"tip\", \"C\": 0.7}, {\"precision\": 0.8571428571428571, \"recall\": 0.6, \"F_score\": 0.7058823529411764, \"support\": 10.0, \"Stage\": \"slug\", \"C\": 0.7}, {\"precision\": 0.5, \"recall\": 0.5, \"F_score\": 0.5, \"support\": 2.0, \"Stage\": \"mhat\", \"C\": 0.7}, {\"precision\": 0.75, \"recall\": 0.5, \"F_score\": 0.6, \"support\": 6.0, \"Stage\": \"cul\", \"C\": 0.7}, {\"precision\": 0.6666666666666666, \"recall\": 0.5, \"F_score\": 0.5714285714285715, \"support\": 4.0, \"Stage\": \"FB\", \"C\": 0.7}, {\"precision\": 0.0, \"recall\": 0.0, \"F_score\": 0.0, \"support\": 2.0, \"Stage\": \"disappear\", \"C\": 0.7}, {\"precision\": 0.7941176470588235, \"recall\": 0.5684210526315789, \"F_score\": 0.6625766871165645, \"support\": null, \"Stage\": \"all\", \"C\": 0.7}, {\"precision\": 0.78125, \"recall\": 0.8928571428571429, \"F_score\": 0.8333333333333334, \"support\": 28.0, \"Stage\": \"no_agg\", \"C\": 0.5}, {\"precision\": 0.75, \"recall\": 0.25, \"F_score\": 0.375, \"support\": 12.0, \"Stage\": \"stream\", \"C\": 0.5}, {\"precision\": 0.7777777777777778, \"recall\": 0.4666666666666667, \"F_score\": 0.5833333333333334, \"support\": 15.0, \"Stage\": \"lag\", \"C\": 0.5}, {\"precision\": 0.8571428571428571, \"recall\": 0.5, \"F_score\": 0.631578947368421, \"support\": 12.0, \"Stage\": \"tag\", \"C\": 0.5}, {\"precision\": 0.0, \"recall\": 0.0, \"F_score\": 0.0, \"support\": 4.0, \"Stage\": \"tip\", \"C\": 0.5}, {\"precision\": 0.8333333333333334, \"recall\": 0.5, \"F_score\": 0.625, \"support\": 10.0, \"Stage\": \"slug\", \"C\": 0.5}, {\"precision\": 0.0, \"recall\": 0.0, \"F_score\": 0.0, \"support\": 2.0, \"Stage\": \"mhat\", \"C\": 0.5}, {\"precision\": 0.6666666666666666, \"recall\": 0.3333333333333333, \"F_score\": 0.4444444444444444, \"support\": 6.0, \"Stage\": \"cul\", \"C\": 0.5}, {\"precision\": 0.0, \"recall\": 0.0, \"F_score\": 0.0, \"support\": 4.0, \"Stage\": \"FB\", \"C\": 0.5}, {\"precision\": 0.0, \"recall\": 0.0, \"F_score\": 0.0, \"support\": 2.0, \"Stage\": \"disappear\", \"C\": 0.5}, {\"precision\": 0.7741935483870968, \"recall\": 0.5052631578947369, \"F_score\": 0.6114649681528662, \"support\": null, \"Stage\": \"all\", \"C\": 0.5}, {\"precision\": 0.8928571428571429, \"recall\": 0.8928571428571429, \"F_score\": 0.8928571428571429, \"support\": 28.0, \"Stage\": \"no_agg\", \"C\": 0.3}, {\"precision\": 1.0, \"recall\": 0.16666666666666666, \"F_score\": 0.2857142857142857, \"support\": 12.0, \"Stage\": \"stream\", \"C\": 0.3}, {\"precision\": 0.7777777777777778, \"recall\": 0.4666666666666667, \"F_score\": 0.5833333333333334, \"support\": 15.0, \"Stage\": \"lag\", \"C\": 0.3}, {\"precision\": 1.0, \"recall\": 0.3333333333333333, \"F_score\": 0.5, \"support\": 12.0, \"Stage\": \"tag\", \"C\": 0.3}, {\"precision\": 0.0, \"recall\": 0.0, \"F_score\": 0.0, \"support\": 4.0, \"Stage\": \"tip\", \"C\": 0.3}, {\"precision\": 0.8, \"recall\": 0.4, \"F_score\": 0.5333333333333333, \"support\": 10.0, \"Stage\": \"slug\", \"C\": 0.3}, {\"precision\": 0.0, \"recall\": 0.0, \"F_score\": 0.0, \"support\": 2.0, \"Stage\": \"mhat\", \"C\": 0.3}, {\"precision\": 0.5, \"recall\": 0.16666666666666666, \"F_score\": 0.25, \"support\": 6.0, \"Stage\": \"cul\", \"C\": 0.3}, {\"precision\": 0.0, \"recall\": 0.0, \"F_score\": 0.0, \"support\": 4.0, \"Stage\": \"FB\", \"C\": 0.3}, {\"precision\": 0.0, \"recall\": 0.0, \"F_score\": 0.0, \"support\": 2.0, \"Stage\": \"disappear\", \"C\": 0.3}, {\"precision\": 0.86, \"recall\": 0.45263157894736844, \"F_score\": 0.5931034482758621, \"support\": null, \"Stage\": \"all\", \"C\": 0.3}, {\"precision\": 0.8666666666666667, \"recall\": 0.9285714285714286, \"F_score\": 0.896551724137931, \"support\": 28.0, \"Stage\": \"no_agg\", \"C\": 0.2}, {\"precision\": 0.0, \"recall\": 0.0, \"F_score\": 0.0, \"support\": 12.0, \"Stage\": \"stream\", \"C\": 0.2}, {\"precision\": 1.0, \"recall\": 0.2, \"F_score\": 0.33333333333333337, \"support\": 15.0, \"Stage\": \"lag\", \"C\": 0.2}, {\"precision\": 1.0, \"recall\": 0.08333333333333333, \"F_score\": 0.15384615384615385, \"support\": 12.0, \"Stage\": \"tag\", \"C\": 0.2}, {\"precision\": 0.0, \"recall\": 0.0, \"F_score\": 0.0, \"support\": 4.0, \"Stage\": \"tip\", \"C\": 0.2}, {\"precision\": 1.0, \"recall\": 0.3, \"F_score\": 0.4615384615384615, \"support\": 10.0, \"Stage\": \"slug\", \"C\": 0.2}, {\"precision\": 0.0, \"recall\": 0.0, \"F_score\": 0.0, \"support\": 2.0, \"Stage\": \"mhat\", \"C\": 0.2}, {\"precision\": 1.0, \"recall\": 0.16666666666666666, \"F_score\": 0.2857142857142857, \"support\": 6.0, \"Stage\": \"cul\", \"C\": 0.2}, {\"precision\": 0.0, \"recall\": 0.0, \"F_score\": 0.0, \"support\": 4.0, \"Stage\": \"FB\", \"C\": 0.2}, {\"precision\": 0.0, \"recall\": 0.0, \"F_score\": 0.0, \"support\": 2.0, \"Stage\": \"disappear\", \"C\": 0.2}, {\"precision\": 0.8947368421052632, \"recall\": 0.35789473684210527, \"F_score\": 0.5112781954887218, \"support\": null, \"Stage\": \"all\", \"C\": 0.2}, {\"precision\": 0.8571428571428571, \"recall\": 0.8571428571428571, \"F_score\": 0.8571428571428571, \"support\": 28.0, \"Stage\": \"no_agg\", \"C\": 0.1}, {\"precision\": 0.0, \"recall\": 0.0, \"F_score\": 0.0, \"support\": 12.0, \"Stage\": \"stream\", \"C\": 0.1}, {\"precision\": 0.0, \"recall\": 0.0, \"F_score\": 0.0, \"support\": 15.0, \"Stage\": \"lag\", \"C\": 0.1}, {\"precision\": 0.0, \"recall\": 0.0, \"F_score\": 0.0, \"support\": 12.0, \"Stage\": \"tag\", \"C\": 0.1}, {\"precision\": 0.0, \"recall\": 0.0, \"F_score\": 0.0, \"support\": 4.0, \"Stage\": \"tip\", \"C\": 0.1}, {\"precision\": 0.0, \"recall\": 0.0, \"F_score\": 0.0, \"support\": 10.0, \"Stage\": \"slug\", \"C\": 0.1}, {\"precision\": 0.0, \"recall\": 0.0, \"F_score\": 0.0, \"support\": 2.0, \"Stage\": \"mhat\", \"C\": 0.1}, {\"precision\": 0.0, \"recall\": 0.0, \"F_score\": 0.0, \"support\": 6.0, \"Stage\": \"cul\", \"C\": 0.1}, {\"precision\": 0.0, \"recall\": 0.0, \"F_score\": 0.0, \"support\": 4.0, \"Stage\": \"FB\", \"C\": 0.1}, {\"precision\": 0.0, \"recall\": 0.0, \"F_score\": 0.0, \"support\": 2.0, \"Stage\": \"disappear\", \"C\": 0.1}, {\"precision\": 0.8571428571428571, \"recall\": 0.25263157894736843, \"F_score\": 0.3902439024390244, \"support\": null, \"Stage\": \"all\", \"C\": 0.1}, {\"precision\": 0.8518518518518519, \"recall\": 0.8518518518518519, \"F_score\": 0.8518518518518519, \"support\": 27.0, \"Stage\": \"no_agg\", \"C\": 0.9}, {\"precision\": 0.4, \"recall\": 0.4444444444444444, \"F_score\": 0.4210526315789474, \"support\": 9.0, \"Stage\": \"stream\", \"C\": 0.9}, {\"precision\": 0.8461538461538461, \"recall\": 0.7857142857142857, \"F_score\": 0.8148148148148148, \"support\": 14.0, \"Stage\": \"lag\", \"C\": 0.9}, {\"precision\": 0.8, \"recall\": 0.7272727272727273, \"F_score\": 0.761904761904762, \"support\": 11.0, \"Stage\": \"tag\", \"C\": 0.9}, {\"precision\": 1.0, \"recall\": 0.2, \"F_score\": 0.33333333333333337, \"support\": 5.0, \"Stage\": \"tip\", \"C\": 0.9}, {\"precision\": 0.7, \"recall\": 0.7, \"F_score\": 0.7, \"support\": 10.0, \"Stage\": \"slug\", \"C\": 0.9}, {\"precision\": 0.0, \"recall\": 0.0, \"F_score\": 0.0, \"support\": 3.0, \"Stage\": \"mhat\", \"C\": 0.9}, {\"precision\": 0.5, \"recall\": 0.8, \"F_score\": 0.6153846153846154, \"support\": 5.0, \"Stage\": \"cul\", \"C\": 0.9}, {\"precision\": 0.4, \"recall\": 0.5, \"F_score\": 0.4444444444444445, \"support\": 4.0, \"Stage\": \"FB\", \"C\": 0.9}, {\"precision\": 0.0, \"recall\": 0.0, \"F_score\": 0.0, \"support\": 2.0, \"Stage\": \"disappear\", \"C\": 0.9}, {\"precision\": 0.7058823529411765, \"recall\": 0.6666666666666666, \"F_score\": 0.6857142857142857, \"support\": null, \"Stage\": \"all\", \"C\": 0.9}, {\"precision\": 0.8518518518518519, \"recall\": 0.8518518518518519, \"F_score\": 0.8518518518518519, \"support\": 27.0, \"Stage\": \"no_agg\", \"C\": 0.7}, {\"precision\": 0.3333333333333333, \"recall\": 0.3333333333333333, \"F_score\": 0.3333333333333333, \"support\": 9.0, \"Stage\": \"stream\", \"C\": 0.7}, {\"precision\": 0.8461538461538461, \"recall\": 0.7857142857142857, \"F_score\": 0.8148148148148148, \"support\": 14.0, \"Stage\": \"lag\", \"C\": 0.7}, {\"precision\": 0.8888888888888888, \"recall\": 0.7272727272727273, \"F_score\": 0.7999999999999999, \"support\": 11.0, \"Stage\": \"tag\", \"C\": 0.7}, {\"precision\": 1.0, \"recall\": 0.2, \"F_score\": 0.33333333333333337, \"support\": 5.0, \"Stage\": \"tip\", \"C\": 0.7}, {\"precision\": 0.7, \"recall\": 0.7, \"F_score\": 0.7, \"support\": 10.0, \"Stage\": \"slug\", \"C\": 0.7}, {\"precision\": 0.0, \"recall\": 0.0, \"F_score\": 0.0, \"support\": 3.0, \"Stage\": \"mhat\", \"C\": 0.7}, {\"precision\": 0.5, \"recall\": 0.8, \"F_score\": 0.6153846153846154, \"support\": 5.0, \"Stage\": \"cul\", \"C\": 0.7}, {\"precision\": 0.25, \"recall\": 0.25, \"F_score\": 0.25, \"support\": 4.0, \"Stage\": \"FB\", \"C\": 0.7}, {\"precision\": 0.0, \"recall\": 0.0, \"F_score\": 0.0, \"support\": 2.0, \"Stage\": \"disappear\", \"C\": 0.7}, {\"precision\": 0.7073170731707317, \"recall\": 0.6444444444444445, \"F_score\": 0.6744186046511628, \"support\": null, \"Stage\": \"all\", \"C\": 0.7}, {\"precision\": 0.8518518518518519, \"recall\": 0.8518518518518519, \"F_score\": 0.8518518518518519, \"support\": 27.0, \"Stage\": \"no_agg\", \"C\": 0.5}, {\"precision\": 0.375, \"recall\": 0.3333333333333333, \"F_score\": 0.35294117647058826, \"support\": 9.0, \"Stage\": \"stream\", \"C\": 0.5}, {\"precision\": 0.8333333333333334, \"recall\": 0.7142857142857143, \"F_score\": 0.7692307692307692, \"support\": 14.0, \"Stage\": \"lag\", \"C\": 0.5}, {\"precision\": 0.875, \"recall\": 0.6363636363636364, \"F_score\": 0.7368421052631579, \"support\": 11.0, \"Stage\": \"tag\", \"C\": 0.5}, {\"precision\": 0.0, \"recall\": 0.0, \"F_score\": 0.0, \"support\": 5.0, \"Stage\": \"tip\", \"C\": 0.5}, {\"precision\": 0.7142857142857143, \"recall\": 0.5, \"F_score\": 0.588235294117647, \"support\": 10.0, \"Stage\": \"slug\", \"C\": 0.5}, {\"precision\": 0.0, \"recall\": 0.0, \"F_score\": 0.0, \"support\": 3.0, \"Stage\": \"mhat\", \"C\": 0.5}, {\"precision\": 0.5714285714285714, \"recall\": 0.8, \"F_score\": 0.6666666666666666, \"support\": 5.0, \"Stage\": \"cul\", \"C\": 0.5}, {\"precision\": 0.0, \"recall\": 0.0, \"F_score\": 0.0, \"support\": 4.0, \"Stage\": \"FB\", \"C\": 0.5}, {\"precision\": 0.0, \"recall\": 0.0, \"F_score\": 0.0, \"support\": 2.0, \"Stage\": \"disappear\", \"C\": 0.5}, {\"precision\": 0.7323943661971831, \"recall\": 0.5777777777777777, \"F_score\": 0.6459627329192545, \"support\": null, \"Stage\": \"all\", \"C\": 0.5}, {\"precision\": 0.8076923076923077, \"recall\": 0.7777777777777778, \"F_score\": 0.7924528301886792, \"support\": 27.0, \"Stage\": \"no_agg\", \"C\": 0.3}, {\"precision\": 0.25, \"recall\": 0.1111111111111111, \"F_score\": 0.15384615384615383, \"support\": 9.0, \"Stage\": \"stream\", \"C\": 0.3}, {\"precision\": 0.7777777777777778, \"recall\": 0.5, \"F_score\": 0.6086956521739131, \"support\": 14.0, \"Stage\": \"lag\", \"C\": 0.3}, {\"precision\": 1.0, \"recall\": 0.18181818181818182, \"F_score\": 0.3076923076923077, \"support\": 11.0, \"Stage\": \"tag\", \"C\": 0.3}, {\"precision\": 0.0, \"recall\": 0.0, \"F_score\": 0.0, \"support\": 5.0, \"Stage\": \"tip\", \"C\": 0.3}, {\"precision\": 0.7142857142857143, \"recall\": 0.5, \"F_score\": 0.588235294117647, \"support\": 10.0, \"Stage\": \"slug\", \"C\": 0.3}, {\"precision\": 0.0, \"recall\": 0.0, \"F_score\": 0.0, \"support\": 3.0, \"Stage\": \"mhat\", \"C\": 0.3}, {\"precision\": 0.75, \"recall\": 0.6, \"F_score\": 0.6666666666666665, \"support\": 5.0, \"Stage\": \"cul\", \"C\": 0.3}, {\"precision\": 0.0, \"recall\": 0.0, \"F_score\": 0.0, \"support\": 4.0, \"Stage\": \"FB\", \"C\": 0.3}, {\"precision\": 0.0, \"recall\": 0.0, \"F_score\": 0.0, \"support\": 2.0, \"Stage\": \"disappear\", \"C\": 0.3}, {\"precision\": 0.75, \"recall\": 0.43333333333333335, \"F_score\": 0.5492957746478874, \"support\": null, \"Stage\": \"all\", \"C\": 0.3}, {\"precision\": 0.8076923076923077, \"recall\": 0.7777777777777778, \"F_score\": 0.7924528301886792, \"support\": 27.0, \"Stage\": \"no_agg\", \"C\": 0.2}, {\"precision\": 0.0, \"recall\": 0.0, \"F_score\": 0.0, \"support\": 9.0, \"Stage\": \"stream\", \"C\": 0.2}, {\"precision\": 1.0, \"recall\": 0.14285714285714285, \"F_score\": 0.25, \"support\": 14.0, \"Stage\": \"lag\", \"C\": 0.2}, {\"precision\": 1.0, \"recall\": 0.09090909090909091, \"F_score\": 0.16666666666666669, \"support\": 11.0, \"Stage\": \"tag\", \"C\": 0.2}, {\"precision\": 0.0, \"recall\": 0.0, \"F_score\": 0.0, \"support\": 5.0, \"Stage\": \"tip\", \"C\": 0.2}, {\"precision\": 1.0, \"recall\": 0.2, \"F_score\": 0.33333333333333337, \"support\": 10.0, \"Stage\": \"slug\", \"C\": 0.2}, {\"precision\": 0.0, \"recall\": 0.0, \"F_score\": 0.0, \"support\": 3.0, \"Stage\": \"mhat\", \"C\": 0.2}, {\"precision\": 0.0, \"recall\": 0.0, \"F_score\": 0.0, \"support\": 5.0, \"Stage\": \"cul\", \"C\": 0.2}, {\"precision\": 0.0, \"recall\": 0.0, \"F_score\": 0.0, \"support\": 4.0, \"Stage\": \"FB\", \"C\": 0.2}, {\"precision\": 0.0, \"recall\": 0.0, \"F_score\": 0.0, \"support\": 2.0, \"Stage\": \"disappear\", \"C\": 0.2}, {\"precision\": 0.8125, \"recall\": 0.28888888888888886, \"F_score\": 0.4262295081967213, \"support\": null, \"Stage\": \"all\", \"C\": 0.2}, {\"precision\": 0.84, \"recall\": 0.7777777777777778, \"F_score\": 0.8076923076923077, \"support\": 27.0, \"Stage\": \"no_agg\", \"C\": 0.1}, {\"precision\": 0.0, \"recall\": 0.0, \"F_score\": 0.0, \"support\": 9.0, \"Stage\": \"stream\", \"C\": 0.1}, {\"precision\": 0.0, \"recall\": 0.0, \"F_score\": 0.0, \"support\": 14.0, \"Stage\": \"lag\", \"C\": 0.1}, {\"precision\": 0.0, \"recall\": 0.0, \"F_score\": 0.0, \"support\": 11.0, \"Stage\": \"tag\", \"C\": 0.1}, {\"precision\": 0.0, \"recall\": 0.0, \"F_score\": 0.0, \"support\": 5.0, \"Stage\": \"tip\", \"C\": 0.1}, {\"precision\": 0.0, \"recall\": 0.0, \"F_score\": 0.0, \"support\": 10.0, \"Stage\": \"slug\", \"C\": 0.1}, {\"precision\": 0.0, \"recall\": 0.0, \"F_score\": 0.0, \"support\": 3.0, \"Stage\": \"mhat\", \"C\": 0.1}, {\"precision\": 0.0, \"recall\": 0.0, \"F_score\": 0.0, \"support\": 5.0, \"Stage\": \"cul\", \"C\": 0.1}, {\"precision\": 0.0, \"recall\": 0.0, \"F_score\": 0.0, \"support\": 4.0, \"Stage\": \"FB\", \"C\": 0.1}, {\"precision\": 0.0, \"recall\": 0.0, \"F_score\": 0.0, \"support\": 2.0, \"Stage\": \"disappear\", \"C\": 0.1}, {\"precision\": 0.84, \"recall\": 0.23333333333333334, \"F_score\": 0.3652173913043479, \"support\": null, \"Stage\": \"all\", \"C\": 0.1}, {\"precision\": 0.7647058823529411, \"recall\": 0.9629629629629629, \"F_score\": 0.8524590163934426, \"support\": 27.0, \"Stage\": \"no_agg\", \"C\": 0.9}, {\"precision\": 0.5714285714285714, \"recall\": 0.4, \"F_score\": 0.47058823529411764, \"support\": 10.0, \"Stage\": \"stream\", \"C\": 0.9}, {\"precision\": 0.75, \"recall\": 0.6, \"F_score\": 0.6666666666666665, \"support\": 15.0, \"Stage\": \"lag\", \"C\": 0.9}, {\"precision\": 0.8, \"recall\": 0.7272727272727273, \"F_score\": 0.761904761904762, \"support\": 11.0, \"Stage\": \"tag\", \"C\": 0.9}, {\"precision\": 1.0, \"recall\": 0.25, \"F_score\": 0.4, \"support\": 4.0, \"Stage\": \"tip\", \"C\": 0.9}, {\"precision\": 0.75, \"recall\": 0.6, \"F_score\": 0.6666666666666665, \"support\": 10.0, \"Stage\": \"slug\", \"C\": 0.9}, {\"precision\": 0.5, \"recall\": 0.5, \"F_score\": 0.5, \"support\": 2.0, \"Stage\": \"mhat\", \"C\": 0.9}, {\"precision\": 1.0, \"recall\": 0.6, \"F_score\": 0.7499999999999999, \"support\": 5.0, \"Stage\": \"cul\", \"C\": 0.9}, {\"precision\": 1.0, \"recall\": 0.5, \"F_score\": 0.6666666666666666, \"support\": 4.0, \"Stage\": \"FB\", \"C\": 0.9}, {\"precision\": 0.0, \"recall\": 0.0, \"F_score\": 0.0, \"support\": 3.0, \"Stage\": \"disappear\", \"C\": 0.9}, {\"precision\": 0.7317073170731707, \"recall\": 0.6593406593406593, \"F_score\": 0.6936416184971097, \"support\": null, \"Stage\": \"all\", \"C\": 0.9}, {\"precision\": 0.7647058823529411, \"recall\": 0.9629629629629629, \"F_score\": 0.8524590163934426, \"support\": 27.0, \"Stage\": \"no_agg\", \"C\": 0.7}, {\"precision\": 0.5, \"recall\": 0.3, \"F_score\": 0.37499999999999994, \"support\": 10.0, \"Stage\": \"stream\", \"C\": 0.7}, {\"precision\": 0.8181818181818182, \"recall\": 0.6, \"F_score\": 0.6923076923076923, \"support\": 15.0, \"Stage\": \"lag\", \"C\": 0.7}, {\"precision\": 0.8, \"recall\": 0.7272727272727273, \"F_score\": 0.761904761904762, \"support\": 11.0, \"Stage\": \"tag\", \"C\": 0.7}, {\"precision\": 0.0, \"recall\": 0.0, \"F_score\": 0.0, \"support\": 4.0, \"Stage\": \"tip\", \"C\": 0.7}, {\"precision\": 0.7142857142857143, \"recall\": 0.5, \"F_score\": 0.588235294117647, \"support\": 10.0, \"Stage\": \"slug\", \"C\": 0.7}, {\"precision\": 0.0, \"recall\": 0.0, \"F_score\": 0.0, \"support\": 2.0, \"Stage\": \"mhat\", \"C\": 0.7}, {\"precision\": 1.0, \"recall\": 0.4, \"F_score\": 0.5714285714285715, \"support\": 5.0, \"Stage\": \"cul\", \"C\": 0.7}, {\"precision\": 1.0, \"recall\": 0.25, \"F_score\": 0.4, \"support\": 4.0, \"Stage\": \"FB\", \"C\": 0.7}, {\"precision\": 0.0, \"recall\": 0.0, \"F_score\": 0.0, \"support\": 3.0, \"Stage\": \"disappear\", \"C\": 0.7}, {\"precision\": 0.7297297297297297, \"recall\": 0.5934065934065934, \"F_score\": 0.6545454545454545, \"support\": null, \"Stage\": \"all\", \"C\": 0.7}, {\"precision\": 0.7575757575757576, \"recall\": 0.9259259259259259, \"F_score\": 0.8333333333333334, \"support\": 27.0, \"Stage\": \"no_agg\", \"C\": 0.5}, {\"precision\": 0.5, \"recall\": 0.3, \"F_score\": 0.37499999999999994, \"support\": 10.0, \"Stage\": \"stream\", \"C\": 0.5}, {\"precision\": 0.8, \"recall\": 0.5333333333333333, \"F_score\": 0.64, \"support\": 15.0, \"Stage\": \"lag\", \"C\": 0.5}, {\"precision\": 0.8888888888888888, \"recall\": 0.7272727272727273, \"F_score\": 0.7999999999999999, \"support\": 11.0, \"Stage\": \"tag\", \"C\": 0.5}, {\"precision\": 0.0, \"recall\": 0.0, \"F_score\": 0.0, \"support\": 4.0, \"Stage\": \"tip\", \"C\": 0.5}, {\"precision\": 0.7142857142857143, \"recall\": 0.5, \"F_score\": 0.588235294117647, \"support\": 10.0, \"Stage\": \"slug\", \"C\": 0.5}, {\"precision\": 0.0, \"recall\": 0.0, \"F_score\": 0.0, \"support\": 2.0, \"Stage\": \"mhat\", \"C\": 0.5}, {\"precision\": 1.0, \"recall\": 0.4, \"F_score\": 0.5714285714285715, \"support\": 5.0, \"Stage\": \"cul\", \"C\": 0.5}, {\"precision\": 1.0, \"recall\": 0.25, \"F_score\": 0.4, \"support\": 4.0, \"Stage\": \"FB\", \"C\": 0.5}, {\"precision\": 0.0, \"recall\": 0.0, \"F_score\": 0.0, \"support\": 3.0, \"Stage\": \"disappear\", \"C\": 0.5}, {\"precision\": 0.7536231884057971, \"recall\": 0.5714285714285714, \"F_score\": 0.6499999999999999, \"support\": null, \"Stage\": \"all\", \"C\": 0.5}, {\"precision\": 0.75, \"recall\": 0.8888888888888888, \"F_score\": 0.8135593220338982, \"support\": 27.0, \"Stage\": \"no_agg\", \"C\": 0.3}, {\"precision\": 0.5, \"recall\": 0.3, \"F_score\": 0.37499999999999994, \"support\": 10.0, \"Stage\": \"stream\", \"C\": 0.3}, {\"precision\": 0.8, \"recall\": 0.5333333333333333, \"F_score\": 0.64, \"support\": 15.0, \"Stage\": \"lag\", \"C\": 0.3}, {\"precision\": 0.8571428571428571, \"recall\": 0.5454545454545454, \"F_score\": 0.6666666666666665, \"support\": 11.0, \"Stage\": \"tag\", \"C\": 0.3}, {\"precision\": 0.0, \"recall\": 0.0, \"F_score\": 0.0, \"support\": 4.0, \"Stage\": \"tip\", \"C\": 0.3}, {\"precision\": 0.8333333333333334, \"recall\": 0.5, \"F_score\": 0.625, \"support\": 10.0, \"Stage\": \"slug\", \"C\": 0.3}, {\"precision\": 0.0, \"recall\": 0.0, \"F_score\": 0.0, \"support\": 2.0, \"Stage\": \"mhat\", \"C\": 0.3}, {\"precision\": 1.0, \"recall\": 0.4, \"F_score\": 0.5714285714285715, \"support\": 5.0, \"Stage\": \"cul\", \"C\": 0.3}, {\"precision\": 0.0, \"recall\": 0.0, \"F_score\": 0.0, \"support\": 4.0, \"Stage\": \"FB\", \"C\": 0.3}, {\"precision\": 0.0, \"recall\": 0.0, \"F_score\": 0.0, \"support\": 3.0, \"Stage\": \"disappear\", \"C\": 0.3}, {\"precision\": 0.7619047619047619, \"recall\": 0.5274725274725275, \"F_score\": 0.6233766233766234, \"support\": null, \"Stage\": \"all\", \"C\": 0.3}, {\"precision\": 0.7272727272727273, \"recall\": 0.8888888888888888, \"F_score\": 0.7999999999999999, \"support\": 27.0, \"Stage\": \"no_agg\", \"C\": 0.2}, {\"precision\": 0.0, \"recall\": 0.0, \"F_score\": 0.0, \"support\": 10.0, \"Stage\": \"stream\", \"C\": 0.2}, {\"precision\": 1.0, \"recall\": 0.06666666666666667, \"F_score\": 0.125, \"support\": 15.0, \"Stage\": \"lag\", \"C\": 0.2}, {\"precision\": 1.0, \"recall\": 0.09090909090909091, \"F_score\": 0.16666666666666669, \"support\": 11.0, \"Stage\": \"tag\", \"C\": 0.2}, {\"precision\": 0.0, \"recall\": 0.0, \"F_score\": 0.0, \"support\": 4.0, \"Stage\": \"tip\", \"C\": 0.2}, {\"precision\": 0.75, \"recall\": 0.3, \"F_score\": 0.4285714285714285, \"support\": 10.0, \"Stage\": \"slug\", \"C\": 0.2}, {\"precision\": 0.0, \"recall\": 0.0, \"F_score\": 0.0, \"support\": 2.0, \"Stage\": \"mhat\", \"C\": 0.2}, {\"precision\": 1.0, \"recall\": 0.4, \"F_score\": 0.5714285714285715, \"support\": 5.0, \"Stage\": \"cul\", \"C\": 0.2}, {\"precision\": 0.0, \"recall\": 0.0, \"F_score\": 0.0, \"support\": 4.0, \"Stage\": \"FB\", \"C\": 0.2}, {\"precision\": 0.0, \"recall\": 0.0, \"F_score\": 0.0, \"support\": 3.0, \"Stage\": \"disappear\", \"C\": 0.2}, {\"precision\": 0.7560975609756098, \"recall\": 0.34065934065934067, \"F_score\": 0.4696969696969698, \"support\": null, \"Stage\": \"all\", \"C\": 0.2}, {\"precision\": 0.7272727272727273, \"recall\": 0.8888888888888888, \"F_score\": 0.7999999999999999, \"support\": 27.0, \"Stage\": \"no_agg\", \"C\": 0.1}, {\"precision\": 0.0, \"recall\": 0.0, \"F_score\": 0.0, \"support\": 10.0, \"Stage\": \"stream\", \"C\": 0.1}, {\"precision\": 0.0, \"recall\": 0.0, \"F_score\": 0.0, \"support\": 15.0, \"Stage\": \"lag\", \"C\": 0.1}, {\"precision\": 0.0, \"recall\": 0.0, \"F_score\": 0.0, \"support\": 11.0, \"Stage\": \"tag\", \"C\": 0.1}, {\"precision\": 0.0, \"recall\": 0.0, \"F_score\": 0.0, \"support\": 4.0, \"Stage\": \"tip\", \"C\": 0.1}, {\"precision\": 0.0, \"recall\": 0.0, \"F_score\": 0.0, \"support\": 10.0, \"Stage\": \"slug\", \"C\": 0.1}, {\"precision\": 0.0, \"recall\": 0.0, \"F_score\": 0.0, \"support\": 2.0, \"Stage\": \"mhat\", \"C\": 0.1}, {\"precision\": 0.0, \"recall\": 0.0, \"F_score\": 0.0, \"support\": 5.0, \"Stage\": \"cul\", \"C\": 0.1}, {\"precision\": 0.0, \"recall\": 0.0, \"F_score\": 0.0, \"support\": 4.0, \"Stage\": \"FB\", \"C\": 0.1}, {\"precision\": 0.0, \"recall\": 0.0, \"F_score\": 0.0, \"support\": 3.0, \"Stage\": \"disappear\", \"C\": 0.1}, {\"precision\": 0.7272727272727273, \"recall\": 0.26373626373626374, \"F_score\": 0.3870967741935484, \"support\": null, \"Stage\": \"all\", \"C\": 0.1}, {\"precision\": 0.9259259259259259, \"recall\": 0.8928571428571429, \"F_score\": 0.9090909090909091, \"support\": 28.0, \"Stage\": \"no_agg\", \"C\": 0.9}, {\"precision\": 0.8333333333333334, \"recall\": 0.5555555555555556, \"F_score\": 0.6666666666666667, \"support\": 9.0, \"Stage\": \"stream\", \"C\": 0.9}, {\"precision\": 0.7692307692307693, \"recall\": 0.7142857142857143, \"F_score\": 0.7407407407407408, \"support\": 14.0, \"Stage\": \"lag\", \"C\": 0.9}, {\"precision\": 0.8571428571428571, \"recall\": 0.5454545454545454, \"F_score\": 0.6666666666666665, \"support\": 11.0, \"Stage\": \"tag\", \"C\": 0.9}, {\"precision\": 1.0, \"recall\": 0.25, \"F_score\": 0.4, \"support\": 4.0, \"Stage\": \"tip\", \"C\": 0.9}, {\"precision\": 1.0, \"recall\": 0.8, \"F_score\": 0.888888888888889, \"support\": 10.0, \"Stage\": \"slug\", \"C\": 0.9}, {\"precision\": 0.0, \"recall\": 0.0, \"F_score\": 0.0, \"support\": 2.0, \"Stage\": \"mhat\", \"C\": 0.9}, {\"precision\": 0.7142857142857143, \"recall\": 1.0, \"F_score\": 0.8333333333333333, \"support\": 5.0, \"Stage\": \"cul\", \"C\": 0.9}, {\"precision\": 0.6666666666666666, \"recall\": 0.5, \"F_score\": 0.5714285714285715, \"support\": 4.0, \"Stage\": \"FB\", \"C\": 0.9}, {\"precision\": 0.0, \"recall\": 0.0, \"F_score\": 0.0, \"support\": 6.0, \"Stage\": \"disappear\", \"C\": 0.9}, {\"precision\": 0.8611111111111112, \"recall\": 0.6666666666666666, \"F_score\": 0.7515151515151516, \"support\": null, \"Stage\": \"all\", \"C\": 0.9}, {\"precision\": 0.9259259259259259, \"recall\": 0.8928571428571429, \"F_score\": 0.9090909090909091, \"support\": 28.0, \"Stage\": \"no_agg\", \"C\": 0.7}, {\"precision\": 0.8333333333333334, \"recall\": 0.5555555555555556, \"F_score\": 0.6666666666666667, \"support\": 9.0, \"Stage\": \"stream\", \"C\": 0.7}, {\"precision\": 0.7692307692307693, \"recall\": 0.7142857142857143, \"F_score\": 0.7407407407407408, \"support\": 14.0, \"Stage\": \"lag\", \"C\": 0.7}, {\"precision\": 0.8571428571428571, \"recall\": 0.5454545454545454, \"F_score\": 0.6666666666666665, \"support\": 11.0, \"Stage\": \"tag\", \"C\": 0.7}, {\"precision\": 1.0, \"recall\": 0.25, \"F_score\": 0.4, \"support\": 4.0, \"Stage\": \"tip\", \"C\": 0.7}, {\"precision\": 1.0, \"recall\": 0.7, \"F_score\": 0.8235294117647058, \"support\": 10.0, \"Stage\": \"slug\", \"C\": 0.7}, {\"precision\": 0.0, \"recall\": 0.0, \"F_score\": 0.0, \"support\": 2.0, \"Stage\": \"mhat\", \"C\": 0.7}, {\"precision\": 0.8333333333333334, \"recall\": 1.0, \"F_score\": 0.9090909090909091, \"support\": 5.0, \"Stage\": \"cul\", \"C\": 0.7}, {\"precision\": 0.5, \"recall\": 0.25, \"F_score\": 0.3333333333333333, \"support\": 4.0, \"Stage\": \"FB\", \"C\": 0.7}, {\"precision\": 0.0, \"recall\": 0.0, \"F_score\": 0.0, \"support\": 6.0, \"Stage\": \"disappear\", \"C\": 0.7}, {\"precision\": 0.8695652173913043, \"recall\": 0.6451612903225806, \"F_score\": 0.7407407407407407, \"support\": null, \"Stage\": \"all\", \"C\": 0.7}, {\"precision\": 0.9230769230769231, \"recall\": 0.8571428571428571, \"F_score\": 0.888888888888889, \"support\": 28.0, \"Stage\": \"no_agg\", \"C\": 0.5}, {\"precision\": 0.8333333333333334, \"recall\": 0.5555555555555556, \"F_score\": 0.6666666666666667, \"support\": 9.0, \"Stage\": \"stream\", \"C\": 0.5}, {\"precision\": 0.8333333333333334, \"recall\": 0.7142857142857143, \"F_score\": 0.7692307692307692, \"support\": 14.0, \"Stage\": \"lag\", \"C\": 0.5}, {\"precision\": 1.0, \"recall\": 0.5454545454545454, \"F_score\": 0.7058823529411764, \"support\": 11.0, \"Stage\": \"tag\", \"C\": 0.5}, {\"precision\": 0.0, \"recall\": 0.0, \"F_score\": 0.0, \"support\": 4.0, \"Stage\": \"tip\", \"C\": 0.5}, {\"precision\": 1.0, \"recall\": 0.7, \"F_score\": 0.8235294117647058, \"support\": 10.0, \"Stage\": \"slug\", \"C\": 0.5}, {\"precision\": 0.0, \"recall\": 0.0, \"F_score\": 0.0, \"support\": 2.0, \"Stage\": \"mhat\", \"C\": 0.5}, {\"precision\": 0.8333333333333334, \"recall\": 1.0, \"F_score\": 0.9090909090909091, \"support\": 5.0, \"Stage\": \"cul\", \"C\": 0.5}, {\"precision\": 0.5, \"recall\": 0.25, \"F_score\": 0.3333333333333333, \"support\": 4.0, \"Stage\": \"FB\", \"C\": 0.5}, {\"precision\": 0.0, \"recall\": 0.0, \"F_score\": 0.0, \"support\": 6.0, \"Stage\": \"disappear\", \"C\": 0.5}, {\"precision\": 0.8923076923076924, \"recall\": 0.6236559139784946, \"F_score\": 0.7341772151898733, \"support\": null, \"Stage\": \"all\", \"C\": 0.5}, {\"precision\": 0.92, \"recall\": 0.8214285714285714, \"F_score\": 0.8679245283018867, \"support\": 28.0, \"Stage\": \"no_agg\", \"C\": 0.3}, {\"precision\": 0.5, \"recall\": 0.1111111111111111, \"F_score\": 0.1818181818181818, \"support\": 9.0, \"Stage\": \"stream\", \"C\": 0.3}, {\"precision\": 0.8, \"recall\": 0.5714285714285714, \"F_score\": 0.6666666666666666, \"support\": 14.0, \"Stage\": \"lag\", \"C\": 0.3}, {\"precision\": 1.0, \"recall\": 0.45454545454545453, \"F_score\": 0.625, \"support\": 11.0, \"Stage\": \"tag\", \"C\": 0.3}, {\"precision\": 0.0, \"recall\": 0.0, \"F_score\": 0.0, \"support\": 4.0, \"Stage\": \"tip\", \"C\": 0.3}, {\"precision\": 1.0, \"recall\": 0.5, \"F_score\": 0.6666666666666666, \"support\": 10.0, \"Stage\": \"slug\", \"C\": 0.3}, {\"precision\": 0.0, \"recall\": 0.0, \"F_score\": 0.0, \"support\": 2.0, \"Stage\": \"mhat\", \"C\": 0.3}, {\"precision\": 1.0, \"recall\": 1.0, \"F_score\": 1.0, \"support\": 5.0, \"Stage\": \"cul\", \"C\": 0.3}, {\"precision\": 0.0, \"recall\": 0.0, \"F_score\": 0.0, \"support\": 4.0, \"Stage\": \"FB\", \"C\": 0.3}, {\"precision\": 0.0, \"recall\": 0.0, \"F_score\": 0.0, \"support\": 6.0, \"Stage\": \"disappear\", \"C\": 0.3}, {\"precision\": 0.9038461538461539, \"recall\": 0.5053763440860215, \"F_score\": 0.6482758620689656, \"support\": null, \"Stage\": \"all\", \"C\": 0.3}, {\"precision\": 0.92, \"recall\": 0.8214285714285714, \"F_score\": 0.8679245283018867, \"support\": 28.0, \"Stage\": \"no_agg\", \"C\": 0.2}, {\"precision\": 0.0, \"recall\": 0.0, \"F_score\": 0.0, \"support\": 9.0, \"Stage\": \"stream\", \"C\": 0.2}, {\"precision\": 0.0, \"recall\": 0.0, \"F_score\": 0.0, \"support\": 14.0, \"Stage\": \"lag\", \"C\": 0.2}, {\"precision\": 1.0, \"recall\": 0.09090909090909091, \"F_score\": 0.16666666666666669, \"support\": 11.0, \"Stage\": \"tag\", \"C\": 0.2}, {\"precision\": 0.0, \"recall\": 0.0, \"F_score\": 0.0, \"support\": 4.0, \"Stage\": \"tip\", \"C\": 0.2}, {\"precision\": 1.0, \"recall\": 0.4, \"F_score\": 0.5714285714285715, \"support\": 10.0, \"Stage\": \"slug\", \"C\": 0.2}, {\"precision\": 0.0, \"recall\": 0.0, \"F_score\": 0.0, \"support\": 2.0, \"Stage\": \"mhat\", \"C\": 0.2}, {\"precision\": 0.0, \"recall\": 0.0, \"F_score\": 0.0, \"support\": 5.0, \"Stage\": \"cul\", \"C\": 0.2}, {\"precision\": 0.0, \"recall\": 0.0, \"F_score\": 0.0, \"support\": 4.0, \"Stage\": \"FB\", \"C\": 0.2}, {\"precision\": 0.0, \"recall\": 0.0, \"F_score\": 0.0, \"support\": 6.0, \"Stage\": \"disappear\", \"C\": 0.2}, {\"precision\": 0.9032258064516129, \"recall\": 0.3010752688172043, \"F_score\": 0.45161290322580644, \"support\": null, \"Stage\": \"all\", \"C\": 0.2}, {\"precision\": 0.92, \"recall\": 0.8214285714285714, \"F_score\": 0.8679245283018867, \"support\": 28.0, \"Stage\": \"no_agg\", \"C\": 0.1}, {\"precision\": 0.0, \"recall\": 0.0, \"F_score\": 0.0, \"support\": 9.0, \"Stage\": \"stream\", \"C\": 0.1}, {\"precision\": 0.0, \"recall\": 0.0, \"F_score\": 0.0, \"support\": 14.0, \"Stage\": \"lag\", \"C\": 0.1}, {\"precision\": 0.0, \"recall\": 0.0, \"F_score\": 0.0, \"support\": 11.0, \"Stage\": \"tag\", \"C\": 0.1}, {\"precision\": 0.0, \"recall\": 0.0, \"F_score\": 0.0, \"support\": 4.0, \"Stage\": \"tip\", \"C\": 0.1}, {\"precision\": 0.0, \"recall\": 0.0, \"F_score\": 0.0, \"support\": 10.0, \"Stage\": \"slug\", \"C\": 0.1}, {\"precision\": 0.0, \"recall\": 0.0, \"F_score\": 0.0, \"support\": 2.0, \"Stage\": \"mhat\", \"C\": 0.1}, {\"precision\": 0.0, \"recall\": 0.0, \"F_score\": 0.0, \"support\": 5.0, \"Stage\": \"cul\", \"C\": 0.1}, {\"precision\": 0.0, \"recall\": 0.0, \"F_score\": 0.0, \"support\": 4.0, \"Stage\": \"FB\", \"C\": 0.1}, {\"precision\": 0.0, \"recall\": 0.0, \"F_score\": 0.0, \"support\": 6.0, \"Stage\": \"disappear\", \"C\": 0.1}, {\"precision\": 0.92, \"recall\": 0.24731182795698925, \"F_score\": 0.38983050847457623, \"support\": null, \"Stage\": \"all\", \"C\": 0.1}]}};\n",
       "const opt = {};\n",
       "const type = \"vega-lite\";\n",
       "const id = \"6b96aa7f-9984-496d-8b10-bc2d4c6d6a8b\";\n",
       "\n",
       "const output_area = this;\n",
       "\n",
       "require([\"nbextensions/jupyter-vega/index\"], function(vega) {\n",
       "  const target = document.createElement(\"div\");\n",
       "  target.id = id;\n",
       "  target.className = \"vega-embed\";\n",
       "\n",
       "  const style = document.createElement(\"style\");\n",
       "  style.textContent = [\n",
       "    \".vega-embed .error p {\",\n",
       "    \"  color: firebrick;\",\n",
       "    \"  font-size: 14px;\",\n",
       "    \"}\",\n",
       "  ].join(\"\\\\n\");\n",
       "\n",
       "  // element is a jQuery wrapped DOM element inside the output area\n",
       "  // see http://ipython.readthedocs.io/en/stable/api/generated/\\\n",
       "  // IPython.display.html#IPython.display.Javascript.__init__\n",
       "  element[0].appendChild(target);\n",
       "  element[0].appendChild(style);\n",
       "\n",
       "  vega.render(\"#\" + id, spec, type, opt, output_area);\n",
       "}, function (err) {\n",
       "  if (err.requireType !== \"scripterror\") {\n",
       "    throw(err);\n",
       "  }\n",
       "});\n"
      ],
      "text/plain": [
       "<vega.vegalite.VegaLite at 0x7f08e7327208>"
      ]
     },
     "metadata": {
      "jupyter-vega": "#6b96aa7f-9984-496d-8b10-bc2d4c6d6a8b"
     },
     "output_type": "display_data"
    },
    {
     "data": {
      "text/plain": []
     },
     "execution_count": 17,
     "metadata": {},
     "output_type": "execute_result"
    },
    {
     "data": {
      "image/png": "[encoded data removed]"
     },
     "metadata": {
      "jupyter-vega": "#6b96aa7f-9984-496d-8b10-bc2d4c6d6a8b"
     },
     "output_type": "display_data"
    }
   ],
   "source": [
    "alt.Chart(prfs_all).mark_circle(size=20).encode(x='C',y='precision',color='Stage').transform_calculate(\n",
    "    jitter='sqrt(-2*log(random()))*cos(2*PI*random())'\n",
    ")"
   ]
  },
  {
   "cell_type": "code",
   "execution_count": null,
   "metadata": {},
   "outputs": [],
   "source": []
  }
 ],
 "metadata": {
  "kernelspec": {
   "display_name": "Python 3",
   "language": "python",
   "name": "python3"
  },
  "language_info": {
   "codemirror_mode": {
    "name": "ipython",
    "version": 3
   },
   "file_extension": ".py",
   "mimetype": "text/x-python",
   "name": "python",
   "nbconvert_exporter": "python",
   "pygments_lexer": "ipython3",
   "version": "3.6.8"
  }
 },
 "nbformat": 4,
 "nbformat_minor": 2
}
