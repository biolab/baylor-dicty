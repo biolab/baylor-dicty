{
 "cells": [
  {
   "cell_type": "markdown",
   "metadata": {},
   "source": [
    "# Phenotype classification  with logistic regression\n",
    "In order to predict phenotypes from expression data and select important developmental genes a multi-target/multi-label classification method was used: logistic regression based binary relevance classifier.  Binary relevance constructs a model for each target separately and then predicts the final label set as a union of predictions from target feature specific models. To perform feature (gene) selection l1 regularisation was used."
   ]
  },
  {
   "cell_type": "code",
   "execution_count": 376,
   "metadata": {},
   "outputs": [],
   "source": [
    "import os\n",
    "import sys\n",
    "from importlib import reload\n",
    "\n",
    "module_path = os.path.abspath(os.path.join('..'))\n",
    "if module_path not in sys.path:\n",
    "    sys.path.insert(0,module_path)\n",
    "\n",
    "\n",
    "import pandas as pd\n",
    "import numpy as np\n",
    "#from skmultilearn.problem_transform import ClassifierChain, BinaryRelevance\n",
    "from sklearn.multiclass import OneVsRestClassifier\n",
    "from sklearn.linear_model import LogisticRegression\n",
    "from sklearn.metrics import precision_recall_fscore_support,roc_auc_score,accuracy_score\n",
    "from skmultilearn.model_selection import IterativeStratification\n",
    "import sklearn.preprocessing as pp\n",
    "import altair as alt\n",
    "#alt.renderers.enable('notebook')\n",
    "from IPython.display import display\n",
    "import matplotlib.pyplot as plt\n",
    "import seaborn as sb\n",
    "\n",
    "import stages_DE.stages_library\n",
    "import importlib\n",
    "importlib.reload(stages_DE.stages_library)\n",
    "\n",
    "from networks.functionsDENet import loadPickle,savePickle\n",
    "from stages_DE.stages_library import PHENOTYPES, summary_classification, summary_classification_print_sort, scatter_catgory\n"
   ]
  },
  {
   "cell_type": "code",
   "execution_count": 317,
   "metadata": {},
   "outputs": [],
   "source": [
    "proteus=True\n",
    "if proteus:\n",
    "    pathClassification = '/home/khrovatin/timeTrajectoriesNet/data/stages/classification/'\n",
    "    dataPath= '/home/khrovatin/timeTrajectoriesNet/data/RPKUM/'\n",
    "else:\n",
    "    pathClassification = '/home/karin/Documents/timeTrajectories/data/stages/classification/'"
   ]
  },
  {
   "cell_type": "markdown",
   "metadata": {},
   "source": [
    "## Data summary statistics"
   ]
  },
  {
   "cell_type": "code",
   "execution_count": 318,
   "metadata": {},
   "outputs": [],
   "source": [
    "genes = pd.read_csv(dataPath + 'mergedGenes_RPKUM.tsv', sep='\\t', index_col=0)\n",
    "conditions = pd.read_csv(dataPath + 'conditions_mergedGenes.tsv', sep='\\t', index_col=None)"
   ]
  },
  {
   "cell_type": "code",
   "execution_count": 319,
   "metadata": {},
   "outputs": [],
   "source": [
    "arrest_strains=['AX4', 'MybBGFP', 'ecmARm', 'gtaI', 'cudA', 'dgcA', 'gtaG', 'tagB',\n",
    "       'comH',  'gtaC', 'mybB','amiB', 'acaA']\n",
    "arrestPkaC_strains=['AX4', 'MybBGFP', 'ecmARm', 'gtaI', 'cudA', 'dgcA', 'gtaG', 'tagB',\n",
    "       'comH',  'gtaC', 'mybB','amiB', 'acaA', 'acaAPkaCoe', 'ac3PkaCoe', 'PkaCoe']"
   ]
  },
  {
   "cell_type": "code",
   "execution_count": 320,
   "metadata": {},
   "outputs": [
    {
     "name": "stdout",
     "output_type": "stream",
     "text": [
      "N all samples: 486 \tN samples with phenotypic annotation: 356\n",
      "N all WT samples: 112 \tN WT samples with phenotypic annotation: 70\n",
      "N all arrest samples: 322 \tN arrest samples with phenotypic annotation: 229\n",
      "N all arrest+PkaC samples: 382 \tN arrest+PkaC samples with phenotypic annotation: 264\n"
     ]
    }
   ],
   "source": [
    "print('N all samples:',conditions.shape[0],\n",
    "      '\\tN samples with phenotypic annotation:',(conditions[PHENOTYPES] != 0).any(axis=1).sum())\n",
    "\n",
    "print('N all WT samples:',conditions.query('Group ==\"WT\"').shape[0],\n",
    "     '\\tN WT samples with phenotypic annotation:',(conditions.query('Group ==\"WT\"')[PHENOTYPES] != 0).any(axis=1).sum())\n",
    "\n",
    "print('N all arrest samples:',conditions[conditions.Strain.isin(arrest_strains)].shape[0],\n",
    "     '\\tN arrest samples with phenotypic annotation:',\n",
    "      (conditions[conditions.Strain.isin(arrest_strains)][PHENOTYPES] != 0).any(axis=1).sum())\n",
    "\n",
    "print('N all arrest+PkaC samples:',conditions[conditions.Strain.isin(arrestPkaC_strains)].shape[0],\n",
    "     '\\tN arrest+PkaC samples with phenotypic annotation:',\n",
    "      (conditions[conditions.Strain.isin(arrestPkaC_strains)][PHENOTYPES] != 0).any(axis=1).sum())\n"
   ]
  },
  {
   "cell_type": "markdown",
   "metadata": {},
   "source": [
    "Samples that have annotations include samples with images and samples at t=0, as those are all no_agg. WT samples are AX4 and MybBGFP. Henceforth only samples that have annotations will be used. "
   ]
  },
  {
   "cell_type": "code",
   "execution_count": 321,
   "metadata": {},
   "outputs": [],
   "source": [
    "# Retain samples that have a phenotypic annotation\n",
    "def retain_annotated(genes,conditions):\n",
    "    Y_retained = conditions[(conditions[PHENOTYPES] != 0).any(axis=1)]\n",
    "    X_retained = genes[Y_retained.Measurment].T.values\n",
    "    return(X_retained,Y_retained)\n",
    "\n",
    "X,Y = retain_annotated(genes,conditions)\n",
    "X_WT,Y_WT = retain_annotated(genes,conditions.query('Group ==\"WT\"'))\n",
    "X_arrest,Y_arrest = retain_annotated(genes,conditions[conditions.Strain.isin(arrest_strains)])\n",
    "X_arrestPkaC,Y_arrestPkaC = retain_annotated(genes,conditions[conditions.Strain.isin(arrestPkaC_strains)])"
   ]
  },
  {
   "cell_type": "code",
   "execution_count": 322,
   "metadata": {},
   "outputs": [
    {
     "data": {
      "text/html": [
       "\n",
       "<div id=\"altair-viz-722d7317e35747f3927eb04919322e6e\"></div>\n",
       "<script type=\"text/javascript\">\n",
       "  (function(spec, embedOpt){\n",
       "    const outputDiv = document.getElementById(\"altair-viz-722d7317e35747f3927eb04919322e6e\");\n",
       "    const paths = {\n",
       "      \"vega\": \"https://cdn.jsdelivr.net/npm//vega@5?noext\",\n",
       "      \"vega-lib\": \"https://cdn.jsdelivr.net/npm//vega-lib?noext\",\n",
       "      \"vega-lite\": \"https://cdn.jsdelivr.net/npm//vega-lite@4.0.2?noext\",\n",
       "      \"vega-embed\": \"https://cdn.jsdelivr.net/npm//vega-embed@6?noext\",\n",
       "    };\n",
       "\n",
       "    function loadScript(lib) {\n",
       "      return new Promise(function(resolve, reject) {\n",
       "        var s = document.createElement('script');\n",
       "        s.src = paths[lib];\n",
       "        s.async = true;\n",
       "        s.onload = () => resolve(paths[lib]);\n",
       "        s.onerror = () => reject(`Error loading script: ${paths[lib]}`);\n",
       "        document.getElementsByTagName(\"head\")[0].appendChild(s);\n",
       "      });\n",
       "    }\n",
       "\n",
       "    function showError(err) {\n",
       "      outputDiv.innerHTML = `<div class=\"error\" style=\"color:red;\">${err}</div>`;\n",
       "      throw err;\n",
       "    }\n",
       "\n",
       "    function displayChart(vegaEmbed) {\n",
       "      vegaEmbed(outputDiv, spec, embedOpt)\n",
       "        .catch(err => showError(`Javascript Error: ${err.message}<br>This usually means there's a typo in your chart specification. See the javascript console for the full traceback.`));\n",
       "    }\n",
       "\n",
       "    if(typeof define === \"function\" && define.amd) {\n",
       "      requirejs.config({paths});\n",
       "      require([\"vega-embed\"], displayChart, err => showError(`Error loading script: ${err.message}`));\n",
       "    } else if (typeof vegaEmbed === \"function\") {\n",
       "      displayChart(vegaEmbed);\n",
       "    } else {\n",
       "      loadScript(\"vega\")\n",
       "        .then(() => loadScript(\"vega-lite\"))\n",
       "        .then(() => loadScript(\"vega-embed\"))\n",
       "        .catch(showError)\n",
       "        .then(() => displayChart(vegaEmbed));\n",
       "    }\n",
       "  })({\"config\": {\"view\": {\"continuousWidth\": 400, \"continuousHeight\": 300}, \"facet\": {\"spacing\": 0}}, \"data\": {\"name\": \"data-591b9d34d9ba46d24dd0d4c66c88afa6\"}, \"facet\": {\"column\": {\"type\": \"nominal\", \"field\": \"Phenotype\", \"header\": {\"labelOrient\": \"bottom\", \"titleOrient\": \"bottom\"}, \"sort\": [\"no_agg\", \"stream\", \"lag\", \"tag\", \"tip\", \"slug\", \"mhat\", \"cul\", \"yem\", \"FB\"]}}, \"spec\": {\"layer\": [{\"mark\": \"bar\", \"encoding\": {\"color\": {\"type\": \"nominal\", \"field\": \"Group\"}, \"x\": {\"type\": \"nominal\", \"axis\": {\"grid\": false, \"labels\": false, \"ticks\": true, \"values\": [0]}, \"field\": \"Group\", \"title\": null}, \"y\": {\"type\": \"quantitative\", \"field\": \"Count\"}}, \"width\": 70}, {\"mark\": {\"type\": \"text\", \"dy\": -5}, \"encoding\": {\"color\": {\"type\": \"nominal\", \"field\": \"Group\"}, \"text\": {\"type\": \"quantitative\", \"field\": \"Count\"}, \"x\": {\"type\": \"nominal\", \"axis\": {\"grid\": false, \"labels\": false, \"ticks\": true, \"values\": [0]}, \"field\": \"Group\", \"title\": null}, \"y\": {\"type\": \"quantitative\", \"field\": \"Count\"}}, \"width\": 70}]}, \"title\": \"N samples for individual phenotypes across strain groups\", \"$schema\": \"https://vega.github.io/schema/vega-lite/v4.0.2.json\", \"datasets\": {\"data-591b9d34d9ba46d24dd0d4c66c88afa6\": [{\"Phenotype\": \"no_agg\", \"Count\": 164, \"Group\": \"all\"}, {\"Phenotype\": \"stream\", \"Count\": 65, \"Group\": \"all\"}, {\"Phenotype\": \"lag\", \"Count\": 77, \"Group\": \"all\"}, {\"Phenotype\": \"tag\", \"Count\": 67, \"Group\": \"all\"}, {\"Phenotype\": \"tip\", \"Count\": 22, \"Group\": \"all\"}, {\"Phenotype\": \"slug\", \"Count\": 62, \"Group\": \"all\"}, {\"Phenotype\": \"mhat\", \"Count\": 17, \"Group\": \"all\"}, {\"Phenotype\": \"cul\", \"Count\": 34, \"Group\": \"all\"}, {\"Phenotype\": \"yem\", \"Count\": 6, \"Group\": \"all\"}, {\"Phenotype\": \"FB\", \"Count\": 26, \"Group\": \"all\"}, {\"Phenotype\": \"no_agg\", \"Count\": 14, \"Group\": \"WT\"}, {\"Phenotype\": \"stream\", \"Count\": 10, \"Group\": \"WT\"}, {\"Phenotype\": \"lag\", \"Count\": 13, \"Group\": \"WT\"}, {\"Phenotype\": \"tag\", \"Count\": 10, \"Group\": \"WT\"}, {\"Phenotype\": \"tip\", \"Count\": 5, \"Group\": \"WT\"}, {\"Phenotype\": \"slug\", \"Count\": 16, \"Group\": \"WT\"}, {\"Phenotype\": \"mhat\", \"Count\": 13, \"Group\": \"WT\"}, {\"Phenotype\": \"cul\", \"Count\": 17, \"Group\": \"WT\"}, {\"Phenotype\": \"yem\", \"Count\": 0, \"Group\": \"WT\"}, {\"Phenotype\": \"FB\", \"Count\": 10, \"Group\": \"WT\"}, {\"Phenotype\": \"no_agg\", \"Count\": 101, \"Group\": \"arrest\"}, {\"Phenotype\": \"stream\", \"Count\": 24, \"Group\": \"arrest\"}, {\"Phenotype\": \"lag\", \"Count\": 37, \"Group\": \"arrest\"}, {\"Phenotype\": \"tag\", \"Count\": 39, \"Group\": \"arrest\"}, {\"Phenotype\": \"tip\", \"Count\": 10, \"Group\": \"arrest\"}, {\"Phenotype\": \"slug\", \"Count\": 49, \"Group\": \"arrest\"}, {\"Phenotype\": \"mhat\", \"Count\": 17, \"Group\": \"arrest\"}, {\"Phenotype\": \"cul\", \"Count\": 20, \"Group\": \"arrest\"}, {\"Phenotype\": \"yem\", \"Count\": 0, \"Group\": \"arrest\"}, {\"Phenotype\": \"FB\", \"Count\": 13, \"Group\": \"arrest\"}, {\"Phenotype\": \"no_agg\", \"Count\": 115, \"Group\": \"arrest_PkaC\"}, {\"Phenotype\": \"stream\", \"Count\": 29, \"Group\": \"arrest_PkaC\"}, {\"Phenotype\": \"lag\", \"Count\": 44, \"Group\": \"arrest_PkaC\"}, {\"Phenotype\": \"tag\", \"Count\": 50, \"Group\": \"arrest_PkaC\"}, {\"Phenotype\": \"tip\", \"Count\": 18, \"Group\": \"arrest_PkaC\"}, {\"Phenotype\": \"slug\", \"Count\": 58, \"Group\": \"arrest_PkaC\"}, {\"Phenotype\": \"mhat\", \"Count\": 17, \"Group\": \"arrest_PkaC\"}, {\"Phenotype\": \"cul\", \"Count\": 33, \"Group\": \"arrest_PkaC\"}, {\"Phenotype\": \"yem\", \"Count\": 0, \"Group\": \"arrest_PkaC\"}, {\"Phenotype\": \"FB\", \"Count\": 25, \"Group\": \"arrest_PkaC\"}]}}, {\"mode\": \"vega-lite\"});\n",
       "</script>"
      ],
      "text/plain": [
       "alt.FacetChart(...)"
      ]
     },
     "execution_count": 322,
     "metadata": {},
     "output_type": "execute_result"
    }
   ],
   "source": [
    "pheno_count=pd.DataFrame()\n",
    "for Y_data,group in zip([Y,Y_WT,Y_arrest,Y_arrestPkaC],['all','WT','arrest','arrest_PkaC']):\n",
    "    plot_data=pd.DataFrame(Y_data[PHENOTYPES].sum().astype('int')).reset_index()\n",
    "    plot_data.columns=['Phenotype','Count']\n",
    "    plot_data['Group']=[group]*plot_data.shape[0]\n",
    "    pheno_count=pheno_count.append(plot_data)\n",
    "\n",
    "\n",
    "base=alt.Chart(pheno_count,width=70).encode(\n",
    "    x=alt.X('Group',title=None,axis=alt.Axis(values=[0], ticks=True, grid=False, labels=False)),\n",
    "    y='Count',\n",
    "    color='Group',\n",
    ")\n",
    "\n",
    "alt.layer(\n",
    "  base.mark_bar(),\n",
    "  base.mark_text(dy=-5).encode(text='Count')\n",
    ").facet(\n",
    "  column=alt.Column('Phenotype', sort=PHENOTYPES,header=alt.Header(titleOrient='bottom',labelOrient='bottom'))\n",
    ").configure_facet(spacing=0).properties(\n",
    "    title='N samples for individual phenotypes across strain groups'\n",
    ")\n"
   ]
  },
  {
   "cell_type": "code",
   "execution_count": 323,
   "metadata": {},
   "outputs": [
    {
     "data": {
      "image/png": "[encoded data removed]",
      "text/plain": [
       "<Figure size 648x504 with 2 Axes>"
      ]
     },
     "metadata": {
      "needs_background": "light"
     },
     "output_type": "display_data"
    }
   ],
   "source": [
    "pheno_count_strain=pd.DataFrame(index=Y['Strain'].unique(),columns=PHENOTYPES)\n",
    "for strain in Y['Strain'].unique():\n",
    "    for phenotype in PHENOTYPES:\n",
    "        pheno_count_strain.at[strain,phenotype]=Y.query('Strain == \"'+strain+'\" & '+phenotype+' == 1').shape[0]\n",
    "plt.figure(figsize = (9,7))\n",
    "a=sb.heatmap(pheno_count_strain.astype('int'),annot=True)\n",
    "a=plt.title('Count of samples with a stage label across strains\\n',fontsize=15)\n"
   ]
  },
  {
   "cell_type": "markdown",
   "metadata": {},
   "source": [
    "Stage yem has too little samples to be predicted. Nevertheless, samples with yem annotation among their annotations can still be used. Some samples will thus have 0 labels in all targets.  Similarly, for WT stages yem and tip would need to be removed; and for arrest and arrest_PkaC yem.\n",
    "\n",
    "All stages except yem were annotated to different strains, so strains can be used for cross validation."
   ]
  },
  {
   "cell_type": "code",
   "execution_count": 324,
   "metadata": {},
   "outputs": [],
   "source": [
    "# Remove targets (Phenoptypes) with too little samples\n",
    "def remove_rare(Y_data,min_n):\n",
    "    order_data=list(Y_data[PHENOTYPES].sum().astype('int').loc[lambda x: x >= min_n].index)\n",
    "    Y_samples_data=Y_data['Measurment'].values\n",
    "    Y_data=Y_data[order_data].values\n",
    "    return(Y_data,Y_samples_data,order_data)\n",
    "\n",
    "Y,Y_samples,order=remove_rare(Y,9)\n",
    "Y_WT,Y_samples_WT,order_WT=remove_rare(Y_WT,9)\n",
    "Y_arrest,Y_samples_arrest,order_arrest=remove_rare(Y_arrest,9)\n",
    "Y_arrestPkaC,Y_samples_arrestPkaC,order_arrestPkaC=remove_rare(Y_arrestPkaC,9)"
   ]
  },
  {
   "cell_type": "code",
   "execution_count": 325,
   "metadata": {},
   "outputs": [
    {
     "data": {
      "text/html": [
       "\n",
       "<div id=\"altair-viz-4ac6803ee7e84c06a9269d019dc46ea2\"></div>\n",
       "<script type=\"text/javascript\">\n",
       "  (function(spec, embedOpt){\n",
       "    const outputDiv = document.getElementById(\"altair-viz-4ac6803ee7e84c06a9269d019dc46ea2\");\n",
       "    const paths = {\n",
       "      \"vega\": \"https://cdn.jsdelivr.net/npm//vega@5?noext\",\n",
       "      \"vega-lib\": \"https://cdn.jsdelivr.net/npm//vega-lib?noext\",\n",
       "      \"vega-lite\": \"https://cdn.jsdelivr.net/npm//vega-lite@4.0.2?noext\",\n",
       "      \"vega-embed\": \"https://cdn.jsdelivr.net/npm//vega-embed@6?noext\",\n",
       "    };\n",
       "\n",
       "    function loadScript(lib) {\n",
       "      return new Promise(function(resolve, reject) {\n",
       "        var s = document.createElement('script');\n",
       "        s.src = paths[lib];\n",
       "        s.async = true;\n",
       "        s.onload = () => resolve(paths[lib]);\n",
       "        s.onerror = () => reject(`Error loading script: ${paths[lib]}`);\n",
       "        document.getElementsByTagName(\"head\")[0].appendChild(s);\n",
       "      });\n",
       "    }\n",
       "\n",
       "    function showError(err) {\n",
       "      outputDiv.innerHTML = `<div class=\"error\" style=\"color:red;\">${err}</div>`;\n",
       "      throw err;\n",
       "    }\n",
       "\n",
       "    function displayChart(vegaEmbed) {\n",
       "      vegaEmbed(outputDiv, spec, embedOpt)\n",
       "        .catch(err => showError(`Javascript Error: ${err.message}<br>This usually means there's a typo in your chart specification. See the javascript console for the full traceback.`));\n",
       "    }\n",
       "\n",
       "    if(typeof define === \"function\" && define.amd) {\n",
       "      requirejs.config({paths});\n",
       "      require([\"vega-embed\"], displayChart, err => showError(`Error loading script: ${err.message}`));\n",
       "    } else if (typeof vegaEmbed === \"function\") {\n",
       "      displayChart(vegaEmbed);\n",
       "    } else {\n",
       "      loadScript(\"vega\")\n",
       "        .then(() => loadScript(\"vega-lite\"))\n",
       "        .then(() => loadScript(\"vega-embed\"))\n",
       "        .catch(showError)\n",
       "        .then(() => displayChart(vegaEmbed));\n",
       "    }\n",
       "  })({\"config\": {\"view\": {\"continuousWidth\": 400, \"continuousHeight\": 300}, \"facet\": {\"spacing\": 0}}, \"data\": {\"name\": \"data-fce1645314ba1a3a65bf27eac3e3191a\"}, \"facet\": {\"column\": {\"type\": \"quantitative\", \"field\": \"N annotated phenotypes\", \"header\": {\"labelOrient\": \"bottom\", \"titleOrient\": \"bottom\"}, \"sort\": [\"no_agg\", \"stream\", \"lag\", \"tag\", \"tip\", \"slug\", \"mhat\", \"cul\", \"yem\", \"FB\"]}}, \"spec\": {\"layer\": [{\"mark\": \"bar\", \"encoding\": {\"color\": {\"type\": \"nominal\", \"field\": \"Group\"}, \"x\": {\"type\": \"nominal\", \"axis\": {\"grid\": false, \"labels\": false, \"ticks\": true, \"values\": [0]}, \"field\": \"Group\", \"title\": null}, \"y\": {\"type\": \"quantitative\", \"field\": \"Count\"}}, \"width\": 70}, {\"mark\": {\"type\": \"text\", \"dy\": -5}, \"encoding\": {\"color\": {\"type\": \"nominal\", \"field\": \"Group\"}, \"text\": {\"type\": \"quantitative\", \"field\": \"Count\"}, \"x\": {\"type\": \"nominal\", \"axis\": {\"grid\": false, \"labels\": false, \"ticks\": true, \"values\": [0]}, \"field\": \"Group\", \"title\": null}, \"y\": {\"type\": \"quantitative\", \"field\": \"Count\"}}, \"width\": 70}]}, \"title\": \"Distribution of N phenotypes annotated to each sample acorss strain groups\", \"$schema\": \"https://vega.github.io/schema/vega-lite/v4.0.2.json\", \"datasets\": {\"data-fce1645314ba1a3a65bf27eac3e3191a\": [{\"N annotated phenotypes\": 0.0, \"Count\": 6, \"Group\": \"all\"}, {\"N annotated phenotypes\": 1.0, \"Count\": 223, \"Group\": \"all\"}, {\"N annotated phenotypes\": 2.0, \"Count\": 87, \"Group\": \"all\"}, {\"N annotated phenotypes\": 3.0, \"Count\": 30, \"Group\": \"all\"}, {\"N annotated phenotypes\": 4.0, \"Count\": 3, \"Group\": \"all\"}, {\"N annotated phenotypes\": 5.0, \"Count\": 7, \"Group\": \"all\"}, {\"N annotated phenotypes\": 0.0, \"Count\": 2, \"Group\": \"WT\"}, {\"N annotated phenotypes\": 1.0, \"Count\": 39, \"Group\": \"WT\"}, {\"N annotated phenotypes\": 2.0, \"Count\": 23, \"Group\": \"WT\"}, {\"N annotated phenotypes\": 3.0, \"Count\": 6, \"Group\": \"WT\"}, {\"N annotated phenotypes\": 1.0, \"Count\": 162, \"Group\": \"arrest\"}, {\"N annotated phenotypes\": 2.0, \"Count\": 53, \"Group\": \"arrest\"}, {\"N annotated phenotypes\": 3.0, \"Count\": 14, \"Group\": \"arrest\"}, {\"N annotated phenotypes\": 1.0, \"Count\": 174, \"Group\": \"arrest_PkaC\"}, {\"N annotated phenotypes\": 2.0, \"Count\": 66, \"Group\": \"arrest_PkaC\"}, {\"N annotated phenotypes\": 3.0, \"Count\": 18, \"Group\": \"arrest_PkaC\"}, {\"N annotated phenotypes\": 4.0, \"Count\": 1, \"Group\": \"arrest_PkaC\"}, {\"N annotated phenotypes\": 5.0, \"Count\": 5, \"Group\": \"arrest_PkaC\"}]}}, {\"mode\": \"vega-lite\"});\n",
       "</script>"
      ],
      "text/plain": [
       "alt.FacetChart(...)"
      ]
     },
     "execution_count": 325,
     "metadata": {},
     "output_type": "execute_result"
    }
   ],
   "source": [
    "target_count=pd.DataFrame()\n",
    "for Y_data,group in zip([Y,Y_WT,Y_arrest,Y_arrestPkaC],['all','WT','arrest','arrest_PkaC']):\n",
    "    plot_data=pd.DataFrame(pd.DataFrame(pd.DataFrame(Y_data).sum(axis=1)).groupby(0).size(),columns=['Count']).reset_index()\n",
    "    plot_data.columns=['N annotated phenotypes','Count']\n",
    "    plot_data['Group']=[group]*plot_data.shape[0]\n",
    "    target_count=target_count.append(plot_data)\n",
    "\n",
    "base=alt.Chart(target_count,width=70).encode(\n",
    "    x=alt.X('Group',title=None,axis=alt.Axis(values=[0], ticks=True, grid=False, labels=False)),\n",
    "    y='Count',\n",
    "    color='Group',\n",
    ")\n",
    "\n",
    "alt.layer(\n",
    "  base.mark_bar(),\n",
    "  base.mark_text(dy=-5).encode(text='Count')\n",
    ").facet(\n",
    "  column=alt.Column('N annotated phenotypes', sort=PHENOTYPES,header=alt.Header(titleOrient='bottom',labelOrient='bottom'))\n",
    ").configure_facet(spacing=0).properties(\n",
    "    title='Distribution of N phenotypes annotated to each sample acorss strain groups'\n",
    ")\n"
   ]
  },
  {
   "cell_type": "code",
   "execution_count": 326,
   "metadata": {},
   "outputs": [
    {
     "name": "stdout",
     "output_type": "stream",
     "text": [
      "N features (genes): 12828 \tN constant features: 398\n",
      "N WT features (genes): 12828 \tN constant WT features: 504\n",
      "N arrest features (genes): 12828 \tN constant arrest features: 402\n",
      "N arrest+PkaC features (genes): 12828 \tN constant arrest+PkaC features: 400\n"
     ]
    }
   ],
   "source": [
    "print('N features (genes):',X.shape[1],'\\tN constant features:',(X.std(axis=0)==0).sum())\n",
    "print('N WT features (genes):',X_WT.shape[1],'\\tN constant WT features:',(X_WT.std(axis=0)==0).sum())\n",
    "print('N arrest features (genes):',X_arrest.shape[1],\n",
    "      '\\tN constant arrest features:',(X_arrest.std(axis=0)==0).sum())\n",
    "print('N arrest+PkaC features (genes):',X_arrestPkaC.shape[1],\n",
    "      '\\tN constant arrest+PkaC features:',(X_arrestPkaC.std(axis=0)==0).sum())"
   ]
  },
  {
   "cell_type": "markdown",
   "metadata": {},
   "source": [
    "## Model fitting and performance statistic calculation\n",
    "Models are fit using cross validation with leavle one strain out approach. Saved metrics: F_score, precision, recall, FPR, accuracy, ROC_AUC score, and N used features. Some of the non-averaged and macro-averaged metrics can not be computed for all folds, as some strains do not have all morphological stages/classes. These include F_score, recall and precision,which are computed only for trgets that have actuall positive labels in the test strain, and ROC_AUC, which is computed only for targets that have both positive and negative labels."
   ]
  },
  {
   "cell_type": "code",
   "execution_count": 327,
   "metadata": {},
   "outputs": [
    {
     "name": "stdout",
     "output_type": "stream",
     "text": [
      "(264, 9) (264, 16) (264, 12428) 9\n"
     ]
    }
   ],
   "source": [
    "# Which data to model (WT or all strains)\n",
    "X_model=X_arrestPkaC.copy()\n",
    "Y_model=Y_arrestPkaC.copy()\n",
    "Y_samples_model=Y_samples_arrestPkaC.copy()\n",
    "order_model=order_arrestPkaC.copy()\n",
    "\n",
    "conditions_model=conditions.copy()\n",
    "conditions_model.index=conditions_model['Measurment']\n",
    "conditions_model=conditions_model.loc[Y_samples_model,]\n",
    "# Remove constant features\n",
    "X_model=X_model[:,(X_model.std(axis=0)!=0)]\n",
    "print(Y_model.shape,conditions_model.shape,X_model.shape,len(order_model))"
   ]
  },
  {
   "cell_type": "code",
   "execution_count": null,
   "metadata": {},
   "outputs": [],
   "source": [
    "prfs_all=pd.DataFrame()\n",
    "rac_all=pd.DataFrame()\n",
    "feats_all=pd.DataFrame()\n",
    "split = IterativeStratification(n_splits=5, order=1)\n",
    "                \n",
    "# Cross validation\n",
    "#fold=0\n",
    "#for train_index, test_index in split.split(X_model, Y_model):\n",
    "#    fold += 1\n",
    "# Cross validation with tests sets being individual strains\n",
    "for fold in conditions_model['Strain'].unique():\n",
    "    print(fold)\n",
    "    scaler = pp.MinMaxScaler()\n",
    "    train_index=(conditions_model['Strain']!=fold).values\n",
    "    test_index=(conditions_model['Strain']==fold).values\n",
    "    #Scale X features to [0,1], use X_train_fold scaller to also scale X_test_fold\n",
    "    #X_train_fold, X_test_fold = X_model[train_index], X_model[test_index]\n",
    "    #Y_train_fold, Y_test_fold = Y_model[train_index], Y_model[test_index]\n",
    "    X_train_fold,X_test_fold=X_model[train_index],X_model[test_index]\n",
    "    Y_train_fold,Y_test_fold=Y_model[train_index],Y_model[test_index]\n",
    "    print(fold,X_train_fold.shape[0],Y_train_fold.shape[0],X_test_fold.shape[0],Y_test_fold.shape[0])\n",
    "    X_train_fold=scaler.fit_transform(X_train_fold)\n",
    "    X_test_fold=scaler.transform(X_test_fold)\n",
    "    \n",
    "    stages_test_bool=Y_test_fold.sum(axis=0).astype('int')>0\n",
    "    stages_test=np.array(order_model)[stages_test_bool]\n",
    "    stages_twolabels_bool=(Y_test_fold==0).any(axis=0) & (Y_test_fold==1).any(axis=0)\n",
    "    stages_twolabels=np.array(order_model)[stages_twolabels_bool]\n",
    "    \n",
    "    # Different regularization strengths - none or 1 \n",
    "    for params in [\n",
    "        {'penalty':'none','class_weight':'balanced'}\n",
    "        ,{'penalty':'none'}\n",
    "                  # ,{'penalty':'l1','C':0.6,'class_weight':'balanced'}\n",
    "        #,{'penalty':'l1','C':0.7}\n",
    "                  ]:\n",
    "        c=''\n",
    "        for param_value in params.values():\n",
    "            c=c+str(param_value)+'_'\n",
    "        c=c.rstrip('_')\n",
    "        print('C:',c)\n",
    "        classifier = OneVsRestClassifier(\n",
    "            # saga is only solver that supports no penaly and penalty = l1. \n",
    "            estimator=LogisticRegression( n_jobs=20,  solver='saga',**params),\n",
    "            n_jobs=Y_model.shape[1]).fit(X_train_fold,Y_train_fold)\n",
    "        \n",
    "        # Quality metrics for the model\n",
    "        Y_predict_fold = classifier.predict(X_test_fold)\n",
    "        Y_p_fold = classifier.predict_proba(X_test_fold)\n",
    "        \n",
    "        #Precision,recall,F score - \n",
    "        # this emits warnings for no true/predicted labels but these are set to nan latter\n",
    "        prfs=pd.DataFrame(precision_recall_fscore_support(Y_test_fold, Y_predict_fold),\n",
    "                          index=['precision','recall','F_score','support']).T\n",
    "        prfs['Group']=order_model\n",
    "        prfs['params']=[c]*prfs.shape[0]\n",
    "        prfs['fold']=[fold]*prfs.shape[0]\n",
    "        #Add FPR and accuracy\n",
    "        prfs['FPR']=FPR(Y_test_fold,Y_predict_fold,average=None)\n",
    "        prfs['accuracy']=accuracy(Y_test_fold,Y_predict_fold,average=None)\n",
    "        # Set to nan for stages with no test samples\n",
    "        prfs.loc[~prfs['Group'].isin(stages_test).values,['precision','recall','F_score']]=np.nan\n",
    "        prfs_all=prfs_all.append(prfs)\n",
    "        # Calculate macro on prfs with nans for the stages with no labels in the test set\n",
    "        prfs=prfs.mean()\n",
    "        prfs['support']=np.nan\n",
    "        prfs['Group']='macro'\n",
    "        prfs['params']=c\n",
    "        prfs['fold']=fold\n",
    "        prfs_all=prfs_all.append(prfs,ignore_index=True)\n",
    "        #prfs=list(precision_recall_fscore_support(Y_test_fold, Y_predict_fold, average='macro'))\n",
    "        #prfs.extend(['macro',c])\n",
    "        #prfs=dict(zip(['precision','recall','F_score','support','Group',\"params\"],prfs))\n",
    "        #prfs_all = prfs_all.append( prfs,ignore_index=True)      \n",
    "        prfs=list(precision_recall_fscore_support(Y_test_fold, Y_predict_fold, average='micro'))\n",
    "        fpr=FPR(Y_test_fold,Y_predict_fold,average='micro')\n",
    "        acc=accuracy(Y_test_fold,Y_predict_fold,average='micro')\n",
    "        prfs.extend(['micro',c,fold,fpr,acc])\n",
    "        prfs=dict(zip(['precision','recall','F_score','support','Group',\"params\",'fold','FPR','accuracy'],prfs))\n",
    "        prfs_all = prfs_all.append( prfs,ignore_index=True)\n",
    "        \n",
    "        # ROC AUC score for unaveraged and macro averaged performed only on classes with labels that are\n",
    "        # both present and absent in the test data\n",
    "        if stages_twolabels_bool.any():\n",
    "            if stages_twolabels_bool.sum()==1:\n",
    "                rac=roc_auc_score(Y_test_fold[:,stages_twolabels_bool], Y_p_fold[:,stages_twolabels_bool]\n",
    "                                           ,average=None)\n",
    "                rac=pd.DataFrame({'rac':[rac]})\n",
    "            else:\n",
    "                rac=pd.DataFrame(roc_auc_score(Y_test_fold[:,stages_twolabels_bool], Y_p_fold[:,stages_twolabels_bool]\n",
    "                                           ,average=None),columns=['roc_auc'])\n",
    "            rac['Group']=stages_twolabels\n",
    "            rac['params']=[c]*rac.shape[0]\n",
    "            rac['fold']=[fold]*rac.shape[0]\n",
    "            rac_all = rac_all.append(rac,ignore_index=True)\n",
    "            rac=dict(zip(['roc_auc','Group','params','fold'],[roc_auc_score(\n",
    "                Y_test_fold[:,stages_twolabels_bool], Y_p_fold[:,stages_twolabels_bool], average='macro'),\n",
    "                                                              'macro',c,fold]))\n",
    "            rac_all=rac_all.append(rac,ignore_index=True)\n",
    "        rac=dict(zip(['roc_auc','Group','params','fold'],[roc_auc_score(Y_test_fold, Y_p_fold, average='micro'),\n",
    "                                                          'micro',c,fold]))\n",
    "        rac_all=rac_all.append(rac,ignore_index=True)\n",
    "        \n",
    "        # N used features in the model\n",
    "        feats_combined = set()\n",
    "        for i in range(len(order_model)):\n",
    "            cl = classifier.estimators_[i]\n",
    "            feats_stage = set(pd.Series(range(X_model.shape[1]))[(cl.coef_ != 0).flatten()[:X_model.shape[1]]].index)\n",
    "            feats_combined = feats_combined | feats_stage\n",
    "            #print(len(feats_stage), len(feats_combined))\n",
    "            feats=dict(zip(['N_features','params','Group'],[len(feats_stage),c,order_model[i]]))\n",
    "            feats_all=feats_all.append(feats,ignore_index=True)\n",
    "        feats= dict(zip(['N_features', 'params', 'Group'],[len(feats_combined), c, 'all']))\n",
    "        feats_all = feats_all.append(feats,ignore_index=True)\n",
    "savePickle(pathClassification+'logisticRegressionBinaryRelevanceComparisonArrestPkaC.pkl',{'prfs':prfs_all,'rac':rac_all,'featsN':feats_all})"
   ]
  },
  {
   "cell_type": "markdown",
   "metadata": {},
   "source": [
    "## Model performance"
   ]
  },
  {
   "cell_type": "markdown",
   "metadata": {},
   "source": [
    "Cross validation is done across strains. Statistics are not weighted by n samples in strains, despite them having different number of samples. This indicates quality of predictions across strains. Some of the fold scores are also based on a single positive sample.\n",
    "\n",
    "Some non averaged and macro averaged statistics could not be computed for all test strains for all targets (stages), as described above. Summary statistics averages: micro - over all samples, macro - over pre-calculated statistics of all target features. \n",
    "\n",
    "Model names component: none - no regularisation, balanced - balanced weights for labels (0,1) within targets/phenotypes, (l1_C - l1 regularization with regularization constant (C) writted anfter underscore). \n"
   ]
  },
  {
   "cell_type": "code",
   "execution_count": 311,
   "metadata": {},
   "outputs": [],
   "source": [
    "result=loadPickle(pathClassification+'logisticRegressionBinaryRelevanceComparison.pkl')"
   ]
  },
  {
   "cell_type": "markdown",
   "metadata": {},
   "source": [
    "F score is a harmonic mean of precision (true predicted positives/all predicted positives) and recall (true predicted positives/all true positives). "
   ]
  },
  {
   "cell_type": "code",
   "execution_count": 378,
   "metadata": {},
   "outputs": [
    {
     "name": "stdout",
     "output_type": "stream",
     "text": [
      "F score summary for OvR logistic regression: none_balanced\n",
      "Mean cross validation F score averaged across all phenotypes and standard error\n",
      "macro       0.68  +- 0.05\n",
      "micro       0.70  +- 0.04\n",
      "Mean cross validation F score of individual phenotypes and standard error\n",
      "no_agg      0.88  +- 0.02\n",
      "stream      0.59  +- 0.08\n",
      "lag         0.62  +- 0.08\n",
      "tag         0.57  +- 0.08\n",
      "tip         0.53  +- 0.12\n",
      "slug        0.61  +- 0.12\n",
      "mhat        0.36  +- 0.19\n",
      "cul         0.55  +- 0.19\n",
      "FB          0.61  +- 0.17\n",
      "\n",
      "\n"
     ]
    },
    {
     "data": {
      "text/html": [
       "\n",
       "<div id=\"altair-viz-976d7ea8df184a1ba1d8ec3d2be0556b\"></div>\n",
       "<script type=\"text/javascript\">\n",
       "  (function(spec, embedOpt){\n",
       "    const outputDiv = document.getElementById(\"altair-viz-976d7ea8df184a1ba1d8ec3d2be0556b\");\n",
       "    const paths = {\n",
       "      \"vega\": \"https://cdn.jsdelivr.net/npm//vega@5?noext\",\n",
       "      \"vega-lib\": \"https://cdn.jsdelivr.net/npm//vega-lib?noext\",\n",
       "      \"vega-lite\": \"https://cdn.jsdelivr.net/npm//vega-lite@4.0.2?noext\",\n",
       "      \"vega-embed\": \"https://cdn.jsdelivr.net/npm//vega-embed@6?noext\",\n",
       "    };\n",
       "\n",
       "    function loadScript(lib) {\n",
       "      return new Promise(function(resolve, reject) {\n",
       "        var s = document.createElement('script');\n",
       "        s.src = paths[lib];\n",
       "        s.async = true;\n",
       "        s.onload = () => resolve(paths[lib]);\n",
       "        s.onerror = () => reject(`Error loading script: ${paths[lib]}`);\n",
       "        document.getElementsByTagName(\"head\")[0].appendChild(s);\n",
       "      });\n",
       "    }\n",
       "\n",
       "    function showError(err) {\n",
       "      outputDiv.innerHTML = `<div class=\"error\" style=\"color:red;\">${err}</div>`;\n",
       "      throw err;\n",
       "    }\n",
       "\n",
       "    function displayChart(vegaEmbed) {\n",
       "      vegaEmbed(outputDiv, spec, embedOpt)\n",
       "        .catch(err => showError(`Javascript Error: ${err.message}<br>This usually means there's a typo in your chart specification. See the javascript console for the full traceback.`));\n",
       "    }\n",
       "\n",
       "    if(typeof define === \"function\" && define.amd) {\n",
       "      requirejs.config({paths});\n",
       "      require([\"vega-embed\"], displayChart, err => showError(`Error loading script: ${err.message}`));\n",
       "    } else if (typeof vegaEmbed === \"function\") {\n",
       "      displayChart(vegaEmbed);\n",
       "    } else {\n",
       "      loadScript(\"vega\")\n",
       "        .then(() => loadScript(\"vega-lite\"))\n",
       "        .then(() => loadScript(\"vega-embed\"))\n",
       "        .catch(showError)\n",
       "        .then(() => displayChart(vegaEmbed));\n",
       "    }\n",
       "  })({\"config\": {\"view\": {\"continuousWidth\": 400, \"continuousHeight\": 300}, \"facet\": {\"spacing\": 0}}, \"data\": {\"name\": \"data-3ccd655b1fbda155e0b0aab5d38a1be2\"}, \"mark\": {\"type\": \"point\", \"size\": 20}, \"encoding\": {\"color\": {\"type\": \"nominal\", \"field\": \"fold\"}, \"column\": {\"type\": \"ordinal\", \"field\": \"Group\", \"header\": {\"labelAlign\": \"center\", \"labelAngle\": 0, \"labelOrient\": \"bottom\", \"labelPadding\": 10, \"titleOrient\": \"bottom\"}, \"sort\": [\"no_agg\", \"stream\", \"lag\", \"tag\", \"tip\", \"slug\", \"mhat\", \"cul\", \"FB\"]}, \"shape\": {\"type\": \"nominal\", \"field\": \"fold\"}, \"x\": {\"type\": \"quantitative\", \"axis\": {\"grid\": false, \"labels\": false, \"ticks\": true, \"values\": [0]}, \"field\": \"jitter\", \"scale\": {}, \"title\": null}, \"y\": {\"type\": \"quantitative\", \"axis\": {\"grid\": false}, \"field\": \"F_score\"}}, \"title\": \"\", \"transform\": [{\"calculate\": \"sqrt(-2*log(random()))*cos(2*PI*random())\", \"as\": \"jitter\"}], \"width\": 70, \"$schema\": \"https://vega.github.io/schema/vega-lite/v4.0.2.json\", \"datasets\": {\"data-3ccd655b1fbda155e0b0aab5d38a1be2\": [{\"precision\": 0.7857142857142857, \"recall\": 1.0, \"F_score\": 0.88, \"support\": 11.0, \"Group\": \"no_agg\", \"params\": \"none_balanced\", \"fold\": \"AX4\", \"FPR\": 0.06521739130434782, \"accuracy\": 0.9473684210526315}, {\"precision\": 1.0, \"recall\": 1.0, \"F_score\": 1.0, \"support\": 4.0, \"Group\": \"no_agg\", \"params\": \"none_balanced\", \"fold\": \"cudA\", \"FPR\": 0.0, \"accuracy\": 1.0}, {\"precision\": 1.0, \"recall\": 0.5833333333333334, \"F_score\": 0.7368421052631579, \"support\": 12.0, \"Group\": \"no_agg\", \"params\": \"none_balanced\", \"fold\": \"acaA\", \"FPR\": null, \"accuracy\": 0.5833333333333334}, {\"precision\": 1.0, \"recall\": 0.8333333333333334, \"F_score\": 0.9090909090909091, \"support\": 6.0, \"Group\": \"no_agg\", \"params\": \"none_balanced\", \"fold\": \"gtaI\", \"FPR\": 0.0, \"accuracy\": 0.9285714285714286}, {\"precision\": 1.0, \"recall\": 1.0, \"F_score\": 1.0, \"support\": 2.0, \"Group\": \"no_agg\", \"params\": \"none_balanced\", \"fold\": \"ac3PkaCoe\", \"FPR\": null, \"accuracy\": 1.0}, {\"precision\": 0.75, \"recall\": 1.0, \"F_score\": 0.8571428571428571, \"support\": 6.0, \"Group\": \"no_agg\", \"params\": \"none_balanced\", \"fold\": \"dgcA\", \"FPR\": 0.16666666666666666, \"accuracy\": 0.8888888888888888}, {\"precision\": 1.0, \"recall\": 1.0, \"F_score\": 1.0, \"support\": 18.0, \"Group\": \"no_agg\", \"params\": \"none_balanced\", \"fold\": \"amiB\", \"FPR\": null, \"accuracy\": 1.0}, {\"precision\": 1.0, \"recall\": 1.0, \"F_score\": 1.0, \"support\": 4.0, \"Group\": \"no_agg\", \"params\": \"none_balanced\", \"fold\": \"gtaG\", \"FPR\": 0.0, \"accuracy\": 1.0}, {\"precision\": 1.0, \"recall\": 1.0, \"F_score\": 1.0, \"support\": 14.0, \"Group\": \"no_agg\", \"params\": \"none_balanced\", \"fold\": \"mybB\", \"FPR\": null, \"accuracy\": 1.0}, {\"precision\": 0.7272727272727273, \"recall\": 1.0, \"F_score\": 0.8421052631578948, \"support\": 8.0, \"Group\": \"no_agg\", \"params\": \"none_balanced\", \"fold\": \"ecmARm\", \"FPR\": 0.5, \"accuracy\": 0.7857142857142857}, {\"precision\": 0.8, \"recall\": 1.0, \"F_score\": 0.888888888888889, \"support\": 4.0, \"Group\": \"no_agg\", \"params\": \"none_balanced\", \"fold\": \"PkaCoe\", \"FPR\": 0.07692307692307693, \"accuracy\": 0.9411764705882353}, {\"precision\": 1.0, \"recall\": 0.75, \"F_score\": 0.8571428571428571, \"support\": 8.0, \"Group\": \"no_agg\", \"params\": \"none_balanced\", \"fold\": \"acaAPkaCoe\", \"FPR\": 0.0, \"accuracy\": 0.875}, {\"precision\": 1.0, \"recall\": 1.0, \"F_score\": 1.0, \"support\": 4.0, \"Group\": \"no_agg\", \"params\": \"none_balanced\", \"fold\": \"gtaC\", \"FPR\": null, \"accuracy\": 1.0}, {\"precision\": 0.75, \"recall\": 1.0, \"F_score\": 0.8571428571428571, \"support\": 3.0, \"Group\": \"no_agg\", \"params\": \"none_balanced\", \"fold\": \"tagB\", \"FPR\": 0.1, \"accuracy\": 0.9230769230769231}, {\"precision\": 0.8421052631578947, \"recall\": 1.0, \"F_score\": 0.9142857142857143, \"support\": 16.0, \"Group\": \"no_agg\", \"params\": \"none_balanced\", \"fold\": \"gbfA\", \"FPR\": 1.0, \"accuracy\": 0.8421052631578947}, {\"precision\": 1.0, \"recall\": 0.6666666666666666, \"F_score\": 0.8, \"support\": 3.0, \"Group\": \"no_agg\", \"params\": \"none_balanced\", \"fold\": \"MybBGFP\", \"FPR\": 0.0, \"accuracy\": 0.9230769230769231}, {\"precision\": 1.0, \"recall\": 0.6666666666666666, \"F_score\": 0.8, \"support\": 3.0, \"Group\": \"no_agg\", \"params\": \"none_balanced\", \"fold\": \"pkaR\", \"FPR\": 0.0, \"accuracy\": 0.9230769230769231}, {\"precision\": 0.7857142857142857, \"recall\": 0.7333333333333333, \"F_score\": 0.7586206896551724, \"support\": 15.0, \"Group\": \"no_agg\", \"params\": \"none_balanced\", \"fold\": \"tgrC1\", \"FPR\": 0.6, \"accuracy\": 0.65}, {\"precision\": 0.7777777777777778, \"recall\": 0.7, \"F_score\": 0.7368421052631577, \"support\": 10.0, \"Group\": \"no_agg\", \"params\": \"none_balanced\", \"fold\": \"tgrB1\", \"FPR\": 0.2, \"accuracy\": 0.75}, {\"precision\": 0.5555555555555556, \"recall\": 1.0, \"F_score\": 0.7142857142857143, \"support\": 5.0, \"Group\": \"no_agg\", \"params\": \"none_balanced\", \"fold\": \"tgrB1C1\", \"FPR\": 0.26666666666666666, \"accuracy\": 0.8}, {\"precision\": 1.0, \"recall\": 0.75, \"F_score\": 0.8571428571428571, \"support\": 8.0, \"Group\": \"no_agg\", \"params\": \"none_balanced\", \"fold\": \"comH\", \"FPR\": 0.0, \"accuracy\": 0.9}, {\"precision\": 0.5714285714285714, \"recall\": 0.5714285714285714, \"F_score\": 0.5714285714285714, \"support\": 7.0, \"Group\": \"stream\", \"params\": \"none_balanced\", \"fold\": \"tgrC1\", \"FPR\": 0.23076923076923078, \"accuracy\": 0.7}, {\"precision\": null, \"recall\": null, \"F_score\": null, \"support\": 0.0, \"Group\": \"stream\", \"params\": \"none_balanced\", \"fold\": \"cudA\", \"FPR\": 0.1111111111111111, \"accuracy\": 0.8888888888888888}, {\"precision\": 0.0, \"recall\": 0.0, \"F_score\": 0.0, \"support\": 1.0, \"Group\": \"stream\", \"params\": \"none_balanced\", \"fold\": \"acaA\", \"FPR\": 0.18181818181818182, \"accuracy\": 0.75}, {\"precision\": 0.46153846153846156, \"recall\": 0.75, \"F_score\": 0.5714285714285714, \"support\": 8.0, \"Group\": \"stream\", \"params\": \"none_balanced\", \"fold\": \"tgrB1\", \"FPR\": 0.5833333333333334, \"accuracy\": 0.55}, {\"precision\": null, \"recall\": null, \"F_score\": null, \"support\": 0.0, \"Group\": \"stream\", \"params\": \"none_balanced\", \"fold\": \"gtaC\", \"FPR\": 0.0, \"accuracy\": 1.0}, {\"precision\": null, \"recall\": null, \"F_score\": null, \"support\": 0.0, \"Group\": \"stream\", \"params\": \"none_balanced\", \"fold\": \"amiB\", \"FPR\": 0.3333333333333333, \"accuracy\": 0.6666666666666666}, {\"precision\": 1.0, \"recall\": 1.0, \"F_score\": 1.0, \"support\": 2.0, \"Group\": \"stream\", \"params\": \"none_balanced\", \"fold\": \"gtaG\", \"FPR\": 0.0, \"accuracy\": 1.0}, {\"precision\": null, \"recall\": null, \"F_score\": null, \"support\": 0.0, \"Group\": \"stream\", \"params\": \"none_balanced\", \"fold\": \"mybB\", \"FPR\": 0.0, \"accuracy\": 1.0}, {\"precision\": 0.6923076923076923, \"recall\": 0.9, \"F_score\": 0.7826086956521738, \"support\": 10.0, \"Group\": \"stream\", \"params\": \"none_balanced\", \"fold\": \"tgrB1C1\", \"FPR\": 0.4, \"accuracy\": 0.75}, {\"precision\": 0.5, \"recall\": 0.5, \"F_score\": 0.5, \"support\": 4.0, \"Group\": \"stream\", \"params\": \"none_balanced\", \"fold\": \"comH\", \"FPR\": 0.125, \"accuracy\": 0.8}, {\"precision\": 1.0, \"recall\": 0.5, \"F_score\": 0.6666666666666666, \"support\": 4.0, \"Group\": \"stream\", \"params\": \"none_balanced\", \"fold\": \"tagB\", \"FPR\": 0.0, \"accuracy\": 0.8461538461538461}, {\"precision\": 1.0, \"recall\": 0.125, \"F_score\": 0.2222222222222222, \"support\": 8.0, \"Group\": \"stream\", \"params\": \"none_balanced\", \"fold\": \"gbfA\", \"FPR\": 0.0, \"accuracy\": 0.631578947368421}, {\"precision\": 0.25, \"recall\": 0.5, \"F_score\": 0.3333333333333333, \"support\": 2.0, \"Group\": \"stream\", \"params\": \"none_balanced\", \"fold\": \"acaAPkaCoe\", \"FPR\": 0.21428571428571427, \"accuracy\": 0.75}, {\"precision\": 1.0, \"recall\": 0.5, \"F_score\": 0.6666666666666666, \"support\": 2.0, \"Group\": \"stream\", \"params\": \"none_balanced\", \"fold\": \"dgcA\", \"FPR\": 0.0, \"accuracy\": 0.9444444444444444}, {\"precision\": 0.75, \"recall\": 0.75, \"F_score\": 0.75, \"support\": 8.0, \"Group\": \"stream\", \"params\": \"none_balanced\", \"fold\": \"AX4\", \"FPR\": 0.04081632653061224, \"accuracy\": 0.9298245614035088}, {\"precision\": 0.6666666666666666, \"recall\": 1.0, \"F_score\": 0.8, \"support\": 2.0, \"Group\": \"stream\", \"params\": \"none_balanced\", \"fold\": \"MybBGFP\", \"FPR\": 0.09090909090909091, \"accuracy\": 0.9230769230769231}, {\"precision\": 1.0, \"recall\": 0.6666666666666666, \"F_score\": 0.8, \"support\": 3.0, \"Group\": \"stream\", \"params\": \"none_balanced\", \"fold\": \"PkaCoe\", \"FPR\": 0.0, \"accuracy\": 0.9411764705882353}, {\"precision\": 0.125, \"recall\": 1.0, \"F_score\": 0.2222222222222222, \"support\": 1.0, \"Group\": \"stream\", \"params\": \"none_balanced\", \"fold\": \"ecmARm\", \"FPR\": 0.5384615384615384, \"accuracy\": 0.5}, {\"precision\": 1.0, \"recall\": 1.0, \"F_score\": 1.0, \"support\": 3.0, \"Group\": \"stream\", \"params\": \"none_balanced\", \"fold\": \"pkaR\", \"FPR\": 0.0, \"accuracy\": 1.0}, {\"precision\": null, \"recall\": null, \"F_score\": null, \"support\": 0.0, \"Group\": \"stream\", \"params\": \"none_balanced\", \"fold\": \"gtaI\", \"FPR\": 0.07142857142857142, \"accuracy\": 0.9285714285714286}, {\"precision\": null, \"recall\": null, \"F_score\": null, \"support\": 0.0, \"Group\": \"stream\", \"params\": \"none_balanced\", \"fold\": \"ac3PkaCoe\", \"FPR\": 0.0, \"accuracy\": 1.0}, {\"precision\": 0.5, \"recall\": 1.0, \"F_score\": 0.6666666666666666, \"support\": 1.0, \"Group\": \"lag\", \"params\": \"none_balanced\", \"fold\": \"PkaCoe\", \"FPR\": 0.0625, \"accuracy\": 0.9411764705882353}, {\"precision\": 1.0, \"recall\": 1.0, \"F_score\": 1.0, \"support\": 3.0, \"Group\": \"lag\", \"params\": \"none_balanced\", \"fold\": \"gtaG\", \"FPR\": 0.0, \"accuracy\": 1.0}, {\"precision\": 0.7692307692307693, \"recall\": 1.0, \"F_score\": 0.8695652173913044, \"support\": 10.0, \"Group\": \"lag\", \"params\": \"none_balanced\", \"fold\": \"tgrB1C1\", \"FPR\": 0.3, \"accuracy\": 0.85}, {\"precision\": null, \"recall\": null, \"F_score\": null, \"support\": 0.0, \"Group\": \"lag\", \"params\": \"none_balanced\", \"fold\": \"mybB\", \"FPR\": 0.0, \"accuracy\": 1.0}, {\"precision\": 0.0, \"recall\": 0.0, \"F_score\": 0.0, \"support\": 5.0, \"Group\": \"lag\", \"params\": \"none_balanced\", \"fold\": \"ecmARm\", \"FPR\": 0.1111111111111111, \"accuracy\": 0.5714285714285714}, {\"precision\": 0.75, \"recall\": 0.6, \"F_score\": 0.6666666666666665, \"support\": 5.0, \"Group\": \"lag\", \"params\": \"none_balanced\", \"fold\": \"tagB\", \"FPR\": 0.125, \"accuracy\": 0.7692307692307693}, {\"precision\": 0.6666666666666666, \"recall\": 0.3333333333333333, \"F_score\": 0.4444444444444444, \"support\": 6.0, \"Group\": \"lag\", \"params\": \"none_balanced\", \"fold\": \"comH\", \"FPR\": 0.07142857142857142, \"accuracy\": 0.75}, {\"precision\": 0.6666666666666666, \"recall\": 1.0, \"F_score\": 0.8, \"support\": 2.0, \"Group\": \"lag\", \"params\": \"none_balanced\", \"fold\": \"MybBGFP\", \"FPR\": 0.09090909090909091, \"accuracy\": 0.9230769230769231}, {\"precision\": 0.6, \"recall\": 0.5, \"F_score\": 0.5454545454545454, \"support\": 6.0, \"Group\": \"lag\", \"params\": \"none_balanced\", \"fold\": \"acaAPkaCoe\", \"FPR\": 0.2, \"accuracy\": 0.6875}, {\"precision\": 1.0, \"recall\": 0.5, \"F_score\": 0.6666666666666666, \"support\": 2.0, \"Group\": \"lag\", \"params\": \"none_balanced\", \"fold\": \"pkaR\", \"FPR\": 0.0, \"accuracy\": 0.9230769230769231}, {\"precision\": null, \"recall\": null, \"F_score\": null, \"support\": 0.0, \"Group\": \"lag\", \"params\": \"none_balanced\", \"fold\": \"ac3PkaCoe\", \"FPR\": 0.0, \"accuracy\": 1.0}, {\"precision\": null, \"recall\": null, \"F_score\": null, \"support\": 0.0, \"Group\": \"lag\", \"params\": \"none_balanced\", \"fold\": \"amiB\", \"FPR\": 0.0, \"accuracy\": 1.0}, {\"precision\": 0.5714285714285714, \"recall\": 0.36363636363636365, \"F_score\": 0.4444444444444444, \"support\": 11.0, \"Group\": \"lag\", \"params\": \"none_balanced\", \"fold\": \"AX4\", \"FPR\": 0.06521739130434782, \"accuracy\": 0.8245614035087719}, {\"precision\": 1.0, \"recall\": 1.0, \"F_score\": 1.0, \"support\": 4.0, \"Group\": \"lag\", \"params\": \"none_balanced\", \"fold\": \"cudA\", \"FPR\": 0.0, \"accuracy\": 1.0}, {\"precision\": 0.8461538461538461, \"recall\": 1.0, \"F_score\": 0.9166666666666666, \"support\": 11.0, \"Group\": \"lag\", \"params\": \"none_balanced\", \"fold\": \"tgrB1\", \"FPR\": 0.2222222222222222, \"accuracy\": 0.9}, {\"precision\": null, \"recall\": null, \"F_score\": null, \"support\": 0.0, \"Group\": \"lag\", \"params\": \"none_balanced\", \"fold\": \"acaA\", \"FPR\": 0.75, \"accuracy\": 0.25}, {\"precision\": 0.875, \"recall\": 0.875, \"F_score\": 0.875, \"support\": 8.0, \"Group\": \"lag\", \"params\": \"none_balanced\", \"fold\": \"tgrC1\", \"FPR\": 0.08333333333333333, \"accuracy\": 0.9}, {\"precision\": 0.25, \"recall\": 1.0, \"F_score\": 0.4, \"support\": 1.0, \"Group\": \"lag\", \"params\": \"none_balanced\", \"fold\": \"gtaI\", \"FPR\": 0.23076923076923078, \"accuracy\": 0.7857142857142857}, {\"precision\": null, \"recall\": null, \"F_score\": null, \"support\": 0.0, \"Group\": \"lag\", \"params\": \"none_balanced\", \"fold\": \"dgcA\", \"FPR\": 0.0, \"accuracy\": 1.0}, {\"precision\": 0.0, \"recall\": 0.0, \"F_score\": 0.0, \"support\": 2.0, \"Group\": \"lag\", \"params\": \"none_balanced\", \"fold\": \"gbfA\", \"FPR\": 0.23529411764705882, \"accuracy\": 0.6842105263157895}, {\"precision\": null, \"recall\": null, \"F_score\": null, \"support\": 0.0, \"Group\": \"lag\", \"params\": \"none_balanced\", \"fold\": \"gtaC\", \"FPR\": 0.0, \"accuracy\": 1.0}, {\"precision\": 0.8, \"recall\": 0.8, \"F_score\": 0.8000000000000002, \"support\": 5.0, \"Group\": \"tag\", \"params\": \"none_balanced\", \"fold\": \"tgrB1C1\", \"FPR\": 0.06666666666666667, \"accuracy\": 0.9}, {\"precision\": 0.3333333333333333, \"recall\": 0.5, \"F_score\": 0.4, \"support\": 2.0, \"Group\": \"tag\", \"params\": \"none_balanced\", \"fold\": \"MybBGFP\", \"FPR\": 0.18181818181818182, \"accuracy\": 0.7692307692307693}, {\"precision\": 0.375, \"recall\": 0.6, \"F_score\": 0.4615384615384615, \"support\": 5.0, \"Group\": \"tag\", \"params\": \"none_balanced\", \"fold\": \"tgrB1\", \"FPR\": 0.3333333333333333, \"accuracy\": 0.65}, {\"precision\": null, \"recall\": null, \"F_score\": null, \"support\": 0.0, \"Group\": \"tag\", \"params\": \"none_balanced\", \"fold\": \"gbfA\", \"FPR\": 0.0, \"accuracy\": 1.0}, {\"precision\": 0.75, \"recall\": 0.75, \"F_score\": 0.75, \"support\": 8.0, \"Group\": \"tag\", \"params\": \"none_balanced\", \"fold\": \"AX4\", \"FPR\": 0.04081632653061224, \"accuracy\": 0.9298245614035088}, {\"precision\": 1.0, \"recall\": 0.5, \"F_score\": 0.6666666666666666, \"support\": 4.0, \"Group\": \"tag\", \"params\": \"none_balanced\", \"fold\": \"pkaR\", \"FPR\": 0.0, \"accuracy\": 0.8461538461538461}, {\"precision\": 1.0, \"recall\": 0.6, \"F_score\": 0.7499999999999999, \"support\": 10.0, \"Group\": \"tag\", \"params\": \"none_balanced\", \"fold\": \"comH\", \"FPR\": 0.0, \"accuracy\": 0.8}, {\"precision\": 0.7142857142857143, \"recall\": 1.0, \"F_score\": 0.8333333333333333, \"support\": 10.0, \"Group\": \"tag\", \"params\": \"none_balanced\", \"fold\": \"acaAPkaCoe\", \"FPR\": 0.6666666666666666, \"accuracy\": 0.75}, {\"precision\": null, \"recall\": null, \"F_score\": null, \"support\": 0.0, \"Group\": \"tag\", \"params\": \"none_balanced\", \"fold\": \"amiB\", \"FPR\": 0.0, \"accuracy\": 1.0}, {\"precision\": 0.5, \"recall\": 0.3333333333333333, \"F_score\": 0.4, \"support\": 3.0, \"Group\": \"tag\", \"params\": \"none_balanced\", \"fold\": \"gtaI\", \"FPR\": 0.09090909090909091, \"accuracy\": 0.7857142857142857}, {\"precision\": 0.5, \"recall\": 1.0, \"F_score\": 0.6666666666666666, \"support\": 2.0, \"Group\": \"tag\", \"params\": \"none_balanced\", \"fold\": \"cudA\", \"FPR\": 0.125, \"accuracy\": 0.8888888888888888}, {\"precision\": null, \"recall\": null, \"F_score\": null, \"support\": 0.0, \"Group\": \"tag\", \"params\": \"none_balanced\", \"fold\": \"acaA\", \"FPR\": 0.25, \"accuracy\": 0.75}, {\"precision\": 0.5, \"recall\": 0.25, \"F_score\": 0.3333333333333333, \"support\": 4.0, \"Group\": \"tag\", \"params\": \"none_balanced\", \"fold\": \"dgcA\", \"FPR\": 0.07142857142857142, \"accuracy\": 0.7777777777777778}, {\"precision\": 0.125, \"recall\": 1.0, \"F_score\": 0.2222222222222222, \"support\": 1.0, \"Group\": \"tag\", \"params\": \"none_balanced\", \"fold\": \"PkaCoe\", \"FPR\": 0.4375, \"accuracy\": 0.5882352941176471}, {\"precision\": null, \"recall\": null, \"F_score\": null, \"support\": 0.0, \"Group\": \"tag\", \"params\": \"none_balanced\", \"fold\": \"ac3PkaCoe\", \"FPR\": 0.0, \"accuracy\": 1.0}, {\"precision\": 0.0, \"recall\": 0.0, \"F_score\": 0.0, \"support\": 2.0, \"Group\": \"tag\", \"params\": \"none_balanced\", \"fold\": \"ecmARm\", \"FPR\": 0.0, \"accuracy\": 0.8571428571428571}, {\"precision\": 0.3333333333333333, \"recall\": 0.3333333333333333, \"F_score\": 0.3333333333333333, \"support\": 3.0, \"Group\": \"tag\", \"params\": \"none_balanced\", \"fold\": \"tgrC1\", \"FPR\": 0.11764705882352941, \"accuracy\": 0.8}, {\"precision\": null, \"recall\": null, \"F_score\": null, \"support\": 0.0, \"Group\": \"tag\", \"params\": \"none_balanced\", \"fold\": \"mybB\", \"FPR\": 0.0, \"accuracy\": 1.0}, {\"precision\": 1.0, \"recall\": 1.0, \"F_score\": 1.0, \"support\": 6.0, \"Group\": \"tag\", \"params\": \"none_balanced\", \"fold\": \"tagB\", \"FPR\": 0.0, \"accuracy\": 1.0}, {\"precision\": null, \"recall\": null, \"F_score\": null, \"support\": 0.0, \"Group\": \"tag\", \"params\": \"none_balanced\", \"fold\": \"gtaC\", \"FPR\": 0.0, \"accuracy\": 1.0}, {\"precision\": 1.0, \"recall\": 1.0, \"F_score\": 1.0, \"support\": 2.0, \"Group\": \"tag\", \"params\": \"none_balanced\", \"fold\": \"gtaG\", \"FPR\": 0.0, \"accuracy\": 1.0}, {\"precision\": null, \"recall\": null, \"F_score\": null, \"support\": 0.0, \"Group\": \"tip\", \"params\": \"none_balanced\", \"fold\": \"ac3PkaCoe\", \"FPR\": 0.0, \"accuracy\": 1.0}, {\"precision\": null, \"recall\": null, \"F_score\": null, \"support\": 0.0, \"Group\": \"tip\", \"params\": \"none_balanced\", \"fold\": \"mybB\", \"FPR\": 0.0, \"accuracy\": 1.0}, {\"precision\": 1.0, \"recall\": 0.5, \"F_score\": 0.6666666666666666, \"support\": 2.0, \"Group\": \"tip\", \"params\": \"none_balanced\", \"fold\": \"tgrB1C1\", \"FPR\": 0.0, \"accuracy\": 0.95}, {\"precision\": null, \"recall\": null, \"F_score\": null, \"support\": 0.0, \"Group\": \"tip\", \"params\": \"none_balanced\", \"fold\": \"amiB\", \"FPR\": 0.0, \"accuracy\": 1.0}, {\"precision\": 1.0, \"recall\": 0.5, \"F_score\": 0.6666666666666666, \"support\": 2.0, \"Group\": \"tip\", \"params\": \"none_balanced\", \"fold\": \"tgrB1\", \"FPR\": 0.0, \"accuracy\": 0.95}, {\"precision\": null, \"recall\": null, \"F_score\": null, \"support\": 0.0, \"Group\": \"tip\", \"params\": \"none_balanced\", \"fold\": \"acaA\", \"FPR\": 0.0, \"accuracy\": 1.0}, {\"precision\": null, \"recall\": null, \"F_score\": null, \"support\": 0.0, \"Group\": \"tip\", \"params\": \"none_balanced\", \"fold\": \"pkaR\", \"FPR\": 0.23076923076923078, \"accuracy\": 0.7692307692307693}, {\"precision\": null, \"recall\": null, \"F_score\": null, \"support\": 0.0, \"Group\": \"tip\", \"params\": \"none_balanced\", \"fold\": \"gtaC\", \"FPR\": 0.0, \"accuracy\": 1.0}, {\"precision\": 0.0, \"recall\": 0.0, \"F_score\": 0.0, \"support\": 5.0, \"Group\": \"tip\", \"params\": \"none_balanced\", \"fold\": \"acaAPkaCoe\", \"FPR\": 0.0, \"accuracy\": 0.6875}, {\"precision\": 0.3333333333333333, \"recall\": 0.6666666666666666, \"F_score\": 0.4444444444444444, \"support\": 3.0, \"Group\": \"tip\", \"params\": \"none_balanced\", \"fold\": \"PkaCoe\", \"FPR\": 0.2857142857142857, \"accuracy\": 0.7058823529411765}, {\"precision\": null, \"recall\": null, \"F_score\": null, \"support\": 0.0, \"Group\": \"tip\", \"params\": \"none_balanced\", \"fold\": \"tgrC1\", \"FPR\": 0.0, \"accuracy\": 1.0}, {\"precision\": 0.5, \"recall\": 1.0, \"F_score\": 0.6666666666666666, \"support\": 2.0, \"Group\": \"tip\", \"params\": \"none_balanced\", \"fold\": \"cudA\", \"FPR\": 0.125, \"accuracy\": 0.8888888888888888}, {\"precision\": null, \"recall\": null, \"F_score\": null, \"support\": 0.0, \"Group\": \"tip\", \"params\": \"none_balanced\", \"fold\": \"comH\", \"FPR\": 0.35, \"accuracy\": 0.65}, {\"precision\": 0.0, \"recall\": 0.0, \"F_score\": 0.0, \"support\": 1.0, \"Group\": \"tip\", \"params\": \"none_balanced\", \"fold\": \"gtaI\", \"FPR\": 0.0, \"accuracy\": 0.9285714285714286}, {\"precision\": null, \"recall\": null, \"F_score\": null, \"support\": 0.0, \"Group\": \"tip\", \"params\": \"none_balanced\", \"fold\": \"tagB\", \"FPR\": 0.0, \"accuracy\": 1.0}, {\"precision\": 1.0, \"recall\": 1.0, \"F_score\": 1.0, \"support\": 1.0, \"Group\": \"tip\", \"params\": \"none_balanced\", \"fold\": \"MybBGFP\", \"FPR\": 0.0, \"accuracy\": 1.0}, {\"precision\": null, \"recall\": null, \"F_score\": null, \"support\": 0.0, \"Group\": \"tip\", \"params\": \"none_balanced\", \"fold\": \"gbfA\", \"FPR\": 0.0, \"accuracy\": 1.0}, {\"precision\": null, \"recall\": null, \"F_score\": null, \"support\": 0.0, \"Group\": \"tip\", \"params\": \"none_balanced\", \"fold\": \"ecmARm\", \"FPR\": 0.0, \"accuracy\": 1.0}, {\"precision\": null, \"recall\": null, \"F_score\": null, \"support\": 0.0, \"Group\": \"tip\", \"params\": \"none_balanced\", \"fold\": \"gtaG\", \"FPR\": 0.0, \"accuracy\": 1.0}, {\"precision\": 0.8, \"recall\": 1.0, \"F_score\": 0.888888888888889, \"support\": 4.0, \"Group\": \"tip\", \"params\": \"none_balanced\", \"fold\": \"AX4\", \"FPR\": 0.018867924528301886, \"accuracy\": 0.9824561403508771}, {\"precision\": 0.3333333333333333, \"recall\": 0.5, \"F_score\": 0.4, \"support\": 2.0, \"Group\": \"tip\", \"params\": \"none_balanced\", \"fold\": \"dgcA\", \"FPR\": 0.125, \"accuracy\": 0.8333333333333334}, {\"precision\": 0.8888888888888888, \"recall\": 1.0, \"F_score\": 0.9411764705882353, \"support\": 8.0, \"Group\": \"slug\", \"params\": \"none_balanced\", \"fold\": \"cudA\", \"FPR\": 0.1, \"accuracy\": 0.9444444444444444}, {\"precision\": 0.0, \"recall\": 0.0, \"F_score\": 0.0, \"support\": 5.0, \"Group\": \"slug\", \"params\": \"none_balanced\", \"fold\": \"acaAPkaCoe\", \"FPR\": 0.09090909090909091, \"accuracy\": 0.625}, {\"precision\": null, \"recall\": null, \"F_score\": null, \"support\": 0.0, \"Group\": \"slug\", \"params\": \"none_balanced\", \"fold\": \"acaA\", \"FPR\": 0.3333333333333333, \"accuracy\": 0.6666666666666666}, {\"precision\": null, \"recall\": null, \"F_score\": null, \"support\": 0.0, \"Group\": \"slug\", \"params\": \"none_balanced\", \"fold\": \"mybB\", \"FPR\": 0.0, \"accuracy\": 1.0}, {\"precision\": 0.8, \"recall\": 0.8, \"F_score\": 0.8000000000000002, \"support\": 5.0, \"Group\": \"slug\", \"params\": \"none_balanced\", \"fold\": \"gtaI\", \"FPR\": 0.1111111111111111, \"accuracy\": 0.8571428571428571}, {\"precision\": null, \"recall\": null, \"F_score\": null, \"support\": 0.0, \"Group\": \"slug\", \"params\": \"none_balanced\", \"fold\": \"gtaC\", \"FPR\": 0.0, \"accuracy\": 1.0}, {\"precision\": null, \"recall\": null, \"F_score\": null, \"support\": 0.0, \"Group\": \"slug\", \"params\": \"none_balanced\", \"fold\": \"tagB\", \"FPR\": 0.3076923076923077, \"accuracy\": 0.6923076923076923}, {\"precision\": null, \"recall\": null, \"F_score\": null, \"support\": 0.0, \"Group\": \"slug\", \"params\": \"none_balanced\", \"fold\": \"amiB\", \"FPR\": 0.0, \"accuracy\": 1.0}, {\"precision\": 1.0, \"recall\": 1.0, \"F_score\": 1.0, \"support\": 6.0, \"Group\": \"slug\", \"params\": \"none_balanced\", \"fold\": \"gtaG\", \"FPR\": 0.0, \"accuracy\": 1.0}, {\"precision\": null, \"recall\": null, \"F_score\": null, \"support\": 0.0, \"Group\": \"slug\", \"params\": \"none_balanced\", \"fold\": \"tgrC1\", \"FPR\": 0.05, \"accuracy\": 0.95}, {\"precision\": 0.0, \"recall\": 0.0, \"F_score\": 0.0, \"support\": 6.0, \"Group\": \"slug\", \"params\": \"none_balanced\", \"fold\": \"ecmARm\", \"FPR\": 0.0, \"accuracy\": 0.5714285714285714}, {\"precision\": 0.0, \"recall\": 0.0, \"F_score\": 0.0, \"support\": 4.0, \"Group\": \"slug\", \"params\": \"none_balanced\", \"fold\": \"PkaCoe\", \"FPR\": 0.23076923076923078, \"accuracy\": 0.5882352941176471}, {\"precision\": 1.0, \"recall\": 1.0, \"F_score\": 1.0, \"support\": 2.0, \"Group\": \"slug\", \"params\": \"none_balanced\", \"fold\": \"tgrB1C1\", \"FPR\": 0.0, \"accuracy\": 1.0}, {\"precision\": null, \"recall\": null, \"F_score\": null, \"support\": 0.0, \"Group\": \"slug\", \"params\": \"none_balanced\", \"fold\": \"comH\", \"FPR\": 0.45, \"accuracy\": 0.55}, {\"precision\": null, \"recall\": null, \"F_score\": null, \"support\": 0.0, \"Group\": \"slug\", \"params\": \"none_balanced\", \"fold\": \"ac3PkaCoe\", \"FPR\": 0.0, \"accuracy\": 1.0}, {\"precision\": null, \"recall\": null, \"F_score\": null, \"support\": 0.0, \"Group\": \"slug\", \"params\": \"none_balanced\", \"fold\": \"pkaR\", \"FPR\": 0.15384615384615385, \"accuracy\": 0.8461538461538461}, {\"precision\": 0.6666666666666666, \"recall\": 0.8, \"F_score\": 0.7272727272727272, \"support\": 5.0, \"Group\": \"slug\", \"params\": \"none_balanced\", \"fold\": \"MybBGFP\", \"FPR\": 0.25, \"accuracy\": 0.7692307692307693}, {\"precision\": 0.5882352941176471, \"recall\": 0.9090909090909091, \"F_score\": 0.7142857142857143, \"support\": 11.0, \"Group\": \"slug\", \"params\": \"none_balanced\", \"fold\": \"AX4\", \"FPR\": 0.15217391304347827, \"accuracy\": 0.8596491228070176}, {\"precision\": 0.875, \"recall\": 0.875, \"F_score\": 0.875, \"support\": 8.0, \"Group\": \"slug\", \"params\": \"none_balanced\", \"fold\": \"dgcA\", \"FPR\": 0.1, \"accuracy\": 0.8888888888888888}, {\"precision\": 1.0, \"recall\": 0.5, \"F_score\": 0.6666666666666666, \"support\": 2.0, \"Group\": \"slug\", \"params\": \"none_balanced\", \"fold\": \"tgrB1\", \"FPR\": 0.0, \"accuracy\": 0.95}, {\"precision\": null, \"recall\": null, \"F_score\": null, \"support\": 0.0, \"Group\": \"slug\", \"params\": \"none_balanced\", \"fold\": \"gbfA\", \"FPR\": 0.0, \"accuracy\": 1.0}, {\"precision\": null, \"recall\": null, \"F_score\": null, \"support\": 0.0, \"Group\": \"mhat\", \"params\": \"none_balanced\", \"fold\": \"pkaR\", \"FPR\": 0.15384615384615385, \"accuracy\": 0.8461538461538461}, {\"precision\": 0.0, \"recall\": 0.0, \"F_score\": 0.0, \"support\": 4.0, \"Group\": \"mhat\", \"params\": \"none_balanced\", \"fold\": \"cudA\", \"FPR\": 0.0, \"accuracy\": 0.7777777777777778}, {\"precision\": 0.5, \"recall\": 1.0, \"F_score\": 0.6666666666666666, \"support\": 9.0, \"Group\": \"mhat\", \"params\": \"none_balanced\", \"fold\": \"AX4\", \"FPR\": 0.1875, \"accuracy\": 0.8421052631578947}, {\"precision\": null, \"recall\": null, \"F_score\": null, \"support\": 0.0, \"Group\": \"mhat\", \"params\": \"none_balanced\", \"fold\": \"ecmARm\", \"FPR\": 0.0, \"accuracy\": 1.0}, {\"precision\": null, \"recall\": null, \"F_score\": null, \"support\": 0.0, \"Group\": \"mhat\", \"params\": \"none_balanced\", \"fold\": \"acaA\", \"FPR\": 0.0, \"accuracy\": 1.0}, {\"precision\": null, \"recall\": null, \"F_score\": null, \"support\": 0.0, \"Group\": \"mhat\", \"params\": \"none_balanced\", \"fold\": \"gtaI\", \"FPR\": 0.2857142857142857, \"accuracy\": 0.7142857142857143}, {\"precision\": 1.0, \"recall\": 0.25, \"F_score\": 0.4, \"support\": 4.0, \"Group\": \"mhat\", \"params\": \"none_balanced\", \"fold\": \"MybBGFP\", \"FPR\": 0.0, \"accuracy\": 0.7692307692307693}, {\"precision\": null, \"recall\": null, \"F_score\": null, \"support\": 0.0, \"Group\": \"mhat\", \"params\": \"none_balanced\", \"fold\": \"ac3PkaCoe\", \"FPR\": 0.0, \"accuracy\": 1.0}, {\"precision\": null, \"recall\": null, \"F_score\": null, \"support\": 0.0, \"Group\": \"mhat\", \"params\": \"none_balanced\", \"fold\": \"acaAPkaCoe\", \"FPR\": 0.0, \"accuracy\": 1.0}, {\"precision\": null, \"recall\": null, \"F_score\": null, \"support\": 0.0, \"Group\": \"mhat\", \"params\": \"none_balanced\", \"fold\": \"PkaCoe\", \"FPR\": 0.0, \"accuracy\": 1.0}, {\"precision\": null, \"recall\": null, \"F_score\": null, \"support\": 0.0, \"Group\": \"mhat\", \"params\": \"none_balanced\", \"fold\": \"dgcA\", \"FPR\": 0.05555555555555555, \"accuracy\": 0.9444444444444444}, {\"precision\": null, \"recall\": null, \"F_score\": null, \"support\": 0.0, \"Group\": \"mhat\", \"params\": \"none_balanced\", \"fold\": \"amiB\", \"FPR\": 0.0, \"accuracy\": 1.0}, {\"precision\": null, \"recall\": null, \"F_score\": null, \"support\": 0.0, \"Group\": \"mhat\", \"params\": \"none_balanced\", \"fold\": \"mybB\", \"FPR\": 0.0, \"accuracy\": 1.0}, {\"precision\": null, \"recall\": null, \"F_score\": null, \"support\": 0.0, \"Group\": \"mhat\", \"params\": \"none_balanced\", \"fold\": \"gbfA\", \"FPR\": 0.0, \"accuracy\": 1.0}, {\"precision\": null, \"recall\": null, \"F_score\": null, \"support\": 0.0, \"Group\": \"mhat\", \"params\": \"none_balanced\", \"fold\": \"tgrB1\", \"FPR\": 0.0, \"accuracy\": 1.0}, {\"precision\": null, \"recall\": null, \"F_score\": null, \"support\": 0.0, \"Group\": \"mhat\", \"params\": \"none_balanced\", \"fold\": \"gtaG\", \"FPR\": 0.14285714285714285, \"accuracy\": 0.8571428571428571}, {\"precision\": null, \"recall\": null, \"F_score\": null, \"support\": 0.0, \"Group\": \"mhat\", \"params\": \"none_balanced\", \"fold\": \"tagB\", \"FPR\": 0.07692307692307693, \"accuracy\": 0.9230769230769231}, {\"precision\": null, \"recall\": null, \"F_score\": null, \"support\": 0.0, \"Group\": \"mhat\", \"params\": \"none_balanced\", \"fold\": \"tgrB1C1\", \"FPR\": 0.0, \"accuracy\": 1.0}, {\"precision\": null, \"recall\": null, \"F_score\": null, \"support\": 0.0, \"Group\": \"mhat\", \"params\": \"none_balanced\", \"fold\": \"gtaC\", \"FPR\": 0.0, \"accuracy\": 1.0}, {\"precision\": null, \"recall\": null, \"F_score\": null, \"support\": 0.0, \"Group\": \"mhat\", \"params\": \"none_balanced\", \"fold\": \"tgrC1\", \"FPR\": 0.0, \"accuracy\": 1.0}, {\"precision\": null, \"recall\": null, \"F_score\": null, \"support\": 0.0, \"Group\": \"mhat\", \"params\": \"none_balanced\", \"fold\": \"comH\", \"FPR\": 0.0, \"accuracy\": 1.0}, {\"precision\": null, \"recall\": null, \"F_score\": null, \"support\": 0.0, \"Group\": \"cul\", \"params\": \"none_balanced\", \"fold\": \"tgrB1C1\", \"FPR\": 0.0, \"accuracy\": 1.0}, {\"precision\": null, \"recall\": null, \"F_score\": null, \"support\": 0.0, \"Group\": \"cul\", \"params\": \"none_balanced\", \"fold\": \"comH\", \"FPR\": 0.15, \"accuracy\": 0.85}, {\"precision\": null, \"recall\": null, \"F_score\": null, \"support\": 0.0, \"Group\": \"cul\", \"params\": \"none_balanced\", \"fold\": \"ac3PkaCoe\", \"FPR\": 0.0, \"accuracy\": 1.0}, {\"precision\": 0.0, \"recall\": 0.0, \"F_score\": 0.0, \"support\": 1.0, \"Group\": \"cul\", \"params\": \"none_balanced\", \"fold\": \"tgrB1\", \"FPR\": 0.0, \"accuracy\": 0.95}, {\"precision\": null, \"recall\": null, \"F_score\": null, \"support\": 0.0, \"Group\": \"cul\", \"params\": \"none_balanced\", \"fold\": \"dgcA\", \"FPR\": 0.0, \"accuracy\": 1.0}, {\"precision\": 0.875, \"recall\": 1.0, \"F_score\": 0.9333333333333333, \"support\": 7.0, \"Group\": \"cul\", \"params\": \"none_balanced\", \"fold\": \"PkaCoe\", \"FPR\": 0.1, \"accuracy\": 0.9411764705882353}, {\"precision\": 0.0, \"recall\": 0.0, \"F_score\": 0.0, \"support\": 6.0, \"Group\": \"cul\", \"params\": \"none_balanced\", \"fold\": \"acaAPkaCoe\", \"FPR\": 0.0, \"accuracy\": 0.625}, {\"precision\": null, \"recall\": null, \"F_score\": null, \"support\": 0.0, \"Group\": \"cul\", \"params\": \"none_balanced\", \"fold\": \"tagB\", \"FPR\": 0.0, \"accuracy\": 1.0}, {\"precision\": null, \"recall\": null, \"F_score\": null, \"support\": 0.0, \"Group\": \"cul\", \"params\": \"none_balanced\", \"fold\": \"ecmARm\", \"FPR\": 0.0, \"accuracy\": 1.0}, {\"precision\": null, \"recall\": null, \"F_score\": null, \"support\": 0.0, \"Group\": \"cul\", \"params\": \"none_balanced\", \"fold\": \"gtaC\", \"FPR\": 0.0, \"accuracy\": 1.0}, {\"precision\": 0.0, \"recall\": 0.0, \"F_score\": 0.0, \"support\": 1.0, \"Group\": \"cul\", \"params\": \"none_balanced\", \"fold\": \"gtaI\", \"FPR\": 0.07692307692307693, \"accuracy\": 0.8571428571428571}, {\"precision\": 0.8235294117647058, \"recall\": 1.0, \"F_score\": 0.9032258064516129, \"support\": 14.0, \"Group\": \"cul\", \"params\": \"none_balanced\", \"fold\": \"AX4\", \"FPR\": 0.06976744186046512, \"accuracy\": 0.9473684210526315}, {\"precision\": null, \"recall\": null, \"F_score\": null, \"support\": 0.0, \"Group\": \"cul\", \"params\": \"none_balanced\", \"fold\": \"acaA\", \"FPR\": 0.0, \"accuracy\": 1.0}, {\"precision\": null, \"recall\": null, \"F_score\": null, \"support\": 0.0, \"Group\": \"cul\", \"params\": \"none_balanced\", \"fold\": \"gbfA\", \"FPR\": 0.0, \"accuracy\": 1.0}, {\"precision\": 1.0, \"recall\": 1.0, \"F_score\": 1.0, \"support\": 2.0, \"Group\": \"cul\", \"params\": \"none_balanced\", \"fold\": \"gtaG\", \"FPR\": 0.0, \"accuracy\": 1.0}, {\"precision\": null, \"recall\": null, \"F_score\": null, \"support\": 0.0, \"Group\": \"cul\", \"params\": \"none_balanced\", \"fold\": \"cudA\", \"FPR\": 0.05555555555555555, \"accuracy\": 0.9444444444444444}, {\"precision\": null, \"recall\": null, \"F_score\": null, \"support\": 0.0, \"Group\": \"cul\", \"params\": \"none_balanced\", \"fold\": \"tgrC1\", \"FPR\": 0.0, \"accuracy\": 1.0}, {\"precision\": null, \"recall\": null, \"F_score\": null, \"support\": 0.0, \"Group\": \"cul\", \"params\": \"none_balanced\", \"fold\": \"amiB\", \"FPR\": 0.0, \"accuracy\": 1.0}, {\"precision\": null, \"recall\": null, \"F_score\": null, \"support\": 0.0, \"Group\": \"cul\", \"params\": \"none_balanced\", \"fold\": \"pkaR\", \"FPR\": 0.5384615384615384, \"accuracy\": 0.46153846153846156}, {\"precision\": null, \"recall\": null, \"F_score\": null, \"support\": 0.0, \"Group\": \"cul\", \"params\": \"none_balanced\", \"fold\": \"mybB\", \"FPR\": 0.0, \"accuracy\": 1.0}, {\"precision\": 1.0, \"recall\": 1.0, \"F_score\": 1.0, \"support\": 3.0, \"Group\": \"cul\", \"params\": \"none_balanced\", \"fold\": \"MybBGFP\", \"FPR\": 0.0, \"accuracy\": 1.0}, {\"precision\": 0.5, \"recall\": 1.0, \"F_score\": 0.6666666666666666, \"support\": 8.0, \"Group\": \"FB\", \"params\": \"none_balanced\", \"fold\": \"AX4\", \"FPR\": 0.16326530612244897, \"accuracy\": 0.8596491228070176}, {\"precision\": 1.0, \"recall\": 1.0, \"F_score\": 1.0, \"support\": 7.0, \"Group\": \"FB\", \"params\": \"none_balanced\", \"fold\": \"PkaCoe\", \"FPR\": 0.0, \"accuracy\": 1.0}, {\"precision\": null, \"recall\": null, \"F_score\": null, \"support\": 0.0, \"Group\": \"FB\", \"params\": \"none_balanced\", \"fold\": \"gbfA\", \"FPR\": 0.0, \"accuracy\": 1.0}, {\"precision\": null, \"recall\": null, \"F_score\": null, \"support\": 0.0, \"Group\": \"FB\", \"params\": \"none_balanced\", \"fold\": \"tgrC1\", \"FPR\": 0.0, \"accuracy\": 1.0}, {\"precision\": 0.0, \"recall\": 0.0, \"F_score\": 0.0, \"support\": 1.0, \"Group\": \"FB\", \"params\": \"none_balanced\", \"fold\": \"tgrB1\", \"FPR\": 0.0, \"accuracy\": 0.95}, {\"precision\": null, \"recall\": null, \"F_score\": null, \"support\": 0.0, \"Group\": \"FB\", \"params\": \"none_balanced\", \"fold\": \"dgcA\", \"FPR\": 0.0, \"accuracy\": 1.0}, {\"precision\": 1.0, \"recall\": 1.0, \"F_score\": 1.0, \"support\": 2.0, \"Group\": \"FB\", \"params\": \"none_balanced\", \"fold\": \"MybBGFP\", \"FPR\": 0.0, \"accuracy\": 1.0}, {\"precision\": null, \"recall\": null, \"F_score\": null, \"support\": 0.0, \"Group\": \"FB\", \"params\": \"none_balanced\", \"fold\": \"ac3PkaCoe\", \"FPR\": 0.0, \"accuracy\": 1.0}, {\"precision\": null, \"recall\": null, \"F_score\": null, \"support\": 0.0, \"Group\": \"FB\", \"params\": \"none_balanced\", \"fold\": \"tgrB1C1\", \"FPR\": 0.0, \"accuracy\": 1.0}, {\"precision\": null, \"recall\": null, \"F_score\": null, \"support\": 0.0, \"Group\": \"FB\", \"params\": \"none_balanced\", \"fold\": \"ecmARm\", \"FPR\": 0.0, \"accuracy\": 1.0}, {\"precision\": 1.0, \"recall\": 0.4, \"F_score\": 0.5714285714285715, \"support\": 5.0, \"Group\": \"FB\", \"params\": \"none_balanced\", \"fold\": \"acaAPkaCoe\", \"FPR\": 0.0, \"accuracy\": 0.8125}, {\"precision\": null, \"recall\": null, \"F_score\": null, \"support\": 0.0, \"Group\": \"FB\", \"params\": \"none_balanced\", \"fold\": \"tagB\", \"FPR\": 0.0, \"accuracy\": 1.0}, {\"precision\": 0.0, \"recall\": 0.0, \"F_score\": 0.0, \"support\": 1.0, \"Group\": \"FB\", \"params\": \"none_balanced\", \"fold\": \"gtaI\", \"FPR\": 0.07692307692307693, \"accuracy\": 0.8571428571428571}, {\"precision\": null, \"recall\": null, \"F_score\": null, \"support\": 0.0, \"Group\": \"FB\", \"params\": \"none_balanced\", \"fold\": \"acaA\", \"FPR\": 0.0, \"accuracy\": 1.0}, {\"precision\": null, \"recall\": null, \"F_score\": null, \"support\": 0.0, \"Group\": \"FB\", \"params\": \"none_balanced\", \"fold\": \"gtaC\", \"FPR\": 0.0, \"accuracy\": 1.0}, {\"precision\": 1.0, \"recall\": 1.0, \"F_score\": 1.0, \"support\": 2.0, \"Group\": \"FB\", \"params\": \"none_balanced\", \"fold\": \"gtaG\", \"FPR\": 0.0, \"accuracy\": 1.0}, {\"precision\": null, \"recall\": null, \"F_score\": null, \"support\": 0.0, \"Group\": \"FB\", \"params\": \"none_balanced\", \"fold\": \"cudA\", \"FPR\": 0.1111111111111111, \"accuracy\": 0.8888888888888888}, {\"precision\": null, \"recall\": null, \"F_score\": null, \"support\": 0.0, \"Group\": \"FB\", \"params\": \"none_balanced\", \"fold\": \"amiB\", \"FPR\": 0.0, \"accuracy\": 1.0}, {\"precision\": null, \"recall\": null, \"F_score\": null, \"support\": 0.0, \"Group\": \"FB\", \"params\": \"none_balanced\", \"fold\": \"mybB\", \"FPR\": 0.0, \"accuracy\": 1.0}, {\"precision\": null, \"recall\": null, \"F_score\": null, \"support\": 0.0, \"Group\": \"FB\", \"params\": \"none_balanced\", \"fold\": \"comH\", \"FPR\": 0.15, \"accuracy\": 0.85}, {\"precision\": null, \"recall\": null, \"F_score\": null, \"support\": 0.0, \"Group\": \"FB\", \"params\": \"none_balanced\", \"fold\": \"pkaR\", \"FPR\": 0.46153846153846156, \"accuracy\": 0.5384615384615384}]}}, {\"mode\": \"vega-lite\"});\n",
       "</script>"
      ],
      "text/plain": [
       "alt.Chart(...)"
      ]
     },
     "metadata": {},
     "output_type": "display_data"
    }
   ],
   "source": [
    "data_prfs=result['prfs'].groupby('params')\n",
    "#for group in ['none','none_balanced','l1_0.6_balanced']:\n",
    "for group in ['none_balanced']:\n",
    "    data=data_prfs.get_group(group)\n",
    "    summary=summary_classification(data,'F_score',\"Group\",print_df=False)\n",
    "    print('F score summary for OvR logistic regression:',group)\n",
    "    summary_classification_print_sort(summary,statistic='F score',averages=['macro','micro'],groups=order,sort='groups')\n",
    "    print('\\n')\n",
    "    data_scatter=result['prfs'][result['prfs']['Group'].isin(order)].query('params ==\"none_balanced\"')\n",
    "    data_scatter.Group=pd.Categorical(data_scatter.Group, categories=order,ordered=True)\n",
    "    data_scatter=data_scatter.sort_values('Group')\n",
    "    display(scatter_catgory(data_scatter,categories='Group',Y= 'F_score', colour='fold',shape='fold',width=70))\n"
   ]
  },
  {
   "cell_type": "code",
   "execution_count": null,
   "metadata": {},
   "outputs": [],
   "source": [
    "#FPR indicates ratio of false positives to known negatives. This shows how often the class was falsely predicted."
   ]
  },
  {
   "cell_type": "code",
   "execution_count": null,
   "metadata": {},
   "outputs": [],
   "source": [
    "data_prfs=result['prfs'].groupby('params')\n",
    "#for group in ['none','none_balanced','l1_0.6_balanced']:\n",
    "for group in ['none_balanced']:\n",
    "    data=data_prfs.get_group(group)\n",
    "    summary=summary_classification(data,'FPR',\"Group\",print_df=False)\n",
    "    print('FPR summary for OvR logistic regression:',group)\n",
    "    summary_classification_print_sort(summary,statistic='FPR',averages=['macro','micro'],groups=order,sort='groups')\n",
    "    print('\\n')"
   ]
  },
  {
   "cell_type": "code",
   "execution_count": null,
   "metadata": {},
   "outputs": [],
   "source": [
    "#ROC AUC tells how much is the model capable of distinguishing the classes."
   ]
  },
  {
   "cell_type": "code",
   "execution_count": null,
   "metadata": {},
   "outputs": [],
   "source": [
    "data_rac=result['rac'].groupby('params')\n",
    "for group in ['none_balanced']:\n",
    "    data=data_rac.get_group(group)\n",
    "    summary=summary_classification(data,'roc_auc',\"Group\",print_df=False)\n",
    "    print('ROC_AUC score summary for OvR logistic regression:',group)\n",
    "    summary_classification_print_sort(summary,statistic='roc_auc',averages=['macro','micro'],groups=order,sort='groups')\n",
    "    print('\\n')"
   ]
  },
  {
   "cell_type": "code",
   "execution_count": 381,
   "metadata": {},
   "outputs": [
    {
     "name": "stdout",
     "output_type": "stream",
     "text": [
      "F score summary for OvR logistic regression with arrest  strains data: none_balanced\n",
      "Mean cross validation F score averaged across all phenotypes and standard error\n",
      "macro       0.69  +- 0.07\n",
      "micro       0.71  +- 0.05\n",
      "Mean cross validation F score of individual phenotypes and standard error\n",
      "no_agg      0.89  +- 0.03\n",
      "stream      0.51  +- 0.13\n",
      "lag         0.57  +- 0.13\n",
      "tag         0.65  +- 0.10\n",
      "tip         0.60  +- 0.16\n",
      "slug        0.68  +- 0.13\n",
      "mhat        0.36  +- 0.20\n",
      "cul         0.63  +- 0.22\n",
      "FB          0.52  +- 0.17\n",
      "\n",
      "\n"
     ]
    },
    {
     "data": {
      "text/html": [
       "\n",
       "<div id=\"altair-viz-230c97f117ab47e28cd2f8b54136dd7d\"></div>\n",
       "<script type=\"text/javascript\">\n",
       "  (function(spec, embedOpt){\n",
       "    const outputDiv = document.getElementById(\"altair-viz-230c97f117ab47e28cd2f8b54136dd7d\");\n",
       "    const paths = {\n",
       "      \"vega\": \"https://cdn.jsdelivr.net/npm//vega@5?noext\",\n",
       "      \"vega-lib\": \"https://cdn.jsdelivr.net/npm//vega-lib?noext\",\n",
       "      \"vega-lite\": \"https://cdn.jsdelivr.net/npm//vega-lite@4.0.2?noext\",\n",
       "      \"vega-embed\": \"https://cdn.jsdelivr.net/npm//vega-embed@6?noext\",\n",
       "    };\n",
       "\n",
       "    function loadScript(lib) {\n",
       "      return new Promise(function(resolve, reject) {\n",
       "        var s = document.createElement('script');\n",
       "        s.src = paths[lib];\n",
       "        s.async = true;\n",
       "        s.onload = () => resolve(paths[lib]);\n",
       "        s.onerror = () => reject(`Error loading script: ${paths[lib]}`);\n",
       "        document.getElementsByTagName(\"head\")[0].appendChild(s);\n",
       "      });\n",
       "    }\n",
       "\n",
       "    function showError(err) {\n",
       "      outputDiv.innerHTML = `<div class=\"error\" style=\"color:red;\">${err}</div>`;\n",
       "      throw err;\n",
       "    }\n",
       "\n",
       "    function displayChart(vegaEmbed) {\n",
       "      vegaEmbed(outputDiv, spec, embedOpt)\n",
       "        .catch(err => showError(`Javascript Error: ${err.message}<br>This usually means there's a typo in your chart specification. See the javascript console for the full traceback.`));\n",
       "    }\n",
       "\n",
       "    if(typeof define === \"function\" && define.amd) {\n",
       "      requirejs.config({paths});\n",
       "      require([\"vega-embed\"], displayChart, err => showError(`Error loading script: ${err.message}`));\n",
       "    } else if (typeof vegaEmbed === \"function\") {\n",
       "      displayChart(vegaEmbed);\n",
       "    } else {\n",
       "      loadScript(\"vega\")\n",
       "        .then(() => loadScript(\"vega-lite\"))\n",
       "        .then(() => loadScript(\"vega-embed\"))\n",
       "        .catch(showError)\n",
       "        .then(() => displayChart(vegaEmbed));\n",
       "    }\n",
       "  })({\"config\": {\"view\": {\"continuousWidth\": 400, \"continuousHeight\": 300}, \"facet\": {\"spacing\": 0}}, \"data\": {\"name\": \"data-f7257fb2723303167fca4453e0d3be38\"}, \"mark\": {\"type\": \"point\", \"size\": 20}, \"encoding\": {\"color\": {\"type\": \"nominal\", \"field\": \"fold\"}, \"column\": {\"type\": \"ordinal\", \"field\": \"Group\", \"header\": {\"labelAlign\": \"center\", \"labelAngle\": 0, \"labelOrient\": \"bottom\", \"labelPadding\": 10, \"titleOrient\": \"bottom\"}, \"sort\": [\"no_agg\", \"stream\", \"lag\", \"tag\", \"tip\", \"slug\", \"mhat\", \"cul\", \"FB\"]}, \"shape\": {\"type\": \"nominal\", \"field\": \"fold\"}, \"x\": {\"type\": \"quantitative\", \"axis\": {\"grid\": false, \"labels\": false, \"ticks\": true, \"values\": [0]}, \"field\": \"jitter\", \"scale\": {}, \"title\": null}, \"y\": {\"type\": \"quantitative\", \"axis\": {\"grid\": false}, \"field\": \"F_score\"}}, \"title\": \"\", \"transform\": [{\"calculate\": \"sqrt(-2*log(random()))*cos(2*PI*random())\", \"as\": \"jitter\"}], \"width\": 70, \"$schema\": \"https://vega.github.io/schema/vega-lite/v4.0.2.json\", \"datasets\": {\"data-f7257fb2723303167fca4453e0d3be38\": [{\"precision\": 0.9166666666666666, \"recall\": 1.0, \"F_score\": 0.9565217391304348, \"support\": 11.0, \"Group\": \"no_agg\", \"params\": \"none_balanced\", \"fold\": \"AX4\", \"FPR\": 0.021739130434782608, \"accuracy\": 0.9824561403508771}, {\"precision\": 1.0, \"recall\": 1.0, \"F_score\": 1.0, \"support\": 18.0, \"Group\": \"no_agg\", \"params\": \"none_balanced\", \"fold\": \"amiB\", \"FPR\": null, \"accuracy\": 1.0}, {\"precision\": 1.0, \"recall\": 1.0, \"F_score\": 1.0, \"support\": 14.0, \"Group\": \"no_agg\", \"params\": \"none_balanced\", \"fold\": \"mybB\", \"FPR\": null, \"accuracy\": 1.0}, {\"precision\": 1.0, \"recall\": 0.8333333333333334, \"F_score\": 0.9090909090909091, \"support\": 6.0, \"Group\": \"no_agg\", \"params\": \"none_balanced\", \"fold\": \"gtaI\", \"FPR\": 0.0, \"accuracy\": 0.9285714285714286}, {\"precision\": 1.0, \"recall\": 1.0, \"F_score\": 1.0, \"support\": 4.0, \"Group\": \"no_agg\", \"params\": \"none_balanced\", \"fold\": \"gtaC\", \"FPR\": null, \"accuracy\": 1.0}, {\"precision\": 1.0, \"recall\": 1.0, \"F_score\": 1.0, \"support\": 4.0, \"Group\": \"no_agg\", \"params\": \"none_balanced\", \"fold\": \"cudA\", \"FPR\": 0.0, \"accuracy\": 1.0}, {\"precision\": 0.5714285714285714, \"recall\": 1.0, \"F_score\": 0.7272727272727273, \"support\": 8.0, \"Group\": \"no_agg\", \"params\": \"none_balanced\", \"fold\": \"ecmARm\", \"FPR\": 1.0, \"accuracy\": 0.5714285714285714}, {\"precision\": 1.0, \"recall\": 0.75, \"F_score\": 0.8571428571428571, \"support\": 12.0, \"Group\": \"no_agg\", \"params\": \"none_balanced\", \"fold\": \"acaA\", \"FPR\": null, \"accuracy\": 0.75}, {\"precision\": 1.0, \"recall\": 0.6666666666666666, \"F_score\": 0.8, \"support\": 3.0, \"Group\": \"no_agg\", \"params\": \"none_balanced\", \"fold\": \"MybBGFP\", \"FPR\": 0.0, \"accuracy\": 0.9230769230769231}, {\"precision\": 0.5555555555555556, \"recall\": 0.8333333333333334, \"F_score\": 0.6666666666666667, \"support\": 6.0, \"Group\": \"no_agg\", \"params\": \"none_balanced\", \"fold\": \"dgcA\", \"FPR\": 0.3333333333333333, \"accuracy\": 0.7222222222222222}, {\"precision\": 0.75, \"recall\": 1.0, \"F_score\": 0.8571428571428571, \"support\": 3.0, \"Group\": \"no_agg\", \"params\": \"none_balanced\", \"fold\": \"tagB\", \"FPR\": 0.1, \"accuracy\": 0.9230769230769231}, {\"precision\": 1.0, \"recall\": 1.0, \"F_score\": 1.0, \"support\": 4.0, \"Group\": \"no_agg\", \"params\": \"none_balanced\", \"fold\": \"gtaG\", \"FPR\": 0.0, \"accuracy\": 1.0}, {\"precision\": 1.0, \"recall\": 0.75, \"F_score\": 0.8571428571428571, \"support\": 8.0, \"Group\": \"no_agg\", \"params\": \"none_balanced\", \"fold\": \"comH\", \"FPR\": 0.0, \"accuracy\": 0.9}, {\"precision\": 0.3333333333333333, \"recall\": 0.25, \"F_score\": 0.28571428571428575, \"support\": 4.0, \"Group\": \"stream\", \"params\": \"none_balanced\", \"fold\": \"comH\", \"FPR\": 0.125, \"accuracy\": 0.75}, {\"precision\": null, \"recall\": null, \"F_score\": null, \"support\": 0.0, \"Group\": \"stream\", \"params\": \"none_balanced\", \"fold\": \"cudA\", \"FPR\": 0.1111111111111111, \"accuracy\": 0.8888888888888888}, {\"precision\": 1.0, \"recall\": 0.5, \"F_score\": 0.6666666666666666, \"support\": 2.0, \"Group\": \"stream\", \"params\": \"none_balanced\", \"fold\": \"dgcA\", \"FPR\": 0.0, \"accuracy\": 0.9444444444444444}, {\"precision\": 1.0, \"recall\": 0.5, \"F_score\": 0.6666666666666666, \"support\": 4.0, \"Group\": \"stream\", \"params\": \"none_balanced\", \"fold\": \"tagB\", \"FPR\": 0.0, \"accuracy\": 0.8461538461538461}, {\"precision\": null, \"recall\": null, \"F_score\": null, \"support\": 0.0, \"Group\": \"stream\", \"params\": \"none_balanced\", \"fold\": \"gtaC\", \"FPR\": 0.0, \"accuracy\": 1.0}, {\"precision\": 1.0, \"recall\": 1.0, \"F_score\": 1.0, \"support\": 2.0, \"Group\": \"stream\", \"params\": \"none_balanced\", \"fold\": \"gtaG\", \"FPR\": 0.0, \"accuracy\": 1.0}, {\"precision\": null, \"recall\": null, \"F_score\": null, \"support\": 0.0, \"Group\": \"stream\", \"params\": \"none_balanced\", \"fold\": \"mybB\", \"FPR\": 0.0, \"accuracy\": 1.0}, {\"precision\": null, \"recall\": null, \"F_score\": null, \"support\": 0.0, \"Group\": \"stream\", \"params\": \"none_balanced\", \"fold\": \"gtaI\", \"FPR\": 0.14285714285714285, \"accuracy\": 0.8571428571428571}, {\"precision\": 0.6666666666666666, \"recall\": 1.0, \"F_score\": 0.8, \"support\": 2.0, \"Group\": \"stream\", \"params\": \"none_balanced\", \"fold\": \"MybBGFP\", \"FPR\": 0.09090909090909091, \"accuracy\": 0.9230769230769231}, {\"precision\": 0.5454545454545454, \"recall\": 0.75, \"F_score\": 0.631578947368421, \"support\": 8.0, \"Group\": \"stream\", \"params\": \"none_balanced\", \"fold\": \"AX4\", \"FPR\": 0.10204081632653061, \"accuracy\": 0.8771929824561403}, {\"precision\": 0.0, \"recall\": 0.0, \"F_score\": 0.0, \"support\": 1.0, \"Group\": \"stream\", \"params\": \"none_balanced\", \"fold\": \"ecmARm\", \"FPR\": 0.07692307692307693, \"accuracy\": 0.8571428571428571}, {\"precision\": null, \"recall\": null, \"F_score\": null, \"support\": 0.0, \"Group\": \"stream\", \"params\": \"none_balanced\", \"fold\": \"amiB\", \"FPR\": 0.2777777777777778, \"accuracy\": 0.7222222222222222}, {\"precision\": 0.0, \"recall\": 0.0, \"F_score\": 0.0, \"support\": 1.0, \"Group\": \"stream\", \"params\": \"none_balanced\", \"fold\": \"acaA\", \"FPR\": 0.18181818181818182, \"accuracy\": 0.75}, {\"precision\": 0.0, \"recall\": 0.0, \"F_score\": 0.0, \"support\": 5.0, \"Group\": \"lag\", \"params\": \"none_balanced\", \"fold\": \"ecmARm\", \"FPR\": 0.0, \"accuracy\": 0.6428571428571429}, {\"precision\": null, \"recall\": null, \"F_score\": null, \"support\": 0.0, \"Group\": \"lag\", \"params\": \"none_balanced\", \"fold\": \"dgcA\", \"FPR\": 0.05555555555555555, \"accuracy\": 0.9444444444444444}, {\"precision\": null, \"recall\": null, \"F_score\": null, \"support\": 0.0, \"Group\": \"lag\", \"params\": \"none_balanced\", \"fold\": \"acaA\", \"FPR\": 0.6666666666666666, \"accuracy\": 0.3333333333333333}, {\"precision\": null, \"recall\": null, \"F_score\": null, \"support\": 0.0, \"Group\": \"lag\", \"params\": \"none_balanced\", \"fold\": \"gtaC\", \"FPR\": 0.0, \"accuracy\": 1.0}, {\"precision\": 0.6666666666666666, \"recall\": 0.6666666666666666, \"F_score\": 0.6666666666666666, \"support\": 6.0, \"Group\": \"lag\", \"params\": \"none_balanced\", \"fold\": \"comH\", \"FPR\": 0.14285714285714285, \"accuracy\": 0.8}, {\"precision\": 0.0, \"recall\": 0.0, \"F_score\": 0.0, \"support\": 1.0, \"Group\": \"lag\", \"params\": \"none_balanced\", \"fold\": \"gtaI\", \"FPR\": 0.23076923076923078, \"accuracy\": 0.7142857142857143}, {\"precision\": 1.0, \"recall\": 0.5, \"F_score\": 0.6666666666666666, \"support\": 2.0, \"Group\": \"lag\", \"params\": \"none_balanced\", \"fold\": \"MybBGFP\", \"FPR\": 0.0, \"accuracy\": 0.9230769230769231}, {\"precision\": 1.0, \"recall\": 0.6666666666666666, \"F_score\": 0.8, \"support\": 3.0, \"Group\": \"lag\", \"params\": \"none_balanced\", \"fold\": \"gtaG\", \"FPR\": 0.0, \"accuracy\": 0.9285714285714286}, {\"precision\": null, \"recall\": null, \"F_score\": null, \"support\": 0.0, \"Group\": \"lag\", \"params\": \"none_balanced\", \"fold\": \"amiB\", \"FPR\": 0.3333333333333333, \"accuracy\": 0.6666666666666666}, {\"precision\": null, \"recall\": null, \"F_score\": null, \"support\": 0.0, \"Group\": \"lag\", \"params\": \"none_balanced\", \"fold\": \"mybB\", \"FPR\": 0.0, \"accuracy\": 1.0}, {\"precision\": 0.6666666666666666, \"recall\": 0.9090909090909091, \"F_score\": 0.7692307692307692, \"support\": 11.0, \"Group\": \"lag\", \"params\": \"none_balanced\", \"fold\": \"AX4\", \"FPR\": 0.10869565217391304, \"accuracy\": 0.8947368421052632}, {\"precision\": 0.75, \"recall\": 0.6, \"F_score\": 0.6666666666666665, \"support\": 5.0, \"Group\": \"lag\", \"params\": \"none_balanced\", \"fold\": \"tagB\", \"FPR\": 0.125, \"accuracy\": 0.7692307692307693}, {\"precision\": 1.0, \"recall\": 1.0, \"F_score\": 1.0, \"support\": 4.0, \"Group\": \"lag\", \"params\": \"none_balanced\", \"fold\": \"cudA\", \"FPR\": 0.0, \"accuracy\": 1.0}, {\"precision\": 0.0, \"recall\": 0.0, \"F_score\": 0.0, \"support\": 2.0, \"Group\": \"tag\", \"params\": \"none_balanced\", \"fold\": \"ecmARm\", \"FPR\": 0.0, \"accuracy\": 0.8571428571428571}, {\"precision\": 0.75, \"recall\": 0.75, \"F_score\": 0.75, \"support\": 4.0, \"Group\": \"tag\", \"params\": \"none_balanced\", \"fold\": \"dgcA\", \"FPR\": 0.07142857142857142, \"accuracy\": 0.8888888888888888}, {\"precision\": 0.6666666666666666, \"recall\": 0.75, \"F_score\": 0.7058823529411765, \"support\": 8.0, \"Group\": \"tag\", \"params\": \"none_balanced\", \"fold\": \"AX4\", \"FPR\": 0.061224489795918366, \"accuracy\": 0.9122807017543859}, {\"precision\": null, \"recall\": null, \"F_score\": null, \"support\": 0.0, \"Group\": \"tag\", \"params\": \"none_balanced\", \"fold\": \"acaA\", \"FPR\": 0.0, \"accuracy\": 1.0}, {\"precision\": 1.0, \"recall\": 0.5, \"F_score\": 0.6666666666666666, \"support\": 6.0, \"Group\": \"tag\", \"params\": \"none_balanced\", \"fold\": \"tagB\", \"FPR\": 0.0, \"accuracy\": 0.7692307692307693}, {\"precision\": 0.5, \"recall\": 1.0, \"F_score\": 0.6666666666666666, \"support\": 2.0, \"Group\": \"tag\", \"params\": \"none_balanced\", \"fold\": \"cudA\", \"FPR\": 0.125, \"accuracy\": 0.8888888888888888}, {\"precision\": 0.6666666666666666, \"recall\": 1.0, \"F_score\": 0.8, \"support\": 2.0, \"Group\": \"tag\", \"params\": \"none_balanced\", \"fold\": \"MybBGFP\", \"FPR\": 0.09090909090909091, \"accuracy\": 0.9230769230769231}, {\"precision\": null, \"recall\": null, \"F_score\": null, \"support\": 0.0, \"Group\": \"tag\", \"params\": \"none_balanced\", \"fold\": \"amiB\", \"FPR\": 0.1111111111111111, \"accuracy\": 0.8888888888888888}, {\"precision\": null, \"recall\": null, \"F_score\": null, \"support\": 0.0, \"Group\": \"tag\", \"params\": \"none_balanced\", \"fold\": \"gtaC\", \"FPR\": 0.0, \"accuracy\": 1.0}, {\"precision\": 0.5, \"recall\": 0.3333333333333333, \"F_score\": 0.4, \"support\": 3.0, \"Group\": \"tag\", \"params\": \"none_balanced\", \"fold\": \"gtaI\", \"FPR\": 0.09090909090909091, \"accuracy\": 0.7857142857142857}, {\"precision\": null, \"recall\": null, \"F_score\": null, \"support\": 0.0, \"Group\": \"tag\", \"params\": \"none_balanced\", \"fold\": \"mybB\", \"FPR\": 0.0, \"accuracy\": 1.0}, {\"precision\": 1.0, \"recall\": 0.7, \"F_score\": 0.8235294117647058, \"support\": 10.0, \"Group\": \"tag\", \"params\": \"none_balanced\", \"fold\": \"comH\", \"FPR\": 0.0, \"accuracy\": 0.85}, {\"precision\": 1.0, \"recall\": 1.0, \"F_score\": 1.0, \"support\": 2.0, \"Group\": \"tag\", \"params\": \"none_balanced\", \"fold\": \"gtaG\", \"FPR\": 0.0, \"accuracy\": 1.0}, {\"precision\": null, \"recall\": null, \"F_score\": null, \"support\": 0.0, \"Group\": \"tip\", \"params\": \"none_balanced\", \"fold\": \"comH\", \"FPR\": 0.0, \"accuracy\": 1.0}, {\"precision\": null, \"recall\": null, \"F_score\": null, \"support\": 0.0, \"Group\": \"tip\", \"params\": \"none_balanced\", \"fold\": \"amiB\", \"FPR\": 0.0, \"accuracy\": 1.0}, {\"precision\": null, \"recall\": null, \"F_score\": null, \"support\": 0.0, \"Group\": \"tip\", \"params\": \"none_balanced\", \"fold\": \"tagB\", \"FPR\": 0.0, \"accuracy\": 1.0}, {\"precision\": null, \"recall\": null, \"F_score\": null, \"support\": 0.0, \"Group\": \"tip\", \"params\": \"none_balanced\", \"fold\": \"gtaC\", \"FPR\": 0.0, \"accuracy\": 1.0}, {\"precision\": null, \"recall\": null, \"F_score\": null, \"support\": 0.0, \"Group\": \"tip\", \"params\": \"none_balanced\", \"fold\": \"acaA\", \"FPR\": 0.0, \"accuracy\": 1.0}, {\"precision\": null, \"recall\": null, \"F_score\": null, \"support\": 0.0, \"Group\": \"tip\", \"params\": \"none_balanced\", \"fold\": \"mybB\", \"FPR\": 0.0, \"accuracy\": 1.0}, {\"precision\": null, \"recall\": null, \"F_score\": null, \"support\": 0.0, \"Group\": \"tip\", \"params\": \"none_balanced\", \"fold\": \"gtaG\", \"FPR\": 0.0, \"accuracy\": 1.0}, {\"precision\": 0.5, \"recall\": 1.0, \"F_score\": 0.6666666666666666, \"support\": 4.0, \"Group\": \"tip\", \"params\": \"none_balanced\", \"fold\": \"AX4\", \"FPR\": 0.07547169811320754, \"accuracy\": 0.9298245614035088}, {\"precision\": null, \"recall\": null, \"F_score\": null, \"support\": 0.0, \"Group\": \"tip\", \"params\": \"none_balanced\", \"fold\": \"ecmARm\", \"FPR\": 0.0, \"accuracy\": 1.0}, {\"precision\": 0.5, \"recall\": 1.0, \"F_score\": 0.6666666666666666, \"support\": 2.0, \"Group\": \"tip\", \"params\": \"none_balanced\", \"fold\": \"cudA\", \"FPR\": 0.125, \"accuracy\": 0.8888888888888888}, {\"precision\": 1.0, \"recall\": 0.5, \"F_score\": 0.6666666666666666, \"support\": 2.0, \"Group\": \"tip\", \"params\": \"none_balanced\", \"fold\": \"dgcA\", \"FPR\": 0.0, \"accuracy\": 0.9444444444444444}, {\"precision\": 0.0, \"recall\": 0.0, \"F_score\": 0.0, \"support\": 1.0, \"Group\": \"tip\", \"params\": \"none_balanced\", \"fold\": \"gtaI\", \"FPR\": 0.0, \"accuracy\": 0.9285714285714286}, {\"precision\": 1.0, \"recall\": 1.0, \"F_score\": 1.0, \"support\": 1.0, \"Group\": \"tip\", \"params\": \"none_balanced\", \"fold\": \"MybBGFP\", \"FPR\": 0.0, \"accuracy\": 1.0}, {\"precision\": 1.0, \"recall\": 1.0, \"F_score\": 1.0, \"support\": 6.0, \"Group\": \"slug\", \"params\": \"none_balanced\", \"fold\": \"gtaG\", \"FPR\": 0.0, \"accuracy\": 1.0}, {\"precision\": null, \"recall\": null, \"F_score\": null, \"support\": 0.0, \"Group\": \"slug\", \"params\": \"none_balanced\", \"fold\": \"gtaC\", \"FPR\": 0.0, \"accuracy\": 1.0}, {\"precision\": 0.0, \"recall\": 0.0, \"F_score\": 0.0, \"support\": 6.0, \"Group\": \"slug\", \"params\": \"none_balanced\", \"fold\": \"ecmARm\", \"FPR\": 0.0, \"accuracy\": 0.5714285714285714}, {\"precision\": null, \"recall\": null, \"F_score\": null, \"support\": 0.0, \"Group\": \"slug\", \"params\": \"none_balanced\", \"fold\": \"comH\", \"FPR\": 0.25, \"accuracy\": 0.75}, {\"precision\": 0.8888888888888888, \"recall\": 1.0, \"F_score\": 0.9411764705882353, \"support\": 8.0, \"Group\": \"slug\", \"params\": \"none_balanced\", \"fold\": \"cudA\", \"FPR\": 0.1, \"accuracy\": 0.9444444444444444}, {\"precision\": null, \"recall\": null, \"F_score\": null, \"support\": 0.0, \"Group\": \"slug\", \"params\": \"none_balanced\", \"fold\": \"mybB\", \"FPR\": 0.0, \"accuracy\": 1.0}, {\"precision\": 0.7142857142857143, \"recall\": 1.0, \"F_score\": 0.8333333333333333, \"support\": 5.0, \"Group\": \"slug\", \"params\": \"none_balanced\", \"fold\": \"MybBGFP\", \"FPR\": 0.25, \"accuracy\": 0.8461538461538461}, {\"precision\": null, \"recall\": null, \"F_score\": null, \"support\": 0.0, \"Group\": \"slug\", \"params\": \"none_balanced\", \"fold\": \"tagB\", \"FPR\": 0.3076923076923077, \"accuracy\": 0.6923076923076923}, {\"precision\": 0.8, \"recall\": 0.5, \"F_score\": 0.6153846153846154, \"support\": 8.0, \"Group\": \"slug\", \"params\": \"none_balanced\", \"fold\": \"dgcA\", \"FPR\": 0.1, \"accuracy\": 0.7222222222222222}, {\"precision\": 0.5882352941176471, \"recall\": 0.9090909090909091, \"F_score\": 0.7142857142857143, \"support\": 11.0, \"Group\": \"slug\", \"params\": \"none_balanced\", \"fold\": \"AX4\", \"FPR\": 0.15217391304347827, \"accuracy\": 0.8596491228070176}, {\"precision\": null, \"recall\": null, \"F_score\": null, \"support\": 0.0, \"Group\": \"slug\", \"params\": \"none_balanced\", \"fold\": \"acaA\", \"FPR\": 0.25, \"accuracy\": 0.75}, {\"precision\": null, \"recall\": null, \"F_score\": null, \"support\": 0.0, \"Group\": \"slug\", \"params\": \"none_balanced\", \"fold\": \"amiB\", \"FPR\": 0.1111111111111111, \"accuracy\": 0.8888888888888888}, {\"precision\": 0.75, \"recall\": 0.6, \"F_score\": 0.6666666666666665, \"support\": 5.0, \"Group\": \"slug\", \"params\": \"none_balanced\", \"fold\": \"gtaI\", \"FPR\": 0.1111111111111111, \"accuracy\": 0.7857142857142857}, {\"precision\": 1.0, \"recall\": 0.25, \"F_score\": 0.4, \"support\": 4.0, \"Group\": \"mhat\", \"params\": \"none_balanced\", \"fold\": \"MybBGFP\", \"FPR\": 0.0, \"accuracy\": 0.7692307692307693}, {\"precision\": null, \"recall\": null, \"F_score\": null, \"support\": 0.0, \"Group\": \"mhat\", \"params\": \"none_balanced\", \"fold\": \"mybB\", \"FPR\": 0.0, \"accuracy\": 1.0}, {\"precision\": null, \"recall\": null, \"F_score\": null, \"support\": 0.0, \"Group\": \"mhat\", \"params\": \"none_balanced\", \"fold\": \"amiB\", \"FPR\": 0.0, \"accuracy\": 1.0}, {\"precision\": 0.5294117647058824, \"recall\": 1.0, \"F_score\": 0.6923076923076924, \"support\": 9.0, \"Group\": \"mhat\", \"params\": \"none_balanced\", \"fold\": \"AX4\", \"FPR\": 0.16666666666666666, \"accuracy\": 0.8596491228070176}, {\"precision\": null, \"recall\": null, \"F_score\": null, \"support\": 0.0, \"Group\": \"mhat\", \"params\": \"none_balanced\", \"fold\": \"ecmARm\", \"FPR\": 0.0, \"accuracy\": 1.0}, {\"precision\": null, \"recall\": null, \"F_score\": null, \"support\": 0.0, \"Group\": \"mhat\", \"params\": \"none_balanced\", \"fold\": \"acaA\", \"FPR\": 0.0, \"accuracy\": 1.0}, {\"precision\": null, \"recall\": null, \"F_score\": null, \"support\": 0.0, \"Group\": \"mhat\", \"params\": \"none_balanced\", \"fold\": \"gtaC\", \"FPR\": 0.0, \"accuracy\": 1.0}, {\"precision\": null, \"recall\": null, \"F_score\": null, \"support\": 0.0, \"Group\": \"mhat\", \"params\": \"none_balanced\", \"fold\": \"gtaG\", \"FPR\": 0.14285714285714285, \"accuracy\": 0.8571428571428571}, {\"precision\": null, \"recall\": null, \"F_score\": null, \"support\": 0.0, \"Group\": \"mhat\", \"params\": \"none_balanced\", \"fold\": \"dgcA\", \"FPR\": 0.0, \"accuracy\": 1.0}, {\"precision\": null, \"recall\": null, \"F_score\": null, \"support\": 0.0, \"Group\": \"mhat\", \"params\": \"none_balanced\", \"fold\": \"tagB\", \"FPR\": 0.07692307692307693, \"accuracy\": 0.9230769230769231}, {\"precision\": null, \"recall\": null, \"F_score\": null, \"support\": 0.0, \"Group\": \"mhat\", \"params\": \"none_balanced\", \"fold\": \"comH\", \"FPR\": 0.0, \"accuracy\": 1.0}, {\"precision\": 0.0, \"recall\": 0.0, \"F_score\": 0.0, \"support\": 4.0, \"Group\": \"mhat\", \"params\": \"none_balanced\", \"fold\": \"cudA\", \"FPR\": 0.0, \"accuracy\": 0.7777777777777778}, {\"precision\": null, \"recall\": null, \"F_score\": null, \"support\": 0.0, \"Group\": \"mhat\", \"params\": \"none_balanced\", \"fold\": \"gtaI\", \"FPR\": 0.21428571428571427, \"accuracy\": 0.7857142857142857}, {\"precision\": 0.0, \"recall\": 0.0, \"F_score\": 0.0, \"support\": 1.0, \"Group\": \"cul\", \"params\": \"none_balanced\", \"fold\": \"gtaI\", \"FPR\": 0.07692307692307693, \"accuracy\": 0.8571428571428571}, {\"precision\": 1.0, \"recall\": 0.5, \"F_score\": 0.6666666666666666, \"support\": 2.0, \"Group\": \"cul\", \"params\": \"none_balanced\", \"fold\": \"gtaG\", \"FPR\": 0.0, \"accuracy\": 0.9285714285714286}, {\"precision\": null, \"recall\": null, \"F_score\": null, \"support\": 0.0, \"Group\": \"cul\", \"params\": \"none_balanced\", \"fold\": \"dgcA\", \"FPR\": 0.0, \"accuracy\": 1.0}, {\"precision\": 0.7647058823529411, \"recall\": 0.9285714285714286, \"F_score\": 0.8387096774193549, \"support\": 14.0, \"Group\": \"cul\", \"params\": \"none_balanced\", \"fold\": \"AX4\", \"FPR\": 0.09302325581395349, \"accuracy\": 0.9122807017543859}, {\"precision\": null, \"recall\": null, \"F_score\": null, \"support\": 0.0, \"Group\": \"cul\", \"params\": \"none_balanced\", \"fold\": \"amiB\", \"FPR\": 0.0, \"accuracy\": 1.0}, {\"precision\": null, \"recall\": null, \"F_score\": null, \"support\": 0.0, \"Group\": \"cul\", \"params\": \"none_balanced\", \"fold\": \"tagB\", \"FPR\": 0.0, \"accuracy\": 1.0}, {\"precision\": 1.0, \"recall\": 1.0, \"F_score\": 1.0, \"support\": 3.0, \"Group\": \"cul\", \"params\": \"none_balanced\", \"fold\": \"MybBGFP\", \"FPR\": 0.0, \"accuracy\": 1.0}, {\"precision\": null, \"recall\": null, \"F_score\": null, \"support\": 0.0, \"Group\": \"cul\", \"params\": \"none_balanced\", \"fold\": \"cudA\", \"FPR\": 0.0, \"accuracy\": 1.0}, {\"precision\": null, \"recall\": null, \"F_score\": null, \"support\": 0.0, \"Group\": \"cul\", \"params\": \"none_balanced\", \"fold\": \"acaA\", \"FPR\": 0.0, \"accuracy\": 1.0}, {\"precision\": null, \"recall\": null, \"F_score\": null, \"support\": 0.0, \"Group\": \"cul\", \"params\": \"none_balanced\", \"fold\": \"comH\", \"FPR\": 0.0, \"accuracy\": 1.0}, {\"precision\": null, \"recall\": null, \"F_score\": null, \"support\": 0.0, \"Group\": \"cul\", \"params\": \"none_balanced\", \"fold\": \"ecmARm\", \"FPR\": 0.0, \"accuracy\": 1.0}, {\"precision\": null, \"recall\": null, \"F_score\": null, \"support\": 0.0, \"Group\": \"cul\", \"params\": \"none_balanced\", \"fold\": \"gtaC\", \"FPR\": 0.0, \"accuracy\": 1.0}, {\"precision\": null, \"recall\": null, \"F_score\": null, \"support\": 0.0, \"Group\": \"cul\", \"params\": \"none_balanced\", \"fold\": \"mybB\", \"FPR\": 0.0, \"accuracy\": 1.0}, {\"precision\": null, \"recall\": null, \"F_score\": null, \"support\": 0.0, \"Group\": \"FB\", \"params\": \"none_balanced\", \"fold\": \"mybB\", \"FPR\": 0.0, \"accuracy\": 1.0}, {\"precision\": 0.0, \"recall\": 0.0, \"F_score\": 0.0, \"support\": 1.0, \"Group\": \"FB\", \"params\": \"none_balanced\", \"fold\": \"gtaI\", \"FPR\": 0.07692307692307693, \"accuracy\": 0.8571428571428571}, {\"precision\": 1.0, \"recall\": 0.5, \"F_score\": 0.6666666666666666, \"support\": 2.0, \"Group\": \"FB\", \"params\": \"none_balanced\", \"fold\": \"gtaG\", \"FPR\": 0.0, \"accuracy\": 0.9285714285714286}, {\"precision\": null, \"recall\": null, \"F_score\": null, \"support\": 0.0, \"Group\": \"FB\", \"params\": \"none_balanced\", \"fold\": \"dgcA\", \"FPR\": 0.0, \"accuracy\": 1.0}, {\"precision\": null, \"recall\": null, \"F_score\": null, \"support\": 0.0, \"Group\": \"FB\", \"params\": \"none_balanced\", \"fold\": \"gtaC\", \"FPR\": 0.0, \"accuracy\": 1.0}, {\"precision\": null, \"recall\": null, \"F_score\": null, \"support\": 0.0, \"Group\": \"FB\", \"params\": \"none_balanced\", \"fold\": \"amiB\", \"FPR\": 0.0, \"accuracy\": 1.0}, {\"precision\": null, \"recall\": null, \"F_score\": null, \"support\": 0.0, \"Group\": \"FB\", \"params\": \"none_balanced\", \"fold\": \"ecmARm\", \"FPR\": 0.0, \"accuracy\": 1.0}, {\"precision\": null, \"recall\": null, \"F_score\": null, \"support\": 0.0, \"Group\": \"FB\", \"params\": \"none_balanced\", \"fold\": \"comH\", \"FPR\": 0.0, \"accuracy\": 1.0}, {\"precision\": null, \"recall\": null, \"F_score\": null, \"support\": 0.0, \"Group\": \"FB\", \"params\": \"none_balanced\", \"fold\": \"tagB\", \"FPR\": 0.0, \"accuracy\": 1.0}, {\"precision\": null, \"recall\": null, \"F_score\": null, \"support\": 0.0, \"Group\": \"FB\", \"params\": \"none_balanced\", \"fold\": \"cudA\", \"FPR\": 0.0, \"accuracy\": 1.0}, {\"precision\": 1.0, \"recall\": 0.5, \"F_score\": 0.6666666666666666, \"support\": 2.0, \"Group\": \"FB\", \"params\": \"none_balanced\", \"fold\": \"MybBGFP\", \"FPR\": 0.0, \"accuracy\": 0.9230769230769231}, {\"precision\": 0.5714285714285714, \"recall\": 1.0, \"F_score\": 0.7272727272727273, \"support\": 8.0, \"Group\": \"FB\", \"params\": \"none_balanced\", \"fold\": \"AX4\", \"FPR\": 0.12244897959183673, \"accuracy\": 0.8947368421052632}, {\"precision\": null, \"recall\": null, \"F_score\": null, \"support\": 0.0, \"Group\": \"FB\", \"params\": \"none_balanced\", \"fold\": \"acaA\", \"FPR\": 0.0, \"accuracy\": 1.0}]}}, {\"mode\": \"vega-lite\"});\n",
       "</script>"
      ],
      "text/plain": [
       "alt.Chart(...)"
      ]
     },
     "metadata": {},
     "output_type": "display_data"
    },
    {
     "name": "stdout",
     "output_type": "stream",
     "text": [
      "F score summary for OvR logistic regression with arrest+PkaC  strains data: none_balanced\n",
      "Mean cross validation F score averaged across all phenotypes and standard error\n",
      "macro       0.69  +- 0.07\n",
      "micro       0.71  +- 0.05\n",
      "Mean cross validation F score of individual phenotypes and standard error\n",
      "no_agg      0.90  +- 0.03\n",
      "stream      0.47  +- 0.11\n",
      "lag         0.61  +- 0.11\n",
      "tag         0.56  +- 0.09\n",
      "tip         0.50  +- 0.15\n",
      "slug        0.57  +- 0.14\n",
      "mhat        0.36  +- 0.20\n",
      "cul         0.58  +- 0.19\n",
      "FB          0.64  +- 0.14\n",
      "\n",
      "\n"
     ]
    },
    {
     "data": {
      "text/html": [
       "\n",
       "<div id=\"altair-viz-20d04ec2fbcd46588be3dc7da3e08cbd\"></div>\n",
       "<script type=\"text/javascript\">\n",
       "  (function(spec, embedOpt){\n",
       "    const outputDiv = document.getElementById(\"altair-viz-20d04ec2fbcd46588be3dc7da3e08cbd\");\n",
       "    const paths = {\n",
       "      \"vega\": \"https://cdn.jsdelivr.net/npm//vega@5?noext\",\n",
       "      \"vega-lib\": \"https://cdn.jsdelivr.net/npm//vega-lib?noext\",\n",
       "      \"vega-lite\": \"https://cdn.jsdelivr.net/npm//vega-lite@4.0.2?noext\",\n",
       "      \"vega-embed\": \"https://cdn.jsdelivr.net/npm//vega-embed@6?noext\",\n",
       "    };\n",
       "\n",
       "    function loadScript(lib) {\n",
       "      return new Promise(function(resolve, reject) {\n",
       "        var s = document.createElement('script');\n",
       "        s.src = paths[lib];\n",
       "        s.async = true;\n",
       "        s.onload = () => resolve(paths[lib]);\n",
       "        s.onerror = () => reject(`Error loading script: ${paths[lib]}`);\n",
       "        document.getElementsByTagName(\"head\")[0].appendChild(s);\n",
       "      });\n",
       "    }\n",
       "\n",
       "    function showError(err) {\n",
       "      outputDiv.innerHTML = `<div class=\"error\" style=\"color:red;\">${err}</div>`;\n",
       "      throw err;\n",
       "    }\n",
       "\n",
       "    function displayChart(vegaEmbed) {\n",
       "      vegaEmbed(outputDiv, spec, embedOpt)\n",
       "        .catch(err => showError(`Javascript Error: ${err.message}<br>This usually means there's a typo in your chart specification. See the javascript console for the full traceback.`));\n",
       "    }\n",
       "\n",
       "    if(typeof define === \"function\" && define.amd) {\n",
       "      requirejs.config({paths});\n",
       "      require([\"vega-embed\"], displayChart, err => showError(`Error loading script: ${err.message}`));\n",
       "    } else if (typeof vegaEmbed === \"function\") {\n",
       "      displayChart(vegaEmbed);\n",
       "    } else {\n",
       "      loadScript(\"vega\")\n",
       "        .then(() => loadScript(\"vega-lite\"))\n",
       "        .then(() => loadScript(\"vega-embed\"))\n",
       "        .catch(showError)\n",
       "        .then(() => displayChart(vegaEmbed));\n",
       "    }\n",
       "  })({\"config\": {\"view\": {\"continuousWidth\": 400, \"continuousHeight\": 300}, \"facet\": {\"spacing\": 0}}, \"data\": {\"name\": \"data-d2737e382d45f94f5ea10c328613cb5f\"}, \"mark\": {\"type\": \"point\", \"size\": 20}, \"encoding\": {\"color\": {\"type\": \"nominal\", \"field\": \"fold\"}, \"column\": {\"type\": \"ordinal\", \"field\": \"Group\", \"header\": {\"labelAlign\": \"center\", \"labelAngle\": 0, \"labelOrient\": \"bottom\", \"labelPadding\": 10, \"titleOrient\": \"bottom\"}, \"sort\": [\"no_agg\", \"stream\", \"lag\", \"tag\", \"tip\", \"slug\", \"mhat\", \"cul\", \"FB\"]}, \"shape\": {\"type\": \"nominal\", \"field\": \"fold\"}, \"x\": {\"type\": \"quantitative\", \"axis\": {\"grid\": false, \"labels\": false, \"ticks\": true, \"values\": [0]}, \"field\": \"jitter\", \"scale\": {}, \"title\": null}, \"y\": {\"type\": \"quantitative\", \"axis\": {\"grid\": false}, \"field\": \"F_score\"}}, \"title\": \"\", \"transform\": [{\"calculate\": \"sqrt(-2*log(random()))*cos(2*PI*random())\", \"as\": \"jitter\"}], \"width\": 70, \"$schema\": \"https://vega.github.io/schema/vega-lite/v4.0.2.json\", \"datasets\": {\"data-d2737e382d45f94f5ea10c328613cb5f\": [{\"precision\": 0.8461538461538461, \"recall\": 1.0, \"F_score\": 0.9166666666666666, \"support\": 11.0, \"Group\": \"no_agg\", \"params\": \"none_balanced\", \"fold\": \"AX4\", \"FPR\": 0.043478260869565216, \"accuracy\": 0.9649122807017544}, {\"precision\": 1.0, \"recall\": 1.0, \"F_score\": 1.0, \"support\": 4.0, \"Group\": \"no_agg\", \"params\": \"none_balanced\", \"fold\": \"cudA\", \"FPR\": 0.0, \"accuracy\": 1.0}, {\"precision\": 0.625, \"recall\": 0.8333333333333334, \"F_score\": 0.7142857142857143, \"support\": 6.0, \"Group\": \"no_agg\", \"params\": \"none_balanced\", \"fold\": \"dgcA\", \"FPR\": 0.25, \"accuracy\": 0.7777777777777778}, {\"precision\": 1.0, \"recall\": 1.0, \"F_score\": 1.0, \"support\": 4.0, \"Group\": \"no_agg\", \"params\": \"none_balanced\", \"fold\": \"gtaG\", \"FPR\": 0.0, \"accuracy\": 1.0}, {\"precision\": 0.6153846153846154, \"recall\": 1.0, \"F_score\": 0.761904761904762, \"support\": 8.0, \"Group\": \"no_agg\", \"params\": \"none_balanced\", \"fold\": \"ecmARm\", \"FPR\": 0.8333333333333334, \"accuracy\": 0.6428571428571429}, {\"precision\": 1.0, \"recall\": 1.0, \"F_score\": 1.0, \"support\": 4.0, \"Group\": \"no_agg\", \"params\": \"none_balanced\", \"fold\": \"PkaCoe\", \"FPR\": 0.0, \"accuracy\": 1.0}, {\"precision\": 0.75, \"recall\": 1.0, \"F_score\": 0.8571428571428571, \"support\": 3.0, \"Group\": \"no_agg\", \"params\": \"none_balanced\", \"fold\": \"tagB\", \"FPR\": 0.1, \"accuracy\": 0.9230769230769231}, {\"precision\": 1.0, \"recall\": 0.75, \"F_score\": 0.8571428571428571, \"support\": 8.0, \"Group\": \"no_agg\", \"params\": \"none_balanced\", \"fold\": \"comH\", \"FPR\": 0.0, \"accuracy\": 0.9}, {\"precision\": 1.0, \"recall\": 1.0, \"F_score\": 1.0, \"support\": 4.0, \"Group\": \"no_agg\", \"params\": \"none_balanced\", \"fold\": \"gtaC\", \"FPR\": null, \"accuracy\": 1.0}, {\"precision\": 1.0, \"recall\": 1.0, \"F_score\": 1.0, \"support\": 14.0, \"Group\": \"no_agg\", \"params\": \"none_balanced\", \"fold\": \"mybB\", \"FPR\": null, \"accuracy\": 1.0}, {\"precision\": 1.0, \"recall\": 0.8333333333333334, \"F_score\": 0.9090909090909091, \"support\": 6.0, \"Group\": \"no_agg\", \"params\": \"none_balanced\", \"fold\": \"gtaI\", \"FPR\": 0.0, \"accuracy\": 0.9285714285714286}, {\"precision\": 1.0, \"recall\": 1.0, \"F_score\": 1.0, \"support\": 2.0, \"Group\": \"no_agg\", \"params\": \"none_balanced\", \"fold\": \"ac3PkaCoe\", \"FPR\": null, \"accuracy\": 1.0}, {\"precision\": 1.0, \"recall\": 1.0, \"F_score\": 1.0, \"support\": 18.0, \"Group\": \"no_agg\", \"params\": \"none_balanced\", \"fold\": \"amiB\", \"FPR\": null, \"accuracy\": 1.0}, {\"precision\": 1.0, \"recall\": 0.6666666666666666, \"F_score\": 0.8, \"support\": 12.0, \"Group\": \"no_agg\", \"params\": \"none_balanced\", \"fold\": \"acaA\", \"FPR\": null, \"accuracy\": 0.6666666666666666}, {\"precision\": 0.75, \"recall\": 1.0, \"F_score\": 0.8571428571428571, \"support\": 3.0, \"Group\": \"no_agg\", \"params\": \"none_balanced\", \"fold\": \"MybBGFP\", \"FPR\": 0.1, \"accuracy\": 0.9230769230769231}, {\"precision\": 1.0, \"recall\": 0.5, \"F_score\": 0.6666666666666666, \"support\": 8.0, \"Group\": \"no_agg\", \"params\": \"none_balanced\", \"fold\": \"acaAPkaCoe\", \"FPR\": 0.0, \"accuracy\": 0.75}, {\"precision\": null, \"recall\": null, \"F_score\": null, \"support\": 0.0, \"Group\": \"stream\", \"params\": \"none_balanced\", \"fold\": \"gtaC\", \"FPR\": 0.0, \"accuracy\": 1.0}, {\"precision\": null, \"recall\": null, \"F_score\": null, \"support\": 0.0, \"Group\": \"stream\", \"params\": \"none_balanced\", \"fold\": \"cudA\", \"FPR\": 0.1111111111111111, \"accuracy\": 0.8888888888888888}, {\"precision\": 0.3333333333333333, \"recall\": 1.0, \"F_score\": 0.5, \"support\": 2.0, \"Group\": \"stream\", \"params\": \"none_balanced\", \"fold\": \"acaAPkaCoe\", \"FPR\": 0.2857142857142857, \"accuracy\": 0.75}, {\"precision\": 1.0, \"recall\": 0.5, \"F_score\": 0.6666666666666666, \"support\": 2.0, \"Group\": \"stream\", \"params\": \"none_balanced\", \"fold\": \"dgcA\", \"FPR\": 0.0, \"accuracy\": 0.9444444444444444}, {\"precision\": 0.0, \"recall\": 0.0, \"F_score\": 0.0, \"support\": 3.0, \"Group\": \"stream\", \"params\": \"none_balanced\", \"fold\": \"PkaCoe\", \"FPR\": 0.0, \"accuracy\": 0.8235294117647058}, {\"precision\": 1.0, \"recall\": 1.0, \"F_score\": 1.0, \"support\": 2.0, \"Group\": \"stream\", \"params\": \"none_balanced\", \"fold\": \"gtaG\", \"FPR\": 0.0, \"accuracy\": 1.0}, {\"precision\": null, \"recall\": null, \"F_score\": null, \"support\": 0.0, \"Group\": \"stream\", \"params\": \"none_balanced\", \"fold\": \"amiB\", \"FPR\": 0.2222222222222222, \"accuracy\": 0.7777777777777778}, {\"precision\": null, \"recall\": null, \"F_score\": null, \"support\": 0.0, \"Group\": \"stream\", \"params\": \"none_balanced\", \"fold\": \"ac3PkaCoe\", \"FPR\": 0.0, \"accuracy\": 1.0}, {\"precision\": null, \"recall\": null, \"F_score\": null, \"support\": 0.0, \"Group\": \"stream\", \"params\": \"none_balanced\", \"fold\": \"gtaI\", \"FPR\": 0.14285714285714285, \"accuracy\": 0.8571428571428571}, {\"precision\": null, \"recall\": null, \"F_score\": null, \"support\": 0.0, \"Group\": \"stream\", \"params\": \"none_balanced\", \"fold\": \"mybB\", \"FPR\": 0.0, \"accuracy\": 1.0}, {\"precision\": 0.0, \"recall\": 0.0, \"F_score\": 0.0, \"support\": 1.0, \"Group\": \"stream\", \"params\": \"none_balanced\", \"fold\": \"acaA\", \"FPR\": 0.09090909090909091, \"accuracy\": 0.8333333333333334}, {\"precision\": 0.5, \"recall\": 0.5, \"F_score\": 0.5, \"support\": 4.0, \"Group\": \"stream\", \"params\": \"none_balanced\", \"fold\": \"comH\", \"FPR\": 0.125, \"accuracy\": 0.8}, {\"precision\": 1.0, \"recall\": 0.5, \"F_score\": 0.6666666666666666, \"support\": 4.0, \"Group\": \"stream\", \"params\": \"none_balanced\", \"fold\": \"tagB\", \"FPR\": 0.0, \"accuracy\": 0.8461538461538461}, {\"precision\": 0.4666666666666667, \"recall\": 0.875, \"F_score\": 0.608695652173913, \"support\": 8.0, \"Group\": \"stream\", \"params\": \"none_balanced\", \"fold\": \"AX4\", \"FPR\": 0.16326530612244897, \"accuracy\": 0.8421052631578947}, {\"precision\": 0.6666666666666666, \"recall\": 1.0, \"F_score\": 0.8, \"support\": 2.0, \"Group\": \"stream\", \"params\": \"none_balanced\", \"fold\": \"MybBGFP\", \"FPR\": 0.09090909090909091, \"accuracy\": 0.9230769230769231}, {\"precision\": 0.0, \"recall\": 0.0, \"F_score\": 0.0, \"support\": 1.0, \"Group\": \"stream\", \"params\": \"none_balanced\", \"fold\": \"ecmARm\", \"FPR\": 0.07692307692307693, \"accuracy\": 0.8571428571428571}, {\"precision\": 0.0, \"recall\": 0.0, \"F_score\": 0.0, \"support\": 1.0, \"Group\": \"lag\", \"params\": \"none_balanced\", \"fold\": \"gtaI\", \"FPR\": 0.23076923076923078, \"accuracy\": 0.7142857142857143}, {\"precision\": 0.6, \"recall\": 0.5, \"F_score\": 0.5454545454545454, \"support\": 6.0, \"Group\": \"lag\", \"params\": \"none_balanced\", \"fold\": \"acaAPkaCoe\", \"FPR\": 0.2, \"accuracy\": 0.6875}, {\"precision\": 0.7272727272727273, \"recall\": 0.7272727272727273, \"F_score\": 0.7272727272727273, \"support\": 11.0, \"Group\": \"lag\", \"params\": \"none_balanced\", \"fold\": \"AX4\", \"FPR\": 0.06521739130434782, \"accuracy\": 0.8947368421052632}, {\"precision\": null, \"recall\": null, \"F_score\": null, \"support\": 0.0, \"Group\": \"lag\", \"params\": \"none_balanced\", \"fold\": \"acaA\", \"FPR\": 0.6666666666666666, \"accuracy\": 0.3333333333333333}, {\"precision\": null, \"recall\": null, \"F_score\": null, \"support\": 0.0, \"Group\": \"lag\", \"params\": \"none_balanced\", \"fold\": \"amiB\", \"FPR\": 0.5, \"accuracy\": 0.5}, {\"precision\": null, \"recall\": null, \"F_score\": null, \"support\": 0.0, \"Group\": \"lag\", \"params\": \"none_balanced\", \"fold\": \"mybB\", \"FPR\": 0.0, \"accuracy\": 1.0}, {\"precision\": null, \"recall\": null, \"F_score\": null, \"support\": 0.0, \"Group\": \"lag\", \"params\": \"none_balanced\", \"fold\": \"gtaC\", \"FPR\": 0.0, \"accuracy\": 1.0}, {\"precision\": 0.6666666666666666, \"recall\": 1.0, \"F_score\": 0.8, \"support\": 2.0, \"Group\": \"lag\", \"params\": \"none_balanced\", \"fold\": \"MybBGFP\", \"FPR\": 0.09090909090909091, \"accuracy\": 0.9230769230769231}, {\"precision\": 0.8, \"recall\": 0.6666666666666666, \"F_score\": 0.7272727272727272, \"support\": 6.0, \"Group\": \"lag\", \"params\": \"none_balanced\", \"fold\": \"comH\", \"FPR\": 0.07142857142857142, \"accuracy\": 0.85}, {\"precision\": 0.75, \"recall\": 0.6, \"F_score\": 0.6666666666666665, \"support\": 5.0, \"Group\": \"lag\", \"params\": \"none_balanced\", \"fold\": \"tagB\", \"FPR\": 0.125, \"accuracy\": 0.7692307692307693}, {\"precision\": 1.0, \"recall\": 1.0, \"F_score\": 1.0, \"support\": 3.0, \"Group\": \"lag\", \"params\": \"none_balanced\", \"fold\": \"gtaG\", \"FPR\": 0.0, \"accuracy\": 1.0}, {\"precision\": 0.0, \"recall\": 0.0, \"F_score\": 0.0, \"support\": 5.0, \"Group\": \"lag\", \"params\": \"none_balanced\", \"fold\": \"ecmARm\", \"FPR\": 0.0, \"accuracy\": 0.6428571428571429}, {\"precision\": null, \"recall\": null, \"F_score\": null, \"support\": 0.0, \"Group\": \"lag\", \"params\": \"none_balanced\", \"fold\": \"dgcA\", \"FPR\": 0.0, \"accuracy\": 1.0}, {\"precision\": null, \"recall\": null, \"F_score\": null, \"support\": 0.0, \"Group\": \"lag\", \"params\": \"none_balanced\", \"fold\": \"ac3PkaCoe\", \"FPR\": 0.0, \"accuracy\": 1.0}, {\"precision\": 0.5, \"recall\": 1.0, \"F_score\": 0.6666666666666666, \"support\": 1.0, \"Group\": \"lag\", \"params\": \"none_balanced\", \"fold\": \"PkaCoe\", \"FPR\": 0.0625, \"accuracy\": 0.9411764705882353}, {\"precision\": 1.0, \"recall\": 1.0, \"F_score\": 1.0, \"support\": 4.0, \"Group\": \"lag\", \"params\": \"none_balanced\", \"fold\": \"cudA\", \"FPR\": 0.0, \"accuracy\": 1.0}, {\"precision\": null, \"recall\": null, \"F_score\": null, \"support\": 0.0, \"Group\": \"tag\", \"params\": \"none_balanced\", \"fold\": \"amiB\", \"FPR\": 0.3333333333333333, \"accuracy\": 0.6666666666666666}, {\"precision\": 0.8571428571428571, \"recall\": 0.75, \"F_score\": 0.7999999999999999, \"support\": 8.0, \"Group\": \"tag\", \"params\": \"none_balanced\", \"fold\": \"AX4\", \"FPR\": 0.02040816326530612, \"accuracy\": 0.9473684210526315}, {\"precision\": 0.5, \"recall\": 1.0, \"F_score\": 0.6666666666666666, \"support\": 2.0, \"Group\": \"tag\", \"params\": \"none_balanced\", \"fold\": \"cudA\", \"FPR\": 0.125, \"accuracy\": 0.8888888888888888}, {\"precision\": 1.0, \"recall\": 0.5, \"F_score\": 0.6666666666666666, \"support\": 10.0, \"Group\": \"tag\", \"params\": \"none_balanced\", \"fold\": \"comH\", \"FPR\": 0.0, \"accuracy\": 0.75}, {\"precision\": 1.0, \"recall\": 0.5, \"F_score\": 0.6666666666666666, \"support\": 6.0, \"Group\": \"tag\", \"params\": \"none_balanced\", \"fold\": \"tagB\", \"FPR\": 0.0, \"accuracy\": 0.7692307692307693}, {\"precision\": 0.5, \"recall\": 0.5, \"F_score\": 0.5, \"support\": 2.0, \"Group\": \"tag\", \"params\": \"none_balanced\", \"fold\": \"MybBGFP\", \"FPR\": 0.09090909090909091, \"accuracy\": 0.8461538461538461}, {\"precision\": 0.7142857142857143, \"recall\": 1.0, \"F_score\": 0.8333333333333333, \"support\": 10.0, \"Group\": \"tag\", \"params\": \"none_balanced\", \"fold\": \"acaAPkaCoe\", \"FPR\": 0.6666666666666666, \"accuracy\": 0.75}, {\"precision\": null, \"recall\": null, \"F_score\": null, \"support\": 0.0, \"Group\": \"tag\", \"params\": \"none_balanced\", \"fold\": \"acaA\", \"FPR\": 0.08333333333333333, \"accuracy\": 0.9166666666666666}, {\"precision\": 1.0, \"recall\": 1.0, \"F_score\": 1.0, \"support\": 2.0, \"Group\": \"tag\", \"params\": \"none_balanced\", \"fold\": \"gtaG\", \"FPR\": 0.0, \"accuracy\": 1.0}, {\"precision\": null, \"recall\": null, \"F_score\": null, \"support\": 0.0, \"Group\": \"tag\", \"params\": \"none_balanced\", \"fold\": \"gtaC\", \"FPR\": 0.0, \"accuracy\": 1.0}, {\"precision\": 0.1111111111111111, \"recall\": 1.0, \"F_score\": 0.19999999999999998, \"support\": 1.0, \"Group\": \"tag\", \"params\": \"none_balanced\", \"fold\": \"PkaCoe\", \"FPR\": 0.5, \"accuracy\": 0.5294117647058824}, {\"precision\": 0.0, \"recall\": 0.0, \"F_score\": 0.0, \"support\": 2.0, \"Group\": \"tag\", \"params\": \"none_balanced\", \"fold\": \"ecmARm\", \"FPR\": 0.0, \"accuracy\": 0.8571428571428571}, {\"precision\": null, \"recall\": null, \"F_score\": null, \"support\": 0.0, \"Group\": \"tag\", \"params\": \"none_balanced\", \"fold\": \"ac3PkaCoe\", \"FPR\": 0.0, \"accuracy\": 1.0}, {\"precision\": 0.5, \"recall\": 0.3333333333333333, \"F_score\": 0.4, \"support\": 3.0, \"Group\": \"tag\", \"params\": \"none_balanced\", \"fold\": \"gtaI\", \"FPR\": 0.09090909090909091, \"accuracy\": 0.7857142857142857}, {\"precision\": null, \"recall\": null, \"F_score\": null, \"support\": 0.0, \"Group\": \"tag\", \"params\": \"none_balanced\", \"fold\": \"mybB\", \"FPR\": 0.0, \"accuracy\": 1.0}, {\"precision\": 1.0, \"recall\": 0.25, \"F_score\": 0.4, \"support\": 4.0, \"Group\": \"tag\", \"params\": \"none_balanced\", \"fold\": \"dgcA\", \"FPR\": 0.0, \"accuracy\": 0.8333333333333334}, {\"precision\": 1.0, \"recall\": 1.0, \"F_score\": 1.0, \"support\": 1.0, \"Group\": \"tip\", \"params\": \"none_balanced\", \"fold\": \"MybBGFP\", \"FPR\": 0.0, \"accuracy\": 1.0}, {\"precision\": 0.6666666666666666, \"recall\": 1.0, \"F_score\": 0.8, \"support\": 4.0, \"Group\": \"tip\", \"params\": \"none_balanced\", \"fold\": \"AX4\", \"FPR\": 0.03773584905660377, \"accuracy\": 0.9649122807017544}, {\"precision\": null, \"recall\": null, \"F_score\": null, \"support\": 0.0, \"Group\": \"tip\", \"params\": \"none_balanced\", \"fold\": \"acaA\", \"FPR\": 0.0, \"accuracy\": 1.0}, {\"precision\": 0.25, \"recall\": 0.6666666666666666, \"F_score\": 0.36363636363636365, \"support\": 3.0, \"Group\": \"tip\", \"params\": \"none_balanced\", \"fold\": \"PkaCoe\", \"FPR\": 0.42857142857142855, \"accuracy\": 0.5882352941176471}, {\"precision\": null, \"recall\": null, \"F_score\": null, \"support\": 0.0, \"Group\": \"tip\", \"params\": \"none_balanced\", \"fold\": \"comH\", \"FPR\": 0.1, \"accuracy\": 0.9}, {\"precision\": null, \"recall\": null, \"F_score\": null, \"support\": 0.0, \"Group\": \"tip\", \"params\": \"none_balanced\", \"fold\": \"mybB\", \"FPR\": 0.0, \"accuracy\": 1.0}, {\"precision\": null, \"recall\": null, \"F_score\": null, \"support\": 0.0, \"Group\": \"tip\", \"params\": \"none_balanced\", \"fold\": \"gtaC\", \"FPR\": 0.0, \"accuracy\": 1.0}, {\"precision\": null, \"recall\": null, \"F_score\": null, \"support\": 0.0, \"Group\": \"tip\", \"params\": \"none_balanced\", \"fold\": \"amiB\", \"FPR\": 0.0, \"accuracy\": 1.0}, {\"precision\": null, \"recall\": null, \"F_score\": null, \"support\": 0.0, \"Group\": \"tip\", \"params\": \"none_balanced\", \"fold\": \"ecmARm\", \"FPR\": 0.0, \"accuracy\": 1.0}, {\"precision\": null, \"recall\": null, \"F_score\": null, \"support\": 0.0, \"Group\": \"tip\", \"params\": \"none_balanced\", \"fold\": \"ac3PkaCoe\", \"FPR\": 0.0, \"accuracy\": 1.0}, {\"precision\": null, \"recall\": null, \"F_score\": null, \"support\": 0.0, \"Group\": \"tip\", \"params\": \"none_balanced\", \"fold\": \"tagB\", \"FPR\": 0.0, \"accuracy\": 1.0}, {\"precision\": 0.5, \"recall\": 1.0, \"F_score\": 0.6666666666666666, \"support\": 2.0, \"Group\": \"tip\", \"params\": \"none_balanced\", \"fold\": \"cudA\", \"FPR\": 0.125, \"accuracy\": 0.8888888888888888}, {\"precision\": 1.0, \"recall\": 0.5, \"F_score\": 0.6666666666666666, \"support\": 2.0, \"Group\": \"tip\", \"params\": \"none_balanced\", \"fold\": \"dgcA\", \"FPR\": 0.0, \"accuracy\": 0.9444444444444444}, {\"precision\": 0.0, \"recall\": 0.0, \"F_score\": 0.0, \"support\": 1.0, \"Group\": \"tip\", \"params\": \"none_balanced\", \"fold\": \"gtaI\", \"FPR\": 0.0, \"accuracy\": 0.9285714285714286}, {\"precision\": 0.0, \"recall\": 0.0, \"F_score\": 0.0, \"support\": 5.0, \"Group\": \"tip\", \"params\": \"none_balanced\", \"fold\": \"acaAPkaCoe\", \"FPR\": 0.0, \"accuracy\": 0.6875}, {\"precision\": null, \"recall\": null, \"F_score\": null, \"support\": 0.0, \"Group\": \"tip\", \"params\": \"none_balanced\", \"fold\": \"gtaG\", \"FPR\": 0.0, \"accuracy\": 1.0}, {\"precision\": null, \"recall\": null, \"F_score\": null, \"support\": 0.0, \"Group\": \"slug\", \"params\": \"none_balanced\", \"fold\": \"amiB\", \"FPR\": 0.0, \"accuracy\": 1.0}, {\"precision\": null, \"recall\": null, \"F_score\": null, \"support\": 0.0, \"Group\": \"slug\", \"params\": \"none_balanced\", \"fold\": \"mybB\", \"FPR\": 0.0, \"accuracy\": 1.0}, {\"precision\": 0.8571428571428571, \"recall\": 0.75, \"F_score\": 0.7999999999999999, \"support\": 8.0, \"Group\": \"slug\", \"params\": \"none_balanced\", \"fold\": \"dgcA\", \"FPR\": 0.1, \"accuracy\": 0.8333333333333334}, {\"precision\": null, \"recall\": null, \"F_score\": null, \"support\": 0.0, \"Group\": \"slug\", \"params\": \"none_balanced\", \"fold\": \"ac3PkaCoe\", \"FPR\": 0.0, \"accuracy\": 1.0}, {\"precision\": 0.6666666666666666, \"recall\": 0.9090909090909091, \"F_score\": 0.7692307692307692, \"support\": 11.0, \"Group\": \"slug\", \"params\": \"none_balanced\", \"fold\": \"AX4\", \"FPR\": 0.10869565217391304, \"accuracy\": 0.8947368421052632}, {\"precision\": 0.0, \"recall\": 0.0, \"F_score\": 0.0, \"support\": 5.0, \"Group\": \"slug\", \"params\": \"none_balanced\", \"fold\": \"acaAPkaCoe\", \"FPR\": 0.0, \"accuracy\": 0.6875}, {\"precision\": 0.0, \"recall\": 0.0, \"F_score\": 0.0, \"support\": 6.0, \"Group\": \"slug\", \"params\": \"none_balanced\", \"fold\": \"ecmARm\", \"FPR\": 0.0, \"accuracy\": 0.5714285714285714}, {\"precision\": null, \"recall\": null, \"F_score\": null, \"support\": 0.0, \"Group\": \"slug\", \"params\": \"none_balanced\", \"fold\": \"gtaC\", \"FPR\": 0.0, \"accuracy\": 1.0}, {\"precision\": 0.8888888888888888, \"recall\": 1.0, \"F_score\": 0.9411764705882353, \"support\": 8.0, \"Group\": \"slug\", \"params\": \"none_balanced\", \"fold\": \"cudA\", \"FPR\": 0.1, \"accuracy\": 0.9444444444444444}, {\"precision\": 1.0, \"recall\": 1.0, \"F_score\": 1.0, \"support\": 6.0, \"Group\": \"slug\", \"params\": \"none_balanced\", \"fold\": \"gtaG\", \"FPR\": 0.0, \"accuracy\": 1.0}, {\"precision\": 0.0, \"recall\": 0.0, \"F_score\": 0.0, \"support\": 4.0, \"Group\": \"slug\", \"params\": \"none_balanced\", \"fold\": \"PkaCoe\", \"FPR\": 0.38461538461538464, \"accuracy\": 0.47058823529411764}, {\"precision\": null, \"recall\": null, \"F_score\": null, \"support\": 0.0, \"Group\": \"slug\", \"params\": \"none_balanced\", \"fold\": \"acaA\", \"FPR\": 0.3333333333333333, \"accuracy\": 0.6666666666666666}, {\"precision\": 0.8, \"recall\": 0.8, \"F_score\": 0.8000000000000002, \"support\": 5.0, \"Group\": \"slug\", \"params\": \"none_balanced\", \"fold\": \"gtaI\", \"FPR\": 0.1111111111111111, \"accuracy\": 0.8571428571428571}, {\"precision\": null, \"recall\": null, \"F_score\": null, \"support\": 0.0, \"Group\": \"slug\", \"params\": \"none_balanced\", \"fold\": \"comH\", \"FPR\": 0.45, \"accuracy\": 0.55}, {\"precision\": null, \"recall\": null, \"F_score\": null, \"support\": 0.0, \"Group\": \"slug\", \"params\": \"none_balanced\", \"fold\": \"tagB\", \"FPR\": 0.3076923076923077, \"accuracy\": 0.6923076923076923}, {\"precision\": 0.7142857142857143, \"recall\": 1.0, \"F_score\": 0.8333333333333333, \"support\": 5.0, \"Group\": \"slug\", \"params\": \"none_balanced\", \"fold\": \"MybBGFP\", \"FPR\": 0.25, \"accuracy\": 0.8461538461538461}, {\"precision\": null, \"recall\": null, \"F_score\": null, \"support\": 0.0, \"Group\": \"mhat\", \"params\": \"none_balanced\", \"fold\": \"gtaI\", \"FPR\": 0.21428571428571427, \"accuracy\": 0.7857142857142857}, {\"precision\": null, \"recall\": null, \"F_score\": null, \"support\": 0.0, \"Group\": \"mhat\", \"params\": \"none_balanced\", \"fold\": \"acaAPkaCoe\", \"FPR\": 0.0, \"accuracy\": 1.0}, {\"precision\": null, \"recall\": null, \"F_score\": null, \"support\": 0.0, \"Group\": \"mhat\", \"params\": \"none_balanced\", \"fold\": \"amiB\", \"FPR\": 0.0, \"accuracy\": 1.0}, {\"precision\": null, \"recall\": null, \"F_score\": null, \"support\": 0.0, \"Group\": \"mhat\", \"params\": \"none_balanced\", \"fold\": \"acaA\", \"FPR\": 0.0, \"accuracy\": 1.0}, {\"precision\": null, \"recall\": null, \"F_score\": null, \"support\": 0.0, \"Group\": \"mhat\", \"params\": \"none_balanced\", \"fold\": \"gtaC\", \"FPR\": 0.0, \"accuracy\": 1.0}, {\"precision\": null, \"recall\": null, \"F_score\": null, \"support\": 0.0, \"Group\": \"mhat\", \"params\": \"none_balanced\", \"fold\": \"comH\", \"FPR\": 0.0, \"accuracy\": 1.0}, {\"precision\": null, \"recall\": null, \"F_score\": null, \"support\": 0.0, \"Group\": \"mhat\", \"params\": \"none_balanced\", \"fold\": \"dgcA\", \"FPR\": 0.0, \"accuracy\": 1.0}, {\"precision\": null, \"recall\": null, \"F_score\": null, \"support\": 0.0, \"Group\": \"mhat\", \"params\": \"none_balanced\", \"fold\": \"ac3PkaCoe\", \"FPR\": 0.0, \"accuracy\": 1.0}, {\"precision\": null, \"recall\": null, \"F_score\": null, \"support\": 0.0, \"Group\": \"mhat\", \"params\": \"none_balanced\", \"fold\": \"mybB\", \"FPR\": 0.0, \"accuracy\": 1.0}, {\"precision\": null, \"recall\": null, \"F_score\": null, \"support\": 0.0, \"Group\": \"mhat\", \"params\": \"none_balanced\", \"fold\": \"PkaCoe\", \"FPR\": 0.17647058823529413, \"accuracy\": 0.8235294117647058}, {\"precision\": 0.0, \"recall\": 0.0, \"F_score\": 0.0, \"support\": 4.0, \"Group\": \"mhat\", \"params\": \"none_balanced\", \"fold\": \"cudA\", \"FPR\": 0.0, \"accuracy\": 0.7777777777777778}, {\"precision\": null, \"recall\": null, \"F_score\": null, \"support\": 0.0, \"Group\": \"mhat\", \"params\": \"none_balanced\", \"fold\": \"gtaG\", \"FPR\": 0.14285714285714285, \"accuracy\": 0.8571428571428571}, {\"precision\": null, \"recall\": null, \"F_score\": null, \"support\": 0.0, \"Group\": \"mhat\", \"params\": \"none_balanced\", \"fold\": \"ecmARm\", \"FPR\": 0.0, \"accuracy\": 1.0}, {\"precision\": 0.5294117647058824, \"recall\": 1.0, \"F_score\": 0.6923076923076924, \"support\": 9.0, \"Group\": \"mhat\", \"params\": \"none_balanced\", \"fold\": \"AX4\", \"FPR\": 0.16666666666666666, \"accuracy\": 0.8596491228070176}, {\"precision\": 1.0, \"recall\": 0.25, \"F_score\": 0.4, \"support\": 4.0, \"Group\": \"mhat\", \"params\": \"none_balanced\", \"fold\": \"MybBGFP\", \"FPR\": 0.0, \"accuracy\": 0.7692307692307693}, {\"precision\": null, \"recall\": null, \"F_score\": null, \"support\": 0.0, \"Group\": \"mhat\", \"params\": \"none_balanced\", \"fold\": \"tagB\", \"FPR\": 0.07692307692307693, \"accuracy\": 0.9230769230769231}, {\"precision\": null, \"recall\": null, \"F_score\": null, \"support\": 0.0, \"Group\": \"cul\", \"params\": \"none_balanced\", \"fold\": \"dgcA\", \"FPR\": 0.0, \"accuracy\": 1.0}, {\"precision\": 0.0, \"recall\": 0.0, \"F_score\": 0.0, \"support\": 6.0, \"Group\": \"cul\", \"params\": \"none_balanced\", \"fold\": \"acaAPkaCoe\", \"FPR\": 0.0, \"accuracy\": 0.625}, {\"precision\": null, \"recall\": null, \"F_score\": null, \"support\": 0.0, \"Group\": \"cul\", \"params\": \"none_balanced\", \"fold\": \"cudA\", \"FPR\": 0.0, \"accuracy\": 1.0}, {\"precision\": 1.0, \"recall\": 0.5, \"F_score\": 0.6666666666666666, \"support\": 2.0, \"Group\": \"cul\", \"params\": \"none_balanced\", \"fold\": \"gtaG\", \"FPR\": 0.0, \"accuracy\": 0.9285714285714286}, {\"precision\": 1.0, \"recall\": 1.0, \"F_score\": 1.0, \"support\": 3.0, \"Group\": \"cul\", \"params\": \"none_balanced\", \"fold\": \"MybBGFP\", \"FPR\": 0.0, \"accuracy\": 1.0}, {\"precision\": 0.0, \"recall\": 0.0, \"F_score\": 0.0, \"support\": 1.0, \"Group\": \"cul\", \"params\": \"none_balanced\", \"fold\": \"gtaI\", \"FPR\": 0.07692307692307693, \"accuracy\": 0.8571428571428571}, {\"precision\": null, \"recall\": null, \"F_score\": null, \"support\": 0.0, \"Group\": \"cul\", \"params\": \"none_balanced\", \"fold\": \"acaA\", \"FPR\": 0.0, \"accuracy\": 1.0}, {\"precision\": null, \"recall\": null, \"F_score\": null, \"support\": 0.0, \"Group\": \"cul\", \"params\": \"none_balanced\", \"fold\": \"comH\", \"FPR\": 0.0, \"accuracy\": 1.0}, {\"precision\": null, \"recall\": null, \"F_score\": null, \"support\": 0.0, \"Group\": \"cul\", \"params\": \"none_balanced\", \"fold\": \"gtaC\", \"FPR\": 0.0, \"accuracy\": 1.0}, {\"precision\": null, \"recall\": null, \"F_score\": null, \"support\": 0.0, \"Group\": \"cul\", \"params\": \"none_balanced\", \"fold\": \"ac3PkaCoe\", \"FPR\": 0.0, \"accuracy\": 1.0}, {\"precision\": null, \"recall\": null, \"F_score\": null, \"support\": 0.0, \"Group\": \"cul\", \"params\": \"none_balanced\", \"fold\": \"ecmARm\", \"FPR\": 0.0, \"accuracy\": 1.0}, {\"precision\": null, \"recall\": null, \"F_score\": null, \"support\": 0.0, \"Group\": \"cul\", \"params\": \"none_balanced\", \"fold\": \"amiB\", \"FPR\": 0.0, \"accuracy\": 1.0}, {\"precision\": null, \"recall\": null, \"F_score\": null, \"support\": 0.0, \"Group\": \"cul\", \"params\": \"none_balanced\", \"fold\": \"mybB\", \"FPR\": 0.0, \"accuracy\": 1.0}, {\"precision\": 0.8235294117647058, \"recall\": 1.0, \"F_score\": 0.9032258064516129, \"support\": 14.0, \"Group\": \"cul\", \"params\": \"none_balanced\", \"fold\": \"AX4\", \"FPR\": 0.06976744186046512, \"accuracy\": 0.9473684210526315}, {\"precision\": null, \"recall\": null, \"F_score\": null, \"support\": 0.0, \"Group\": \"cul\", \"params\": \"none_balanced\", \"fold\": \"tagB\", \"FPR\": 0.0, \"accuracy\": 1.0}, {\"precision\": 0.875, \"recall\": 1.0, \"F_score\": 0.9333333333333333, \"support\": 7.0, \"Group\": \"cul\", \"params\": \"none_balanced\", \"fold\": \"PkaCoe\", \"FPR\": 0.1, \"accuracy\": 0.9411764705882353}, {\"precision\": null, \"recall\": null, \"F_score\": null, \"support\": 0.0, \"Group\": \"FB\", \"params\": \"none_balanced\", \"fold\": \"ac3PkaCoe\", \"FPR\": 0.0, \"accuracy\": 1.0}, {\"precision\": null, \"recall\": null, \"F_score\": null, \"support\": 0.0, \"Group\": \"FB\", \"params\": \"none_balanced\", \"fold\": \"tagB\", \"FPR\": 0.0, \"accuracy\": 1.0}, {\"precision\": null, \"recall\": null, \"F_score\": null, \"support\": 0.0, \"Group\": \"FB\", \"params\": \"none_balanced\", \"fold\": \"acaA\", \"FPR\": 0.0, \"accuracy\": 1.0}, {\"precision\": null, \"recall\": null, \"F_score\": null, \"support\": 0.0, \"Group\": \"FB\", \"params\": \"none_balanced\", \"fold\": \"amiB\", \"FPR\": 0.0, \"accuracy\": 1.0}, {\"precision\": null, \"recall\": null, \"F_score\": null, \"support\": 0.0, \"Group\": \"FB\", \"params\": \"none_balanced\", \"fold\": \"mybB\", \"FPR\": 0.0, \"accuracy\": 1.0}, {\"precision\": null, \"recall\": null, \"F_score\": null, \"support\": 0.0, \"Group\": \"FB\", \"params\": \"none_balanced\", \"fold\": \"gtaC\", \"FPR\": 0.0, \"accuracy\": 1.0}, {\"precision\": null, \"recall\": null, \"F_score\": null, \"support\": 0.0, \"Group\": \"FB\", \"params\": \"none_balanced\", \"fold\": \"comH\", \"FPR\": 0.0, \"accuracy\": 1.0}, {\"precision\": 1.0, \"recall\": 0.5, \"F_score\": 0.6666666666666666, \"support\": 2.0, \"Group\": \"FB\", \"params\": \"none_balanced\", \"fold\": \"gtaG\", \"FPR\": 0.0, \"accuracy\": 0.9285714285714286}, {\"precision\": null, \"recall\": null, \"F_score\": null, \"support\": 0.0, \"Group\": \"FB\", \"params\": \"none_balanced\", \"fold\": \"dgcA\", \"FPR\": 0.0, \"accuracy\": 1.0}, {\"precision\": null, \"recall\": null, \"F_score\": null, \"support\": 0.0, \"Group\": \"FB\", \"params\": \"none_balanced\", \"fold\": \"cudA\", \"FPR\": 0.0, \"accuracy\": 1.0}, {\"precision\": 0.0, \"recall\": 0.0, \"F_score\": 0.0, \"support\": 1.0, \"Group\": \"FB\", \"params\": \"none_balanced\", \"fold\": \"gtaI\", \"FPR\": 0.07692307692307693, \"accuracy\": 0.8571428571428571}, {\"precision\": null, \"recall\": null, \"F_score\": null, \"support\": 0.0, \"Group\": \"FB\", \"params\": \"none_balanced\", \"fold\": \"ecmARm\", \"FPR\": 0.0, \"accuracy\": 1.0}, {\"precision\": 1.0, \"recall\": 0.5, \"F_score\": 0.6666666666666666, \"support\": 2.0, \"Group\": \"FB\", \"params\": \"none_balanced\", \"fold\": \"MybBGFP\", \"FPR\": 0.0, \"accuracy\": 0.9230769230769231}, {\"precision\": 0.5714285714285714, \"recall\": 1.0, \"F_score\": 0.7272727272727273, \"support\": 8.0, \"Group\": \"FB\", \"params\": \"none_balanced\", \"fold\": \"AX4\", \"FPR\": 0.12244897959183673, \"accuracy\": 0.8947368421052632}, {\"precision\": 0.8, \"recall\": 0.8, \"F_score\": 0.8000000000000002, \"support\": 5.0, \"Group\": \"FB\", \"params\": \"none_balanced\", \"fold\": \"acaAPkaCoe\", \"FPR\": 0.09090909090909091, \"accuracy\": 0.875}, {\"precision\": 1.0, \"recall\": 1.0, \"F_score\": 1.0, \"support\": 7.0, \"Group\": \"FB\", \"params\": \"none_balanced\", \"fold\": \"PkaCoe\", \"FPR\": 0.0, \"accuracy\": 1.0}]}}, {\"mode\": \"vega-lite\"});\n",
       "</script>"
      ],
      "text/plain": [
       "alt.Chart(...)"
      ]
     },
     "metadata": {},
     "output_type": "display_data"
    }
   ],
   "source": [
    "for file,strain_group in zip(['logisticRegressionBinaryRelevanceComparisonArrest.pkl',\n",
    "                             'logisticRegressionBinaryRelevanceComparisonArrestPkaC.pkl'],\n",
    "                             ['arrest','arrest+PkaC']):\n",
    "    result2=loadPickle(pathClassification+file)\n",
    "    data_prfs=result2['prfs'].groupby('params')\n",
    "    #for group in ['none_balanced']:\n",
    "    for group in ['none_balanced']:\n",
    "        data=data_prfs.get_group(group)\n",
    "        summary=summary_classification(data,'F_score',\"Group\",print_df=False)\n",
    "        print('F score summary for OvR logistic regression with',strain_group,' strains data:',group)\n",
    "        summary_classification_print_sort(summary,statistic='F score',averages=['macro','micro'],groups=order,sort='groups')\n",
    "        print('\\n')\n",
    "        data_scatter=result2['prfs'][result2['prfs']['Group'].isin(order)].query('params ==\"none_balanced\"')\n",
    "        data_scatter.Group=pd.Categorical(data_scatter.Group, categories=order,ordered=True)\n",
    "        data_scatter=data_scatter.sort_values('Group')\n",
    "        display(scatter_catgory(data_scatter,categories='Group',Y= 'F_score', colour='fold',shape='fold',width=70))"
   ]
  },
  {
   "cell_type": "code",
   "execution_count": null,
   "metadata": {},
   "outputs": [],
   "source": [
    "data_feats=result['featsN'].groupby('params')\n",
    "#for group in ['none','none_balanced','l1_0.6_balanced']:\n",
    "for group in ['none_balanced']:\n",
    "    data=data_feats.get_group(group)\n",
    "    summary=summary_classification(data,'N_features',\"Group\",print_df=False)\n",
    "    print('N used features in OvR logistic regression:',group)\n",
    "    summary_classification_print_sort(summary,statistic='N features',averages=['all'],groups=order)\n",
    "    print('\\n')"
   ]
  },
  {
   "cell_type": "markdown",
   "metadata": {},
   "source": [
    "### Model performance discussion\n",
    "The performance varies highly across target variables (phenotypes). The use of different strains as the test set strongly affects the F score. Some strains seem to consistently have lower F scores across most of the target features (developmental stages). When using only a subset of the strains the average perofrmace (based on the F score) does not improve importantly. Nevertheless, the plots of F scores in individual test strains across targets indicate that removing some strains may imporve performance. This could be due to the removal of problematic test strains and it does not seem to improve the performance of other test strains. \n",
    " "
   ]
  },
  {
   "cell_type": "code",
   "execution_count": null,
   "metadata": {},
   "outputs": [],
   "source": []
  }
 ],
 "metadata": {
  "kernelspec": {
   "display_name": "Python 3",
   "language": "python",
   "name": "python3"
  },
  "language_info": {
   "codemirror_mode": {
    "name": "ipython",
    "version": 3
   },
   "file_extension": ".py",
   "mimetype": "text/x-python",
   "name": "python",
   "nbconvert_exporter": "python",
   "pygments_lexer": "ipython3",
   "version": "3.7.5"
  }
 },
 "nbformat": 4,
 "nbformat_minor": 4
}
