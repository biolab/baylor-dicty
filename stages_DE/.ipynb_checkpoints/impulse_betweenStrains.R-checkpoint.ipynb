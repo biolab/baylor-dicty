{
 "cells": [
  {
   "cell_type": "code",
   "execution_count": 1,
   "metadata": {},
   "outputs": [
    {
     "name": "stderr",
     "output_type": "stream",
     "text": [
      "\n",
      "Attaching package: ‘dplyr’\n",
      "\n",
      "\n",
      "The following objects are masked from ‘package:stats’:\n",
      "\n",
      "    filter, lag\n",
      "\n",
      "\n",
      "The following objects are masked from ‘package:base’:\n",
      "\n",
      "    intersect, setdiff, setequal, union\n",
      "\n",
      "\n",
      "------------------------------------------------------------------------------\n",
      "\n",
      "You have loaded plyr after dplyr - this is likely to cause problems.\n",
      "If you need functions from both plyr and dplyr, please load plyr first, then dplyr:\n",
      "library(plyr); library(dplyr)\n",
      "\n",
      "------------------------------------------------------------------------------\n",
      "\n",
      "\n",
      "Attaching package: ‘plyr’\n",
      "\n",
      "\n",
      "The following objects are masked from ‘package:dplyr’:\n",
      "\n",
      "    arrange, count, desc, failwith, id, mutate, rename, summarise,\n",
      "    summarize\n",
      "\n",
      "\n"
     ]
    }
   ],
   "source": [
    "library(\"ImpulseDE2\")\n",
    "library('dplyr')\n",
    "library(plyr)"
   ]
  },
  {
   "cell_type": "code",
   "execution_count": 12,
   "metadata": {},
   "outputs": [],
   "source": [
    "server=TRUE\n",
    "if (server){\n",
    "    pathSave='/home/khrovatin/timeTrajectoriesNet/data/stages/disagg/impulse/betweenStrains/'\n",
    "    pathCounts='/home/khrovatin/timeTrajectoriesNet/data/counts/'\n",
    "    pathConditions='/home/khrovatin/timeTrajectoriesNet/data/RPKUM/'\n",
    "}else{\n",
    "    pathCounts='/home/karin/Documents/timeTrajectories/data/countsRaw/combined/'\n",
    "    pathConditions='/home/karin/Documents/timeTrajectories/data/RPKUM/combined/'\n",
    "}"
   ]
  },
  {
   "cell_type": "code",
   "execution_count": 3,
   "metadata": {},
   "outputs": [],
   "source": [
    "genes<-read.table(paste(pathCounts,'mergedGenes_counts.tsv',sep=''), header=TRUE,row.names=1, sep=\"\\t\")\n",
    "conditions<-read.table(paste(pathConditions,'conditions_mergedGenes.tsv',sep=''), header=TRUE,row.names='Measurment', sep=\"\\t\")\n",
    "conditions[conditions=='']=NA\n",
    "#R imported colnames of genes with changes but gene IDs remained ok\n",
    "rownames(conditions)<-make.names(rownames(conditions))"
   ]
  },
  {
   "cell_type": "markdown",
   "metadata": {},
   "source": [
    "## DE through time in AX4 vs mutants"
   ]
  },
  {
   "cell_type": "code",
   "execution_count": 18,
   "metadata": {},
   "outputs": [
    {
     "name": "stdout",
     "output_type": "stream",
     "text": [
      "[1] \"tagB\"\n",
      "[1] \"25 6 19\"\n"
     ]
    },
    {
     "name": "stderr",
     "output_type": "stream",
     "text": [
      "ImpulseDE2 for count data, v1.10.0\n",
      "\n",
      "# Process input\n",
      "\n"
     ]
    },
    {
     "name": "stdout",
     "output_type": "stream",
     "text": [
      "Processing Details:\n",
      "ImpulseDE2 runs in case-ctrl mode.\n",
      "Found time points: 4,6,8\n",
      "Case: Found the samples at time point 4: pool36_tagB__bio1_04h_5_GCAAGAT_mappedGene_expressions_All_milestone_mRNA_gff,tagB_bio2_04h_18_S153_L008_R1_001_mappedGene_expressions_All_milestone_mRNA_gff\n",
      "Case: Found the samples at time point 6: pool36_tagB__bio1_06h_7_CTCGATG_mappedGene_expressions_All_milestone_mRNA_gff,tagB_bio2_06h_20_S155_L008_R1_001_mappedGene_expressions_All_milestone_mRNA_gff\n",
      "Case: Found the samples at time point 8: pool36_tagB__bio1_08h_8_GCTCGAA_mappedGene_expressions_All_milestone_mRNA_gff,tagB_bio2_08h_21_S156_L008_R1_001_mappedGene_expressions_All_milestone_mRNA_gff\n",
      "Control: Found the following samples at time point 4:FDpool01_GCAAGAT_Hr04_mappedGene_expressions_All_milestone_mRNA_gff,FDpool02_GCAAGAT_Hr04_mappedGene_expressions_All_milestone_mRNA_gff,Ax4_r1_04h_10_S87_L002_R1_001_mappedGene_expressions_All_milestone_mRNA_gff,Ax4_r2_04h_10_S59_L003_R1_001_mappedGene_expressions_All_milestone_mRNA_gff,Pool26_AX4_bio2_hr04_5_GCAAGAT_mappedGene_expressions_All_milestone_mRNA_gff,pool27_AX4_bio1_hr04_5_GCAAGAT_mappedGene_expressions_All_milestone_mRNA_gff,Pool28_AX4_bio2_hr04_5_17_AGGTACC_mappedGene_expressions_All_milestone_mRNA_gff\n",
      "Control: Found the following samples at time point 6:FDpool01_CTCGATG_Hr06_mappedGene_expressions_All_milestone_mRNA_gff,FDpool02_CTCGATG_Hr06_mappedGene_expressions_All_milestone_mRNA_gff,Pool26_AX4_bio2_hr06_7_CTCGATG_mappedGene_expressions_All_milestone_mRNA_gff,pool27_AX4_bio1_hr06_7_CTCGATG_mappedGene_expressions_All_milestone_mRNA_gff,Pool29_AX4_bio2_hr06_1_TCGCAGG_mappedGene_expressions_All_milestone_mRNA_gff\n",
      "Control: Found the following samples at time point 8:FDpool01_CCGGTAC_Hr08_mappedGene_expressions_All_milestone_mRNA_gff,FDpool02_ACCAACT_Hr08_mappedGene_expressions_All_milestone_mRNA_gff,Ax4_r1_08h_11_S88_L002_R1_001_mappedGene_expressions_All_milestone_mRNA_gff,Ax4_r2_08h_11_S60_L003_R1_001_mappedGene_expressions_All_milestone_mRNA_gff,Pool26_AX4_bio2_hr08_8_GCTCGAA_mappedGene_expressions_All_milestone_mRNA_gff,pool27_AX4_bio1_hr08_8_GCTCGAA_mappedGene_expressions_All_milestone_mRNA_gff,Pool29_AX4_bio2_hr08_2_CTCTGCA_mappedGene_expressions_All_milestone_mRNA_gff\n",
      "Input contained 12828 genes/regions.\n",
      "WARNING: 728 out of 12828 genes do not have obserserved non-zero counts and are excluded.\n",
      "Selected 12100 genes/regions for analysis.\n"
     ]
    },
    {
     "name": "stderr",
     "output_type": "stream",
     "text": [
      "# Run DESeq2: Using dispersion factorscomputed by DESeq2.\n",
      "\n",
      "gene-wise dispersion estimates\n",
      "\n",
      "mean-dispersion relationship\n",
      "\n",
      "final dispersion estimates\n",
      "\n"
     ]
    },
    {
     "name": "stdout",
     "output_type": "stream",
     "text": [
      "[1] \"Corrected 9 DESEq2 dispersion estimates which to avoid variance overestimation and loss of discriminatory power for model selection.\"\n"
     ]
    },
    {
     "name": "stderr",
     "output_type": "stream",
     "text": [
      "Consumed time: 0.1 min.\n",
      "\n",
      "# Compute size factors\n",
      "\n",
      "# Fitting null and alternative model to the genes\n",
      "\n",
      "Consumed time: 0.8 min.\n",
      "\n",
      "# Differentially expression analysis based on model fits\n",
      "\n",
      "Finished running ImpulseDE2.\n",
      "\n",
      "TOTAL consumed time: 0.93 min.\n",
      "\n"
     ]
    },
    {
     "name": "stdout",
     "output_type": "stream",
     "text": [
      "[1] \"comH\"\n",
      "[1] \"25 6 19\"\n"
     ]
    },
    {
     "name": "stderr",
     "output_type": "stream",
     "text": [
      "ImpulseDE2 for count data, v1.10.0\n",
      "\n",
      "# Process input\n",
      "\n"
     ]
    },
    {
     "name": "stdout",
     "output_type": "stream",
     "text": [
      "Processing Details:\n",
      "ImpulseDE2 runs in case-ctrl mode.\n",
      "Found time points: 4,6,8\n",
      "Case: Found the samples at time point 4: t345_r1_04h_40_S113_L001_R1_001_mappedGene_expressions_All_milestone_mRNA_gff,t345_r2_04h_35_S155_L002_R1_001_mappedGene_expressions_All_milestone_mRNA_gff\n",
      "Case: Found the samples at time point 6: t345_r1_06h_41_S114_L001_R1_001_mappedGene_expressions_All_milestone_mRNA_gff,t345_r2_06h_36_S156_L002_R1_001_mappedGene_expressions_All_milestone_mRNA_gff\n",
      "Case: Found the samples at time point 8: t345_r1_08h_42_S115_L001_R1_001_mappedGene_expressions_All_milestone_mRNA_gff,t345_r2_08h_37_S157_L002_R1_001_mappedGene_expressions_All_milestone_mRNA_gff\n",
      "Control: Found the following samples at time point 4:FDpool01_GCAAGAT_Hr04_mappedGene_expressions_All_milestone_mRNA_gff,FDpool02_GCAAGAT_Hr04_mappedGene_expressions_All_milestone_mRNA_gff,Ax4_r1_04h_10_S87_L002_R1_001_mappedGene_expressions_All_milestone_mRNA_gff,Ax4_r2_04h_10_S59_L003_R1_001_mappedGene_expressions_All_milestone_mRNA_gff,Pool26_AX4_bio2_hr04_5_GCAAGAT_mappedGene_expressions_All_milestone_mRNA_gff,pool27_AX4_bio1_hr04_5_GCAAGAT_mappedGene_expressions_All_milestone_mRNA_gff,Pool28_AX4_bio2_hr04_5_17_AGGTACC_mappedGene_expressions_All_milestone_mRNA_gff\n",
      "Control: Found the following samples at time point 6:FDpool01_CTCGATG_Hr06_mappedGene_expressions_All_milestone_mRNA_gff,FDpool02_CTCGATG_Hr06_mappedGene_expressions_All_milestone_mRNA_gff,Pool26_AX4_bio2_hr06_7_CTCGATG_mappedGene_expressions_All_milestone_mRNA_gff,pool27_AX4_bio1_hr06_7_CTCGATG_mappedGene_expressions_All_milestone_mRNA_gff,Pool29_AX4_bio2_hr06_1_TCGCAGG_mappedGene_expressions_All_milestone_mRNA_gff\n",
      "Control: Found the following samples at time point 8:FDpool01_CCGGTAC_Hr08_mappedGene_expressions_All_milestone_mRNA_gff,FDpool02_ACCAACT_Hr08_mappedGene_expressions_All_milestone_mRNA_gff,Ax4_r1_08h_11_S88_L002_R1_001_mappedGene_expressions_All_milestone_mRNA_gff,Ax4_r2_08h_11_S60_L003_R1_001_mappedGene_expressions_All_milestone_mRNA_gff,Pool26_AX4_bio2_hr08_8_GCTCGAA_mappedGene_expressions_All_milestone_mRNA_gff,pool27_AX4_bio1_hr08_8_GCTCGAA_mappedGene_expressions_All_milestone_mRNA_gff,Pool29_AX4_bio2_hr08_2_CTCTGCA_mappedGene_expressions_All_milestone_mRNA_gff\n",
      "Input contained 12828 genes/regions.\n",
      "WARNING: 518 out of 12828 genes do not have obserserved non-zero counts and are excluded.\n",
      "Selected 12310 genes/regions for analysis.\n"
     ]
    },
    {
     "name": "stderr",
     "output_type": "stream",
     "text": [
      "# Run DESeq2: Using dispersion factorscomputed by DESeq2.\n",
      "\n",
      "gene-wise dispersion estimates\n",
      "\n",
      "mean-dispersion relationship\n",
      "\n",
      "final dispersion estimates\n",
      "\n"
     ]
    },
    {
     "name": "stdout",
     "output_type": "stream",
     "text": [
      "[1] \"Corrected 20 DESEq2 dispersion estimates which to avoid variance overestimation and loss of discriminatory power for model selection.\"\n"
     ]
    },
    {
     "name": "stderr",
     "output_type": "stream",
     "text": [
      "Consumed time: 0.1 min.\n",
      "\n",
      "# Compute size factors\n",
      "\n",
      "# Fitting null and alternative model to the genes\n",
      "\n",
      "Consumed time: 0.83 min.\n",
      "\n",
      "# Differentially expression analysis based on model fits\n",
      "\n",
      "Finished running ImpulseDE2.\n",
      "\n",
      "TOTAL consumed time: 0.96 min.\n",
      "\n"
     ]
    },
    {
     "name": "stdout",
     "output_type": "stream",
     "text": [
      "[1] \"tgrB1\"\n",
      "[1] \"25 6 19\"\n"
     ]
    },
    {
     "name": "stderr",
     "output_type": "stream",
     "text": [
      "ImpulseDE2 for count data, v1.10.0\n",
      "\n",
      "# Process input\n",
      "\n"
     ]
    },
    {
     "name": "stdout",
     "output_type": "stream",
     "text": [
      "Processing Details:\n",
      "ImpulseDE2 runs in case-ctrl mode.\n",
      "Found time points: 4,6,8\n",
      "Case: Found the samples at time point 4: tgrB1_r1_04h_12_S28_L003_R1_001_mappedGene_expressions_All_milestone_mRNA_gff,tgrB1_r2_04h_22_S38_L002_R1_001_mappedGene_expressions_All_milestone_mRNA_gff\n",
      "Case: Found the samples at time point 6: tgrB1_r1_06h_13_S29_L003_R1_001_mappedGene_expressions_All_milestone_mRNA_gff,tgrB1_r2_06h_23_S39_L002_R1_001_mappedGene_expressions_All_milestone_mRNA_gff\n",
      "Case: Found the samples at time point 8: tgrB1_r1_08h_14_S30_L003_R1_001_mappedGene_expressions_All_milestone_mRNA_gff,tgrB1_r2_08h_24_S40_L002_R1_001_mappedGene_expressions_All_milestone_mRNA_gff\n",
      "Control: Found the following samples at time point 4:FDpool01_GCAAGAT_Hr04_mappedGene_expressions_All_milestone_mRNA_gff,FDpool02_GCAAGAT_Hr04_mappedGene_expressions_All_milestone_mRNA_gff,Ax4_r1_04h_10_S87_L002_R1_001_mappedGene_expressions_All_milestone_mRNA_gff,Ax4_r2_04h_10_S59_L003_R1_001_mappedGene_expressions_All_milestone_mRNA_gff,Pool26_AX4_bio2_hr04_5_GCAAGAT_mappedGene_expressions_All_milestone_mRNA_gff,pool27_AX4_bio1_hr04_5_GCAAGAT_mappedGene_expressions_All_milestone_mRNA_gff,Pool28_AX4_bio2_hr04_5_17_AGGTACC_mappedGene_expressions_All_milestone_mRNA_gff\n",
      "Control: Found the following samples at time point 6:FDpool01_CTCGATG_Hr06_mappedGene_expressions_All_milestone_mRNA_gff,FDpool02_CTCGATG_Hr06_mappedGene_expressions_All_milestone_mRNA_gff,Pool26_AX4_bio2_hr06_7_CTCGATG_mappedGene_expressions_All_milestone_mRNA_gff,pool27_AX4_bio1_hr06_7_CTCGATG_mappedGene_expressions_All_milestone_mRNA_gff,Pool29_AX4_bio2_hr06_1_TCGCAGG_mappedGene_expressions_All_milestone_mRNA_gff\n",
      "Control: Found the following samples at time point 8:FDpool01_CCGGTAC_Hr08_mappedGene_expressions_All_milestone_mRNA_gff,FDpool02_ACCAACT_Hr08_mappedGene_expressions_All_milestone_mRNA_gff,Ax4_r1_08h_11_S88_L002_R1_001_mappedGene_expressions_All_milestone_mRNA_gff,Ax4_r2_08h_11_S60_L003_R1_001_mappedGene_expressions_All_milestone_mRNA_gff,Pool26_AX4_bio2_hr08_8_GCTCGAA_mappedGene_expressions_All_milestone_mRNA_gff,pool27_AX4_bio1_hr08_8_GCTCGAA_mappedGene_expressions_All_milestone_mRNA_gff,Pool29_AX4_bio2_hr08_2_CTCTGCA_mappedGene_expressions_All_milestone_mRNA_gff\n",
      "Input contained 12828 genes/regions.\n",
      "WARNING: 796 out of 12828 genes do not have obserserved non-zero counts and are excluded.\n",
      "Selected 12032 genes/regions for analysis.\n"
     ]
    },
    {
     "name": "stderr",
     "output_type": "stream",
     "text": [
      "# Run DESeq2: Using dispersion factorscomputed by DESeq2.\n",
      "\n",
      "gene-wise dispersion estimates\n",
      "\n",
      "mean-dispersion relationship\n",
      "\n",
      "final dispersion estimates\n",
      "\n"
     ]
    },
    {
     "name": "stdout",
     "output_type": "stream",
     "text": [
      "[1] \"Corrected 3 DESEq2 dispersion estimates which to avoid variance overestimation and loss of discriminatory power for model selection.\"\n"
     ]
    },
    {
     "name": "stderr",
     "output_type": "stream",
     "text": [
      "Consumed time: 0.09 min.\n",
      "\n",
      "# Compute size factors\n",
      "\n",
      "# Fitting null and alternative model to the genes\n",
      "\n",
      "Consumed time: 0.82 min.\n",
      "\n",
      "# Differentially expression analysis based on model fits\n",
      "\n",
      "Finished running ImpulseDE2.\n",
      "\n",
      "TOTAL consumed time: 0.94 min.\n",
      "\n"
     ]
    },
    {
     "name": "stdout",
     "output_type": "stream",
     "text": [
      "[1] \"tgrB1C1\"\n",
      "[1] \"25 6 19\"\n"
     ]
    },
    {
     "name": "stderr",
     "output_type": "stream",
     "text": [
      "ImpulseDE2 for count data, v1.10.0\n",
      "\n",
      "# Process input\n",
      "\n"
     ]
    },
    {
     "name": "stdout",
     "output_type": "stream",
     "text": [
      "Processing Details:\n",
      "ImpulseDE2 runs in case-ctrl mode.\n",
      "Found time points: 4,6,8\n",
      "Case: Found the samples at time point 4: tgrB1C1_r1_04h_2_S18_L003_R1_001_mappedGene_expressions_All_milestone_mRNA_gff,tgrB1C1_r2_04h_2_S18_L002_R1_001_mappedGene_expressions_All_milestone_mRNA_gff\n",
      "Case: Found the samples at time point 6: tgrB1C1_r1_06h_3_S19_L003_R1_001_mappedGene_expressions_All_milestone_mRNA_gff,tgrB1C1_r2_06h_3_S19_L002_R1_001_mappedGene_expressions_All_milestone_mRNA_gff\n",
      "Case: Found the samples at time point 8: tgrB1C1_r1_08h_4_S20_L003_R1_001_mappedGene_expressions_All_milestone_mRNA_gff,tgrB1C1_r2_08h_4_S20_L002_R1_001_mappedGene_expressions_All_milestone_mRNA_gff\n",
      "Control: Found the following samples at time point 4:FDpool01_GCAAGAT_Hr04_mappedGene_expressions_All_milestone_mRNA_gff,FDpool02_GCAAGAT_Hr04_mappedGene_expressions_All_milestone_mRNA_gff,Ax4_r1_04h_10_S87_L002_R1_001_mappedGene_expressions_All_milestone_mRNA_gff,Ax4_r2_04h_10_S59_L003_R1_001_mappedGene_expressions_All_milestone_mRNA_gff,Pool26_AX4_bio2_hr04_5_GCAAGAT_mappedGene_expressions_All_milestone_mRNA_gff,pool27_AX4_bio1_hr04_5_GCAAGAT_mappedGene_expressions_All_milestone_mRNA_gff,Pool28_AX4_bio2_hr04_5_17_AGGTACC_mappedGene_expressions_All_milestone_mRNA_gff\n",
      "Control: Found the following samples at time point 6:FDpool01_CTCGATG_Hr06_mappedGene_expressions_All_milestone_mRNA_gff,FDpool02_CTCGATG_Hr06_mappedGene_expressions_All_milestone_mRNA_gff,Pool26_AX4_bio2_hr06_7_CTCGATG_mappedGene_expressions_All_milestone_mRNA_gff,pool27_AX4_bio1_hr06_7_CTCGATG_mappedGene_expressions_All_milestone_mRNA_gff,Pool29_AX4_bio2_hr06_1_TCGCAGG_mappedGene_expressions_All_milestone_mRNA_gff\n",
      "Control: Found the following samples at time point 8:FDpool01_CCGGTAC_Hr08_mappedGene_expressions_All_milestone_mRNA_gff,FDpool02_ACCAACT_Hr08_mappedGene_expressions_All_milestone_mRNA_gff,Ax4_r1_08h_11_S88_L002_R1_001_mappedGene_expressions_All_milestone_mRNA_gff,Ax4_r2_08h_11_S60_L003_R1_001_mappedGene_expressions_All_milestone_mRNA_gff,Pool26_AX4_bio2_hr08_8_GCTCGAA_mappedGene_expressions_All_milestone_mRNA_gff,pool27_AX4_bio1_hr08_8_GCTCGAA_mappedGene_expressions_All_milestone_mRNA_gff,Pool29_AX4_bio2_hr08_2_CTCTGCA_mappedGene_expressions_All_milestone_mRNA_gff\n",
      "Input contained 12828 genes/regions.\n",
      "WARNING: 754 out of 12828 genes do not have obserserved non-zero counts and are excluded.\n",
      "Selected 12074 genes/regions for analysis.\n"
     ]
    },
    {
     "name": "stderr",
     "output_type": "stream",
     "text": [
      "# Run DESeq2: Using dispersion factorscomputed by DESeq2.\n",
      "\n",
      "gene-wise dispersion estimates\n",
      "\n",
      "mean-dispersion relationship\n",
      "\n",
      "final dispersion estimates\n",
      "\n"
     ]
    },
    {
     "name": "stdout",
     "output_type": "stream",
     "text": [
      "[1] \"Corrected 7 DESEq2 dispersion estimates which to avoid variance overestimation and loss of discriminatory power for model selection.\"\n"
     ]
    },
    {
     "name": "stderr",
     "output_type": "stream",
     "text": [
      "Consumed time: 0.1 min.\n",
      "\n",
      "# Compute size factors\n",
      "\n",
      "# Fitting null and alternative model to the genes\n",
      "\n",
      "Consumed time: 0.82 min.\n",
      "\n",
      "# Differentially expression analysis based on model fits\n",
      "\n",
      "Finished running ImpulseDE2.\n",
      "\n",
      "TOTAL consumed time: 0.95 min.\n",
      "\n"
     ]
    },
    {
     "name": "stdout",
     "output_type": "stream",
     "text": [
      "[1] \"tgrC1\"\n",
      "[1] \"25 6 19\"\n"
     ]
    },
    {
     "name": "stderr",
     "output_type": "stream",
     "text": [
      "ImpulseDE2 for count data, v1.10.0\n",
      "\n",
      "# Process input\n",
      "\n"
     ]
    },
    {
     "name": "stdout",
     "output_type": "stream",
     "text": [
      "Processing Details:\n",
      "ImpulseDE2 runs in case-ctrl mode.\n",
      "Found time points: 4,6,8\n",
      "Case: Found the samples at time point 4: tgrC1_r1_04h_22_S38_L003_R1_001_mappedGene_expressions_All_milestone_mRNA_gff,tgrC1_r2_04h_12_S28_L002_R1_001_mappedGene_expressions_All_milestone_mRNA_gff\n",
      "Case: Found the samples at time point 6: tgrC1_r1_06h_23_S39_L003_R1_001_mappedGene_expressions_All_milestone_mRNA_gff,tgrC1_r2_06h_13_S29_L002_R1_001_mappedGene_expressions_All_milestone_mRNA_gff\n",
      "Case: Found the samples at time point 8: tgrC1_r1_08h_24_S40_L003_R1_001_mappedGene_expressions_All_milestone_mRNA_gff,tgrC1_r2_08h_14_S30_L002_R1_001_mappedGene_expressions_All_milestone_mRNA_gff\n",
      "Control: Found the following samples at time point 4:FDpool01_GCAAGAT_Hr04_mappedGene_expressions_All_milestone_mRNA_gff,FDpool02_GCAAGAT_Hr04_mappedGene_expressions_All_milestone_mRNA_gff,Ax4_r1_04h_10_S87_L002_R1_001_mappedGene_expressions_All_milestone_mRNA_gff,Ax4_r2_04h_10_S59_L003_R1_001_mappedGene_expressions_All_milestone_mRNA_gff,Pool26_AX4_bio2_hr04_5_GCAAGAT_mappedGene_expressions_All_milestone_mRNA_gff,pool27_AX4_bio1_hr04_5_GCAAGAT_mappedGene_expressions_All_milestone_mRNA_gff,Pool28_AX4_bio2_hr04_5_17_AGGTACC_mappedGene_expressions_All_milestone_mRNA_gff\n",
      "Control: Found the following samples at time point 6:FDpool01_CTCGATG_Hr06_mappedGene_expressions_All_milestone_mRNA_gff,FDpool02_CTCGATG_Hr06_mappedGene_expressions_All_milestone_mRNA_gff,Pool26_AX4_bio2_hr06_7_CTCGATG_mappedGene_expressions_All_milestone_mRNA_gff,pool27_AX4_bio1_hr06_7_CTCGATG_mappedGene_expressions_All_milestone_mRNA_gff,Pool29_AX4_bio2_hr06_1_TCGCAGG_mappedGene_expressions_All_milestone_mRNA_gff\n",
      "Control: Found the following samples at time point 8:FDpool01_CCGGTAC_Hr08_mappedGene_expressions_All_milestone_mRNA_gff,FDpool02_ACCAACT_Hr08_mappedGene_expressions_All_milestone_mRNA_gff,Ax4_r1_08h_11_S88_L002_R1_001_mappedGene_expressions_All_milestone_mRNA_gff,Ax4_r2_08h_11_S60_L003_R1_001_mappedGene_expressions_All_milestone_mRNA_gff,Pool26_AX4_bio2_hr08_8_GCTCGAA_mappedGene_expressions_All_milestone_mRNA_gff,pool27_AX4_bio1_hr08_8_GCTCGAA_mappedGene_expressions_All_milestone_mRNA_gff,Pool29_AX4_bio2_hr08_2_CTCTGCA_mappedGene_expressions_All_milestone_mRNA_gff\n",
      "Input contained 12828 genes/regions.\n",
      "WARNING: 777 out of 12828 genes do not have obserserved non-zero counts and are excluded.\n",
      "Selected 12051 genes/regions for analysis.\n"
     ]
    },
    {
     "name": "stderr",
     "output_type": "stream",
     "text": [
      "# Run DESeq2: Using dispersion factorscomputed by DESeq2.\n",
      "\n",
      "gene-wise dispersion estimates\n",
      "\n",
      "mean-dispersion relationship\n",
      "\n",
      "final dispersion estimates\n",
      "\n"
     ]
    },
    {
     "name": "stdout",
     "output_type": "stream",
     "text": [
      "[1] \"Corrected 2 DESEq2 dispersion estimates which to avoid variance overestimation and loss of discriminatory power for model selection.\"\n"
     ]
    },
    {
     "name": "stderr",
     "output_type": "stream",
     "text": [
      "Consumed time: 0.09 min.\n",
      "\n",
      "# Compute size factors\n",
      "\n",
      "# Fitting null and alternative model to the genes\n",
      "\n",
      "Consumed time: 0.77 min.\n",
      "\n",
      "# Differentially expression analysis based on model fits\n",
      "\n",
      "Finished running ImpulseDE2.\n",
      "\n",
      "TOTAL consumed time: 0.89 min.\n",
      "\n"
     ]
    },
    {
     "name": "stdout",
     "output_type": "stream",
     "text": [
      "[1] \"gbfA\"\n",
      "[1] \"25 6 19\"\n"
     ]
    },
    {
     "name": "stderr",
     "output_type": "stream",
     "text": [
      "ImpulseDE2 for count data, v1.10.0\n",
      "\n",
      "# Process input\n",
      "\n"
     ]
    },
    {
     "name": "stdout",
     "output_type": "stream",
     "text": [
      "Processing Details:\n",
      "ImpulseDE2 runs in case-ctrl mode.\n",
      "Found time points: 4,6,8\n",
      "Case: Found the samples at time point 4: gbfA_4h_r1_29_S80_L003_R1_001_mappedGene_expressions_All_milestone_mRNA_gff,gbfA_r3_04h_2_S127_L002_R1_001_mappedGene_expressions_All_milestone_mRNA_gff\n",
      "Case: Found the samples at time point 6: gbfA_6h_r1_30_S81_L003_R1_001_mappedGene_expressions_All_milestone_mRNA_gff,gbfA_r3_06h_3_S128_L002_R1_001_mappedGene_expressions_All_milestone_mRNA_gff\n",
      "Case: Found the samples at time point 8: gbfA_8h_r1_31_S82_L003_R1_001_mappedGene_expressions_All_milestone_mRNA_gff,gbfA_r3_08h_4_S129_L002_R1_001_mappedGene_expressions_All_milestone_mRNA_gff\n",
      "Control: Found the following samples at time point 4:FDpool01_GCAAGAT_Hr04_mappedGene_expressions_All_milestone_mRNA_gff,FDpool02_GCAAGAT_Hr04_mappedGene_expressions_All_milestone_mRNA_gff,Ax4_r1_04h_10_S87_L002_R1_001_mappedGene_expressions_All_milestone_mRNA_gff,Ax4_r2_04h_10_S59_L003_R1_001_mappedGene_expressions_All_milestone_mRNA_gff,Pool26_AX4_bio2_hr04_5_GCAAGAT_mappedGene_expressions_All_milestone_mRNA_gff,pool27_AX4_bio1_hr04_5_GCAAGAT_mappedGene_expressions_All_milestone_mRNA_gff,Pool28_AX4_bio2_hr04_5_17_AGGTACC_mappedGene_expressions_All_milestone_mRNA_gff\n",
      "Control: Found the following samples at time point 6:FDpool01_CTCGATG_Hr06_mappedGene_expressions_All_milestone_mRNA_gff,FDpool02_CTCGATG_Hr06_mappedGene_expressions_All_milestone_mRNA_gff,Pool26_AX4_bio2_hr06_7_CTCGATG_mappedGene_expressions_All_milestone_mRNA_gff,pool27_AX4_bio1_hr06_7_CTCGATG_mappedGene_expressions_All_milestone_mRNA_gff,Pool29_AX4_bio2_hr06_1_TCGCAGG_mappedGene_expressions_All_milestone_mRNA_gff\n",
      "Control: Found the following samples at time point 8:FDpool01_CCGGTAC_Hr08_mappedGene_expressions_All_milestone_mRNA_gff,FDpool02_ACCAACT_Hr08_mappedGene_expressions_All_milestone_mRNA_gff,Ax4_r1_08h_11_S88_L002_R1_001_mappedGene_expressions_All_milestone_mRNA_gff,Ax4_r2_08h_11_S60_L003_R1_001_mappedGene_expressions_All_milestone_mRNA_gff,Pool26_AX4_bio2_hr08_8_GCTCGAA_mappedGene_expressions_All_milestone_mRNA_gff,pool27_AX4_bio1_hr08_8_GCTCGAA_mappedGene_expressions_All_milestone_mRNA_gff,Pool29_AX4_bio2_hr08_2_CTCTGCA_mappedGene_expressions_All_milestone_mRNA_gff\n",
      "Input contained 12828 genes/regions.\n",
      "WARNING: 779 out of 12828 genes do not have obserserved non-zero counts and are excluded.\n",
      "Selected 12049 genes/regions for analysis.\n"
     ]
    },
    {
     "name": "stderr",
     "output_type": "stream",
     "text": [
      "# Run DESeq2: Using dispersion factorscomputed by DESeq2.\n",
      "\n",
      "gene-wise dispersion estimates\n",
      "\n",
      "mean-dispersion relationship\n",
      "\n",
      "final dispersion estimates\n",
      "\n"
     ]
    },
    {
     "name": "stdout",
     "output_type": "stream",
     "text": [
      "[1] \"Corrected 3 DESEq2 dispersion estimates which to avoid variance overestimation and loss of discriminatory power for model selection.\"\n"
     ]
    },
    {
     "name": "stderr",
     "output_type": "stream",
     "text": [
      "Consumed time: 0.1 min.\n",
      "\n",
      "# Compute size factors\n",
      "\n",
      "# Fitting null and alternative model to the genes\n",
      "\n",
      "Consumed time: 0.8 min.\n",
      "\n",
      "# Differentially expression analysis based on model fits\n",
      "\n",
      "Finished running ImpulseDE2.\n",
      "\n",
      "TOTAL consumed time: 0.92 min.\n",
      "\n"
     ]
    }
   ],
   "source": [
    "times=c(4,6,8)\n",
    "for (strain in c('tagB','comH','tgrB1','tgrB1C1','tgrC1','gbfA')){\n",
    "    print(strain)\n",
    "case=conditions[conditions$Strain==strain & conditions$Time %in% times, c('Time','Strain')]\n",
    "control=conditions[conditions$Strain=='AX4' & conditions$Time %in% times, c('Time','Strain')]\n",
    "case[,'Condition']='case'\n",
    "control[,'Condition']='control'\n",
    "conditions_sub<-rbind(case,control)    \n",
    "conditions_sub[,'Sample']=rownames(conditions_sub)\n",
    "\n",
    "conditions_sub<-conditions_sub[order(conditions_sub$Time),]\n",
    "X=genes[,conditions_sub$Sample]\n",
    "print(paste(nrow(conditions_sub), nrow(case),nrow(control)))\n",
    "#print(conditions_sub)\n",
    "objectImpulseDE2 <- runImpulseDE2(matCountData = as.matrix(X), dfAnnotation = conditions_sub,boolCaseCtrl = TRUE,\n",
    "                                  vecConfounders = NULL,\n",
    "                                  boolIdentifyTransients = FALSE,scaNProc = 40)\n",
    "\n",
    "saveRDS(object=objectImpulseDE2,file=paste(pathSave,'DE_',strain,'ref_AX4_times',paste(times,collapse='-'),\n",
    "                                           '.rds',sep=''))\n",
    "result<-objectImpulseDE2$dfImpulseDE2Results\n",
    "result<-result[! is.na(result$padj),]\n",
    "write.table(result,paste(pathSave,'DE_',strain,'_ref_AX4_times',paste(times,collapse='-'),'.tsv',sep=''),\n",
    "            sep='\\t',col.names = NA)\n",
    "}"
   ]
  },
  {
   "cell_type": "code",
   "execution_count": 16,
   "metadata": {},
   "outputs": [
    {
     "data": {
      "text/html": [
       "<table>\n",
       "<caption>A data.frame: 3 × 19</caption>\n",
       "<thead>\n",
       "\t<tr><th></th><th scope=col>Gene</th><th scope=col>p</th><th scope=col>padj</th><th scope=col>loglik_full</th><th scope=col>loglik_red</th><th scope=col>df_full</th><th scope=col>df_red</th><th scope=col>mean</th><th scope=col>converge_combined</th><th scope=col>converge_case</th><th scope=col>converge_control</th><th scope=col>converge_sigmoid</th><th scope=col>impulseTOsigmoid_p</th><th scope=col>impulseTOsigmoid_padj</th><th scope=col>sigmoidTOconst_p</th><th scope=col>sigmoidTOconst_padj</th><th scope=col>isTransient</th><th scope=col>isMonotonous</th><th scope=col>allZero</th></tr>\n",
       "\t<tr><th></th><th scope=col>&lt;chr&gt;</th><th scope=col>&lt;dbl&gt;</th><th scope=col>&lt;dbl&gt;</th><th scope=col>&lt;dbl&gt;</th><th scope=col>&lt;dbl&gt;</th><th scope=col>&lt;dbl&gt;</th><th scope=col>&lt;dbl&gt;</th><th scope=col>&lt;dbl&gt;</th><th scope=col>&lt;int&gt;</th><th scope=col>&lt;int&gt;</th><th scope=col>&lt;int&gt;</th><th scope=col>&lt;int&gt;</th><th scope=col>&lt;dbl&gt;</th><th scope=col>&lt;dbl&gt;</th><th scope=col>&lt;dbl&gt;</th><th scope=col>&lt;dbl&gt;</th><th scope=col>&lt;lgl&gt;</th><th scope=col>&lt;lgl&gt;</th><th scope=col>&lt;lgl&gt;</th></tr>\n",
       "</thead>\n",
       "<tbody>\n",
       "\t<tr><th scope=row>DDB_G0267178</th><td>DDB_G0267178</td><td>0.9873099</td><td>1</td><td>-28.32730</td><td>-28.80410</td><td>13</td><td>7</td><td>0.6401749</td><td>0</td><td>0</td><td>0</td><td>0</td><td>0.8505324</td><td>1</td><td>0.9654890</td><td>1</td><td>FALSE</td><td>FALSE</td><td>FALSE</td></tr>\n",
       "\t<tr><th scope=row>DDB_G0267180</th><td>DDB_G0267180</td><td>0.8777502</td><td>1</td><td>-38.99125</td><td>-40.19924</td><td>13</td><td>7</td><td>1.3022343</td><td>0</td><td>0</td><td>0</td><td>0</td><td>0.9951139</td><td>1</td><td>0.9115181</td><td>1</td><td>FALSE</td><td>FALSE</td><td>FALSE</td></tr>\n",
       "\t<tr><th scope=row>DDB_G0267182</th><td>DDB_G0267182</td><td>0.9150785</td><td>1</td><td>-42.46995</td><td>-43.49476</td><td>13</td><td>7</td><td>1.7407631</td><td>0</td><td>0</td><td>0</td><td>0</td><td>0.9824593</td><td>1</td><td>0.9718440</td><td>1</td><td>FALSE</td><td>FALSE</td><td>FALSE</td></tr>\n",
       "</tbody>\n",
       "</table>\n"
      ],
      "text/latex": [
       "A data.frame: 3 × 19\n",
       "\\begin{tabular}{r|lllllllllllllllllll}\n",
       "  & Gene & p & padj & loglik\\_full & loglik\\_red & df\\_full & df\\_red & mean & converge\\_combined & converge\\_case & converge\\_control & converge\\_sigmoid & impulseTOsigmoid\\_p & impulseTOsigmoid\\_padj & sigmoidTOconst\\_p & sigmoidTOconst\\_padj & isTransient & isMonotonous & allZero\\\\\n",
       "  & <chr> & <dbl> & <dbl> & <dbl> & <dbl> & <dbl> & <dbl> & <dbl> & <int> & <int> & <int> & <int> & <dbl> & <dbl> & <dbl> & <dbl> & <lgl> & <lgl> & <lgl>\\\\\n",
       "\\hline\n",
       "\tDDB\\_G0267178 & DDB\\_G0267178 & 0.9873099 & 1 & -28.32730 & -28.80410 & 13 & 7 & 0.6401749 & 0 & 0 & 0 & 0 & 0.8505324 & 1 & 0.9654890 & 1 & FALSE & FALSE & FALSE\\\\\n",
       "\tDDB\\_G0267180 & DDB\\_G0267180 & 0.8777502 & 1 & -38.99125 & -40.19924 & 13 & 7 & 1.3022343 & 0 & 0 & 0 & 0 & 0.9951139 & 1 & 0.9115181 & 1 & FALSE & FALSE & FALSE\\\\\n",
       "\tDDB\\_G0267182 & DDB\\_G0267182 & 0.9150785 & 1 & -42.46995 & -43.49476 & 13 & 7 & 1.7407631 & 0 & 0 & 0 & 0 & 0.9824593 & 1 & 0.9718440 & 1 & FALSE & FALSE & FALSE\\\\\n",
       "\\end{tabular}\n"
      ],
      "text/markdown": [
       "\n",
       "A data.frame: 3 × 19\n",
       "\n",
       "| <!--/--> | Gene &lt;chr&gt; | p &lt;dbl&gt; | padj &lt;dbl&gt; | loglik_full &lt;dbl&gt; | loglik_red &lt;dbl&gt; | df_full &lt;dbl&gt; | df_red &lt;dbl&gt; | mean &lt;dbl&gt; | converge_combined &lt;int&gt; | converge_case &lt;int&gt; | converge_control &lt;int&gt; | converge_sigmoid &lt;int&gt; | impulseTOsigmoid_p &lt;dbl&gt; | impulseTOsigmoid_padj &lt;dbl&gt; | sigmoidTOconst_p &lt;dbl&gt; | sigmoidTOconst_padj &lt;dbl&gt; | isTransient &lt;lgl&gt; | isMonotonous &lt;lgl&gt; | allZero &lt;lgl&gt; |\n",
       "|---|---|---|---|---|---|---|---|---|---|---|---|---|---|---|---|---|---|---|---|\n",
       "| DDB_G0267178 | DDB_G0267178 | 0.9873099 | 1 | -28.32730 | -28.80410 | 13 | 7 | 0.6401749 | 0 | 0 | 0 | 0 | 0.8505324 | 1 | 0.9654890 | 1 | FALSE | FALSE | FALSE |\n",
       "| DDB_G0267180 | DDB_G0267180 | 0.8777502 | 1 | -38.99125 | -40.19924 | 13 | 7 | 1.3022343 | 0 | 0 | 0 | 0 | 0.9951139 | 1 | 0.9115181 | 1 | FALSE | FALSE | FALSE |\n",
       "| DDB_G0267182 | DDB_G0267182 | 0.9150785 | 1 | -42.46995 | -43.49476 | 13 | 7 | 1.7407631 | 0 | 0 | 0 | 0 | 0.9824593 | 1 | 0.9718440 | 1 | FALSE | FALSE | FALSE |\n",
       "\n"
      ],
      "text/plain": [
       "             Gene         p         padj loglik_full loglik_red df_full df_red\n",
       "DDB_G0267178 DDB_G0267178 0.9873099 1    -28.32730   -28.80410  13      7     \n",
       "DDB_G0267180 DDB_G0267180 0.8777502 1    -38.99125   -40.19924  13      7     \n",
       "DDB_G0267182 DDB_G0267182 0.9150785 1    -42.46995   -43.49476  13      7     \n",
       "             mean      converge_combined converge_case converge_control\n",
       "DDB_G0267178 0.6401749 0                 0             0               \n",
       "DDB_G0267180 1.3022343 0                 0             0               \n",
       "DDB_G0267182 1.7407631 0                 0             0               \n",
       "             converge_sigmoid impulseTOsigmoid_p impulseTOsigmoid_padj\n",
       "DDB_G0267178 0                0.8505324          1                    \n",
       "DDB_G0267180 0                0.9951139          1                    \n",
       "DDB_G0267182 0                0.9824593          1                    \n",
       "             sigmoidTOconst_p sigmoidTOconst_padj isTransient isMonotonous\n",
       "DDB_G0267178 0.9654890        1                   FALSE       FALSE       \n",
       "DDB_G0267180 0.9115181        1                   FALSE       FALSE       \n",
       "DDB_G0267182 0.9718440        1                   FALSE       FALSE       \n",
       "             allZero\n",
       "DDB_G0267178 FALSE  \n",
       "DDB_G0267180 FALSE  \n",
       "DDB_G0267182 FALSE  "
      ]
     },
     "metadata": {},
     "output_type": "display_data"
    }
   ],
   "source": [
    "objectImpulseDE2$dfImpulseDE2Results[1:3,]"
   ]
  },
  {
   "cell_type": "code",
   "execution_count": 19,
   "metadata": {},
   "outputs": [
    {
     "name": "stdout",
     "output_type": "stream",
     "text": [
      "[1] \"Setting boolSimplePlot=TRUE as no batch structure was found.\"\n"
     ]
    }
   ],
   "source": [
    "library(ggplot2)\n",
    "lsgplotsGenes <- plotGenes(\n",
    "vecGeneIDs = NULL,\n",
    "scaNTopIDs = 10,\n",
    "objectImpulseDE2 = objectImpulseDE2,\n",
    "boolCaseCtrl =TRUE,\n",
    "dirOut = NULL,\n",
    "strFileName = NULL,\n",
    "vecRefPval = NULL,\n",
    "strNameRefMethod = NULL)"
   ]
  },
  {
   "cell_type": "code",
   "execution_count": 32,
   "metadata": {},
   "outputs": [
    {
     "data": {
      "image/png": "[encoded data removed]",
      "text/plain": [
       "plot without title"
      ]
     },
     "metadata": {
      "image/png": {
       "height": 420,
       "width": 420
      },
      "text/plain": {
       "height": 420,
       "width": 420
      }
     },
     "output_type": "display_data"
    }
   ],
   "source": [
    "print(lsgplotsGenes[[9]])"
   ]
  },
  {
   "cell_type": "markdown",
   "metadata": {},
   "source": [
    "## DE AX4 vs tgrB1/B1C1 at specific timepoints for DESeq2 filtering"
   ]
  },
  {
   "cell_type": "code",
   "execution_count": 38,
   "metadata": {},
   "outputs": [
    {
     "name": "stdout",
     "output_type": "stream",
     "text": [
      "[1] \"37 16 21\"\n"
     ]
    },
    {
     "name": "stderr",
     "output_type": "stream",
     "text": [
      "ImpulseDE2 for count data, v1.10.0\n",
      "\n",
      "# Process input\n",
      "\n"
     ]
    },
    {
     "name": "stdout",
     "output_type": "stream",
     "text": [
      "Processing Details:\n",
      "ImpulseDE2 runs in case-ctrl mode.\n",
      "Found time points: 6,8,10,12\n",
      "Case: Found the samples at time point 6: tgrB1_r1_06h_13_S29_L003_R1_001_mappedGene_expressions_All_milestone_mRNA_gff,tgrB1_r2_06h_23_S39_L002_R1_001_mappedGene_expressions_All_milestone_mRNA_gff,tgrB1C1_r1_06h_3_S19_L003_R1_001_mappedGene_expressions_All_milestone_mRNA_gff,tgrB1C1_r2_06h_3_S19_L002_R1_001_mappedGene_expressions_All_milestone_mRNA_gff\n",
      "Case: Found the samples at time point 8: tgrB1_r1_08h_14_S30_L003_R1_001_mappedGene_expressions_All_milestone_mRNA_gff,tgrB1_r2_08h_24_S40_L002_R1_001_mappedGene_expressions_All_milestone_mRNA_gff,tgrB1C1_r1_08h_4_S20_L003_R1_001_mappedGene_expressions_All_milestone_mRNA_gff,tgrB1C1_r2_08h_4_S20_L002_R1_001_mappedGene_expressions_All_milestone_mRNA_gff\n",
      "Case: Found the samples at time point 10: tgrB1_r1_10h_15_S31_L003_R1_001_mappedGene_expressions_All_milestone_mRNA_gff,tgrB1_r2_10h_25_S41_L002_R1_001_mappedGene_expressions_All_milestone_mRNA_gff,tgrB1C1_r1_10h_5_S21_L003_R1_001_mappedGene_expressions_All_milestone_mRNA_gff,tgrB1C1_r2_10h_5_S21_L002_R1_001_mappedGene_expressions_All_milestone_mRNA_gff\n",
      "Case: Found the samples at time point 12: tgrB1_r1_12h_16_S32_L003_R1_001_mappedGene_expressions_All_milestone_mRNA_gff,tgrB1_r2_12h_26_S42_L002_R1_001_mappedGene_expressions_All_milestone_mRNA_gff,tgrB1C1_r1_12h_6_S22_L003_R1_001_mappedGene_expressions_All_milestone_mRNA_gff,tgrB1C1_r2_12h_6_S22_L002_R1_001_mappedGene_expressions_All_milestone_mRNA_gff\n",
      "Control: Found the following samples at time point 6:FDpool01_CTCGATG_Hr06_mappedGene_expressions_All_milestone_mRNA_gff,FDpool02_CTCGATG_Hr06_mappedGene_expressions_All_milestone_mRNA_gff,Pool26_AX4_bio2_hr06_7_CTCGATG_mappedGene_expressions_All_milestone_mRNA_gff,pool27_AX4_bio1_hr06_7_CTCGATG_mappedGene_expressions_All_milestone_mRNA_gff,Pool29_AX4_bio2_hr06_1_TCGCAGG_mappedGene_expressions_All_milestone_mRNA_gff\n",
      "Control: Found the following samples at time point 8:FDpool01_CCGGTAC_Hr08_mappedGene_expressions_All_milestone_mRNA_gff,FDpool02_ACCAACT_Hr08_mappedGene_expressions_All_milestone_mRNA_gff,Ax4_r1_08h_11_S88_L002_R1_001_mappedGene_expressions_All_milestone_mRNA_gff,Ax4_r2_08h_11_S60_L003_R1_001_mappedGene_expressions_All_milestone_mRNA_gff,Pool26_AX4_bio2_hr08_8_GCTCGAA_mappedGene_expressions_All_milestone_mRNA_gff,pool27_AX4_bio1_hr08_8_GCTCGAA_mappedGene_expressions_All_milestone_mRNA_gff,Pool29_AX4_bio2_hr08_2_CTCTGCA_mappedGene_expressions_All_milestone_mRNA_gff\n",
      "Control: Found the following samples at time point 10:FDpool01_TTGAAGT_Hr10_mappedGene_expressions_All_milestone_mRNA_gff,FDpool02_AACTCCG_Hr10_mappedGene_expressions_All_milestone_mRNA_gff\n",
      "Control: Found the following samples at time point 12:FDpool01_CAATATG_Hr12_mappedGene_expressions_All_milestone_mRNA_gff,FDpool02_ACTATCA_Hr12_mappedGene_expressions_All_milestone_mRNA_gff,Ax4_r1_12h_12_S89_L002_R1_001_mappedGene_expressions_All_milestone_mRNA_gff,Ax4_r2_12h_12_S61_L003_R1_001_mappedGene_expressions_All_milestone_mRNA_gff,Pool26_AX4_bio2_hr12_9_ACCAACT_mappedGene_expressions_All_milestone_mRNA_gff,pool27_AX4_bio1_hr12_9_ACCAACT_mappedGene_expressions_All_milestone_mRNA_gff,Pool29_AX4_bio2_hr12_3_CCTAGGT_mappedGene_expressions_All_milestone_mRNA_gff\n",
      "Input contained 12828 genes/regions.\n",
      "WARNING: 642 out of 12828 genes do not have obserserved non-zero counts and are excluded.\n",
      "Selected 12186 genes/regions for analysis.\n"
     ]
    },
    {
     "name": "stderr",
     "output_type": "stream",
     "text": [
      "# Run DESeq2: Using dispersion factorscomputed by DESeq2.\n",
      "\n",
      "gene-wise dispersion estimates\n",
      "\n",
      "mean-dispersion relationship\n",
      "\n",
      "final dispersion estimates\n",
      "\n"
     ]
    },
    {
     "name": "stdout",
     "output_type": "stream",
     "text": [
      "[1] \"Corrected 27 DESEq2 dispersion estimates which to avoid variance overestimation and loss of discriminatory power for model selection.\"\n"
     ]
    },
    {
     "name": "stderr",
     "output_type": "stream",
     "text": [
      "Consumed time: 0.12 min.\n",
      "\n",
      "# Compute size factors\n",
      "\n",
      "# Fitting null and alternative model to the genes\n",
      "\n",
      "Consumed time: 2.24 min.\n",
      "\n",
      "# Differentially expression analysis based on model fits\n",
      "\n",
      "Finished running ImpulseDE2.\n",
      "\n",
      "TOTAL consumed time: 2.38 min.\n",
      "\n"
     ]
    }
   ],
   "source": [
    "times=c(6,8,10,12)\n",
    "case=conditions[conditions$Strain %in% c('tgrB1','tgrB1C1') & conditions$Time %in% times, c('Time','Strain')]\n",
    "control=conditions[conditions$Strain=='AX4' & conditions$Time %in% times, c('Time','Strain')]\n",
    "case[,'Condition']='case'\n",
    "control[,'Condition']='control'\n",
    "conditions_sub<-rbind(case,control)    \n",
    "conditions_sub[,'Sample']=rownames(conditions_sub)\n",
    "\n",
    "conditions_sub<-conditions_sub[order(conditions_sub$Time),]\n",
    "X=genes[,conditions_sub$Sample]\n",
    "print(paste(nrow(conditions_sub), nrow(case),nrow(control)))\n",
    "#print(conditions_sub)\n",
    "objectImpulseDE2 <- runImpulseDE2(matCountData = as.matrix(X), dfAnnotation = conditions_sub,boolCaseCtrl = TRUE,\n",
    "                                  vecConfounders = NULL,\n",
    "                                  boolIdentifyTransients = FALSE,scaNProc = 40)\n",
    "\n",
    "saveRDS(object=objectImpulseDE2,file=paste(pathSave,'DE_tgrB1tgrB1C1_ref_AX4_times',paste(times,collapse='-'),\n",
    "                                           '.rds',sep=''))\n",
    "result<-objectImpulseDE2$dfImpulseDE2Results\n",
    "result<-result[! is.na(result$padj),]\n",
    "write.table(result,paste(pathSave,'DE_',strain,'_ref_AX4_times',paste(times,collapse='-'),'.tsv',sep=''),\n",
    "            sep='\\t',col.names = NA)\n"
   ]
  },
  {
   "cell_type": "code",
   "execution_count": 39,
   "metadata": {},
   "outputs": [
    {
     "data": {
      "text/html": [
       "'/home/khrovatin/timeTrajectoriesNet/data/stages/disagg/impulse/betweenStrains/DE_gbfA_ref_AX4_times6-8-10-12.tsv'"
      ],
      "text/latex": [
       "'/home/khrovatin/timeTrajectoriesNet/data/stages/disagg/impulse/betweenStrains/DE\\_gbfA\\_ref\\_AX4\\_times6-8-10-12.tsv'"
      ],
      "text/markdown": [
       "'/home/khrovatin/timeTrajectoriesNet/data/stages/disagg/impulse/betweenStrains/DE_gbfA_ref_AX4_times6-8-10-12.tsv'"
      ],
      "text/plain": [
       "[1] \"/home/khrovatin/timeTrajectoriesNet/data/stages/disagg/impulse/betweenStrains/DE_gbfA_ref_AX4_times6-8-10-12.tsv\""
      ]
     },
     "metadata": {},
     "output_type": "display_data"
    }
   ],
   "source": [
    "paste(pathSave,'DE_',strain,'_ref_AX4_times',paste(times,collapse='-'),'.tsv',sep='')"
   ]
  },
  {
   "cell_type": "code",
   "execution_count": null,
   "metadata": {},
   "outputs": [],
   "source": []
  }
 ],
 "metadata": {
  "kernelspec": {
   "display_name": "R",
   "language": "R",
   "name": "ir"
  },
  "language_info": {
   "codemirror_mode": "r",
   "file_extension": ".r",
   "mimetype": "text/x-r-source",
   "name": "R",
   "pygments_lexer": "r",
   "version": "3.6.1"
  }
 },
 "nbformat": 4,
 "nbformat_minor": 4
}
