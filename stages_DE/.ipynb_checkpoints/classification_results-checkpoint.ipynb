{
 "cells": [
  {
   "cell_type": "markdown",
   "metadata": {},
   "source": [
    "## Compare best regression and tree models\n",
    "In order to predict phenotypes from expression data different classification methods were used. These included tree based random forest and logistic regression based chain and binary relevance classifiers. Classificator chain produces a model for each target in order, by using original features and the labels of previously modeled target features as features. Binary relevance constructs a model for each target separately and then predicts the final label set as a union of predictuions from target feature specific models. A binary relevance model was also built that downweighetd samples with many phenotype labels. Here are presented results of best tree based and regression based classifiers. From regression classifiers the unweighted binary relevance classifier was selected.\n",
    "\n",
    "For each of the methods the relevant parameters were selected with 5-fold cross validation and OOB error for trees. Here are presented best models' 5-fold cross validation results obtained on training data.  "
   ]
  },
  {
   "cell_type": "code",
   "execution_count": 25,
   "metadata": {},
   "outputs": [],
   "source": [
    "import os\n",
    "import sys\n",
    "from importlib import reload\n",
    "\n",
    "module_path = os.path.abspath(os.path.join('..'))\n",
    "if module_path not in sys.path:\n",
    "    sys.path.insert(0,module_path)\n",
    "\n",
    "\n",
    "import pandas as pd\n",
    "import numpy as np\n",
    "#alt.renderers.enable('notebook')\n",
    "from IPython.display import display\n",
    "\n",
    "import stages_DE.stages_library\n",
    "import importlib\n",
    "importlib.reload(stages_DE.stages_library)\n",
    "\n",
    "from networks.functionsDENet import loadPickle,savePickle\n",
    "from stages_DE.stages_library import PHENOTYPES, summary_classification, scatter_catgory"
   ]
  },
  {
   "cell_type": "code",
   "execution_count": 6,
   "metadata": {},
   "outputs": [],
   "source": [
    "proteus=True\n",
    "if proteus:\n",
    "    pathClassification = '/home/khrovatin/timeTrajectoriesNet/data/stages/classification/'\n",
    "else:\n",
    "    pathClassification = '/home/karin/Documents/timeTrajectories/data/stages/classification/'"
   ]
  },
  {
   "cell_type": "code",
   "execution_count": 27,
   "metadata": {},
   "outputs": [],
   "source": [
    "data_binary=loadPickle(pathClassification+'logisticRegressionBinaryRelevance.pkl')\n",
    "data_forest=loadPickle(pathClassification+'randomForest.pkl')\n",
    "order=loadPickle(pathClassification+'target_order.pkl')"
   ]
  },
  {
   "cell_type": "code",
   "execution_count": null,
   "metadata": {},
   "outputs": [],
   "source": [
    "prfs_binary=data_binary['prfs'].query('C==2')\n",
    "prfs_binary['Model']=['logRegBinary']*prfs_binary.shape[0]\n",
    "prfs_forest=data_forest['prfs']\n",
    "prfs_forest['Model']=['forest']*prfs_forest.shape[0]\n",
    "prfs=pd.concat([prfs_binary,prfs_forest])\n",
    "\n",
    "features_binary=data_binary['featsN'].query('C==2')\n",
    "features_binary['Model']=['logRegBinary']*features_binary.shape[0]\n",
    "features_forest=data_forest['featsN']\n",
    "features_forest['Model']=['forest']*features_forest.shape[0]\n",
    "features=pd.concat([features_binary,features_forest])"
   ]
  },
  {
   "cell_type": "markdown",
   "metadata": {},
   "source": [
    "Comparison of F_score, precision,recall and N used features (genes) across stages and folds for each of the two cklassifiers. Points on plots are results from individual folds. Abbreviations: forest - random forest model, logRegBinary - logistic regression binary relevance model, all - micro average over all samples (each sample is given equal weight), macro - "
   ]
  },
  {
   "cell_type": "code",
   "execution_count": 26,
   "metadata": {},
   "outputs": [
    {
     "data": {
      "text/html": [
       "\n",
       "<div id=\"altair-viz-34d6b3ab28604deb8cddab580f625174\"></div>\n",
       "<script type=\"text/javascript\">\n",
       "  (function(spec, embedOpt){\n",
       "    const outputDiv = document.getElementById(\"altair-viz-34d6b3ab28604deb8cddab580f625174\");\n",
       "    const paths = {\n",
       "      \"vega\": \"https://cdn.jsdelivr.net/npm//vega@5?noext\",\n",
       "      \"vega-lib\": \"https://cdn.jsdelivr.net/npm//vega-lib?noext\",\n",
       "      \"vega-lite\": \"https://cdn.jsdelivr.net/npm//vega-lite@4.0.2?noext\",\n",
       "      \"vega-embed\": \"https://cdn.jsdelivr.net/npm//vega-embed@6?noext\",\n",
       "    };\n",
       "\n",
       "    function loadScript(lib) {\n",
       "      return new Promise(function(resolve, reject) {\n",
       "        var s = document.createElement('script');\n",
       "        s.src = paths[lib];\n",
       "        s.async = true;\n",
       "        s.onload = () => resolve(paths[lib]);\n",
       "        s.onerror = () => reject(`Error loading script: ${paths[lib]}`);\n",
       "        document.getElementsByTagName(\"head\")[0].appendChild(s);\n",
       "      });\n",
       "    }\n",
       "\n",
       "    function showError(err) {\n",
       "      outputDiv.innerHTML = `<div class=\"error\" style=\"color:red;\">${err}</div>`;\n",
       "      throw err;\n",
       "    }\n",
       "\n",
       "    function displayChart(vegaEmbed) {\n",
       "      vegaEmbed(outputDiv, spec, embedOpt)\n",
       "        .catch(err => showError(`Javascript Error: ${err.message}<br>This usually means there's a typo in your chart specification. See the javascript console for the full traceback.`));\n",
       "    }\n",
       "\n",
       "    if(typeof define === \"function\" && define.amd) {\n",
       "      requirejs.config({paths});\n",
       "      require([\"vega-embed\"], displayChart, err => showError(`Error loading script: ${err.message}`));\n",
       "    } else if (typeof vegaEmbed === \"function\") {\n",
       "      displayChart(vegaEmbed);\n",
       "    } else {\n",
       "      loadScript(\"vega\")\n",
       "        .then(() => loadScript(\"vega-lite\"))\n",
       "        .then(() => loadScript(\"vega-embed\"))\n",
       "        .catch(showError)\n",
       "        .then(() => displayChart(vegaEmbed));\n",
       "    }\n",
       "  })({\"config\": {\"view\": {\"continuousWidth\": 400, \"continuousHeight\": 300}, \"facet\": {\"spacing\": 0}}, \"data\": {\"name\": \"data-52baba6373e9375bbdc77493ecc69466\"}, \"mark\": {\"type\": \"point\", \"size\": 20}, \"encoding\": {\"color\": {\"type\": \"nominal\", \"field\": \"Stage\"}, \"column\": {\"type\": \"nominal\", \"field\": \"Model\", \"header\": {\"labelAlign\": \"center\", \"labelAngle\": 0, \"labelOrient\": \"bottom\", \"labelPadding\": 10, \"titleOrient\": \"bottom\"}}, \"shape\": {\"type\": \"nominal\", \"field\": \"Stage\"}, \"x\": {\"type\": \"quantitative\", \"axis\": {\"grid\": false, \"labels\": false, \"ticks\": true, \"values\": [0]}, \"field\": \"jitter\", \"scale\": {}, \"title\": null}, \"y\": {\"type\": \"quantitative\", \"axis\": {\"grid\": false}, \"field\": \"F_score\"}}, \"title\": \"\", \"transform\": [{\"calculate\": \"sqrt(-2*log(random()))*cos(2*PI*random())\", \"as\": \"jitter\"}], \"width\": 120, \"$schema\": \"https://vega.github.io/schema/vega-lite/v4.0.2.json\", \"datasets\": {\"data-52baba6373e9375bbdc77493ecc69466\": [{\"precision\": 0.8928571428571429, \"recall\": 0.8928571428571429, \"F_score\": 0.8928571428571429, \"support\": 28.0, \"Stage\": \"no_agg\", \"C\": 2.0, \"Model\": \"logRegBinary\"}, {\"precision\": 0.5714285714285714, \"recall\": 0.4, \"F_score\": 0.47058823529411764, \"support\": 10.0, \"Stage\": \"stream\", \"C\": 2.0, \"Model\": \"logRegBinary\"}, {\"precision\": 0.9230769230769231, \"recall\": 0.8, \"F_score\": 0.8571428571428571, \"support\": 15.0, \"Stage\": \"lag\", \"C\": 2.0, \"Model\": \"logRegBinary\"}, {\"precision\": 0.8333333333333334, \"recall\": 0.45454545454545453, \"F_score\": 0.5882352941176471, \"support\": 11.0, \"Stage\": \"tag\", \"C\": 2.0, \"Model\": \"logRegBinary\"}, {\"precision\": 1.0, \"recall\": 0.5, \"F_score\": 0.6666666666666666, \"support\": 4.0, \"Stage\": \"tip\", \"C\": 2.0, \"Model\": \"logRegBinary\"}, {\"precision\": 1.0, \"recall\": 0.6, \"F_score\": 0.7499999999999999, \"support\": 10.0, \"Stage\": \"slug\", \"C\": 2.0, \"Model\": \"logRegBinary\"}, {\"precision\": 0.0, \"recall\": 0.0, \"F_score\": 0.0, \"support\": 2.0, \"Stage\": \"mhat\", \"C\": 2.0, \"Model\": \"logRegBinary\"}, {\"precision\": 1.0, \"recall\": 0.8, \"F_score\": 0.888888888888889, \"support\": 5.0, \"Stage\": \"cul\", \"C\": 2.0, \"Model\": \"logRegBinary\"}, {\"precision\": 1.0, \"recall\": 0.5, \"F_score\": 0.6666666666666666, \"support\": 4.0, \"Stage\": \"FB\", \"C\": 2.0, \"Model\": \"logRegBinary\"}, {\"precision\": 0.5, \"recall\": 0.3333333333333333, \"F_score\": 0.4, \"support\": 3.0, \"Stage\": \"disappear\", \"C\": 2.0, \"Model\": \"logRegBinary\"}, {\"precision\": 0.8714285714285714, \"recall\": 0.6630434782608695, \"F_score\": 0.7530864197530863, \"support\": null, \"Stage\": \"all\", \"C\": 2.0, \"Model\": \"logRegBinary\"}, {\"precision\": 0.88, \"recall\": 0.7857142857142857, \"F_score\": 0.830188679245283, \"support\": 28.0, \"Stage\": \"no_agg\", \"C\": 2.0, \"Model\": \"logRegBinary\"}, {\"precision\": 0.4444444444444444, \"recall\": 0.4, \"F_score\": 0.4210526315789474, \"support\": 10.0, \"Stage\": \"stream\", \"C\": 2.0, \"Model\": \"logRegBinary\"}, {\"precision\": 0.8888888888888888, \"recall\": 0.5714285714285714, \"F_score\": 0.6956521739130435, \"support\": 14.0, \"Stage\": \"lag\", \"C\": 2.0, \"Model\": \"logRegBinary\"}, {\"precision\": 0.8181818181818182, \"recall\": 0.75, \"F_score\": 0.7826086956521738, \"support\": 12.0, \"Stage\": \"tag\", \"C\": 2.0, \"Model\": \"logRegBinary\"}, {\"precision\": 1.0, \"recall\": 0.25, \"F_score\": 0.4, \"support\": 4.0, \"Stage\": \"tip\", \"C\": 2.0, \"Model\": \"logRegBinary\"}, {\"precision\": 0.8333333333333334, \"recall\": 0.5, \"F_score\": 0.625, \"support\": 10.0, \"Stage\": \"slug\", \"C\": 2.0, \"Model\": \"logRegBinary\"}, {\"precision\": 1.0, \"recall\": 0.5, \"F_score\": 0.6666666666666666, \"support\": 2.0, \"Stage\": \"mhat\", \"C\": 2.0, \"Model\": \"logRegBinary\"}, {\"precision\": 0.5, \"recall\": 0.4, \"F_score\": 0.4444444444444445, \"support\": 5.0, \"Stage\": \"cul\", \"C\": 2.0, \"Model\": \"logRegBinary\"}, {\"precision\": 0.4, \"recall\": 0.6666666666666666, \"F_score\": 0.5, \"support\": 3.0, \"Stage\": \"FB\", \"C\": 2.0, \"Model\": \"logRegBinary\"}, {\"precision\": 0.0, \"recall\": 0.0, \"F_score\": 0.0, \"support\": 3.0, \"Stage\": \"disappear\", \"C\": 2.0, \"Model\": \"logRegBinary\"}, {\"precision\": 0.7605633802816901, \"recall\": 0.5934065934065934, \"F_score\": 0.6666666666666667, \"support\": null, \"Stage\": \"all\", \"C\": 2.0, \"Model\": \"logRegBinary\"}, {\"precision\": 0.78125, \"recall\": 0.8928571428571429, \"F_score\": 0.8333333333333334, \"support\": 28.0, \"Stage\": \"no_agg\", \"C\": 2.0, \"Model\": \"logRegBinary\"}, {\"precision\": 0.75, \"recall\": 0.3, \"F_score\": 0.4285714285714285, \"support\": 10.0, \"Stage\": \"stream\", \"C\": 2.0, \"Model\": \"logRegBinary\"}, {\"precision\": 0.8461538461538461, \"recall\": 0.7333333333333333, \"F_score\": 0.7857142857142856, \"support\": 15.0, \"Stage\": \"lag\", \"C\": 2.0, \"Model\": \"logRegBinary\"}, {\"precision\": 0.8, \"recall\": 0.6666666666666666, \"F_score\": 0.7272727272727272, \"support\": 12.0, \"Stage\": \"tag\", \"C\": 2.0, \"Model\": \"logRegBinary\"}, {\"precision\": 1.0, \"recall\": 0.25, \"F_score\": 0.4, \"support\": 4.0, \"Stage\": \"tip\", \"C\": 2.0, \"Model\": \"logRegBinary\"}, {\"precision\": 0.875, \"recall\": 0.7, \"F_score\": 0.7777777777777777, \"support\": 10.0, \"Stage\": \"slug\", \"C\": 2.0, \"Model\": \"logRegBinary\"}, {\"precision\": 0.6666666666666666, \"recall\": 1.0, \"F_score\": 0.8, \"support\": 2.0, \"Stage\": \"mhat\", \"C\": 2.0, \"Model\": \"logRegBinary\"}, {\"precision\": 1.0, \"recall\": 1.0, \"F_score\": 1.0, \"support\": 6.0, \"Stage\": \"cul\", \"C\": 2.0, \"Model\": \"logRegBinary\"}, {\"precision\": 1.0, \"recall\": 1.0, \"F_score\": 1.0, \"support\": 5.0, \"Stage\": \"FB\", \"C\": 2.0, \"Model\": \"logRegBinary\"}, {\"precision\": 1.0, \"recall\": 0.3333333333333333, \"F_score\": 0.5, \"support\": 3.0, \"Stage\": \"disappear\", \"C\": 2.0, \"Model\": \"logRegBinary\"}, {\"precision\": 0.8313253012048193, \"recall\": 0.7263157894736842, \"F_score\": 0.7752808988764045, \"support\": null, \"Stage\": \"all\", \"C\": 2.0, \"Model\": \"logRegBinary\"}, {\"precision\": 0.92, \"recall\": 0.8518518518518519, \"F_score\": 0.8846153846153846, \"support\": 27.0, \"Stage\": \"no_agg\", \"C\": 2.0, \"Model\": \"logRegBinary\"}, {\"precision\": 0.625, \"recall\": 0.5555555555555556, \"F_score\": 0.5882352941176471, \"support\": 9.0, \"Stage\": \"stream\", \"C\": 2.0, \"Model\": \"logRegBinary\"}, {\"precision\": 0.7142857142857143, \"recall\": 0.7142857142857143, \"F_score\": 0.7142857142857143, \"support\": 14.0, \"Stage\": \"lag\", \"C\": 2.0, \"Model\": \"logRegBinary\"}, {\"precision\": 0.8333333333333334, \"recall\": 0.9090909090909091, \"F_score\": 0.8695652173913043, \"support\": 11.0, \"Stage\": \"tag\", \"C\": 2.0, \"Model\": \"logRegBinary\"}, {\"precision\": 0.5, \"recall\": 0.2, \"F_score\": 0.28571428571428575, \"support\": 5.0, \"Stage\": \"tip\", \"C\": 2.0, \"Model\": \"logRegBinary\"}, {\"precision\": 0.625, \"recall\": 0.5, \"F_score\": 0.5555555555555556, \"support\": 10.0, \"Stage\": \"slug\", \"C\": 2.0, \"Model\": \"logRegBinary\"}, {\"precision\": 0.5, \"recall\": 0.6666666666666666, \"F_score\": 0.5714285714285715, \"support\": 3.0, \"Stage\": \"mhat\", \"C\": 2.0, \"Model\": \"logRegBinary\"}, {\"precision\": 0.75, \"recall\": 1.0, \"F_score\": 0.8571428571428571, \"support\": 6.0, \"Stage\": \"cul\", \"C\": 2.0, \"Model\": \"logRegBinary\"}, {\"precision\": 0.6666666666666666, \"recall\": 0.5, \"F_score\": 0.5714285714285715, \"support\": 4.0, \"Stage\": \"FB\", \"C\": 2.0, \"Model\": \"logRegBinary\"}, {\"precision\": 0.3333333333333333, \"recall\": 0.25, \"F_score\": 0.28571428571428575, \"support\": 4.0, \"Stage\": \"disappear\", \"C\": 2.0, \"Model\": \"logRegBinary\"}, {\"precision\": 0.7471264367816092, \"recall\": 0.6989247311827957, \"F_score\": 0.7222222222222223, \"support\": null, \"Stage\": \"all\", \"C\": 2.0, \"Model\": \"logRegBinary\"}, {\"precision\": 0.8461538461538461, \"recall\": 0.8148148148148148, \"F_score\": 0.830188679245283, \"support\": 27.0, \"Stage\": \"no_agg\", \"C\": 2.0, \"Model\": \"logRegBinary\"}, {\"precision\": 0.7142857142857143, \"recall\": 0.5, \"F_score\": 0.588235294117647, \"support\": 10.0, \"Stage\": \"stream\", \"C\": 2.0, \"Model\": \"logRegBinary\"}, {\"precision\": 0.6666666666666666, \"recall\": 0.5714285714285714, \"F_score\": 0.6153846153846153, \"support\": 14.0, \"Stage\": \"lag\", \"C\": 2.0, \"Model\": \"logRegBinary\"}, {\"precision\": 1.0, \"recall\": 0.7272727272727273, \"F_score\": 0.8421052631578948, \"support\": 11.0, \"Stage\": \"tag\", \"C\": 2.0, \"Model\": \"logRegBinary\"}, {\"precision\": 1.0, \"recall\": 0.5, \"F_score\": 0.6666666666666666, \"support\": 4.0, \"Stage\": \"tip\", \"C\": 2.0, \"Model\": \"logRegBinary\"}, {\"precision\": 0.7142857142857143, \"recall\": 0.5, \"F_score\": 0.588235294117647, \"support\": 10.0, \"Stage\": \"slug\", \"C\": 2.0, \"Model\": \"logRegBinary\"}, {\"precision\": 1.0, \"recall\": 0.5, \"F_score\": 0.6666666666666666, \"support\": 2.0, \"Stage\": \"mhat\", \"C\": 2.0, \"Model\": \"logRegBinary\"}, {\"precision\": 1.0, \"recall\": 0.6, \"F_score\": 0.7499999999999999, \"support\": 5.0, \"Stage\": \"cul\", \"C\": 2.0, \"Model\": \"logRegBinary\"}, {\"precision\": 0.5, \"recall\": 0.3333333333333333, \"F_score\": 0.4, \"support\": 3.0, \"Stage\": \"FB\", \"C\": 2.0, \"Model\": \"logRegBinary\"}, {\"precision\": 0.5, \"recall\": 0.5, \"F_score\": 0.5, \"support\": 4.0, \"Stage\": \"disappear\", \"C\": 2.0, \"Model\": \"logRegBinary\"}, {\"precision\": 0.7916666666666666, \"recall\": 0.6333333333333333, \"F_score\": 0.7037037037037038, \"support\": null, \"Stage\": \"all\", \"C\": 2.0, \"Model\": \"logRegBinary\"}, {\"precision\": 0.9130434782608695, \"recall\": 0.75, \"F_score\": 0.8235294117647057, \"support\": 28.0, \"Stage\": \"no_agg\", \"C\": null, \"Model\": \"forest\"}, {\"precision\": 0.6666666666666666, \"recall\": 0.6, \"F_score\": 0.631578947368421, \"support\": 10.0, \"Stage\": \"stream\", \"C\": null, \"Model\": \"forest\"}, {\"precision\": 0.6428571428571429, \"recall\": 0.6428571428571429, \"F_score\": 0.6428571428571429, \"support\": 14.0, \"Stage\": \"lag\", \"C\": null, \"Model\": \"forest\"}, {\"precision\": 0.8888888888888888, \"recall\": 0.7272727272727273, \"F_score\": 0.7999999999999999, \"support\": 11.0, \"Stage\": \"tag\", \"C\": null, \"Model\": \"forest\"}, {\"precision\": 1.0, \"recall\": 0.25, \"F_score\": 0.4, \"support\": 4.0, \"Stage\": \"tip\", \"C\": null, \"Model\": \"forest\"}, {\"precision\": 0.8571428571428571, \"recall\": 0.6, \"F_score\": 0.7058823529411764, \"support\": 10.0, \"Stage\": \"slug\", \"C\": null, \"Model\": \"forest\"}, {\"precision\": 1.0, \"recall\": 1.0, \"F_score\": 1.0, \"support\": 2.0, \"Stage\": \"mhat\", \"C\": null, \"Model\": \"forest\"}, {\"precision\": 0.625, \"recall\": 1.0, \"F_score\": 0.7692307692307693, \"support\": 5.0, \"Stage\": \"cul\", \"C\": null, \"Model\": \"forest\"}, {\"precision\": 0.75, \"recall\": 0.75, \"F_score\": 0.75, \"support\": 4.0, \"Stage\": \"FB\", \"C\": null, \"Model\": \"forest\"}, {\"precision\": 0.5, \"recall\": 0.3333333333333333, \"F_score\": 0.4, \"support\": 3.0, \"Stage\": \"disappear\", \"C\": null, \"Model\": \"forest\"}, {\"precision\": 0.7848101265822784, \"recall\": 0.6813186813186813, \"F_score\": 0.7294117647058823, \"support\": null, \"Stage\": \"all\", \"C\": null, \"Model\": \"forest\"}, {\"precision\": 0.9545454545454546, \"recall\": 0.75, \"F_score\": 0.84, \"support\": 28.0, \"Stage\": \"no_agg\", \"C\": null, \"Model\": \"forest\"}, {\"precision\": 0.6363636363636364, \"recall\": 0.7, \"F_score\": 0.6666666666666666, \"support\": 10.0, \"Stage\": \"stream\", \"C\": null, \"Model\": \"forest\"}, {\"precision\": 0.9166666666666666, \"recall\": 0.7333333333333333, \"F_score\": 0.8148148148148148, \"support\": 15.0, \"Stage\": \"lag\", \"C\": null, \"Model\": \"forest\"}, {\"precision\": 0.6363636363636364, \"recall\": 0.6363636363636364, \"F_score\": 0.6363636363636364, \"support\": 11.0, \"Stage\": \"tag\", \"C\": null, \"Model\": \"forest\"}, {\"precision\": 0.25, \"recall\": 0.2, \"F_score\": 0.22222222222222224, \"support\": 5.0, \"Stage\": \"tip\", \"C\": null, \"Model\": \"forest\"}, {\"precision\": 0.6666666666666666, \"recall\": 0.8, \"F_score\": 0.7272727272727272, \"support\": 10.0, \"Stage\": \"slug\", \"C\": null, \"Model\": \"forest\"}, {\"precision\": 0.5, \"recall\": 0.5, \"F_score\": 0.5, \"support\": 2.0, \"Stage\": \"mhat\", \"C\": null, \"Model\": \"forest\"}, {\"precision\": 0.625, \"recall\": 0.8333333333333334, \"F_score\": 0.7142857142857143, \"support\": 6.0, \"Stage\": \"cul\", \"C\": null, \"Model\": \"forest\"}, {\"precision\": 0.6, \"recall\": 0.75, \"F_score\": 0.6666666666666665, \"support\": 4.0, \"Stage\": \"FB\", \"C\": null, \"Model\": \"forest\"}, {\"precision\": 0.0, \"recall\": 0.0, \"F_score\": 0.0, \"support\": 3.0, \"Stage\": \"disappear\", \"C\": null, \"Model\": \"forest\"}, {\"precision\": 0.7272727272727273, \"recall\": 0.6808510638297872, \"F_score\": 0.7032967032967034, \"support\": null, \"Stage\": \"all\", \"C\": null, \"Model\": \"forest\"}, {\"precision\": 0.92, \"recall\": 0.8518518518518519, \"F_score\": 0.8846153846153846, \"support\": 27.0, \"Stage\": \"no_agg\", \"C\": null, \"Model\": \"forest\"}, {\"precision\": 0.5555555555555556, \"recall\": 0.5, \"F_score\": 0.5263157894736842, \"support\": 10.0, \"Stage\": \"stream\", \"C\": null, \"Model\": \"forest\"}, {\"precision\": 0.6, \"recall\": 0.8571428571428571, \"F_score\": 0.7058823529411764, \"support\": 14.0, \"Stage\": \"lag\", \"C\": null, \"Model\": \"forest\"}, {\"precision\": 0.6428571428571429, \"recall\": 0.8181818181818182, \"F_score\": 0.7200000000000001, \"support\": 11.0, \"Stage\": \"tag\", \"C\": null, \"Model\": \"forest\"}, {\"precision\": 0.25, \"recall\": 0.25, \"F_score\": 0.25, \"support\": 4.0, \"Stage\": \"tip\", \"C\": null, \"Model\": \"forest\"}, {\"precision\": 0.6363636363636364, \"recall\": 0.7, \"F_score\": 0.6666666666666666, \"support\": 10.0, \"Stage\": \"slug\", \"C\": null, \"Model\": \"forest\"}, {\"precision\": 1.0, \"recall\": 0.5, \"F_score\": 0.6666666666666666, \"support\": 2.0, \"Stage\": \"mhat\", \"C\": null, \"Model\": \"forest\"}, {\"precision\": 0.625, \"recall\": 1.0, \"F_score\": 0.7692307692307693, \"support\": 5.0, \"Stage\": \"cul\", \"C\": null, \"Model\": \"forest\"}, {\"precision\": 0.5, \"recall\": 1.0, \"F_score\": 0.6666666666666666, \"support\": 3.0, \"Stage\": \"FB\", \"C\": null, \"Model\": \"forest\"}, {\"precision\": 1.0, \"recall\": 0.25, \"F_score\": 0.4, \"support\": 4.0, \"Stage\": \"disappear\", \"C\": null, \"Model\": \"forest\"}, {\"precision\": 0.6767676767676768, \"recall\": 0.7444444444444445, \"F_score\": 0.708994708994709, \"support\": null, \"Stage\": \"all\", \"C\": null, \"Model\": \"forest\"}, {\"precision\": 0.9047619047619048, \"recall\": 0.6785714285714286, \"F_score\": 0.7755102040816326, \"support\": 28.0, \"Stage\": \"no_agg\", \"C\": null, \"Model\": \"forest\"}, {\"precision\": 0.5555555555555556, \"recall\": 0.5555555555555556, \"F_score\": 0.5555555555555556, \"support\": 9.0, \"Stage\": \"stream\", \"C\": null, \"Model\": \"forest\"}, {\"precision\": 0.631578947368421, \"recall\": 0.8, \"F_score\": 0.7058823529411765, \"support\": 15.0, \"Stage\": \"lag\", \"C\": null, \"Model\": \"forest\"}, {\"precision\": 0.75, \"recall\": 0.5, \"F_score\": 0.6, \"support\": 12.0, \"Stage\": \"tag\", \"C\": null, \"Model\": \"forest\"}, {\"precision\": 0.0, \"recall\": 0.0, \"F_score\": 0.0, \"support\": 4.0, \"Stage\": \"tip\", \"C\": null, \"Model\": \"forest\"}, {\"precision\": 0.46153846153846156, \"recall\": 0.6, \"F_score\": 0.5217391304347826, \"support\": 10.0, \"Stage\": \"slug\", \"C\": null, \"Model\": \"forest\"}, {\"precision\": 0.5, \"recall\": 1.0, \"F_score\": 0.6666666666666666, \"support\": 3.0, \"Stage\": \"mhat\", \"C\": null, \"Model\": \"forest\"}, {\"precision\": 0.5, \"recall\": 1.0, \"F_score\": 0.6666666666666666, \"support\": 6.0, \"Stage\": \"cul\", \"C\": null, \"Model\": \"forest\"}, {\"precision\": 0.5714285714285714, \"recall\": 1.0, \"F_score\": 0.7272727272727273, \"support\": 4.0, \"Stage\": \"FB\", \"C\": null, \"Model\": \"forest\"}, {\"precision\": 0.25, \"recall\": 0.3333333333333333, \"F_score\": 0.28571428571428575, \"support\": 3.0, \"Stage\": \"disappear\", \"C\": null, \"Model\": \"forest\"}, {\"precision\": 0.6138613861386139, \"recall\": 0.6595744680851063, \"F_score\": 0.6358974358974359, \"support\": null, \"Stage\": \"all\", \"C\": null, \"Model\": \"forest\"}, {\"precision\": 0.875, \"recall\": 0.7777777777777778, \"F_score\": 0.823529411764706, \"support\": 27.0, \"Stage\": \"no_agg\", \"C\": null, \"Model\": \"forest\"}, {\"precision\": 0.6666666666666666, \"recall\": 0.4, \"F_score\": 0.5, \"support\": 10.0, \"Stage\": \"stream\", \"C\": null, \"Model\": \"forest\"}, {\"precision\": 0.9, \"recall\": 0.6428571428571429, \"F_score\": 0.75, \"support\": 14.0, \"Stage\": \"lag\", \"C\": null, \"Model\": \"forest\"}, {\"precision\": 0.6666666666666666, \"recall\": 0.8333333333333334, \"F_score\": 0.7407407407407408, \"support\": 12.0, \"Stage\": \"tag\", \"C\": null, \"Model\": \"forest\"}, {\"precision\": 0.6666666666666666, \"recall\": 0.5, \"F_score\": 0.5714285714285715, \"support\": 4.0, \"Stage\": \"tip\", \"C\": null, \"Model\": \"forest\"}, {\"precision\": 0.75, \"recall\": 0.6, \"F_score\": 0.6666666666666665, \"support\": 10.0, \"Stage\": \"slug\", \"C\": null, \"Model\": \"forest\"}, {\"precision\": 1.0, \"recall\": 1.0, \"F_score\": 1.0, \"support\": 2.0, \"Stage\": \"mhat\", \"C\": null, \"Model\": \"forest\"}, {\"precision\": 0.5, \"recall\": 0.6, \"F_score\": 0.5454545454545454, \"support\": 5.0, \"Stage\": \"cul\", \"C\": null, \"Model\": \"forest\"}, {\"precision\": 0.5, \"recall\": 0.5, \"F_score\": 0.5, \"support\": 4.0, \"Stage\": \"FB\", \"C\": null, \"Model\": \"forest\"}, {\"precision\": 1.0, \"recall\": 0.25, \"F_score\": 0.4, \"support\": 4.0, \"Stage\": \"disappear\", \"C\": null, \"Model\": \"forest\"}, {\"precision\": 0.759493670886076, \"recall\": 0.6521739130434783, \"F_score\": 0.7017543859649124, \"support\": null, \"Stage\": \"all\", \"C\": null, \"Model\": \"forest\"}]}}, {\"mode\": \"vega-lite\"});\n",
       "</script>"
      ],
      "text/plain": [
       "alt.Chart(...)"
      ]
     },
     "metadata": {},
     "output_type": "display_data"
    },
    {
     "data": {
      "text/html": [
       "\n",
       "<div id=\"altair-viz-0927c2f63c9d424591b07102ab253fd1\"></div>\n",
       "<script type=\"text/javascript\">\n",
       "  (function(spec, embedOpt){\n",
       "    const outputDiv = document.getElementById(\"altair-viz-0927c2f63c9d424591b07102ab253fd1\");\n",
       "    const paths = {\n",
       "      \"vega\": \"https://cdn.jsdelivr.net/npm//vega@5?noext\",\n",
       "      \"vega-lib\": \"https://cdn.jsdelivr.net/npm//vega-lib?noext\",\n",
       "      \"vega-lite\": \"https://cdn.jsdelivr.net/npm//vega-lite@4.0.2?noext\",\n",
       "      \"vega-embed\": \"https://cdn.jsdelivr.net/npm//vega-embed@6?noext\",\n",
       "    };\n",
       "\n",
       "    function loadScript(lib) {\n",
       "      return new Promise(function(resolve, reject) {\n",
       "        var s = document.createElement('script');\n",
       "        s.src = paths[lib];\n",
       "        s.async = true;\n",
       "        s.onload = () => resolve(paths[lib]);\n",
       "        s.onerror = () => reject(`Error loading script: ${paths[lib]}`);\n",
       "        document.getElementsByTagName(\"head\")[0].appendChild(s);\n",
       "      });\n",
       "    }\n",
       "\n",
       "    function showError(err) {\n",
       "      outputDiv.innerHTML = `<div class=\"error\" style=\"color:red;\">${err}</div>`;\n",
       "      throw err;\n",
       "    }\n",
       "\n",
       "    function displayChart(vegaEmbed) {\n",
       "      vegaEmbed(outputDiv, spec, embedOpt)\n",
       "        .catch(err => showError(`Javascript Error: ${err.message}<br>This usually means there's a typo in your chart specification. See the javascript console for the full traceback.`));\n",
       "    }\n",
       "\n",
       "    if(typeof define === \"function\" && define.amd) {\n",
       "      requirejs.config({paths});\n",
       "      require([\"vega-embed\"], displayChart, err => showError(`Error loading script: ${err.message}`));\n",
       "    } else if (typeof vegaEmbed === \"function\") {\n",
       "      displayChart(vegaEmbed);\n",
       "    } else {\n",
       "      loadScript(\"vega\")\n",
       "        .then(() => loadScript(\"vega-lite\"))\n",
       "        .then(() => loadScript(\"vega-embed\"))\n",
       "        .catch(showError)\n",
       "        .then(() => displayChart(vegaEmbed));\n",
       "    }\n",
       "  })({\"config\": {\"view\": {\"continuousWidth\": 400, \"continuousHeight\": 300}, \"facet\": {\"spacing\": 0}}, \"data\": {\"name\": \"data-52baba6373e9375bbdc77493ecc69466\"}, \"mark\": {\"type\": \"point\", \"size\": 20}, \"encoding\": {\"color\": {\"type\": \"nominal\", \"field\": \"Stage\"}, \"column\": {\"type\": \"nominal\", \"field\": \"Model\", \"header\": {\"labelAlign\": \"center\", \"labelAngle\": 0, \"labelOrient\": \"bottom\", \"labelPadding\": 10, \"titleOrient\": \"bottom\"}}, \"shape\": {\"type\": \"nominal\", \"field\": \"Stage\"}, \"x\": {\"type\": \"quantitative\", \"axis\": {\"grid\": false, \"labels\": false, \"ticks\": true, \"values\": [0]}, \"field\": \"jitter\", \"scale\": {}, \"title\": null}, \"y\": {\"type\": \"quantitative\", \"axis\": {\"grid\": false}, \"field\": \"precision\"}}, \"title\": \"\", \"transform\": [{\"calculate\": \"sqrt(-2*log(random()))*cos(2*PI*random())\", \"as\": \"jitter\"}], \"width\": 120, \"$schema\": \"https://vega.github.io/schema/vega-lite/v4.0.2.json\", \"datasets\": {\"data-52baba6373e9375bbdc77493ecc69466\": [{\"precision\": 0.8928571428571429, \"recall\": 0.8928571428571429, \"F_score\": 0.8928571428571429, \"support\": 28.0, \"Stage\": \"no_agg\", \"C\": 2.0, \"Model\": \"logRegBinary\"}, {\"precision\": 0.5714285714285714, \"recall\": 0.4, \"F_score\": 0.47058823529411764, \"support\": 10.0, \"Stage\": \"stream\", \"C\": 2.0, \"Model\": \"logRegBinary\"}, {\"precision\": 0.9230769230769231, \"recall\": 0.8, \"F_score\": 0.8571428571428571, \"support\": 15.0, \"Stage\": \"lag\", \"C\": 2.0, \"Model\": \"logRegBinary\"}, {\"precision\": 0.8333333333333334, \"recall\": 0.45454545454545453, \"F_score\": 0.5882352941176471, \"support\": 11.0, \"Stage\": \"tag\", \"C\": 2.0, \"Model\": \"logRegBinary\"}, {\"precision\": 1.0, \"recall\": 0.5, \"F_score\": 0.6666666666666666, \"support\": 4.0, \"Stage\": \"tip\", \"C\": 2.0, \"Model\": \"logRegBinary\"}, {\"precision\": 1.0, \"recall\": 0.6, \"F_score\": 0.7499999999999999, \"support\": 10.0, \"Stage\": \"slug\", \"C\": 2.0, \"Model\": \"logRegBinary\"}, {\"precision\": 0.0, \"recall\": 0.0, \"F_score\": 0.0, \"support\": 2.0, \"Stage\": \"mhat\", \"C\": 2.0, \"Model\": \"logRegBinary\"}, {\"precision\": 1.0, \"recall\": 0.8, \"F_score\": 0.888888888888889, \"support\": 5.0, \"Stage\": \"cul\", \"C\": 2.0, \"Model\": \"logRegBinary\"}, {\"precision\": 1.0, \"recall\": 0.5, \"F_score\": 0.6666666666666666, \"support\": 4.0, \"Stage\": \"FB\", \"C\": 2.0, \"Model\": \"logRegBinary\"}, {\"precision\": 0.5, \"recall\": 0.3333333333333333, \"F_score\": 0.4, \"support\": 3.0, \"Stage\": \"disappear\", \"C\": 2.0, \"Model\": \"logRegBinary\"}, {\"precision\": 0.8714285714285714, \"recall\": 0.6630434782608695, \"F_score\": 0.7530864197530863, \"support\": null, \"Stage\": \"all\", \"C\": 2.0, \"Model\": \"logRegBinary\"}, {\"precision\": 0.88, \"recall\": 0.7857142857142857, \"F_score\": 0.830188679245283, \"support\": 28.0, \"Stage\": \"no_agg\", \"C\": 2.0, \"Model\": \"logRegBinary\"}, {\"precision\": 0.4444444444444444, \"recall\": 0.4, \"F_score\": 0.4210526315789474, \"support\": 10.0, \"Stage\": \"stream\", \"C\": 2.0, \"Model\": \"logRegBinary\"}, {\"precision\": 0.8888888888888888, \"recall\": 0.5714285714285714, \"F_score\": 0.6956521739130435, \"support\": 14.0, \"Stage\": \"lag\", \"C\": 2.0, \"Model\": \"logRegBinary\"}, {\"precision\": 0.8181818181818182, \"recall\": 0.75, \"F_score\": 0.7826086956521738, \"support\": 12.0, \"Stage\": \"tag\", \"C\": 2.0, \"Model\": \"logRegBinary\"}, {\"precision\": 1.0, \"recall\": 0.25, \"F_score\": 0.4, \"support\": 4.0, \"Stage\": \"tip\", \"C\": 2.0, \"Model\": \"logRegBinary\"}, {\"precision\": 0.8333333333333334, \"recall\": 0.5, \"F_score\": 0.625, \"support\": 10.0, \"Stage\": \"slug\", \"C\": 2.0, \"Model\": \"logRegBinary\"}, {\"precision\": 1.0, \"recall\": 0.5, \"F_score\": 0.6666666666666666, \"support\": 2.0, \"Stage\": \"mhat\", \"C\": 2.0, \"Model\": \"logRegBinary\"}, {\"precision\": 0.5, \"recall\": 0.4, \"F_score\": 0.4444444444444445, \"support\": 5.0, \"Stage\": \"cul\", \"C\": 2.0, \"Model\": \"logRegBinary\"}, {\"precision\": 0.4, \"recall\": 0.6666666666666666, \"F_score\": 0.5, \"support\": 3.0, \"Stage\": \"FB\", \"C\": 2.0, \"Model\": \"logRegBinary\"}, {\"precision\": 0.0, \"recall\": 0.0, \"F_score\": 0.0, \"support\": 3.0, \"Stage\": \"disappear\", \"C\": 2.0, \"Model\": \"logRegBinary\"}, {\"precision\": 0.7605633802816901, \"recall\": 0.5934065934065934, \"F_score\": 0.6666666666666667, \"support\": null, \"Stage\": \"all\", \"C\": 2.0, \"Model\": \"logRegBinary\"}, {\"precision\": 0.78125, \"recall\": 0.8928571428571429, \"F_score\": 0.8333333333333334, \"support\": 28.0, \"Stage\": \"no_agg\", \"C\": 2.0, \"Model\": \"logRegBinary\"}, {\"precision\": 0.75, \"recall\": 0.3, \"F_score\": 0.4285714285714285, \"support\": 10.0, \"Stage\": \"stream\", \"C\": 2.0, \"Model\": \"logRegBinary\"}, {\"precision\": 0.8461538461538461, \"recall\": 0.7333333333333333, \"F_score\": 0.7857142857142856, \"support\": 15.0, \"Stage\": \"lag\", \"C\": 2.0, \"Model\": \"logRegBinary\"}, {\"precision\": 0.8, \"recall\": 0.6666666666666666, \"F_score\": 0.7272727272727272, \"support\": 12.0, \"Stage\": \"tag\", \"C\": 2.0, \"Model\": \"logRegBinary\"}, {\"precision\": 1.0, \"recall\": 0.25, \"F_score\": 0.4, \"support\": 4.0, \"Stage\": \"tip\", \"C\": 2.0, \"Model\": \"logRegBinary\"}, {\"precision\": 0.875, \"recall\": 0.7, \"F_score\": 0.7777777777777777, \"support\": 10.0, \"Stage\": \"slug\", \"C\": 2.0, \"Model\": \"logRegBinary\"}, {\"precision\": 0.6666666666666666, \"recall\": 1.0, \"F_score\": 0.8, \"support\": 2.0, \"Stage\": \"mhat\", \"C\": 2.0, \"Model\": \"logRegBinary\"}, {\"precision\": 1.0, \"recall\": 1.0, \"F_score\": 1.0, \"support\": 6.0, \"Stage\": \"cul\", \"C\": 2.0, \"Model\": \"logRegBinary\"}, {\"precision\": 1.0, \"recall\": 1.0, \"F_score\": 1.0, \"support\": 5.0, \"Stage\": \"FB\", \"C\": 2.0, \"Model\": \"logRegBinary\"}, {\"precision\": 1.0, \"recall\": 0.3333333333333333, \"F_score\": 0.5, \"support\": 3.0, \"Stage\": \"disappear\", \"C\": 2.0, \"Model\": \"logRegBinary\"}, {\"precision\": 0.8313253012048193, \"recall\": 0.7263157894736842, \"F_score\": 0.7752808988764045, \"support\": null, \"Stage\": \"all\", \"C\": 2.0, \"Model\": \"logRegBinary\"}, {\"precision\": 0.92, \"recall\": 0.8518518518518519, \"F_score\": 0.8846153846153846, \"support\": 27.0, \"Stage\": \"no_agg\", \"C\": 2.0, \"Model\": \"logRegBinary\"}, {\"precision\": 0.625, \"recall\": 0.5555555555555556, \"F_score\": 0.5882352941176471, \"support\": 9.0, \"Stage\": \"stream\", \"C\": 2.0, \"Model\": \"logRegBinary\"}, {\"precision\": 0.7142857142857143, \"recall\": 0.7142857142857143, \"F_score\": 0.7142857142857143, \"support\": 14.0, \"Stage\": \"lag\", \"C\": 2.0, \"Model\": \"logRegBinary\"}, {\"precision\": 0.8333333333333334, \"recall\": 0.9090909090909091, \"F_score\": 0.8695652173913043, \"support\": 11.0, \"Stage\": \"tag\", \"C\": 2.0, \"Model\": \"logRegBinary\"}, {\"precision\": 0.5, \"recall\": 0.2, \"F_score\": 0.28571428571428575, \"support\": 5.0, \"Stage\": \"tip\", \"C\": 2.0, \"Model\": \"logRegBinary\"}, {\"precision\": 0.625, \"recall\": 0.5, \"F_score\": 0.5555555555555556, \"support\": 10.0, \"Stage\": \"slug\", \"C\": 2.0, \"Model\": \"logRegBinary\"}, {\"precision\": 0.5, \"recall\": 0.6666666666666666, \"F_score\": 0.5714285714285715, \"support\": 3.0, \"Stage\": \"mhat\", \"C\": 2.0, \"Model\": \"logRegBinary\"}, {\"precision\": 0.75, \"recall\": 1.0, \"F_score\": 0.8571428571428571, \"support\": 6.0, \"Stage\": \"cul\", \"C\": 2.0, \"Model\": \"logRegBinary\"}, {\"precision\": 0.6666666666666666, \"recall\": 0.5, \"F_score\": 0.5714285714285715, \"support\": 4.0, \"Stage\": \"FB\", \"C\": 2.0, \"Model\": \"logRegBinary\"}, {\"precision\": 0.3333333333333333, \"recall\": 0.25, \"F_score\": 0.28571428571428575, \"support\": 4.0, \"Stage\": \"disappear\", \"C\": 2.0, \"Model\": \"logRegBinary\"}, {\"precision\": 0.7471264367816092, \"recall\": 0.6989247311827957, \"F_score\": 0.7222222222222223, \"support\": null, \"Stage\": \"all\", \"C\": 2.0, \"Model\": \"logRegBinary\"}, {\"precision\": 0.8461538461538461, \"recall\": 0.8148148148148148, \"F_score\": 0.830188679245283, \"support\": 27.0, \"Stage\": \"no_agg\", \"C\": 2.0, \"Model\": \"logRegBinary\"}, {\"precision\": 0.7142857142857143, \"recall\": 0.5, \"F_score\": 0.588235294117647, \"support\": 10.0, \"Stage\": \"stream\", \"C\": 2.0, \"Model\": \"logRegBinary\"}, {\"precision\": 0.6666666666666666, \"recall\": 0.5714285714285714, \"F_score\": 0.6153846153846153, \"support\": 14.0, \"Stage\": \"lag\", \"C\": 2.0, \"Model\": \"logRegBinary\"}, {\"precision\": 1.0, \"recall\": 0.7272727272727273, \"F_score\": 0.8421052631578948, \"support\": 11.0, \"Stage\": \"tag\", \"C\": 2.0, \"Model\": \"logRegBinary\"}, {\"precision\": 1.0, \"recall\": 0.5, \"F_score\": 0.6666666666666666, \"support\": 4.0, \"Stage\": \"tip\", \"C\": 2.0, \"Model\": \"logRegBinary\"}, {\"precision\": 0.7142857142857143, \"recall\": 0.5, \"F_score\": 0.588235294117647, \"support\": 10.0, \"Stage\": \"slug\", \"C\": 2.0, \"Model\": \"logRegBinary\"}, {\"precision\": 1.0, \"recall\": 0.5, \"F_score\": 0.6666666666666666, \"support\": 2.0, \"Stage\": \"mhat\", \"C\": 2.0, \"Model\": \"logRegBinary\"}, {\"precision\": 1.0, \"recall\": 0.6, \"F_score\": 0.7499999999999999, \"support\": 5.0, \"Stage\": \"cul\", \"C\": 2.0, \"Model\": \"logRegBinary\"}, {\"precision\": 0.5, \"recall\": 0.3333333333333333, \"F_score\": 0.4, \"support\": 3.0, \"Stage\": \"FB\", \"C\": 2.0, \"Model\": \"logRegBinary\"}, {\"precision\": 0.5, \"recall\": 0.5, \"F_score\": 0.5, \"support\": 4.0, \"Stage\": \"disappear\", \"C\": 2.0, \"Model\": \"logRegBinary\"}, {\"precision\": 0.7916666666666666, \"recall\": 0.6333333333333333, \"F_score\": 0.7037037037037038, \"support\": null, \"Stage\": \"all\", \"C\": 2.0, \"Model\": \"logRegBinary\"}, {\"precision\": 0.9130434782608695, \"recall\": 0.75, \"F_score\": 0.8235294117647057, \"support\": 28.0, \"Stage\": \"no_agg\", \"C\": null, \"Model\": \"forest\"}, {\"precision\": 0.6666666666666666, \"recall\": 0.6, \"F_score\": 0.631578947368421, \"support\": 10.0, \"Stage\": \"stream\", \"C\": null, \"Model\": \"forest\"}, {\"precision\": 0.6428571428571429, \"recall\": 0.6428571428571429, \"F_score\": 0.6428571428571429, \"support\": 14.0, \"Stage\": \"lag\", \"C\": null, \"Model\": \"forest\"}, {\"precision\": 0.8888888888888888, \"recall\": 0.7272727272727273, \"F_score\": 0.7999999999999999, \"support\": 11.0, \"Stage\": \"tag\", \"C\": null, \"Model\": \"forest\"}, {\"precision\": 1.0, \"recall\": 0.25, \"F_score\": 0.4, \"support\": 4.0, \"Stage\": \"tip\", \"C\": null, \"Model\": \"forest\"}, {\"precision\": 0.8571428571428571, \"recall\": 0.6, \"F_score\": 0.7058823529411764, \"support\": 10.0, \"Stage\": \"slug\", \"C\": null, \"Model\": \"forest\"}, {\"precision\": 1.0, \"recall\": 1.0, \"F_score\": 1.0, \"support\": 2.0, \"Stage\": \"mhat\", \"C\": null, \"Model\": \"forest\"}, {\"precision\": 0.625, \"recall\": 1.0, \"F_score\": 0.7692307692307693, \"support\": 5.0, \"Stage\": \"cul\", \"C\": null, \"Model\": \"forest\"}, {\"precision\": 0.75, \"recall\": 0.75, \"F_score\": 0.75, \"support\": 4.0, \"Stage\": \"FB\", \"C\": null, \"Model\": \"forest\"}, {\"precision\": 0.5, \"recall\": 0.3333333333333333, \"F_score\": 0.4, \"support\": 3.0, \"Stage\": \"disappear\", \"C\": null, \"Model\": \"forest\"}, {\"precision\": 0.7848101265822784, \"recall\": 0.6813186813186813, \"F_score\": 0.7294117647058823, \"support\": null, \"Stage\": \"all\", \"C\": null, \"Model\": \"forest\"}, {\"precision\": 0.9545454545454546, \"recall\": 0.75, \"F_score\": 0.84, \"support\": 28.0, \"Stage\": \"no_agg\", \"C\": null, \"Model\": \"forest\"}, {\"precision\": 0.6363636363636364, \"recall\": 0.7, \"F_score\": 0.6666666666666666, \"support\": 10.0, \"Stage\": \"stream\", \"C\": null, \"Model\": \"forest\"}, {\"precision\": 0.9166666666666666, \"recall\": 0.7333333333333333, \"F_score\": 0.8148148148148148, \"support\": 15.0, \"Stage\": \"lag\", \"C\": null, \"Model\": \"forest\"}, {\"precision\": 0.6363636363636364, \"recall\": 0.6363636363636364, \"F_score\": 0.6363636363636364, \"support\": 11.0, \"Stage\": \"tag\", \"C\": null, \"Model\": \"forest\"}, {\"precision\": 0.25, \"recall\": 0.2, \"F_score\": 0.22222222222222224, \"support\": 5.0, \"Stage\": \"tip\", \"C\": null, \"Model\": \"forest\"}, {\"precision\": 0.6666666666666666, \"recall\": 0.8, \"F_score\": 0.7272727272727272, \"support\": 10.0, \"Stage\": \"slug\", \"C\": null, \"Model\": \"forest\"}, {\"precision\": 0.5, \"recall\": 0.5, \"F_score\": 0.5, \"support\": 2.0, \"Stage\": \"mhat\", \"C\": null, \"Model\": \"forest\"}, {\"precision\": 0.625, \"recall\": 0.8333333333333334, \"F_score\": 0.7142857142857143, \"support\": 6.0, \"Stage\": \"cul\", \"C\": null, \"Model\": \"forest\"}, {\"precision\": 0.6, \"recall\": 0.75, \"F_score\": 0.6666666666666665, \"support\": 4.0, \"Stage\": \"FB\", \"C\": null, \"Model\": \"forest\"}, {\"precision\": 0.0, \"recall\": 0.0, \"F_score\": 0.0, \"support\": 3.0, \"Stage\": \"disappear\", \"C\": null, \"Model\": \"forest\"}, {\"precision\": 0.7272727272727273, \"recall\": 0.6808510638297872, \"F_score\": 0.7032967032967034, \"support\": null, \"Stage\": \"all\", \"C\": null, \"Model\": \"forest\"}, {\"precision\": 0.92, \"recall\": 0.8518518518518519, \"F_score\": 0.8846153846153846, \"support\": 27.0, \"Stage\": \"no_agg\", \"C\": null, \"Model\": \"forest\"}, {\"precision\": 0.5555555555555556, \"recall\": 0.5, \"F_score\": 0.5263157894736842, \"support\": 10.0, \"Stage\": \"stream\", \"C\": null, \"Model\": \"forest\"}, {\"precision\": 0.6, \"recall\": 0.8571428571428571, \"F_score\": 0.7058823529411764, \"support\": 14.0, \"Stage\": \"lag\", \"C\": null, \"Model\": \"forest\"}, {\"precision\": 0.6428571428571429, \"recall\": 0.8181818181818182, \"F_score\": 0.7200000000000001, \"support\": 11.0, \"Stage\": \"tag\", \"C\": null, \"Model\": \"forest\"}, {\"precision\": 0.25, \"recall\": 0.25, \"F_score\": 0.25, \"support\": 4.0, \"Stage\": \"tip\", \"C\": null, \"Model\": \"forest\"}, {\"precision\": 0.6363636363636364, \"recall\": 0.7, \"F_score\": 0.6666666666666666, \"support\": 10.0, \"Stage\": \"slug\", \"C\": null, \"Model\": \"forest\"}, {\"precision\": 1.0, \"recall\": 0.5, \"F_score\": 0.6666666666666666, \"support\": 2.0, \"Stage\": \"mhat\", \"C\": null, \"Model\": \"forest\"}, {\"precision\": 0.625, \"recall\": 1.0, \"F_score\": 0.7692307692307693, \"support\": 5.0, \"Stage\": \"cul\", \"C\": null, \"Model\": \"forest\"}, {\"precision\": 0.5, \"recall\": 1.0, \"F_score\": 0.6666666666666666, \"support\": 3.0, \"Stage\": \"FB\", \"C\": null, \"Model\": \"forest\"}, {\"precision\": 1.0, \"recall\": 0.25, \"F_score\": 0.4, \"support\": 4.0, \"Stage\": \"disappear\", \"C\": null, \"Model\": \"forest\"}, {\"precision\": 0.6767676767676768, \"recall\": 0.7444444444444445, \"F_score\": 0.708994708994709, \"support\": null, \"Stage\": \"all\", \"C\": null, \"Model\": \"forest\"}, {\"precision\": 0.9047619047619048, \"recall\": 0.6785714285714286, \"F_score\": 0.7755102040816326, \"support\": 28.0, \"Stage\": \"no_agg\", \"C\": null, \"Model\": \"forest\"}, {\"precision\": 0.5555555555555556, \"recall\": 0.5555555555555556, \"F_score\": 0.5555555555555556, \"support\": 9.0, \"Stage\": \"stream\", \"C\": null, \"Model\": \"forest\"}, {\"precision\": 0.631578947368421, \"recall\": 0.8, \"F_score\": 0.7058823529411765, \"support\": 15.0, \"Stage\": \"lag\", \"C\": null, \"Model\": \"forest\"}, {\"precision\": 0.75, \"recall\": 0.5, \"F_score\": 0.6, \"support\": 12.0, \"Stage\": \"tag\", \"C\": null, \"Model\": \"forest\"}, {\"precision\": 0.0, \"recall\": 0.0, \"F_score\": 0.0, \"support\": 4.0, \"Stage\": \"tip\", \"C\": null, \"Model\": \"forest\"}, {\"precision\": 0.46153846153846156, \"recall\": 0.6, \"F_score\": 0.5217391304347826, \"support\": 10.0, \"Stage\": \"slug\", \"C\": null, \"Model\": \"forest\"}, {\"precision\": 0.5, \"recall\": 1.0, \"F_score\": 0.6666666666666666, \"support\": 3.0, \"Stage\": \"mhat\", \"C\": null, \"Model\": \"forest\"}, {\"precision\": 0.5, \"recall\": 1.0, \"F_score\": 0.6666666666666666, \"support\": 6.0, \"Stage\": \"cul\", \"C\": null, \"Model\": \"forest\"}, {\"precision\": 0.5714285714285714, \"recall\": 1.0, \"F_score\": 0.7272727272727273, \"support\": 4.0, \"Stage\": \"FB\", \"C\": null, \"Model\": \"forest\"}, {\"precision\": 0.25, \"recall\": 0.3333333333333333, \"F_score\": 0.28571428571428575, \"support\": 3.0, \"Stage\": \"disappear\", \"C\": null, \"Model\": \"forest\"}, {\"precision\": 0.6138613861386139, \"recall\": 0.6595744680851063, \"F_score\": 0.6358974358974359, \"support\": null, \"Stage\": \"all\", \"C\": null, \"Model\": \"forest\"}, {\"precision\": 0.875, \"recall\": 0.7777777777777778, \"F_score\": 0.823529411764706, \"support\": 27.0, \"Stage\": \"no_agg\", \"C\": null, \"Model\": \"forest\"}, {\"precision\": 0.6666666666666666, \"recall\": 0.4, \"F_score\": 0.5, \"support\": 10.0, \"Stage\": \"stream\", \"C\": null, \"Model\": \"forest\"}, {\"precision\": 0.9, \"recall\": 0.6428571428571429, \"F_score\": 0.75, \"support\": 14.0, \"Stage\": \"lag\", \"C\": null, \"Model\": \"forest\"}, {\"precision\": 0.6666666666666666, \"recall\": 0.8333333333333334, \"F_score\": 0.7407407407407408, \"support\": 12.0, \"Stage\": \"tag\", \"C\": null, \"Model\": \"forest\"}, {\"precision\": 0.6666666666666666, \"recall\": 0.5, \"F_score\": 0.5714285714285715, \"support\": 4.0, \"Stage\": \"tip\", \"C\": null, \"Model\": \"forest\"}, {\"precision\": 0.75, \"recall\": 0.6, \"F_score\": 0.6666666666666665, \"support\": 10.0, \"Stage\": \"slug\", \"C\": null, \"Model\": \"forest\"}, {\"precision\": 1.0, \"recall\": 1.0, \"F_score\": 1.0, \"support\": 2.0, \"Stage\": \"mhat\", \"C\": null, \"Model\": \"forest\"}, {\"precision\": 0.5, \"recall\": 0.6, \"F_score\": 0.5454545454545454, \"support\": 5.0, \"Stage\": \"cul\", \"C\": null, \"Model\": \"forest\"}, {\"precision\": 0.5, \"recall\": 0.5, \"F_score\": 0.5, \"support\": 4.0, \"Stage\": \"FB\", \"C\": null, \"Model\": \"forest\"}, {\"precision\": 1.0, \"recall\": 0.25, \"F_score\": 0.4, \"support\": 4.0, \"Stage\": \"disappear\", \"C\": null, \"Model\": \"forest\"}, {\"precision\": 0.759493670886076, \"recall\": 0.6521739130434783, \"F_score\": 0.7017543859649124, \"support\": null, \"Stage\": \"all\", \"C\": null, \"Model\": \"forest\"}]}}, {\"mode\": \"vega-lite\"});\n",
       "</script>"
      ],
      "text/plain": [
       "alt.Chart(...)"
      ]
     },
     "metadata": {},
     "output_type": "display_data"
    },
    {
     "data": {
      "text/html": [
       "\n",
       "<div id=\"altair-viz-db791b2911dc4a80b7ce0dbe7f7bfba5\"></div>\n",
       "<script type=\"text/javascript\">\n",
       "  (function(spec, embedOpt){\n",
       "    const outputDiv = document.getElementById(\"altair-viz-db791b2911dc4a80b7ce0dbe7f7bfba5\");\n",
       "    const paths = {\n",
       "      \"vega\": \"https://cdn.jsdelivr.net/npm//vega@5?noext\",\n",
       "      \"vega-lib\": \"https://cdn.jsdelivr.net/npm//vega-lib?noext\",\n",
       "      \"vega-lite\": \"https://cdn.jsdelivr.net/npm//vega-lite@4.0.2?noext\",\n",
       "      \"vega-embed\": \"https://cdn.jsdelivr.net/npm//vega-embed@6?noext\",\n",
       "    };\n",
       "\n",
       "    function loadScript(lib) {\n",
       "      return new Promise(function(resolve, reject) {\n",
       "        var s = document.createElement('script');\n",
       "        s.src = paths[lib];\n",
       "        s.async = true;\n",
       "        s.onload = () => resolve(paths[lib]);\n",
       "        s.onerror = () => reject(`Error loading script: ${paths[lib]}`);\n",
       "        document.getElementsByTagName(\"head\")[0].appendChild(s);\n",
       "      });\n",
       "    }\n",
       "\n",
       "    function showError(err) {\n",
       "      outputDiv.innerHTML = `<div class=\"error\" style=\"color:red;\">${err}</div>`;\n",
       "      throw err;\n",
       "    }\n",
       "\n",
       "    function displayChart(vegaEmbed) {\n",
       "      vegaEmbed(outputDiv, spec, embedOpt)\n",
       "        .catch(err => showError(`Javascript Error: ${err.message}<br>This usually means there's a typo in your chart specification. See the javascript console for the full traceback.`));\n",
       "    }\n",
       "\n",
       "    if(typeof define === \"function\" && define.amd) {\n",
       "      requirejs.config({paths});\n",
       "      require([\"vega-embed\"], displayChart, err => showError(`Error loading script: ${err.message}`));\n",
       "    } else if (typeof vegaEmbed === \"function\") {\n",
       "      displayChart(vegaEmbed);\n",
       "    } else {\n",
       "      loadScript(\"vega\")\n",
       "        .then(() => loadScript(\"vega-lite\"))\n",
       "        .then(() => loadScript(\"vega-embed\"))\n",
       "        .catch(showError)\n",
       "        .then(() => displayChart(vegaEmbed));\n",
       "    }\n",
       "  })({\"config\": {\"view\": {\"continuousWidth\": 400, \"continuousHeight\": 300}, \"facet\": {\"spacing\": 0}}, \"data\": {\"name\": \"data-52baba6373e9375bbdc77493ecc69466\"}, \"mark\": {\"type\": \"point\", \"size\": 20}, \"encoding\": {\"color\": {\"type\": \"nominal\", \"field\": \"Stage\"}, \"column\": {\"type\": \"nominal\", \"field\": \"Model\", \"header\": {\"labelAlign\": \"center\", \"labelAngle\": 0, \"labelOrient\": \"bottom\", \"labelPadding\": 10, \"titleOrient\": \"bottom\"}}, \"shape\": {\"type\": \"nominal\", \"field\": \"Stage\"}, \"x\": {\"type\": \"quantitative\", \"axis\": {\"grid\": false, \"labels\": false, \"ticks\": true, \"values\": [0]}, \"field\": \"jitter\", \"scale\": {}, \"title\": null}, \"y\": {\"type\": \"quantitative\", \"axis\": {\"grid\": false}, \"field\": \"recall\"}}, \"title\": \"\", \"transform\": [{\"calculate\": \"sqrt(-2*log(random()))*cos(2*PI*random())\", \"as\": \"jitter\"}], \"width\": 120, \"$schema\": \"https://vega.github.io/schema/vega-lite/v4.0.2.json\", \"datasets\": {\"data-52baba6373e9375bbdc77493ecc69466\": [{\"precision\": 0.8928571428571429, \"recall\": 0.8928571428571429, \"F_score\": 0.8928571428571429, \"support\": 28.0, \"Stage\": \"no_agg\", \"C\": 2.0, \"Model\": \"logRegBinary\"}, {\"precision\": 0.5714285714285714, \"recall\": 0.4, \"F_score\": 0.47058823529411764, \"support\": 10.0, \"Stage\": \"stream\", \"C\": 2.0, \"Model\": \"logRegBinary\"}, {\"precision\": 0.9230769230769231, \"recall\": 0.8, \"F_score\": 0.8571428571428571, \"support\": 15.0, \"Stage\": \"lag\", \"C\": 2.0, \"Model\": \"logRegBinary\"}, {\"precision\": 0.8333333333333334, \"recall\": 0.45454545454545453, \"F_score\": 0.5882352941176471, \"support\": 11.0, \"Stage\": \"tag\", \"C\": 2.0, \"Model\": \"logRegBinary\"}, {\"precision\": 1.0, \"recall\": 0.5, \"F_score\": 0.6666666666666666, \"support\": 4.0, \"Stage\": \"tip\", \"C\": 2.0, \"Model\": \"logRegBinary\"}, {\"precision\": 1.0, \"recall\": 0.6, \"F_score\": 0.7499999999999999, \"support\": 10.0, \"Stage\": \"slug\", \"C\": 2.0, \"Model\": \"logRegBinary\"}, {\"precision\": 0.0, \"recall\": 0.0, \"F_score\": 0.0, \"support\": 2.0, \"Stage\": \"mhat\", \"C\": 2.0, \"Model\": \"logRegBinary\"}, {\"precision\": 1.0, \"recall\": 0.8, \"F_score\": 0.888888888888889, \"support\": 5.0, \"Stage\": \"cul\", \"C\": 2.0, \"Model\": \"logRegBinary\"}, {\"precision\": 1.0, \"recall\": 0.5, \"F_score\": 0.6666666666666666, \"support\": 4.0, \"Stage\": \"FB\", \"C\": 2.0, \"Model\": \"logRegBinary\"}, {\"precision\": 0.5, \"recall\": 0.3333333333333333, \"F_score\": 0.4, \"support\": 3.0, \"Stage\": \"disappear\", \"C\": 2.0, \"Model\": \"logRegBinary\"}, {\"precision\": 0.8714285714285714, \"recall\": 0.6630434782608695, \"F_score\": 0.7530864197530863, \"support\": null, \"Stage\": \"all\", \"C\": 2.0, \"Model\": \"logRegBinary\"}, {\"precision\": 0.88, \"recall\": 0.7857142857142857, \"F_score\": 0.830188679245283, \"support\": 28.0, \"Stage\": \"no_agg\", \"C\": 2.0, \"Model\": \"logRegBinary\"}, {\"precision\": 0.4444444444444444, \"recall\": 0.4, \"F_score\": 0.4210526315789474, \"support\": 10.0, \"Stage\": \"stream\", \"C\": 2.0, \"Model\": \"logRegBinary\"}, {\"precision\": 0.8888888888888888, \"recall\": 0.5714285714285714, \"F_score\": 0.6956521739130435, \"support\": 14.0, \"Stage\": \"lag\", \"C\": 2.0, \"Model\": \"logRegBinary\"}, {\"precision\": 0.8181818181818182, \"recall\": 0.75, \"F_score\": 0.7826086956521738, \"support\": 12.0, \"Stage\": \"tag\", \"C\": 2.0, \"Model\": \"logRegBinary\"}, {\"precision\": 1.0, \"recall\": 0.25, \"F_score\": 0.4, \"support\": 4.0, \"Stage\": \"tip\", \"C\": 2.0, \"Model\": \"logRegBinary\"}, {\"precision\": 0.8333333333333334, \"recall\": 0.5, \"F_score\": 0.625, \"support\": 10.0, \"Stage\": \"slug\", \"C\": 2.0, \"Model\": \"logRegBinary\"}, {\"precision\": 1.0, \"recall\": 0.5, \"F_score\": 0.6666666666666666, \"support\": 2.0, \"Stage\": \"mhat\", \"C\": 2.0, \"Model\": \"logRegBinary\"}, {\"precision\": 0.5, \"recall\": 0.4, \"F_score\": 0.4444444444444445, \"support\": 5.0, \"Stage\": \"cul\", \"C\": 2.0, \"Model\": \"logRegBinary\"}, {\"precision\": 0.4, \"recall\": 0.6666666666666666, \"F_score\": 0.5, \"support\": 3.0, \"Stage\": \"FB\", \"C\": 2.0, \"Model\": \"logRegBinary\"}, {\"precision\": 0.0, \"recall\": 0.0, \"F_score\": 0.0, \"support\": 3.0, \"Stage\": \"disappear\", \"C\": 2.0, \"Model\": \"logRegBinary\"}, {\"precision\": 0.7605633802816901, \"recall\": 0.5934065934065934, \"F_score\": 0.6666666666666667, \"support\": null, \"Stage\": \"all\", \"C\": 2.0, \"Model\": \"logRegBinary\"}, {\"precision\": 0.78125, \"recall\": 0.8928571428571429, \"F_score\": 0.8333333333333334, \"support\": 28.0, \"Stage\": \"no_agg\", \"C\": 2.0, \"Model\": \"logRegBinary\"}, {\"precision\": 0.75, \"recall\": 0.3, \"F_score\": 0.4285714285714285, \"support\": 10.0, \"Stage\": \"stream\", \"C\": 2.0, \"Model\": \"logRegBinary\"}, {\"precision\": 0.8461538461538461, \"recall\": 0.7333333333333333, \"F_score\": 0.7857142857142856, \"support\": 15.0, \"Stage\": \"lag\", \"C\": 2.0, \"Model\": \"logRegBinary\"}, {\"precision\": 0.8, \"recall\": 0.6666666666666666, \"F_score\": 0.7272727272727272, \"support\": 12.0, \"Stage\": \"tag\", \"C\": 2.0, \"Model\": \"logRegBinary\"}, {\"precision\": 1.0, \"recall\": 0.25, \"F_score\": 0.4, \"support\": 4.0, \"Stage\": \"tip\", \"C\": 2.0, \"Model\": \"logRegBinary\"}, {\"precision\": 0.875, \"recall\": 0.7, \"F_score\": 0.7777777777777777, \"support\": 10.0, \"Stage\": \"slug\", \"C\": 2.0, \"Model\": \"logRegBinary\"}, {\"precision\": 0.6666666666666666, \"recall\": 1.0, \"F_score\": 0.8, \"support\": 2.0, \"Stage\": \"mhat\", \"C\": 2.0, \"Model\": \"logRegBinary\"}, {\"precision\": 1.0, \"recall\": 1.0, \"F_score\": 1.0, \"support\": 6.0, \"Stage\": \"cul\", \"C\": 2.0, \"Model\": \"logRegBinary\"}, {\"precision\": 1.0, \"recall\": 1.0, \"F_score\": 1.0, \"support\": 5.0, \"Stage\": \"FB\", \"C\": 2.0, \"Model\": \"logRegBinary\"}, {\"precision\": 1.0, \"recall\": 0.3333333333333333, \"F_score\": 0.5, \"support\": 3.0, \"Stage\": \"disappear\", \"C\": 2.0, \"Model\": \"logRegBinary\"}, {\"precision\": 0.8313253012048193, \"recall\": 0.7263157894736842, \"F_score\": 0.7752808988764045, \"support\": null, \"Stage\": \"all\", \"C\": 2.0, \"Model\": \"logRegBinary\"}, {\"precision\": 0.92, \"recall\": 0.8518518518518519, \"F_score\": 0.8846153846153846, \"support\": 27.0, \"Stage\": \"no_agg\", \"C\": 2.0, \"Model\": \"logRegBinary\"}, {\"precision\": 0.625, \"recall\": 0.5555555555555556, \"F_score\": 0.5882352941176471, \"support\": 9.0, \"Stage\": \"stream\", \"C\": 2.0, \"Model\": \"logRegBinary\"}, {\"precision\": 0.7142857142857143, \"recall\": 0.7142857142857143, \"F_score\": 0.7142857142857143, \"support\": 14.0, \"Stage\": \"lag\", \"C\": 2.0, \"Model\": \"logRegBinary\"}, {\"precision\": 0.8333333333333334, \"recall\": 0.9090909090909091, \"F_score\": 0.8695652173913043, \"support\": 11.0, \"Stage\": \"tag\", \"C\": 2.0, \"Model\": \"logRegBinary\"}, {\"precision\": 0.5, \"recall\": 0.2, \"F_score\": 0.28571428571428575, \"support\": 5.0, \"Stage\": \"tip\", \"C\": 2.0, \"Model\": \"logRegBinary\"}, {\"precision\": 0.625, \"recall\": 0.5, \"F_score\": 0.5555555555555556, \"support\": 10.0, \"Stage\": \"slug\", \"C\": 2.0, \"Model\": \"logRegBinary\"}, {\"precision\": 0.5, \"recall\": 0.6666666666666666, \"F_score\": 0.5714285714285715, \"support\": 3.0, \"Stage\": \"mhat\", \"C\": 2.0, \"Model\": \"logRegBinary\"}, {\"precision\": 0.75, \"recall\": 1.0, \"F_score\": 0.8571428571428571, \"support\": 6.0, \"Stage\": \"cul\", \"C\": 2.0, \"Model\": \"logRegBinary\"}, {\"precision\": 0.6666666666666666, \"recall\": 0.5, \"F_score\": 0.5714285714285715, \"support\": 4.0, \"Stage\": \"FB\", \"C\": 2.0, \"Model\": \"logRegBinary\"}, {\"precision\": 0.3333333333333333, \"recall\": 0.25, \"F_score\": 0.28571428571428575, \"support\": 4.0, \"Stage\": \"disappear\", \"C\": 2.0, \"Model\": \"logRegBinary\"}, {\"precision\": 0.7471264367816092, \"recall\": 0.6989247311827957, \"F_score\": 0.7222222222222223, \"support\": null, \"Stage\": \"all\", \"C\": 2.0, \"Model\": \"logRegBinary\"}, {\"precision\": 0.8461538461538461, \"recall\": 0.8148148148148148, \"F_score\": 0.830188679245283, \"support\": 27.0, \"Stage\": \"no_agg\", \"C\": 2.0, \"Model\": \"logRegBinary\"}, {\"precision\": 0.7142857142857143, \"recall\": 0.5, \"F_score\": 0.588235294117647, \"support\": 10.0, \"Stage\": \"stream\", \"C\": 2.0, \"Model\": \"logRegBinary\"}, {\"precision\": 0.6666666666666666, \"recall\": 0.5714285714285714, \"F_score\": 0.6153846153846153, \"support\": 14.0, \"Stage\": \"lag\", \"C\": 2.0, \"Model\": \"logRegBinary\"}, {\"precision\": 1.0, \"recall\": 0.7272727272727273, \"F_score\": 0.8421052631578948, \"support\": 11.0, \"Stage\": \"tag\", \"C\": 2.0, \"Model\": \"logRegBinary\"}, {\"precision\": 1.0, \"recall\": 0.5, \"F_score\": 0.6666666666666666, \"support\": 4.0, \"Stage\": \"tip\", \"C\": 2.0, \"Model\": \"logRegBinary\"}, {\"precision\": 0.7142857142857143, \"recall\": 0.5, \"F_score\": 0.588235294117647, \"support\": 10.0, \"Stage\": \"slug\", \"C\": 2.0, \"Model\": \"logRegBinary\"}, {\"precision\": 1.0, \"recall\": 0.5, \"F_score\": 0.6666666666666666, \"support\": 2.0, \"Stage\": \"mhat\", \"C\": 2.0, \"Model\": \"logRegBinary\"}, {\"precision\": 1.0, \"recall\": 0.6, \"F_score\": 0.7499999999999999, \"support\": 5.0, \"Stage\": \"cul\", \"C\": 2.0, \"Model\": \"logRegBinary\"}, {\"precision\": 0.5, \"recall\": 0.3333333333333333, \"F_score\": 0.4, \"support\": 3.0, \"Stage\": \"FB\", \"C\": 2.0, \"Model\": \"logRegBinary\"}, {\"precision\": 0.5, \"recall\": 0.5, \"F_score\": 0.5, \"support\": 4.0, \"Stage\": \"disappear\", \"C\": 2.0, \"Model\": \"logRegBinary\"}, {\"precision\": 0.7916666666666666, \"recall\": 0.6333333333333333, \"F_score\": 0.7037037037037038, \"support\": null, \"Stage\": \"all\", \"C\": 2.0, \"Model\": \"logRegBinary\"}, {\"precision\": 0.9130434782608695, \"recall\": 0.75, \"F_score\": 0.8235294117647057, \"support\": 28.0, \"Stage\": \"no_agg\", \"C\": null, \"Model\": \"forest\"}, {\"precision\": 0.6666666666666666, \"recall\": 0.6, \"F_score\": 0.631578947368421, \"support\": 10.0, \"Stage\": \"stream\", \"C\": null, \"Model\": \"forest\"}, {\"precision\": 0.6428571428571429, \"recall\": 0.6428571428571429, \"F_score\": 0.6428571428571429, \"support\": 14.0, \"Stage\": \"lag\", \"C\": null, \"Model\": \"forest\"}, {\"precision\": 0.8888888888888888, \"recall\": 0.7272727272727273, \"F_score\": 0.7999999999999999, \"support\": 11.0, \"Stage\": \"tag\", \"C\": null, \"Model\": \"forest\"}, {\"precision\": 1.0, \"recall\": 0.25, \"F_score\": 0.4, \"support\": 4.0, \"Stage\": \"tip\", \"C\": null, \"Model\": \"forest\"}, {\"precision\": 0.8571428571428571, \"recall\": 0.6, \"F_score\": 0.7058823529411764, \"support\": 10.0, \"Stage\": \"slug\", \"C\": null, \"Model\": \"forest\"}, {\"precision\": 1.0, \"recall\": 1.0, \"F_score\": 1.0, \"support\": 2.0, \"Stage\": \"mhat\", \"C\": null, \"Model\": \"forest\"}, {\"precision\": 0.625, \"recall\": 1.0, \"F_score\": 0.7692307692307693, \"support\": 5.0, \"Stage\": \"cul\", \"C\": null, \"Model\": \"forest\"}, {\"precision\": 0.75, \"recall\": 0.75, \"F_score\": 0.75, \"support\": 4.0, \"Stage\": \"FB\", \"C\": null, \"Model\": \"forest\"}, {\"precision\": 0.5, \"recall\": 0.3333333333333333, \"F_score\": 0.4, \"support\": 3.0, \"Stage\": \"disappear\", \"C\": null, \"Model\": \"forest\"}, {\"precision\": 0.7848101265822784, \"recall\": 0.6813186813186813, \"F_score\": 0.7294117647058823, \"support\": null, \"Stage\": \"all\", \"C\": null, \"Model\": \"forest\"}, {\"precision\": 0.9545454545454546, \"recall\": 0.75, \"F_score\": 0.84, \"support\": 28.0, \"Stage\": \"no_agg\", \"C\": null, \"Model\": \"forest\"}, {\"precision\": 0.6363636363636364, \"recall\": 0.7, \"F_score\": 0.6666666666666666, \"support\": 10.0, \"Stage\": \"stream\", \"C\": null, \"Model\": \"forest\"}, {\"precision\": 0.9166666666666666, \"recall\": 0.7333333333333333, \"F_score\": 0.8148148148148148, \"support\": 15.0, \"Stage\": \"lag\", \"C\": null, \"Model\": \"forest\"}, {\"precision\": 0.6363636363636364, \"recall\": 0.6363636363636364, \"F_score\": 0.6363636363636364, \"support\": 11.0, \"Stage\": \"tag\", \"C\": null, \"Model\": \"forest\"}, {\"precision\": 0.25, \"recall\": 0.2, \"F_score\": 0.22222222222222224, \"support\": 5.0, \"Stage\": \"tip\", \"C\": null, \"Model\": \"forest\"}, {\"precision\": 0.6666666666666666, \"recall\": 0.8, \"F_score\": 0.7272727272727272, \"support\": 10.0, \"Stage\": \"slug\", \"C\": null, \"Model\": \"forest\"}, {\"precision\": 0.5, \"recall\": 0.5, \"F_score\": 0.5, \"support\": 2.0, \"Stage\": \"mhat\", \"C\": null, \"Model\": \"forest\"}, {\"precision\": 0.625, \"recall\": 0.8333333333333334, \"F_score\": 0.7142857142857143, \"support\": 6.0, \"Stage\": \"cul\", \"C\": null, \"Model\": \"forest\"}, {\"precision\": 0.6, \"recall\": 0.75, \"F_score\": 0.6666666666666665, \"support\": 4.0, \"Stage\": \"FB\", \"C\": null, \"Model\": \"forest\"}, {\"precision\": 0.0, \"recall\": 0.0, \"F_score\": 0.0, \"support\": 3.0, \"Stage\": \"disappear\", \"C\": null, \"Model\": \"forest\"}, {\"precision\": 0.7272727272727273, \"recall\": 0.6808510638297872, \"F_score\": 0.7032967032967034, \"support\": null, \"Stage\": \"all\", \"C\": null, \"Model\": \"forest\"}, {\"precision\": 0.92, \"recall\": 0.8518518518518519, \"F_score\": 0.8846153846153846, \"support\": 27.0, \"Stage\": \"no_agg\", \"C\": null, \"Model\": \"forest\"}, {\"precision\": 0.5555555555555556, \"recall\": 0.5, \"F_score\": 0.5263157894736842, \"support\": 10.0, \"Stage\": \"stream\", \"C\": null, \"Model\": \"forest\"}, {\"precision\": 0.6, \"recall\": 0.8571428571428571, \"F_score\": 0.7058823529411764, \"support\": 14.0, \"Stage\": \"lag\", \"C\": null, \"Model\": \"forest\"}, {\"precision\": 0.6428571428571429, \"recall\": 0.8181818181818182, \"F_score\": 0.7200000000000001, \"support\": 11.0, \"Stage\": \"tag\", \"C\": null, \"Model\": \"forest\"}, {\"precision\": 0.25, \"recall\": 0.25, \"F_score\": 0.25, \"support\": 4.0, \"Stage\": \"tip\", \"C\": null, \"Model\": \"forest\"}, {\"precision\": 0.6363636363636364, \"recall\": 0.7, \"F_score\": 0.6666666666666666, \"support\": 10.0, \"Stage\": \"slug\", \"C\": null, \"Model\": \"forest\"}, {\"precision\": 1.0, \"recall\": 0.5, \"F_score\": 0.6666666666666666, \"support\": 2.0, \"Stage\": \"mhat\", \"C\": null, \"Model\": \"forest\"}, {\"precision\": 0.625, \"recall\": 1.0, \"F_score\": 0.7692307692307693, \"support\": 5.0, \"Stage\": \"cul\", \"C\": null, \"Model\": \"forest\"}, {\"precision\": 0.5, \"recall\": 1.0, \"F_score\": 0.6666666666666666, \"support\": 3.0, \"Stage\": \"FB\", \"C\": null, \"Model\": \"forest\"}, {\"precision\": 1.0, \"recall\": 0.25, \"F_score\": 0.4, \"support\": 4.0, \"Stage\": \"disappear\", \"C\": null, \"Model\": \"forest\"}, {\"precision\": 0.6767676767676768, \"recall\": 0.7444444444444445, \"F_score\": 0.708994708994709, \"support\": null, \"Stage\": \"all\", \"C\": null, \"Model\": \"forest\"}, {\"precision\": 0.9047619047619048, \"recall\": 0.6785714285714286, \"F_score\": 0.7755102040816326, \"support\": 28.0, \"Stage\": \"no_agg\", \"C\": null, \"Model\": \"forest\"}, {\"precision\": 0.5555555555555556, \"recall\": 0.5555555555555556, \"F_score\": 0.5555555555555556, \"support\": 9.0, \"Stage\": \"stream\", \"C\": null, \"Model\": \"forest\"}, {\"precision\": 0.631578947368421, \"recall\": 0.8, \"F_score\": 0.7058823529411765, \"support\": 15.0, \"Stage\": \"lag\", \"C\": null, \"Model\": \"forest\"}, {\"precision\": 0.75, \"recall\": 0.5, \"F_score\": 0.6, \"support\": 12.0, \"Stage\": \"tag\", \"C\": null, \"Model\": \"forest\"}, {\"precision\": 0.0, \"recall\": 0.0, \"F_score\": 0.0, \"support\": 4.0, \"Stage\": \"tip\", \"C\": null, \"Model\": \"forest\"}, {\"precision\": 0.46153846153846156, \"recall\": 0.6, \"F_score\": 0.5217391304347826, \"support\": 10.0, \"Stage\": \"slug\", \"C\": null, \"Model\": \"forest\"}, {\"precision\": 0.5, \"recall\": 1.0, \"F_score\": 0.6666666666666666, \"support\": 3.0, \"Stage\": \"mhat\", \"C\": null, \"Model\": \"forest\"}, {\"precision\": 0.5, \"recall\": 1.0, \"F_score\": 0.6666666666666666, \"support\": 6.0, \"Stage\": \"cul\", \"C\": null, \"Model\": \"forest\"}, {\"precision\": 0.5714285714285714, \"recall\": 1.0, \"F_score\": 0.7272727272727273, \"support\": 4.0, \"Stage\": \"FB\", \"C\": null, \"Model\": \"forest\"}, {\"precision\": 0.25, \"recall\": 0.3333333333333333, \"F_score\": 0.28571428571428575, \"support\": 3.0, \"Stage\": \"disappear\", \"C\": null, \"Model\": \"forest\"}, {\"precision\": 0.6138613861386139, \"recall\": 0.6595744680851063, \"F_score\": 0.6358974358974359, \"support\": null, \"Stage\": \"all\", \"C\": null, \"Model\": \"forest\"}, {\"precision\": 0.875, \"recall\": 0.7777777777777778, \"F_score\": 0.823529411764706, \"support\": 27.0, \"Stage\": \"no_agg\", \"C\": null, \"Model\": \"forest\"}, {\"precision\": 0.6666666666666666, \"recall\": 0.4, \"F_score\": 0.5, \"support\": 10.0, \"Stage\": \"stream\", \"C\": null, \"Model\": \"forest\"}, {\"precision\": 0.9, \"recall\": 0.6428571428571429, \"F_score\": 0.75, \"support\": 14.0, \"Stage\": \"lag\", \"C\": null, \"Model\": \"forest\"}, {\"precision\": 0.6666666666666666, \"recall\": 0.8333333333333334, \"F_score\": 0.7407407407407408, \"support\": 12.0, \"Stage\": \"tag\", \"C\": null, \"Model\": \"forest\"}, {\"precision\": 0.6666666666666666, \"recall\": 0.5, \"F_score\": 0.5714285714285715, \"support\": 4.0, \"Stage\": \"tip\", \"C\": null, \"Model\": \"forest\"}, {\"precision\": 0.75, \"recall\": 0.6, \"F_score\": 0.6666666666666665, \"support\": 10.0, \"Stage\": \"slug\", \"C\": null, \"Model\": \"forest\"}, {\"precision\": 1.0, \"recall\": 1.0, \"F_score\": 1.0, \"support\": 2.0, \"Stage\": \"mhat\", \"C\": null, \"Model\": \"forest\"}, {\"precision\": 0.5, \"recall\": 0.6, \"F_score\": 0.5454545454545454, \"support\": 5.0, \"Stage\": \"cul\", \"C\": null, \"Model\": \"forest\"}, {\"precision\": 0.5, \"recall\": 0.5, \"F_score\": 0.5, \"support\": 4.0, \"Stage\": \"FB\", \"C\": null, \"Model\": \"forest\"}, {\"precision\": 1.0, \"recall\": 0.25, \"F_score\": 0.4, \"support\": 4.0, \"Stage\": \"disappear\", \"C\": null, \"Model\": \"forest\"}, {\"precision\": 0.759493670886076, \"recall\": 0.6521739130434783, \"F_score\": 0.7017543859649124, \"support\": null, \"Stage\": \"all\", \"C\": null, \"Model\": \"forest\"}]}}, {\"mode\": \"vega-lite\"});\n",
       "</script>"
      ],
      "text/plain": [
       "alt.Chart(...)"
      ]
     },
     "metadata": {},
     "output_type": "display_data"
    },
    {
     "data": {
      "text/html": [
       "\n",
       "<div id=\"altair-viz-165ed6f8bc7e49018dd600532adffc49\"></div>\n",
       "<script type=\"text/javascript\">\n",
       "  (function(spec, embedOpt){\n",
       "    const outputDiv = document.getElementById(\"altair-viz-165ed6f8bc7e49018dd600532adffc49\");\n",
       "    const paths = {\n",
       "      \"vega\": \"https://cdn.jsdelivr.net/npm//vega@5?noext\",\n",
       "      \"vega-lib\": \"https://cdn.jsdelivr.net/npm//vega-lib?noext\",\n",
       "      \"vega-lite\": \"https://cdn.jsdelivr.net/npm//vega-lite@4.0.2?noext\",\n",
       "      \"vega-embed\": \"https://cdn.jsdelivr.net/npm//vega-embed@6?noext\",\n",
       "    };\n",
       "\n",
       "    function loadScript(lib) {\n",
       "      return new Promise(function(resolve, reject) {\n",
       "        var s = document.createElement('script');\n",
       "        s.src = paths[lib];\n",
       "        s.async = true;\n",
       "        s.onload = () => resolve(paths[lib]);\n",
       "        s.onerror = () => reject(`Error loading script: ${paths[lib]}`);\n",
       "        document.getElementsByTagName(\"head\")[0].appendChild(s);\n",
       "      });\n",
       "    }\n",
       "\n",
       "    function showError(err) {\n",
       "      outputDiv.innerHTML = `<div class=\"error\" style=\"color:red;\">${err}</div>`;\n",
       "      throw err;\n",
       "    }\n",
       "\n",
       "    function displayChart(vegaEmbed) {\n",
       "      vegaEmbed(outputDiv, spec, embedOpt)\n",
       "        .catch(err => showError(`Javascript Error: ${err.message}<br>This usually means there's a typo in your chart specification. See the javascript console for the full traceback.`));\n",
       "    }\n",
       "\n",
       "    if(typeof define === \"function\" && define.amd) {\n",
       "      requirejs.config({paths});\n",
       "      require([\"vega-embed\"], displayChart, err => showError(`Error loading script: ${err.message}`));\n",
       "    } else if (typeof vegaEmbed === \"function\") {\n",
       "      displayChart(vegaEmbed);\n",
       "    } else {\n",
       "      loadScript(\"vega\")\n",
       "        .then(() => loadScript(\"vega-lite\"))\n",
       "        .then(() => loadScript(\"vega-embed\"))\n",
       "        .catch(showError)\n",
       "        .then(() => displayChart(vegaEmbed));\n",
       "    }\n",
       "  })({\"config\": {\"view\": {\"continuousWidth\": 400, \"continuousHeight\": 300}, \"facet\": {\"spacing\": 0}}, \"data\": {\"name\": \"data-ddbbf2460f89f71dacb20d2d9700b38b\"}, \"mark\": {\"type\": \"point\", \"size\": 20}, \"encoding\": {\"color\": {\"type\": \"nominal\", \"field\": \"Stage\"}, \"column\": {\"type\": \"nominal\", \"field\": \"Model\", \"header\": {\"labelAlign\": \"center\", \"labelAngle\": 0, \"labelOrient\": \"bottom\", \"labelPadding\": 10, \"titleOrient\": \"bottom\"}}, \"shape\": {\"type\": \"nominal\", \"field\": \"Stage\"}, \"x\": {\"type\": \"quantitative\", \"axis\": {\"grid\": false, \"labels\": false, \"ticks\": true, \"values\": [0]}, \"field\": \"jitter\", \"scale\": {}, \"title\": null}, \"y\": {\"type\": \"quantitative\", \"axis\": {\"grid\": false}, \"field\": \"N_features\"}}, \"title\": \"\", \"transform\": [{\"calculate\": \"sqrt(-2*log(random()))*cos(2*PI*random())\", \"as\": \"jitter\"}], \"width\": 120, \"$schema\": \"https://vega.github.io/schema/vega-lite/v4.0.2.json\", \"datasets\": {\"data-ddbbf2460f89f71dacb20d2d9700b38b\": [{\"C\": 2.0, \"N_features\": 618.0, \"Stage\": \"no_agg\", \"Model\": \"logRegBinary\"}, {\"C\": 2.0, \"N_features\": 628.0, \"Stage\": \"stream\", \"Model\": \"logRegBinary\"}, {\"C\": 2.0, \"N_features\": 605.0, \"Stage\": \"lag\", \"Model\": \"logRegBinary\"}, {\"C\": 2.0, \"N_features\": 573.0, \"Stage\": \"tag\", \"Model\": \"logRegBinary\"}, {\"C\": 2.0, \"N_features\": 399.0, \"Stage\": \"tip\", \"Model\": \"logRegBinary\"}, {\"C\": 2.0, \"N_features\": 568.0, \"Stage\": \"slug\", \"Model\": \"logRegBinary\"}, {\"C\": 2.0, \"N_features\": 342.0, \"Stage\": \"mhat\", \"Model\": \"logRegBinary\"}, {\"C\": 2.0, \"N_features\": 387.0, \"Stage\": \"cul\", \"Model\": \"logRegBinary\"}, {\"C\": 2.0, \"N_features\": 390.0, \"Stage\": \"FB\", \"Model\": \"logRegBinary\"}, {\"C\": 2.0, \"N_features\": 423.0, \"Stage\": \"disappear\", \"Model\": \"logRegBinary\"}, {\"C\": 2.0, \"N_features\": 3366.0, \"Stage\": \"all\", \"Model\": \"logRegBinary\"}, {\"C\": 2.0, \"N_features\": 623.0, \"Stage\": \"no_agg\", \"Model\": \"logRegBinary\"}, {\"C\": 2.0, \"N_features\": 584.0, \"Stage\": \"stream\", \"Model\": \"logRegBinary\"}, {\"C\": 2.0, \"N_features\": 629.0, \"Stage\": \"lag\", \"Model\": \"logRegBinary\"}, {\"C\": 2.0, \"N_features\": 594.0, \"Stage\": \"tag\", \"Model\": \"logRegBinary\"}, {\"C\": 2.0, \"N_features\": 422.0, \"Stage\": \"tip\", \"Model\": \"logRegBinary\"}, {\"C\": 2.0, \"N_features\": 562.0, \"Stage\": \"slug\", \"Model\": \"logRegBinary\"}, {\"C\": 2.0, \"N_features\": 367.0, \"Stage\": \"mhat\", \"Model\": \"logRegBinary\"}, {\"C\": 2.0, \"N_features\": 416.0, \"Stage\": \"cul\", \"Model\": \"logRegBinary\"}, {\"C\": 2.0, \"N_features\": 358.0, \"Stage\": \"FB\", \"Model\": \"logRegBinary\"}, {\"C\": 2.0, \"N_features\": 445.0, \"Stage\": \"disappear\", \"Model\": \"logRegBinary\"}, {\"C\": 2.0, \"N_features\": 3408.0, \"Stage\": \"all\", \"Model\": \"logRegBinary\"}, {\"C\": 2.0, \"N_features\": 581.0, \"Stage\": \"no_agg\", \"Model\": \"logRegBinary\"}, {\"C\": 2.0, \"N_features\": 602.0, \"Stage\": \"stream\", \"Model\": \"logRegBinary\"}, {\"C\": 2.0, \"N_features\": 603.0, \"Stage\": \"lag\", \"Model\": \"logRegBinary\"}, {\"C\": 2.0, \"N_features\": 565.0, \"Stage\": \"tag\", \"Model\": \"logRegBinary\"}, {\"C\": 2.0, \"N_features\": 409.0, \"Stage\": \"tip\", \"Model\": \"logRegBinary\"}, {\"C\": 2.0, \"N_features\": 561.0, \"Stage\": \"slug\", \"Model\": \"logRegBinary\"}, {\"C\": 2.0, \"N_features\": 364.0, \"Stage\": \"mhat\", \"Model\": \"logRegBinary\"}, {\"C\": 2.0, \"N_features\": 392.0, \"Stage\": \"cul\", \"Model\": \"logRegBinary\"}, {\"C\": 2.0, \"N_features\": 353.0, \"Stage\": \"FB\", \"Model\": \"logRegBinary\"}, {\"C\": 2.0, \"N_features\": 411.0, \"Stage\": \"disappear\", \"Model\": \"logRegBinary\"}, {\"C\": 2.0, \"N_features\": 3294.0, \"Stage\": \"all\", \"Model\": \"logRegBinary\"}, {\"C\": 2.0, \"N_features\": 572.0, \"Stage\": \"no_agg\", \"Model\": \"logRegBinary\"}, {\"C\": 2.0, \"N_features\": 571.0, \"Stage\": \"stream\", \"Model\": \"logRegBinary\"}, {\"C\": 2.0, \"N_features\": 615.0, \"Stage\": \"lag\", \"Model\": \"logRegBinary\"}, {\"C\": 2.0, \"N_features\": 581.0, \"Stage\": \"tag\", \"Model\": \"logRegBinary\"}, {\"C\": 2.0, \"N_features\": 394.0, \"Stage\": \"tip\", \"Model\": \"logRegBinary\"}, {\"C\": 2.0, \"N_features\": 543.0, \"Stage\": \"slug\", \"Model\": \"logRegBinary\"}, {\"C\": 2.0, \"N_features\": 350.0, \"Stage\": \"mhat\", \"Model\": \"logRegBinary\"}, {\"C\": 2.0, \"N_features\": 402.0, \"Stage\": \"cul\", \"Model\": \"logRegBinary\"}, {\"C\": 2.0, \"N_features\": 371.0, \"Stage\": \"FB\", \"Model\": \"logRegBinary\"}, {\"C\": 2.0, \"N_features\": 398.0, \"Stage\": \"disappear\", \"Model\": \"logRegBinary\"}, {\"C\": 2.0, \"N_features\": 3263.0, \"Stage\": \"all\", \"Model\": \"logRegBinary\"}, {\"C\": 2.0, \"N_features\": 510.0, \"Stage\": \"no_agg\", \"Model\": \"logRegBinary\"}, {\"C\": 2.0, \"N_features\": 552.0, \"Stage\": \"stream\", \"Model\": \"logRegBinary\"}, {\"C\": 2.0, \"N_features\": 550.0, \"Stage\": \"lag\", \"Model\": \"logRegBinary\"}, {\"C\": 2.0, \"N_features\": 525.0, \"Stage\": \"tag\", \"Model\": \"logRegBinary\"}, {\"C\": 2.0, \"N_features\": 362.0, \"Stage\": \"tip\", \"Model\": \"logRegBinary\"}, {\"C\": 2.0, \"N_features\": 491.0, \"Stage\": \"slug\", \"Model\": \"logRegBinary\"}, {\"C\": 2.0, \"N_features\": 299.0, \"Stage\": \"mhat\", \"Model\": \"logRegBinary\"}, {\"C\": 2.0, \"N_features\": 352.0, \"Stage\": \"cul\", \"Model\": \"logRegBinary\"}, {\"C\": 2.0, \"N_features\": 300.0, \"Stage\": \"FB\", \"Model\": \"logRegBinary\"}, {\"C\": 2.0, \"N_features\": 369.0, \"Stage\": \"disappear\", \"Model\": \"logRegBinary\"}, {\"C\": 2.0, \"N_features\": 3042.0, \"Stage\": \"all\", \"Model\": \"logRegBinary\"}, {\"C\": null, \"N_features\": 1886.0, \"Stage\": \"all\", \"Model\": \"forest\"}, {\"C\": null, \"N_features\": 1886.0, \"Stage\": \"all\", \"Model\": \"forest\"}, {\"C\": null, \"N_features\": 1979.0, \"Stage\": \"all\", \"Model\": \"forest\"}, {\"C\": null, \"N_features\": 1873.0, \"Stage\": \"all\", \"Model\": \"forest\"}, {\"C\": null, \"N_features\": 1914.0, \"Stage\": \"all\", \"Model\": \"forest\"}]}}, {\"mode\": \"vega-lite\"});\n",
       "</script>"
      ],
      "text/plain": [
       "alt.Chart(...)"
      ]
     },
     "metadata": {},
     "output_type": "display_data"
    }
   ],
   "source": [
    "display(scatter_catgory(prfs,categories='Model',Y= 'F_score', colour='Stage',shape='Stage'))\n",
    "display(scatter_catgory(prfs,categories='Model', Y='precision', colour='Stage',shape='Stage'))\n",
    "display(scatter_catgory(prfs,categories='Model', Y='recall', colour='Stage',shape='Stage'))\n",
    "display(scatter_catgory(features,categories='Model', Y='N_features',colour='Stage',shape='Stage'))"
   ]
  },
  {
   "cell_type": "code",
   "execution_count": 31,
   "metadata": {},
   "outputs": [
    {
     "name": "stdout",
     "output_type": "stream",
     "text": [
      "Random forest\n",
      "F_score mean and standard error for each group\n",
      "FB          0.662 +- 0.044\n",
      "all         0.696 +- 0.016\n",
      "cul         0.693 +- 0.042\n",
      "disappear   0.297 +- 0.078\n",
      "lag         0.724 +- 0.028\n",
      "mhat        0.767 +- 0.100\n",
      "no_agg      0.829 +- 0.018\n",
      "slug        0.658 +- 0.036\n",
      "stream      0.576 +- 0.032\n",
      "tag         0.699 +- 0.036\n",
      "tip         0.289 +- 0.095\n",
      "macro       0.619 +- 0.030\n"
     ]
    }
   ],
   "source": [
    "print('Random forest')\n",
    "summary_classification(prfs.query('Model == \"forest\"'),'F_score',\"Stage\",order)"
   ]
  },
  {
   "cell_type": "code",
   "execution_count": 32,
   "metadata": {},
   "outputs": [
    {
     "name": "stdout",
     "output_type": "stream",
     "text": [
      "Logistic regression binary relevance\n",
      "F_score mean and standard error for each group\n",
      "FB          0.628 +- 0.103\n",
      "all         0.724 +- 0.019\n",
      "cul         0.788 +- 0.095\n",
      "disappear   0.337 +- 0.093\n",
      "lag         0.734 +- 0.041\n",
      "mhat        0.541 +- 0.140\n",
      "no_agg      0.854 +- 0.014\n",
      "slug        0.659 +- 0.044\n",
      "stream      0.499 +- 0.037\n",
      "tag         0.762 +- 0.050\n",
      "tip         0.484 +- 0.078\n",
      "macro       0.629 +- 0.031\n"
     ]
    }
   ],
   "source": [
    "print('Logistic regression binary relevance')\n",
    "summary_classification(prfs.query('Model == \"logRegBinary\"'),'F_score',\"Stage\",order)"
   ]
  },
  {
   "cell_type": "code",
   "execution_count": null,
   "metadata": {},
   "outputs": [],
   "source": []
  }
 ],
 "metadata": {
  "kernelspec": {
   "display_name": "Python 3",
   "language": "python",
   "name": "python3"
  },
  "language_info": {
   "codemirror_mode": {
    "name": "ipython",
    "version": 3
   },
   "file_extension": ".py",
   "mimetype": "text/x-python",
   "name": "python",
   "nbconvert_exporter": "python",
   "pygments_lexer": "ipython3",
   "version": "3.7.5"
  }
 },
 "nbformat": 4,
 "nbformat_minor": 4
}
