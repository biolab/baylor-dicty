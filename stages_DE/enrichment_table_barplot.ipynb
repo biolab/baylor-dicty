{
 "cells": [
  {
   "cell_type": "code",
   "execution_count": 1,
   "metadata": {},
   "outputs": [],
   "source": [
    "import pandas as pd\n",
    "import matplotlib"
   ]
  },
  {
   "cell_type": "code",
   "execution_count": 2,
   "metadata": {},
   "outputs": [],
   "source": [
    "df=pd.DataFrame([[1,5,-3],[4,20,-6],[4,100,-6]])\n",
    "apply_col=2\n",
    "use_col=1\n",
    "cmap = matplotlib.cm.get_cmap('Spectral')\n",
    "norm = matplotlib.colors.Normalize(vmin=df[use_col].min(), vmax=20)"
   ]
  },
  {
   "cell_type": "code",
   "execution_count": 3,
   "metadata": {},
   "outputs": [],
   "source": [
    "def background(s):\n",
    "    if s.name ==apply_col:\n",
    "        return ['background-color: '+matplotlib.colors.rgb2hex(cmap(norm(v))) for v in df[use_col]]\n",
    "    else:\n",
    "        return ['background-color: white' for v in s]\n",
    "def text(s):\n",
    "    if s.name ==apply_col:\n",
    "        return ['color: white' for v in s]\n",
    "    else:\n",
    "        return ['color: black' for v in s]\n",
    "def font(s):\n",
    "    if s.name ==apply_col:\n",
    "        return ['font-size: 0pt' for v in s]\n",
    "    else:\n",
    "        return ['font-size: 10pt' for v in s]\n",
    "\n"
   ]
  },
  {
   "cell_type": "code",
   "execution_count": 4,
   "metadata": {},
   "outputs": [],
   "source": [
    "html=df.style.bar(subset=[2], color='white',align='mid',vmax=-1,vmin=-7).set_properties(subset=[apply_col], **{'width': '100px'}).apply(background).apply(font).apply(text).hide_index().render()"
   ]
  },
  {
   "cell_type": "code",
   "execution_count": 41,
   "metadata": {},
   "outputs": [],
   "source": [
    "#Source: https://blog.ouseful.info/2019/01/16/converting-pandas-generated-html-data-tables-to-png-images/\n",
    "import os\n",
    "import time\n",
    "from selenium import webdriver\n",
    " \n",
    "#Via https://stackoverflow.com/a/52572919/454773\n",
    "def setup_screenshot(driver,path):\n",
    "    ''' Grab screenshot of browser rendered HTML.\n",
    "        Ensure the browser is sized to display all the HTML content. '''\n",
    "    # Ref: https://stackoverflow.com/a/52572919/\n",
    "    original_size = driver.get_window_size()\n",
    "    required_width = driver.execute_script('return document.body.parentNode.scrollWidth')\n",
    "    required_height = driver.execute_script('return document.body.parentNode.scrollHeight')\n",
    "    driver.set_window_size(required_width, required_height)\n",
    "    # driver.save_screenshot(path)  # has scrollbar\n",
    "    driver.find_element_by_tag_name('body').screenshot(path)  # avoids scrollbar\n",
    "    driver.set_window_size(original_size['width'], original_size['height'])\n",
    " \n",
    "def getTableImage(url, fn='dummy_table', basepath='.', path='.', delay=5, height=420, width=800):\n",
    "    ''' Render HTML file in browser and grab a screenshot. '''\n",
    "    browser = webdriver.Chrome()\n",
    " \n",
    "    browser.get(url)\n",
    "    #Give the html some time to load\n",
    "    time.sleep(delay)\n",
    "    imgpath='{}/{}.png'.format(path,fn)\n",
    "    imgfn = '{}/{}'.format(basepath, imgpath)\n",
    "    imgfile = '{}/{}'.format(os.getcwd(),imgfn)\n",
    " \n",
    "    setup_screenshot(browser,imgfile)\n",
    "    browser.quit()\n",
    "    os.remove(imgfile.replace('.png','.html'))\n",
    "    #print(imgfn)\n",
    "    return imgpath\n",
    " \n",
    "def getTablePNG(tablehtml, basepath='.', path='testpng', fnstub='testhtml'):\n",
    "    ''' Save HTML table as: {basepath}/{path}/{fnstub}.png '''\n",
    "    if not os.path.exists(path):\n",
    "        os.makedirs('{}/{}'.format(basepath, path))\n",
    "    fn='{cwd}/{basepath}/{path}/{fn}.html'.format(cwd=os.getcwd(), basepath=basepath, path=path,fn=fnstub)\n",
    "    tmpurl='file://{fn}'.format(fn=fn)\n",
    "    with open(fn, 'w') as out:\n",
    "        out.write(tablehtml)\n",
    "    return getTableImage(tmpurl, fnstub, basepath, path)\n",
    " \n",
    "#call as: getTablePNG(s)\n",
    "#where s is a string containing html, eg s = df.style.render()"
   ]
  },
  {
   "cell_type": "code",
   "execution_count": 63,
   "metadata": {},
   "outputs": [
    {
     "data": {
      "text/plain": [
       "'testpng/testhtml.png'"
      ]
     },
     "execution_count": 63,
     "metadata": {},
     "output_type": "execute_result"
    }
   ],
   "source": [
    "getTablePNG(html)"
   ]
  },
  {
   "cell_type": "code",
   "execution_count": 62,
   "metadata": {},
   "outputs": [
    {
     "data": {
      "text/html": [
       "<style  type=\"text/css\" >\n",
       "    #T_b8f51820_8949_11ea_aed3_d4258bc308cfrow0_col0 {\n",
       "            background-color:  white;\n",
       "            font-size:  10pt;\n",
       "            color:  black;\n",
       "        }    #T_b8f51820_8949_11ea_aed3_d4258bc308cfrow0_col1 {\n",
       "            background-color:  white;\n",
       "            font-size:  10pt;\n",
       "            color:  black;\n",
       "        }    #T_b8f51820_8949_11ea_aed3_d4258bc308cfrow0_col2 {\n",
       "            width:  10em;\n",
       "             height:  80%;\n",
       "            background:  linear-gradient(90deg, transparent 57.1%, white 57.1%, white 100.0%, transparent 100.0%);\n",
       "            width:  100px;\n",
       "            background-color:  #9e0142;\n",
       "            font-size:  0pt;\n",
       "            color:  white;\n",
       "        }    #T_b8f51820_8949_11ea_aed3_d4258bc308cfrow1_col0 {\n",
       "            background-color:  white;\n",
       "            font-size:  10pt;\n",
       "            color:  black;\n",
       "        }    #T_b8f51820_8949_11ea_aed3_d4258bc308cfrow1_col1 {\n",
       "            background-color:  white;\n",
       "            font-size:  10pt;\n",
       "            color:  black;\n",
       "        }    #T_b8f51820_8949_11ea_aed3_d4258bc308cfrow1_col2 {\n",
       "            width:  10em;\n",
       "             height:  80%;\n",
       "            background:  linear-gradient(90deg, transparent 14.3%, white 14.3%, white 100.0%, transparent 100.0%);\n",
       "            width:  100px;\n",
       "            background-color:  #5e4fa2;\n",
       "            font-size:  0pt;\n",
       "            color:  white;\n",
       "        }    #T_b8f51820_8949_11ea_aed3_d4258bc308cfrow2_col0 {\n",
       "            background-color:  white;\n",
       "            font-size:  10pt;\n",
       "            color:  black;\n",
       "        }    #T_b8f51820_8949_11ea_aed3_d4258bc308cfrow2_col1 {\n",
       "            background-color:  white;\n",
       "            font-size:  10pt;\n",
       "            color:  black;\n",
       "        }    #T_b8f51820_8949_11ea_aed3_d4258bc308cfrow2_col2 {\n",
       "            width:  10em;\n",
       "             height:  80%;\n",
       "            background:  linear-gradient(90deg, transparent 14.3%, white 14.3%, white 100.0%, transparent 100.0%);\n",
       "            width:  100px;\n",
       "            background-color:  #5e4fa2;\n",
       "            font-size:  0pt;\n",
       "            color:  white;\n",
       "        }</style><table id=\"T_b8f51820_8949_11ea_aed3_d4258bc308cf\" ><thead>    <tr>        <th class=\"col_heading level0 col0\" >0</th>        <th class=\"col_heading level0 col1\" >1</th>        <th class=\"col_heading level0 col2\" >2</th>    </tr></thead><tbody>\n",
       "                <tr>\n",
       "                                <td id=\"T_b8f51820_8949_11ea_aed3_d4258bc308cfrow0_col0\" class=\"data row0 col0\" >1</td>\n",
       "                        <td id=\"T_b8f51820_8949_11ea_aed3_d4258bc308cfrow0_col1\" class=\"data row0 col1\" >5</td>\n",
       "                        <td id=\"T_b8f51820_8949_11ea_aed3_d4258bc308cfrow0_col2\" class=\"data row0 col2\" >-3</td>\n",
       "            </tr>\n",
       "            <tr>\n",
       "                                <td id=\"T_b8f51820_8949_11ea_aed3_d4258bc308cfrow1_col0\" class=\"data row1 col0\" >4</td>\n",
       "                        <td id=\"T_b8f51820_8949_11ea_aed3_d4258bc308cfrow1_col1\" class=\"data row1 col1\" >20</td>\n",
       "                        <td id=\"T_b8f51820_8949_11ea_aed3_d4258bc308cfrow1_col2\" class=\"data row1 col2\" >-6</td>\n",
       "            </tr>\n",
       "            <tr>\n",
       "                                <td id=\"T_b8f51820_8949_11ea_aed3_d4258bc308cfrow2_col0\" class=\"data row2 col0\" >4</td>\n",
       "                        <td id=\"T_b8f51820_8949_11ea_aed3_d4258bc308cfrow2_col1\" class=\"data row2 col1\" >100</td>\n",
       "                        <td id=\"T_b8f51820_8949_11ea_aed3_d4258bc308cfrow2_col2\" class=\"data row2 col2\" >-6</td>\n",
       "            </tr>\n",
       "    </tbody></table>"
      ],
      "text/plain": [
       "<IPython.core.display.HTML object>"
      ]
     },
     "metadata": {},
     "output_type": "display_data"
    }
   ],
   "source": [
    "from IPython.display import display, HTML\n",
    "display( HTML( html) )"
   ]
  },
  {
   "cell_type": "code",
   "execution_count": 16,
   "metadata": {},
   "outputs": [
    {
     "name": "stdout",
     "output_type": "stream",
     "text": [
      "libpng warning: iCCP: known incorrect sRGB profile\n",
      "libpng warning: iCCP: known incorrect sRGB profile\n",
      "Loading page (1/2)\n",
      "[>                                                           ] 0%\r",
      "[==============================>                             ] 50%\r",
      "[============================================================] 100%\r",
      "Rendering (2/2)                                                    \n",
      "[>                                                           ] 0%\r",
      "[===============>                                            ] 25%\r",
      "[============================================================] 100%\r",
      "Done                                                               \n"
     ]
    },
    {
     "data": {
      "text/plain": [
       "True"
      ]
     },
     "execution_count": 16,
     "metadata": {},
     "output_type": "execute_result"
    }
   ],
   "source": [
    "import imgkit\n",
    "imgkit.from_string(html, 'styled_table.png')"
   ]
  },
  {
   "cell_type": "code",
   "execution_count": null,
   "metadata": {},
   "outputs": [],
   "source": []
  }
 ],
 "metadata": {
  "kernelspec": {
   "display_name": "orange3venv",
   "language": "python",
   "name": "orange3venv"
  },
  "language_info": {
   "codemirror_mode": {
    "name": "ipython",
    "version": 3
   },
   "file_extension": ".py",
   "mimetype": "text/x-python",
   "name": "python",
   "nbconvert_exporter": "python",
   "pygments_lexer": "ipython3",
   "version": "3.6.8"
  }
 },
 "nbformat": 4,
 "nbformat_minor": 2
}
