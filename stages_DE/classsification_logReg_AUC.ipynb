{
 "cells": [
  {
   "cell_type": "markdown",
   "metadata": {},
   "source": [
    "# Logistic regression prediction threshold analysis\n",
    "Analysis of one vs rest logistic regression model qulaity at different prediction threshold.\n",
    "\n",
    "Motivation: Despite some targets having relatively low F score they also have high ROC AUC score. It was thus assessed what happens to F score when using different prediction thresholds."
   ]
  },
  {
   "cell_type": "code",
   "execution_count": 141,
   "metadata": {},
   "outputs": [],
   "source": [
    "import os\n",
    "import sys\n",
    "from importlib import reload\n",
    "\n",
    "module_path = os.path.abspath(os.path.join('..'))\n",
    "if module_path not in sys.path:\n",
    "    sys.path.insert(0,module_path)\n",
    "\n",
    "\n",
    "import pandas as pd\n",
    "import numpy as np\n",
    "#from skmultilearn.problem_transform import ClassifierChain, BinaryRelevance\n",
    "from sklearn.multiclass import OneVsRestClassifier\n",
    "from sklearn.linear_model import LogisticRegression\n",
    "from sklearn.metrics import precision_recall_fscore_support,roc_auc_score,auc,roc_curve, precision_recall_curve\n",
    "from skmultilearn.model_selection import iterative_train_test_split, IterativeStratification\n",
    "import sklearn.preprocessing as pp\n",
    "import altair as alt\n",
    "#alt.renderers.enable('notebook')\n",
    "from IPython.display import display\n",
    "import matplotlib.pyplot as plt\n",
    "\n",
    "import stages_DE.stages_library\n",
    "import importlib\n",
    "importlib.reload(stages_DE.stages_library)\n",
    "\n",
    "from networks.functionsDENet import loadPickle,savePickle\n",
    "from stages_DE.stages_library import PHENOTYPES, summary_classification, summary_classification_print_sort, scatter_catgory\n"
   ]
  },
  {
   "cell_type": "code",
   "execution_count": 17,
   "metadata": {},
   "outputs": [],
   "source": [
    "proteus=True\n",
    "if proteus:\n",
    "    pathClassification = '/home/khrovatin/timeTrajectoriesNet/data/stages/classification/'\n",
    "    dataPath= '/home/khrovatin/timeTrajectoriesNet/data/RPKUM/'\n",
    "else:\n",
    "    pathClassification = '/home/karin/Documents/timeTrajectories/data/stages/classification/'"
   ]
  },
  {
   "cell_type": "markdown",
   "metadata": {},
   "source": [
    "## Model"
   ]
  },
  {
   "cell_type": "markdown",
   "metadata": {},
   "source": [
    "Data used for modeling: samples with phenotypic annotations, excluding target tag_spore due to low number of positive samples, genes (features) that are not constant. For prediction data was split 80:20 into training and test set, accounting for class structure, and scaled to interval [0,1]. "
   ]
  },
  {
   "cell_type": "code",
   "execution_count": 18,
   "metadata": {},
   "outputs": [],
   "source": [
    "genes = pd.read_csv(dataPath + 'mergedGenes_RPKUM.tsv', sep='\\t', index_col=0)\n",
    "conditions = pd.read_csv(dataPath + 'conditions_mergedGenes.tsv', sep='\\t', index_col=None)"
   ]
  },
  {
   "cell_type": "code",
   "execution_count": 19,
   "metadata": {},
   "outputs": [],
   "source": [
    "# Retain only samples with annotations\n",
    "Y = conditions[(conditions[PHENOTYPES] != 0).any(axis=1)]\n",
    "X = genes[Y.Measurment].T.values"
   ]
  },
  {
   "cell_type": "code",
   "execution_count": 20,
   "metadata": {},
   "outputs": [],
   "source": [
    "# Remove targets with too little positive samples\n",
    "order=PHENOTYPES.copy()\n",
    "order.remove('tag_spore')\n",
    "Y = Y[order].values"
   ]
  },
  {
   "cell_type": "code",
   "execution_count": 21,
   "metadata": {},
   "outputs": [],
   "source": [
    "# Remove constant features\n",
    "X=X[:,(X.std(axis=0)!=0)]"
   ]
  },
  {
   "cell_type": "code",
   "execution_count": 22,
   "metadata": {},
   "outputs": [],
   "source": [
    "# Split in train and test as was done for 5-fold cross validation\n",
    "X_train, Y_train, X_test, Y_test = iterative_train_test_split(X, Y, test_size=0.2)"
   ]
  },
  {
   "cell_type": "code",
   "execution_count": 23,
   "metadata": {},
   "outputs": [],
   "source": [
    "#Scale X features to [0,1], use X_train scaller to also scale X_test\n",
    "scaler = pp.MinMaxScaler()\n",
    "X_train=scaler.fit_transform(X_train)\n",
    "X_test=scaler.transform(X_test)"
   ]
  },
  {
   "cell_type": "markdown",
   "metadata": {},
   "source": [
    "Classifier: One vs rest logistic regression without regularisation and class weights accounting for class imbalance. "
   ]
  },
  {
   "cell_type": "code",
   "execution_count": 43,
   "metadata": {},
   "outputs": [],
   "source": [
    "classifier = OneVsRestClassifier(estimator=LogisticRegression(n_jobs=20,  solver='saga',penalty='none',\n",
    "                                                              class_weight='balanced'),\n",
    "                                 n_jobs=Y_train.shape[1] ).fit(X_train,Y_train)"
   ]
  },
  {
   "cell_type": "markdown",
   "metadata": {},
   "source": [
    "## Model evaluation"
   ]
  },
  {
   "cell_type": "code",
   "execution_count": 103,
   "metadata": {},
   "outputs": [],
   "source": [
    "#Y_predict = classifier.predict(X_test)\n",
    "Y_p = classifier.predict_proba(X_test)"
   ]
  },
  {
   "cell_type": "code",
   "execution_count": 160,
   "metadata": {},
   "outputs": [],
   "source": [
    "# ROC analysis addapted from https://scikit-learn.org/stable/auto_examples/model_selection/plot_roc.html\n",
    "#Y_score = classifier.decision_function(X_test)\n",
    "# Compute ROC curve and ROC area for each class\n",
    "fpr = dict()\n",
    "tpr = dict()\n",
    "roc_auc = dict()\n",
    "#precision=dict()\n",
    "#recall=dict()\n",
    "#threshold=dict()\n",
    "for i in range(Y_train.shape[1]):\n",
    "    phenotype=order[i]\n",
    "    fpr[phenotype], tpr[phenotype], _ = roc_curve(Y_test[:, i], Y_p[:, i])\n",
    "    roc_auc[phenotype] = auc(fpr[phenotype], tpr[phenotype])\n",
    "    #precision[phenotype],recall[phenotype],threshold[phenotype]=precision_recall_curve(Y_test[:,i],Y_p[:,i])\n",
    "    "
   ]
  },
  {
   "cell_type": "code",
   "execution_count": 170,
   "metadata": {},
   "outputs": [
    {
     "data": {
      "text/plain": [
       "<matplotlib.legend.Legend at 0x7f84d5253c10>"
      ]
     },
     "execution_count": 170,
     "metadata": {},
     "output_type": "execute_result"
    },
    {
     "data": {
      "image/png": "[encoded data removed]",
      "text/plain": [
       "<Figure size 432x288 with 1 Axes>"
      ]
     },
     "metadata": {
      "needs_background": "light"
     },
     "output_type": "display_data"
    }
   ],
   "source": [
    "# ROC plot for individual targets\n",
    "plt.figure()\n",
    "lw = 2\n",
    "colour_dict={}\n",
    "for stage in order:\n",
    "    p=plt.plot(fpr[stage], tpr[stage],\n",
    "         lw=lw, label=stage+' (area = %0.2f)' % roc_auc[stage])\n",
    "    colour_dict[stage]=p[0].get_color()\n",
    "plt.xlim([0.0, 1.0])\n",
    "plt.ylim([0.0, 1.05])\n",
    "plt.xlabel('False Positive Rate')\n",
    "plt.ylabel('True Positive Rate')\n",
    "plt.title('Receiver operating characteristic')\n",
    "plt.legend(loc=\"lower right\")"
   ]
  },
  {
   "cell_type": "code",
   "execution_count": null,
   "metadata": {},
   "outputs": [],
   "source": [
    "# Calculation of precision, recall, and F score at different prediction thresholds\n",
    "prfs_all=pd.DataFrame()\n",
    "step=0.05\n",
    "for threshold in np.arange(0, 1+step, step):\n",
    "    Y_class=Y_p.copy()\n",
    "    Y_class[Y_class>threshold]=1\n",
    "    Y_class[Y_class<=threshold]=0\n",
    "    prfs=pd.DataFrame(precision_recall_fscore_support(Y_test, Y_class),index=['precision','recall','F_score','support']).T\n",
    "    prfs['Stage']=order\n",
    "    prfs['Threshold']=[threshold]*prfs.shape[0]\n",
    "    prfs_all=prfs_all.append(prfs)"
   ]
  },
  {
   "cell_type": "code",
   "execution_count": 174,
   "metadata": {},
   "outputs": [
    {
     "data": {
      "text/html": [
       "\n",
       "<div id=\"altair-viz-799f32ce4b29411b84d6c846c5b2ec4e\"></div>\n",
       "<script type=\"text/javascript\">\n",
       "  (function(spec, embedOpt){\n",
       "    const outputDiv = document.getElementById(\"altair-viz-799f32ce4b29411b84d6c846c5b2ec4e\");\n",
       "    const paths = {\n",
       "      \"vega\": \"https://cdn.jsdelivr.net/npm//vega@5?noext\",\n",
       "      \"vega-lib\": \"https://cdn.jsdelivr.net/npm//vega-lib?noext\",\n",
       "      \"vega-lite\": \"https://cdn.jsdelivr.net/npm//vega-lite@4.0.2?noext\",\n",
       "      \"vega-embed\": \"https://cdn.jsdelivr.net/npm//vega-embed@6?noext\",\n",
       "    };\n",
       "\n",
       "    function loadScript(lib) {\n",
       "      return new Promise(function(resolve, reject) {\n",
       "        var s = document.createElement('script');\n",
       "        s.src = paths[lib];\n",
       "        s.async = true;\n",
       "        s.onload = () => resolve(paths[lib]);\n",
       "        s.onerror = () => reject(`Error loading script: ${paths[lib]}`);\n",
       "        document.getElementsByTagName(\"head\")[0].appendChild(s);\n",
       "      });\n",
       "    }\n",
       "\n",
       "    function showError(err) {\n",
       "      outputDiv.innerHTML = `<div class=\"error\" style=\"color:red;\">${err}</div>`;\n",
       "      throw err;\n",
       "    }\n",
       "\n",
       "    function displayChart(vegaEmbed) {\n",
       "      vegaEmbed(outputDiv, spec, embedOpt)\n",
       "        .catch(err => showError(`Javascript Error: ${err.message}<br>This usually means there's a typo in your chart specification. See the javascript console for the full traceback.`));\n",
       "    }\n",
       "\n",
       "    if(typeof define === \"function\" && define.amd) {\n",
       "      requirejs.config({paths});\n",
       "      require([\"vega-embed\"], displayChart, err => showError(`Error loading script: ${err.message}`));\n",
       "    } else if (typeof vegaEmbed === \"function\") {\n",
       "      displayChart(vegaEmbed);\n",
       "    } else {\n",
       "      loadScript(\"vega\")\n",
       "        .then(() => loadScript(\"vega-lite\"))\n",
       "        .then(() => loadScript(\"vega-embed\"))\n",
       "        .catch(showError)\n",
       "        .then(() => displayChart(vegaEmbed));\n",
       "    }\n",
       "  })({\"config\": {\"view\": {\"continuousWidth\": 400, \"continuousHeight\": 300}}, \"data\": {\"name\": \"data-6bae6c92a98622a4ff66e888670b9677\"}, \"mark\": \"line\", \"encoding\": {\"color\": {\"type\": \"nominal\", \"field\": \"Stage\", \"scale\": {\"domain\": [\"no_agg\", \"stream\", \"lag\", \"tag\", \"tip\", \"slug\", \"mhat\", \"cul\", \"FB\", \"disappear\"], \"range\": [\"#1f77b4\", \"#ff7f0e\", \"#2ca02c\", \"#d62728\", \"#9467bd\", \"#8c564b\", \"#e377c2\", \"#7f7f7f\", \"#bcbd22\", \"#17becf\"]}}, \"x\": {\"type\": \"quantitative\", \"field\": \"Threshold\"}, \"y\": {\"type\": \"quantitative\", \"field\": \"F_score\"}}, \"$schema\": \"https://vega.github.io/schema/vega-lite/v4.0.2.json\", \"datasets\": {\"data-6bae6c92a98622a4ff66e888670b9677\": [{\"precision\": 0.4492753623188406, \"recall\": 1.0, \"F_score\": 0.62, \"support\": 31.0, \"Stage\": \"no_agg\", \"Threshold\": 0.0}, {\"precision\": 0.15942028985507245, \"recall\": 1.0, \"F_score\": 0.27499999999999997, \"support\": 11.0, \"Stage\": \"stream\", \"Threshold\": 0.0}, {\"precision\": 0.2463768115942029, \"recall\": 1.0, \"F_score\": 0.39534883720930236, \"support\": 17.0, \"Stage\": \"lag\", \"Threshold\": 0.0}, {\"precision\": 0.18840579710144928, \"recall\": 1.0, \"F_score\": 0.3170731707317073, \"support\": 13.0, \"Stage\": \"tag\", \"Threshold\": 0.0}, {\"precision\": 0.07246376811594203, \"recall\": 1.0, \"F_score\": 0.13513513513513511, \"support\": 5.0, \"Stage\": \"tip\", \"Threshold\": 0.0}, {\"precision\": 0.15942028985507245, \"recall\": 1.0, \"F_score\": 0.27499999999999997, \"support\": 11.0, \"Stage\": \"slug\", \"Threshold\": 0.0}, {\"precision\": 0.043478260869565216, \"recall\": 1.0, \"F_score\": 0.08333333333333333, \"support\": 3.0, \"Stage\": \"mhat\", \"Threshold\": 0.0}, {\"precision\": 0.08695652173913043, \"recall\": 1.0, \"F_score\": 0.16, \"support\": 6.0, \"Stage\": \"cul\", \"Threshold\": 0.0}, {\"precision\": 0.07246376811594203, \"recall\": 1.0, \"F_score\": 0.13513513513513511, \"support\": 5.0, \"Stage\": \"FB\", \"Threshold\": 0.0}, {\"precision\": 0.057971014492753624, \"recall\": 1.0, \"F_score\": 0.1095890410958904, \"support\": 4.0, \"Stage\": \"disappear\", \"Threshold\": 0.0}, {\"precision\": 0.7317073170731707, \"recall\": 0.967741935483871, \"F_score\": 0.8333333333333334, \"support\": 31.0, \"Stage\": \"no_agg\", \"Threshold\": 0.05}, {\"precision\": 0.30303030303030304, \"recall\": 0.9090909090909091, \"F_score\": 0.45454545454545453, \"support\": 11.0, \"Stage\": \"stream\", \"Threshold\": 0.05}, {\"precision\": 0.5, \"recall\": 0.9411764705882353, \"F_score\": 0.6530612244897959, \"support\": 17.0, \"Stage\": \"lag\", \"Threshold\": 0.05}, {\"precision\": 0.41935483870967744, \"recall\": 1.0, \"F_score\": 0.5909090909090909, \"support\": 13.0, \"Stage\": \"tag\", \"Threshold\": 0.05}, {\"precision\": 0.36363636363636365, \"recall\": 0.8, \"F_score\": 0.5000000000000001, \"support\": 5.0, \"Stage\": \"tip\", \"Threshold\": 0.05}, {\"precision\": 0.44, \"recall\": 1.0, \"F_score\": 0.6111111111111112, \"support\": 11.0, \"Stage\": \"slug\", \"Threshold\": 0.05}, {\"precision\": 0.375, \"recall\": 1.0, \"F_score\": 0.5454545454545454, \"support\": 3.0, \"Stage\": \"mhat\", \"Threshold\": 0.05}, {\"precision\": 0.6, \"recall\": 1.0, \"F_score\": 0.7499999999999999, \"support\": 6.0, \"Stage\": \"cul\", \"Threshold\": 0.05}, {\"precision\": 0.5, \"recall\": 0.8, \"F_score\": 0.6153846153846154, \"support\": 5.0, \"Stage\": \"FB\", \"Threshold\": 0.05}, {\"precision\": 0.4, \"recall\": 1.0, \"F_score\": 0.5714285714285715, \"support\": 4.0, \"Stage\": \"disappear\", \"Threshold\": 0.05}, {\"precision\": 0.75, \"recall\": 0.967741935483871, \"F_score\": 0.8450704225352113, \"support\": 31.0, \"Stage\": \"no_agg\", \"Threshold\": 0.1}, {\"precision\": 0.34615384615384615, \"recall\": 0.8181818181818182, \"F_score\": 0.4864864864864865, \"support\": 11.0, \"Stage\": \"stream\", \"Threshold\": 0.1}, {\"precision\": 0.5714285714285714, \"recall\": 0.9411764705882353, \"F_score\": 0.7111111111111111, \"support\": 17.0, \"Stage\": \"lag\", \"Threshold\": 0.1}, {\"precision\": 0.5, \"recall\": 1.0, \"F_score\": 0.6666666666666666, \"support\": 13.0, \"Stage\": \"tag\", \"Threshold\": 0.1}, {\"precision\": 0.5, \"recall\": 0.8, \"F_score\": 0.6153846153846154, \"support\": 5.0, \"Stage\": \"tip\", \"Threshold\": 0.1}, {\"precision\": 0.5789473684210527, \"recall\": 1.0, \"F_score\": 0.7333333333333334, \"support\": 11.0, \"Stage\": \"slug\", \"Threshold\": 0.1}, {\"precision\": 0.42857142857142855, \"recall\": 1.0, \"F_score\": 0.6, \"support\": 3.0, \"Stage\": \"mhat\", \"Threshold\": 0.1}, {\"precision\": 0.6666666666666666, \"recall\": 1.0, \"F_score\": 0.8, \"support\": 6.0, \"Stage\": \"cul\", \"Threshold\": 0.1}, {\"precision\": 0.5714285714285714, \"recall\": 0.8, \"F_score\": 0.6666666666666666, \"support\": 5.0, \"Stage\": \"FB\", \"Threshold\": 0.1}, {\"precision\": 0.8, \"recall\": 1.0, \"F_score\": 0.888888888888889, \"support\": 4.0, \"Stage\": \"disappear\", \"Threshold\": 0.1}, {\"precision\": 0.7692307692307693, \"recall\": 0.967741935483871, \"F_score\": 0.8571428571428572, \"support\": 31.0, \"Stage\": \"no_agg\", \"Threshold\": 0.15000000000000002}, {\"precision\": 0.47058823529411764, \"recall\": 0.7272727272727273, \"F_score\": 0.5714285714285714, \"support\": 11.0, \"Stage\": \"stream\", \"Threshold\": 0.15000000000000002}, {\"precision\": 0.5714285714285714, \"recall\": 0.9411764705882353, \"F_score\": 0.7111111111111111, \"support\": 17.0, \"Stage\": \"lag\", \"Threshold\": 0.15000000000000002}, {\"precision\": 0.5416666666666666, \"recall\": 1.0, \"F_score\": 0.7027027027027027, \"support\": 13.0, \"Stage\": \"tag\", \"Threshold\": 0.15000000000000002}, {\"precision\": 0.5, \"recall\": 0.8, \"F_score\": 0.6153846153846154, \"support\": 5.0, \"Stage\": \"tip\", \"Threshold\": 0.15000000000000002}, {\"precision\": 0.5625, \"recall\": 0.8181818181818182, \"F_score\": 0.6666666666666666, \"support\": 11.0, \"Stage\": \"slug\", \"Threshold\": 0.15000000000000002}, {\"precision\": 0.42857142857142855, \"recall\": 1.0, \"F_score\": 0.6, \"support\": 3.0, \"Stage\": \"mhat\", \"Threshold\": 0.15000000000000002}, {\"precision\": 0.75, \"recall\": 1.0, \"F_score\": 0.8571428571428571, \"support\": 6.0, \"Stage\": \"cul\", \"Threshold\": 0.15000000000000002}, {\"precision\": 0.8, \"recall\": 0.8, \"F_score\": 0.8000000000000002, \"support\": 5.0, \"Stage\": \"FB\", \"Threshold\": 0.15000000000000002}, {\"precision\": 1.0, \"recall\": 0.75, \"F_score\": 0.8571428571428571, \"support\": 4.0, \"Stage\": \"disappear\", \"Threshold\": 0.15000000000000002}, {\"precision\": 0.7692307692307693, \"recall\": 0.967741935483871, \"F_score\": 0.8571428571428572, \"support\": 31.0, \"Stage\": \"no_agg\", \"Threshold\": 0.2}, {\"precision\": 0.47058823529411764, \"recall\": 0.7272727272727273, \"F_score\": 0.5714285714285714, \"support\": 11.0, \"Stage\": \"stream\", \"Threshold\": 0.2}, {\"precision\": 0.5925925925925926, \"recall\": 0.9411764705882353, \"F_score\": 0.7272727272727272, \"support\": 17.0, \"Stage\": \"lag\", \"Threshold\": 0.2}, {\"precision\": 0.5909090909090909, \"recall\": 1.0, \"F_score\": 0.7428571428571429, \"support\": 13.0, \"Stage\": \"tag\", \"Threshold\": 0.2}, {\"precision\": 0.5714285714285714, \"recall\": 0.8, \"F_score\": 0.6666666666666666, \"support\": 5.0, \"Stage\": \"tip\", \"Threshold\": 0.2}, {\"precision\": 0.6, \"recall\": 0.8181818181818182, \"F_score\": 0.6923076923076923, \"support\": 11.0, \"Stage\": \"slug\", \"Threshold\": 0.2}, {\"precision\": 0.42857142857142855, \"recall\": 1.0, \"F_score\": 0.6, \"support\": 3.0, \"Stage\": \"mhat\", \"Threshold\": 0.2}, {\"precision\": 0.75, \"recall\": 1.0, \"F_score\": 0.8571428571428571, \"support\": 6.0, \"Stage\": \"cul\", \"Threshold\": 0.2}, {\"precision\": 0.8, \"recall\": 0.8, \"F_score\": 0.8000000000000002, \"support\": 5.0, \"Stage\": \"FB\", \"Threshold\": 0.2}, {\"precision\": 1.0, \"recall\": 0.75, \"F_score\": 0.8571428571428571, \"support\": 4.0, \"Stage\": \"disappear\", \"Threshold\": 0.2}, {\"precision\": 0.8108108108108109, \"recall\": 0.967741935483871, \"F_score\": 0.8823529411764706, \"support\": 31.0, \"Stage\": \"no_agg\", \"Threshold\": 0.25}, {\"precision\": 0.5714285714285714, \"recall\": 0.7272727272727273, \"F_score\": 0.64, \"support\": 11.0, \"Stage\": \"stream\", \"Threshold\": 0.25}, {\"precision\": 0.625, \"recall\": 0.8823529411764706, \"F_score\": 0.7317073170731708, \"support\": 17.0, \"Stage\": \"lag\", \"Threshold\": 0.25}, {\"precision\": 0.6, \"recall\": 0.9230769230769231, \"F_score\": 0.7272727272727274, \"support\": 13.0, \"Stage\": \"tag\", \"Threshold\": 0.25}, {\"precision\": 0.6666666666666666, \"recall\": 0.8, \"F_score\": 0.7272727272727272, \"support\": 5.0, \"Stage\": \"tip\", \"Threshold\": 0.25}, {\"precision\": 0.6923076923076923, \"recall\": 0.8181818181818182, \"F_score\": 0.7500000000000001, \"support\": 11.0, \"Stage\": \"slug\", \"Threshold\": 0.25}, {\"precision\": 0.42857142857142855, \"recall\": 1.0, \"F_score\": 0.6, \"support\": 3.0, \"Stage\": \"mhat\", \"Threshold\": 0.25}, {\"precision\": 0.75, \"recall\": 1.0, \"F_score\": 0.8571428571428571, \"support\": 6.0, \"Stage\": \"cul\", \"Threshold\": 0.25}, {\"precision\": 1.0, \"recall\": 0.8, \"F_score\": 0.888888888888889, \"support\": 5.0, \"Stage\": \"FB\", \"Threshold\": 0.25}, {\"precision\": 1.0, \"recall\": 0.75, \"F_score\": 0.8571428571428571, \"support\": 4.0, \"Stage\": \"disappear\", \"Threshold\": 0.25}, {\"precision\": 0.8108108108108109, \"recall\": 0.967741935483871, \"F_score\": 0.8823529411764706, \"support\": 31.0, \"Stage\": \"no_agg\", \"Threshold\": 0.30000000000000004}, {\"precision\": 0.5714285714285714, \"recall\": 0.7272727272727273, \"F_score\": 0.64, \"support\": 11.0, \"Stage\": \"stream\", \"Threshold\": 0.30000000000000004}, {\"precision\": 0.6521739130434783, \"recall\": 0.8823529411764706, \"F_score\": 0.75, \"support\": 17.0, \"Stage\": \"lag\", \"Threshold\": 0.30000000000000004}, {\"precision\": 0.6111111111111112, \"recall\": 0.8461538461538461, \"F_score\": 0.7096774193548387, \"support\": 13.0, \"Stage\": \"tag\", \"Threshold\": 0.30000000000000004}, {\"precision\": 0.6, \"recall\": 0.6, \"F_score\": 0.6, \"support\": 5.0, \"Stage\": \"tip\", \"Threshold\": 0.30000000000000004}, {\"precision\": 0.75, \"recall\": 0.8181818181818182, \"F_score\": 0.7826086956521738, \"support\": 11.0, \"Stage\": \"slug\", \"Threshold\": 0.30000000000000004}, {\"precision\": 0.42857142857142855, \"recall\": 1.0, \"F_score\": 0.6, \"support\": 3.0, \"Stage\": \"mhat\", \"Threshold\": 0.30000000000000004}, {\"precision\": 0.75, \"recall\": 1.0, \"F_score\": 0.8571428571428571, \"support\": 6.0, \"Stage\": \"cul\", \"Threshold\": 0.30000000000000004}, {\"precision\": 1.0, \"recall\": 0.8, \"F_score\": 0.888888888888889, \"support\": 5.0, \"Stage\": \"FB\", \"Threshold\": 0.30000000000000004}, {\"precision\": 1.0, \"recall\": 0.75, \"F_score\": 0.8571428571428571, \"support\": 4.0, \"Stage\": \"disappear\", \"Threshold\": 0.30000000000000004}, {\"precision\": 0.8529411764705882, \"recall\": 0.9354838709677419, \"F_score\": 0.8923076923076922, \"support\": 31.0, \"Stage\": \"no_agg\", \"Threshold\": 0.35000000000000003}, {\"precision\": 0.6363636363636364, \"recall\": 0.6363636363636364, \"F_score\": 0.6363636363636364, \"support\": 11.0, \"Stage\": \"stream\", \"Threshold\": 0.35000000000000003}, {\"precision\": 0.6521739130434783, \"recall\": 0.8823529411764706, \"F_score\": 0.75, \"support\": 17.0, \"Stage\": \"lag\", \"Threshold\": 0.35000000000000003}, {\"precision\": 0.6, \"recall\": 0.6923076923076923, \"F_score\": 0.6428571428571429, \"support\": 13.0, \"Stage\": \"tag\", \"Threshold\": 0.35000000000000003}, {\"precision\": 0.6666666666666666, \"recall\": 0.4, \"F_score\": 0.5, \"support\": 5.0, \"Stage\": \"tip\", \"Threshold\": 0.35000000000000003}, {\"precision\": 0.75, \"recall\": 0.8181818181818182, \"F_score\": 0.7826086956521738, \"support\": 11.0, \"Stage\": \"slug\", \"Threshold\": 0.35000000000000003}, {\"precision\": 0.5, \"recall\": 1.0, \"F_score\": 0.6666666666666666, \"support\": 3.0, \"Stage\": \"mhat\", \"Threshold\": 0.35000000000000003}, {\"precision\": 0.75, \"recall\": 1.0, \"F_score\": 0.8571428571428571, \"support\": 6.0, \"Stage\": \"cul\", \"Threshold\": 0.35000000000000003}, {\"precision\": 1.0, \"recall\": 0.8, \"F_score\": 0.888888888888889, \"support\": 5.0, \"Stage\": \"FB\", \"Threshold\": 0.35000000000000003}, {\"precision\": 1.0, \"recall\": 0.75, \"F_score\": 0.8571428571428571, \"support\": 4.0, \"Stage\": \"disappear\", \"Threshold\": 0.35000000000000003}, {\"precision\": 0.8529411764705882, \"recall\": 0.9354838709677419, \"F_score\": 0.8923076923076922, \"support\": 31.0, \"Stage\": \"no_agg\", \"Threshold\": 0.4}, {\"precision\": 0.6363636363636364, \"recall\": 0.6363636363636364, \"F_score\": 0.6363636363636364, \"support\": 11.0, \"Stage\": \"stream\", \"Threshold\": 0.4}, {\"precision\": 0.6521739130434783, \"recall\": 0.8823529411764706, \"F_score\": 0.75, \"support\": 17.0, \"Stage\": \"lag\", \"Threshold\": 0.4}, {\"precision\": 0.6, \"recall\": 0.6923076923076923, \"F_score\": 0.6428571428571429, \"support\": 13.0, \"Stage\": \"tag\", \"Threshold\": 0.4}, {\"precision\": 0.6666666666666666, \"recall\": 0.4, \"F_score\": 0.5, \"support\": 5.0, \"Stage\": \"tip\", \"Threshold\": 0.4}, {\"precision\": 0.7272727272727273, \"recall\": 0.7272727272727273, \"F_score\": 0.7272727272727273, \"support\": 11.0, \"Stage\": \"slug\", \"Threshold\": 0.4}, {\"precision\": 0.5, \"recall\": 1.0, \"F_score\": 0.6666666666666666, \"support\": 3.0, \"Stage\": \"mhat\", \"Threshold\": 0.4}, {\"precision\": 0.75, \"recall\": 1.0, \"F_score\": 0.8571428571428571, \"support\": 6.0, \"Stage\": \"cul\", \"Threshold\": 0.4}, {\"precision\": 1.0, \"recall\": 0.8, \"F_score\": 0.888888888888889, \"support\": 5.0, \"Stage\": \"FB\", \"Threshold\": 0.4}, {\"precision\": 1.0, \"recall\": 0.75, \"F_score\": 0.8571428571428571, \"support\": 4.0, \"Stage\": \"disappear\", \"Threshold\": 0.4}, {\"precision\": 0.90625, \"recall\": 0.9354838709677419, \"F_score\": 0.9206349206349206, \"support\": 31.0, \"Stage\": \"no_agg\", \"Threshold\": 0.45}, {\"precision\": 0.7, \"recall\": 0.6363636363636364, \"F_score\": 0.6666666666666666, \"support\": 11.0, \"Stage\": \"stream\", \"Threshold\": 0.45}, {\"precision\": 0.7142857142857143, \"recall\": 0.8823529411764706, \"F_score\": 0.7894736842105262, \"support\": 17.0, \"Stage\": \"lag\", \"Threshold\": 0.45}, {\"precision\": 0.6923076923076923, \"recall\": 0.6923076923076923, \"F_score\": 0.6923076923076923, \"support\": 13.0, \"Stage\": \"tag\", \"Threshold\": 0.45}, {\"precision\": 0.6666666666666666, \"recall\": 0.4, \"F_score\": 0.5, \"support\": 5.0, \"Stage\": \"tip\", \"Threshold\": 0.45}, {\"precision\": 0.6666666666666666, \"recall\": 0.5454545454545454, \"F_score\": 0.6, \"support\": 11.0, \"Stage\": \"slug\", \"Threshold\": 0.45}, {\"precision\": 0.5, \"recall\": 1.0, \"F_score\": 0.6666666666666666, \"support\": 3.0, \"Stage\": \"mhat\", \"Threshold\": 0.45}, {\"precision\": 0.75, \"recall\": 1.0, \"F_score\": 0.8571428571428571, \"support\": 6.0, \"Stage\": \"cul\", \"Threshold\": 0.45}, {\"precision\": 1.0, \"recall\": 0.8, \"F_score\": 0.888888888888889, \"support\": 5.0, \"Stage\": \"FB\", \"Threshold\": 0.45}, {\"precision\": 1.0, \"recall\": 0.75, \"F_score\": 0.8571428571428571, \"support\": 4.0, \"Stage\": \"disappear\", \"Threshold\": 0.45}, {\"precision\": 0.9032258064516129, \"recall\": 0.9032258064516129, \"F_score\": 0.9032258064516129, \"support\": 31.0, \"Stage\": \"no_agg\", \"Threshold\": 0.5}, {\"precision\": 0.7, \"recall\": 0.6363636363636364, \"F_score\": 0.6666666666666666, \"support\": 11.0, \"Stage\": \"stream\", \"Threshold\": 0.5}, {\"precision\": 0.7222222222222222, \"recall\": 0.7647058823529411, \"F_score\": 0.7428571428571428, \"support\": 17.0, \"Stage\": \"lag\", \"Threshold\": 0.5}, {\"precision\": 0.6923076923076923, \"recall\": 0.6923076923076923, \"F_score\": 0.6923076923076923, \"support\": 13.0, \"Stage\": \"tag\", \"Threshold\": 0.5}, {\"precision\": 0.6666666666666666, \"recall\": 0.4, \"F_score\": 0.5, \"support\": 5.0, \"Stage\": \"tip\", \"Threshold\": 0.5}, {\"precision\": 0.8333333333333334, \"recall\": 0.45454545454545453, \"F_score\": 0.5882352941176471, \"support\": 11.0, \"Stage\": \"slug\", \"Threshold\": 0.5}, {\"precision\": 0.5, \"recall\": 1.0, \"F_score\": 0.6666666666666666, \"support\": 3.0, \"Stage\": \"mhat\", \"Threshold\": 0.5}, {\"precision\": 0.75, \"recall\": 1.0, \"F_score\": 0.8571428571428571, \"support\": 6.0, \"Stage\": \"cul\", \"Threshold\": 0.5}, {\"precision\": 1.0, \"recall\": 0.8, \"F_score\": 0.888888888888889, \"support\": 5.0, \"Stage\": \"FB\", \"Threshold\": 0.5}, {\"precision\": 1.0, \"recall\": 0.75, \"F_score\": 0.8571428571428571, \"support\": 4.0, \"Stage\": \"disappear\", \"Threshold\": 0.5}, {\"precision\": 0.9032258064516129, \"recall\": 0.9032258064516129, \"F_score\": 0.9032258064516129, \"support\": 31.0, \"Stage\": \"no_agg\", \"Threshold\": 0.55}, {\"precision\": 0.7777777777777778, \"recall\": 0.6363636363636364, \"F_score\": 0.7000000000000001, \"support\": 11.0, \"Stage\": \"stream\", \"Threshold\": 0.55}, {\"precision\": 0.7222222222222222, \"recall\": 0.7647058823529411, \"F_score\": 0.7428571428571428, \"support\": 17.0, \"Stage\": \"lag\", \"Threshold\": 0.55}, {\"precision\": 0.6923076923076923, \"recall\": 0.6923076923076923, \"F_score\": 0.6923076923076923, \"support\": 13.0, \"Stage\": \"tag\", \"Threshold\": 0.55}, {\"precision\": 0.6666666666666666, \"recall\": 0.4, \"F_score\": 0.5, \"support\": 5.0, \"Stage\": \"tip\", \"Threshold\": 0.55}, {\"precision\": 0.8333333333333334, \"recall\": 0.45454545454545453, \"F_score\": 0.5882352941176471, \"support\": 11.0, \"Stage\": \"slug\", \"Threshold\": 0.55}, {\"precision\": 0.5, \"recall\": 1.0, \"F_score\": 0.6666666666666666, \"support\": 3.0, \"Stage\": \"mhat\", \"Threshold\": 0.55}, {\"precision\": 0.75, \"recall\": 1.0, \"F_score\": 0.8571428571428571, \"support\": 6.0, \"Stage\": \"cul\", \"Threshold\": 0.55}, {\"precision\": 1.0, \"recall\": 0.8, \"F_score\": 0.888888888888889, \"support\": 5.0, \"Stage\": \"FB\", \"Threshold\": 0.55}, {\"precision\": 1.0, \"recall\": 0.75, \"F_score\": 0.8571428571428571, \"support\": 4.0, \"Stage\": \"disappear\", \"Threshold\": 0.55}, {\"precision\": 0.9, \"recall\": 0.8709677419354839, \"F_score\": 0.8852459016393444, \"support\": 31.0, \"Stage\": \"no_agg\", \"Threshold\": 0.6000000000000001}, {\"precision\": 0.7777777777777778, \"recall\": 0.6363636363636364, \"F_score\": 0.7000000000000001, \"support\": 11.0, \"Stage\": \"stream\", \"Threshold\": 0.6000000000000001}, {\"precision\": 0.7647058823529411, \"recall\": 0.7647058823529411, \"F_score\": 0.7647058823529412, \"support\": 17.0, \"Stage\": \"lag\", \"Threshold\": 0.6000000000000001}, {\"precision\": 0.75, \"recall\": 0.6923076923076923, \"F_score\": 0.7199999999999999, \"support\": 13.0, \"Stage\": \"tag\", \"Threshold\": 0.6000000000000001}, {\"precision\": 0.6666666666666666, \"recall\": 0.4, \"F_score\": 0.5, \"support\": 5.0, \"Stage\": \"tip\", \"Threshold\": 0.6000000000000001}, {\"precision\": 0.8333333333333334, \"recall\": 0.45454545454545453, \"F_score\": 0.5882352941176471, \"support\": 11.0, \"Stage\": \"slug\", \"Threshold\": 0.6000000000000001}, {\"precision\": 0.5, \"recall\": 1.0, \"F_score\": 0.6666666666666666, \"support\": 3.0, \"Stage\": \"mhat\", \"Threshold\": 0.6000000000000001}, {\"precision\": 0.75, \"recall\": 1.0, \"F_score\": 0.8571428571428571, \"support\": 6.0, \"Stage\": \"cul\", \"Threshold\": 0.6000000000000001}, {\"precision\": 1.0, \"recall\": 0.8, \"F_score\": 0.888888888888889, \"support\": 5.0, \"Stage\": \"FB\", \"Threshold\": 0.6000000000000001}, {\"precision\": 1.0, \"recall\": 0.75, \"F_score\": 0.8571428571428571, \"support\": 4.0, \"Stage\": \"disappear\", \"Threshold\": 0.6000000000000001}, {\"precision\": 0.9, \"recall\": 0.8709677419354839, \"F_score\": 0.8852459016393444, \"support\": 31.0, \"Stage\": \"no_agg\", \"Threshold\": 0.65}, {\"precision\": 0.75, \"recall\": 0.5454545454545454, \"F_score\": 0.631578947368421, \"support\": 11.0, \"Stage\": \"stream\", \"Threshold\": 0.65}, {\"precision\": 0.8, \"recall\": 0.7058823529411765, \"F_score\": 0.7500000000000001, \"support\": 17.0, \"Stage\": \"lag\", \"Threshold\": 0.65}, {\"precision\": 0.75, \"recall\": 0.6923076923076923, \"F_score\": 0.7199999999999999, \"support\": 13.0, \"Stage\": \"tag\", \"Threshold\": 0.65}, {\"precision\": 0.6666666666666666, \"recall\": 0.4, \"F_score\": 0.5, \"support\": 5.0, \"Stage\": \"tip\", \"Threshold\": 0.65}, {\"precision\": 0.8333333333333334, \"recall\": 0.45454545454545453, \"F_score\": 0.5882352941176471, \"support\": 11.0, \"Stage\": \"slug\", \"Threshold\": 0.65}, {\"precision\": 0.5, \"recall\": 1.0, \"F_score\": 0.6666666666666666, \"support\": 3.0, \"Stage\": \"mhat\", \"Threshold\": 0.65}, {\"precision\": 0.75, \"recall\": 1.0, \"F_score\": 0.8571428571428571, \"support\": 6.0, \"Stage\": \"cul\", \"Threshold\": 0.65}, {\"precision\": 1.0, \"recall\": 0.8, \"F_score\": 0.888888888888889, \"support\": 5.0, \"Stage\": \"FB\", \"Threshold\": 0.65}, {\"precision\": 1.0, \"recall\": 0.75, \"F_score\": 0.8571428571428571, \"support\": 4.0, \"Stage\": \"disappear\", \"Threshold\": 0.65}, {\"precision\": 0.9, \"recall\": 0.8709677419354839, \"F_score\": 0.8852459016393444, \"support\": 31.0, \"Stage\": \"no_agg\", \"Threshold\": 0.7000000000000001}, {\"precision\": 0.8571428571428571, \"recall\": 0.5454545454545454, \"F_score\": 0.6666666666666665, \"support\": 11.0, \"Stage\": \"stream\", \"Threshold\": 0.7000000000000001}, {\"precision\": 0.8, \"recall\": 0.7058823529411765, \"F_score\": 0.7500000000000001, \"support\": 17.0, \"Stage\": \"lag\", \"Threshold\": 0.7000000000000001}, {\"precision\": 0.75, \"recall\": 0.6923076923076923, \"F_score\": 0.7199999999999999, \"support\": 13.0, \"Stage\": \"tag\", \"Threshold\": 0.7000000000000001}, {\"precision\": 0.6666666666666666, \"recall\": 0.4, \"F_score\": 0.5, \"support\": 5.0, \"Stage\": \"tip\", \"Threshold\": 0.7000000000000001}, {\"precision\": 0.8333333333333334, \"recall\": 0.45454545454545453, \"F_score\": 0.5882352941176471, \"support\": 11.0, \"Stage\": \"slug\", \"Threshold\": 0.7000000000000001}, {\"precision\": 0.6, \"recall\": 1.0, \"F_score\": 0.7499999999999999, \"support\": 3.0, \"Stage\": \"mhat\", \"Threshold\": 0.7000000000000001}, {\"precision\": 0.75, \"recall\": 1.0, \"F_score\": 0.8571428571428571, \"support\": 6.0, \"Stage\": \"cul\", \"Threshold\": 0.7000000000000001}, {\"precision\": 1.0, \"recall\": 0.8, \"F_score\": 0.888888888888889, \"support\": 5.0, \"Stage\": \"FB\", \"Threshold\": 0.7000000000000001}, {\"precision\": 1.0, \"recall\": 0.5, \"F_score\": 0.6666666666666666, \"support\": 4.0, \"Stage\": \"disappear\", \"Threshold\": 0.7000000000000001}, {\"precision\": 0.8928571428571429, \"recall\": 0.8064516129032258, \"F_score\": 0.8474576271186439, \"support\": 31.0, \"Stage\": \"no_agg\", \"Threshold\": 0.75}, {\"precision\": 0.8571428571428571, \"recall\": 0.5454545454545454, \"F_score\": 0.6666666666666665, \"support\": 11.0, \"Stage\": \"stream\", \"Threshold\": 0.75}, {\"precision\": 0.75, \"recall\": 0.5294117647058824, \"F_score\": 0.6206896551724139, \"support\": 17.0, \"Stage\": \"lag\", \"Threshold\": 0.75}, {\"precision\": 0.8181818181818182, \"recall\": 0.6923076923076923, \"F_score\": 0.7500000000000001, \"support\": 13.0, \"Stage\": \"tag\", \"Threshold\": 0.75}, {\"precision\": 0.6666666666666666, \"recall\": 0.4, \"F_score\": 0.5, \"support\": 5.0, \"Stage\": \"tip\", \"Threshold\": 0.75}, {\"precision\": 0.8333333333333334, \"recall\": 0.45454545454545453, \"F_score\": 0.5882352941176471, \"support\": 11.0, \"Stage\": \"slug\", \"Threshold\": 0.75}, {\"precision\": 0.5, \"recall\": 0.6666666666666666, \"F_score\": 0.5714285714285715, \"support\": 3.0, \"Stage\": \"mhat\", \"Threshold\": 0.75}, {\"precision\": 0.75, \"recall\": 1.0, \"F_score\": 0.8571428571428571, \"support\": 6.0, \"Stage\": \"cul\", \"Threshold\": 0.75}, {\"precision\": 1.0, \"recall\": 0.8, \"F_score\": 0.888888888888889, \"support\": 5.0, \"Stage\": \"FB\", \"Threshold\": 0.75}, {\"precision\": 1.0, \"recall\": 0.5, \"F_score\": 0.6666666666666666, \"support\": 4.0, \"Stage\": \"disappear\", \"Threshold\": 0.75}, {\"precision\": 0.96, \"recall\": 0.7741935483870968, \"F_score\": 0.8571428571428571, \"support\": 31.0, \"Stage\": \"no_agg\", \"Threshold\": 0.8}, {\"precision\": 0.8333333333333334, \"recall\": 0.45454545454545453, \"F_score\": 0.5882352941176471, \"support\": 11.0, \"Stage\": \"stream\", \"Threshold\": 0.8}, {\"precision\": 0.7272727272727273, \"recall\": 0.47058823529411764, \"F_score\": 0.5714285714285714, \"support\": 17.0, \"Stage\": \"lag\", \"Threshold\": 0.8}, {\"precision\": 0.8, \"recall\": 0.6153846153846154, \"F_score\": 0.6956521739130435, \"support\": 13.0, \"Stage\": \"tag\", \"Threshold\": 0.8}, {\"precision\": 1.0, \"recall\": 0.4, \"F_score\": 0.5714285714285715, \"support\": 5.0, \"Stage\": \"tip\", \"Threshold\": 0.8}, {\"precision\": 0.8, \"recall\": 0.36363636363636365, \"F_score\": 0.5000000000000001, \"support\": 11.0, \"Stage\": \"slug\", \"Threshold\": 0.8}, {\"precision\": 0.5, \"recall\": 0.6666666666666666, \"F_score\": 0.5714285714285715, \"support\": 3.0, \"Stage\": \"mhat\", \"Threshold\": 0.8}, {\"precision\": 0.75, \"recall\": 1.0, \"F_score\": 0.8571428571428571, \"support\": 6.0, \"Stage\": \"cul\", \"Threshold\": 0.8}, {\"precision\": 1.0, \"recall\": 0.6, \"F_score\": 0.7499999999999999, \"support\": 5.0, \"Stage\": \"FB\", \"Threshold\": 0.8}, {\"precision\": 1.0, \"recall\": 0.5, \"F_score\": 0.6666666666666666, \"support\": 4.0, \"Stage\": \"disappear\", \"Threshold\": 0.8}, {\"precision\": 1.0, \"recall\": 0.7741935483870968, \"F_score\": 0.8727272727272727, \"support\": 31.0, \"Stage\": \"no_agg\", \"Threshold\": 0.8500000000000001}, {\"precision\": 0.75, \"recall\": 0.2727272727272727, \"F_score\": 0.39999999999999997, \"support\": 11.0, \"Stage\": \"stream\", \"Threshold\": 0.8500000000000001}, {\"precision\": 0.8, \"recall\": 0.47058823529411764, \"F_score\": 0.5925925925925927, \"support\": 17.0, \"Stage\": \"lag\", \"Threshold\": 0.8500000000000001}, {\"precision\": 0.7777777777777778, \"recall\": 0.5384615384615384, \"F_score\": 0.6363636363636364, \"support\": 13.0, \"Stage\": \"tag\", \"Threshold\": 0.8500000000000001}, {\"precision\": 1.0, \"recall\": 0.2, \"F_score\": 0.33333333333333337, \"support\": 5.0, \"Stage\": \"tip\", \"Threshold\": 0.8500000000000001}, {\"precision\": 0.75, \"recall\": 0.2727272727272727, \"F_score\": 0.39999999999999997, \"support\": 11.0, \"Stage\": \"slug\", \"Threshold\": 0.8500000000000001}, {\"precision\": 0.6666666666666666, \"recall\": 0.6666666666666666, \"F_score\": 0.6666666666666666, \"support\": 3.0, \"Stage\": \"mhat\", \"Threshold\": 0.8500000000000001}, {\"precision\": 0.8571428571428571, \"recall\": 1.0, \"F_score\": 0.923076923076923, \"support\": 6.0, \"Stage\": \"cul\", \"Threshold\": 0.8500000000000001}, {\"precision\": 1.0, \"recall\": 0.2, \"F_score\": 0.33333333333333337, \"support\": 5.0, \"Stage\": \"FB\", \"Threshold\": 0.8500000000000001}, {\"precision\": 1.0, \"recall\": 0.5, \"F_score\": 0.6666666666666666, \"support\": 4.0, \"Stage\": \"disappear\", \"Threshold\": 0.8500000000000001}, {\"precision\": 1.0, \"recall\": 0.7419354838709677, \"F_score\": 0.8518518518518519, \"support\": 31.0, \"Stage\": \"no_agg\", \"Threshold\": 0.9}, {\"precision\": 1.0, \"recall\": 0.2727272727272727, \"F_score\": 0.42857142857142855, \"support\": 11.0, \"Stage\": \"stream\", \"Threshold\": 0.9}, {\"precision\": 0.875, \"recall\": 0.4117647058823529, \"F_score\": 0.56, \"support\": 17.0, \"Stage\": \"lag\", \"Threshold\": 0.9}, {\"precision\": 0.75, \"recall\": 0.46153846153846156, \"F_score\": 0.5714285714285714, \"support\": 13.0, \"Stage\": \"tag\", \"Threshold\": 0.9}, {\"precision\": 1.0, \"recall\": 0.2, \"F_score\": 0.33333333333333337, \"support\": 5.0, \"Stage\": \"tip\", \"Threshold\": 0.9}, {\"precision\": 0.6666666666666666, \"recall\": 0.18181818181818182, \"F_score\": 0.28571428571428575, \"support\": 11.0, \"Stage\": \"slug\", \"Threshold\": 0.9}, {\"precision\": 1.0, \"recall\": 0.3333333333333333, \"F_score\": 0.5, \"support\": 3.0, \"Stage\": \"mhat\", \"Threshold\": 0.9}, {\"precision\": 0.8571428571428571, \"recall\": 1.0, \"F_score\": 0.923076923076923, \"support\": 6.0, \"Stage\": \"cul\", \"Threshold\": 0.9}, {\"precision\": 1.0, \"recall\": 0.2, \"F_score\": 0.33333333333333337, \"support\": 5.0, \"Stage\": \"FB\", \"Threshold\": 0.9}, {\"precision\": 1.0, \"recall\": 0.25, \"F_score\": 0.4, \"support\": 4.0, \"Stage\": \"disappear\", \"Threshold\": 0.9}, {\"precision\": 1.0, \"recall\": 0.6451612903225806, \"F_score\": 0.7843137254901961, \"support\": 31.0, \"Stage\": \"no_agg\", \"Threshold\": 0.9500000000000001}, {\"precision\": 1.0, \"recall\": 0.18181818181818182, \"F_score\": 0.3076923076923077, \"support\": 11.0, \"Stage\": \"stream\", \"Threshold\": 0.9500000000000001}, {\"precision\": 0.8, \"recall\": 0.23529411764705882, \"F_score\": 0.3636363636363636, \"support\": 17.0, \"Stage\": \"lag\", \"Threshold\": 0.9500000000000001}, {\"precision\": 0.8, \"recall\": 0.3076923076923077, \"F_score\": 0.4444444444444444, \"support\": 13.0, \"Stage\": \"tag\", \"Threshold\": 0.9500000000000001}, {\"precision\": 1.0, \"recall\": 0.2, \"F_score\": 0.33333333333333337, \"support\": 5.0, \"Stage\": \"tip\", \"Threshold\": 0.9500000000000001}, {\"precision\": 1.0, \"recall\": 0.09090909090909091, \"F_score\": 0.16666666666666669, \"support\": 11.0, \"Stage\": \"slug\", \"Threshold\": 0.9500000000000001}, {\"precision\": 1.0, \"recall\": 0.3333333333333333, \"F_score\": 0.5, \"support\": 3.0, \"Stage\": \"mhat\", \"Threshold\": 0.9500000000000001}, {\"precision\": 0.8333333333333334, \"recall\": 0.8333333333333334, \"F_score\": 0.8333333333333334, \"support\": 6.0, \"Stage\": \"cul\", \"Threshold\": 0.9500000000000001}, {\"precision\": 0.0, \"recall\": 0.0, \"F_score\": 0.0, \"support\": 5.0, \"Stage\": \"FB\", \"Threshold\": 0.9500000000000001}, {\"precision\": 1.0, \"recall\": 0.25, \"F_score\": 0.4, \"support\": 4.0, \"Stage\": \"disappear\", \"Threshold\": 0.9500000000000001}, {\"precision\": 0.0, \"recall\": 0.0, \"F_score\": 0.0, \"support\": 31.0, \"Stage\": \"no_agg\", \"Threshold\": 1.0}, {\"precision\": 0.0, \"recall\": 0.0, \"F_score\": 0.0, \"support\": 11.0, \"Stage\": \"stream\", \"Threshold\": 1.0}, {\"precision\": 0.0, \"recall\": 0.0, \"F_score\": 0.0, \"support\": 17.0, \"Stage\": \"lag\", \"Threshold\": 1.0}, {\"precision\": 0.0, \"recall\": 0.0, \"F_score\": 0.0, \"support\": 13.0, \"Stage\": \"tag\", \"Threshold\": 1.0}, {\"precision\": 0.0, \"recall\": 0.0, \"F_score\": 0.0, \"support\": 5.0, \"Stage\": \"tip\", \"Threshold\": 1.0}, {\"precision\": 0.0, \"recall\": 0.0, \"F_score\": 0.0, \"support\": 11.0, \"Stage\": \"slug\", \"Threshold\": 1.0}, {\"precision\": 0.0, \"recall\": 0.0, \"F_score\": 0.0, \"support\": 3.0, \"Stage\": \"mhat\", \"Threshold\": 1.0}, {\"precision\": 0.0, \"recall\": 0.0, \"F_score\": 0.0, \"support\": 6.0, \"Stage\": \"cul\", \"Threshold\": 1.0}, {\"precision\": 0.0, \"recall\": 0.0, \"F_score\": 0.0, \"support\": 5.0, \"Stage\": \"FB\", \"Threshold\": 1.0}, {\"precision\": 0.0, \"recall\": 0.0, \"F_score\": 0.0, \"support\": 4.0, \"Stage\": \"disappear\", \"Threshold\": 1.0}]}}, {\"mode\": \"vega-lite\"});\n",
       "</script>"
      ],
      "text/plain": [
       "alt.Chart(...)"
      ]
     },
     "metadata": {},
     "output_type": "display_data"
    }
   ],
   "source": [
    "# Plots of model quality metric at different prediction thresholds\n",
    "display(alt.Chart(prfs_all).mark_line().encode(x='Threshold',y='F_score',\n",
    "        color=alt.Color('Stage',scale=alt.Scale(domain=list(colour_dict.keys()),range=list(colour_dict.values())))))\n",
    "#display(alt.Chart(prfs_all).mark_line().encode(x='Threshold',y='precision',\n",
    "#        color=alt.Color('Stage',scale=alt.Scale(domain=list(colour_dict.keys()),range=list(colour_dict.values())))))\n",
    "#display(alt.Chart(prfs_all).mark_line().encode(x='Threshold',y='recall',\n",
    "#       color=alt.Color('Stage',scale=alt.Scale(domain=list(colour_dict.keys()),range=list(colour_dict.values())))))"
   ]
  },
  {
   "cell_type": "code",
   "execution_count": null,
   "metadata": {},
   "outputs": [],
   "source": [
    "# Precision vs recall - would be better to use precision and recall caluclated when these metric change \n",
    "# (from sklearn, could be caulculated in the ROC code) instead of this one that calculates metrics based on \n",
    "# pre-defined thresholds\n",
    "#display(alt.Chart(prfs_all.sort_values('recall')).mark_line().encode(x='recall',y='precision',\n",
    "#        color=alt.Color('Stage',scale=alt.Scale(domain=list(colour_dict.keys()),range=list(colour_dict.values())))))"
   ]
  },
  {
   "cell_type": "markdown",
   "metadata": {},
   "source": [
    "## Conclusion\n",
    "For most of the targets the default prdiction threshold (0.5) seems to work fine based on F score. Exceptions are tip and slug. However, this is based on a single 'fold'/model, thus precise selection of a diffeerent threshold would require the use of more 'folds'."
   ]
  },
  {
   "cell_type": "code",
   "execution_count": null,
   "metadata": {},
   "outputs": [],
   "source": []
  }
 ],
 "metadata": {
  "kernelspec": {
   "display_name": "Python 3",
   "language": "python",
   "name": "python3"
  },
  "language_info": {
   "codemirror_mode": {
    "name": "ipython",
    "version": 3
   },
   "file_extension": ".py",
   "mimetype": "text/x-python",
   "name": "python",
   "nbconvert_exporter": "python",
   "pygments_lexer": "ipython3",
   "version": "3.7.5"
  }
 },
 "nbformat": 4,
 "nbformat_minor": 4
}
