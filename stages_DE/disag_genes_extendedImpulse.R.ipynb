{
 "cells": [
  {
   "cell_type": "code",
   "execution_count": null,
   "metadata": {},
   "outputs": [],
   "source": [
    "library('dplyr')\n",
    "library(plyr)\n",
    "library(ggplot2)\n",
    "#library(ImpulseDE2.extended)\n",
    "library(BiocParallel)\n",
    "register(MulticoreParam(workers = 30))\n",
    "\n",
    "# To load all functions\n",
    "library(Biobase)\n",
    "#library(BiocParallel)\n",
    "library(circlize)\n",
    "import::from(compiler, cmpfun)\n",
    "library(ComplexHeatmap)\n",
    "import::from(cowplot, plot_grid)\n",
    "library(DESeq2)\n",
    "library(ggplot2)\n",
    "import::from(grDevices, dev.off, graphics.off, pdf)\n",
    "library(knitr)\n",
    "library(Matrix)\n",
    "library(methods)\n",
    "import::from(stats, dnbinom, median, optim, p.adjust, pchisq, rnbinom, rnorm, runif, sd, time)\n",
    "library(SummarizedExperiment)\n",
    "import::from(utils, packageDescription)\n",
    "import::from(zoo,as.zoo,rollapply)\n",
    "\n",
    "sapply(list.files('/home/khrovatin/git/ImpulseDE2_extended/R', full.name=TRUE), source)"
   ]
  },
  {
   "cell_type": "code",
   "execution_count": 159,
   "metadata": {},
   "outputs": [],
   "source": [
    "server=TRUE\n",
    "if (server){\n",
    "    pathSave='/home/khrovatin/timeTrajectoriesNet/data/stages/disagg/impulse/'\n",
    "    pathCounts='/home/khrovatin/timeTrajectoriesNet/data/counts/'\n",
    "    pathConditions='/home/khrovatin/timeTrajectoriesNet/data/RPKUM/'\n",
    "}else{\n",
    "    pathSave='/home/karin/Documents/timeTrajectories/data/stages/disagg/impulse/'\n",
    "    pathCounts='/home/karin/Documents/timeTrajectories/data/countsRaw/combined/'\n",
    "    pathConditions='/home/karin/Documents/timeTrajectories/data/RPKUM/combined/'\n",
    "}"
   ]
  },
  {
   "cell_type": "markdown",
   "metadata": {},
   "source": [
    "## Fit models"
   ]
  },
  {
   "cell_type": "code",
   "execution_count": 1135,
   "metadata": {},
   "outputs": [],
   "source": [
    "genes<-read.table(paste(pathCounts,'mergedGenes_counts.tsv',sep=''), header=TRUE,row.names=1, sep=\"\\t\")\n",
    "conditions<-read.table(paste(pathConditions,'conditions_mergedGenes.tsv',sep=''), header=TRUE,row.names='Measurment', sep=\"\\t\")\n",
    "conditions[conditions=='']=NA\n",
    "#R imported colnames of genes with changes but gene IDs remained ok\n",
    "rownames(conditions)<-make.names(rownames(conditions))"
   ]
  },
  {
   "cell_type": "markdown",
   "metadata": {},
   "source": [
    "### WT\n",
    "Fit extended models on WT data without batch factors. Model is fitted to time-course of samples."
   ]
  },
  {
   "cell_type": "code",
   "execution_count": 130,
   "metadata": {},
   "outputs": [
    {
     "name": "stdout",
     "output_type": "stream",
     "text": [
      "[1] 12828    98\n"
     ]
    }
   ],
   "source": [
    "Y=conditions[conditions$Group=='WT', 'Time',drop=F]\n",
    "Y[,'Sample']=rownames(Y)\n",
    "Y[,'Condition']='case'\n",
    "\n",
    "# Retain only times with more than 2 samples - AX4 has some reps \n",
    "# that have more time points and can affect model fitting\n",
    "minNRep=2\n",
    "sampleCount<-count(Y,'Time')\n",
    "Y<- Y[Y$Time %in% sampleCount[sampleCount$freq>minNRep,'Time'],]\n",
    "\n",
    "Y<-Y[order(Y$Time),]\n",
    "X=genes[,Y$Sample]\n",
    "print(dim(X))"
   ]
  },
  {
   "cell_type": "code",
   "execution_count": null,
   "metadata": {
    "scrolled": true
   },
   "outputs": [],
   "source": [
    "objectImpulseDE2 <- runImpulseDE2(matCountData = as.matrix(X), dfAnnotation = Y,boolCaseCtrl = FALSE,\n",
    "                                  vecConfounders = NULL,\n",
    "                                  boolIdentifyTransients = TRUE,scaNProc = 40, boolExtended=TRUE)\n",
    "\n",
    "saveRDS(object=objectImpulseDE2,file=paste(pathSave,'WT_min',minNRep,'Rep.rds',sep=''))"
   ]
  },
  {
   "cell_type": "code",
   "execution_count": 133,
   "metadata": {},
   "outputs": [],
   "source": [
    "r<-objectImpulseDE2$dfImpulseDE2Results\n",
    "r<-r[!r$allZero,]"
   ]
  },
  {
   "cell_type": "code",
   "execution_count": 1162,
   "metadata": {},
   "outputs": [
    {
     "data": {
      "text/html": [
       "11981"
      ],
      "text/latex": [
       "11981"
      ],
      "text/markdown": [
       "11981"
      ],
      "text/plain": [
       "[1] 11981"
      ]
     },
     "metadata": {},
     "output_type": "display_data"
    }
   ],
   "source": [
    "length(vecDispersions)"
   ]
  },
  {
   "cell_type": "code",
   "execution_count": null,
   "metadata": {
    "scrolled": true
   },
   "outputs": [],
   "source": [
    "boolCaseCtrl=FALSE\n",
    "\n",
    "for (strain in c('tgrB1','tgrB1C1','tgrC1','gbfA')){\n",
    "    print(strain)\n",
    "    Y=conditions[conditions$Strain==strain, c('Time','Replicate'),drop=F]\n",
    "    colnames(Y)<-c('Time','Batch')\n",
    "    Y[,'Sample']=rownames(Y)\n",
    "    Y[,'Condition']='case'\n",
    "    Y<-Y[order(Y$Time),]\n",
    "    X=genes[,Y$Sample]\n",
    "    print(dim(Y))\n",
    "    \n",
    "    # Estimate dispersion on strain data\n",
    "    lsProcessedData <- processData(dfAnnotation = Y, matCountData = as.matrix(X), \n",
    "                boolCaseCtrl = boolCaseCtrl, vecConfounders = NULL,\n",
    "                 vecDispersionsExternal = NULL, \n",
    "                vecSizeFactorsExternal = NULL)\n",
    "\n",
    "    matCountDataProc <- lsProcessedData$matCountDataProc\n",
    "    dfAnnotationProc <- lsProcessedData$dfAnnotationProc\n",
    "    vecSizeFactorsExternalProc <- \n",
    "        lsProcessedData$vecSizeFactorsExternalProc\n",
    "    vecDispersionsExternalProc <- \n",
    "        lsProcessedData$vecDispersionsExternalProc\n",
    "\n",
    "    # Calculate dispersion on all replicates\n",
    "    vecDispersions <- runDESeq2(\n",
    "                        dfAnnotationProc = dfAnnotationProc, \n",
    "                        matCountDataProc = matCountDataProc, \n",
    "                        boolCaseCtrl = boolCaseCtrl, \n",
    "                        vecConfounders = NULL)\n",
    "    #print(vecDispersions[1:3])\n",
    "    \n",
    "    # Fit models on each replicate\n",
    "    replicates=unique(Y$Batch)\n",
    "    print(replicates)\n",
    "    for(replicate in replicates){\n",
    "        print(replicate)\n",
    "        Y=conditions[conditions$Replicate==replicate, c('Time'),drop=F]\n",
    "        colnames(Y)<-c('Time')\n",
    "        Y[,'Sample']=rownames(Y)\n",
    "        Y[,'Condition']='case'\n",
    "        Y<-Y[order(Y$Time),]\n",
    "        # Use only genes for which dispersions were calculated\n",
    "        X=genes[names(vecDispersions),Y$Sample]\n",
    "        print(dim(Y))\n",
    "        #print(rownames(X)[1:3])\n",
    "\n",
    "        objectImpulseDE2<- runImpulseDE2 (\n",
    "            matCountData = as.matrix(X), dfAnnotation = Y, boolCaseCtrl = boolCaseCtrl, \n",
    "            vecConfounders = NULL, scaNProc = 40, \n",
    "            vecDispersionsExternal = vecDispersions,  \n",
    "            boolIdentifyTransients = TRUE,  boolExtended=TRUE) \n",
    "        saveRDS(object=objectImpulseDE2,file=paste(pathSave,replicate,'.rds',sep=''))\n",
    "    }\n",
    "\n",
    "}"
   ]
  },
  {
   "cell_type": "code",
   "execution_count": null,
   "metadata": {
    "scrolled": true
   },
   "outputs": [],
   "source": [
    "# Testing replicates of a disagg strain together\n",
    "for(strain in c('tgrB1','tgrB1C1','tgrC1','gbfA')){\n",
    "    print(strain)\n",
    "    Y=conditions[conditions$Strain==strain, c('Time','Replicate'),drop=F]\n",
    "    colnames(Y)<-c('Time','Batch')\n",
    "    Y[,'Sample']=rownames(Y)\n",
    "    Y[,'Condition']='case'\n",
    "    Y<-Y[order(Y$Time),]\n",
    "    X=genes[,Y$Sample]\n",
    "    print(dim(Y))\n",
    "    objectImpulseDE2 <- runImpulseDE2(matCountData = as.matrix(X), dfAnnotation = Y,boolCaseCtrl = FALSE,\n",
    "                                  #vecConfounders = c('Batch'),\n",
    "                                      vecConfounders = NULL,\n",
    "                                  boolIdentifyTransients = TRUE,scaNProc = 40, boolExtended=TRUE)\n",
    "\n",
    "    saveRDS(object=objectImpulseDE2,file=paste(pathSave,strain,'.rds',sep=''))\n",
    "}"
   ]
  },
  {
   "cell_type": "markdown",
   "metadata": {},
   "source": [
    "## Select models and genes"
   ]
  },
  {
   "cell_type": "code",
   "execution_count": 734,
   "metadata": {},
   "outputs": [],
   "source": [
    "bestFits<-function(objectImpulseDE2,scaQThres=0.001){\n",
    "    result<-objectImpulseDE2$dfImpulseDE2Results\n",
    "    result<-result[!result$allZero,]\n",
    "    \n",
    "    # P values for the model\n",
    "    isSignifSigmoid<-result$sigmoidTOconst_padj<=scaQThres\n",
    "    isSignifImpulse<-(result$padj<=scaQThres & \n",
    "                  result$impulseTOsigmoid_padj<=scaQThres) \n",
    "    isSignifThreeSigmoid<-(result$threeSigmoidTOconst_padj<=scaQThres & \n",
    "                       result$threeSigmoidTOsigmoid_padj<=scaQThres &\n",
    "                       result$threeSigmoidTOimpulse_padj<=scaQThres)\n",
    "    isSignifFourSigmoid<-(result$fourSigmoidTOconst_padj<=scaQThres & \n",
    "                      result$fourSigmoidTOsigmoid_padj<=scaQThres &\n",
    "                      result$fourSigmoidTOimpulse_padj<=scaQThres &\n",
    "                      result$fourSigmoidTOthreeSigmoid_padj<=scaQThres)  \n",
    "    \n",
    "    # May be this model due to pvalues and shape (local min/max count)\n",
    "    boolSigmoid<-(isSignifSigmoid |\n",
    "                 (isSignifImpulse & result$NMinMax_impulse ==2) |\n",
    "                 (isSignifThreeSigmoid & result$NMinMax_threeSigmoid ==2) |\n",
    "                 (isSignifFourSigmoid & result$NMinMax_fourSigmoid ==2))\n",
    "    boolImpulse<-((isSignifImpulse & result$NMinMax_impulse == 3) |\n",
    "                 (isSignifThreeSigmoid & result$NMinMax_threeSigmoid ==3) |\n",
    "                 (isSignifFourSigmoid & result$NMinMax_fourSigmoid ==3))\n",
    "    boolThreeSigmoid<-((isSignifThreeSigmoid & result$NMinMax_threeSigmoid == 4) |\n",
    "                      (isSignifFourSigmoid & result$NMinMax_fourSigmoid == 4))\n",
    "    boolFourSigmoid<-(isSignifFourSigmoid & result$NMinMax_fourSigmoid == 5)\n",
    "    \n",
    "    # Assign most complex model that is better fitted than less compelx models\n",
    "    boolModels<-data.frame('S1'=boolSigmoid,'S2'=boolImpulse,'S3'=boolThreeSigmoid,'S4'=boolFourSigmoid)\n",
    "    rownames(boolModels)<-rownames(result)\n",
    "    boolModels['main']<-apply(boolModels, 1,function(x){\n",
    "                                trueModels<-which(as.vector(unlist(x)))\n",
    "                                if(length(trueModels)>0){\n",
    "                                    model=max(trueModels)\n",
    "                                }else{\n",
    "                                    model=0\n",
    "                                }\n",
    "                                return(model)\n",
    "                                })\n",
    "    # Best fit is largest still significant model (better than less complex models)\n",
    "    boolModels['bestFit']<-as.vector(unlist(lapply(1:dim(boolModels)[1],function(idx){\n",
    "        bestFit=0\n",
    "        if(isSignifFourSigmoid[idx] & result$NMinMax_fourSigmoid[idx] == (boolModels[idx,'main']+1)){\n",
    "            bestFit=4\n",
    "        }else if(isSignifThreeSigmoid[idx] & result$NMinMax_threeSigmoid[idx] == (boolModels[idx,'main']+1)){\n",
    "            bestFit=3\n",
    "        }else if(isSignifImpulse[idx] & result$NMinMax_impulse[idx] == (boolModels[idx,'main']+1)){\n",
    "            bestFit=2\n",
    "        }else if(isSignifSigmoid[idx]){\n",
    "            bestFit=1\n",
    "        }\n",
    "        return(bestFit)\n",
    "    })))\n",
    "\n",
    "    return(boolModels)\n",
    "}"
   ]
  },
  {
   "cell_type": "code",
   "execution_count": 1173,
   "metadata": {},
   "outputs": [],
   "source": [
    "filterByTransitions<-function(impulse1,impulse2,fits1,fits2, vecGeneIDs){\n",
    "    selected<-t(as.data.frame(lapply(vecGeneIDs, function(gene) {\n",
    "        data1<-findTransitionsPeaks(impulse1,fits1[gene,'bestFit'],gene)\n",
    "        data2<-findTransitionsPeaks(impulse2,fits2[gene,'bestFit'],gene)\n",
    "        firstTransition1<-min(data1$transitions)\n",
    "        boolLateTransition<-sum(data1$transitions>firstTransition1)<sum(data2$transitions>firstTransition1)\n",
    "        # First min or max\n",
    "        if(min(data1$timesMin)<min(data1$timesMax)){\n",
    "            start='timesMin'\n",
    "        }else{\n",
    "            start='timesMax'\n",
    "        }\n",
    "        data2StartTime=min(data2[[start]])\n",
    "        data2MinMax<-union(data2$timesMin[data2$timesMin>=data2StartTime],\n",
    "                           data2$timesMax[data2$timesMax>=data2StartTime])\n",
    "        data1MinMax<-union(data1$timesMin,data1$timesMax)\n",
    "        boolComplexShape<-length(data2MinMax)>length(data1MinMax)\n",
    "        return(c(boolLateTransition, boolComplexShape))\n",
    "    })))\n",
    "    rownames(selected)<-vecGeneIDs\n",
    "    colnames(selected)<-c('hasLateTransition','hasComplexShape')\n",
    "    return(selected)\n",
    "}"
   ]
  },
  {
   "cell_type": "code",
   "execution_count": 1822,
   "metadata": {},
   "outputs": [],
   "source": [
    "findTransitionsPeaks<-function(impulse,model,gene){\n",
    "    modelExtraction<-vector('list',4)\n",
    "    modelExtraction[[1]]<-vector('list',3)\n",
    "    modelExtraction[[1]][[1]]<-c('lsSigmoidFit')\n",
    "    modelExtraction[[1]][[2]]<-c('vecSigmoidParam')\n",
    "    modelExtraction[[1]][[3]]<-c('t')\n",
    "    modelExtraction[[2]]<-vector('list',3)\n",
    "    modelExtraction[[2]][[1]]<-c('lsImpulseFit')\n",
    "    modelExtraction[[2]][[2]]<-c('vecImpulseParam')\n",
    "    modelExtraction[[2]][[3]]<-c('t1','t2')\n",
    "    modelExtraction[[3]]<-vector('list',3)\n",
    "    modelExtraction[[3]][[1]]<-c('lsThreeSigmoidFit')\n",
    "    modelExtraction[[3]][[2]]<-c('vecThreeSigmoidParam')\n",
    "    modelExtraction[[3]][[3]]<-c('t1','t2','t3')\n",
    "    modelExtraction[[4]]<-vector('list',3)\n",
    "    modelExtraction[[4]][[1]]<-c('lsFourSigmoidFit')\n",
    "    modelExtraction[[4]][[2]]<-c('vecFourSigmoidParam')\n",
    "    modelExtraction[[4]][[3]]<-c('t1','t2','t3','t4')\n",
    "    transitionTimes<-as.vector(unlist(impulse@lsModelFits$case[[gene]]\n",
    "                            [[modelExtraction[[model]][[1]]]][[modelExtraction[[model]][[2]]]]\n",
    "                            [modelExtraction[[model]][[3]]]))\n",
    "    vecTimePointsCase <- sort(\n",
    "      get_lsModelFits(obj = impulse)$IdxGroups$case$vecTimepointsUnique,decreasing = FALSE)\n",
    "\n",
    "      vecValues<-getPredictedValues(impulse=impulse,gene=gene,model=model,\n",
    "                                               vecTimePoints=vecTimePointsCase)\n",
    "      vecValuesUnique<-vecValues[vecValues!=c(vecValues[-1], FALSE)]\n",
    "      vecTimePointsValues<-vecTimePointsCase[vecValues!=c(vecValues[-1], FALSE)]\n",
    "      if(length(vecValuesUnique)>1){\n",
    "        left<-vecValuesUnique[2]\n",
    "        right<-tail(vecValuesUnique,2)[1]\n",
    "        vecValuesUnique <- c(left, vecValuesUnique, right)\n",
    "        vecValuesUnique <- as.zoo(vecValuesUnique)\n",
    "        boolMin<-rollapply(vecValuesUnique, 3, function(x) which.min(x) == 2 )\n",
    "        boolMax<-rollapply(vecValuesUnique, 3, function(x)  which.max(x) == 2)\n",
    "        #Rollaply here does not give result for border elements\n",
    "        timesMinMax<-vecTimePointsValues[boolMin|boolMax]   \n",
    "        transitions<-c()                 \n",
    "        for(idx in 2:length(timesMinMax)){\n",
    "            t1=timesMinMax[idx-1]\n",
    "            t2=timesMinMax[idx]\n",
    "            #So that t outside of times range are included\n",
    "            if(idx==2) t1=-Inf\n",
    "            if(idx==length(timesMinMax)) t2=Inf\n",
    "            transition<-mean(transitionTimes[transitionTimes > t1 & transitionTimes < t2])\n",
    "            #Quick fix if transition times in not between min/max\n",
    "            #TODO remove quick fix\n",
    "            if(is.nan(transition)) transition=mean(c(timesMinMax[idx-1],timesMinMax[idx]))\n",
    "            transitions<-c(transitions,transition)\n",
    "        }                \n",
    "      }else{\n",
    "          transitions=NULL\n",
    "      }\n",
    "                          \n",
    "    return(list(transitions=transitions,\n",
    "                timesMin=vecTimePointsValues[boolMin],timesMax=vecTimePointsValues[boolMax]))\n",
    "}"
   ]
  },
  {
   "cell_type": "code",
   "execution_count": 1198,
   "metadata": {},
   "outputs": [],
   "source": [
    "MODELS<-c('sigmoid','impulse','threeSigmoid','fourSigmoid')"
   ]
  },
  {
   "cell_type": "code",
   "execution_count": 1357,
   "metadata": {},
   "outputs": [],
   "source": [
    "# Model that has smallest pvalue against constasnt for specified N min/max \n",
    "filterByFits<-function(result_ref,result_case,fits_ref,fits_case, vecGeneIDs){\n",
    "    \n",
    "    fitData<-t(as.data.frame(lapply(vecGeneIDs, function(gene) {\n",
    "        fit_ref=fits_ref[gene,'main']\n",
    "        fit_case=fits_case[gene,'main']\n",
    "        padjs_ref<-extractPadjN(result_ref,gene)\n",
    "        padjs_case<-extractPadjN(result_case,gene)\n",
    "        \n",
    "        ref_caseModel_padj_data<-minPadjN(padjs_ref,(fit_case+1))\n",
    "        case_caseModel_padj_data<-minPadjN(padjs_case,(fit_case+1))\n",
    "        case_refModel_padj_data<-minPadjN(padjs_case,(fit_ref+1))\n",
    "        ref_refModel_padj_data<-minPadjN(padjs_ref,(fit_ref+1))\n",
    "        \n",
    "        ref_caseTObestModel_padj<-padjModels(result_ref,model2=ref_caseModel_padj_data[2],\n",
    "                                                model1=fits_ref[gene,'bestFit'],gene)\n",
    "        case_bestTOrefModel_padj<-padjModels(result_case,model2=fits_case[gene,'bestFit'],\n",
    "                                                model1=case_refModel_padj_data[2],gene)\n",
    "        \n",
    "        return(c(\n",
    "            ref_caseModel_padj_data[1], case_caseModel_padj_data[1], ref_caseTObestModel_padj,\n",
    "            case_refModel_padj_data[1], ref_refModel_padj_data[1], case_bestTOrefModel_padj\n",
    "        ))\n",
    "        \n",
    "    })))\n",
    "    rownames(fitData)<-vecGeneIDs\n",
    "    colnames(fitData)<-c('ref_caseModel_padj','case_caseModel_padj','ref_caseTObestModel_padj',\n",
    "                        'case_refModel_padj','ref_refModel_padj','case_bestTOrefModel_padj')\n",
    "    return(as.data.frame(fitData))\n",
    "}"
   ]
  },
  {
   "cell_type": "code",
   "execution_count": 1299,
   "metadata": {},
   "outputs": [],
   "source": [
    "#Try out filterByFits function\n",
    "#Data\n",
    "result_ref<-result_WT\n",
    "result_case<-result_gbfA\n",
    "fits_ref<-fits_WT\n",
    "fits_case<-fits_gbfA\n",
    "gene='DDB_G0293216'\n",
    "\n",
    "#Display gene info\n",
    "fits_ref[gene,]\n",
    "unlist(result_ref[gene,])\n",
    "fits_case[gene,]\n",
    "unlist(result_case[gene,])\n",
    "\n",
    "#Get fit data\n",
    "fit_ref=fits_ref[gene,'main']\n",
    "fit_case=fits_case[gene,'main']\n",
    "padjs_ref<-extractPadjN(result_ref,gene)\n",
    "padjs_case<-extractPadjN(result_case,gene)\n",
    "\n",
    "ref_caseModel_padj_data<-minPadjN(padjs_ref,(fit_case+1))\n",
    "case_caseModel_padj_data<-minPadjN(padjs_case,(fit_case+1))\n",
    "case_refModel_padj_data<-minPadjN(padjs_case,(fit_ref+1))\n",
    "ref_refModel_padj_data<-minPadjN(padjs_ref,(fit_ref+1))\n",
    "\n",
    "ref_caseTObestModel_padj<-padjModels(result_ref,model2=ref_caseModel_padj_data[2],\n",
    "                                        model1=fits_ref[gene,'bestFit'],gene)\n",
    "case_bestTOrefModel_padj<-padjModels(result_case,model2=fits_case[gene,'bestFit'],\n",
    "                                        model1=case_refModel_padj_data[2],gene)\n",
    "        \n",
    "#Display fit data parsing results\n",
    "fit_ref\n",
    "fit_case\n",
    "padjs_ref\n",
    "padjs_case\n",
    "ref_caseModel_padj_data\n",
    "case_caseModel_padj_data\n",
    "case_refModel_padj_data\n",
    "ref_refModel_padj_data\n",
    "ref_caseTObestModel_padj\n",
    "case_bestTOrefModel_padj\n",
    "fits_ref[gene,'bestFit']\n",
    "fits_case[gene,'bestFit']"
   ]
  },
  {
   "cell_type": "code",
   "execution_count": 1257,
   "metadata": {},
   "outputs": [],
   "source": [
    "# Model NMinMax and padj against constant\n",
    "extractPadjN<-function(result,gene){\n",
    "    modelData<-t(as.data.frame(lapply(MODELS, function(model) {\n",
    "        padj<-result[gene,paste(model,'TOconst_padj',sep='')]\n",
    "        if(model == 'sigmoid'){\n",
    "            # This assumes nMinMax of sigmoid to be 2, although it could also be 0 (not computed)\n",
    "            # (but in this case the pvalue compared to const would be high)\n",
    "            nMinMax=2\n",
    "        }else{\n",
    "            nMinMax=result[gene,paste('NMinMax_',model,sep='')]\n",
    "        }\n",
    "        return(c(padj,nMinMax))\n",
    "        })))\n",
    "    colnames(modelData)<-c('const_padj','nMinMax')\n",
    "    rownames(modelData)<-MODELS\n",
    "    return(as.data.frame(modelData))\n",
    "}"
   ]
  },
  {
   "cell_type": "code",
   "execution_count": 1293,
   "metadata": {},
   "outputs": [],
   "source": [
    "minPadjN<-function(padj_data,nMinMax){\n",
    "    padj_data<-padj_data[padj_data$nMinMax==nMinMax,]\n",
    "    padj_data<-padj_data[order(padj_data$const_padj),]\n",
    "    if(nrow(padj_data)<1){\n",
    "        padj=NA\n",
    "        model=NA\n",
    "    }else{\n",
    "        padj=padj_data$const_padj[1]\n",
    "        model=which(MODELS==rownames(padj_data)[1])\n",
    "    }\n",
    "    return(c(padj,model))\n",
    "}"
   ]
  },
  {
   "cell_type": "code",
   "execution_count": 1358,
   "metadata": {},
   "outputs": [],
   "source": [
    "padjModels<-function(result,model1,model2,gene){\n",
    "    # Not constant\n",
    "    if(!is.na(model1) & !is.na(model2) & model1 < model2 ){\n",
    "        model1<-MODELS[model1]\n",
    "        model2<-MODELS[model2]\n",
    "        padj<-result[gene,paste(model2,'TO',model1,'_padj',sep='')]\n",
    "    }else{\n",
    "        padj=NA\n",
    "    }\n",
    "    return(padj)\n",
    "}"
   ]
  },
  {
   "cell_type": "code",
   "execution_count": 1842,
   "metadata": {},
   "outputs": [],
   "source": [
    "nLargeDiff<-function(impulseRef,impulseCase,fitsRef,fitsCase, vecGeneIDs,diffThreshold=0.1){\n",
    "    vecTimePointsRef <- sort(get_lsModelFits(obj = impulseRef)$IdxGroups$case$vecTimepointsUnique,\n",
    "        decreasing = FALSE)\n",
    "    vecTimePointsCase <- sort(get_lsModelFits(obj = impulseCase)$IdxGroups$case$vecTimepointsUnique,\n",
    "        decreasing = FALSE)\n",
    "    nLargeDiff<-t(as.data.frame(lapply(vecGeneIDs, function(gene){\n",
    "        fitRef<-fitsRef[gene,'bestFit']\n",
    "        fitCase<-fitsCase[gene,'bestFit']\n",
    "        valuesRef<-getPredictedValues(impulse=impulseRef,gene=gene,model=fitRef,\n",
    "                                      vecTimePointsCase=vecTimePointsRef) \n",
    "        rangeRef<-max(valuesRef)-min(valuesRef)\n",
    "        differencesRefNorm<-minMaxDiff(vecValues=valuesRef)/rangeRef\n",
    "        valuesCase<-getPredictedValues(impulse=impulseCase,gene=gene,model=fitCase,\n",
    "                                      vecTimePoints=vecTimePointsCase) \n",
    "        differencesCaseNorm<-minMaxDiff(vecValues=valuesCase)/rangeRef\n",
    "        nLargeDiffRef<-sum(differencesRefNorm >= diffThreshold)\n",
    "        nLargeDiffCase<-sum(differencesCaseNorm >= diffThreshold)\n",
    "        return(c(nLargeDiffRef,nLargeDiffCase))\n",
    "    })))\n",
    "    colnames(nLargeDiff)<-c('nLargeDiffRef','nLargeDiffCase')\n",
    "    rownames(nLargeDiff)<-vecGeneIDs\n",
    "    return(nLargeDiff)\n",
    "}"
   ]
  },
  {
   "cell_type": "code",
   "execution_count": 1787,
   "metadata": {},
   "outputs": [],
   "source": [
    "getPredictedValues<-function(impulse,gene,model,vecTimePoints){\n",
    "     fit<-get_lsModelFits(obj = impulse)$case[[gene]]\n",
    "     if (model == 1) {\n",
    "        vecValues <- evalSigmoid_comp(\n",
    "          vecSigmoidParam = fit$lsSigmoidFit$vecSigmoidParam,\n",
    "          vecTimepoints = vecTimePoints)\n",
    "      }else if (model == 2) {\n",
    "        vecValues <- evalImpulse_comp(\n",
    "          vecImpulseParam = fit$lsImpulseFit$vecImpulseParam,\n",
    "          vecTimepoints = vecTimePoints)\n",
    "      }else if (model == 3) {\n",
    "        vecValues <- evalThreeSigmoid_comp(\n",
    "          vecThreeSigmoidParam = fit$lsThreeSigmoidFit$vecThreeSigmoidParam,\n",
    "          vecTimepoints = vecTimePoints)\n",
    "      } else if (model == 4) {\n",
    "        vecValues <- evalFourSigmoid_comp(\n",
    "          vecFourSigmoidParam = fit$lsFourSigmoidFit$vecFourSigmoidParam,\n",
    "          vecTimepoints = vecTimePoints)\n",
    "      }\n",
    "      vecValues<-as.vector(as.integer(vecValues))\n",
    "      return(vecValues)\n",
    "}"
   ]
  },
  {
   "cell_type": "code",
   "execution_count": 1820,
   "metadata": {},
   "outputs": [],
   "source": [
    "minMaxDiff<-function(vecValues){\n",
    "      vecValuesUnique<-vecValues[vecValues!=c(vecValues[-1], FALSE)]\n",
    "      if(length(vecValuesUnique)>1){\n",
    "        left<-vecValuesUnique[2]\n",
    "        right<-tail(vecValuesUnique,2)[1]\n",
    "        vecValuesUniquePadded <- c(left, vecValuesUnique, right)\n",
    "        vecValuesUniquePadded <- as.zoo(vecValuesUniquePadded)\n",
    "        boolMinMax<-rollapply(vecValuesUniquePadded, 3, function(x) which.min(x) == 2 | which.max(x) == 2) \n",
    "        #Rollaply here does not give result for border elements\n",
    "        vecValuesMinMax<-vecValuesUnique[boolMinMax] \n",
    "        nMinMax<-length(vecValuesMinMax)                      \n",
    "        differences<-abs(tail(vecValuesMinMax,nMinMax-1)-head(vecValuesMinMax,nMinMax-1))             \n",
    "      }else{\n",
    "          differences=c()\n",
    "      }\n",
    "      return(differences)\n",
    "}"
   ]
  },
  {
   "cell_type": "markdown",
   "metadata": {},
   "source": [
    "### Select genes"
   ]
  },
  {
   "cell_type": "code",
   "execution_count": 1686,
   "metadata": {},
   "outputs": [],
   "source": [
    "impulse_ref<-readRDS(file=paste(pathSave,'WT_min2Rep','.rds',sep=''))"
   ]
  },
  {
   "cell_type": "code",
   "execution_count": 1889,
   "metadata": {},
   "outputs": [],
   "source": [
    "caseStrain='gbfA'\n",
    "doReps=FALSE\n",
    "impulse_case<-readRDS(file=paste(pathSave,caseStrain,'.rds',sep=''))\n",
    "if(doReps){\n",
    "impulse_case_r1<-readRDS(file=paste(pathSave,caseStrain,'_r1','.rds',sep=''))\n",
    "impulse_case_r2<-readRDS(file=paste(pathSave,caseStrain,'_r2','.rds',sep=''))\n",
    "}"
   ]
  },
  {
   "cell_type": "code",
   "execution_count": 1890,
   "metadata": {},
   "outputs": [
    {
     "name": "stdout",
     "output_type": "stream",
     "text": [
      "[1] 98\n"
     ]
    }
   ],
   "source": [
    "fits_ref<-bestFits(impulse_WT,0.01)\n",
    "\n",
    "fits_case<-bestFits(impulse_case,0.01)\n",
    "bothGenes<-intersect(rownames(fits_ref[fits_ref$main>0,]),rownames(fits_case[fits_case$main>0 ,]))\n",
    "vecPlotGenes<-bothGenes[fits_ref[bothGenes,]$main<fits_case[bothGenes,]$main]\n",
    "fits_case_r1<-bestFits(impulse_case_r1,0.01)\n",
    "print(length(vecPlotGenes))\n",
    "if(doReps){\n",
    "bothGenes_r1<-intersect(rownames(fits_ref[fits_ref$main>0,]),rownames(fits_case_r1[fits_case_r1$main>0 ,]))\n",
    "vecPlotGenes_r1<-bothGenes_r1[fits_ref[bothGenes_r1,]$main<fits_case_r1[bothGenes_r1,]$main]\n",
    "fits_case_r2<-bestFits(impulse_case_r2,0.01)\n",
    "bothGenes_r2<-intersect(rownames(fits_ref[fits_ref$main>0,]),rownames(fits_case_r2[fits_case_r2$main>0 ,]))\n",
    "vecPlotGenes_r2<-bothGenes_r2[fits_ref[bothGenes_r2,]$main<fits_case_r2[bothGenes_r2,]$main]\n",
    "vecPlotGenes_r12<-intersect(vecPlotGenes_r1,vecPlotGenes_r2)\n",
    "print(paste(length(vecPlotGenes_r1),length(vecPlotGenes_r2),length(vecPlotGenes_r12)))\n",
    "}\n",
    "\n",
    "result_ref<-impulse_ref$dfImpulseDE2Results\n",
    "result_ref<-result_ref[!result_WT$allZero,]\n",
    "result_case<-impulse_case$dfImpulseDE2Results\n",
    "result_case<-result_case[!result_case$allZero,]\n",
    "names(result_ref)[names(result_ref) == 'p'] <- 'impulseTOconst_p'\n",
    "names(result_ref)[names(result_ref) == 'padj'] <- 'impulseTOconst_padj'\n",
    "names(result_case)[names(result_case) == 'p'] <- 'impulseTOconst_p'\n",
    "names(result_case)[names(result_case) == 'padj'] <- 'impulseTOconst_padj'"
   ]
  },
  {
   "cell_type": "code",
   "execution_count": 1891,
   "metadata": {},
   "outputs": [],
   "source": [
    "filterTransitions<-filterByTransitions(impulse_ref,impulse_case,fits_ref,fits_case,vecPlotGenes)"
   ]
  },
  {
   "cell_type": "code",
   "execution_count": 1892,
   "metadata": {},
   "outputs": [],
   "source": [
    "filterFits<-filterByFits(result_ref=result_ref,result_case=result_case,\n",
    "                         fits_ref=fits_ref,fits_case=fits_case, vecGeneIDs=vecPlotGenes)"
   ]
  },
  {
   "cell_type": "code",
   "execution_count": 1893,
   "metadata": {},
   "outputs": [],
   "source": [
    "filterNLargeDiff<-nLargeDiff(impulseRef=impulse_ref,impulseCase=impulse_case,\n",
    "                             fitsRef=fits_ref,fitsCase=fits_case, vecGeneIDs=vecPlotGenes,diffThreshold=0.1)"
   ]
  },
  {
   "cell_type": "markdown",
   "metadata": {},
   "source": [
    "### Analyse selected genes"
   ]
  },
  {
   "cell_type": "code",
   "execution_count": 1927,
   "metadata": {},
   "outputs": [
    {
     "data": {
      "text/html": [
       "26"
      ],
      "text/latex": [
       "26"
      ],
      "text/markdown": [
       "26"
      ],
      "text/plain": [
       "[1] 26"
      ]
     },
     "metadata": {},
     "output_type": "display_data"
    }
   ],
   "source": [
    "vecPlotGenesSub<-vecPlotGenes[!filterTransitions[,'hasComplexShape']]\n",
    "length(vecPlotGenesSub)"
   ]
  },
  {
   "cell_type": "code",
   "execution_count": 1955,
   "metadata": {},
   "outputs": [
    {
     "data": {
      "text/html": [
       "5"
      ],
      "text/latex": [
       "5"
      ],
      "text/markdown": [
       "5"
      ],
      "text/plain": [
       "[1] 5"
      ]
     },
     "metadata": {},
     "output_type": "display_data"
    }
   ],
   "source": [
    "sum(filterNLargeDiff[,'nLargeDiffRef']<filterNLargeDiff[,'nLargeDiffCase'] & filterTransitions[,'hasComplexShape'])"
   ]
  },
  {
   "cell_type": "code",
   "execution_count": 1965,
   "metadata": {},
   "outputs": [
    {
     "name": "stdout",
     "output_type": "stream",
     "text": [
      "               S1   S2    S3    S4 main bestFit\n",
      "DDB_G0281979 TRUE TRUE FALSE FALSE    2       3\n",
      "                S1    S2   S3    S4 main bestFit\n",
      "DDB_G0281979 FALSE FALSE TRUE FALSE    3       3\n"
     ]
    },
    {
     "data": {
      "text/html": [
       "<style>\n",
       ".dl-inline {width: auto; margin:0; padding: 0}\n",
       ".dl-inline>dt, .dl-inline>dd {float: none; width: auto; display: inline-block}\n",
       ".dl-inline>dt::after {content: \":\\0020\"; padding-right: .5ex}\n",
       ".dl-inline>dt:not(:first-of-type) {padding-left: .5ex}\n",
       "</style><dl class=dl-inline><dt>hasLateTransition</dt><dd>TRUE</dd><dt>hasComplexShape</dt><dd>TRUE</dd></dl>\n"
      ],
      "text/latex": [
       "\\begin{description*}\n",
       "\\item[hasLateTransition] TRUE\n",
       "\\item[hasComplexShape] TRUE\n",
       "\\end{description*}\n"
      ],
      "text/markdown": [
       "hasLateTransition\n",
       ":   TRUEhasComplexShape\n",
       ":   TRUE\n",
       "\n"
      ],
      "text/plain": [
       "hasLateTransition   hasComplexShape \n",
       "             TRUE              TRUE "
      ]
     },
     "metadata": {},
     "output_type": "display_data"
    },
    {
     "data": {
      "text/html": [
       "<style>\n",
       ".dl-inline {width: auto; margin:0; padding: 0}\n",
       ".dl-inline>dt, .dl-inline>dd {float: none; width: auto; display: inline-block}\n",
       ".dl-inline>dt::after {content: \":\\0020\"; padding-right: .5ex}\n",
       ".dl-inline>dt:not(:first-of-type) {padding-left: .5ex}\n",
       "</style><dl class=dl-inline><dt>nLargeDiffRef</dt><dd>2</dd><dt>nLargeDiffCase</dt><dd>3</dd></dl>\n"
      ],
      "text/latex": [
       "\\begin{description*}\n",
       "\\item[nLargeDiffRef] 2\n",
       "\\item[nLargeDiffCase] 3\n",
       "\\end{description*}\n"
      ],
      "text/markdown": [
       "nLargeDiffRef\n",
       ":   2nLargeDiffCase\n",
       ":   3\n",
       "\n"
      ],
      "text/plain": [
       " nLargeDiffRef nLargeDiffCase \n",
       "             2              3 "
      ]
     },
     "metadata": {},
     "output_type": "display_data"
    },
    {
     "name": "stdout",
     "output_type": "stream",
     "text": [
      "[1] \"Setting boolSimplePlot=TRUE as no batch structure was found.\"\n",
      "[1] \"Setting boolSimplePlot=TRUE as no batch structure was found.\"\n"
     ]
    },
    {
     "data": {
      "image/png": "[encoded data removed]",
      "text/plain": [
       "plot without title"
      ]
     },
     "metadata": {
      "image/png": {
       "height": 300,
       "width": 300
      },
      "text/plain": {
       "height": 300,
       "width": 300
      }
     },
     "output_type": "display_data"
    },
    {
     "data": {
      "image/png": "[encoded data removed]",
      "text/plain": [
       "plot without title"
      ]
     },
     "metadata": {
      "image/png": {
       "height": 300,
       "width": 300
      },
      "text/plain": {
       "height": 300,
       "width": 300
      }
     },
     "output_type": "display_data"
    }
   ],
   "source": [
    "idx=27\n",
    "#gene=vecPlotGenesSub[idx]\n",
    "gene='DDB_G0281979'\n",
    "print(fits_ref[gene,])\n",
    "print(fits_case[gene,])\n",
    "\n",
    "#findTransitions(impulse_ref,fits_ref[gene,'bestFit'],gene)\n",
    "#findTransitions(impulse_case,fits_case[gene,'bestFit'],gene)\n",
    "filterTransitions[gene,]\n",
    "#filterFits[gene,]\n",
    "filterNLargeDiff[gene,]\n",
    "\n",
    "plotGenesExtended(\n",
    "vecGeneIDs = c(gene),\n",
    "scaNTopIDs = NULL,\n",
    "objectImpulseDE2 = impulse_ref,\n",
    "boolCaseCtrl = FALSE,\n",
    "dirOut = NULL,\n",
    "strFileName = NULL,\n",
    "vecRefPval = NULL,\n",
    "strNameRefMethod = NULL,model=MODELS[fits_ref[gene,'bestFit']])[[1]]\n",
    "plotGenesExtended(\n",
    "vecGeneIDs =c(gene),\n",
    "scaNTopIDs = NULL,\n",
    "objectImpulseDE2 = impulse_case,\n",
    "boolCaseCtrl = FALSE,\n",
    "dirOut = NULL,\n",
    "strFileName = NULL,\n",
    "vecRefPval = NULL,\n",
    "strNameRefMethod = NULL,model=MODELS[fits_case[gene,'bestFit']])[[1]]"
   ]
  },
  {
   "cell_type": "code",
   "execution_count": 1635,
   "metadata": {},
   "outputs": [
    {
     "data": {
      "text/html": [
       "<style>\n",
       ".dl-inline {width: auto; margin:0; padding: 0}\n",
       ".dl-inline>dt, .dl-inline>dd {float: none; width: auto; display: inline-block}\n",
       ".dl-inline>dt::after {content: \":\\0020\"; padding-right: .5ex}\n",
       ".dl-inline>dt:not(:first-of-type) {padding-left: .5ex}\n",
       "</style><dl class=dl-inline><dt>Gene</dt><dd>'DDB_G0269712'</dd><dt>impulseTOconst_p</dt><dd>'6.34752925722208e-06'</dd><dt>impulseTOconst_padj</dt><dd>'1.25880433294717e-05'</dd><dt>loglik_full</dt><dd>'-711.326337294809'</dd><dt>loglik_red</dt><dd>'-727.253788696874'</dd><dt>df_full</dt><dd>'7'</dd><dt>df_red</dt><dd>'2'</dd><dt>mean</dt><dd>'642.002018922485'</dd><dt>converge_impulse</dt><dd>'0'</dd><dt>converge_const</dt><dd>'0'</dd><dt>converge_sigmoid</dt><dd>'0'</dd><dt>impulseTOsigmoid_p</dt><dd>'1'</dd><dt>impulseTOsigmoid_padj</dt><dd>'1'</dd><dt>sigmoidTOconst_p</dt><dd>'1.18168209289894e-09'</dd><dt>sigmoidTOconst_padj</dt><dd>'1.96989546894248e-09'</dd><dt>isTransient</dt><dd>'FALSE'</dd><dt>isMonotonous</dt><dd>'TRUE'</dd><dt>converge_threeSigmoid</dt><dd>'0'</dd><dt>converge_fourSigmoid</dt><dd>'0'</dd><dt>threeSigmoidTOconst_p</dt><dd>'8.37180318897371e-09'</dd><dt>threeSigmoidTOconst_padj</dt><dd>'1.29460549877318e-08'</dd><dt>threeSigmoidTOsigmoid_p</dt><dd>'0.152313282704072'</dd><dt>threeSigmoidTOsigmoid_padj</dt><dd>'0.295557164914059'</dd><dt>threeSigmoidTOimpulse_p</dt><dd>'6.28239145117407e-05'</dd><dt>threeSigmoidTOimpulse_padj</dt><dd>'0.00013745583137901'</dd><dt>fourSigmoidTOconst_p</dt><dd>'6.41090660539189e-08'</dd><dt>fourSigmoidTOconst_padj</dt><dd>'1.05673438520212e-07'</dd><dt>fourSigmoidTOsigmoid_p</dt><dd>'0.349824498467031'</dd><dt>fourSigmoidTOsigmoid_padj</dt><dd>'0.621034461149643'</dd><dt>fourSigmoidTOimpulse_p</dt><dd>'0.000673284032026605'</dd><dt>fourSigmoidTOimpulse_padj</dt><dd>'0.00141088073966077'</dd><dt>fourSigmoidTOthreeSigmoid_p</dt><dd>'1'</dd><dt>fourSigmoidTOthreeSigmoid_padj</dt><dd>'1'</dd><dt>NMinMax_impulse</dt><dd>'3'</dd><dt>NMinMax_threeSigmoid</dt><dd>'4'</dd><dt>NMinMax_fourSigmoid</dt><dd>'4'</dd><dt>allZero</dt><dd>'FALSE'</dd></dl>\n"
      ],
      "text/latex": [
       "\\begin{description*}\n",
       "\\item[Gene] 'DDB\\_G0269712'\n",
       "\\item[impulseTOconst\\textbackslash{}\\_p] '6.34752925722208e-06'\n",
       "\\item[impulseTOconst\\textbackslash{}\\_padj] '1.25880433294717e-05'\n",
       "\\item[loglik\\textbackslash{}\\_full] '-711.326337294809'\n",
       "\\item[loglik\\textbackslash{}\\_red] '-727.253788696874'\n",
       "\\item[df\\textbackslash{}\\_full] '7'\n",
       "\\item[df\\textbackslash{}\\_red] '2'\n",
       "\\item[mean] '642.002018922485'\n",
       "\\item[converge\\textbackslash{}\\_impulse] '0'\n",
       "\\item[converge\\textbackslash{}\\_const] '0'\n",
       "\\item[converge\\textbackslash{}\\_sigmoid] '0'\n",
       "\\item[impulseTOsigmoid\\textbackslash{}\\_p] '1'\n",
       "\\item[impulseTOsigmoid\\textbackslash{}\\_padj] '1'\n",
       "\\item[sigmoidTOconst\\textbackslash{}\\_p] '1.18168209289894e-09'\n",
       "\\item[sigmoidTOconst\\textbackslash{}\\_padj] '1.96989546894248e-09'\n",
       "\\item[isTransient] 'FALSE'\n",
       "\\item[isMonotonous] 'TRUE'\n",
       "\\item[converge\\textbackslash{}\\_threeSigmoid] '0'\n",
       "\\item[converge\\textbackslash{}\\_fourSigmoid] '0'\n",
       "\\item[threeSigmoidTOconst\\textbackslash{}\\_p] '8.37180318897371e-09'\n",
       "\\item[threeSigmoidTOconst\\textbackslash{}\\_padj] '1.29460549877318e-08'\n",
       "\\item[threeSigmoidTOsigmoid\\textbackslash{}\\_p] '0.152313282704072'\n",
       "\\item[threeSigmoidTOsigmoid\\textbackslash{}\\_padj] '0.295557164914059'\n",
       "\\item[threeSigmoidTOimpulse\\textbackslash{}\\_p] '6.28239145117407e-05'\n",
       "\\item[threeSigmoidTOimpulse\\textbackslash{}\\_padj] '0.00013745583137901'\n",
       "\\item[fourSigmoidTOconst\\textbackslash{}\\_p] '6.41090660539189e-08'\n",
       "\\item[fourSigmoidTOconst\\textbackslash{}\\_padj] '1.05673438520212e-07'\n",
       "\\item[fourSigmoidTOsigmoid\\textbackslash{}\\_p] '0.349824498467031'\n",
       "\\item[fourSigmoidTOsigmoid\\textbackslash{}\\_padj] '0.621034461149643'\n",
       "\\item[fourSigmoidTOimpulse\\textbackslash{}\\_p] '0.000673284032026605'\n",
       "\\item[fourSigmoidTOimpulse\\textbackslash{}\\_padj] '0.00141088073966077'\n",
       "\\item[fourSigmoidTOthreeSigmoid\\textbackslash{}\\_p] '1'\n",
       "\\item[fourSigmoidTOthreeSigmoid\\textbackslash{}\\_padj] '1'\n",
       "\\item[NMinMax\\textbackslash{}\\_impulse] '3'\n",
       "\\item[NMinMax\\textbackslash{}\\_threeSigmoid] '4'\n",
       "\\item[NMinMax\\textbackslash{}\\_fourSigmoid] '4'\n",
       "\\item[allZero] 'FALSE'\n",
       "\\end{description*}\n"
      ],
      "text/markdown": [
       "Gene\n",
       ":   'DDB_G0269712'impulseTOconst_p\n",
       ":   '6.34752925722208e-06'impulseTOconst_padj\n",
       ":   '1.25880433294717e-05'loglik_full\n",
       ":   '-711.326337294809'loglik_red\n",
       ":   '-727.253788696874'df_full\n",
       ":   '7'df_red\n",
       ":   '2'mean\n",
       ":   '642.002018922485'converge_impulse\n",
       ":   '0'converge_const\n",
       ":   '0'converge_sigmoid\n",
       ":   '0'impulseTOsigmoid_p\n",
       ":   '1'impulseTOsigmoid_padj\n",
       ":   '1'sigmoidTOconst_p\n",
       ":   '1.18168209289894e-09'sigmoidTOconst_padj\n",
       ":   '1.96989546894248e-09'isTransient\n",
       ":   'FALSE'isMonotonous\n",
       ":   'TRUE'converge_threeSigmoid\n",
       ":   '0'converge_fourSigmoid\n",
       ":   '0'threeSigmoidTOconst_p\n",
       ":   '8.37180318897371e-09'threeSigmoidTOconst_padj\n",
       ":   '1.29460549877318e-08'threeSigmoidTOsigmoid_p\n",
       ":   '0.152313282704072'threeSigmoidTOsigmoid_padj\n",
       ":   '0.295557164914059'threeSigmoidTOimpulse_p\n",
       ":   '6.28239145117407e-05'threeSigmoidTOimpulse_padj\n",
       ":   '0.00013745583137901'fourSigmoidTOconst_p\n",
       ":   '6.41090660539189e-08'fourSigmoidTOconst_padj\n",
       ":   '1.05673438520212e-07'fourSigmoidTOsigmoid_p\n",
       ":   '0.349824498467031'fourSigmoidTOsigmoid_padj\n",
       ":   '0.621034461149643'fourSigmoidTOimpulse_p\n",
       ":   '0.000673284032026605'fourSigmoidTOimpulse_padj\n",
       ":   '0.00141088073966077'fourSigmoidTOthreeSigmoid_p\n",
       ":   '1'fourSigmoidTOthreeSigmoid_padj\n",
       ":   '1'NMinMax_impulse\n",
       ":   '3'NMinMax_threeSigmoid\n",
       ":   '4'NMinMax_fourSigmoid\n",
       ":   '4'allZero\n",
       ":   'FALSE'\n",
       "\n"
      ],
      "text/plain": [
       "                          Gene               impulseTOconst_p \n",
       "                \"DDB_G0269712\"         \"6.34752925722208e-06\" \n",
       "           impulseTOconst_padj                    loglik_full \n",
       "        \"1.25880433294717e-05\"            \"-711.326337294809\" \n",
       "                    loglik_red                        df_full \n",
       "           \"-727.253788696874\"                            \"7\" \n",
       "                        df_red                           mean \n",
       "                           \"2\"             \"642.002018922485\" \n",
       "              converge_impulse                 converge_const \n",
       "                           \"0\"                            \"0\" \n",
       "              converge_sigmoid             impulseTOsigmoid_p \n",
       "                           \"0\"                            \"1\" \n",
       "         impulseTOsigmoid_padj               sigmoidTOconst_p \n",
       "                           \"1\"         \"1.18168209289894e-09\" \n",
       "           sigmoidTOconst_padj                    isTransient \n",
       "        \"1.96989546894248e-09\"                        \"FALSE\" \n",
       "                  isMonotonous          converge_threeSigmoid \n",
       "                        \"TRUE\"                            \"0\" \n",
       "          converge_fourSigmoid          threeSigmoidTOconst_p \n",
       "                           \"0\"         \"8.37180318897371e-09\" \n",
       "      threeSigmoidTOconst_padj        threeSigmoidTOsigmoid_p \n",
       "        \"1.29460549877318e-08\"            \"0.152313282704072\" \n",
       "    threeSigmoidTOsigmoid_padj        threeSigmoidTOimpulse_p \n",
       "           \"0.295557164914059\"         \"6.28239145117407e-05\" \n",
       "    threeSigmoidTOimpulse_padj           fourSigmoidTOconst_p \n",
       "         \"0.00013745583137901\"         \"6.41090660539189e-08\" \n",
       "       fourSigmoidTOconst_padj         fourSigmoidTOsigmoid_p \n",
       "        \"1.05673438520212e-07\"            \"0.349824498467031\" \n",
       "     fourSigmoidTOsigmoid_padj         fourSigmoidTOimpulse_p \n",
       "           \"0.621034461149643\"         \"0.000673284032026605\" \n",
       "     fourSigmoidTOimpulse_padj    fourSigmoidTOthreeSigmoid_p \n",
       "         \"0.00141088073966077\"                            \"1\" \n",
       "fourSigmoidTOthreeSigmoid_padj                NMinMax_impulse \n",
       "                           \"1\"                            \"3\" \n",
       "          NMinMax_threeSigmoid            NMinMax_fourSigmoid \n",
       "                           \"4\"                            \"4\" \n",
       "                       allZero \n",
       "                       \"FALSE\" "
      ]
     },
     "metadata": {},
     "output_type": "display_data"
    },
    {
     "data": {
      "text/html": [
       "<style>\n",
       ".dl-inline {width: auto; margin:0; padding: 0}\n",
       ".dl-inline>dt, .dl-inline>dd {float: none; width: auto; display: inline-block}\n",
       ".dl-inline>dt::after {content: \":\\0020\"; padding-right: .5ex}\n",
       ".dl-inline>dt:not(:first-of-type) {padding-left: .5ex}\n",
       "</style><dl class=dl-inline><dt>Gene</dt><dd>'DDB_G0269712'</dd><dt>impulseTOconst_p</dt><dd>'1'</dd><dt>impulseTOconst_padj</dt><dd>'1'</dd><dt>loglik_full</dt><dd>'-137.065439208958'</dd><dt>loglik_red</dt><dd>'-136.171529237249'</dd><dt>df_full</dt><dd>'7'</dd><dt>df_red</dt><dd>'2'</dd><dt>mean</dt><dd>'461.199101358975'</dd><dt>converge_impulse</dt><dd>'0'</dd><dt>converge_const</dt><dd>'0'</dd><dt>converge_sigmoid</dt><dd>'0'</dd><dt>impulseTOsigmoid_p</dt><dd>'1'</dd><dt>impulseTOsigmoid_padj</dt><dd>'1'</dd><dt>sigmoidTOconst_p</dt><dd>'0.0926064789286601'</dd><dt>sigmoidTOconst_padj</dt><dd>'0.215103336637927'</dd><dt>isTransient</dt><dd>'FALSE'</dd><dt>isMonotonous</dt><dd>'FALSE'</dd><dt>converge_threeSigmoid</dt><dd>'0'</dd><dt>converge_fourSigmoid</dt><dd>'0'</dd><dt>threeSigmoidTOconst_p</dt><dd>'0.024283915647287'</dd><dt>threeSigmoidTOconst_padj</dt><dd>'0.0890583149981982'</dd><dt>threeSigmoidTOsigmoid_p</dt><dd>'0.0464444921825592'</dd><dt>threeSigmoidTOsigmoid_padj</dt><dd>'0.612727924237095'</dd><dt>threeSigmoidTOimpulse_p</dt><dd>'0.000131015210650829'</dd><dt>threeSigmoidTOimpulse_padj</dt><dd>'0.0004625560521744'</dd><dt>fourSigmoidTOconst_p</dt><dd>'0.047421597019399'</dd><dt>fourSigmoidTOconst_padj</dt><dd>'0.186667011660785'</dd><dt>fourSigmoidTOsigmoid_p</dt><dd>'0.0995676003931046'</dd><dt>fourSigmoidTOsigmoid_padj</dt><dd>'1'</dd><dt>fourSigmoidTOimpulse_p</dt><dd>'0.000832971009034146'</dd><dt>fourSigmoidTOimpulse_padj</dt><dd>'0.00288076131987694'</dd><dt>fourSigmoidTOthreeSigmoid_p</dt><dd>'0.609234572348514'</dd><dt>fourSigmoidTOthreeSigmoid_padj</dt><dd>'1'</dd><dt>NMinMax_impulse</dt><dd>'2'</dd><dt>NMinMax_threeSigmoid</dt><dd>'3'</dd><dt>NMinMax_fourSigmoid</dt><dd>'4'</dd><dt>allZero</dt><dd>'FALSE'</dd></dl>\n"
      ],
      "text/latex": [
       "\\begin{description*}\n",
       "\\item[Gene] 'DDB\\_G0269712'\n",
       "\\item[impulseTOconst\\textbackslash{}\\_p] '1'\n",
       "\\item[impulseTOconst\\textbackslash{}\\_padj] '1'\n",
       "\\item[loglik\\textbackslash{}\\_full] '-137.065439208958'\n",
       "\\item[loglik\\textbackslash{}\\_red] '-136.171529237249'\n",
       "\\item[df\\textbackslash{}\\_full] '7'\n",
       "\\item[df\\textbackslash{}\\_red] '2'\n",
       "\\item[mean] '461.199101358975'\n",
       "\\item[converge\\textbackslash{}\\_impulse] '0'\n",
       "\\item[converge\\textbackslash{}\\_const] '0'\n",
       "\\item[converge\\textbackslash{}\\_sigmoid] '0'\n",
       "\\item[impulseTOsigmoid\\textbackslash{}\\_p] '1'\n",
       "\\item[impulseTOsigmoid\\textbackslash{}\\_padj] '1'\n",
       "\\item[sigmoidTOconst\\textbackslash{}\\_p] '0.0926064789286601'\n",
       "\\item[sigmoidTOconst\\textbackslash{}\\_padj] '0.215103336637927'\n",
       "\\item[isTransient] 'FALSE'\n",
       "\\item[isMonotonous] 'FALSE'\n",
       "\\item[converge\\textbackslash{}\\_threeSigmoid] '0'\n",
       "\\item[converge\\textbackslash{}\\_fourSigmoid] '0'\n",
       "\\item[threeSigmoidTOconst\\textbackslash{}\\_p] '0.024283915647287'\n",
       "\\item[threeSigmoidTOconst\\textbackslash{}\\_padj] '0.0890583149981982'\n",
       "\\item[threeSigmoidTOsigmoid\\textbackslash{}\\_p] '0.0464444921825592'\n",
       "\\item[threeSigmoidTOsigmoid\\textbackslash{}\\_padj] '0.612727924237095'\n",
       "\\item[threeSigmoidTOimpulse\\textbackslash{}\\_p] '0.000131015210650829'\n",
       "\\item[threeSigmoidTOimpulse\\textbackslash{}\\_padj] '0.0004625560521744'\n",
       "\\item[fourSigmoidTOconst\\textbackslash{}\\_p] '0.047421597019399'\n",
       "\\item[fourSigmoidTOconst\\textbackslash{}\\_padj] '0.186667011660785'\n",
       "\\item[fourSigmoidTOsigmoid\\textbackslash{}\\_p] '0.0995676003931046'\n",
       "\\item[fourSigmoidTOsigmoid\\textbackslash{}\\_padj] '1'\n",
       "\\item[fourSigmoidTOimpulse\\textbackslash{}\\_p] '0.000832971009034146'\n",
       "\\item[fourSigmoidTOimpulse\\textbackslash{}\\_padj] '0.00288076131987694'\n",
       "\\item[fourSigmoidTOthreeSigmoid\\textbackslash{}\\_p] '0.609234572348514'\n",
       "\\item[fourSigmoidTOthreeSigmoid\\textbackslash{}\\_padj] '1'\n",
       "\\item[NMinMax\\textbackslash{}\\_impulse] '2'\n",
       "\\item[NMinMax\\textbackslash{}\\_threeSigmoid] '3'\n",
       "\\item[NMinMax\\textbackslash{}\\_fourSigmoid] '4'\n",
       "\\item[allZero] 'FALSE'\n",
       "\\end{description*}\n"
      ],
      "text/markdown": [
       "Gene\n",
       ":   'DDB_G0269712'impulseTOconst_p\n",
       ":   '1'impulseTOconst_padj\n",
       ":   '1'loglik_full\n",
       ":   '-137.065439208958'loglik_red\n",
       ":   '-136.171529237249'df_full\n",
       ":   '7'df_red\n",
       ":   '2'mean\n",
       ":   '461.199101358975'converge_impulse\n",
       ":   '0'converge_const\n",
       ":   '0'converge_sigmoid\n",
       ":   '0'impulseTOsigmoid_p\n",
       ":   '1'impulseTOsigmoid_padj\n",
       ":   '1'sigmoidTOconst_p\n",
       ":   '0.0926064789286601'sigmoidTOconst_padj\n",
       ":   '0.215103336637927'isTransient\n",
       ":   'FALSE'isMonotonous\n",
       ":   'FALSE'converge_threeSigmoid\n",
       ":   '0'converge_fourSigmoid\n",
       ":   '0'threeSigmoidTOconst_p\n",
       ":   '0.024283915647287'threeSigmoidTOconst_padj\n",
       ":   '0.0890583149981982'threeSigmoidTOsigmoid_p\n",
       ":   '0.0464444921825592'threeSigmoidTOsigmoid_padj\n",
       ":   '0.612727924237095'threeSigmoidTOimpulse_p\n",
       ":   '0.000131015210650829'threeSigmoidTOimpulse_padj\n",
       ":   '0.0004625560521744'fourSigmoidTOconst_p\n",
       ":   '0.047421597019399'fourSigmoidTOconst_padj\n",
       ":   '0.186667011660785'fourSigmoidTOsigmoid_p\n",
       ":   '0.0995676003931046'fourSigmoidTOsigmoid_padj\n",
       ":   '1'fourSigmoidTOimpulse_p\n",
       ":   '0.000832971009034146'fourSigmoidTOimpulse_padj\n",
       ":   '0.00288076131987694'fourSigmoidTOthreeSigmoid_p\n",
       ":   '0.609234572348514'fourSigmoidTOthreeSigmoid_padj\n",
       ":   '1'NMinMax_impulse\n",
       ":   '2'NMinMax_threeSigmoid\n",
       ":   '3'NMinMax_fourSigmoid\n",
       ":   '4'allZero\n",
       ":   'FALSE'\n",
       "\n"
      ],
      "text/plain": [
       "                          Gene               impulseTOconst_p \n",
       "                \"DDB_G0269712\"                            \"1\" \n",
       "           impulseTOconst_padj                    loglik_full \n",
       "                           \"1\"            \"-137.065439208958\" \n",
       "                    loglik_red                        df_full \n",
       "           \"-136.171529237249\"                            \"7\" \n",
       "                        df_red                           mean \n",
       "                           \"2\"             \"461.199101358975\" \n",
       "              converge_impulse                 converge_const \n",
       "                           \"0\"                            \"0\" \n",
       "              converge_sigmoid             impulseTOsigmoid_p \n",
       "                           \"0\"                            \"1\" \n",
       "         impulseTOsigmoid_padj               sigmoidTOconst_p \n",
       "                           \"1\"           \"0.0926064789286601\" \n",
       "           sigmoidTOconst_padj                    isTransient \n",
       "           \"0.215103336637927\"                        \"FALSE\" \n",
       "                  isMonotonous          converge_threeSigmoid \n",
       "                       \"FALSE\"                            \"0\" \n",
       "          converge_fourSigmoid          threeSigmoidTOconst_p \n",
       "                           \"0\"            \"0.024283915647287\" \n",
       "      threeSigmoidTOconst_padj        threeSigmoidTOsigmoid_p \n",
       "          \"0.0890583149981982\"           \"0.0464444921825592\" \n",
       "    threeSigmoidTOsigmoid_padj        threeSigmoidTOimpulse_p \n",
       "           \"0.612727924237095\"         \"0.000131015210650829\" \n",
       "    threeSigmoidTOimpulse_padj           fourSigmoidTOconst_p \n",
       "          \"0.0004625560521744\"            \"0.047421597019399\" \n",
       "       fourSigmoidTOconst_padj         fourSigmoidTOsigmoid_p \n",
       "           \"0.186667011660785\"           \"0.0995676003931046\" \n",
       "     fourSigmoidTOsigmoid_padj         fourSigmoidTOimpulse_p \n",
       "                           \"1\"         \"0.000832971009034146\" \n",
       "     fourSigmoidTOimpulse_padj    fourSigmoidTOthreeSigmoid_p \n",
       "         \"0.00288076131987694\"            \"0.609234572348514\" \n",
       "fourSigmoidTOthreeSigmoid_padj                NMinMax_impulse \n",
       "                           \"1\"                            \"2\" \n",
       "          NMinMax_threeSigmoid            NMinMax_fourSigmoid \n",
       "                           \"3\"                            \"4\" \n",
       "                       allZero \n",
       "                       \"FALSE\" "
      ]
     },
     "metadata": {},
     "output_type": "display_data"
    }
   ],
   "source": [
    "unlist(result_WT[vecPlotGenesSub[idx],])\n",
    "unlist(result_gbfA[vecPlotGenesSub[idx],])"
   ]
  },
  {
   "cell_type": "code",
   "execution_count": 755,
   "metadata": {},
   "outputs": [
    {
     "data": {
      "text/html": [
       "<style>\n",
       ".dl-inline {width: auto; margin:0; padding: 0}\n",
       ".dl-inline>dt, .dl-inline>dd {float: none; width: auto; display: inline-block}\n",
       ".dl-inline>dt::after {content: \":\\0020\"; padding-right: .5ex}\n",
       ".dl-inline>dt:not(:first-of-type) {padding-left: .5ex}\n",
       "</style><dl class=dl-inline><dt>beta</dt><dd>2.92310305810697</dd><dt>h0</dt><dd>1019.65572939975</dd><dt>h1</dt><dd>23426.6862323769</dd><dt>h2</dt><dd>33165.092876112</dd><dt>h3</dt><dd>14466.2270126136</dd><dt>h4</dt><dd>8128.09287036076</dd><dt>t1</dt><dd>0.314389149925176</dd><dt>t2</dt><dd>0.312208642862326</dd><dt>t3</dt><dd>6.33116809109739</dd><dt>t4</dt><dd>8.65566767395658</dd></dl>\n"
      ],
      "text/latex": [
       "\\begin{description*}\n",
       "\\item[beta] 2.92310305810697\n",
       "\\item[h0] 1019.65572939975\n",
       "\\item[h1] 23426.6862323769\n",
       "\\item[h2] 33165.092876112\n",
       "\\item[h3] 14466.2270126136\n",
       "\\item[h4] 8128.09287036076\n",
       "\\item[t1] 0.314389149925176\n",
       "\\item[t2] 0.312208642862326\n",
       "\\item[t3] 6.33116809109739\n",
       "\\item[t4] 8.65566767395658\n",
       "\\end{description*}\n"
      ],
      "text/markdown": [
       "beta\n",
       ":   2.92310305810697h0\n",
       ":   1019.65572939975h1\n",
       ":   23426.6862323769h2\n",
       ":   33165.092876112h3\n",
       ":   14466.2270126136h4\n",
       ":   8128.09287036076t1\n",
       ":   0.314389149925176t2\n",
       ":   0.312208642862326t3\n",
       ":   6.33116809109739t4\n",
       ":   8.65566767395658\n",
       "\n"
      ],
      "text/plain": [
       "        beta           h0           h1           h2           h3           h4 \n",
       "2.923103e+00 1.019656e+03 2.342669e+04 3.316509e+04 1.446623e+04 8.128093e+03 \n",
       "          t1           t2           t3           t4 \n",
       "3.143891e-01 3.122086e-01 6.331168e+00 8.655668e+00 "
      ]
     },
     "metadata": {},
     "output_type": "display_data"
    },
    {
     "data": {
      "text/html": [
       "<style>\n",
       ".dl-inline {width: auto; margin:0; padding: 0}\n",
       ".dl-inline>dt, .dl-inline>dd {float: none; width: auto; display: inline-block}\n",
       ".dl-inline>dt::after {content: \":\\0020\"; padding-right: .5ex}\n",
       ".dl-inline>dt:not(:first-of-type) {padding-left: .5ex}\n",
       "</style><dl class=dl-inline><dt>beta</dt><dd>6.12249749487508</dd><dt>h0</dt><dd>0.0120002668027455</dd><dt>h1</dt><dd>60.8325595438041</dd><dt>h2</dt><dd>22.692068660525</dd><dt>h3</dt><dd>961.654117119626</dd><dt>t1</dt><dd>2.2392463877283</dd><dt>t2</dt><dd>6.2341694008658</dd><dt>t3</dt><dd>20.298004631516</dd></dl>\n"
      ],
      "text/latex": [
       "\\begin{description*}\n",
       "\\item[beta] 6.12249749487508\n",
       "\\item[h0] 0.0120002668027455\n",
       "\\item[h1] 60.8325595438041\n",
       "\\item[h2] 22.692068660525\n",
       "\\item[h3] 961.654117119626\n",
       "\\item[t1] 2.2392463877283\n",
       "\\item[t2] 6.2341694008658\n",
       "\\item[t3] 20.298004631516\n",
       "\\end{description*}\n"
      ],
      "text/markdown": [
       "beta\n",
       ":   6.12249749487508h0\n",
       ":   0.0120002668027455h1\n",
       ":   60.8325595438041h2\n",
       ":   22.692068660525h3\n",
       ":   961.654117119626t1\n",
       ":   2.2392463877283t2\n",
       ":   6.2341694008658t3\n",
       ":   20.298004631516\n",
       "\n"
      ],
      "text/plain": [
       "        beta           h0           h1           h2           h3           t1 \n",
       "  6.12249749   0.01200027  60.83255954  22.69206866 961.65411712   2.23924639 \n",
       "          t2           t3 \n",
       "  6.23416940  20.29800463 "
      ]
     },
     "metadata": {},
     "output_type": "display_data"
    }
   ],
   "source": [
    "impulse_ref@lsModelFits$case[['DDB_G0267382']][[modelExtraction[[4]][1]]][[modelExtraction[[4]][2]]]\n",
    "impulse_case@lsModelFits$case[[plotGenes[idx]]][[modelExtraction[[3]][1]]][[modelExtraction[[3]][2]]]"
   ]
  },
  {
   "cell_type": "code",
   "execution_count": 1730,
   "metadata": {},
   "outputs": [
    {
     "name": "stdout",
     "output_type": "stream",
     "text": [
      "[1] \"Setting boolSimplePlot=TRUE as no batch structure was found.\"\n"
     ]
    },
    {
     "data": {
      "text/plain": [
       "[[1]]\n"
      ]
     },
     "metadata": {},
     "output_type": "display_data"
    },
    {
     "data": {
      "image/png": "[encoded data removed]",
      "text/plain": [
       "plot without title"
      ]
     },
     "metadata": {
      "image/png": {
       "height": 300,
       "width": 300
      },
      "text/plain": {
       "height": 300,
       "width": 300
      }
     },
     "output_type": "display_data"
    }
   ],
   "source": [
    "plotGenesExtended(\n",
    "vecGeneIDs =c('DDB_G0275913'),\n",
    "scaNTopIDs = NULL,\n",
    "objectImpulseDE2 = impulse_case,\n",
    "boolCaseCtrl = FALSE,\n",
    "dirOut = NULL,\n",
    "strFileName = NULL,\n",
    "vecRefPval = NULL,\n",
    "strNameRefMethod = NULL,model='impulse')"
   ]
  },
  {
   "cell_type": "code",
   "execution_count": 1723,
   "metadata": {},
   "outputs": [
    {
     "data": {
      "text/html": [
       "<dl>\n",
       "\t<dt>$vecSigmoidParam</dt>\n",
       "\t\t<dd><style>\n",
       ".dl-inline {width: auto; margin:0; padding: 0}\n",
       ".dl-inline>dt, .dl-inline>dd {float: none; width: auto; display: inline-block}\n",
       ".dl-inline>dt::after {content: \":\\0020\"; padding-right: .5ex}\n",
       ".dl-inline>dt:not(:first-of-type) {padding-left: .5ex}\n",
       "</style><dl class=dl-inline><dt>beta</dt><dd>3.35235495573435</dd><dt>h0</dt><dd>2154.04153131771</dd><dt>h1</dt><dd>303.567124571365</dd><dt>t</dt><dd>0.361083174330168</dd></dl>\n",
       "</dd>\n",
       "\t<dt>$vecSigmoidValue</dt>\n",
       "\t\t<dd><style>\n",
       ".dl-inline {width: auto; margin:0; padding: 0}\n",
       ".dl-inline>dt, .dl-inline>dd {float: none; width: auto; display: inline-block}\n",
       ".dl-inline>dt::after {content: \":\\0020\"; padding-right: .5ex}\n",
       ".dl-inline>dt:not(:first-of-type) {padding-left: .5ex}\n",
       "</style><dl class=dl-inline><dt>gbfA_0h_r1_28_S79_L003_R1_001_mappedGene_expressions_All_milestone_mRNA_gff</dt><dd>1729.14241907879</dd><dt>gbfA_r3_00h_1_S126_L002_R1_001_mappedGene_expressions_All_milestone_mRNA_gff</dt><dd>1729.14241907879</dd><dt>gbfA_4h_r1_29_S80_L003_R1_001_mappedGene_expressions_All_milestone_mRNA_gff</dt><dd>303.57644311832</dd><dt>gbfA_r3_04h_2_S127_L002_R1_001_mappedGene_expressions_All_milestone_mRNA_gff</dt><dd>303.57644311832</dd><dt>gbfA_6h_r1_30_S81_L003_R1_001_mappedGene_expressions_All_milestone_mRNA_gff</dt><dd>303.567135987836</dd><dt>gbfA_r3_06h_3_S128_L002_R1_001_mappedGene_expressions_All_milestone_mRNA_gff</dt><dd>303.567135987836</dd><dt>gbfA_8h_r1_31_S82_L003_R1_001_mappedGene_expressions_All_milestone_mRNA_gff</dt><dd>303.567124585352</dd><dt>gbfA_r3_08h_4_S129_L002_R1_001_mappedGene_expressions_All_milestone_mRNA_gff</dt><dd>303.567124585352</dd><dt>gbfA_10h_r1_32_S83_L003_R1_001_mappedGene_expressions_All_milestone_mRNA_gff</dt><dd>303.567124571383</dd><dt>gbfA_r3_10h_5_S130_L002_R1_001_mappedGene_expressions_All_milestone_mRNA_gff</dt><dd>303.567124571383</dd><dt>gbfA_12h_r1_33_S84_L003_R1_001_mappedGene_expressions_All_milestone_mRNA_gff</dt><dd>303.567124571365</dd><dt>gbfA_r3_12h_6_S131_L002_R1_001_mappedGene_expressions_All_milestone_mRNA_gff</dt><dd>303.567124571365</dd><dt>gbfA_14h_r1_34_S85_L003_R1_001_mappedGene_expressions_All_milestone_mRNA_gff</dt><dd>303.567124571365</dd><dt>gbfA_r3_14h_10_S135_L002_R1_001_mappedGene_expressions_All_milestone_mRNA_gff</dt><dd>303.567124571365</dd><dt>gbfA_16h_r1_35_S86_L003_R1_001_mappedGene_expressions_All_milestone_mRNA_gff</dt><dd>303.567124571365</dd><dt>gbfA_r3_16h_11_S136_L002_R1_001_mappedGene_expressions_All_milestone_mRNA_gff</dt><dd>303.567124571365</dd><dt>gbfA_20h_r1_36_S87_L003_R1_001_mappedGene_expressions_All_milestone_mRNA_gff</dt><dd>303.567124571365</dd><dt>gbfA_r3_20h_12_S137_L002_R1_001_mappedGene_expressions_All_milestone_mRNA_gff</dt><dd>303.567124571365</dd><dt>gbfA_24h_r1_37_S88_L003_R1_001_mappedGene_expressions_All_milestone_mRNA_gff</dt><dd>303.567124571365</dd><dt>gbfA_r3_24h_13_S138_L002_R1_001_mappedGene_expressions_All_milestone_mRNA_gff</dt><dd>303.567124571365</dd></dl>\n",
       "</dd>\n",
       "\t<dt>$lsvecBatchFactors</dt>\n",
       "\t\t<dd>NULL</dd>\n",
       "\t<dt>$scaDispParam</dt>\n",
       "\t\t<dd><strong>DDB_G0275913:</strong> 10.879813204514</dd>\n",
       "\t<dt>$scaLL</dt>\n",
       "\t\t<dd>-146.426617741301</dd>\n",
       "\t<dt>$scaConvergence</dt>\n",
       "\t\t<dd>0</dd>\n",
       "</dl>\n"
      ],
      "text/latex": [
       "\\begin{description}\n",
       "\\item[\\$vecSigmoidParam] \\begin{description*}\n",
       "\\item[beta] 3.35235495573435\n",
       "\\item[h0] 2154.04153131771\n",
       "\\item[h1] 303.567124571365\n",
       "\\item[t] 0.361083174330168\n",
       "\\end{description*}\n",
       "\n",
       "\\item[\\$vecSigmoidValue] \\begin{description*}\n",
       "\\item[gbfA\\textbackslash{}\\_0h\\textbackslash{}\\_r1\\textbackslash{}\\_28\\textbackslash{}\\_S79\\textbackslash{}\\_L003\\textbackslash{}\\_R1\\textbackslash{}\\_001\\textbackslash{}\\_mappedGene\\textbackslash{}\\_expressions\\textbackslash{}\\_All\\textbackslash{}\\_milestone\\textbackslash{}\\_mRNA\\textbackslash{}\\_gff] 1729.14241907879\n",
       "\\item[gbfA\\textbackslash{}\\_r3\\textbackslash{}\\_00h\\textbackslash{}\\_1\\textbackslash{}\\_S126\\textbackslash{}\\_L002\\textbackslash{}\\_R1\\textbackslash{}\\_001\\textbackslash{}\\_mappedGene\\textbackslash{}\\_expressions\\textbackslash{}\\_All\\textbackslash{}\\_milestone\\textbackslash{}\\_mRNA\\textbackslash{}\\_gff] 1729.14241907879\n",
       "\\item[gbfA\\textbackslash{}\\_4h\\textbackslash{}\\_r1\\textbackslash{}\\_29\\textbackslash{}\\_S80\\textbackslash{}\\_L003\\textbackslash{}\\_R1\\textbackslash{}\\_001\\textbackslash{}\\_mappedGene\\textbackslash{}\\_expressions\\textbackslash{}\\_All\\textbackslash{}\\_milestone\\textbackslash{}\\_mRNA\\textbackslash{}\\_gff] 303.57644311832\n",
       "\\item[gbfA\\textbackslash{}\\_r3\\textbackslash{}\\_04h\\textbackslash{}\\_2\\textbackslash{}\\_S127\\textbackslash{}\\_L002\\textbackslash{}\\_R1\\textbackslash{}\\_001\\textbackslash{}\\_mappedGene\\textbackslash{}\\_expressions\\textbackslash{}\\_All\\textbackslash{}\\_milestone\\textbackslash{}\\_mRNA\\textbackslash{}\\_gff] 303.57644311832\n",
       "\\item[gbfA\\textbackslash{}\\_6h\\textbackslash{}\\_r1\\textbackslash{}\\_30\\textbackslash{}\\_S81\\textbackslash{}\\_L003\\textbackslash{}\\_R1\\textbackslash{}\\_001\\textbackslash{}\\_mappedGene\\textbackslash{}\\_expressions\\textbackslash{}\\_All\\textbackslash{}\\_milestone\\textbackslash{}\\_mRNA\\textbackslash{}\\_gff] 303.567135987836\n",
       "\\item[gbfA\\textbackslash{}\\_r3\\textbackslash{}\\_06h\\textbackslash{}\\_3\\textbackslash{}\\_S128\\textbackslash{}\\_L002\\textbackslash{}\\_R1\\textbackslash{}\\_001\\textbackslash{}\\_mappedGene\\textbackslash{}\\_expressions\\textbackslash{}\\_All\\textbackslash{}\\_milestone\\textbackslash{}\\_mRNA\\textbackslash{}\\_gff] 303.567135987836\n",
       "\\item[gbfA\\textbackslash{}\\_8h\\textbackslash{}\\_r1\\textbackslash{}\\_31\\textbackslash{}\\_S82\\textbackslash{}\\_L003\\textbackslash{}\\_R1\\textbackslash{}\\_001\\textbackslash{}\\_mappedGene\\textbackslash{}\\_expressions\\textbackslash{}\\_All\\textbackslash{}\\_milestone\\textbackslash{}\\_mRNA\\textbackslash{}\\_gff] 303.567124585352\n",
       "\\item[gbfA\\textbackslash{}\\_r3\\textbackslash{}\\_08h\\textbackslash{}\\_4\\textbackslash{}\\_S129\\textbackslash{}\\_L002\\textbackslash{}\\_R1\\textbackslash{}\\_001\\textbackslash{}\\_mappedGene\\textbackslash{}\\_expressions\\textbackslash{}\\_All\\textbackslash{}\\_milestone\\textbackslash{}\\_mRNA\\textbackslash{}\\_gff] 303.567124585352\n",
       "\\item[gbfA\\textbackslash{}\\_10h\\textbackslash{}\\_r1\\textbackslash{}\\_32\\textbackslash{}\\_S83\\textbackslash{}\\_L003\\textbackslash{}\\_R1\\textbackslash{}\\_001\\textbackslash{}\\_mappedGene\\textbackslash{}\\_expressions\\textbackslash{}\\_All\\textbackslash{}\\_milestone\\textbackslash{}\\_mRNA\\textbackslash{}\\_gff] 303.567124571383\n",
       "\\item[gbfA\\textbackslash{}\\_r3\\textbackslash{}\\_10h\\textbackslash{}\\_5\\textbackslash{}\\_S130\\textbackslash{}\\_L002\\textbackslash{}\\_R1\\textbackslash{}\\_001\\textbackslash{}\\_mappedGene\\textbackslash{}\\_expressions\\textbackslash{}\\_All\\textbackslash{}\\_milestone\\textbackslash{}\\_mRNA\\textbackslash{}\\_gff] 303.567124571383\n",
       "\\item[gbfA\\textbackslash{}\\_12h\\textbackslash{}\\_r1\\textbackslash{}\\_33\\textbackslash{}\\_S84\\textbackslash{}\\_L003\\textbackslash{}\\_R1\\textbackslash{}\\_001\\textbackslash{}\\_mappedGene\\textbackslash{}\\_expressions\\textbackslash{}\\_All\\textbackslash{}\\_milestone\\textbackslash{}\\_mRNA\\textbackslash{}\\_gff] 303.567124571365\n",
       "\\item[gbfA\\textbackslash{}\\_r3\\textbackslash{}\\_12h\\textbackslash{}\\_6\\textbackslash{}\\_S131\\textbackslash{}\\_L002\\textbackslash{}\\_R1\\textbackslash{}\\_001\\textbackslash{}\\_mappedGene\\textbackslash{}\\_expressions\\textbackslash{}\\_All\\textbackslash{}\\_milestone\\textbackslash{}\\_mRNA\\textbackslash{}\\_gff] 303.567124571365\n",
       "\\item[gbfA\\textbackslash{}\\_14h\\textbackslash{}\\_r1\\textbackslash{}\\_34\\textbackslash{}\\_S85\\textbackslash{}\\_L003\\textbackslash{}\\_R1\\textbackslash{}\\_001\\textbackslash{}\\_mappedGene\\textbackslash{}\\_expressions\\textbackslash{}\\_All\\textbackslash{}\\_milestone\\textbackslash{}\\_mRNA\\textbackslash{}\\_gff] 303.567124571365\n",
       "\\item[gbfA\\textbackslash{}\\_r3\\textbackslash{}\\_14h\\textbackslash{}\\_10\\textbackslash{}\\_S135\\textbackslash{}\\_L002\\textbackslash{}\\_R1\\textbackslash{}\\_001\\textbackslash{}\\_mappedGene\\textbackslash{}\\_expressions\\textbackslash{}\\_All\\textbackslash{}\\_milestone\\textbackslash{}\\_mRNA\\textbackslash{}\\_gff] 303.567124571365\n",
       "\\item[gbfA\\textbackslash{}\\_16h\\textbackslash{}\\_r1\\textbackslash{}\\_35\\textbackslash{}\\_S86\\textbackslash{}\\_L003\\textbackslash{}\\_R1\\textbackslash{}\\_001\\textbackslash{}\\_mappedGene\\textbackslash{}\\_expressions\\textbackslash{}\\_All\\textbackslash{}\\_milestone\\textbackslash{}\\_mRNA\\textbackslash{}\\_gff] 303.567124571365\n",
       "\\item[gbfA\\textbackslash{}\\_r3\\textbackslash{}\\_16h\\textbackslash{}\\_11\\textbackslash{}\\_S136\\textbackslash{}\\_L002\\textbackslash{}\\_R1\\textbackslash{}\\_001\\textbackslash{}\\_mappedGene\\textbackslash{}\\_expressions\\textbackslash{}\\_All\\textbackslash{}\\_milestone\\textbackslash{}\\_mRNA\\textbackslash{}\\_gff] 303.567124571365\n",
       "\\item[gbfA\\textbackslash{}\\_20h\\textbackslash{}\\_r1\\textbackslash{}\\_36\\textbackslash{}\\_S87\\textbackslash{}\\_L003\\textbackslash{}\\_R1\\textbackslash{}\\_001\\textbackslash{}\\_mappedGene\\textbackslash{}\\_expressions\\textbackslash{}\\_All\\textbackslash{}\\_milestone\\textbackslash{}\\_mRNA\\textbackslash{}\\_gff] 303.567124571365\n",
       "\\item[gbfA\\textbackslash{}\\_r3\\textbackslash{}\\_20h\\textbackslash{}\\_12\\textbackslash{}\\_S137\\textbackslash{}\\_L002\\textbackslash{}\\_R1\\textbackslash{}\\_001\\textbackslash{}\\_mappedGene\\textbackslash{}\\_expressions\\textbackslash{}\\_All\\textbackslash{}\\_milestone\\textbackslash{}\\_mRNA\\textbackslash{}\\_gff] 303.567124571365\n",
       "\\item[gbfA\\textbackslash{}\\_24h\\textbackslash{}\\_r1\\textbackslash{}\\_37\\textbackslash{}\\_S88\\textbackslash{}\\_L003\\textbackslash{}\\_R1\\textbackslash{}\\_001\\textbackslash{}\\_mappedGene\\textbackslash{}\\_expressions\\textbackslash{}\\_All\\textbackslash{}\\_milestone\\textbackslash{}\\_mRNA\\textbackslash{}\\_gff] 303.567124571365\n",
       "\\item[gbfA\\textbackslash{}\\_r3\\textbackslash{}\\_24h\\textbackslash{}\\_13\\textbackslash{}\\_S138\\textbackslash{}\\_L002\\textbackslash{}\\_R1\\textbackslash{}\\_001\\textbackslash{}\\_mappedGene\\textbackslash{}\\_expressions\\textbackslash{}\\_All\\textbackslash{}\\_milestone\\textbackslash{}\\_mRNA\\textbackslash{}\\_gff] 303.567124571365\n",
       "\\end{description*}\n",
       "\n",
       "\\item[\\$lsvecBatchFactors] NULL\n",
       "\\item[\\$scaDispParam] \\textbf{DDB\\textbackslash{}\\_G0275913:} 10.879813204514\n",
       "\\item[\\$scaLL] -146.426617741301\n",
       "\\item[\\$scaConvergence] 0\n",
       "\\end{description}\n"
      ],
      "text/markdown": [
       "$vecSigmoidParam\n",
       ":   beta\n",
       ":   3.35235495573435h0\n",
       ":   2154.04153131771h1\n",
       ":   303.567124571365t\n",
       ":   0.361083174330168\n",
       "\n",
       "\n",
       "$vecSigmoidValue\n",
       ":   gbfA_0h_r1_28_S79_L003_R1_001_mappedGene_expressions_All_milestone_mRNA_gff\n",
       ":   1729.14241907879gbfA_r3_00h_1_S126_L002_R1_001_mappedGene_expressions_All_milestone_mRNA_gff\n",
       ":   1729.14241907879gbfA_4h_r1_29_S80_L003_R1_001_mappedGene_expressions_All_milestone_mRNA_gff\n",
       ":   303.57644311832gbfA_r3_04h_2_S127_L002_R1_001_mappedGene_expressions_All_milestone_mRNA_gff\n",
       ":   303.57644311832gbfA_6h_r1_30_S81_L003_R1_001_mappedGene_expressions_All_milestone_mRNA_gff\n",
       ":   303.567135987836gbfA_r3_06h_3_S128_L002_R1_001_mappedGene_expressions_All_milestone_mRNA_gff\n",
       ":   303.567135987836gbfA_8h_r1_31_S82_L003_R1_001_mappedGene_expressions_All_milestone_mRNA_gff\n",
       ":   303.567124585352gbfA_r3_08h_4_S129_L002_R1_001_mappedGene_expressions_All_milestone_mRNA_gff\n",
       ":   303.567124585352gbfA_10h_r1_32_S83_L003_R1_001_mappedGene_expressions_All_milestone_mRNA_gff\n",
       ":   303.567124571383gbfA_r3_10h_5_S130_L002_R1_001_mappedGene_expressions_All_milestone_mRNA_gff\n",
       ":   303.567124571383gbfA_12h_r1_33_S84_L003_R1_001_mappedGene_expressions_All_milestone_mRNA_gff\n",
       ":   303.567124571365gbfA_r3_12h_6_S131_L002_R1_001_mappedGene_expressions_All_milestone_mRNA_gff\n",
       ":   303.567124571365gbfA_14h_r1_34_S85_L003_R1_001_mappedGene_expressions_All_milestone_mRNA_gff\n",
       ":   303.567124571365gbfA_r3_14h_10_S135_L002_R1_001_mappedGene_expressions_All_milestone_mRNA_gff\n",
       ":   303.567124571365gbfA_16h_r1_35_S86_L003_R1_001_mappedGene_expressions_All_milestone_mRNA_gff\n",
       ":   303.567124571365gbfA_r3_16h_11_S136_L002_R1_001_mappedGene_expressions_All_milestone_mRNA_gff\n",
       ":   303.567124571365gbfA_20h_r1_36_S87_L003_R1_001_mappedGene_expressions_All_milestone_mRNA_gff\n",
       ":   303.567124571365gbfA_r3_20h_12_S137_L002_R1_001_mappedGene_expressions_All_milestone_mRNA_gff\n",
       ":   303.567124571365gbfA_24h_r1_37_S88_L003_R1_001_mappedGene_expressions_All_milestone_mRNA_gff\n",
       ":   303.567124571365gbfA_r3_24h_13_S138_L002_R1_001_mappedGene_expressions_All_milestone_mRNA_gff\n",
       ":   303.567124571365\n",
       "\n",
       "\n",
       "$lsvecBatchFactors\n",
       ":   NULL\n",
       "$scaDispParam\n",
       ":   **DDB_G0275913:** 10.879813204514\n",
       "$scaLL\n",
       ":   -146.426617741301\n",
       "$scaConvergence\n",
       ":   0\n",
       "\n",
       "\n"
      ],
      "text/plain": [
       "$vecSigmoidParam\n",
       "        beta           h0           h1            t \n",
       "   3.3523550 2154.0415313  303.5671246    0.3610832 \n",
       "\n",
       "$vecSigmoidValue\n",
       "  gbfA_0h_r1_28_S79_L003_R1_001_mappedGene_expressions_All_milestone_mRNA_gff \n",
       "                                                                    1729.1424 \n",
       " gbfA_r3_00h_1_S126_L002_R1_001_mappedGene_expressions_All_milestone_mRNA_gff \n",
       "                                                                    1729.1424 \n",
       "  gbfA_4h_r1_29_S80_L003_R1_001_mappedGene_expressions_All_milestone_mRNA_gff \n",
       "                                                                     303.5764 \n",
       " gbfA_r3_04h_2_S127_L002_R1_001_mappedGene_expressions_All_milestone_mRNA_gff \n",
       "                                                                     303.5764 \n",
       "  gbfA_6h_r1_30_S81_L003_R1_001_mappedGene_expressions_All_milestone_mRNA_gff \n",
       "                                                                     303.5671 \n",
       " gbfA_r3_06h_3_S128_L002_R1_001_mappedGene_expressions_All_milestone_mRNA_gff \n",
       "                                                                     303.5671 \n",
       "  gbfA_8h_r1_31_S82_L003_R1_001_mappedGene_expressions_All_milestone_mRNA_gff \n",
       "                                                                     303.5671 \n",
       " gbfA_r3_08h_4_S129_L002_R1_001_mappedGene_expressions_All_milestone_mRNA_gff \n",
       "                                                                     303.5671 \n",
       " gbfA_10h_r1_32_S83_L003_R1_001_mappedGene_expressions_All_milestone_mRNA_gff \n",
       "                                                                     303.5671 \n",
       " gbfA_r3_10h_5_S130_L002_R1_001_mappedGene_expressions_All_milestone_mRNA_gff \n",
       "                                                                     303.5671 \n",
       " gbfA_12h_r1_33_S84_L003_R1_001_mappedGene_expressions_All_milestone_mRNA_gff \n",
       "                                                                     303.5671 \n",
       " gbfA_r3_12h_6_S131_L002_R1_001_mappedGene_expressions_All_milestone_mRNA_gff \n",
       "                                                                     303.5671 \n",
       " gbfA_14h_r1_34_S85_L003_R1_001_mappedGene_expressions_All_milestone_mRNA_gff \n",
       "                                                                     303.5671 \n",
       "gbfA_r3_14h_10_S135_L002_R1_001_mappedGene_expressions_All_milestone_mRNA_gff \n",
       "                                                                     303.5671 \n",
       " gbfA_16h_r1_35_S86_L003_R1_001_mappedGene_expressions_All_milestone_mRNA_gff \n",
       "                                                                     303.5671 \n",
       "gbfA_r3_16h_11_S136_L002_R1_001_mappedGene_expressions_All_milestone_mRNA_gff \n",
       "                                                                     303.5671 \n",
       " gbfA_20h_r1_36_S87_L003_R1_001_mappedGene_expressions_All_milestone_mRNA_gff \n",
       "                                                                     303.5671 \n",
       "gbfA_r3_20h_12_S137_L002_R1_001_mappedGene_expressions_All_milestone_mRNA_gff \n",
       "                                                                     303.5671 \n",
       " gbfA_24h_r1_37_S88_L003_R1_001_mappedGene_expressions_All_milestone_mRNA_gff \n",
       "                                                                     303.5671 \n",
       "gbfA_r3_24h_13_S138_L002_R1_001_mappedGene_expressions_All_milestone_mRNA_gff \n",
       "                                                                     303.5671 \n",
       "\n",
       "$lsvecBatchFactors\n",
       "NULL\n",
       "\n",
       "$scaDispParam\n",
       "DDB_G0275913 \n",
       "    10.87981 \n",
       "\n",
       "$scaLL\n",
       "[1] -146.4266\n",
       "\n",
       "$scaConvergence\n",
       "[1] 0\n"
      ]
     },
     "metadata": {},
     "output_type": "display_data"
    }
   ],
   "source": [
    "impulse_case@lsModelFits$case[['DDB_G0275913']][[unlist(modelExtraction[[1]][1])]]"
   ]
  },
  {
   "cell_type": "code",
   "execution_count": 1709,
   "metadata": {},
   "outputs": [
    {
     "name": "stdout",
     "output_type": "stream",
     "text": [
      "[1] \"rising : sum of normalised differences 2.12 ; normalised differences 0, 2.12, 0, 0, 0\"\n",
      "[1] \"noisy : sum of normalised differences 10 ; normalised differences 2, 2, 2, 2, 2\"\n",
      "[1] \"peak : sum of normalised differences 4.04 ; normalised differences 0, 2.02, 0, 0, 2.02, 0\"\n",
      "[1] \"small narrow peak : sum of normalised differences 4.24 ; normalised differences 0, 2.12, 0, 2.12, 0\"\n",
      "[1] \"narrow peak : sum of normalised differences 4.24 ; normalised differences 0, 2.12, 0, 2.12, 0\"\n"
     ]
    }
   ],
   "source": [
    "# Try to implement a simpler gene selection based on the sum of differences between neighbouring samples\n",
    "absDiff<-function(vec){\n",
    "    diff=abs(head(vec,length(vec)-1)-tail(vec,length(vec)-1))\n",
    "    return(diff)\n",
    "}\n",
    "\n",
    "# Example gene expression profiles\n",
    "examples=list('rising'=c(0,0,3,3,3,3), 'noisy'=c(0,3,0,3,0,3),\n",
    "              'peak'=c(0,0,3,3,3,0,0),'small narrow peak'=c(0,0,1,1,0,0),\n",
    "              'narrow peak'=c(0,0,3,3,0,0))\n",
    "for (example_name in names(examples)){\n",
    "    example=examples[[example_name]]\n",
    "    # Calculate absolute differences between the time points and normalise by standard deviation (biased)\n",
    "    exampleSd<-sd(example)*sqrt((length(example)-1)/length(example))\n",
    "    normDiff<-rollapply(example, 2, absDiff)/exampleSd\n",
    "    # Sum of normalised differences\n",
    "    print(paste(example_name,': sum of normalised differences',round(sum(normDiff),2),\n",
    "                '; normalised differences',paste(round(normDiff,2),collapse=', ')))\n",
    "}"
   ]
  },
  {
   "cell_type": "code",
   "execution_count": 1618,
   "metadata": {},
   "outputs": [
    {
     "name": "stdout",
     "output_type": "stream",
     "text": [
      "[1] \"Setting boolSimplePlot=TRUE as no batch structure was found.\"\n",
      "[1] \"Setting boolSimplePlot=TRUE as no batch structure was found.\"\n"
     ]
    }
   ],
   "source": [
    "plots_ref<-plotGenesExtended(\n",
    "vecGeneIDs = vecPlotGenesSub[1:10],\n",
    "scaNTopIDs = NULL,\n",
    "objectImpulseDE2 = impulse_ref,\n",
    "boolCaseCtrl = FALSE,\n",
    "dirOut = NULL,\n",
    "strFileName = NULL,\n",
    "vecRefPval = NULL,\n",
    "strNameRefMethod = NULL,model='fourSigmoid')\n",
    "plots_case<-plotGenesExtended(\n",
    "vecGeneIDs =vecPlotGenesSub,\n",
    "scaNTopIDs = NULL,\n",
    "objectImpulseDE2 = impulse_case,\n",
    "boolCaseCtrl = FALSE,\n",
    "dirOut = NULL,\n",
    "strFileName = NULL,\n",
    "vecRefPval = NULL,\n",
    "strNameRefMethod = NULL,model='fourSigmoid')"
   ]
  },
  {
   "cell_type": "code",
   "execution_count": 1344,
   "metadata": {},
   "outputs": [
    {
     "data": {
      "image/png": "[encoded data removed]",
      "text/plain": [
       "Plot with title “Histogram of as.vector(unlist(-log10(filterFits[3])))”"
      ]
     },
     "metadata": {
      "image/png": {
       "height": 300,
       "width": 300
      },
      "text/plain": {
       "height": 300,
       "width": 300
      }
     },
     "output_type": "display_data"
    }
   ],
   "source": [
    "hist(as.vector(unlist(-log10(filterFits[3]))),breaks =40)"
   ]
  },
  {
   "cell_type": "code",
   "execution_count": 1345,
   "metadata": {},
   "outputs": [
    {
     "data": {
      "text/html": [
       "37"
      ],
      "text/latex": [
       "37"
      ],
      "text/markdown": [
       "37"
      ],
      "text/plain": [
       "[1] 37"
      ]
     },
     "metadata": {},
     "output_type": "display_data"
    }
   ],
   "source": [
    "sum(is.na(as.vector(unlist(-log10(filterFits[3])))))"
   ]
  },
  {
   "cell_type": "code",
   "execution_count": 284,
   "metadata": {},
   "outputs": [
    {
     "data": {
      "text/html": [
       "<style>\n",
       ".dl-inline {width: auto; margin:0; padding: 0}\n",
       ".dl-inline>dt, .dl-inline>dd {float: none; width: auto; display: inline-block}\n",
       ".dl-inline>dt::after {content: \":\\0020\"; padding-right: .5ex}\n",
       ".dl-inline>dt:not(:first-of-type) {padding-left: .5ex}\n",
       "</style><dl class=dl-inline><dt>S1</dt><dd>FALSE</dd><dt>S2</dt><dd>FALSE</dd><dt>S3</dt><dd>FALSE</dd><dt>S4</dt><dd>FALSE</dd></dl>\n"
      ],
      "text/latex": [
       "\\begin{description*}\n",
       "\\item[S1] FALSE\n",
       "\\item[S2] FALSE\n",
       "\\item[S3] FALSE\n",
       "\\item[S4] FALSE\n",
       "\\end{description*}\n"
      ],
      "text/markdown": [
       "S1\n",
       ":   FALSES2\n",
       ":   FALSES3\n",
       ":   FALSES4\n",
       ":   FALSE\n",
       "\n"
      ],
      "text/plain": [
       "   S1    S2    S3    S4 \n",
       "FALSE FALSE FALSE FALSE "
      ]
     },
     "metadata": {},
     "output_type": "display_data"
    }
   ],
   "source": [
    "unlist(as.vector((df[1,])))"
   ]
  },
  {
   "cell_type": "code",
   "execution_count": 256,
   "metadata": {},
   "outputs": [
    {
     "data": {
      "text/html": [
       "8898"
      ],
      "text/latex": [
       "8898"
      ],
      "text/markdown": [
       "8898"
      ],
      "text/plain": [
       "[1] 8898"
      ]
     },
     "metadata": {},
     "output_type": "display_data"
    }
   ],
   "source": [
    "sum(result$isMonotonous)"
   ]
  },
  {
   "cell_type": "code",
   "execution_count": 265,
   "metadata": {},
   "outputs": [
    {
     "data": {
      "text/html": [
       "40"
      ],
      "text/latex": [
       "40"
      ],
      "text/markdown": [
       "40"
      ],
      "text/plain": [
       "[1] 40"
      ]
     },
     "metadata": {},
     "output_type": "display_data"
    }
   ],
   "source": [
    "sum(boolFourSigmoid)"
   ]
  },
  {
   "cell_type": "code",
   "execution_count": 254,
   "metadata": {},
   "outputs": [
    {
     "data": {
      "text/html": [
       "791"
      ],
      "text/latex": [
       "791"
      ],
      "text/markdown": [
       "791"
      ],
      "text/plain": [
       "[1] 791"
      ]
     },
     "metadata": {},
     "output_type": "display_data"
    }
   ],
   "source": [
    "sum((result$padj<=scaQThres & result$impulseTOsigmoid_padj<=scaQThres & result$NMinMax_impulse ==3))"
   ]
  },
  {
   "cell_type": "code",
   "execution_count": 228,
   "metadata": {},
   "outputs": [
    {
     "data": {
      "text/html": [
       "40"
      ],
      "text/latex": [
       "40"
      ],
      "text/markdown": [
       "40"
      ],
      "text/plain": [
       "[1] 40"
      ]
     },
     "metadata": {},
     "output_type": "display_data"
    }
   ],
   "source": [
    "sum((result$fourSigmoidTOconst_padj<=scaQThres & \n",
    "                      result$fourSigmoidTOsigmoid_padj<=scaQThres &\n",
    "                      result$fourSigmoidTOimpulse_padj<=scaQThres &\n",
    "                      result$fourSigmoidTOthreeSigmoid_padj<=scaQThres &\n",
    "                      result$NMinMax_fourSigmoid == 5))"
   ]
  },
  {
   "cell_type": "code",
   "execution_count": 223,
   "metadata": {},
   "outputs": [
    {
     "data": {
      "text/html": [
       "<style>\n",
       ".list-inline {list-style: none; margin:0; padding: 0}\n",
       ".list-inline>li {display: inline-block}\n",
       ".list-inline>li:not(:last-child)::after {content: \"\\00b7\"; padding: 0 .5ex}\n",
       "</style>\n",
       "<ol class=list-inline><li>'Gene'</li><li>'p'</li><li>'padj'</li><li>'loglik_full'</li><li>'loglik_red'</li><li>'df_full'</li><li>'df_red'</li><li>'mean'</li><li>'converge_impulse'</li><li>'converge_const'</li><li>'converge_sigmoid'</li><li>'impulseTOsigmoid_p'</li><li>'impulseTOsigmoid_padj'</li><li>'sigmoidTOconst_p'</li><li>'sigmoidTOconst_padj'</li><li>'isTransient'</li><li>'isMonotonous'</li><li>'converge_threeSigmoid'</li><li>'converge_fourSigmoid'</li><li>'threeSigmoidTOconst_p'</li><li>'threeSigmoidTOconst_padj'</li><li>'threeSigmoidTOsigmoid_p'</li><li>'threeSigmoidTOsigmoid_padj'</li><li>'threeSigmoidTOimpulse_p'</li><li>'threeSigmoidTOimpulse_padj'</li><li>'fourSigmoidTOconst_p'</li><li>'fourSigmoidTOconst_padj'</li><li>'fourSigmoidTOsigmoid_p'</li><li>'fourSigmoidTOsigmoid_padj'</li><li>'fourSigmoidTOimpulse_p'</li><li>'fourSigmoidTOimpulse_padj'</li><li>'fourSigmoidTOthreeSigmoid_p'</li><li>'fourSigmoidTOthreeSigmoid_padj'</li><li>'NMinMax_impulse'</li><li>'NMinMax_threeSigmoid'</li><li>'NMinMax_fourSigmoid'</li><li>'allZero'</li></ol>\n"
      ],
      "text/latex": [
       "\\begin{enumerate*}\n",
       "\\item 'Gene'\n",
       "\\item 'p'\n",
       "\\item 'padj'\n",
       "\\item 'loglik\\_full'\n",
       "\\item 'loglik\\_red'\n",
       "\\item 'df\\_full'\n",
       "\\item 'df\\_red'\n",
       "\\item 'mean'\n",
       "\\item 'converge\\_impulse'\n",
       "\\item 'converge\\_const'\n",
       "\\item 'converge\\_sigmoid'\n",
       "\\item 'impulseTOsigmoid\\_p'\n",
       "\\item 'impulseTOsigmoid\\_padj'\n",
       "\\item 'sigmoidTOconst\\_p'\n",
       "\\item 'sigmoidTOconst\\_padj'\n",
       "\\item 'isTransient'\n",
       "\\item 'isMonotonous'\n",
       "\\item 'converge\\_threeSigmoid'\n",
       "\\item 'converge\\_fourSigmoid'\n",
       "\\item 'threeSigmoidTOconst\\_p'\n",
       "\\item 'threeSigmoidTOconst\\_padj'\n",
       "\\item 'threeSigmoidTOsigmoid\\_p'\n",
       "\\item 'threeSigmoidTOsigmoid\\_padj'\n",
       "\\item 'threeSigmoidTOimpulse\\_p'\n",
       "\\item 'threeSigmoidTOimpulse\\_padj'\n",
       "\\item 'fourSigmoidTOconst\\_p'\n",
       "\\item 'fourSigmoidTOconst\\_padj'\n",
       "\\item 'fourSigmoidTOsigmoid\\_p'\n",
       "\\item 'fourSigmoidTOsigmoid\\_padj'\n",
       "\\item 'fourSigmoidTOimpulse\\_p'\n",
       "\\item 'fourSigmoidTOimpulse\\_padj'\n",
       "\\item 'fourSigmoidTOthreeSigmoid\\_p'\n",
       "\\item 'fourSigmoidTOthreeSigmoid\\_padj'\n",
       "\\item 'NMinMax\\_impulse'\n",
       "\\item 'NMinMax\\_threeSigmoid'\n",
       "\\item 'NMinMax\\_fourSigmoid'\n",
       "\\item 'allZero'\n",
       "\\end{enumerate*}\n"
      ],
      "text/markdown": [
       "1. 'Gene'\n",
       "2. 'p'\n",
       "3. 'padj'\n",
       "4. 'loglik_full'\n",
       "5. 'loglik_red'\n",
       "6. 'df_full'\n",
       "7. 'df_red'\n",
       "8. 'mean'\n",
       "9. 'converge_impulse'\n",
       "10. 'converge_const'\n",
       "11. 'converge_sigmoid'\n",
       "12. 'impulseTOsigmoid_p'\n",
       "13. 'impulseTOsigmoid_padj'\n",
       "14. 'sigmoidTOconst_p'\n",
       "15. 'sigmoidTOconst_padj'\n",
       "16. 'isTransient'\n",
       "17. 'isMonotonous'\n",
       "18. 'converge_threeSigmoid'\n",
       "19. 'converge_fourSigmoid'\n",
       "20. 'threeSigmoidTOconst_p'\n",
       "21. 'threeSigmoidTOconst_padj'\n",
       "22. 'threeSigmoidTOsigmoid_p'\n",
       "23. 'threeSigmoidTOsigmoid_padj'\n",
       "24. 'threeSigmoidTOimpulse_p'\n",
       "25. 'threeSigmoidTOimpulse_padj'\n",
       "26. 'fourSigmoidTOconst_p'\n",
       "27. 'fourSigmoidTOconst_padj'\n",
       "28. 'fourSigmoidTOsigmoid_p'\n",
       "29. 'fourSigmoidTOsigmoid_padj'\n",
       "30. 'fourSigmoidTOimpulse_p'\n",
       "31. 'fourSigmoidTOimpulse_padj'\n",
       "32. 'fourSigmoidTOthreeSigmoid_p'\n",
       "33. 'fourSigmoidTOthreeSigmoid_padj'\n",
       "34. 'NMinMax_impulse'\n",
       "35. 'NMinMax_threeSigmoid'\n",
       "36. 'NMinMax_fourSigmoid'\n",
       "37. 'allZero'\n",
       "\n",
       "\n"
      ],
      "text/plain": [
       " [1] \"Gene\"                           \"p\"                             \n",
       " [3] \"padj\"                           \"loglik_full\"                   \n",
       " [5] \"loglik_red\"                     \"df_full\"                       \n",
       " [7] \"df_red\"                         \"mean\"                          \n",
       " [9] \"converge_impulse\"               \"converge_const\"                \n",
       "[11] \"converge_sigmoid\"               \"impulseTOsigmoid_p\"            \n",
       "[13] \"impulseTOsigmoid_padj\"          \"sigmoidTOconst_p\"              \n",
       "[15] \"sigmoidTOconst_padj\"            \"isTransient\"                   \n",
       "[17] \"isMonotonous\"                   \"converge_threeSigmoid\"         \n",
       "[19] \"converge_fourSigmoid\"           \"threeSigmoidTOconst_p\"         \n",
       "[21] \"threeSigmoidTOconst_padj\"       \"threeSigmoidTOsigmoid_p\"       \n",
       "[23] \"threeSigmoidTOsigmoid_padj\"     \"threeSigmoidTOimpulse_p\"       \n",
       "[25] \"threeSigmoidTOimpulse_padj\"     \"fourSigmoidTOconst_p\"          \n",
       "[27] \"fourSigmoidTOconst_padj\"        \"fourSigmoidTOsigmoid_p\"        \n",
       "[29] \"fourSigmoidTOsigmoid_padj\"      \"fourSigmoidTOimpulse_p\"        \n",
       "[31] \"fourSigmoidTOimpulse_padj\"      \"fourSigmoidTOthreeSigmoid_p\"   \n",
       "[33] \"fourSigmoidTOthreeSigmoid_padj\" \"NMinMax_impulse\"               \n",
       "[35] \"NMinMax_threeSigmoid\"           \"NMinMax_fourSigmoid\"           \n",
       "[37] \"allZero\"                       "
      ]
     },
     "metadata": {},
     "output_type": "display_data"
    }
   ],
   "source": [
    "colnames(r)"
   ]
  },
  {
   "cell_type": "code",
   "execution_count": 506,
   "metadata": {},
   "outputs": [],
   "source": [
    "library(ComplexHeatmap)\n",
    "library(circlize)\n",
    "library(viridis)\n",
    "library(proxy)\n",
    "library(seriation)\n",
    "library(dendextend)\n",
    "library(dplyr)"
   ]
  },
  {
   "cell_type": "code",
   "execution_count": 476,
   "metadata": {},
   "outputs": [],
   "source": [
    "path_expression='/home/khrovatin/timeTrajectoriesNet/data/regulons/'\n",
    "path_strain_order='/home/khrovatin/timeTrajectoriesNet/data/'\n",
    "path_phenotypes = '/home/khrovatin/timeTrajectoriesNet/data/stages/'"
   ]
  },
  {
   "cell_type": "code",
   "execution_count": 477,
   "metadata": {},
   "outputs": [],
   "source": [
    "#**! Specify file names for regulons and expression\n",
    "#** Expression tab file: Genes in columns (already scaled), averaged strain data in rows, \n",
    "#** three additional comlumns: Time, Strain, and Group (meaning strain group)\n",
    "avg_expression=read.table(paste(path_expression,\"genes_averaged_orange_scale99percentileMax0.1.tsv\",sep=''),\n",
    "                          header=TRUE,row.names=1, sep=\"\\t\")\n",
    "\n",
    "#**! Specify file names for phenotipic data\n",
    "#** Phenotypes tab file: Short averaged sample names in rows (as in avg_expression) and columns with phenotypes.\n",
    "#** Phenotypes should have values: yes, no, no data\n",
    "avg_phenotype=read.table(paste(path_phenotypes,\"averageStages.tsv\",sep=''),\n",
    "                          header=TRUE,row.names=1, sep=\"\\t\", stringsAsFactors=FALSE)\n",
    "#Change avg_phenotypes data so that each phenotype can be coloured differently\n",
    "avg_phenotype[avg_phenotype=='no']=NA\n",
    "for(col in colnames(avg_phenotype)){\n",
    "  new_col=avg_phenotype[col]\n",
    "  new_col[new_col=='yes']=col\n",
    "  avg_phenotype[col]=new_col\n",
    "}\n",
    "\n",
    "\n",
    "#** Strain order - single column with ordered strain names\n",
    "strain_order<-as.vector(read.table(paste(path_strain_order,\"strain_order.tsv\",sep=''))[,1])"
   ]
  },
  {
   "cell_type": "code",
   "execution_count": 478,
   "metadata": {},
   "outputs": [],
   "source": [
    "#** Some plotting parameters\n",
    "legend_font=12\n",
    "phenotypes_font=10\n",
    "legened_height=1.5\n",
    "legend_width=0.7\n",
    "top_annotation_height=0.6\n",
    "phenotype_annotation_height=3\n",
    "cluster_font=20"
   ]
  },
  {
   "cell_type": "code",
   "execution_count": 491,
   "metadata": {},
   "outputs": [],
   "source": [
    "make_anno<-function(){\n",
    "\n",
    "\n",
    "\n",
    "#Strain groups annotation\n",
    "#** Colours of strain groups\n",
    "group_cols=c('agg-'= '#ed1c24', 'lag_dis'= '#f97402','tag_dis'='#ffb100', 'tag'='#d9d800', 'cud'= '#008629', 'WT'= '#00b2ff',\n",
    "                        'sFB'= '#1925ae', 'prec'='#a400d4' )\n",
    "#group_cols_background=c('agg-'= '#cccccc', 'lag_dis'= '#666666','tag_dis'='#666666', 'tag'='#666666', 'cud'= '#cccccc', \n",
    "#                        'WT'= '#cccccc','sFB'= '#cccccc', 'prec'='#cccccc' )\n",
    "group_cols_background=c('agg-'= 'white', 'lag_dis'= 'white','tag_dis'='#666666', 'tag'='#666666', 'cud'= 'white', \n",
    "                        'WT'= 'white','sFB'= 'white', 'prec'='white' )\n",
    "group_cols_text=c('agg-'= 'black', 'lag_dis'= 'black','tag_dis'='black', 'tag'='black', 'cud'= '#eeeeee', \n",
    "                        'WT'= 'black','sFB'= '#eeeeee', 'prec'='#eeeeee' )\n",
    "\n",
    "group_data=t(avg_expression['Group'])\n",
    "rownames(group_data)<-c('Phenotypic group')            \n",
    "# ht_list=Heatmap(group_data,show_column_names = FALSE, \n",
    "#                 height = unit(top_annotation_height, \"cm\"),\n",
    "#                 column_split=factor(avg_expression$Strain,\n",
    "#                                     #** Ordering of the strains in the heatmap (a vector of strain names)\n",
    "#                                     #levels=unique(avg_expression$Strain)\n",
    "#                                     levels=strain_order\n",
    "#                 ),\n",
    "#                 cluster_columns=FALSE,name='\\nPhenotypic \\ngroup\\n',\n",
    "#                 #** Strain name font size\n",
    "#                 column_title_gp=gpar(fontsize=legend_font),\n",
    "#                 col=group_cols, heatmap_legend_param = list( \n",
    "#                 grid_width= unit(legend_width, \"cm\"),grid_height= unit(legened_height, \"cm\") ,\n",
    "#                 labels_gp = gpar(fontsize = cluster_font),title_gp = gpar(fontsize = cluster_font)),\n",
    "#                 row_names_gp = gpar(fontsize = cluster_font))\n",
    "\n",
    "#Time annotation\n",
    "times=unique(avg_expression$Time)\n",
    "#** Time colours, group colours, and gaps\n",
    "group_cols_ordered=c()\n",
    "groups_ordered=c()\n",
    "background_cols_ordered=c()\n",
    "text_cols_ordered=c()\n",
    "gaps=c()\n",
    "previous_group=NULL\n",
    "for(strain in strain_order){\n",
    "  group=as.character(avg_expression[avg_expression$Strain==strain,'Group'][1])\n",
    "  #print(paste(strain,group,group_cols[group]))\n",
    "  groups_ordered<-append(groups_ordered,group)\n",
    "  group_cols_ordered<-append(group_cols_ordered,group_cols[group])\n",
    "  background_cols_ordered<-append(background_cols_ordered,group_cols_background[group])\n",
    "  text_cols_ordered<-append(text_cols_ordered,group_cols_text[group])\n",
    "  #Gaps - if previous group was different add larger gap; (N gaps = N-1 columns)\n",
    "  if (!is.null(previous_group)){\n",
    "    if (previous_group==group){ \n",
    "      gaps=append(gaps,1)\n",
    "    }else{\n",
    "      gaps=append(gaps,2.5)\n",
    "    }\n",
    "  }\n",
    "  previous_group=group\n",
    "}\n",
    "gaps=unit(gaps,'mm')\n",
    "\n",
    "col_time = colorRamp2( c(min(times),max(times)),c( \"white\", \"#440154FF\"))\n",
    "\n",
    "ht_list=Heatmap(t(avg_expression['Time']), height = unit(top_annotation_height, \"cm\"),\n",
    "                column_split=factor(avg_expression$Strain,\n",
    "                #** Ordering of the strains in the heatmap (a vector of strain names)\n",
    "                levels=strain_order ),\n",
    "                column_title =NULL,column_gap=gaps,\n",
    "                cluster_columns=FALSE, show_column_names = FALSE,name='\\nTime\\n',col=col_time,\n",
    "                heatmap_legend_param = \n",
    "                list( at = c(min(times),as.integer(mean(c(min(times),max(times)))),max(times)),\n",
    "                grid_width= unit(legend_width, \"cm\"),grid_height= unit(legened_height, \"cm\") ,\n",
    "                labels_gp = gpar(fontsize = cluster_font),title_gp = gpar(fontsize = cluster_font)\n",
    "                    ),\n",
    "                row_names_gp = gpar(fontsize = cluster_font),\n",
    "                #column_title_gp=gpar(border =group_cols_ordered,fontsize=cluster_font,col =text_cols_ordered,fill=group_cols_ordered,\n",
    "                #                     fontface='bold'),\n",
    "                #Annotation for Phenotype group\n",
    "                top_annotation = HeatmapAnnotation(\n",
    "                  Phenotype=anno_block(gp = \n",
    "                                         # Background colour; fill: color, col: border                               \n",
    "                                         #gpar(fill = '#949494',col='transparent'),\n",
    "                                         #gpar(fill = 'white',col='transparent'),\n",
    "                                         #gpar(fill = background_cols_ordered,col='transparent'),\n",
    "                                         #gpar(fill = group_cols_ordered,col=group_cols_ordered),\n",
    "                                         gpar(fill=group_cols_ordered,col=group_cols_ordered,lwd =2,linejoin='mitre'),\n",
    "                                       labels = groups_ordered , labels_gp = gpar(col = \n",
    "                                                                                    # Text colour\n",
    "                                                                                    # 'black',\n",
    "                                                                                    #group_cols_ordered, \n",
    "                                                                                    text_cols_ordered,\n",
    "                                                                                  fontsize = cluster_font\n",
    "                                                                                  #,fontface='bold'\n",
    "                                       ),\n",
    "                                       #show_name = TRUE\n",
    "                                      ) ,\n",
    "                  Strain = anno_block(gp = \n",
    "                                            # Background colour; fill: color, col: border                               \n",
    "                                            #gpar(fill = '#949494',col='transparent'),\n",
    "                                            #gpar(fill = 'white',col='transparent'),\n",
    "                                            #gpar(fill = background_cols_ordered,col='transparent'),\n",
    "                                            #gpar(fill = group_cols_ordered,col=group_cols_ordered),\n",
    "                                              gpar(fill='white',col=group_cols_ordered,lwd =2,linejoin='mitre'),\n",
    "                        labels = strain_order , labels_gp = gpar(col = \n",
    "                                                                    # Text colour\n",
    "                                                                   'black',\n",
    "                                                                    #group_cols_ordered, \n",
    "                                                                    #text_cols_ordered,\n",
    "                                                                    fontsize = cluster_font\n",
    "                                                                  #,fontface='bold'\n",
    "                                                                  ), \n",
    "                                      #show_name = TRUE\n",
    "                                     ),\n",
    "                annotation_name_gp=gpar(fontsize = cluster_font)\n",
    "                        )\n",
    "                )\n",
    "#ht_list=ht_list %v% ht_time\n",
    "\n",
    "#Phenotype annotation\n",
    "#** Colours of phenotype annotations\n",
    "phenotype_cols=c('no image'= '#d9d9d9', 'no_agg'= '#ed1c24', 'stream'= '#985006', 'lag'= '#f97402', 'tag'= '#d9d800', 'tip'= '#66cf00',\n",
    "  'slug'= '#008629', 'mhat'= '#00c58f', 'cul'= '#0ff2ff', 'FB'= '#00b2ff', 'yem'='#666666')\n",
    "#phenotype_cols=c('no data'= '#d9d9d9', 'yes'= '#74cf19', 'no'='#b54c4c')\n",
    "ht_phenotype=Heatmap(t(avg_phenotype)[,rownames(avg_expression)], height = unit(phenotype_annotation_height, \"cm\"),\n",
    "                cluster_columns=FALSE,cluster_rows=FALSE, show_column_names = FALSE,name='\\nMorphological \\nstage\\n',col=phenotype_cols,\n",
    "                row_names_gp = gpar(fontsize = phenotypes_font), na_col = \"white\",\n",
    "                row_title ='Morphological stage',row_title_side ='right',row_title_gp=gpar(fontsize = cluster_font),\n",
    "                heatmap_legend_param = list( grid_width= unit(legend_width, \"cm\"),grid_height= unit(legened_height, \"cm\") ,\n",
    "                                             labels_gp = gpar(fontsize = cluster_font),title_gp = gpar(fontsize = cluster_font)))\n",
    "ht_list=ht_list %v% ht_phenotype\n",
    "    \n",
    "return(ht_list)\n",
    "}"
   ]
  },
  {
   "cell_type": "code",
   "execution_count": 482,
   "metadata": {},
   "outputs": [],
   "source": [
    "stage_order<-colnames(avg_phenotype)\n",
    "expressions<-within(avg_expression, rm('Time', 'Strain','Group'))\n",
    "min_expression<-min(expressions)\n",
    "max_expression<-max(expressions)"
   ]
  },
  {
   "cell_type": "code",
   "execution_count": 1956,
   "metadata": {},
   "outputs": [
    {
     "data": {
      "image/png": "[encoded data removed]",
      "text/plain": [
       "plot without title"
      ]
     },
     "metadata": {
      "image/png": {
       "height": 1800,
       "width": 1800
      },
      "text/plain": {
       "height": 1800,
       "width": 1800
      }
     },
     "output_type": "display_data"
    }
   ],
   "source": [
    "options(repr.plot.width=30, repr.plot.height=30)\n",
    "vecGenes<-vecPlotGenes[\n",
    "    filterNLargeDiff[,'nLargeDiffRef']<filterNLargeDiff[,'nLargeDiffCase'] \n",
    "    & filterTransitions[,'hasComplexShape']]\n",
    "    \n",
    "    expression=t(avg_expression[avg_expression$Strain=='AX4',vecGenes])\n",
    "    #expression=t(avg_expression[,genes])\n",
    "    distances<-dist(expression, method=\"cosine\")\n",
    "    hc<-hclust(d=distances, method = \"ward.D2\" )\n",
    "    hc_ordered<-reorder(x=hc,dist = distances)\n",
    "    vecGenes<- as.dendrogram(hc_ordered) %>% labels\n",
    "    \n",
    "    n_genes=length(vecGenes)\n",
    "    #print(paste(comparison,n_genes))\n",
    "\n",
    "    data_anno=paste('N',n_genes)\n",
    "    height=0.3*n_genes\n",
    "    if (height>15) height=15\n",
    "    heatmap=Heatmap(t(avg_expression[,vecGenes]),\n",
    "                    cluster_columns = FALSE,cluster_rows = TRUE,\n",
    "                    show_column_names = FALSE,\n",
    "                      show_row_names = FALSE, col=inferno(256),column_title=NULL, \n",
    "                      row_title=data_anno,\n",
    "                      show_heatmap_legend = TRUE,heatmap_legend_param = list(\n",
    "                      title = \"\\nRelative \\nexpression\\n\",\n",
    "                      at = c(min_expression, round(mean(c(min_expression,max_expression)),1),max_expression),\n",
    "                      grid_width= unit(legend_width, \"cm\"),grid_height= unit(legened_height, \"cm\") ,\n",
    "                      labels_gp = gpar(fontsize = cluster_font),title_gp = gpar(fontsize = cluster_font)),\n",
    "                      #** Cluster name fontsize\n",
    "                      row_title_gp=gpar(fontsize=cluster_font),height=unit(height, \"cm\"))\n",
    "\n",
    "    draw(make_anno() %v% heatmap,width=unit(60, \"cm\"),column_title_gp = gpar(fontsize = cluster_font))\n",
    "options(repr.plot.width=5, repr.plot.height=5)"
   ]
  },
  {
   "cell_type": "code",
   "execution_count": 1958,
   "metadata": {},
   "outputs": [],
   "source": [
    "write.table(data.frame(Gene=vecPlotGenes[\n",
    "    filterNLargeDiff[,'nLargeDiffRef']<filterNLargeDiff[,'nLargeDiffCase'] \n",
    "    & filterTransitions[,'hasComplexShape']]),file=paste(pathSave,'try4.tsv',sep=''),sep='\\t',row.names = FALSE)"
   ]
  },
  {
   "cell_type": "code",
   "execution_count": 1959,
   "metadata": {},
   "outputs": [
    {
     "data": {
      "text/html": [
       "'/home/khrovatin/timeTrajectoriesNet/data/stages/disagg/impulse/try4.tsv'"
      ],
      "text/latex": [
       "'/home/khrovatin/timeTrajectoriesNet/data/stages/disagg/impulse/try4.tsv'"
      ],
      "text/markdown": [
       "'/home/khrovatin/timeTrajectoriesNet/data/stages/disagg/impulse/try4.tsv'"
      ],
      "text/plain": [
       "[1] \"/home/khrovatin/timeTrajectoriesNet/data/stages/disagg/impulse/try4.tsv\""
      ]
     },
     "metadata": {},
     "output_type": "display_data"
    }
   ],
   "source": [
    "paste(pathSave,'try4.tsv',sep='')"
   ]
  },
  {
   "cell_type": "markdown",
   "metadata": {},
   "source": [
    "# NOT IMPLEMENTED Gene selection based on N large differences\n",
    "No models are fitted for this.\n",
    "REASON: Problems with noisy local min/max for deterining large differences between more prominent min/max."
   ]
  },
  {
   "cell_type": "code",
   "execution_count": 1738,
   "metadata": {},
   "outputs": [],
   "source": [
    "genesNorm<-read.table(paste(pathConditions,'mergedGenes_RPKUM.tsv',sep=''), header=TRUE,row.names=1, sep=\"\\t\")"
   ]
  },
  {
   "cell_type": "code",
   "execution_count": 1768,
   "metadata": {},
   "outputs": [],
   "source": [
    "geneData<-merge(t(genesNorm), conditions[c('Time','Strain')], by='row.names')\n",
    "rownames(geneData)<-geneData$Row.names\n",
    "geneData<-subset(geneData, select = -c(Row.names))\n",
    "geneData<-aggregate(. ~ Strain+Time, data = geneData, median)"
   ]
  },
  {
   "cell_type": "code",
   "execution_count": 1773,
   "metadata": {},
   "outputs": [],
   "source": [
    "agg<-aggregate(. ~ Strain+Time, data = geneData, median)"
   ]
  },
  {
   "cell_type": "code",
   "execution_count": null,
   "metadata": {},
   "outputs": [],
   "source": [
    "for (gene in rownames(genesNorm)){\n",
    "    dataRef<-agg[agg$Strain=='AX4',gene]\n",
    "    if(any(dataRef>0)){\n",
    "        rangeRef<-max(dataRef)-min(dataRef)\n",
    "\n",
    "    }\n",
    "}"
   ]
  },
  {
   "cell_type": "code",
   "execution_count": null,
   "metadata": {},
   "outputs": [],
   "source": []
  }
 ],
 "metadata": {
  "kernelspec": {
   "display_name": "R",
   "language": "R",
   "name": "ir"
  },
  "language_info": {
   "codemirror_mode": "r",
   "file_extension": ".r",
   "mimetype": "text/x-r-source",
   "name": "R",
   "pygments_lexer": "r",
   "version": "3.6.1"
  }
 },
 "nbformat": 4,
 "nbformat_minor": 2
}
