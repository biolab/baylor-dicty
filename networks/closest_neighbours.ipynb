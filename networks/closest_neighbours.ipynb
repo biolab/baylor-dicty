{
 "cells": [
  {
   "cell_type": "code",
   "execution_count": 27,
   "metadata": {},
   "outputs": [],
   "source": [
    "import os\n",
    "import sys\n",
    "module_path = os.path.abspath(os.path.join('..'))\n",
    "if module_path+'/correlation_enrichment/' not in sys.path:\n",
    "    sys.path.insert(0,module_path+'/correlation_enrichment/')\n",
    "if module_path+'/networks/' not in sys.path:\n",
    "    sys.path.insert(0,module_path+'/networks/')\n",
    "if module_path+'/data_expression/' not in sys.path:\n",
    "    sys.path.insert(0,module_path+'/data_expression/')\n",
    "from scipy import spatial\n",
    "\n",
    "import altair as alt\n",
    "alt.renderers.enable('notebook')\n",
    "\n",
    "\n",
    "from functionsDENet import *\n",
    "from library import SimilarityCalculator"
   ]
  },
  {
   "cell_type": "code",
   "execution_count": 28,
   "metadata": {},
   "outputs": [],
   "source": [
    "#Load data, use AX4 average for testing\n",
    "dataPath=module_path+'/data_expression/'\n",
    "\n",
    "tableLayout = dict()\n",
    "tableLayout['rep'] = dict()\n",
    "tableLayout['single'] = dict()\n",
    "tableLayout['single']['lastGene'] = 12734\n",
    "tableLayout['single']['Time'] = 12737\n",
    "tableLayout['single']['Strain'] = 12736\n",
    "tableLayout['rep']['lastGene'] = 12868\n",
    "tableLayout['rep']['Time'] = 12870\n",
    "tableLayout['rep']['Strain'] = 12869\n",
    "# data=tableLayout['single']\n",
    "data = tableLayout['rep']\n",
    "\n",
    "samples = {\n",
    "    'AX4': [1, 2, 5, 6, 7, 8, 9],\n",
    "    'tagB': [1, 2],\n",
    "    'comH': [1, 2],\n",
    "    'tgrC1': [1, 2],\n",
    "    'tgrB1': [1, 2],\n",
    "    'tgrB1C1': [1, 2],\n",
    "    'gbfA': [1, 2],\n",
    "}\n",
    "\n",
    "genesFromRow = 2\n",
    "\n",
    "strain = 'AX4'\n",
    "\n",
    "table = importTable(dataPath + 'trans_9repAX4_6strains_2rep_avr_T12.tab')\n",
    "genes, genesNotNull = extractGenesFromTable(table, genesFromRow, data['lastGene'])\n",
    "\n",
    "# For average of strain\n",
    "genesWT, genesWTN = genesByStrain(genesNotNull, table, data['Strain'], strain + '_avr', genesFromRow)"
   ]
  },
  {
   "cell_type": "markdown",
   "metadata": {},
   "source": [
    "## Check if cosine metric corresponds to \"hand-calculated\" cosine distance"
   ]
  },
  {
   "cell_type": "code",
   "execution_count": 22,
   "metadata": {},
   "outputs": [
    {
     "name": "stdout",
     "output_type": "stream",
     "text": [
      "Index sec: 1.3025460243225098\n",
      "KNN 30 sec: 2.363718271255493\n",
      "KNN 30 inverse sec: 1.6984362602233887\n",
      "MSE 1.2850574712743311e-15\n",
      "MSE inverse 1.0066666666736874e-15\n"
     ]
    }
   ],
   "source": [
    "# Perform KNN with package\n",
    "knnNeighbours=30\n",
    "dist, neigh, distInv, neighInv, nGenesKnnUsed = genesKNN(knnNeighbours, genesWTN, 1, save=False, timing=True)\n",
    "\n",
    "# Check cosine distance calculation\n",
    "scaled = normaliseGenes(genesWTN, 1)\n",
    "inverse = scaled * -1\n",
    "sse = []\n",
    "sse_inv = []\n",
    "for gene in range(0, 150):\n",
    "    for neighbour in range(1, knnNeighbours):\n",
    "        cosine_package = round(dist[gene][neighbour], 7)\n",
    "        cosine_direct = round(spatial.distance.cosine(scaled[gene], scaled[neigh[gene][neighbour]]), 7)\n",
    "        sse.append((cosine_direct - cosine_package) ** 2)\n",
    "    for neighbour in range(0, knnNeighbours):\n",
    "        cosine_package = round(distInv[gene][neighbour], 7)\n",
    "        cosine_direct = round(1-SimilarityCalculator.calc_cosine(inverse[gene], scaled[neighInv[gene][neighbour]]), 7)\n",
    "        sse_inv.append((cosine_direct - cosine_package) ** 2)\n",
    "print('MSE', sum(sse) / len(sse))\n",
    "print('MSE inverse', sum(sse_inv) / len(sse_inv))\n",
    "\n"
   ]
  },
  {
   "cell_type": "code",
   "execution_count": null,
   "metadata": {},
   "outputs": [],
   "source": [
    "# Check if closest neighbours computation is reliable\n",
    "# Check how this depends on data set size and number of required neighbours\n",
    "subset_size = []\n",
    "neighbour_n = []\n",
    "mean_diff = []\n",
    "mean_diff_inv = []\n",
    "for subset in [100, 500, 1000]:\n",
    "    genesSub = genesWTN.iloc[:subset, ]\n",
    "\n",
    "    # Compute all similarities by hand\n",
    "    similarities = np.ones((subset, subset))\n",
    "    scaled = normaliseGenes(genesSub, 1)\n",
    "    for i in range(0, subset - 1):\n",
    "        for j in range(i + 1, subset):\n",
    "            similarity = SimilarityCalculator.calc_cosine(scaled[i], scaled[j])\n",
    "            similarities[j][i] = similarity\n",
    "            similarities[i][j] = similarity\n",
    "            \n",
    "    # If knnNeighbours is set too big compared to sample size the package becomes very slow\n",
    "    for knnNeighbours in [3, 5, 8, int(subset / 10), int(subset / 5)]:\n",
    "        print(subset, knnNeighbours)\n",
    "        subset_size.append(subset)\n",
    "        neighbour_n.append(knnNeighbours)\n",
    "\n",
    "        # Neighbours with package\n",
    "        dist, neigh, distInv, neighInv, nGenesKnnUsed = genesKNN(knnNeighbours, genesSub, 1, save=False, timing=True)\n",
    "\n",
    "        # Check if neighbours are the same\n",
    "        # For each gene sum differences of knn best neighbour position indices between approximated neighbours\n",
    "        # and all neighbours computed based on computing all distances. For each set of parameters average these \n",
    "        # differences for closest neighbours and \"inverse\" neighbours (eg. opposite profile).\n",
    "        place_inv = list(range(0, subset))\n",
    "        diffs_inv = []\n",
    "        diffs = []\n",
    "        for i in range(0, subset):\n",
    "            sorted_indices = np.argsort(similarities[i])\n",
    "            neigh_dict_inv = dict(zip(sorted_indices, place_inv))\n",
    "            diff = 0\n",
    "            diff_inv = 0\n",
    "            for neighbour_place in range(knnNeighbours):\n",
    "                neighbour_inv = neighInv[i][neighbour_place]\n",
    "                real_place_inv = neigh_dict_inv[neighbour_inv]\n",
    "                diff_inv += abs(real_place_inv - neighbour_place)\n",
    "\n",
    "                # Note that closest neighbour is most often self, but not always.\n",
    "                # Thus the first neighbour is not automatically excluded\n",
    "                real_place = subset - 1 - neigh_dict_inv[neighbour]\n",
    "                neighbour = neigh[i][neighbour_place]\n",
    "                diff += abs(real_place - neighbour_place)\n",
    "            diffs.append(diff)\n",
    "            diffs_inv.append(diff_inv)\n",
    "\n",
    "        mean_diff.append(mean(diffs))\n",
    "        mean_diff_inv.append(mean(diffs_inv))"
   ]
  },
  {
   "cell_type": "code",
   "execution_count": 36,
   "metadata": {},
   "outputs": [],
   "source": [
    "df = pd.DataFrame(list(zip(subset_size, neighbour_n, mean_diff, mean_diff_inv)),\n",
    "                  columns=['N genes', 'N neighbours', 'mean neighbour diff', 'mean inverse neighbour diff'])"
   ]
  },
  {
   "cell_type": "markdown",
   "metadata": {},
   "source": [
    "On the below graphs \"mean neighbour diff\" is average of difference sums between true neighbour positions and approximated ones for each gene for approximated neighbours."
   ]
  },
  {
   "cell_type": "code",
   "execution_count": 39,
   "metadata": {},
   "outputs": [
    {
     "data": {
      "application/javascript": [
       "const spec = {\"config\": {\"view\": {\"width\": 400, \"height\": 300}, \"mark\": {\"tooltip\": null}, \"circle\": {\"size\": 50}}, \"data\": {\"name\": \"data-4a37e1fb39bb4efb42b6ad3358714e0b\"}, \"mark\": \"circle\", \"encoding\": {\"color\": {\"type\": \"quantitative\", \"field\": \"mean neighbour diff\", \"scale\": {\"range\": [\"darkviolet\", \"yellow\", \"yellowgreen\", \"green\"]}}, \"x\": {\"type\": \"quantitative\", \"field\": \"N genes\"}, \"y\": {\"type\": \"quantitative\", \"field\": \"N neighbours\"}}, \"$schema\": \"https://vega.github.io/schema/vega-lite/v3.4.0.json\", \"datasets\": {\"data-4a37e1fb39bb4efb42b6ad3358714e0b\": [{\"N genes\": 100, \"N neighbours\": 3, \"mean neighbour diff\": 0.18, \"mean inverse neighbour diff\": 0.04}, {\"N genes\": 100, \"N neighbours\": 5, \"mean neighbour diff\": 0.26, \"mean inverse neighbour diff\": 0.0}, {\"N genes\": 100, \"N neighbours\": 8, \"mean neighbour diff\": 0.32, \"mean inverse neighbour diff\": 0.01}, {\"N genes\": 100, \"N neighbours\": 10, \"mean neighbour diff\": 0.26, \"mean inverse neighbour diff\": 0.03}, {\"N genes\": 100, \"N neighbours\": 20, \"mean neighbour diff\": 0.54, \"mean inverse neighbour diff\": 0.3}, {\"N genes\": 500, \"N neighbours\": 3, \"mean neighbour diff\": 0.038, \"mean inverse neighbour diff\": 0.43}, {\"N genes\": 500, \"N neighbours\": 5, \"mean neighbour diff\": 0.054, \"mean inverse neighbour diff\": 0.602}, {\"N genes\": 500, \"N neighbours\": 8, \"mean neighbour diff\": 0.082, \"mean inverse neighbour diff\": 0.752}, {\"N genes\": 500, \"N neighbours\": 50, \"mean neighbour diff\": 0.246, \"mean inverse neighbour diff\": 0.128}, {\"N genes\": 500, \"N neighbours\": 100, \"mean neighbour diff\": 0.426, \"mean inverse neighbour diff\": 0.444}, {\"N genes\": 1000, \"N neighbours\": 3, \"mean neighbour diff\": 0.054, \"mean inverse neighbour diff\": 0.478}, {\"N genes\": 1000, \"N neighbours\": 5, \"mean neighbour diff\": 0.105, \"mean inverse neighbour diff\": 0.671}, {\"N genes\": 1000, \"N neighbours\": 8, \"mean neighbour diff\": 0.141, \"mean inverse neighbour diff\": 0.98}, {\"N genes\": 1000, \"N neighbours\": 100, \"mean neighbour diff\": 0.655, \"mean inverse neighbour diff\": 0.252}, {\"N genes\": 1000, \"N neighbours\": 200, \"mean neighbour diff\": 1.259, \"mean inverse neighbour diff\": 1.173}]}};\n",
       "const opt = {};\n",
       "const type = \"vega-lite\";\n",
       "const id = \"a4a91275-80c1-49bb-a3f9-634bcc1927b9\";\n",
       "\n",
       "const output_area = this;\n",
       "\n",
       "require([\"nbextensions/jupyter-vega/index\"], function(vega) {\n",
       "  const target = document.createElement(\"div\");\n",
       "  target.id = id;\n",
       "  target.className = \"vega-embed\";\n",
       "\n",
       "  const style = document.createElement(\"style\");\n",
       "  style.textContent = [\n",
       "    \".vega-embed .error p {\",\n",
       "    \"  color: firebrick;\",\n",
       "    \"  font-size: 14px;\",\n",
       "    \"}\",\n",
       "  ].join(\"\\\\n\");\n",
       "\n",
       "  // element is a jQuery wrapped DOM element inside the output area\n",
       "  // see http://ipython.readthedocs.io/en/stable/api/generated/\\\n",
       "  // IPython.display.html#IPython.display.Javascript.__init__\n",
       "  element[0].appendChild(target);\n",
       "  element[0].appendChild(style);\n",
       "\n",
       "  vega.render(\"#\" + id, spec, type, opt, output_area);\n",
       "}, function (err) {\n",
       "  if (err.requireType !== \"scripterror\") {\n",
       "    throw(err);\n",
       "  }\n",
       "});\n"
      ],
      "text/plain": [
       "<vega.vegalite.VegaLite at 0x7f527eac7f28>"
      ]
     },
     "metadata": {
      "jupyter-vega": "#a4a91275-80c1-49bb-a3f9-634bcc1927b9"
     },
     "output_type": "display_data"
    },
    {
     "data": {
      "text/plain": []
     },
     "execution_count": 39,
     "metadata": {},
     "output_type": "execute_result"
    },
    {
     "data": {
      "image/png": "[encoded data removed]"
     },
     "metadata": {
      "jupyter-vega": "#a4a91275-80c1-49bb-a3f9-634bcc1927b9"
     },
     "output_type": "display_data"
    }
   ],
   "source": [
    "alt.Chart(df).mark_circle().encode(x='N genes',y='N neighbours', \n",
    "                                   color=alt.Color('mean neighbour diff',scale=\n",
    "                                                   alt.Scale(range=['darkviolet','yellow','yellowgreen','green']))\n",
    "                                  ).configure_circle(size=50)"
   ]
  },
  {
   "cell_type": "code",
   "execution_count": 38,
   "metadata": {},
   "outputs": [
    {
     "data": {
      "application/javascript": [
       "const spec = {\"config\": {\"view\": {\"width\": 400, \"height\": 300}, \"mark\": {\"tooltip\": null}, \"circle\": {\"size\": 50}}, \"data\": {\"name\": \"data-4a37e1fb39bb4efb42b6ad3358714e0b\"}, \"mark\": \"circle\", \"encoding\": {\"color\": {\"type\": \"quantitative\", \"field\": \"mean inverse neighbour diff\", \"scale\": {\"range\": [\"darkviolet\", \"yellow\", \"yellowgreen\", \"green\"]}}, \"x\": {\"type\": \"quantitative\", \"field\": \"N genes\"}, \"y\": {\"type\": \"quantitative\", \"field\": \"N neighbours\"}}, \"selection\": {\"selector006\": {\"type\": \"interval\", \"bind\": \"scales\", \"encodings\": [\"x\", \"y\"]}}, \"$schema\": \"https://vega.github.io/schema/vega-lite/v3.4.0.json\", \"datasets\": {\"data-4a37e1fb39bb4efb42b6ad3358714e0b\": [{\"N genes\": 100, \"N neighbours\": 3, \"mean neighbour diff\": 0.18, \"mean inverse neighbour diff\": 0.04}, {\"N genes\": 100, \"N neighbours\": 5, \"mean neighbour diff\": 0.26, \"mean inverse neighbour diff\": 0.0}, {\"N genes\": 100, \"N neighbours\": 8, \"mean neighbour diff\": 0.32, \"mean inverse neighbour diff\": 0.01}, {\"N genes\": 100, \"N neighbours\": 10, \"mean neighbour diff\": 0.26, \"mean inverse neighbour diff\": 0.03}, {\"N genes\": 100, \"N neighbours\": 20, \"mean neighbour diff\": 0.54, \"mean inverse neighbour diff\": 0.3}, {\"N genes\": 500, \"N neighbours\": 3, \"mean neighbour diff\": 0.038, \"mean inverse neighbour diff\": 0.43}, {\"N genes\": 500, \"N neighbours\": 5, \"mean neighbour diff\": 0.054, \"mean inverse neighbour diff\": 0.602}, {\"N genes\": 500, \"N neighbours\": 8, \"mean neighbour diff\": 0.082, \"mean inverse neighbour diff\": 0.752}, {\"N genes\": 500, \"N neighbours\": 50, \"mean neighbour diff\": 0.246, \"mean inverse neighbour diff\": 0.128}, {\"N genes\": 500, \"N neighbours\": 100, \"mean neighbour diff\": 0.426, \"mean inverse neighbour diff\": 0.444}, {\"N genes\": 1000, \"N neighbours\": 3, \"mean neighbour diff\": 0.054, \"mean inverse neighbour diff\": 0.478}, {\"N genes\": 1000, \"N neighbours\": 5, \"mean neighbour diff\": 0.105, \"mean inverse neighbour diff\": 0.671}, {\"N genes\": 1000, \"N neighbours\": 8, \"mean neighbour diff\": 0.141, \"mean inverse neighbour diff\": 0.98}, {\"N genes\": 1000, \"N neighbours\": 100, \"mean neighbour diff\": 0.655, \"mean inverse neighbour diff\": 0.252}, {\"N genes\": 1000, \"N neighbours\": 200, \"mean neighbour diff\": 1.259, \"mean inverse neighbour diff\": 1.173}]}};\n",
       "const opt = {};\n",
       "const type = \"vega-lite\";\n",
       "const id = \"cd468650-09e8-4ed0-b581-039f8b31788e\";\n",
       "\n",
       "const output_area = this;\n",
       "\n",
       "require([\"nbextensions/jupyter-vega/index\"], function(vega) {\n",
       "  const target = document.createElement(\"div\");\n",
       "  target.id = id;\n",
       "  target.className = \"vega-embed\";\n",
       "\n",
       "  const style = document.createElement(\"style\");\n",
       "  style.textContent = [\n",
       "    \".vega-embed .error p {\",\n",
       "    \"  color: firebrick;\",\n",
       "    \"  font-size: 14px;\",\n",
       "    \"}\",\n",
       "  ].join(\"\\\\n\");\n",
       "\n",
       "  // element is a jQuery wrapped DOM element inside the output area\n",
       "  // see http://ipython.readthedocs.io/en/stable/api/generated/\\\n",
       "  // IPython.display.html#IPython.display.Javascript.__init__\n",
       "  element[0].appendChild(target);\n",
       "  element[0].appendChild(style);\n",
       "\n",
       "  vega.render(\"#\" + id, spec, type, opt, output_area);\n",
       "}, function (err) {\n",
       "  if (err.requireType !== \"scripterror\") {\n",
       "    throw(err);\n",
       "  }\n",
       "});\n"
      ],
      "text/plain": [
       "<vega.vegalite.VegaLite at 0x7f527eabe908>"
      ]
     },
     "metadata": {
      "jupyter-vega": "#cd468650-09e8-4ed0-b581-039f8b31788e"
     },
     "output_type": "display_data"
    },
    {
     "data": {
      "text/plain": []
     },
     "execution_count": 38,
     "metadata": {},
     "output_type": "execute_result"
    },
    {
     "data": {
      "image/png": "[encoded data removed]"
     },
     "metadata": {
      "jupyter-vega": "#cd468650-09e8-4ed0-b581-039f8b31788e"
     },
     "output_type": "display_data"
    }
   ],
   "source": [
    "alt.Chart(df).mark_circle().encode(x='N genes', y='N neighbours',\n",
    "                                   color=alt.Color('mean inverse neighbour diff', scale=\n",
    "                                   alt.Scale(range=['darkviolet', 'yellow', 'yellowgreen', 'green']))\n",
    "                                   ).configure_circle(size=50).interactive()"
   ]
  },
  {
   "cell_type": "code",
   "execution_count": null,
   "metadata": {},
   "outputs": [],
   "source": []
  }
 ],
 "metadata": {
  "kernelspec": {
   "display_name": "Python 3",
   "language": "python",
   "name": "python3"
  },
  "language_info": {
   "codemirror_mode": {
    "name": "ipython",
    "version": 3
   },
   "file_extension": ".py",
   "mimetype": "text/x-python",
   "name": "python",
   "nbconvert_exporter": "python",
   "pygments_lexer": "ipython3",
   "version": "3.6.8"
  }
 },
 "nbformat": 4,
 "nbformat_minor": 2
}
