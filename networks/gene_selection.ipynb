{
 "cells": [
  {
   "cell_type": "markdown",
   "metadata": {},
   "source": [
    "# Selection of genes for formation of regulons"
   ]
  },
  {
   "cell_type": "markdown",
   "metadata": {},
   "source": [
    "In order to reduce the number of genes used for regulon calculation only genes with close neighbours are included. Based on previously perfomed network visualisation it is evident that mojority of genes is located within furballs of tightly connected genes, meaning that having one closely related neighbour often means having multiple (e.g. netwroks included all gene pairs with similarity above certain threshold, based on calculation of larger number of neighbours for each gene (e.g 200)).\n",
    "\n",
    "To find genes with close neighbours the closest neighbour is calculated for each gene. Only genes from gene pairs with similarity above selected \"threshold\" (e.g. 0.99 cosine similarity) are retained. The similarity calculation is based on data preprocessed with: log transformation and scaling each gene from 0 to 1 to remove effect of expression strength on similarity computation. The selection of log transformation and scaling method is justified below.\n",
    "\n",
    "Genes with at least one close neighbopur are selected since Gadi requested retention of regulons of all sizes (e.g. even regulons comprised of 2 tightly connected genes). For each gene 2 closest neighbour are computed. This must be done as when profiles are not inversed, one of the 2 closest neighbours will be self and thus automatically excluded from determining if a gene has a close neighbour. \n",
    "\n",
    "The selection of similarity threshold can be done based on N of retained genes at this threshold or comparison of retained genes between data subsets, each containing only part of measurments (features)."
   ]
  },
  {
   "cell_type": "markdown",
   "metadata": {},
   "source": [
    "## Load data"
   ]
  },
  {
   "cell_type": "code",
   "execution_count": 1,
   "metadata": {
    "hide_input": true,
    "tags": [
     "hide_input"
    ]
   },
   "outputs": [],
   "source": [
    "import os\n",
    "import sys\n",
    "\n",
    "module_path = os.path.abspath(os.path.join('..'))\n",
    "if module_path not in sys.path:\n",
    "    sys.path.insert(0,module_path)\n",
    "\n",
    "import pandas as pd\n",
    "import matplotlib.pyplot as plt\n",
    "import random\n",
    "\n",
    "from correlation_enrichment.library import SimilarityCalculator\n",
    "from library_regulons import *\n",
    "import jupyter_functions as jf\n"
   ]
  },
  {
   "cell_type": "code",
   "execution_count": 2,
   "metadata": {},
   "outputs": [],
   "source": [
    "dataPath=module_path+'/data_expression/'\n",
    "genes = pd.read_csv(dataPath + 'mergedGenes_RPKUM.tsv', sep='\\t', index_col=0)\n",
    "conditions = pd.read_csv(dataPath + 'conditions_mergedGenes.tsv', sep='\\t', index_col=None)\n",
    "neighbour_calculator = NeighbourCalculator(genes,conditions=conditions,conditions_names_column='Measurment')"
   ]
  },
  {
   "cell_type": "markdown",
   "metadata": {},
   "source": [
    "# Parameter selection"
   ]
  },
  {
   "cell_type": "markdown",
   "metadata": {},
   "source": [
    "To determine which parameters are most reliable data is subseted in 2 parts and results computed on both of them are compared. Currently this is done based on replicates: part of replicates (and their time points) is used as training set and the other as test set of features.\n",
    "\n",
    "Curent data has 41 replicates, 30 of which are used in traingng (subset1) and other 11 in testing (subset2)."
   ]
  },
  {
   "cell_type": "code",
   "execution_count": 3,
   "metadata": {},
   "outputs": [
    {
     "name": "stdout",
     "output_type": "stream",
     "text": [
      "N of replicates: 41\n"
     ]
    }
   ],
   "source": [
    "available_replicates=list(set(conditions.loc[:,'Replicate']))\n",
    "print('N of replicates:',len(available_replicates))"
   ]
  },
  {
   "cell_type": "code",
   "execution_count": 4,
   "metadata": {},
   "outputs": [],
   "source": [
    "subset1,subset2=jf.sample_from_list(available_replicates,sample1=30)"
   ]
  },
  {
   "cell_type": "code",
   "execution_count": 5,
   "metadata": {},
   "outputs": [
    {
     "name": "stdout",
     "output_type": "stream",
     "text": [
      "Subset1:\n",
      " ecmA_bio1, comH_r2, gtaI_bio2, tgrB1C1_r1, pkaR_bio1, AX4_pool21, tgrB1_r1, AX4_FDpool02, pkaCoeAX4_r3, AX4_r2, ecmA_bio2, mybB_bio2, pkaCoeAX4_r2, tagB_bio1, dgcA_r2, comH_r1, dgcA_r1, gbfA_r1, tgrB1_r2, mybBGFP_bio1, tgrC1_r2, AX4_pool19, mybB_bio1, pkaR_bio2, AX4_bio1, AX4_r1, cudA_r2, gtaI_bio1, ac3pkaCoe_r2, tagB_bio2 \n",
      "\n",
      "Subset2:\n",
      " gtaG_r1, gtaG_r2, mybBGFP_bio2, gbfA_r3, AX4_bio3, tgrB1C1_r2, tgrC1_r1, AX4_bio2, AX4_FDpool01, cudA_r3, ac3pkaCoe_r1\n"
     ]
    }
   ],
   "source": [
    "print('Subset1:\\n',', '.join(subset1),'\\n')\n",
    "print('Subset2:\\n',', '.join(subset2))"
   ]
  },
  {
   "cell_type": "markdown",
   "metadata": {},
   "source": [
    "## Data preprocessing parameters selection"
   ]
  },
  {
   "cell_type": "markdown",
   "metadata": {},
   "source": [
    "To select how data should be preprocessed it was compared how initial data log transformation vs no transformation and scaling from 0 to 1 (minmax) or to mean=0 and std=1 (mean0std1) affect the reliability of result across random sample of replicates.\n",
    "\n",
    "Preprocessing with log transformation and scaling from 0 to 1 gives most reliable results when comparing different combinations of parameter. Note that results of inverse profile pairs perform worse. The exact order of preprocessing combinations varies somewhat based on selection of training and test sample, but in all of them there is an overall trend for better performance of log vs non-log and 'minmax' vs 'mean0std1'.\n",
    "\n",
    "The below table shows:\n",
    "- N neighbours - N of neighbours computed for each gene.\n",
    "- inverse - If False most similar neighbour, if True neighbour with most similar inversed profile (multiplied by -1 before scaling).\n",
    "- use_log - Was data log transformed before scaling.\n",
    "- scale - mean0std1: mean=0, std=1; minmax: from 0 to 1\n",
    "- threshold - Cosine similarity threshold used. Pairs below it were excluded from calculations (MSE, N pairs, N genes, F value).\n",
    "- batches - Currently not used. Could be used if similarity calculation was done for each strain separately, later using only gene pairs highly associted in all individual strains.\n",
    "- MSE - For evaluation of similarity results. Difference between similarity in training and test set. MSE=(similarity_training-similarity_test)^2  This is done for all neighbour pairs retained after similarity filtering in the training set, their similarities are used as extracted from the closest neighbour library; similarities in test set are computed 'by hand'. It was previoulsy tested that these similarities correspond.\n",
    "- N pairs - N of gene pairs retained in training sample after filtering with specified threshold.\n",
    "- N genes - N of genes retained retained in training sample after filtering with specified threshold.\n",
    "- F value - For evaluation of N of retained genes. Similar to recall and accuracy based F value, but as there is no knowledge about 'real truth' it is computed as follows: Neighbours are obtained both for training and test set. Pairs are filtered and genes in remaining pairs are selected. TP = genes present in both training and filtering, FN_training = genes present only in test set, FN_test = genes present only in training set. r_test=TP/(TP+FN_test) and r_train=TP/(TP+FN_training). F=2*r_test*r_training/(r_test+r_training)\n",
    "\n",
    "Table is sorted by MSE."
   ]
  },
  {
   "cell_type": "code",
   "execution_count": 6,
   "metadata": {},
   "outputs": [
    {
     "name": "stderr",
     "output_type": "stream",
     "text": [
      "/home/karin/Documents/git/orange3venv/lib/python3.6/site-packages/numba/ir_utils.py:1959: NumbaPendingDeprecationWarning: \n",
      "Encountered the use of a type that is scheduled for deprecation: type 'reflected list' found for argument 'forest' of function 'initialise_search'.\n",
      "\n",
      "For more information visit http://numba.pydata.org/numba-doc/latest/reference/deprecation.html#deprecation-of-reflection-for-list-and-set-types\n",
      "\n",
      "File \"../../orange3venv/lib/python3.6/site-packages/pynndescent/pynndescent_.py\", line 72:\n",
      "@numba.njit()\n",
      "def initialise_search(\n",
      "^\n",
      "\n",
      "  warnings.warn(NumbaPendingDeprecationWarning(msg, loc=loc))\n",
      "/home/karin/Documents/git/baylor-dicty/correlation_enrichment/library.py:235: RuntimeWarning: invalid value encountered in double_scalars\n",
      "  return np.inner(vector1, vector2) / (np.linalg.norm(vector1) * np.linalg.norm(vector2))\n",
      "/home/karin/Documents/git/baylor-dicty/correlation_enrichment/library.py:235: RuntimeWarning: invalid value encountered in double_scalars\n",
      "  return np.inner(vector1, vector2) / (np.linalg.norm(vector1) * np.linalg.norm(vector2))\n",
      "/home/karin/Documents/git/baylor-dicty/correlation_enrichment/library.py:235: RuntimeWarning: invalid value encountered in double_scalars\n",
      "  return np.inner(vector1, vector2) / (np.linalg.norm(vector1) * np.linalg.norm(vector2))\n",
      "/home/karin/Documents/git/baylor-dicty/correlation_enrichment/library.py:235: RuntimeWarning: invalid value encountered in double_scalars\n",
      "  return np.inner(vector1, vector2) / (np.linalg.norm(vector1) * np.linalg.norm(vector2))\n"
     ]
    }
   ],
   "source": [
    "#Make table of results for different condition settings\n",
    "results=[]\n",
    "#Which parameters to try\n",
    "thresholds=[0.95]\n",
    "for scale in ['minmax','mean0std1']:\n",
    "    for use_log in [True,False]:\n",
    "            for inverse in [False,True]:\n",
    "                for n_neighbours in [2]:\n",
    "                    result = neighbour_calculator.compare_conditions(\n",
    "                                        # Parameters\n",
    "                                        neighbours_n=n_neighbours, inverse=inverse, scale=scale, use_log=use_log,\n",
    "                                        thresholds=thresholds, \n",
    "                                        filter_column='Replicate',\n",
    "                                        #For subset genes\n",
    "                                        filter_column_values_sub=subset1,\n",
    "                                        #For test genes\n",
    "                                        filter_column_values_test=subset2, \n",
    "                                                \n",
    "                                        batch_column=None)\n",
    "                    for res in result:\n",
    "                        results.append(res)\n",
    "data_summary_params=pd.DataFrame(results)"
   ]
  },
  {
   "cell_type": "code",
   "execution_count": 7,
   "metadata": {},
   "outputs": [
    {
     "data": {
      "text/html": [
       "<div>\n",
       "<style scoped>\n",
       "    .dataframe tbody tr th:only-of-type {\n",
       "        vertical-align: middle;\n",
       "    }\n",
       "\n",
       "    .dataframe tbody tr th {\n",
       "        vertical-align: top;\n",
       "    }\n",
       "\n",
       "    .dataframe thead th {\n",
       "        text-align: right;\n",
       "    }\n",
       "</style>\n",
       "<table border=\"1\" class=\"dataframe\">\n",
       "  <thead>\n",
       "    <tr style=\"text-align: right;\">\n",
       "      <th></th>\n",
       "      <th>N neighbours</th>\n",
       "      <th>inverse</th>\n",
       "      <th>use_log</th>\n",
       "      <th>scale</th>\n",
       "      <th>threshold</th>\n",
       "      <th>batches</th>\n",
       "      <th>MSE</th>\n",
       "      <th>N pairs</th>\n",
       "      <th>N genes</th>\n",
       "      <th>F value</th>\n",
       "    </tr>\n",
       "  </thead>\n",
       "  <tbody>\n",
       "    <tr>\n",
       "      <td>4</td>\n",
       "      <td>2</td>\n",
       "      <td>False</td>\n",
       "      <td>True</td>\n",
       "      <td>mean0std1</td>\n",
       "      <td>0.95</td>\n",
       "      <td>None</td>\n",
       "      <td>0.00021</td>\n",
       "      <td>577</td>\n",
       "      <td>766</td>\n",
       "      <td>0.674453</td>\n",
       "    </tr>\n",
       "    <tr>\n",
       "      <td>0</td>\n",
       "      <td>2</td>\n",
       "      <td>False</td>\n",
       "      <td>True</td>\n",
       "      <td>minmax</td>\n",
       "      <td>0.95</td>\n",
       "      <td>None</td>\n",
       "      <td>0.00029</td>\n",
       "      <td>8368</td>\n",
       "      <td>9112</td>\n",
       "      <td>0.960787</td>\n",
       "    </tr>\n",
       "    <tr>\n",
       "      <td>2</td>\n",
       "      <td>2</td>\n",
       "      <td>False</td>\n",
       "      <td>False</td>\n",
       "      <td>minmax</td>\n",
       "      <td>0.95</td>\n",
       "      <td>None</td>\n",
       "      <td>0.00430</td>\n",
       "      <td>3147</td>\n",
       "      <td>3903</td>\n",
       "      <td>0.715209</td>\n",
       "    </tr>\n",
       "    <tr>\n",
       "      <td>1</td>\n",
       "      <td>2</td>\n",
       "      <td>True</td>\n",
       "      <td>True</td>\n",
       "      <td>minmax</td>\n",
       "      <td>0.95</td>\n",
       "      <td>None</td>\n",
       "      <td>0.01952</td>\n",
       "      <td>17237</td>\n",
       "      <td>9359</td>\n",
       "      <td>0.816787</td>\n",
       "    </tr>\n",
       "    <tr>\n",
       "      <td>3</td>\n",
       "      <td>2</td>\n",
       "      <td>True</td>\n",
       "      <td>False</td>\n",
       "      <td>minmax</td>\n",
       "      <td>0.95</td>\n",
       "      <td>None</td>\n",
       "      <td>0.03942</td>\n",
       "      <td>7075</td>\n",
       "      <td>4412</td>\n",
       "      <td>0.505312</td>\n",
       "    </tr>\n",
       "    <tr>\n",
       "      <td>6</td>\n",
       "      <td>2</td>\n",
       "      <td>False</td>\n",
       "      <td>False</td>\n",
       "      <td>mean0std1</td>\n",
       "      <td>0.95</td>\n",
       "      <td>None</td>\n",
       "      <td>0.04800</td>\n",
       "      <td>568</td>\n",
       "      <td>790</td>\n",
       "      <td>0.513919</td>\n",
       "    </tr>\n",
       "    <tr>\n",
       "      <td>5</td>\n",
       "      <td>2</td>\n",
       "      <td>True</td>\n",
       "      <td>True</td>\n",
       "      <td>mean0std1</td>\n",
       "      <td>0.95</td>\n",
       "      <td>None</td>\n",
       "      <td>NaN</td>\n",
       "      <td>0</td>\n",
       "      <td>0</td>\n",
       "      <td>NaN</td>\n",
       "    </tr>\n",
       "    <tr>\n",
       "      <td>7</td>\n",
       "      <td>2</td>\n",
       "      <td>True</td>\n",
       "      <td>False</td>\n",
       "      <td>mean0std1</td>\n",
       "      <td>0.95</td>\n",
       "      <td>None</td>\n",
       "      <td>NaN</td>\n",
       "      <td>0</td>\n",
       "      <td>0</td>\n",
       "      <td>NaN</td>\n",
       "    </tr>\n",
       "  </tbody>\n",
       "</table>\n",
       "</div>"
      ],
      "text/plain": [
       "   N neighbours  inverse  use_log      scale  threshold batches      MSE  \\\n",
       "4             2    False     True  mean0std1       0.95    None  0.00021   \n",
       "0             2    False     True     minmax       0.95    None  0.00029   \n",
       "2             2    False    False     minmax       0.95    None  0.00430   \n",
       "1             2     True     True     minmax       0.95    None  0.01952   \n",
       "3             2     True    False     minmax       0.95    None  0.03942   \n",
       "6             2    False    False  mean0std1       0.95    None  0.04800   \n",
       "5             2     True     True  mean0std1       0.95    None      NaN   \n",
       "7             2     True    False  mean0std1       0.95    None      NaN   \n",
       "\n",
       "   N pairs  N genes   F value  \n",
       "4      577      766  0.674453  \n",
       "0     8368     9112  0.960787  \n",
       "2     3147     3903  0.715209  \n",
       "1    17237     9359  0.816787  \n",
       "3     7075     4412  0.505312  \n",
       "6      568      790  0.513919  \n",
       "5        0        0       NaN  \n",
       "7        0        0       NaN  "
      ]
     },
     "execution_count": 7,
     "metadata": {},
     "output_type": "execute_result"
    }
   ],
   "source": [
    "data_summary_params.sort_values(by='MSE')"
   ]
  },
  {
   "cell_type": "markdown",
   "metadata": {},
   "source": [
    "## Necesary number of calculated neighbours to reliabli get genes with close neighbours"
   ]
  },
  {
   "cell_type": "markdown",
   "metadata": {},
   "source": [
    "Algorithem used for neighbour calculation is stohastic. When comparing number of gene pairs above certain threshold, even when using high threshold (e.g. 0.99) there will be some pairs missed if only a few tens of closest neighbours are computed instead of a few houndreds of closest neighbours (shown in notebook regulons). Thus calculationg only 2 neighbours to find genes that have at least one close neighbour at ceratin threshold could lead to false negatives. However, calculating more neighbours can drasticaly increase compute time. \n",
    "\n",
    "Thus it was evaluated how the number of computed neighbours affects the set of retained genes. Genes retained when using more neighbours (100, termed 'larger') are compared to set of genes retained when coimputing less neighbours (2,3,5,10, termed 'smaller') at different thresholds. Using small number of neighbours seems to be sufficnet as only a small proportion of genes is missed - e.g. at later proposed threshold of 0.99 only 1 or 0 (based on reruns) out of 1967 genes (intersect (presenet in smaller and larger)+unique in larger) would be missed."
   ]
  },
  {
   "cell_type": "code",
   "execution_count": 8,
   "metadata": {},
   "outputs": [
    {
     "data": {
      "text/html": [
       "<div>\n",
       "<style scoped>\n",
       "    .dataframe tbody tr th:only-of-type {\n",
       "        vertical-align: middle;\n",
       "    }\n",
       "\n",
       "    .dataframe tbody tr th {\n",
       "        vertical-align: top;\n",
       "    }\n",
       "\n",
       "    .dataframe thead th {\n",
       "        text-align: right;\n",
       "    }\n",
       "</style>\n",
       "<table border=\"1\" class=\"dataframe\">\n",
       "  <thead>\n",
       "    <tr style=\"text-align: right;\">\n",
       "      <th></th>\n",
       "      <th>n_neighbours</th>\n",
       "      <th>threshold</th>\n",
       "      <th>intersect</th>\n",
       "      <th>unique_smaller</th>\n",
       "      <th>unique_larger</th>\n",
       "    </tr>\n",
       "  </thead>\n",
       "  <tbody>\n",
       "    <tr>\n",
       "      <td>0</td>\n",
       "      <td>2</td>\n",
       "      <td>0.95</td>\n",
       "      <td>9117</td>\n",
       "      <td>0</td>\n",
       "      <td>5</td>\n",
       "    </tr>\n",
       "    <tr>\n",
       "      <td>1</td>\n",
       "      <td>2</td>\n",
       "      <td>0.98</td>\n",
       "      <td>5564</td>\n",
       "      <td>0</td>\n",
       "      <td>1</td>\n",
       "    </tr>\n",
       "    <tr>\n",
       "      <td>2</td>\n",
       "      <td>2</td>\n",
       "      <td>0.99</td>\n",
       "      <td>1967</td>\n",
       "      <td>0</td>\n",
       "      <td>0</td>\n",
       "    </tr>\n",
       "    <tr>\n",
       "      <td>3</td>\n",
       "      <td>3</td>\n",
       "      <td>0.95</td>\n",
       "      <td>9118</td>\n",
       "      <td>0</td>\n",
       "      <td>4</td>\n",
       "    </tr>\n",
       "    <tr>\n",
       "      <td>4</td>\n",
       "      <td>3</td>\n",
       "      <td>0.98</td>\n",
       "      <td>5565</td>\n",
       "      <td>0</td>\n",
       "      <td>0</td>\n",
       "    </tr>\n",
       "    <tr>\n",
       "      <td>5</td>\n",
       "      <td>3</td>\n",
       "      <td>0.99</td>\n",
       "      <td>1967</td>\n",
       "      <td>0</td>\n",
       "      <td>0</td>\n",
       "    </tr>\n",
       "    <tr>\n",
       "      <td>6</td>\n",
       "      <td>5</td>\n",
       "      <td>0.95</td>\n",
       "      <td>9121</td>\n",
       "      <td>0</td>\n",
       "      <td>1</td>\n",
       "    </tr>\n",
       "    <tr>\n",
       "      <td>7</td>\n",
       "      <td>5</td>\n",
       "      <td>0.98</td>\n",
       "      <td>5565</td>\n",
       "      <td>0</td>\n",
       "      <td>0</td>\n",
       "    </tr>\n",
       "    <tr>\n",
       "      <td>8</td>\n",
       "      <td>5</td>\n",
       "      <td>0.99</td>\n",
       "      <td>1967</td>\n",
       "      <td>0</td>\n",
       "      <td>0</td>\n",
       "    </tr>\n",
       "    <tr>\n",
       "      <td>9</td>\n",
       "      <td>10</td>\n",
       "      <td>0.95</td>\n",
       "      <td>9120</td>\n",
       "      <td>0</td>\n",
       "      <td>2</td>\n",
       "    </tr>\n",
       "    <tr>\n",
       "      <td>10</td>\n",
       "      <td>10</td>\n",
       "      <td>0.98</td>\n",
       "      <td>5565</td>\n",
       "      <td>0</td>\n",
       "      <td>0</td>\n",
       "    </tr>\n",
       "    <tr>\n",
       "      <td>11</td>\n",
       "      <td>10</td>\n",
       "      <td>0.99</td>\n",
       "      <td>1967</td>\n",
       "      <td>0</td>\n",
       "      <td>0</td>\n",
       "    </tr>\n",
       "  </tbody>\n",
       "</table>\n",
       "</div>"
      ],
      "text/plain": [
       "    n_neighbours  threshold  intersect  unique_smaller  unique_larger\n",
       "0              2       0.95       9117               0              5\n",
       "1              2       0.98       5564               0              1\n",
       "2              2       0.99       1967               0              0\n",
       "3              3       0.95       9118               0              4\n",
       "4              3       0.98       5565               0              0\n",
       "5              3       0.99       1967               0              0\n",
       "6              5       0.95       9121               0              1\n",
       "7              5       0.98       5565               0              0\n",
       "8              5       0.99       1967               0              0\n",
       "9             10       0.95       9120               0              2\n",
       "10            10       0.98       5565               0              0\n",
       "11            10       0.99       1967               0              0"
      ]
     },
     "execution_count": 8,
     "metadata": {},
     "output_type": "execute_result"
    }
   ],
   "source": [
    "jf.obtained_genes_by_n_neighbours(neighbour_calculator=neighbour_calculator, neighbours_size_larger=100,\n",
    "                                   neighbours_sizes_smaller=[2,3,5,10], thresholds=[0.95,0.98,0.99])"
   ]
  },
  {
   "cell_type": "markdown",
   "metadata": {},
   "source": [
    "## Similarity threshold selection"
   ]
  },
  {
   "cell_type": "markdown",
   "metadata": {},
   "source": [
    "To determine which genes will be retained for regulon computation it must be selected how close must be the nearest neighbour to preserve the genes from this pair. \n",
    "\n",
    "This could be done based on N of retained genes at each threshold (N genes) or by comparison of retained gene sets between samples (variation of F value), as done above for preprocessing parameter selection. The table is as above, subseted by relevant columns.\n",
    "\n",
    "A 'bump' sometimes appears at higher thresholds, posslibly indicating variability between replicates (used in training/test set) that becomes evident at lower number of retained genes. This variability between strains can be evaluated latter when plotting the expression profiles."
   ]
  },
  {
   "cell_type": "code",
   "execution_count": 9,
   "metadata": {},
   "outputs": [
    {
     "data": {
      "image/png": "[encoded data removed]",
      "text/plain": [
       "<Figure size 432x288 with 2 Axes>"
      ]
     },
     "metadata": {},
     "output_type": "display_data"
    }
   ],
   "source": [
    "summary=neighbour_calculator.plot_select_threshold(thresholds=[0.96,0.97,0.975,0.98,0.985,0.99,0.995,0.999],\n",
    "                                                   filter_column='Replicate',\n",
    "                                                   filter_column_values_sub=subset1,\n",
    "                                                   filter_column_values_test=subset2,\n",
    "                                                   neighbours_n=2)"
   ]
  },
  {
   "cell_type": "code",
   "execution_count": 10,
   "metadata": {},
   "outputs": [
    {
     "data": {
      "text/html": [
       "<div>\n",
       "<style scoped>\n",
       "    .dataframe tbody tr th:only-of-type {\n",
       "        vertical-align: middle;\n",
       "    }\n",
       "\n",
       "    .dataframe tbody tr th {\n",
       "        vertical-align: top;\n",
       "    }\n",
       "\n",
       "    .dataframe thead th {\n",
       "        text-align: right;\n",
       "    }\n",
       "</style>\n",
       "<table border=\"1\" class=\"dataframe\">\n",
       "  <thead>\n",
       "    <tr style=\"text-align: right;\">\n",
       "      <th></th>\n",
       "      <th>threshold</th>\n",
       "      <th>N genes</th>\n",
       "      <th>F value</th>\n",
       "    </tr>\n",
       "  </thead>\n",
       "  <tbody>\n",
       "    <tr>\n",
       "      <td>0</td>\n",
       "      <td>0.960</td>\n",
       "      <td>8434</td>\n",
       "      <td>0.939314</td>\n",
       "    </tr>\n",
       "    <tr>\n",
       "      <td>1</td>\n",
       "      <td>0.970</td>\n",
       "      <td>7430</td>\n",
       "      <td>0.901963</td>\n",
       "    </tr>\n",
       "    <tr>\n",
       "      <td>2</td>\n",
       "      <td>0.975</td>\n",
       "      <td>6532</td>\n",
       "      <td>0.855836</td>\n",
       "    </tr>\n",
       "    <tr>\n",
       "      <td>3</td>\n",
       "      <td>0.980</td>\n",
       "      <td>5331</td>\n",
       "      <td>0.795522</td>\n",
       "    </tr>\n",
       "    <tr>\n",
       "      <td>4</td>\n",
       "      <td>0.985</td>\n",
       "      <td>3737</td>\n",
       "      <td>0.717014</td>\n",
       "    </tr>\n",
       "    <tr>\n",
       "      <td>5</td>\n",
       "      <td>0.990</td>\n",
       "      <td>1877</td>\n",
       "      <td>0.613693</td>\n",
       "    </tr>\n",
       "    <tr>\n",
       "      <td>6</td>\n",
       "      <td>0.995</td>\n",
       "      <td>403</td>\n",
       "      <td>0.585366</td>\n",
       "    </tr>\n",
       "    <tr>\n",
       "      <td>7</td>\n",
       "      <td>0.999</td>\n",
       "      <td>4</td>\n",
       "      <td>0.088889</td>\n",
       "    </tr>\n",
       "  </tbody>\n",
       "</table>\n",
       "</div>"
      ],
      "text/plain": [
       "   threshold  N genes   F value\n",
       "0      0.960     8434  0.939314\n",
       "1      0.970     7430  0.901963\n",
       "2      0.975     6532  0.855836\n",
       "3      0.980     5331  0.795522\n",
       "4      0.985     3737  0.717014\n",
       "5      0.990     1877  0.613693\n",
       "6      0.995      403  0.585366\n",
       "7      0.999        4  0.088889"
      ]
     },
     "execution_count": 10,
     "metadata": {},
     "output_type": "execute_result"
    }
   ],
   "source": [
    "summary.loc[:,['threshold','N genes','F value']]"
   ]
  },
  {
   "cell_type": "markdown",
   "metadata": {},
   "source": [
    "# Conclusion"
   ]
  },
  {
   "cell_type": "markdown",
   "metadata": {},
   "source": [
    "Based on above tests the genes for regulon calculation could be obtained with: 2 closest neighbours calculation based on cosine similarity and data preprocessed with log transformation and 0 to 1 scaling. Threshold for inclusion of genes in close neighbours pairs could be 0.99: near knee of \"F value\" and retaining approx 2000 genes (and less for inverse profiles, which can be evaluated latter)."
   ]
  },
  {
   "cell_type": "code",
   "execution_count": null,
   "metadata": {},
   "outputs": [],
   "source": []
  }
 ],
 "metadata": {
  "kernelspec": {
   "display_name": "Python 3",
   "language": "python",
   "name": "python3"
  },
  "language_info": {
   "codemirror_mode": {
    "name": "ipython",
    "version": 3
   },
   "file_extension": ".py",
   "mimetype": "text/x-python",
   "name": "python",
   "nbconvert_exporter": "python",
   "pygments_lexer": "ipython3",
   "version": "3.6.8"
  }
 },
 "nbformat": 4,
 "nbformat_minor": 2
}
