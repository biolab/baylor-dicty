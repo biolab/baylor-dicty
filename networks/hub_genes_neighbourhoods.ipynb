{
 "cells": [
  {
   "cell_type": "markdown",
   "metadata": {},
   "source": [
    "# Selection of gene groups with predefined similarity\n",
    "The notebook selects genes with close neighbours (hub genes; e.g. have at least N neighbours with similarity above S). It then retrieves all their neighbours above certain similarity (S). It merges these neighbourhoods if the minimal similarity betwen any of the elements in the merged neighbourhoods is above a threshold (e.g. minimal similarity within any of the starting groups)."
   ]
  },
  {
   "cell_type": "code",
   "execution_count": 3,
   "metadata": {},
   "outputs": [],
   "source": [
    "import os\n",
    "import sys\n",
    "from importlib import reload\n",
    "\n",
    "module_path = os.path.abspath(os.path.join('..'))\n",
    "if module_path not in sys.path:\n",
    "    sys.path.insert(0,module_path)\n",
    "\n",
    "import pandas as pd\n",
    "import matplotlib.pyplot as plt\n",
    "import altair as alt\n",
    "alt.renderers.enable('notebook')\n",
    "from IPython.display import display\n",
    "from sklearn.metrics.pairwise import cosine_similarity\n",
    "from collections import Counter\n",
    "\n",
    "from orangecontrib.bioinformatics.geneset.__init__ import list_all\n",
    "\n",
    "import library_regulons\n",
    "reload(library_regulons)\n",
    "from library_regulons import *\n",
    "import jupyter_functions as jf\n",
    "reload(jf)\n",
    "import jupyter_functions as jf\n",
    "from functionsDENet import loadPickle, savePickle\n",
    "import deR.enrichment_library as enr\n",
    "reload(enr)\n",
    "import deR.enrichment_library as enr"
   ]
  },
  {
   "cell_type": "code",
   "execution_count": 41,
   "metadata": {},
   "outputs": [],
   "source": [
    "#dataPath=module_path+'/data_expression/'\n",
    "dataPath='/home/karin/Documents/timeTrajectories/data/RPKUM/combined/'\n",
    "genes = pd.read_csv(dataPath + 'mergedGenes_RPKUM.tsv', sep='\\t', index_col=0)\n",
    "conditions = pd.read_csv(dataPath + 'conditions_mergedGenes.tsv', sep='\\t', index_col=None)"
   ]
  },
  {
   "cell_type": "code",
   "execution_count": 42,
   "metadata": {},
   "outputs": [],
   "source": [
    "neighbour_calculator_all = NeighbourCalculator(genes=genes)"
   ]
  },
  {
   "cell_type": "markdown",
   "metadata": {},
   "source": [
    "# Selection of hub genes and their neighbourhoods\n",
    "Select genes that have at least MIN_NEIGH number of neighbours with similarity at least SIM. For these genes calculate 100 closest neighbours and retain those with similarity at least SIM - termed neighbourhoods."
   ]
  },
  {
   "cell_type": "code",
   "execution_count": 44,
   "metadata": {},
   "outputs": [],
   "source": [
    "SCALE = 'mean0std1'\n",
    "LOG = True\n",
    "#If hubs were filtered retain that many top ones\n",
    "NHUBS = 500\n",
    "#How many neighbours to initially calculate to get hubs, must be at least MIN_NEIGH+1 if non-opposite profiles\n",
    "NEIGH_HUBS=6\n",
    "#Similarity threshold for neighbours to hub\n",
    "SIM=0.96\n",
    "#Min neighbours a hub must have\n",
    "MIN_NEIGH=NEIGH_HUBS-1"
   ]
  },
  {
   "cell_type": "code",
   "execution_count": 45,
   "metadata": {},
   "outputs": [],
   "source": [
    "path_neighbours='/home/karin/Documents/timeTrajectories/data/regulons/clusters/merge_similarity/newGenes_kN6_m0s1log'"
   ]
  },
  {
   "cell_type": "code",
   "execution_count": 46,
   "metadata": {},
   "outputs": [],
   "source": [
    "neigh_all, sims_all=loadPickle(path_neighbours+'_neighbours_sims.pkl')"
   ]
  },
  {
   "cell_type": "markdown",
   "metadata": {},
   "source": [
    "How many hub genes would we get with different thresholds for number of neighbours a hub must have and their similarity."
   ]
  },
  {
   "cell_type": "code",
   "execution_count": 47,
   "metadata": {},
   "outputs": [
    {
     "name": "stdout",
     "output_type": "stream",
     "text": [
      "Similarity threhold: 0.97, min neighbours: 5, selected genes: 43\n",
      "Similarity threhold: 0.97, min neighbours: 3, selected genes: 78\n",
      "Similarity threhold: 0.96, min neighbours: 5, selected genes: 131\n",
      "Similarity threhold: 0.96, min neighbours: 3, selected genes: 213\n",
      "Similarity threhold: 0.95, min neighbours: 5, selected genes: 293\n",
      "Similarity threhold: 0.95, min neighbours: 3, selected genes: 402\n"
     ]
    }
   ],
   "source": [
    "print('Similarity threhold: 0.97, min neighbours: 5, selected genes:',len(NeighbourCalculator.filter_similarities_matrix(similarities=sims_all, \n",
    "                                                            similarity_threshold=0.97,\n",
    "                                                                 min_neighbours=5)))\n",
    "print('Similarity threhold: 0.97, min neighbours: 3, selected genes:',len(NeighbourCalculator.filter_similarities_matrix(similarities=sims_all, \n",
    "                                                            similarity_threshold=0.97,\n",
    "                                                                 min_neighbours=3)))\n",
    "print('Similarity threhold: 0.96, min neighbours: 5, selected genes:',len(NeighbourCalculator.filter_similarities_matrix(similarities=sims_all, \n",
    "                                                            similarity_threshold=0.96,\n",
    "                                                                 min_neighbours=5)))\n",
    "print('Similarity threhold: 0.96, min neighbours: 3, selected genes:',len(NeighbourCalculator.filter_similarities_matrix(similarities=sims_all, \n",
    "                                                            similarity_threshold=0.96,\n",
    "                                                                 min_neighbours=3)))\n",
    "print('Similarity threhold: 0.95, min neighbours: 5, selected genes:',len(NeighbourCalculator.filter_similarities_matrix(similarities=sims_all, \n",
    "                                                            similarity_threshold=0.95,\n",
    "                                                                 min_neighbours=5)))\n",
    "print('Similarity threhold: 0.95, min neighbours: 3, selected genes:',len(NeighbourCalculator.filter_similarities_matrix(similarities=sims_all, \n",
    "                                                            similarity_threshold=0.95,\n",
    "                                                                 min_neighbours=3)))\n"
   ]
  },
  {
   "cell_type": "code",
   "execution_count": 48,
   "metadata": {},
   "outputs": [],
   "source": [
    "hubs_all= NeighbourCalculator.filter_similarities_matrix(similarities=sims_all, similarity_threshold=SIM,\n",
    "                                                                 min_neighbours=MIN_NEIGH)\n",
    "#hubs_all = NeighbourCalculator.find_hubs(similarities=sims_all.loc[hubs_all, :], n_hubs=NHUBS)"
   ]
  },
  {
   "cell_type": "code",
   "execution_count": 49,
   "metadata": {},
   "outputs": [],
   "source": [
    "neigh_hubs, sims_hubs = neighbour_calculator_all.neighbours(n_neighbours=100, inverse=False, scale=SCALE,\n",
    "                                                            log=LOG,\n",
    "                                                            return_neigh_dist=True, genes_query_names=hubs_all)"
   ]
  },
  {
   "cell_type": "code",
   "execution_count": 50,
   "metadata": {},
   "outputs": [],
   "source": [
    "neighbourhoods = NeighbourCalculator.hub_neighbours(neighbours=neigh_hubs, similarities=sims_hubs,\n",
    "                                                    similarity_threshold=SIM)"
   ]
  },
  {
   "cell_type": "markdown",
   "metadata": {},
   "source": [
    "# Characteristics of hub neighbourhoods\n",
    "Remove duplicated neighbourhoods and those that are contained within other neighbourhoods."
   ]
  },
  {
   "cell_type": "markdown",
   "metadata": {},
   "source": [
    "Below: Distribution of neighbourhood sizes at start - directly from hub genes, which are added to their own neighbourhood."
   ]
  },
  {
   "cell_type": "code",
   "execution_count": 51,
   "metadata": {},
   "outputs": [
    {
     "name": "stdout",
     "output_type": "stream",
     "text": [
      "N neighbourhoods at start: 131\n",
      "Smallest neighbourhood: 6 , largest: 26\n"
     ]
    },
    {
     "data": {
      "image/png": "[encoded data removed]",
      "text/plain": [
       "<Figure size 432x288 with 1 Axes>"
      ]
     },
     "metadata": {
      "needs_background": "light"
     },
     "output_type": "display_data"
    }
   ],
   "source": [
    "# Add hub to neighbourhood\n",
    "neighbourhoods_merged=NeighbourhoodParser.add_hub_to_neigh(neighbourhoods=neighbourhoods)\n",
    "print('N neighbourhoods at start:',len(neighbourhoods_merged))\n",
    "NeighbourhoodParser.plot_size_distn_neighbourhoods(neighbourhoods_merged)"
   ]
  },
  {
   "cell_type": "code",
   "execution_count": 52,
   "metadata": {},
   "outputs": [
    {
     "name": "stdout",
     "output_type": "stream",
     "text": [
      "N neighbourhoods after removing repeated (identical) neighbourhoods: 122\n"
     ]
    }
   ],
   "source": [
    "# Remove repeated neighborhoods\n",
    "neighbourhoods_merged =NeighbourhoodParser.remove_repeated(neighbourhoods_merged)\n",
    "print('N neighbourhoods after removing repeated (identical) neighbourhoods:',len(neighbourhoods_merged))\n",
    "#plot_size_distn_neighbourhoods(neighbourhoods_merged)"
   ]
  },
  {
   "cell_type": "code",
   "execution_count": 53,
   "metadata": {},
   "outputs": [
    {
     "name": "stdout",
     "output_type": "stream",
     "text": [
      "N neighbourhoods after removing contained neighbourhoods: 102\n",
      "Smallest neighbourhood: 6 , largest: 26\n"
     ]
    },
    {
     "data": {
      "image/png": "[encoded data removed]",
      "text/plain": [
       "<Figure size 432x288 with 1 Axes>"
      ]
     },
     "metadata": {
      "needs_background": "light"
     },
     "output_type": "display_data"
    }
   ],
   "source": [
    "# Remove contained neighbourhoods. Assumes neighbourhoods are unique.\n",
    "neighbourhoods_merged=NeighbourhoodParser.remove_contained(neighbourhoods_merged)\n",
    "print('N neighbourhoods after removing contained neighbourhoods:',len(neighbourhoods_merged))\n",
    "NeighbourhoodParser.plot_size_distn_neighbourhoods(neighbourhoods_merged)"
   ]
  },
  {
   "cell_type": "code",
   "execution_count": 54,
   "metadata": {},
   "outputs": [
    {
     "name": "stdout",
     "output_type": "stream",
     "text": [
      "N genes in neighbourhoods 244\n"
     ]
    }
   ],
   "source": [
    "neighbourhood_genes = list({gene for neigh_list in neighbourhoods_merged for gene in neigh_list})\n",
    "print('N genes in neighbourhoods',len(neighbourhood_genes))"
   ]
  },
  {
   "cell_type": "code",
   "execution_count": 55,
   "metadata": {},
   "outputs": [],
   "source": [
    "# Calculate cosine similarity between genes for later\n",
    "genes_normalised = NeighbourCalculator.get_index_query(genes=genes.loc[neighbourhood_genes, :], inverse=False,\n",
    "                                                       scale=SCALE, log=LOG)[0]\n",
    "genes_cosine = pd.DataFrame(cosine_similarity(genes_normalised), index=neighbourhood_genes, columns=neighbourhood_genes)"
   ]
  },
  {
   "cell_type": "code",
   "execution_count": 56,
   "metadata": {},
   "outputs": [
    {
     "data": {
      "image/png": "[encoded data removed]",
      "text/plain": [
       "<Figure size 432x288 with 1 Axes>"
      ]
     },
     "metadata": {
      "needs_background": "light"
     },
     "output_type": "display_data"
    }
   ],
   "source": [
    "#Jaccard similarity\n",
    "dist_arr_jaccard=NeighbourhoodParser.neighbourhood_distances(neighbourhoods=neighbourhoods_merged,\n",
    "                                                    measure='jaccard')[0]\n",
    "\n",
    "plt.hist(1-dist_arr_jaccard,bins=20)\n",
    "plt.xlabel('Jaccard similarity between neighbourhoods')\n",
    "plt.ylabel('Neighbourhoods pairs')\n",
    "plt.yscale('log')"
   ]
  },
  {
   "cell_type": "markdown",
   "metadata": {},
   "source": [
    "# Merge neighbourhoods\n",
    "Merged if minimal similarity in the new neighbourhood is above some threshold. Merging is done based on the order of hierarchical clustering. Hierarchical clustering is currently based on percent of genes of smaller group that are within larger group."
   ]
  },
  {
   "cell_type": "code",
   "execution_count": 57,
   "metadata": {},
   "outputs": [],
   "source": [
    "# Distances between neighbourhoods\n",
    "#For merging - proportion of genes from the smaller group contained in the larger group from a pair\n",
    "dist_arr,node_neighbourhoods=NeighbourhoodParser.neighbourhood_distances(neighbourhoods=neighbourhoods_merged,\n",
    "                                                    measure='percent_shared_smaller')"
   ]
  },
  {
   "cell_type": "code",
   "execution_count": 58,
   "metadata": {},
   "outputs": [],
   "source": [
    "neigh_hc = hc.ward(dist_arr)"
   ]
  },
  {
   "cell_type": "markdown",
   "metadata": {},
   "source": [
    "Use minimal similarity within any of the staring groups as thereshold for merging groups - merge if none of the similarities within the merged groups are below this thershold."
   ]
  },
  {
   "cell_type": "code",
   "execution_count": 59,
   "metadata": {},
   "outputs": [
    {
     "name": "stdout",
     "output_type": "stream",
     "text": [
      "Min similarity in any group before merging: 0.898\n"
     ]
    }
   ],
   "source": [
    "min_neighbourhood_similarity=NeighbourhoodParser.min_neighbourhood_similarity(neighbourhoods,genes_sims=genes_cosine)\n",
    "print('Min similarity in any group before merging:',np.round(min_neighbourhood_similarity,3))"
   ]
  },
  {
   "cell_type": "code",
   "execution_count": 60,
   "metadata": {},
   "outputs": [],
   "source": [
    "node_neighbourhoods=NeighbourhoodParser.merge_by_hc(hc_result=neigh_hc,node_neighbourhoods=node_neighbourhoods,\n",
    "                                                    genes_sims=genes_cosine,\n",
    "                                                    min_group_sim=min_neighbourhood_similarity)"
   ]
  },
  {
   "cell_type": "code",
   "execution_count": 61,
   "metadata": {},
   "outputs": [
    {
     "name": "stdout",
     "output_type": "stream",
     "text": [
      "N merged neighbourhoods 63\n",
      "Smallest neighbourhood: 6 , largest: 27\n"
     ]
    },
    {
     "data": {
      "image/png": "[encoded data removed]",
      "text/plain": [
       "<Figure size 432x288 with 1 Axes>"
      ]
     },
     "metadata": {
      "needs_background": "light"
     },
     "output_type": "display_data"
    }
   ],
   "source": [
    "print('N merged neighbourhoods',len(node_neighbourhoods))\n",
    "NeighbourhoodParser.plot_size_distn_neighbourhoods(list(node_neighbourhoods.values()))"
   ]
  },
  {
   "cell_type": "markdown",
   "metadata": {},
   "source": [
    "Below: Jaccard similarities between merged neighbourhood groups - how big is the overlap."
   ]
  },
  {
   "cell_type": "code",
   "execution_count": 62,
   "metadata": {},
   "outputs": [
    {
     "data": {
      "image/png": "[encoded data removed]",
      "text/plain": [
       "<Figure size 432x288 with 1 Axes>"
      ]
     },
     "metadata": {
      "needs_background": "light"
     },
     "output_type": "display_data"
    }
   ],
   "source": [
    "dist_arr_jaccard_merged=NeighbourhoodParser.neighbourhood_distances(neighbourhoods=list(node_neighbourhoods.values()),\n",
    "                                                    measure='jaccard')[0]\n",
    "plt.hist(1-dist_arr_jaccard_merged,bins=20)\n",
    "plt.xlabel('Jaccard similarity between merged neighbourhoods')\n",
    "plt.ylabel('Neighbourhoods pairs')\n",
    "plt.yscale('log')"
   ]
  },
  {
   "cell_type": "markdown",
   "metadata": {},
   "source": [
    "Above shown jaccard similarities are for all neighbourhood pairs. Distribution of similarities to the closest neighbourhood is shifted to higher similarities (below)."
   ]
  },
  {
   "cell_type": "code",
   "execution_count": 63,
   "metadata": {},
   "outputs": [
    {
     "data": {
      "text/plain": [
       "Text(0, 0.5, 'N neighbourhoods')"
      ]
     },
     "execution_count": 63,
     "metadata": {},
     "output_type": "execute_result"
    },
    {
     "data": {
      "image/png": "[encoded data removed]",
      "text/plain": [
       "<Figure size 432x288 with 1 Axes>"
      ]
     },
     "metadata": {
      "needs_background": "light"
     },
     "output_type": "display_data"
    }
   ],
   "source": [
    "idx=np.triu_indices(len(node_neighbourhoods),k=1)\n",
    "group_names=list(node_neighbourhoods.keys())\n",
    "dist_arr_jaccard_merged_df=pd.DataFrame(index=group_names,columns=group_names)\n",
    "for sim,j,i in zip(1-dist_arr_jaccard_merged,idx[0],idx[1]):\n",
    "    j=group_names[j]\n",
    "    i=group_names[i]\n",
    "    dist_arr_jaccard_merged_df.loc[j,i]=sim\n",
    "    dist_arr_jaccard_merged_df.loc[i,j]=sim\n",
    "plt.hist(dist_arr_jaccard_merged_df.max(),bins=20)\n",
    "plt.xlabel('Jaccard similarity to the closest neighbourhood')\n",
    "plt.ylabel('N neighbourhoods')"
   ]
  },
  {
   "cell_type": "markdown",
   "metadata": {},
   "source": [
    "Below: In how many neighbourhoods is each gene present"
   ]
  },
  {
   "cell_type": "code",
   "execution_count": 64,
   "metadata": {},
   "outputs": [
    {
     "data": {
      "image/png": "[encoded data removed]",
      "text/plain": [
       "<Figure size 432x288 with 1 Axes>"
      ]
     },
     "metadata": {
      "needs_background": "light"
     },
     "output_type": "display_data"
    }
   ],
   "source": [
    "# How many times does each gene occur in clusters\n",
    "gene_occurence=Counter(gene for neighbourhood in node_neighbourhoods.values() for gene in neighbourhood)\n",
    "gene_counts=gene_occurence.values()\n",
    "plt.hist(gene_counts,bins=max(gene_counts))\n",
    "plt.xlabel('N times a gene occurs in a neighbourhood')\n",
    "plt.ylabel('N genes')\n",
    "group_unique_genes={gene for gene,count in gene_occurence.items() if count==1}"
   ]
  },
  {
   "cell_type": "markdown",
   "metadata": {},
   "source": [
    "Dendrogram for ordering of neighbourhood merging. Neighbourhood nodes that were merged are marked with red dots. The above count of groups consists of both merged (red dots) and unmerged (leaf nodes without red dot above) groups. The hierarchical clustering is based on percent of genes of smaller group that are contained in larger group."
   ]
  },
  {
   "cell_type": "code",
   "execution_count": 65,
   "metadata": {},
   "outputs": [
    {
     "data": {
      "image/png": "[encoded data removed]",
      "text/plain": [
       "<Figure size 1440x720 with 1 Axes>"
      ]
     },
     "metadata": {
      "needs_background": "light"
     },
     "output_type": "display_data"
    }
   ],
   "source": [
    "#From: https://stackoverflow.com/questions/43513698/relation-between-dendrogram-plot-coordinates-and-clusternodes-in-scipy\n",
    "plt.figure(figsize=(20,10))\n",
    "dend=hc.dendrogram(neigh_hc,color_threshold=0,no_labels=True)\n",
    "def flatten(l):\n",
    "    return [item for sublist in l for item in sublist]\n",
    "X = flatten(dend['icoord'])\n",
    "Y = flatten(dend['dcoord'])\n",
    "leave_coords = [(x,y) for x,y in zip(X,Y) if y==0]\n",
    "\n",
    "# in the dendogram data structure,\n",
    "# leave ids are listed in ascending order according to their x-coordinate\n",
    "order = np.argsort([x for x,y in leave_coords])\n",
    "id_to_coord = dict(zip(dend['leaves'], [leave_coords[idx] for idx in order])) # <- main data structure\n",
    "\n",
    "# map endpoint of each link to coordinates of parent node\n",
    "children_to_parent_coords = dict()\n",
    "for i, d in zip(dend['icoord'], dend['dcoord']):\n",
    "    x = (i[1] + i[2]) / 2\n",
    "    y = d[1] # or d[2]\n",
    "    parent_coord = (x, y)\n",
    "    left_coord = (i[0], d[0])\n",
    "    right_coord = (i[-1], d[-1])\n",
    "    children_to_parent_coords[(left_coord, right_coord)] = parent_coord\n",
    "\n",
    "# traverse tree from leaves upwards and populate mapping ID -> (x,y)\n",
    "root_node, node_list = hc.to_tree(neigh_hc, rd=True)\n",
    "ids_left = range(len(dend['leaves']), len(node_list))\n",
    "\n",
    "while len(ids_left) > 0:\n",
    "\n",
    "    for ii, node_id in enumerate(ids_left):\n",
    "        node = node_list[node_id]\n",
    "        if (node.left.id in id_to_coord) and (node.right.id in id_to_coord):\n",
    "            left_coord = id_to_coord[node.left.id]\n",
    "            right_coord = id_to_coord[node.right.id]\n",
    "            id_to_coord[node_id] = children_to_parent_coords[(left_coord, right_coord)]\n",
    "\n",
    "    ids_left = [node_id for node_id in range(len(node_list)) if not node_id in id_to_coord]\n",
    "\n",
    "# plot result on top of dendrogram\n",
    "ax = plt.gca()\n",
    "for node_id, (x, y) in id_to_coord.items():\n",
    "    if not node_list[node_id].is_leaf():\n",
    "        if node_id in node_neighbourhoods.keys():\n",
    "            ax.plot(x, y, 'ro')\n",
    "        \n",
    "        #ax.annotate(str(node_id), (x, y), xytext=(0, -8),textcoords='offset points',va='top', ha='center')\n",
    "\n",
    "dend['node_id_to_coord'] = id_to_coord\n"
   ]
  },
  {
   "cell_type": "markdown",
   "metadata": {},
   "source": [
    "### Gene set enrichment\n",
    "Uses KEGG, Dicty and GO (only generic slims)."
   ]
  },
  {
   "cell_type": "code",
   "execution_count": 66,
   "metadata": {},
   "outputs": [],
   "source": [
    "gene_sets=list(list_all(organism='44689'))\n",
    "gene_sets_ontology=enr.get_gene_sets(gene_set_names=gene_sets, go_slims=True)"
   ]
  },
  {
   "cell_type": "code",
   "execution_count": 67,
   "metadata": {},
   "outputs": [],
   "source": [
    "all_gene_names=neighbour_calculator_all._genes.index\n",
    "name_EID=enr.name_genes_entrez(gene_names=all_gene_names, key_entrez=False)\n",
    "all_gene_names_EID=enr.convert_EID(genes=all_gene_names, name_EID=name_EID)"
   ]
  },
  {
   "cell_type": "code",
   "execution_count": 68,
   "metadata": {},
   "outputs": [],
   "source": [
    "enriched=dict()\n",
    "for name,neighbourhood in node_neighbourhoods.items():\n",
    "    query_EID=enr.convert_EID(genes=neighbourhood, name_EID=name_EID)\n",
    "    if len(query_EID) > 0:\n",
    "        enriched[name]=enr.gene_set_enrichment(query_EID, reference_EID=all_gene_names_EID, \n",
    "                                                padj_threshold=0.1,output='name_ontology',\n",
    "                                                gene_sets_ontology=gene_sets_ontology)"
   ]
  },
  {
   "cell_type": "code",
   "execution_count": 69,
   "metadata": {},
   "outputs": [],
   "source": [
    "\n",
    "parsed=[]\n",
    "for group,group_genes in node_neighbourhoods.items():\n",
    "    enriched_group=''\n",
    "    append_enriched=''\n",
    "    if group in enriched.keys():\n",
    "        enrichment_group=enriched[group]\n",
    "        if len(enrichment_group)>0:\n",
    "            if len(enrichment_group)>5:\n",
    "                append_enriched='\\n'+str(len(enrichment_group)-5)+' more'\n",
    "            enriched_group=ClusteringAnalyser.parse_enrichment_dict( \n",
    "                dict([(k[1][0][0]+k[1][1][0]+': '+ k[0], v) for k, v in sorted(enrichment_group.items(), key=lambda item: item[1])][:5]))\n",
    "    parsed.append({'Group':group,'N genes':len(group_genes),\n",
    "                   'Proportion unique genes':np.round(len(group_unique_genes.intersection(group_genes))/len(group_genes),2),\n",
    "                   'Enriched':enriched_group+append_enriched})\n",
    "parsed=pd.DataFrame(parsed)    "
   ]
  },
  {
   "cell_type": "markdown",
   "metadata": {},
   "source": [
    "Table legend:\n",
    "- Group: ID of group\n",
    "- N genes: N of genes in group\n",
    "- Proportion unique genes: Proptotion of genes in group that are not within any other group. Table is sorted based on this.\n",
    "- Enriched: Enriched gene sets. First component is ontology abbreviation  (DP - dictyBase Phenotypes, KP - KEGG Pathways, Gm - GO molecular function, Gc - GO cellular component, Gb - GO biological process), second component is gene set name and last component is FDR."
   ]
  },
  {
   "cell_type": "code",
   "execution_count": 70,
   "metadata": {},
   "outputs": [],
   "source": [
    "pd.options.display.latex.repr = True"
   ]
  },
  {
   "cell_type": "code",
   "execution_count": 71,
   "metadata": {},
   "outputs": [
    {
     "data": {
      "text/html": [
       "<table border=\"1\" class=\"dataframe\">\n",
       "  <thead>\n",
       "    <tr style=\"text-align: right;\">\n",
       "      <th>Group</th>\n",
       "      <th>N genes</th>\n",
       "      <th>Proportion unique genes</th>\n",
       "      <th>Enriched</th>\n",
       "    </tr>\n",
       "  </thead>\n",
       "  <tbody>\n",
       "    <tr>\n",
       "      <td>134</td>\n",
       "      <td>9</td>\n",
       "      <td>1.00</td>\n",
       "      <td>KP: Proteasome: 8.195E-23<br>Gm: peptidase activity: 2.003E-13<br>Gc: protein-containing complex: 1.288E-11<br>Gb: catabolic process: 1.070E-10<br>Gc: nucleus: 5.656E-08<br><br>7 more</td>\n",
       "    </tr>\n",
       "    <tr>\n",
       "      <td>70</td>\n",
       "      <td>7</td>\n",
       "      <td>1.00</td>\n",
       "      <td></td>\n",
       "    </tr>\n",
       "    <tr>\n",
       "      <td>42</td>\n",
       "      <td>7</td>\n",
       "      <td>1.00</td>\n",
       "      <td></td>\n",
       "    </tr>\n",
       "    <tr>\n",
       "      <td>133</td>\n",
       "      <td>8</td>\n",
       "      <td>0.75</td>\n",
       "      <td></td>\n",
       "    </tr>\n",
       "    <tr>\n",
       "      <td>19</td>\n",
       "      <td>7</td>\n",
       "      <td>0.71</td>\n",
       "      <td></td>\n",
       "    </tr>\n",
       "    <tr>\n",
       "      <td>150</td>\n",
       "      <td>12</td>\n",
       "      <td>0.67</td>\n",
       "      <td>Gb: anatomical structure development: 9.755E-02<br>DP: increased slug migration: 9.755E-02<br>DP: aberrant regulation of GTPase activity: 9.755E-02<br>DP: decreased basal F-actin level: 9.755E-02<br>DP: aberrant sorting to prestalk region: 9.755E-02<br></td>\n",
       "    </tr>\n",
       "    <tr>\n",
       "      <td>5</td>\n",
       "      <td>9</td>\n",
       "      <td>0.33</td>\n",
       "      <td></td>\n",
       "    </tr>\n",
       "    <tr>\n",
       "      <td>7</td>\n",
       "      <td>6</td>\n",
       "      <td>0.33</td>\n",
       "      <td>Gc: ribosome: 4.515E-12<br>Gm: structural constituent of ribosome: 1.192E-09<br>KP: Ribosome: 1.560E-09<br>Gm: structural molecule activity: 3.037E-09<br>Gc: protein-containing complex: 1.282E-07<br><br>19 more</td>\n",
       "    </tr>\n",
       "    <tr>\n",
       "      <td>153</td>\n",
       "      <td>18</td>\n",
       "      <td>0.33</td>\n",
       "      <td>Gb: extracellular matrix organization: 8.547E-02<br>DP: abolished cellulose biosynthesis: 8.547E-02<br>DP: aberrant stalk formation: 8.547E-02<br>DP: abolished stalk formation: 8.547E-02<br>Gc: extracellular matrix: 9.098E-02<br><br>1 more</td>\n",
       "    </tr>\n",
       "    <tr>\n",
       "      <td>64</td>\n",
       "      <td>6</td>\n",
       "      <td>0.33</td>\n",
       "      <td>Gc: ribosome: 1.615E-12<br>Gm: structural constituent of ribosome: 1.615E-12<br>KP: Ribosome: 1.615E-12<br>Gm: structural molecule activity: 3.833E-12<br>Gb: translation: 2.600E-11<br><br>17 more</td>\n",
       "    </tr>\n",
       "    <tr>\n",
       "      <td>149</td>\n",
       "      <td>13</td>\n",
       "      <td>0.23</td>\n",
       "      <td></td>\n",
       "    </tr>\n",
       "    <tr>\n",
       "      <td>76</td>\n",
       "      <td>9</td>\n",
       "      <td>0.22</td>\n",
       "      <td></td>\n",
       "    </tr>\n",
       "    <tr>\n",
       "      <td>121</td>\n",
       "      <td>17</td>\n",
       "      <td>0.18</td>\n",
       "      <td></td>\n",
       "    </tr>\n",
       "    <tr>\n",
       "      <td>148</td>\n",
       "      <td>11</td>\n",
       "      <td>0.18</td>\n",
       "      <td></td>\n",
       "    </tr>\n",
       "    <tr>\n",
       "      <td>94</td>\n",
       "      <td>6</td>\n",
       "      <td>0.17</td>\n",
       "      <td></td>\n",
       "    </tr>\n",
       "    <tr>\n",
       "      <td>60</td>\n",
       "      <td>6</td>\n",
       "      <td>0.17</td>\n",
       "      <td>KP: Starch and sucrose metabolism: 2.732E-03<br>DP: abolished stalk formation: 1.458E-02<br>DP: abolished cellulose biosynthesis: 1.822E-02<br>DP: aberrant stalk formation: 1.822E-02<br>DP: abolished stalk cell differentiation: 2.040E-02<br><br>11 more</td>\n",
       "    </tr>\n",
       "    <tr>\n",
       "      <td>123</td>\n",
       "      <td>19</td>\n",
       "      <td>0.16</td>\n",
       "      <td>DP: aberrant regulation of catalytic activity: 1.694E-02<br>DP: aberrant glycogen metabolism: 1.694E-02<br>DP: aberrant upper cup formation: 1.694E-02<br>DP: decreased cell fate commitment: 1.694E-02<br>DP: decreased cell fate determination: 1.694E-02<br><br>16 more</td>\n",
       "    </tr>\n",
       "    <tr>\n",
       "      <td>135</td>\n",
       "      <td>13</td>\n",
       "      <td>0.15</td>\n",
       "      <td>Gb: biological_process: 4.033E-02<br>Gc: plasma membrane: 4.033E-02<br>Gc: cellular_component: 4.033E-02<br>Gb: transmembrane transport: 7.107E-02<br>Gc: cell wall: 7.107E-02<br><br>3 more</td>\n",
       "    </tr>\n",
       "    <tr>\n",
       "      <td>4</td>\n",
       "      <td>7</td>\n",
       "      <td>0.14</td>\n",
       "      <td></td>\n",
       "    </tr>\n",
       "    <tr>\n",
       "      <td>159</td>\n",
       "      <td>14</td>\n",
       "      <td>0.14</td>\n",
       "      <td></td>\n",
       "    </tr>\n",
       "    <tr>\n",
       "      <td>47</td>\n",
       "      <td>7</td>\n",
       "      <td>0.14</td>\n",
       "      <td></td>\n",
       "    </tr>\n",
       "    <tr>\n",
       "      <td>28</td>\n",
       "      <td>7</td>\n",
       "      <td>0.14</td>\n",
       "      <td>DP: abolished cellulose binding: 2.155E-02<br>Gb: cell wall organization or biogenesis: 3.223E-02<br>Gc: cell wall: 3.223E-02<br>Gc: external encapsulating structure: 3.223E-02<br>DP: aberrant spore coat morphology: 3.223E-02<br></td>\n",
       "    </tr>\n",
       "    <tr>\n",
       "      <td>66</td>\n",
       "      <td>7</td>\n",
       "      <td>0.14</td>\n",
       "      <td>Gc: cell wall: 2.758E-02<br>Gc: extracellular space: 2.758E-02<br>Gc: extracellular region: 2.758E-02<br>Gc: external encapsulating structure: 2.758E-02<br>KP: Folate biosynthesis: 3.220E-02<br><br>3 more</td>\n",
       "    </tr>\n",
       "    <tr>\n",
       "      <td>143</td>\n",
       "      <td>8</td>\n",
       "      <td>0.12</td>\n",
       "      <td>Gm: structural constituent of ribosome: 1.013E-16<br>Gc: ribosome: 1.014E-16<br>KP: Ribosome: 1.014E-16<br>Gm: structural molecule activity: 3.590E-16<br>Gb: translation: 3.113E-12<br><br>20 more</td>\n",
       "    </tr>\n",
       "    <tr>\n",
       "      <td>67</td>\n",
       "      <td>8</td>\n",
       "      <td>0.12</td>\n",
       "      <td>DP: aberrant upper cup formation: 6.700E-03<br>DP: decreased cell fate commitment: 6.700E-03<br>DP: decreased cell fate determination: 6.700E-03<br>DP: increased stalk width: 1.505E-02<br>DP: increased number of aggregates: 1.505E-02<br><br>7 more</td>\n",
       "    </tr>\n",
       "    <tr>\n",
       "      <td>17</td>\n",
       "      <td>9</td>\n",
       "      <td>0.11</td>\n",
       "      <td>Gc: ribosome: 6.668E-19<br>KP: Ribosome: 6.668E-19<br>Gm: structural constituent of ribosome: 1.154E-13<br>Gm: structural molecule activity: 8.660E-13<br>Gb: translation: 8.410E-12<br><br>11 more</td>\n",
       "    </tr>\n",
       "    <tr>\n",
       "      <td>124</td>\n",
       "      <td>9</td>\n",
       "      <td>0.11</td>\n",
       "      <td>Gc: ribosome: 6.276E-19<br>KP: Ribosome: 6.276E-19<br>Gm: structural constituent of ribosome: 1.728E-16<br>Gm: structural molecule activity: 1.832E-15<br>Gb: translation: 2.580E-14<br><br>11 more</td>\n",
       "    </tr>\n",
       "    <tr>\n",
       "      <td>78</td>\n",
       "      <td>10</td>\n",
       "      <td>0.10</td>\n",
       "      <td>Gc: ribosome: 4.479E-21<br>KP: Ribosome: 4.479E-21<br>Gm: structural constituent of ribosome: 8.590E-16<br>Gm: structural molecule activity: 9.087E-15<br>Gb: translation: 1.275E-13<br><br>11 more</td>\n",
       "    </tr>\n",
       "    <tr>\n",
       "      <td>144</td>\n",
       "      <td>11</td>\n",
       "      <td>0.09</td>\n",
       "      <td>Gc: extracellular region: 7.250E-03<br>Gc: cell wall: 6.632E-02<br>Gc: extracellular space: 6.632E-02<br>Gc: external encapsulating structure: 6.632E-02<br>KP: Folate biosynthesis: 7.735E-02<br><br>1 more</td>\n",
       "    </tr>\n",
       "    <tr>\n",
       "      <td>49</td>\n",
       "      <td>11</td>\n",
       "      <td>0.09</td>\n",
       "      <td>Gm: structural constituent of ribosome: 1.610E-23<br>Gc: ribosome: 2.300E-23<br>KP: Ribosome: 2.502E-23<br>Gm: structural molecule activity: 1.637E-22<br>Gb: translation: 7.109E-21<br><br>12 more</td>\n",
       "    </tr>\n",
       "    <tr>\n",
       "      <td>83</td>\n",
       "      <td>12</td>\n",
       "      <td>0.08</td>\n",
       "      <td>DP: aberrant regulation of catalytic activity: 2.091E-02<br>DP: aberrant glycogen metabolism: 2.091E-02<br>Gb: generation of precursor metabolites and energy: 3.256E-02<br>Gb: carbohydrate metabolic process: 3.256E-02<br>Gb: biological_process: 3.408E-02<br><br>18 more</td>\n",
       "    </tr>\n",
       "    <tr>\n",
       "      <td>160</td>\n",
       "      <td>18</td>\n",
       "      <td>0.06</td>\n",
       "      <td>Gc: cell wall: 1.391E-13<br>Gc: external encapsulating structure: 1.391E-13<br>DP: aberrant spore coat morphology: 4.059E-11<br>Gb: anatomical structure formation involved in morphogenesis: 6.773E-11<br>Gb: cell wall organization or biogenesis: 9.210E-11<br><br>19 more</td>\n",
       "    </tr>\n",
       "    <tr>\n",
       "      <td>112</td>\n",
       "      <td>18</td>\n",
       "      <td>0.06</td>\n",
       "      <td>Gc: ribosome: 7.167E-35<br>KP: Ribosome: 7.848E-35<br>Gm: structural constituent of ribosome: 6.241E-30<br>Gm: structural molecule activity: 8.158E-28<br>Gb: translation: 1.631E-25<br><br>12 more</td>\n",
       "    </tr>\n",
       "    <tr>\n",
       "      <td>116</td>\n",
       "      <td>17</td>\n",
       "      <td>0.06</td>\n",
       "      <td>DP: aberrant regulation of catalytic activity: 8.266E-03<br>DP: aberrant glycogen metabolism: 8.266E-03<br>KP: Starch and sucrose metabolism: 8.266E-03<br></td>\n",
       "    </tr>\n",
       "    <tr>\n",
       "      <td>40</td>\n",
       "      <td>19</td>\n",
       "      <td>0.05</td>\n",
       "      <td>Gc: extracellular region: 1.235E-04<br>KP: Alanine: 1.059E-02<br>Gb: small molecule metabolic process: 6.855E-02<br>Gb: cellular amino acid metabolic process: 6.855E-02<br>Gc: cell wall: 6.855E-02<br><br>7 more</td>\n",
       "    </tr>\n",
       "    <tr>\n",
       "      <td>122</td>\n",
       "      <td>21</td>\n",
       "      <td>0.05</td>\n",
       "      <td>KP: Alanine: 2.937E-02<br>Gb: small molecule metabolic process: 3.724E-02<br>Gc: extracellular region: 3.724E-02<br>Gm: lyase activity: 3.972E-02<br>KP: Metabolic pathways: 3.972E-02<br><br>9 more</td>\n",
       "    </tr>\n",
       "    <tr>\n",
       "      <td>128</td>\n",
       "      <td>21</td>\n",
       "      <td>0.05</td>\n",
       "      <td>Gc: cell wall: 3.245E-05<br>Gc: external encapsulating structure: 3.245E-05<br>Gc: extracellular region: 2.353E-03<br>DP: aberrant spore coat morphology: 2.433E-03<br>Gb: anatomical structure formation involved in morphogenesis: 2.573E-03<br><br>28 more</td>\n",
       "    </tr>\n",
       "    <tr>\n",
       "      <td>74</td>\n",
       "      <td>19</td>\n",
       "      <td>0.05</td>\n",
       "      <td>KP: Ribosome: 1.122E-36<br>Gm: structural constituent of ribosome: 6.547E-35<br>Gc: ribosome: 2.354E-34<br>Gm: structural molecule activity: 1.220E-32<br>Gb: translation: 5.382E-30<br><br>15 more</td>\n",
       "    </tr>\n",
       "    <tr>\n",
       "      <td>72</td>\n",
       "      <td>23</td>\n",
       "      <td>0.04</td>\n",
       "      <td>DP: aberrant regulation of catalytic activity: 1.833E-02<br>DP: aberrant glycogen metabolism: 1.833E-02<br>DP: aberrant upper cup formation: 1.833E-02<br>DP: decreased cell fate commitment: 1.833E-02<br>DP: decreased cell fate determination: 1.833E-02<br><br>18 more</td>\n",
       "    </tr>\n",
       "    <tr>\n",
       "      <td>127</td>\n",
       "      <td>21</td>\n",
       "      <td>0.00</td>\n",
       "      <td>Gc: cell wall: 9.509E-08<br>Gc: external encapsulating structure: 9.509E-08<br>DP: aberrant spore coat morphology: 9.509E-08<br>Gb: cell wall organization or biogenesis: 1.359E-07<br>Gb: anatomical structure formation involved in morphogenesis: 1.660E-06<br><br>34 more</td>\n",
       "    </tr>\n",
       "    <tr>\n",
       "      <td>126</td>\n",
       "      <td>24</td>\n",
       "      <td>0.00</td>\n",
       "      <td>Gc: ribosome: 4.491E-48<br>KP: Ribosome: 6.760E-48<br>Gm: structural constituent of ribosome: 3.107E-46<br>Gm: structural molecule activity: 6.270E-43<br>Gb: translation: 2.101E-39<br><br>16 more</td>\n",
       "    </tr>\n",
       "    <tr>\n",
       "      <td>125</td>\n",
       "      <td>12</td>\n",
       "      <td>0.00</td>\n",
       "      <td>DP: aberrant regulation of catalytic activity: 6.646E-03<br>DP: aberrant glycogen metabolism: 6.646E-03<br>DP: aberrant upper cup formation: 6.646E-03<br>DP: decreased cell fate commitment: 6.646E-03<br>DP: decreased cell fate determination: 6.646E-03<br><br>9 more</td>\n",
       "    </tr>\n",
       "    <tr>\n",
       "      <td>142</td>\n",
       "      <td>16</td>\n",
       "      <td>0.00</td>\n",
       "      <td>Gb: carbohydrate metabolic process: 4.372E-03<br>DP: aberrant spore coat morphology: 4.372E-03<br>KP: Starch and sucrose metabolism: 1.219E-02<br>KP: Metabolic pathways: 1.416E-02<br>DP: abolished stalk formation: 2.422E-02<br><br>12 more</td>\n",
       "    </tr>\n",
       "    <tr>\n",
       "      <td>1</td>\n",
       "      <td>7</td>\n",
       "      <td>0.00</td>\n",
       "      <td></td>\n",
       "    </tr>\n",
       "    <tr>\n",
       "      <td>119</td>\n",
       "      <td>10</td>\n",
       "      <td>0.00</td>\n",
       "      <td>Gc: ribosome: 4.479E-21<br>KP: Ribosome: 4.479E-21<br>Gm: structural constituent of ribosome: 1.199E-18<br>Gm: structural molecule activity: 1.799E-17<br>Gb: translation: 3.673E-16<br><br>11 more</td>\n",
       "    </tr>\n",
       "    <tr>\n",
       "      <td>45</td>\n",
       "      <td>11</td>\n",
       "      <td>0.00</td>\n",
       "      <td>Gc: cell wall: 1.289E-03<br>Gc: external encapsulating structure: 1.289E-03<br>KP: Alanine: 2.775E-03<br>Gb: biological_process: 3.025E-03<br>Gc: extracellular region: 3.025E-03<br><br>25 more</td>\n",
       "    </tr>\n",
       "    <tr>\n",
       "      <td>11</td>\n",
       "      <td>9</td>\n",
       "      <td>0.00</td>\n",
       "      <td>Gc: ribosome: 1.118E-15<br>KP: Ribosome: 1.118E-15<br>Gm: structural constituent of ribosome: 1.562E-13<br>Gm: structural molecule activity: 1.172E-12<br>Gb: translation: 1.138E-11<br><br>12 more</td>\n",
       "    </tr>\n",
       "    <tr>\n",
       "      <td>13</td>\n",
       "      <td>7</td>\n",
       "      <td>0.00</td>\n",
       "      <td>Gc: ribosome: 1.266E-14<br>KP: Ribosome: 1.266E-14<br>Gm: structural constituent of ribosome: 3.524E-12<br>Gm: structural molecule activity: 1.886E-11<br>Gb: translation: 1.275E-10<br><br>11 more</td>\n",
       "    </tr>\n",
       "    <tr>\n",
       "      <td>18</td>\n",
       "      <td>7</td>\n",
       "      <td>0.00</td>\n",
       "      <td></td>\n",
       "    </tr>\n",
       "    <tr>\n",
       "      <td>21</td>\n",
       "      <td>9</td>\n",
       "      <td>0.00</td>\n",
       "      <td></td>\n",
       "    </tr>\n",
       "    <tr>\n",
       "      <td>30</td>\n",
       "      <td>21</td>\n",
       "      <td>0.00</td>\n",
       "      <td>Gc: ribosome: 4.654E-45<br>KP: Ribosome: 6.284E-45<br>Gm: structural constituent of ribosome: 1.341E-39<br>Gm: structural molecule activity: 8.142E-37<br>Gb: translation: 8.001E-34<br><br>13 more</td>\n",
       "    </tr>\n",
       "    <tr>\n",
       "      <td>39</td>\n",
       "      <td>15</td>\n",
       "      <td>0.00</td>\n",
       "      <td>Gc: cell wall: 2.260E-08<br>Gc: external encapsulating structure: 2.260E-08<br>DP: aberrant spore coat morphology: 4.765E-06<br>Gb: cell wall organization or biogenesis: 7.375E-06<br>Gb: anatomical structure formation involved in morphogenesis: 1.161E-05<br><br>25 more</td>\n",
       "    </tr>\n",
       "    <tr>\n",
       "      <td>44</td>\n",
       "      <td>25</td>\n",
       "      <td>0.00</td>\n",
       "      <td>Gc: ribosome: 2.659E-50<br>KP: Ribosome: 4.231E-50<br>Gm: structural constituent of ribosome: 1.727E-48<br>Gm: structural molecule activity: 5.257E-45<br>Gb: translation: 2.670E-41<br><br>16 more</td>\n",
       "    </tr>\n",
       "    <tr>\n",
       "      <td>50</td>\n",
       "      <td>22</td>\n",
       "      <td>0.00</td>\n",
       "      <td>KP: Ribosome: 3.298E-43<br>Gm: structural constituent of ribosome: 1.422E-41<br>Gc: ribosome: 7.175E-41<br>Gm: structural molecule activity: 8.550E-39<br>Gb: translation: 1.260E-35<br><br>15 more</td>\n",
       "    </tr>\n",
       "    <tr>\n",
       "      <td>115</td>\n",
       "      <td>20</td>\n",
       "      <td>0.00</td>\n",
       "      <td>Gc: cell wall: 3.018E-03<br>Gc: extracellular region: 3.018E-03<br>Gc: external encapsulating structure: 3.018E-03<br>KP: Alanine: 7.270E-03<br>Gb: small molecule metabolic process: 2.022E-02<br><br>17 more</td>\n",
       "    </tr>\n",
       "    <tr>\n",
       "      <td>56</td>\n",
       "      <td>17</td>\n",
       "      <td>0.00</td>\n",
       "      <td>Gc: cell wall: 3.384E-03<br>Gc: external encapsulating structure: 3.384E-03<br>KP: Alanine: 6.445E-03<br>KP: Glutathione metabolism: 6.445E-03<br>Gb: small molecule metabolic process: 1.003E-02<br><br>22 more</td>\n",
       "    </tr>\n",
       "    <tr>\n",
       "      <td>61</td>\n",
       "      <td>15</td>\n",
       "      <td>0.00</td>\n",
       "      <td>Gm: structural constituent of ribosome: 6.301E-29<br>Gc: ribosome: 1.229E-28<br>KP: Ribosome: 1.544E-28<br>Gm: structural molecule activity: 1.902E-27<br>Gb: translation: 2.596E-25<br><br>16 more</td>\n",
       "    </tr>\n",
       "    <tr>\n",
       "      <td>65</td>\n",
       "      <td>7</td>\n",
       "      <td>0.00</td>\n",
       "      <td>KP: Glutathione metabolism: 2.961E-03<br>DP: decreased spore viability: 8.367E-03<br>DP: abolished cellulose binding: 1.361E-02<br>KP: Taurine and hypotaurine metabolism: 2.550E-02<br>Gc: cell wall: 2.647E-02<br><br>13 more</td>\n",
       "    </tr>\n",
       "    <tr>\n",
       "      <td>88</td>\n",
       "      <td>6</td>\n",
       "      <td>0.00</td>\n",
       "      <td></td>\n",
       "    </tr>\n",
       "    <tr>\n",
       "      <td>93</td>\n",
       "      <td>8</td>\n",
       "      <td>0.00</td>\n",
       "      <td>Gm: structural constituent of ribosome: 6.877E-17<br>Gc: ribosome: 6.884E-17<br>KP: Ribosome: 6.884E-17<br>Gm: structural molecule activity: 2.436E-16<br>Gb: translation: 3.444E-15<br><br>13 more</td>\n",
       "    </tr>\n",
       "    <tr>\n",
       "      <td>98</td>\n",
       "      <td>7</td>\n",
       "      <td>0.00</td>\n",
       "      <td></td>\n",
       "    </tr>\n",
       "    <tr>\n",
       "      <td>109</td>\n",
       "      <td>27</td>\n",
       "      <td>0.00</td>\n",
       "      <td>Gc: cell wall: 7.111E-05<br>Gc: external encapsulating structure: 7.111E-05<br>Gc: extracellular region: 4.874E-03<br>DP: aberrant spore coat morphology: 4.874E-03<br>KP: Alanine: 1.225E-02<br><br>15 more</td>\n",
       "    </tr>\n",
       "    <tr>\n",
       "      <td>164</td>\n",
       "      <td>12</td>\n",
       "      <td>0.00</td>\n",
       "      <td>Gc: cell wall: 6.275E-04<br>Gc: external encapsulating structure: 6.275E-04<br>DP: aberrant spore coat morphology: 6.275E-04<br>Gb: cell wall organization or biogenesis: 6.328E-04<br>Gb: anatomical structure formation involved in morphogenesis: 1.051E-02<br><br>11 more</td>\n",
       "    </tr>\n",
       "  </tbody>\n",
       "</table>"
      ],
      "text/plain": [
       "<IPython.core.display.HTML object>"
      ]
     },
     "metadata": {},
     "output_type": "display_data"
    }
   ],
   "source": [
    "jf.display_newline_df(parsed.sort_values('Proportion unique genes',ascending=False))"
   ]
  },
  {
   "cell_type": "code",
   "execution_count": 72,
   "metadata": {},
   "outputs": [],
   "source": [
    "# Save result for Orange\n",
    "NeighbourhoodParser.parse_orange(node_neighbourhoods).to_csv(\n",
    "    path_neighbours+'_sim'+str(SIM)+'_minkN'+str(MIN_NEIGH)+'_neighbourhoods.tsv',\n",
    "                                        sep='\\t',index=False)\n",
    "pd.DataFrame(neighbourhood_genes,columns=['Gene']).to_csv(\n",
    "    path_neighbours+'_sim'+str(SIM)+'_minkN'+str(MIN_NEIGH)+'_neighbourhood_genes.tsv',\n",
    "                                        sep='\\t',index=False)"
   ]
  }
 ],
 "metadata": {
  "kernelspec": {
   "display_name": "Python 3",
   "language": "python",
   "name": "python3"
  },
  "language_info": {
   "codemirror_mode": {
    "name": "ipython",
    "version": 3
   },
   "file_extension": ".py",
   "mimetype": "text/x-python",
   "name": "python",
   "nbconvert_exporter": "python",
   "pygments_lexer": "ipython3",
   "version": "3.6.8"
  }
 },
 "nbformat": 4,
 "nbformat_minor": 2
}
