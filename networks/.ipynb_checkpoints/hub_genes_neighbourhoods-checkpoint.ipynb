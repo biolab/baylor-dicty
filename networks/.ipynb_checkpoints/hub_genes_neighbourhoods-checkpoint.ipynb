{
 "cells": [
  {
   "cell_type": "code",
   "execution_count": 62,
   "metadata": {},
   "outputs": [],
   "source": [
    "import os\n",
    "import sys\n",
    "from importlib import reload\n",
    "\n",
    "module_path = os.path.abspath(os.path.join('..'))\n",
    "if module_path not in sys.path:\n",
    "    sys.path.insert(0,module_path)\n",
    "\n",
    "import pandas as pd\n",
    "import matplotlib.pyplot as plt\n",
    "import altair as alt\n",
    "alt.renderers.enable('notebook')\n",
    "from IPython.display import display\n",
    "from sklearn.metrics.pairwise import cosine_similarity\n",
    "from collections import Counter\n",
    "\n",
    "from orangecontrib.bioinformatics.geneset.__init__ import list_all\n",
    "\n",
    "import library_regulons\n",
    "reload(library_regulons)\n",
    "from library_regulons import *\n",
    "import jupyter_functions as jf\n",
    "reload(jf)\n",
    "import jupyter_functions as jf\n",
    "from functionsDENet import loadPickle, savePickle\n",
    "import deR.enrichment_library as enr\n",
    "reload(enr)\n",
    "import deR.enrichment_library as enr"
   ]
  },
  {
   "cell_type": "code",
   "execution_count": 2,
   "metadata": {},
   "outputs": [],
   "source": [
    "dataPath=module_path+'/data_expression/'\n",
    "genes = pd.read_csv(dataPath + 'mergedGenes_RPKUM.tsv', sep='\\t', index_col=0)\n",
    "conditions = pd.read_csv(dataPath + 'conditions_mergedGenes.tsv', sep='\\t', index_col=None)"
   ]
  },
  {
   "cell_type": "code",
   "execution_count": 3,
   "metadata": {},
   "outputs": [],
   "source": [
    "neighbour_calculator_all = NeighbourCalculator(genes=genes)\n"
   ]
  },
  {
   "cell_type": "markdown",
   "metadata": {},
   "source": [
    "# Selection of hub genes and their neighbourhoods\n",
    "Select genes that have at least MIN_NEIGH number of neighbours with similarity at least SIM. For these genes calculate 100 closest neighbours and retain those with similarity at least SIM - termed neighbourhoods."
   ]
  },
  {
   "cell_type": "code",
   "execution_count": 4,
   "metadata": {},
   "outputs": [],
   "source": [
    "SCALE = 'mean0std1'\n",
    "LOG = True\n",
    "#If hubs were filtered retain that many top ones\n",
    "NHUBS = 500\n",
    "#How many neighbours to initially calculate to get hubs, must be at least MIN_NEIGH+1 if non-opposite profiles\n",
    "NEIGH_HUBS=6\n",
    "#Similarity threshold for neighbours to hub\n",
    "SIM=0.95\n",
    "#Min neighbours a hub must have\n",
    "MIN_NEIGH=5"
   ]
  },
  {
   "cell_type": "code",
   "execution_count": 5,
   "metadata": {},
   "outputs": [],
   "source": [
    "path_neighbours='/home/karin/Documents/timeTrajectories/data/regulons/clusters/merge_similarity/kN6_m0s1log'"
   ]
  },
  {
   "cell_type": "code",
   "execution_count": 6,
   "metadata": {},
   "outputs": [],
   "source": [
    "neigh_all, sims_all=loadPickle(path_neighbours+'_neighbours_sims.pkl')"
   ]
  },
  {
   "cell_type": "markdown",
   "metadata": {},
   "source": [
    "How many hub genes would we get with different thresholds for number of neighbours a hub must have and their similarity."
   ]
  },
  {
   "cell_type": "code",
   "execution_count": 7,
   "metadata": {},
   "outputs": [
    {
     "name": "stdout",
     "output_type": "stream",
     "text": [
      "Similarity threhold: 0.97, min neighbours: 5, selected genes: 46\n",
      "Similarity threhold: 0.97, min neighbours: 3, selected genes: 96\n",
      "Similarity threhold: 0.96, min neighbours: 5, selected genes: 166\n",
      "Similarity threhold: 0.96, min neighbours: 3, selected genes: 240\n",
      "Similarity threhold: 0.95, min neighbours: 5, selected genes: 338\n",
      "Similarity threhold: 0.95, min neighbours: 3, selected genes: 465\n"
     ]
    }
   ],
   "source": [
    "print('Similarity threhold: 0.97, min neighbours: 5, selected genes:',len(NeighbourCalculator.filter_distances_matrix(similarities=sims_all, \n",
    "                                                            similarity_threshold=0.97,\n",
    "                                                                 min_neighbours=5)))\n",
    "print('Similarity threhold: 0.97, min neighbours: 3, selected genes:',len(NeighbourCalculator.filter_distances_matrix(similarities=sims_all, \n",
    "                                                            similarity_threshold=0.97,\n",
    "                                                                 min_neighbours=3)))\n",
    "print('Similarity threhold: 0.96, min neighbours: 5, selected genes:',len(NeighbourCalculator.filter_distances_matrix(similarities=sims_all, \n",
    "                                                            similarity_threshold=0.96,\n",
    "                                                                 min_neighbours=5)))\n",
    "print('Similarity threhold: 0.96, min neighbours: 3, selected genes:',len(NeighbourCalculator.filter_distances_matrix(similarities=sims_all, \n",
    "                                                            similarity_threshold=0.96,\n",
    "                                                                 min_neighbours=3)))\n",
    "print('Similarity threhold: 0.95, min neighbours: 5, selected genes:',len(NeighbourCalculator.filter_distances_matrix(similarities=sims_all, \n",
    "                                                            similarity_threshold=0.95,\n",
    "                                                                 min_neighbours=5)))\n",
    "print('Similarity threhold: 0.95, min neighbours: 3, selected genes:',len(NeighbourCalculator.filter_distances_matrix(similarities=sims_all, \n",
    "                                                            similarity_threshold=0.95,\n",
    "                                                                 min_neighbours=3)))\n"
   ]
  },
  {
   "cell_type": "code",
   "execution_count": 8,
   "metadata": {},
   "outputs": [],
   "source": [
    "hubs_all= NeighbourCalculator.filter_distances_matrix(similarities=sims_all, similarity_threshold=SIM,\n",
    "                                                                 min_neighbours=MIN_NEIGH)\n",
    "#hubs_all = NeighbourCalculator.find_hubs(similarities=sims_all.loc[hubs_all, :], n_hubs=NHUBS)"
   ]
  },
  {
   "cell_type": "code",
   "execution_count": 9,
   "metadata": {},
   "outputs": [
    {
     "name": "stderr",
     "output_type": "stream",
     "text": [
      "/home/karin/Documents/git/orange3venv/lib/python3.6/site-packages/numba/ir_utils.py:1959: NumbaPendingDeprecationWarning: \n",
      "Encountered the use of a type that is scheduled for deprecation: type 'reflected list' found for argument 'forest' of function 'initialise_search'.\n",
      "\n",
      "For more information visit http://numba.pydata.org/numba-doc/latest/reference/deprecation.html#deprecation-of-reflection-for-list-and-set-types\n",
      "\n",
      "File \"../../orange3venv/lib/python3.6/site-packages/pynndescent/pynndescent_.py\", line 72:\n",
      "@numba.njit()\n",
      "def initialise_search(\n",
      "^\n",
      "\n",
      "  warnings.warn(NumbaPendingDeprecationWarning(msg, loc=loc))\n"
     ]
    }
   ],
   "source": [
    "neigh_hubs, sims_hubs = neighbour_calculator_all.neighbours(n_neighbours=100, inverse=False, scale=SCALE,\n",
    "                                                            log=LOG,\n",
    "                                                            return_neigh_dist=True, genes_query_names=hubs_all)"
   ]
  },
  {
   "cell_type": "code",
   "execution_count": 10,
   "metadata": {},
   "outputs": [],
   "source": [
    "neighbourhoods = NeighbourCalculator.hub_neighbours(neighbours=neigh_hubs, similarities=sims_hubs,\n",
    "                                                    similarity_threshold=SIM)"
   ]
  },
  {
   "cell_type": "markdown",
   "metadata": {},
   "source": [
    "# Characteristics of hub neighbourhoods\n",
    "Remove duplicated neighbourhoods and those that are contained within other neighbourhoods."
   ]
  },
  {
   "cell_type": "markdown",
   "metadata": {},
   "source": [
    "Distribution of neighbourhood sizes at start - directly from hub genes, which are added to their own neighbourhood."
   ]
  },
  {
   "cell_type": "code",
   "execution_count": 11,
   "metadata": {},
   "outputs": [
    {
     "name": "stdout",
     "output_type": "stream",
     "text": [
      "N neighbourhoods at start: 338\n",
      "Smallest neighbourhood: 6 , largest: 56\n"
     ]
    },
    {
     "data": {
      "image/png": "[encoded data removed]",
      "text/plain": [
       "<Figure size 432x288 with 1 Axes>"
      ]
     },
     "metadata": {
      "needs_background": "light"
     },
     "output_type": "display_data"
    }
   ],
   "source": [
    "# Add hub to neighbourhood\n",
    "neighbourhoods_merged=NeighbourhoodParser.add_hub_to_neigh(neighbourhoods=neighbourhoods)\n",
    "print('N neighbourhoods at start:',len(neighbourhoods_merged))\n",
    "NeighbourhoodParser.plot_size_distn_neighbourhoods(neighbourhoods_merged)"
   ]
  },
  {
   "cell_type": "code",
   "execution_count": 12,
   "metadata": {},
   "outputs": [
    {
     "name": "stdout",
     "output_type": "stream",
     "text": [
      "N neighbourhoods after removing repeated (identical) neighbourhoods: 328\n"
     ]
    }
   ],
   "source": [
    "# Remove repeated neighborhoods\n",
    "neighbourhoods_merged =NeighbourhoodParser.remove_repeated(neighbourhoods_merged)\n",
    "print('N neighbourhoods after removing repeated (identical) neighbourhoods:',len(neighbourhoods_merged))\n",
    "#plot_size_distn_neighbourhoods(neighbourhoods_merged)"
   ]
  },
  {
   "cell_type": "code",
   "execution_count": 13,
   "metadata": {},
   "outputs": [
    {
     "name": "stdout",
     "output_type": "stream",
     "text": [
      "N neighbourhoods after removing contained neighbourhoods: 242\n",
      "Smallest neighbourhood: 6 , largest: 56\n"
     ]
    },
    {
     "data": {
      "image/png": "[encoded data removed]",
      "text/plain": [
       "<Figure size 432x288 with 1 Axes>"
      ]
     },
     "metadata": {
      "needs_background": "light"
     },
     "output_type": "display_data"
    }
   ],
   "source": [
    "# Remove contained neighbourhoods. Assumes neighbourhoods are unique.\n",
    "neighbourhoods_merged=NeighbourhoodParser.remove_contained(neighbourhoods_merged)\n",
    "print('N neighbourhoods after removing contained neighbourhoods:',len(neighbourhoods_merged))\n",
    "NeighbourhoodParser.plot_size_distn_neighbourhoods(neighbourhoods_merged)"
   ]
  },
  {
   "cell_type": "code",
   "execution_count": 14,
   "metadata": {},
   "outputs": [
    {
     "name": "stdout",
     "output_type": "stream",
     "text": [
      "N genes in neighbourhoods 574\n"
     ]
    }
   ],
   "source": [
    "neighbourhood_genes = list({gene for neigh_list in neighbourhoods_merged for gene in neigh_list})\n",
    "print('N genes in neighbourhoods',len(neighbourhood_genes))"
   ]
  },
  {
   "cell_type": "code",
   "execution_count": 15,
   "metadata": {},
   "outputs": [],
   "source": [
    "# Calculate cosine similarity between genes for later\n",
    "genes_normalised = NeighbourCalculator.get_index_query(genes=genes.loc[neighbourhood_genes, :], inverse=False,\n",
    "                                                       scale=SCALE, log=LOG)[0]\n",
    "genes_cosine = pd.DataFrame(cosine_similarity(genes_normalised), index=neighbourhood_genes, columns=neighbourhood_genes)"
   ]
  },
  {
   "cell_type": "code",
   "execution_count": 16,
   "metadata": {},
   "outputs": [
    {
     "data": {
      "image/png": "[encoded data removed]",
      "text/plain": [
       "<Figure size 432x288 with 1 Axes>"
      ]
     },
     "metadata": {
      "needs_background": "light"
     },
     "output_type": "display_data"
    }
   ],
   "source": [
    "#Jaccard similarity\n",
    "dist_arr_jaccard=NeighbourhoodParser.neighbourhood_distances(neighbourhoods=neighbourhoods_merged,\n",
    "                                                    measure='jaccard')[0]\n",
    "\n",
    "plt.hist(1-dist_arr_jaccard,bins=20)\n",
    "plt.xlabel('Jaccard similarity between neighbourhoods')\n",
    "plt.ylabel('Neighbourhoods pairs')\n",
    "plt.yscale('log')"
   ]
  },
  {
   "cell_type": "markdown",
   "metadata": {},
   "source": [
    "# Merge neighbourhoods\n",
    "Merged if minimal similarity in the new neighbourhood is above some threshold. Merging is done based on the order of hierarchical clustering. Hierarchical clustering is currently based on percent of genes of smaller group that are within larger group."
   ]
  },
  {
   "cell_type": "code",
   "execution_count": 17,
   "metadata": {},
   "outputs": [],
   "source": [
    "# Distances between neighbourhoods\n",
    "#For merging - proportion of genes from the smaller group contained in the larger group from a pair\n",
    "dist_arr,node_neighbourhoods=NeighbourhoodParser.neighbourhood_distances(neighbourhoods=neighbourhoods_merged,\n",
    "                                                    measure='percent_shared_smaller')"
   ]
  },
  {
   "cell_type": "code",
   "execution_count": 18,
   "metadata": {},
   "outputs": [],
   "source": [
    "neigh_hc = hc.ward(dist_arr)"
   ]
  },
  {
   "cell_type": "code",
   "execution_count": 19,
   "metadata": {},
   "outputs": [
    {
     "name": "stdout",
     "output_type": "stream",
     "text": [
      "Min similarity in any group before merging: 0.851\n"
     ]
    }
   ],
   "source": [
    "min_neighbourhood_similarity=NeighbourhoodParser.min_neighbourhood_similarity(neighbourhoods,genes_sims=genes_cosine)\n",
    "print('Min similarity in any group before merging:',np.round(min_neighbourhood_similarity,3))"
   ]
  },
  {
   "cell_type": "code",
   "execution_count": 20,
   "metadata": {},
   "outputs": [],
   "source": [
    "node_neighbourhoods=NeighbourhoodParser.merge_by_hc(hc_result=neigh_hc,node_neighbourhoods=node_neighbourhoods,\n",
    "                                                    genes_sims=genes_cosine,\n",
    "                                                    min_group_sim=min_neighbourhood_similarity)"
   ]
  },
  {
   "cell_type": "code",
   "execution_count": 21,
   "metadata": {},
   "outputs": [
    {
     "name": "stdout",
     "output_type": "stream",
     "text": [
      "N merged neighbourhoods 95\n",
      "Smallest neighbourhood: 6 , largest: 63\n"
     ]
    },
    {
     "data": {
      "image/png": "[encoded data removed]",
      "text/plain": [
       "<Figure size 432x288 with 1 Axes>"
      ]
     },
     "metadata": {
      "needs_background": "light"
     },
     "output_type": "display_data"
    }
   ],
   "source": [
    "print('N merged neighbourhoods',len(node_neighbourhoods))\n",
    "NeighbourhoodParser.plot_size_distn_neighbourhoods(list(node_neighbourhoods.values()))"
   ]
  },
  {
   "cell_type": "code",
   "execution_count": 22,
   "metadata": {},
   "outputs": [
    {
     "data": {
      "image/png": "[encoded data removed]",
      "text/plain": [
       "<Figure size 432x288 with 1 Axes>"
      ]
     },
     "metadata": {
      "needs_background": "light"
     },
     "output_type": "display_data"
    }
   ],
   "source": [
    "dist_arr_jaccard_merged=NeighbourhoodParser.neighbourhood_distances(neighbourhoods=list(node_neighbourhoods.values()),\n",
    "                                                    measure='jaccard')[0]\n",
    "plt.hist(1-dist_arr_jaccard_merged,bins=20)\n",
    "plt.xlabel('Jaccard similarity between merged neighbourhoods')\n",
    "plt.ylabel('Neighbourhoods pairs')\n",
    "plt.yscale('log')"
   ]
  },
  {
   "cell_type": "markdown",
   "metadata": {},
   "source": [
    "Above shown jaccard similarities are for all neighbourhood pairs. Distribution of similarities to the closest neighbourhood is shifted to higher similarities (below)."
   ]
  },
  {
   "cell_type": "code",
   "execution_count": 23,
   "metadata": {},
   "outputs": [
    {
     "data": {
      "text/plain": [
       "Text(0, 0.5, 'N neighbourhoods')"
      ]
     },
     "execution_count": 23,
     "metadata": {},
     "output_type": "execute_result"
    },
    {
     "data": {
      "image/png": "[encoded data removed]",
      "text/plain": [
       "<Figure size 432x288 with 1 Axes>"
      ]
     },
     "metadata": {
      "needs_background": "light"
     },
     "output_type": "display_data"
    }
   ],
   "source": [
    "idx=np.triu_indices(len(node_neighbourhoods),k=1)\n",
    "group_names=list(node_neighbourhoods.keys())\n",
    "dist_arr_jaccard_merged_df=pd.DataFrame(index=group_names,columns=group_names)\n",
    "for sim,j,i in zip(1-dist_arr_jaccard_merged,idx[0],idx[1]):\n",
    "    j=group_names[j]\n",
    "    i=group_names[i]\n",
    "    dist_arr_jaccard_merged_df.loc[j,i]=sim\n",
    "    dist_arr_jaccard_merged_df.loc[i,j]=sim\n",
    "plt.hist(dist_arr_jaccard_merged_df.max(),bins=20)\n",
    "plt.xlabel('Jaccard similarity to the closest neighbourhood')\n",
    "plt.ylabel('N neighbourhoods')"
   ]
  },
  {
   "cell_type": "markdown",
   "metadata": {},
   "source": [
    "In how many neighbourhoods is each gene present"
   ]
  },
  {
   "cell_type": "code",
   "execution_count": 24,
   "metadata": {},
   "outputs": [
    {
     "data": {
      "image/png": "[encoded data removed]",
      "text/plain": [
       "<Figure size 432x288 with 1 Axes>"
      ]
     },
     "metadata": {
      "needs_background": "light"
     },
     "output_type": "display_data"
    }
   ],
   "source": [
    "# How many times does each gene occur in clusters\n",
    "gene_occurence=Counter(gene for neighbourhood in node_neighbourhoods.values() for gene in neighbourhood)\n",
    "gene_counts=gene_occurence.values()\n",
    "plt.hist(gene_counts,bins=max(gene_counts))\n",
    "plt.xlabel('N times a gene occurs in a neighbourhood')\n",
    "plt.ylabel('N genes')\n",
    "group_unique_genes={gene for gene,count in gene_occurence.items() if count==1}"
   ]
  },
  {
   "cell_type": "markdown",
   "metadata": {},
   "source": [
    "Dendrogram for ordering of neighbourhood merging. Neighbourhood nodes that were merged are marked with red dots. The above count of groups consists of both merged (red dots) and unmerged (leaf nodes without red dot above) groups. The hierarchical clustering is based on percent of genes of smaller group that are contained in larger group."
   ]
  },
  {
   "cell_type": "code",
   "execution_count": 25,
   "metadata": {},
   "outputs": [
    {
     "data": {
      "image/png": "[encoded data removed]",
      "text/plain": [
       "<Figure size 1440x720 with 1 Axes>"
      ]
     },
     "metadata": {
      "needs_background": "light"
     },
     "output_type": "display_data"
    }
   ],
   "source": [
    "#From: https://stackoverflow.com/questions/43513698/relation-between-dendrogram-plot-coordinates-and-clusternodes-in-scipy\n",
    "plt.figure(figsize=(20,10))\n",
    "dend=hc.dendrogram(neigh_hc,color_threshold=0,no_labels=True)\n",
    "def flatten(l):\n",
    "    return [item for sublist in l for item in sublist]\n",
    "X = flatten(dend['icoord'])\n",
    "Y = flatten(dend['dcoord'])\n",
    "leave_coords = [(x,y) for x,y in zip(X,Y) if y==0]\n",
    "\n",
    "# in the dendogram data structure,\n",
    "# leave ids are listed in ascending order according to their x-coordinate\n",
    "order = np.argsort([x for x,y in leave_coords])\n",
    "id_to_coord = dict(zip(dend['leaves'], [leave_coords[idx] for idx in order])) # <- main data structure\n",
    "\n",
    "# map endpoint of each link to coordinates of parent node\n",
    "children_to_parent_coords = dict()\n",
    "for i, d in zip(dend['icoord'], dend['dcoord']):\n",
    "    x = (i[1] + i[2]) / 2\n",
    "    y = d[1] # or d[2]\n",
    "    parent_coord = (x, y)\n",
    "    left_coord = (i[0], d[0])\n",
    "    right_coord = (i[-1], d[-1])\n",
    "    children_to_parent_coords[(left_coord, right_coord)] = parent_coord\n",
    "\n",
    "# traverse tree from leaves upwards and populate mapping ID -> (x,y)\n",
    "root_node, node_list = hc.to_tree(neigh_hc, rd=True)\n",
    "ids_left = range(len(dend['leaves']), len(node_list))\n",
    "\n",
    "while len(ids_left) > 0:\n",
    "\n",
    "    for ii, node_id in enumerate(ids_left):\n",
    "        node = node_list[node_id]\n",
    "        if (node.left.id in id_to_coord) and (node.right.id in id_to_coord):\n",
    "            left_coord = id_to_coord[node.left.id]\n",
    "            right_coord = id_to_coord[node.right.id]\n",
    "            id_to_coord[node_id] = children_to_parent_coords[(left_coord, right_coord)]\n",
    "\n",
    "    ids_left = [node_id for node_id in range(len(node_list)) if not node_id in id_to_coord]\n",
    "\n",
    "# plot result on top of dendrogram\n",
    "ax = plt.gca()\n",
    "for node_id, (x, y) in id_to_coord.items():\n",
    "    if not node_list[node_id].is_leaf():\n",
    "        if node_id in node_neighbourhoods.keys():\n",
    "            ax.plot(x, y, 'ro')\n",
    "        \n",
    "        #ax.annotate(str(node_id), (x, y), xytext=(0, -8),textcoords='offset points',va='top', ha='center')\n",
    "\n",
    "dend['node_id_to_coord'] = id_to_coord\n"
   ]
  },
  {
   "cell_type": "markdown",
   "metadata": {},
   "source": [
    "### Gene set enrichment"
   ]
  },
  {
   "cell_type": "code",
   "execution_count": 26,
   "metadata": {},
   "outputs": [],
   "source": [
    "gene_sets=list(list_all(organism='44689'))\n",
    "gene_sets_ontology=enr.get_gene_sets(gene_set_names=gene_sets, go_slims=True)"
   ]
  },
  {
   "cell_type": "code",
   "execution_count": 27,
   "metadata": {},
   "outputs": [],
   "source": [
    "all_gene_names=neighbour_calculator_all._genes.index\n",
    "name_EID=enr.name_genes_entrez(gene_names=all_gene_names, key_entrez=False)\n",
    "all_gene_names_EID=enr.convert_EID(genes=all_gene_names, name_EID=name_EID)"
   ]
  },
  {
   "cell_type": "code",
   "execution_count": 63,
   "metadata": {},
   "outputs": [],
   "source": [
    "enriched=dict()\n",
    "for name,neighbourhood in node_neighbourhoods.items():\n",
    "    query_EID=enr.convert_EID(genes=neighbourhood, name_EID=name_EID)\n",
    "    if len(query_EID) > 0:\n",
    "        enriched[name]=enr.gene_set_enrichment(query_EID, reference_EID=all_gene_names_EID, \n",
    "                                                padj_threshold=0.1,output='name_ontology',\n",
    "                                                gene_sets_ontology=gene_sets_ontology)"
   ]
  },
  {
   "cell_type": "code",
   "execution_count": 70,
   "metadata": {},
   "outputs": [],
   "source": [
    "\n",
    "parsed=[]\n",
    "for group,group_genes in node_neighbourhoods.items():\n",
    "    if group in enriched.keys():\n",
    "        enrichment_group=enriched[group]\n",
    "        if len(enrichment_group)>0:\n",
    "            append_enriched=''\n",
    "            if len(enrichment_group)>5:\n",
    "                append_enriched='\\n'+str(len(enrichment_group)-5)+' more'\n",
    "            enriched_group=ClusteringAnalyser.parse_enrichment_dict( \n",
    "                dict([(k[1][0][0]+k[1][1][0]+': '+ k[0], v) for k, v in sorted(enrichment_group.items(), key=lambda item: item[1])][:5]))\n",
    "    else:\n",
    "        enriched_group=''\n",
    "        append_enriched=''\n",
    "    parsed.append({'Group':group,'N genes':len(group_genes),\n",
    "                   'Proportion unique genes':np.round(len(group_unique_genes.intersection(group_genes))/len(group_genes),2),\n",
    "                   'Enriched':enriched_group+append_enriched})\n",
    "parsed=pd.DataFrame(parsed)    "
   ]
  },
  {
   "cell_type": "code",
   "execution_count": 71,
   "metadata": {},
   "outputs": [
    {
     "data": {
      "text/html": [
       "<table border=\"1\" class=\"dataframe\">\n",
       "  <thead>\n",
       "    <tr style=\"text-align: right;\">\n",
       "      <th>Group</th>\n",
       "      <th>N genes</th>\n",
       "      <th>Proportion unique genes</th>\n",
       "      <th>Enriched</th>\n",
       "    </tr>\n",
       "  </thead>\n",
       "  <tbody>\n",
       "    <tr>\n",
       "      <td>102</td>\n",
       "      <td>7</td>\n",
       "      <td>1.00</td>\n",
       "      <td>KP: Ribosome: 2.702E-55<br>Gc: ribosome: 5.888E-53<br>Gm: structural constituent of ribosome: 3.345E-51<br>Gm: structural molecule activity: 2.342E-47<br>Gb: translation: 2.741E-43<br><br>17 more</td>\n",
       "    </tr>\n",
       "    <tr>\n",
       "      <td>302</td>\n",
       "      <td>9</td>\n",
       "      <td>1.00</td>\n",
       "      <td>Gb: chromosome segregation: 6.743E-06<br>Gb: cell division: 1.347E-05<br>Gb: cell cycle: 4.087E-05<br>Gc: chromosome: 1.110E-04<br>Gb: mitotic nuclear division: 2.551E-04<br><br>18 more</td>\n",
       "    </tr>\n",
       "    <tr>\n",
       "      <td>407</td>\n",
       "      <td>18</td>\n",
       "      <td>1.00</td>\n",
       "      <td></td>\n",
       "    </tr>\n",
       "    <tr>\n",
       "      <td>371</td>\n",
       "      <td>11</td>\n",
       "      <td>1.00</td>\n",
       "      <td>KP: Alanine: 9.898E-02<br></td>\n",
       "    </tr>\n",
       "    <tr>\n",
       "      <td>422</td>\n",
       "      <td>15</td>\n",
       "      <td>0.80</td>\n",
       "      <td>DP: aberrant regulation of catalytic activity: 5.469E-02<br>DP: aberrant glycogen metabolism: 5.469E-02<br>KP: Starch and sucrose metabolism: 5.469E-02<br>Gb: signal transduction: 5.469E-02<br></td>\n",
       "    </tr>\n",
       "    <tr>\n",
       "      <td>390</td>\n",
       "      <td>14</td>\n",
       "      <td>0.79</td>\n",
       "      <td>KP: Proteasome: 3.937E-36<br>Gb: catabolic process: 1.511E-18<br>Gc: protein-containing complex: 5.859E-18<br>Gm: peptidase activity: 6.460E-14<br>Gc: nucleus: 3.628E-12<br><br>7 more</td>\n",
       "    </tr>\n",
       "    <tr>\n",
       "      <td>379</td>\n",
       "      <td>25</td>\n",
       "      <td>0.68</td>\n",
       "      <td>KP: Ribosome biogenesis in eukaryotes: 1.559E-11<br>Gc: nucleolus: 5.588E-03<br>KP: RNA polymerase: 1.072E-02<br>Gm: RNA binding: 2.646E-02<br>Gm: helicase activity: 2.646E-02<br><br>1 more</td>\n",
       "    </tr>\n",
       "    <tr>\n",
       "      <td>366</td>\n",
       "      <td>9</td>\n",
       "      <td>0.67</td>\n",
       "      <td>KP: Proteasome: 1.225E-22<br>Gc: protein-containing complex: 2.888E-11<br>Gc: intracellular: 1.991E-07<br>Gc: cell: 3.275E-07<br>Gm: molecular_function: 4.322E-05<br><br>5 more</td>\n",
       "    </tr>\n",
       "    <tr>\n",
       "      <td>412</td>\n",
       "      <td>12</td>\n",
       "      <td>0.58</td>\n",
       "      <td>Gc: mitochondrion: 2.866E-02<br>KP: Fatty acid biosynthesis: 9.303E-02<br></td>\n",
       "    </tr>\n",
       "    <tr>\n",
       "      <td>358</td>\n",
       "      <td>15</td>\n",
       "      <td>0.53</td>\n",
       "      <td>Gc: extracellular region: 6.689E-03<br></td>\n",
       "    </tr>\n",
       "    <tr>\n",
       "      <td>221</td>\n",
       "      <td>6</td>\n",
       "      <td>0.50</td>\n",
       "      <td>Gm: structural constituent of ribosome: 1.010E-16<br>KP: Ribosome: 1.011E-16<br>Gc: ribosome: 1.011E-16<br>Gm: structural molecule activity: 3.578E-16<br>Gb: translation: 3.104E-12<br><br>20 more</td>\n",
       "    </tr>\n",
       "    <tr>\n",
       "      <td>99</td>\n",
       "      <td>6</td>\n",
       "      <td>0.50</td>\n",
       "      <td>KP: Ribosome: 2.702E-55<br>Gc: ribosome: 5.888E-53<br>Gm: structural constituent of ribosome: 3.345E-51<br>Gm: structural molecule activity: 2.342E-47<br>Gb: translation: 2.741E-43<br><br>17 more</td>\n",
       "    </tr>\n",
       "    <tr>\n",
       "      <td>428</td>\n",
       "      <td>18</td>\n",
       "      <td>0.50</td>\n",
       "      <td>Gm: lipid binding: 3.270E-02<br></td>\n",
       "    </tr>\n",
       "    <tr>\n",
       "      <td>332</td>\n",
       "      <td>11</td>\n",
       "      <td>0.45</td>\n",
       "      <td>KP: Steroid biosynthesis: 3.186E-02<br>KP: Phagosome: 4.710E-02<br></td>\n",
       "    </tr>\n",
       "    <tr>\n",
       "      <td>303</td>\n",
       "      <td>11</td>\n",
       "      <td>0.45</td>\n",
       "      <td>DP: decreased SDF production: 1.871E-02<br></td>\n",
       "    </tr>\n",
       "    <tr>\n",
       "      <td>365</td>\n",
       "      <td>10</td>\n",
       "      <td>0.40</td>\n",
       "      <td>KP: Oxidative phosphorylation: 3.903E-04<br>Gc: mitochondrion: 4.503E-04<br>KP: Metabolic pathways: 1.169E-03<br>Gc: cytoplasm: 2.570E-03<br>Gc: organelle: 2.822E-03<br><br>29 more</td>\n",
       "    </tr>\n",
       "    <tr>\n",
       "      <td>402</td>\n",
       "      <td>13</td>\n",
       "      <td>0.38</td>\n",
       "      <td>DP: increased spore sensitivity to hydrogen peroxide: 2.139E-02<br></td>\n",
       "    </tr>\n",
       "    <tr>\n",
       "      <td>304</td>\n",
       "      <td>13</td>\n",
       "      <td>0.38</td>\n",
       "      <td>KP: Ribosome biogenesis in eukaryotes: 1.040E-09<br>Gb: ribosome biogenesis: 5.225E-06<br>Gc: nucleolus: 6.824E-06<br>Gc: nucleus: 1.904E-03<br>Gm: RNA binding: 3.587E-03<br><br>7 more</td>\n",
       "    </tr>\n",
       "    <tr>\n",
       "      <td>330</td>\n",
       "      <td>11</td>\n",
       "      <td>0.36</td>\n",
       "      <td>KP: Steroid biosynthesis: 3.186E-02<br>KP: Phagosome: 4.710E-02<br></td>\n",
       "    </tr>\n",
       "    <tr>\n",
       "      <td>227</td>\n",
       "      <td>6</td>\n",
       "      <td>0.33</td>\n",
       "      <td>DP: aberrant spore coat morphology: 3.635E-02<br>Gc: cell wall: 3.635E-02<br>Gc: external encapsulating structure: 3.635E-02<br>Gb: cell wall organization or biogenesis: 3.635E-02<br></td>\n",
       "    </tr>\n",
       "    <tr>\n",
       "      <td>190</td>\n",
       "      <td>7</td>\n",
       "      <td>0.29</td>\n",
       "      <td>DP: aberrant spore coat morphology: 1.868E-05<br>Gc: cell wall: 1.868E-05<br>Gc: external encapsulating structure: 1.868E-05<br>Gb: cell wall organization or biogenesis: 2.225E-05<br>Gb: anatomical structure formation involved in morphogenesis: 5.515E-05<br><br>34 more</td>\n",
       "    </tr>\n",
       "    <tr>\n",
       "      <td>343</td>\n",
       "      <td>26</td>\n",
       "      <td>0.27</td>\n",
       "      <td>KP: Glycosaminoglycan degradation: 3.629E-03<br>Gb: anatomical structure development: 5.394E-02<br>DP: aberrant sorting to prestalk region: 9.576E-02<br>KP: Glycosphingolipid biosynthesis - globo and isoglobo series: 9.576E-02<br>KP: Glycosphingolipid biosynthesis - ganglio series: 9.576E-02<br></td>\n",
       "    </tr>\n",
       "    <tr>\n",
       "      <td>421</td>\n",
       "      <td>19</td>\n",
       "      <td>0.26</td>\n",
       "      <td>DP: aberrant regulation of catalytic activity: 5.469E-02<br>DP: aberrant glycogen metabolism: 5.469E-02<br>KP: Starch and sucrose metabolism: 5.469E-02<br>Gb: signal transduction: 5.469E-02<br></td>\n",
       "    </tr>\n",
       "    <tr>\n",
       "      <td>416</td>\n",
       "      <td>36</td>\n",
       "      <td>0.25</td>\n",
       "      <td>DP: aberrant regulation of catalytic activity: 5.469E-02<br>DP: aberrant glycogen metabolism: 5.469E-02<br>KP: Starch and sucrose metabolism: 5.469E-02<br>Gb: signal transduction: 5.469E-02<br></td>\n",
       "    </tr>\n",
       "    <tr>\n",
       "      <td>435</td>\n",
       "      <td>20</td>\n",
       "      <td>0.25</td>\n",
       "      <td>DP: aberrant fruiting body morphology: 1.454E-02<br>DP: delayed gene expression: 1.454E-02<br>DP: abolished slug formation: 5.855E-02<br>DP: increased sorus size: 5.855E-02<br>DP: spores inviable: 5.855E-02<br><br>4 more</td>\n",
       "    </tr>\n",
       "    <tr>\n",
       "      <td>401</td>\n",
       "      <td>11</td>\n",
       "      <td>0.18</td>\n",
       "      <td>DP: increased spore sensitivity to hydrogen peroxide: 2.139E-02<br></td>\n",
       "    </tr>\n",
       "    <tr>\n",
       "      <td>0</td>\n",
       "      <td>6</td>\n",
       "      <td>0.17</td>\n",
       "      <td>KP: Ribosome: 5.310E-07<br>Gc: ribosome: 5.310E-07<br>Gm: structural constituent of ribosome: 4.139E-05<br>Gm: structural molecule activity: 8.129E-05<br>Gb: translation: 1.855E-04<br><br>13 more</td>\n",
       "    </tr>\n",
       "    <tr>\n",
       "      <td>14</td>\n",
       "      <td>12</td>\n",
       "      <td>0.17</td>\n",
       "      <td>Gc: ribosome: 5.289E-25<br>KP: Ribosome: 7.738E-22<br>Gm: structural constituent of ribosome: 9.962E-20<br>Gm: structural molecule activity: 2.120E-18<br>Gc: protein-containing complex: 3.043E-15<br><br>19 more</td>\n",
       "    </tr>\n",
       "    <tr>\n",
       "      <td>220</td>\n",
       "      <td>12</td>\n",
       "      <td>0.17</td>\n",
       "      <td>Gm: structural constituent of ribosome: 1.010E-16<br>KP: Ribosome: 1.011E-16<br>Gc: ribosome: 1.011E-16<br>Gm: structural molecule activity: 3.578E-16<br>Gb: translation: 3.104E-12<br><br>20 more</td>\n",
       "    </tr>\n",
       "    <tr>\n",
       "      <td>37</td>\n",
       "      <td>6</td>\n",
       "      <td>0.17</td>\n",
       "      <td>KP: Ribosome: 2.517E-12<br>Gc: ribosome: 2.517E-12<br>Gm: structural constituent of ribosome: 6.835E-10<br>Gm: structural molecule activity: 2.613E-09<br>Gb: translation: 1.229E-08<br><br>18 more</td>\n",
       "    </tr>\n",
       "    <tr>\n",
       "      <td>269</td>\n",
       "      <td>13</td>\n",
       "      <td>0.15</td>\n",
       "      <td>KP: Ribosome: 1.607E-27<br>Gc: ribosome: 1.607E-27<br>Gm: structural constituent of ribosome: 3.688E-22<br>Gm: structural molecule activity: 1.120E-20<br>Gb: translation: 4.826E-19<br><br>11 more</td>\n",
       "    </tr>\n",
       "    <tr>\n",
       "      <td>315</td>\n",
       "      <td>10</td>\n",
       "      <td>0.10</td>\n",
       "      <td>Gm: transmembrane transporter activity: 8.967E-02<br>Gc: cellular_component: 8.967E-02<br>Gb: transmembrane transport: 8.967E-02<br></td>\n",
       "    </tr>\n",
       "    <tr>\n",
       "      <td>426</td>\n",
       "      <td>33</td>\n",
       "      <td>0.09</td>\n",
       "      <td>Gb: cell differentiation: 9.448E-06<br>Gb: anatomical structure development: 7.623E-04<br>Gb: reproduction: 7.392E-03<br>DP: aberrant aggregation: 1.508E-02<br>DP: aberrant fruiting body morphology: 2.043E-02<br><br>57 more</td>\n",
       "    </tr>\n",
       "    <tr>\n",
       "      <td>348</td>\n",
       "      <td>22</td>\n",
       "      <td>0.09</td>\n",
       "      <td>Gc: extracellular region: 6.316E-03<br>KP: Alanine: 1.500E-02<br>Gb: small molecule metabolic process: 4.134E-02<br>KP: Biosynthesis of amino acids: 4.856E-02<br>Gm: lyase activity: 4.856E-02<br><br>9 more</td>\n",
       "    </tr>\n",
       "    <tr>\n",
       "      <td>388</td>\n",
       "      <td>58</td>\n",
       "      <td>0.09</td>\n",
       "      <td>Gc: extracellular region: 6.353E-03<br>KP: Starch and sucrose metabolism: 1.370E-02<br>DP: aberrant spore coat morphology: 3.149E-02<br></td>\n",
       "    </tr>\n",
       "    <tr>\n",
       "      <td>411</td>\n",
       "      <td>45</td>\n",
       "      <td>0.09</td>\n",
       "      <td>KP: Steroid biosynthesis: 7.355E-02<br>Gc: extracellular region: 7.355E-02<br></td>\n",
       "    </tr>\n",
       "    <tr>\n",
       "      <td>431</td>\n",
       "      <td>63</td>\n",
       "      <td>0.08</td>\n",
       "      <td>DP: aberrant spore coat morphology: 9.918E-08<br>Gc: cell wall: 9.918E-08<br>Gc: external encapsulating structure: 9.918E-08<br>Gb: cell wall organization or biogenesis: 1.633E-05<br>Gb: anatomical structure formation involved in morphogenesis: 3.173E-05<br><br>19 more</td>\n",
       "    </tr>\n",
       "    <tr>\n",
       "      <td>6</td>\n",
       "      <td>26</td>\n",
       "      <td>0.08</td>\n",
       "      <td>DP: decreased cell fate commitment: 4.213E-02<br>DP: decreased cell fate determination: 4.213E-02<br>DP: aberrant upper cup formation: 4.213E-02<br>Gb: cell differentiation: 5.079E-02<br>DP: aberrant cell motility: 6.281E-02<br><br>12 more</td>\n",
       "    </tr>\n",
       "    <tr>\n",
       "      <td>373</td>\n",
       "      <td>24</td>\n",
       "      <td>0.08</td>\n",
       "      <td>KP: Alanine: 9.898E-02<br></td>\n",
       "    </tr>\n",
       "    <tr>\n",
       "      <td>349</td>\n",
       "      <td>24</td>\n",
       "      <td>0.08</td>\n",
       "      <td>Gc: extracellular region: 6.316E-03<br>KP: Alanine: 1.500E-02<br>Gb: small molecule metabolic process: 4.134E-02<br>KP: Biosynthesis of amino acids: 4.856E-02<br>Gm: lyase activity: 4.856E-02<br><br>9 more</td>\n",
       "    </tr>\n",
       "    <tr>\n",
       "      <td>271</td>\n",
       "      <td>14</td>\n",
       "      <td>0.07</td>\n",
       "      <td>KP: Ribosome: 2.761E-26<br>Gc: ribosome: 2.761E-26<br>Gm: structural constituent of ribosome: 2.114E-21<br>Gm: structural molecule activity: 6.403E-20<br>Gb: translation: 2.750E-18<br><br>11 more</td>\n",
       "    </tr>\n",
       "    <tr>\n",
       "      <td>377</td>\n",
       "      <td>14</td>\n",
       "      <td>0.07</td>\n",
       "      <td>KP: Alanine: 1.073E-02<br>DP: abolished SDF production: 6.593E-02<br>KP: Butanoate metabolism: 6.593E-02<br>KP: Taurine and hypotaurine metabolism: 6.593E-02<br>Gc: cell wall: 6.593E-02<br><br>3 more</td>\n",
       "    </tr>\n",
       "    <tr>\n",
       "      <td>433</td>\n",
       "      <td>42</td>\n",
       "      <td>0.07</td>\n",
       "      <td>DP: decreased spore viability: 3.703E-02<br>DP: aberrant spore coat morphology: 3.703E-02<br>KP: Alanine: 6.467E-02<br>KP: Starch and sucrose metabolism: 8.763E-02<br>DP: abolished stalk formation: 9.647E-02<br></td>\n",
       "    </tr>\n",
       "    <tr>\n",
       "      <td>403</td>\n",
       "      <td>44</td>\n",
       "      <td>0.07</td>\n",
       "      <td>DP: increased spore sensitivity to hydrogen peroxide: 2.139E-02<br></td>\n",
       "    </tr>\n",
       "    <tr>\n",
       "      <td>275</td>\n",
       "      <td>30</td>\n",
       "      <td>0.07</td>\n",
       "      <td>DP: aberrant spore coat morphology: 1.260E-06<br>Gb: cell wall organization or biogenesis: 2.630E-04<br>Gc: cell wall: 7.972E-03<br>Gc: external encapsulating structure: 7.972E-03<br>Gb: cell differentiation: 7.972E-03<br><br>37 more</td>\n",
       "    </tr>\n",
       "    <tr>\n",
       "      <td>314</td>\n",
       "      <td>18</td>\n",
       "      <td>0.06</td>\n",
       "      <td>DP: increased sorting to prestalk region: 6.855E-02<br>DP: increased exocytosis: 6.855E-02<br>DP: increased catalytic activity: 6.855E-02<br>KP: Biosynthesis of secondary metabolites: 6.855E-02<br>KP: Biosynthesis of amino acids: 6.855E-02<br><br>8 more</td>\n",
       "    </tr>\n",
       "    <tr>\n",
       "      <td>270</td>\n",
       "      <td>34</td>\n",
       "      <td>0.06</td>\n",
       "      <td>DP: decreased cell fate commitment: 4.499E-02<br>DP: decreased cell fate determination: 4.499E-02<br>DP: aberrant upper cup formation: 4.499E-02<br></td>\n",
       "    </tr>\n",
       "    <tr>\n",
       "      <td>353</td>\n",
       "      <td>18</td>\n",
       "      <td>0.06</td>\n",
       "      <td>DP: aberrant aggregation: 4.266E-03<br>Gb: anatomical structure development: 7.465E-03<br>DP: aberrant prestalk A cell differentiation: 2.333E-02<br>DP: aberrant sorting to prestalk region: 4.194E-02<br>DP: abolished DIF production: 4.194E-02<br><br>5 more</td>\n",
       "    </tr>\n",
       "    <tr>\n",
       "      <td>48</td>\n",
       "      <td>17</td>\n",
       "      <td>0.06</td>\n",
       "      <td>KP: Ribosome: 2.517E-12<br>Gc: ribosome: 2.517E-12<br>Gm: structural constituent of ribosome: 6.835E-10<br>Gm: structural molecule activity: 2.613E-09<br>Gb: translation: 1.229E-08<br><br>18 more</td>\n",
       "    </tr>\n",
       "    <tr>\n",
       "      <td>409</td>\n",
       "      <td>17</td>\n",
       "      <td>0.06</td>\n",
       "      <td>KP: Steroid biosynthesis: 7.355E-02<br>Gc: extracellular region: 7.355E-02<br></td>\n",
       "    </tr>\n",
       "    <tr>\n",
       "      <td>369</td>\n",
       "      <td>35</td>\n",
       "      <td>0.06</td>\n",
       "      <td>KP: Alanine: 9.898E-02<br></td>\n",
       "    </tr>\n",
       "    <tr>\n",
       "      <td>196</td>\n",
       "      <td>19</td>\n",
       "      <td>0.05</td>\n",
       "      <td>DP: aberrant regulation of catalytic activity: 3.540E-02<br>DP: aberrant glycogen metabolism: 3.540E-02<br>DP: decreased protein localization to cell cortex: 4.233E-02<br>DP: multiple tips in culminant: 4.233E-02<br>DP: increased activation of GTPase activity: 4.233E-02<br><br>12 more</td>\n",
       "    </tr>\n",
       "    <tr>\n",
       "      <td>404</td>\n",
       "      <td>37</td>\n",
       "      <td>0.05</td>\n",
       "      <td>Gc: cell wall: 2.842E-11<br>Gc: external encapsulating structure: 2.842E-11<br>DP: aberrant spore coat morphology: 3.372E-09<br>Gb: anatomical structure formation involved in morphogenesis: 3.296E-08<br>Gb: cell wall organization or biogenesis: 1.293E-06<br><br>36 more</td>\n",
       "    </tr>\n",
       "    <tr>\n",
       "      <td>255</td>\n",
       "      <td>19</td>\n",
       "      <td>0.05</td>\n",
       "      <td>KP: Alanine: 1.950E-02<br>Gc: extracellular region: 3.001E-02<br>DP: abolished SDF production: 6.942E-02<br>KP: Butanoate metabolism: 6.942E-02<br>KP: Taurine and hypotaurine metabolism: 6.942E-02<br><br>6 more</td>\n",
       "    </tr>\n",
       "    <tr>\n",
       "      <td>293</td>\n",
       "      <td>23</td>\n",
       "      <td>0.04</td>\n",
       "      <td>DP: decreased cell fate commitment: 3.633E-02<br>DP: decreased cell fate determination: 3.633E-02<br>DP: aberrant prestalk A cell differentiation: 3.633E-02<br>DP: aberrant upper cup formation: 3.633E-02<br>Gb: cell differentiation: 3.692E-02<br><br>27 more</td>\n",
       "    </tr>\n",
       "    <tr>\n",
       "      <td>367</td>\n",
       "      <td>23</td>\n",
       "      <td>0.04</td>\n",
       "      <td>Gc: ribosome: 7.400E-46<br>KP: Ribosome: 1.054E-45<br>Gm: structural constituent of ribosome: 7.174E-41<br>Gm: structural molecule activity: 6.453E-38<br>Gb: translation: 9.476E-35<br><br>15 more</td>\n",
       "    </tr>\n",
       "    <tr>\n",
       "      <td>394</td>\n",
       "      <td>37</td>\n",
       "      <td>0.03</td>\n",
       "      <td>DP: aberrant spore coat morphology: 3.373E-04<br>Gb: cell wall organization or biogenesis: 3.466E-04<br>Gc: cell wall: 1.052E-02<br>Gc: external encapsulating structure: 1.052E-02<br>Gb: anatomical structure formation involved in morphogenesis: 1.749E-02<br><br>13 more</td>\n",
       "    </tr>\n",
       "    <tr>\n",
       "      <td>282</td>\n",
       "      <td>36</td>\n",
       "      <td>0.03</td>\n",
       "      <td>DP: decreased cell fate commitment: 1.857E-02<br>DP: decreased cell fate determination: 1.857E-02<br>DP: aberrant upper cup formation: 1.857E-02<br>DP: aberrant regulation of catalytic activity: 1.857E-02<br>DP: aberrant glycogen metabolism: 1.857E-02<br><br>17 more</td>\n",
       "    </tr>\n",
       "    <tr>\n",
       "      <td>266</td>\n",
       "      <td>29</td>\n",
       "      <td>0.03</td>\n",
       "      <td>KP: Alanine: 7.192E-02<br></td>\n",
       "    </tr>\n",
       "    <tr>\n",
       "      <td>384</td>\n",
       "      <td>34</td>\n",
       "      <td>0.00</td>\n",
       "      <td>DP: decreased cell fate commitment: 3.474E-02<br>DP: decreased cell fate determination: 3.474E-02<br>DP: aberrant upper cup formation: 3.474E-02<br>DP: aberrant regulation of catalytic activity: 3.474E-02<br>DP: aberrant glycogen metabolism: 3.474E-02<br><br>13 more</td>\n",
       "    </tr>\n",
       "    <tr>\n",
       "      <td>159</td>\n",
       "      <td>20</td>\n",
       "      <td>0.00</td>\n",
       "      <td>DP: aberrant regulation of catalytic activity: 1.134E-02<br>DP: aberrant glycogen metabolism: 1.134E-02<br>KP: Starch and sucrose metabolism: 1.134E-02<br></td>\n",
       "    </tr>\n",
       "    <tr>\n",
       "      <td>380</td>\n",
       "      <td>55</td>\n",
       "      <td>0.00</td>\n",
       "      <td>DP: aberrant spore coat morphology: 2.606E-10<br>Gc: cell wall: 2.606E-10<br>Gc: external encapsulating structure: 2.606E-10<br>Gb: cell wall organization or biogenesis: 8.358E-08<br>Gb: anatomical structure formation involved in morphogenesis: 5.307E-07<br><br>29 more</td>\n",
       "    </tr>\n",
       "    <tr>\n",
       "      <td>383</td>\n",
       "      <td>54</td>\n",
       "      <td>0.00</td>\n",
       "      <td>DP: aberrant spore coat morphology: 5.705E-04<br>Gc: cell wall: 5.705E-04<br>Gc: external encapsulating structure: 5.705E-04<br>Gb: cell wall organization or biogenesis: 6.765E-04<br>Gc: extracellular region: 9.700E-04<br><br>19 more</td>\n",
       "    </tr>\n",
       "    <tr>\n",
       "      <td>107</td>\n",
       "      <td>9</td>\n",
       "      <td>0.00</td>\n",
       "      <td>Gm: structural constituent of ribosome: 6.530E-19<br>KP: Ribosome: 7.556E-19<br>Gc: ribosome: 7.556E-19<br>Gm: structural molecule activity: 3.275E-18<br>Gb: translation: 4.661E-14<br><br>19 more</td>\n",
       "    </tr>\n",
       "    <tr>\n",
       "      <td>386</td>\n",
       "      <td>24</td>\n",
       "      <td>0.00</td>\n",
       "      <td>DP: aberrant aggregation: 9.065E-03<br>Gb: anatomical structure development: 9.065E-03<br>DP: decreased cell fate commitment: 2.041E-02<br>DP: decreased cell fate determination: 2.041E-02<br>DP: aberrant prestalk A cell differentiation: 2.041E-02<br><br>27 more</td>\n",
       "    </tr>\n",
       "    <tr>\n",
       "      <td>89</td>\n",
       "      <td>29</td>\n",
       "      <td>0.00</td>\n",
       "      <td>KP: Ribosome: 2.702E-55<br>Gc: ribosome: 5.888E-53<br>Gm: structural constituent of ribosome: 3.345E-51<br>Gm: structural molecule activity: 2.342E-47<br>Gb: translation: 2.741E-43<br><br>17 more</td>\n",
       "    </tr>\n",
       "    <tr>\n",
       "      <td>77</td>\n",
       "      <td>32</td>\n",
       "      <td>0.00</td>\n",
       "      <td>KP: Ribosome: 5.807E-62<br>Gc: ribosome: 1.230E-59<br>Gm: structural constituent of ribosome: 5.568E-58<br>Gm: structural molecule activity: 1.430E-53<br>Gb: translation: 6.098E-49<br><br>15 more</td>\n",
       "    </tr>\n",
       "    <tr>\n",
       "      <td>87</td>\n",
       "      <td>21</td>\n",
       "      <td>0.00</td>\n",
       "      <td>Gc: ribosome: 4.614E-45<br>KP: Ribosome: 6.231E-45<br>Gm: structural constituent of ribosome: 7.161E-43<br>Gm: structural molecule activity: 6.473E-40<br>Gb: translation: 9.579E-37<br><br>14 more</td>\n",
       "    </tr>\n",
       "    <tr>\n",
       "      <td>157</td>\n",
       "      <td>24</td>\n",
       "      <td>0.00</td>\n",
       "      <td>KP: Ribosome: 2.516E-44<br>Gm: structural constituent of ribosome: 6.488E-43<br>Gc: ribosome: 3.674E-42<br>Gm: structural molecule activity: 5.806E-40<br>Gb: translation: 1.283E-36<br><br>17 more</td>\n",
       "    </tr>\n",
       "    <tr>\n",
       "      <td>54</td>\n",
       "      <td>23</td>\n",
       "      <td>0.00</td>\n",
       "      <td>DP: aberrant regulation of catalytic activity: 3.540E-02<br>DP: aberrant glycogen metabolism: 3.540E-02<br>DP: abolished cellulose binding: 4.716E-02<br></td>\n",
       "    </tr>\n",
       "    <tr>\n",
       "      <td>228</td>\n",
       "      <td>20</td>\n",
       "      <td>0.00</td>\n",
       "      <td>DP: aberrant spore coat morphology: 3.635E-02<br>Gc: cell wall: 3.635E-02<br>Gc: external encapsulating structure: 3.635E-02<br>Gb: cell wall organization or biogenesis: 3.635E-02<br></td>\n",
       "    </tr>\n",
       "    <tr>\n",
       "      <td>372</td>\n",
       "      <td>25</td>\n",
       "      <td>0.00</td>\n",
       "      <td>KP: Alanine: 9.898E-02<br></td>\n",
       "    </tr>\n",
       "    <tr>\n",
       "      <td>160</td>\n",
       "      <td>25</td>\n",
       "      <td>0.00</td>\n",
       "      <td>KP: Alanine: 4.465E-02<br>KP: Taurine and hypotaurine metabolism: 5.733E-02<br>KP: Biosynthesis of secondary metabolites: 5.733E-02<br>KP: Biosynthesis of amino acids: 5.733E-02<br>KP: Metabolic pathways: 5.733E-02<br><br>10 more</td>\n",
       "    </tr>\n",
       "    <tr>\n",
       "      <td>242</td>\n",
       "      <td>57</td>\n",
       "      <td>0.00</td>\n",
       "      <td>DP: aberrant spore coat morphology: 7.457E-06<br>Gc: cell wall: 7.457E-06<br>Gc: external encapsulating structure: 7.457E-06<br>Gc: extracellular region: 1.504E-04<br>Gb: cell wall organization or biogenesis: 6.452E-04<br><br>17 more</td>\n",
       "    </tr>\n",
       "    <tr>\n",
       "      <td>243</td>\n",
       "      <td>31</td>\n",
       "      <td>0.00</td>\n",
       "      <td>Gc: ribosome: 8.074E-64<br>KP: Ribosome: 1.824E-63<br>Gm: structural constituent of ribosome: 6.992E-59<br>Gm: structural molecule activity: 1.800E-54<br>Gb: translation: 7.705E-50<br><br>15 more</td>\n",
       "    </tr>\n",
       "    <tr>\n",
       "      <td>245</td>\n",
       "      <td>50</td>\n",
       "      <td>0.00</td>\n",
       "      <td>Gc: extracellular region: 2.481E-04<br>DP: aberrant spore coat morphology: 2.438E-02<br>Gc: cell wall: 2.438E-02<br>Gc: external encapsulating structure: 2.438E-02<br>Gc: cellular_component: 2.438E-02<br><br>3 more</td>\n",
       "    </tr>\n",
       "    <tr>\n",
       "      <td>248</td>\n",
       "      <td>43</td>\n",
       "      <td>0.00</td>\n",
       "      <td>DP: decreased cell fate commitment: 5.016E-02<br>DP: decreased cell fate determination: 5.016E-02<br>DP: aberrant upper cup formation: 5.016E-02<br>DP: aberrant regulation of catalytic activity: 5.016E-02<br>DP: aberrant glycogen metabolism: 5.016E-02<br><br>1 more</td>\n",
       "    </tr>\n",
       "    <tr>\n",
       "      <td>251</td>\n",
       "      <td>42</td>\n",
       "      <td>0.00</td>\n",
       "      <td>Gb: cell differentiation: 1.064E-02<br>DP: abolished sporulation: 3.213E-02<br>DP: decreased cell fate commitment: 3.213E-02<br>DP: decreased cell fate determination: 3.213E-02<br>DP: aberrant aggregation: 3.213E-02<br><br>26 more</td>\n",
       "    </tr>\n",
       "    <tr>\n",
       "      <td>256</td>\n",
       "      <td>28</td>\n",
       "      <td>0.00</td>\n",
       "      <td>DP: aberrant regulation of catalytic activity: 2.344E-02<br>DP: aberrant glycogen metabolism: 2.344E-02<br>KP: Starch and sucrose metabolism: 2.344E-02<br></td>\n",
       "    </tr>\n",
       "    <tr>\n",
       "      <td>257</td>\n",
       "      <td>43</td>\n",
       "      <td>0.00</td>\n",
       "      <td>Gc: extracellular region: 8.519E-05<br>DP: aberrant spore coat morphology: 2.171E-04<br>Gc: cell wall: 2.171E-04<br>Gc: external encapsulating structure: 2.171E-04<br>Gc: cellular_component: 3.667E-03<br><br>23 more</td>\n",
       "    </tr>\n",
       "    <tr>\n",
       "      <td>260</td>\n",
       "      <td>36</td>\n",
       "      <td>0.00</td>\n",
       "      <td>DP: aberrant spore coat morphology: 3.544E-04<br>Gc: cell wall: 1.517E-02<br>Gc: external encapsulating structure: 1.517E-02<br>Gb: cell wall organization or biogenesis: 1.526E-02<br>Gc: extracellular region: 1.537E-02<br><br>28 more</td>\n",
       "    </tr>\n",
       "    <tr>\n",
       "      <td>279</td>\n",
       "      <td>25</td>\n",
       "      <td>0.00</td>\n",
       "      <td>DP: decreased cell fate commitment: 1.857E-02<br>DP: decreased cell fate determination: 1.857E-02<br>DP: aberrant upper cup formation: 1.857E-02<br>DP: aberrant regulation of catalytic activity: 1.857E-02<br>DP: aberrant glycogen metabolism: 1.857E-02<br><br>17 more</td>\n",
       "    </tr>\n",
       "    <tr>\n",
       "      <td>283</td>\n",
       "      <td>27</td>\n",
       "      <td>0.00</td>\n",
       "      <td>Gc: ribosome: 2.661E-51<br>KP: Ribosome: 4.478E-51<br>Gm: structural constituent of ribosome: 1.281E-46<br>Gm: structural molecule activity: 3.878E-43<br>Gb: translation: 1.955E-39<br><br>15 more</td>\n",
       "    </tr>\n",
       "    <tr>\n",
       "      <td>291</td>\n",
       "      <td>33</td>\n",
       "      <td>0.00</td>\n",
       "      <td>KP: Ribosome: 7.148E-61<br>Gc: ribosome: 1.136E-58<br>Gm: structural constituent of ribosome: 4.059E-54<br>Gm: structural molecule activity: 6.686E-50<br>Gb: translation: 1.831E-45<br><br>15 more</td>\n",
       "    </tr>\n",
       "    <tr>\n",
       "      <td>298</td>\n",
       "      <td>11</td>\n",
       "      <td>0.00</td>\n",
       "      <td>KP: Ribosome: 4.720E-23<br>Gc: ribosome: 4.720E-23<br>Gm: structural constituent of ribosome: 1.214E-20<br>Gm: structural molecule activity: 2.590E-19<br>Gb: translation: 7.686E-18<br><br>13 more</td>\n",
       "    </tr>\n",
       "    <tr>\n",
       "      <td>219</td>\n",
       "      <td>8</td>\n",
       "      <td>0.00</td>\n",
       "      <td>Gm: structural constituent of ribosome: 1.010E-16<br>KP: Ribosome: 1.011E-16<br>Gc: ribosome: 1.011E-16<br>Gm: structural molecule activity: 3.578E-16<br>Gb: translation: 3.104E-12<br><br>20 more</td>\n",
       "    </tr>\n",
       "    <tr>\n",
       "      <td>215</td>\n",
       "      <td>18</td>\n",
       "      <td>0.00</td>\n",
       "      <td>Gm: structural constituent of ribosome: 1.319E-35<br>Gc: ribosome: 3.559E-35<br>KP: Ribosome: 5.196E-35<br>Gm: structural molecule activity: 1.231E-33<br>Gb: translation: 5.454E-31<br><br>16 more</td>\n",
       "    </tr>\n",
       "    <tr>\n",
       "      <td>306</td>\n",
       "      <td>29</td>\n",
       "      <td>0.00</td>\n",
       "      <td>DP: abolished stalk formation: 9.621E-02<br>KP: Starch and sucrose metabolism: 9.621E-02<br></td>\n",
       "    </tr>\n",
       "    <tr>\n",
       "      <td>210</td>\n",
       "      <td>30</td>\n",
       "      <td>0.00</td>\n",
       "      <td>DP: aberrant spore coat morphology: 4.524E-07<br>Gc: cell wall: 4.524E-07<br>Gc: external encapsulating structure: 4.524E-07<br>Gb: cell wall organization or biogenesis: 6.456E-07<br>Gb: anatomical structure formation involved in morphogenesis: 1.164E-05<br><br>29 more</td>\n",
       "    </tr>\n",
       "    <tr>\n",
       "      <td>203</td>\n",
       "      <td>6</td>\n",
       "      <td>0.00</td>\n",
       "      <td>KP: Ribosome: 1.208E-12<br>Gm: structural constituent of ribosome: 1.208E-12<br>Gc: ribosome: 1.208E-12<br>Gm: structural molecule activity: 2.868E-12<br>Gb: translation: 1.946E-11<br><br>13 more</td>\n",
       "    </tr>\n",
       "    <tr>\n",
       "      <td>229</td>\n",
       "      <td>34</td>\n",
       "      <td>0.00</td>\n",
       "      <td>DP: decreased cell fate commitment: 2.877E-02<br>DP: decreased cell fate determination: 2.877E-02<br>DP: aberrant upper cup formation: 2.877E-02<br>DP: aberrant regulation of catalytic activity: 2.877E-02<br>DP: aberrant glycogen metabolism: 2.877E-02<br><br>8 more</td>\n",
       "    </tr>\n",
       "    <tr>\n",
       "      <td>359</td>\n",
       "      <td>22</td>\n",
       "      <td>0.00</td>\n",
       "      <td>DP: aberrant spore coat morphology: 2.547E-05<br>Gc: cell wall: 2.547E-05<br>Gc: external encapsulating structure: 2.547E-05<br>Gb: cell wall organization or biogenesis: 3.032E-05<br>Gb: anatomical structure formation involved in morphogenesis: 8.823E-05<br><br>16 more</td>\n",
       "    </tr>\n",
       "    <tr>\n",
       "      <td>181</td>\n",
       "      <td>23</td>\n",
       "      <td>0.00</td>\n",
       "      <td>DP: decreased cell fate commitment: 2.161E-02<br>DP: decreased cell fate determination: 2.161E-02<br>DP: aberrant upper cup formation: 2.161E-02<br>DP: aberrant regulation of catalytic activity: 2.161E-02<br>DP: aberrant glycogen metabolism: 2.161E-02<br><br>16 more</td>\n",
       "    </tr>\n",
       "    <tr>\n",
       "      <td>161</td>\n",
       "      <td>18</td>\n",
       "      <td>0.00</td>\n",
       "      <td>Gc: ribosome: 2.132E-38<br>KP: Ribosome: 2.459E-38<br>Gm: structural constituent of ribosome: 5.773E-33<br>Gm: structural molecule activity: 1.102E-30<br>Gb: translation: 3.275E-28<br><br>12 more</td>\n",
       "    </tr>\n",
       "    <tr>\n",
       "      <td>182</td>\n",
       "      <td>19</td>\n",
       "      <td>0.00</td>\n",
       "      <td>DP: aberrant spore coat morphology: 1.868E-05<br>Gc: cell wall: 1.868E-05<br>Gc: external encapsulating structure: 1.868E-05<br>Gb: cell wall organization or biogenesis: 2.225E-05<br>Gb: anatomical structure formation involved in morphogenesis: 5.515E-05<br><br>34 more</td>\n",
       "    </tr>\n",
       "  </tbody>\n",
       "</table>"
      ],
      "text/plain": [
       "<IPython.core.display.HTML object>"
      ]
     },
     "metadata": {},
     "output_type": "display_data"
    }
   ],
   "source": [
    "jf.display_newline_df(parsed.sort_values('Proportion unique genes',ascending=False))"
   ]
  },
  {
   "cell_type": "code",
   "execution_count": 31,
   "metadata": {},
   "outputs": [],
   "source": [
    "# Save result for Orange\n",
    "NeighbourhoodParser.parse_orange(node_neighbourhoods).to_csv(\n",
    "    path_neighbours+'_sim'+str(SIM)+'_minkN'+str(MIN_NEIGH)+'_neighbourhoods.tsv',\n",
    "                                        sep='\\t',index=False)\n",
    "pd.DataFrame(neighbourhood_genes,columns=['Gene']).to_csv(\n",
    "    path_neighbours+'_sim'+str(SIM)+'_minkN'+str(MIN_NEIGH)+'_neighbourhood_genes.tsv',\n",
    "                                        sep='\\t',index=False)"
   ]
  },
  {
   "cell_type": "code",
   "execution_count": 57,
   "metadata": {},
   "outputs": [
    {
     "data": {
      "text/plain": [
       "[('Dictybase', 'Phenotypes'),\n",
       " ('KEGG', 'Pathways'),\n",
       " ('GO', 'molecular_function'),\n",
       " ('GO', 'cellular_component'),\n",
       " ('GO', 'biological_process')]"
      ]
     },
     "execution_count": 57,
     "metadata": {},
     "output_type": "execute_result"
    }
   ],
   "source": [
    "list_all(organism=str(enr.ORGANISM))"
   ]
  },
  {
   "cell_type": "code",
   "execution_count": 67,
   "metadata": {},
   "outputs": [
    {
     "data": {
      "text/plain": [
       "'B'"
      ]
     },
     "execution_count": 67,
     "metadata": {},
     "output_type": "execute_result"
    }
   ],
   "source": [
    "'ab'[1].upper()"
   ]
  },
  {
   "cell_type": "code",
   "execution_count": null,
   "metadata": {},
   "outputs": [],
   "source": []
  }
 ],
 "metadata": {
  "kernelspec": {
   "display_name": "Python 3",
   "language": "python",
   "name": "python3"
  },
  "language_info": {
   "codemirror_mode": {
    "name": "ipython",
    "version": 3
   },
   "file_extension": ".py",
   "mimetype": "text/x-python",
   "name": "python",
   "nbconvert_exporter": "python",
   "pygments_lexer": "ipython3",
   "version": "3.6.8"
  }
 },
 "nbformat": 4,
 "nbformat_minor": 2
}
