{
 "cells": [
  {
   "cell_type": "markdown",
   "metadata": {},
   "source": [
    "# Selection of genes for formation of regulons"
   ]
  },
  {
   "cell_type": "markdown",
   "metadata": {},
   "source": [
    "In order to reduce the number of genes used for regulon calculation only genes with close neighbours are included. Based on previously perfomed network visualisation it is evident that mojority of genes are located within furballs of tightly connected genes, meaning that having one closely related neighbour often means having multiple (e.g. networks included all gene pairs with similarity above certain threshold, based on calculation of larger number of neighbours for each gene (e.g 200)).\n",
    "\n",
    "To find genes with close neighbours the closest neighbour is calculated for each gene. Only genes from gene pairs with similarity above selected \"threshold\" (cosine similarity) are retained. The similarity calculation is based on data preprocessed with: log transformation and scaling each gene from 0 to 1 to remove effect of expression strength on similarity computation. The selection of log transformation and scaling method is justified below.\n",
    "\n",
    "Genes with at least one close neighbopur are selected since Gadi requested retention of regulons of all sizes (e.g. even regulons comprised of 2 tightly connected genes). For each gene 2 closest neighbour are computed. This must be done as when profiles are not inversed, one of the 2 closest neighbours will be self and thus automatically excluded from determining if a gene has a close neighbour. \n",
    "\n",
    "The selection of similarity threshold can be done based on N of retained genes at this threshold or comparison of retained genes between data subsets, each containing only part of measurments (features)."
   ]
  },
  {
   "cell_type": "markdown",
   "metadata": {},
   "source": [
    "## Load data"
   ]
  },
  {
   "cell_type": "code",
   "execution_count": 79,
   "metadata": {
    "hide_input": true,
    "tags": [
     "hide_input"
    ]
   },
   "outputs": [],
   "source": [
    "import os\n",
    "import sys\n",
    "import importlib\n",
    "\n",
    "module_path = os.path.abspath(os.path.join('..'))\n",
    "if module_path not in sys.path:\n",
    "    sys.path.insert(0,module_path)\n",
    "\n",
    "import pandas as pd\n",
    "import matplotlib.pyplot as plt\n",
    "import random\n",
    "\n",
    "from correlation_enrichment.library import SimilarityCalculator\n",
    "import library_regulons\n",
    "importlib.reload(library_regulons)\n",
    "from library_regulons import *\n",
    "import jupyter_functions as jf\n",
    "importlib.reload(jf)\n",
    "import jupyter_functions as jf\n"
   ]
  },
  {
   "cell_type": "code",
   "execution_count": null,
   "metadata": {},
   "outputs": [],
   "source": [
    "dataPath=module_path+'/data_expression/'\n",
    "genes = pd.read_csv(dataPath + 'mergedGenes_RPKUM.tsv', sep='\\t', index_col=0)\n",
    "conditions = pd.read_csv(dataPath + 'conditions_mergedGenes.tsv', sep='\\t', index_col=None)"
   ]
  },
  {
   "cell_type": "code",
   "execution_count": 30,
   "metadata": {},
   "outputs": [],
   "source": [
    "neighbour_calculator = NeighbourCalculator(genes,conditions=conditions,conditions_names_column='Measurment')"
   ]
  },
  {
   "cell_type": "markdown",
   "metadata": {},
   "source": [
    "# Parameter selection"
   ]
  },
  {
   "cell_type": "markdown",
   "metadata": {},
   "source": [
    "To determine which parameters are most reliable data is subseted in 2 parts and results computed on both of them are compared. Currently this is done based on replicates: part of replicates (and their time points) is used as training set and the other as test set of features.\n",
    "\n",
    "Curent data has 49 replicates, 25 of which are used in traingng (subset1) and other 24 in testing (subset2)."
   ]
  },
  {
   "cell_type": "code",
   "execution_count": 4,
   "metadata": {},
   "outputs": [
    {
     "name": "stdout",
     "output_type": "stream",
     "text": [
      "N of replicates: 49\n"
     ]
    }
   ],
   "source": [
    "available_replicates=list(set(conditions.loc[:,'Replicate']))\n",
    "print('N of replicates:',len(available_replicates))"
   ]
  },
  {
   "cell_type": "code",
   "execution_count": 27,
   "metadata": {},
   "outputs": [],
   "source": [
    "subset1,subset2=jf.sample_from_list(available_replicates,sample1=25)"
   ]
  },
  {
   "cell_type": "code",
   "execution_count": 28,
   "metadata": {},
   "outputs": [
    {
     "name": "stdout",
     "output_type": "stream",
     "text": [
      "Subset1:\n",
      " gtaG_r1, AX4_bio1, mybB_bio1, comH_r2, gtaC_r27B, amiB_r2, cudA_r3, ac3pkaCoe_r2, gtaI_bio1, tgrB1_r2, mybBGFP_bio2, AX4_r2, pkaCoeAX4_r2, acaA_bio2, gtaC_r41A, dgcA_r2, AX4_bio3, gtaC_r21A, mybB_bio2, cudA_r2, tagB_bio2, ecmA_bio2, pkaR_bio1, gtaG_r2, AX4_r1 \n",
      "\n",
      "Subset2:\n",
      " ac3pkaCoe_r1, ecmA_bio1, AX4_FDpool01, comH_r1, dgcA_r1, pkaR_bio2, AX4_bio2, pkaCoeAX4_r3, tgrB1C1_r2, gtaC_r47B, AX4_pool21, tgrC1_r2, gbfA_r3, mybBGFP_bio1, tgrB1C1_r1, amiB_r1, AX4_FDpool02, acaA_bio1, tagB_bio1, gbfA_r1, tgrC1_r1, tgrB1_r1, AX4_pool19, gtaI_bio2\n"
     ]
    }
   ],
   "source": [
    "print('Subset1:\\n',', '.join(subset1),'\\n')\n",
    "print('Subset2:\\n',', '.join(subset2))"
   ]
  },
  {
   "cell_type": "markdown",
   "metadata": {},
   "source": [
    "## Data preprocessing parameters selection"
   ]
  },
  {
   "cell_type": "markdown",
   "metadata": {},
   "source": [
    "To select how data should be preprocessed it was compared how data log transformation vs no transformation and scaling from 0 to 1 (minmax) or to mean=0 and std=1 (mean0std1) affect the reliability of result across random sample of replicates.\n",
    "\n",
    "\n",
    "The below table shows:\n",
    "- N neighbours - N of neighbours computed for each gene.\n",
    "- inverse - If False most similar neighbour, if True neighbour with most similar inversed profile (multiplied by -1 before scaling).\n",
    "- use_log - Was data log transformed before scaling.\n",
    "- scale - mean0std1: mean=0, std=1; minmax: from 0 to 1\n",
    "- threshold - Cosine similarity threshold used. Pairs below it were excluded from calculations (MSE, N pairs, N genes, F value).\n",
    "- batches - Currently not used. Could be used if similarity calculation was done for each strain separately, later using only gene pairs highly associted in all individual strains.\n",
    "- MSE - For evaluation of similarity results. Difference between similarity in training and test set. SE=(similarity_training-similarity_test)^2  This is done for all neighbour pairs retained after similarity filtering in the training set, averaging SEs to obtain MSE. Training similarities are used as extracted from the closest neighbours computation library; similarities in test set are computed 'by hand'. It was previoulsy tested that these similarities correspond.\n",
    "- N pairs - N of gene pairs retained in training sample after filtering with specified threshold.\n",
    "- N genes - N of genes retained in training sample after filtering with specified threshold.\n",
    "- F value - For evaluation of N of retained genes. Similar to recall and accuracy based F value, but as there is no knowledge about 'real truth' it is computed as follows: Neighbours are obtained both for training and test set. Pairs are filtered and genes in remaining pairs are selected. TP = genes present in both training and test set after filtering, FN_training = genes present only in test set after filtering, FN_test = genes present only in training set after filtering. r_test=TP/(TP+FN_test) and r_train=TP/(TP+FN_training). F=2 * r_test * r_training/(r_test+r_training)\n",
    "\n",
    "Table is sorted by F value. Larger F value at similar number of retained genes shows that there is greater consistency between subsets, thus the metric seems to beter select true associations."
   ]
  },
  {
   "cell_type": "code",
   "execution_count": 31,
   "metadata": {},
   "outputs": [
    {
     "name": "stderr",
     "output_type": "stream",
     "text": [
      "/home/karin/Documents/git/baylor-dicty/correlation_enrichment/library.py:235: RuntimeWarning: invalid value encountered in double_scalars\n",
      "  return np.inner(vector1, vector2) / (np.linalg.norm(vector1) * np.linalg.norm(vector2))\n",
      "/home/karin/Documents/git/baylor-dicty/correlation_enrichment/library.py:235: RuntimeWarning: invalid value encountered in double_scalars\n",
      "  return np.inner(vector1, vector2) / (np.linalg.norm(vector1) * np.linalg.norm(vector2))\n"
     ]
    }
   ],
   "source": [
    "#Make table of results for different condition settings\n",
    "results=[]\n",
    "#Which parameters to try\n",
    "#thresholds=[0.95]\n",
    "thresholds=[0.93,0.94,0.95,0.97,0.991,0.992,0.993]\n",
    "for scale in ['minmax','mean0std1']:\n",
    "    for use_log in [True,False]:\n",
    "            for inverse in [False]:\n",
    "                for n_neighbours in [2]:\n",
    "                    result = neighbour_calculator.compare_conditions(\n",
    "                                        # Parameters\n",
    "                                        neighbours_n=n_neighbours, inverse=inverse, scale=scale, use_log=use_log,\n",
    "                                        thresholds=thresholds, \n",
    "                                        filter_column='Replicate',\n",
    "                                        #For subset genes\n",
    "                                        filter_column_values_sub=subset1,\n",
    "                                        #For test genes\n",
    "                                        filter_column_values_test=subset2, \n",
    "                                                \n",
    "                                        batch_column=None,retained=[1000,1500])\n",
    "                    for res in result:\n",
    "                        results.append(res)\n",
    "data_summary_params=pd.DataFrame(results)"
   ]
  },
  {
   "cell_type": "code",
   "execution_count": 34,
   "metadata": {},
   "outputs": [
    {
     "data": {
      "text/html": [
       "<div>\n",
       "<style scoped>\n",
       "    .dataframe tbody tr th:only-of-type {\n",
       "        vertical-align: middle;\n",
       "    }\n",
       "\n",
       "    .dataframe tbody tr th {\n",
       "        vertical-align: top;\n",
       "    }\n",
       "\n",
       "    .dataframe thead th {\n",
       "        text-align: right;\n",
       "    }\n",
       "</style>\n",
       "<table border=\"1\" class=\"dataframe\">\n",
       "  <thead>\n",
       "    <tr style=\"text-align: right;\">\n",
       "      <th></th>\n",
       "      <th>N neighbours</th>\n",
       "      <th>inverse</th>\n",
       "      <th>use_log</th>\n",
       "      <th>scale</th>\n",
       "      <th>threshold</th>\n",
       "      <th>batches</th>\n",
       "      <th>MSE</th>\n",
       "      <th>N pairs</th>\n",
       "      <th>N genes</th>\n",
       "      <th>F value</th>\n",
       "    </tr>\n",
       "  </thead>\n",
       "  <tbody>\n",
       "    <tr>\n",
       "      <td>2</td>\n",
       "      <td>2</td>\n",
       "      <td>False</td>\n",
       "      <td>True</td>\n",
       "      <td>mean0std1</td>\n",
       "      <td>0.940</td>\n",
       "      <td>None</td>\n",
       "      <td>0.00377</td>\n",
       "      <td>989</td>\n",
       "      <td>1235</td>\n",
       "      <td>0.809626</td>\n",
       "    </tr>\n",
       "    <tr>\n",
       "      <td>0</td>\n",
       "      <td>2</td>\n",
       "      <td>False</td>\n",
       "      <td>True</td>\n",
       "      <td>minmax</td>\n",
       "      <td>0.991</td>\n",
       "      <td>None</td>\n",
       "      <td>0.00358</td>\n",
       "      <td>1123</td>\n",
       "      <td>1360</td>\n",
       "      <td>0.748522</td>\n",
       "    </tr>\n",
       "    <tr>\n",
       "      <td>3</td>\n",
       "      <td>2</td>\n",
       "      <td>False</td>\n",
       "      <td>False</td>\n",
       "      <td>mean0std1</td>\n",
       "      <td>0.940</td>\n",
       "      <td>None</td>\n",
       "      <td>0.01210</td>\n",
       "      <td>893</td>\n",
       "      <td>1244</td>\n",
       "      <td>0.705093</td>\n",
       "    </tr>\n",
       "    <tr>\n",
       "      <td>1</td>\n",
       "      <td>2</td>\n",
       "      <td>False</td>\n",
       "      <td>False</td>\n",
       "      <td>minmax</td>\n",
       "      <td>0.970</td>\n",
       "      <td>None</td>\n",
       "      <td>0.00795</td>\n",
       "      <td>801</td>\n",
       "      <td>1151</td>\n",
       "      <td>0.664516</td>\n",
       "    </tr>\n",
       "  </tbody>\n",
       "</table>\n",
       "</div>"
      ],
      "text/plain": [
       "   N neighbours  inverse  use_log      scale  threshold batches      MSE  \\\n",
       "2             2    False     True  mean0std1      0.940    None  0.00377   \n",
       "0             2    False     True     minmax      0.991    None  0.00358   \n",
       "3             2    False    False  mean0std1      0.940    None  0.01210   \n",
       "1             2    False    False     minmax      0.970    None  0.00795   \n",
       "\n",
       "   N pairs  N genes   F value  \n",
       "2      989     1235  0.809626  \n",
       "0     1123     1360  0.748522  \n",
       "3      893     1244  0.705093  \n",
       "1      801     1151  0.664516  "
      ]
     },
     "execution_count": 34,
     "metadata": {},
     "output_type": "execute_result"
    }
   ],
   "source": [
    "data_summary_params.sort_values(by='F value',ascending=False)"
   ]
  },
  {
   "cell_type": "markdown",
   "metadata": {},
   "source": [
    "For inverse neighbours. Range of obtained neighbours is set to smaller number as it was previously determined that there seem to be less good inverse neighbours."
   ]
  },
  {
   "cell_type": "code",
   "execution_count": 87,
   "metadata": {},
   "outputs": [
    {
     "name": "stderr",
     "output_type": "stream",
     "text": [
      "/home/karin/Documents/git/baylor-dicty/correlation_enrichment/library.py:235: RuntimeWarning: invalid value encountered in double_scalars\n",
      "  return np.inner(vector1, vector2) / (np.linalg.norm(vector1) * np.linalg.norm(vector2))\n"
     ]
    }
   ],
   "source": [
    "results_inv=[]\n",
    "#Which parameters to try\n",
    "thresholds=[0.73,0.84,0.964,0.986,0.987,0.99]\n",
    "for scale in ['minmax','mean0std1']:\n",
    "    for use_log in [True,False]:\n",
    "            for inverse in [True]:\n",
    "                for n_neighbours in [2]:\n",
    "                    result = neighbour_calculator.compare_conditions(\n",
    "                                        # Parameters\n",
    "                                        neighbours_n=n_neighbours, inverse=inverse, scale=scale, use_log=use_log,\n",
    "                                        thresholds=thresholds, \n",
    "                                        filter_column='Replicate',\n",
    "                                        #For subset genes\n",
    "                                        filter_column_values_sub=subset1,\n",
    "                                        #For test genes\n",
    "                                        filter_column_values_test=subset2, \n",
    "                                                \n",
    "                                        batch_column=None,retained=[400,600])\n",
    "                    for res in result:\n",
    "                        results_inv.append(res)\n",
    "data_summary_params_inv=pd.DataFrame(results_inv)"
   ]
  },
  {
   "cell_type": "code",
   "execution_count": 88,
   "metadata": {},
   "outputs": [
    {
     "data": {
      "text/html": [
       "<div>\n",
       "<style scoped>\n",
       "    .dataframe tbody tr th:only-of-type {\n",
       "        vertical-align: middle;\n",
       "    }\n",
       "\n",
       "    .dataframe tbody tr th {\n",
       "        vertical-align: top;\n",
       "    }\n",
       "\n",
       "    .dataframe thead th {\n",
       "        text-align: right;\n",
       "    }\n",
       "</style>\n",
       "<table border=\"1\" class=\"dataframe\">\n",
       "  <thead>\n",
       "    <tr style=\"text-align: right;\">\n",
       "      <th></th>\n",
       "      <th>N neighbours</th>\n",
       "      <th>inverse</th>\n",
       "      <th>use_log</th>\n",
       "      <th>scale</th>\n",
       "      <th>threshold</th>\n",
       "      <th>batches</th>\n",
       "      <th>MSE</th>\n",
       "      <th>N pairs</th>\n",
       "      <th>N genes</th>\n",
       "      <th>F value</th>\n",
       "    </tr>\n",
       "  </thead>\n",
       "  <tbody>\n",
       "    <tr>\n",
       "      <td>0</td>\n",
       "      <td>2</td>\n",
       "      <td>True</td>\n",
       "      <td>True</td>\n",
       "      <td>minmax</td>\n",
       "      <td>0.986</td>\n",
       "      <td>None</td>\n",
       "      <td>0.05094</td>\n",
       "      <td>815</td>\n",
       "      <td>558</td>\n",
       "      <td>0.502006</td>\n",
       "    </tr>\n",
       "    <tr>\n",
       "      <td>1</td>\n",
       "      <td>2</td>\n",
       "      <td>True</td>\n",
       "      <td>False</td>\n",
       "      <td>minmax</td>\n",
       "      <td>0.964</td>\n",
       "      <td>None</td>\n",
       "      <td>0.06212</td>\n",
       "      <td>490</td>\n",
       "      <td>429</td>\n",
       "      <td>0.461373</td>\n",
       "    </tr>\n",
       "    <tr>\n",
       "      <td>2</td>\n",
       "      <td>2</td>\n",
       "      <td>True</td>\n",
       "      <td>True</td>\n",
       "      <td>mean0std1</td>\n",
       "      <td>0.840</td>\n",
       "      <td>None</td>\n",
       "      <td>0.00257</td>\n",
       "      <td>821</td>\n",
       "      <td>564</td>\n",
       "      <td>0.609959</td>\n",
       "    </tr>\n",
       "    <tr>\n",
       "      <td>3</td>\n",
       "      <td>2</td>\n",
       "      <td>True</td>\n",
       "      <td>False</td>\n",
       "      <td>mean0std1</td>\n",
       "      <td>0.730</td>\n",
       "      <td>None</td>\n",
       "      <td>0.01157</td>\n",
       "      <td>858</td>\n",
       "      <td>521</td>\n",
       "      <td>0.546379</td>\n",
       "    </tr>\n",
       "  </tbody>\n",
       "</table>\n",
       "</div>"
      ],
      "text/plain": [
       "   N neighbours  inverse  use_log      scale  threshold batches      MSE  \\\n",
       "0             2     True     True     minmax      0.986    None  0.05094   \n",
       "1             2     True    False     minmax      0.964    None  0.06212   \n",
       "2             2     True     True  mean0std1      0.840    None  0.00257   \n",
       "3             2     True    False  mean0std1      0.730    None  0.01157   \n",
       "\n",
       "   N pairs  N genes   F value  \n",
       "0      815      558  0.502006  \n",
       "1      490      429  0.461373  \n",
       "2      821      564  0.609959  \n",
       "3      858      521  0.546379  "
      ]
     },
     "execution_count": 88,
     "metadata": {},
     "output_type": "execute_result"
    }
   ],
   "source": [
    "data_summary_params_inv"
   ]
  },
  {
   "cell_type": "markdown",
   "metadata": {},
   "source": [
    "Preprocessing with log2 transformation and scaling with to mean 0 and std 1 gives most reliable results when comparing different combinations of parameter with retained genes (this is different for MSE, which is probably affected by scale of similarities of different methods)."
   ]
  },
  {
   "cell_type": "markdown",
   "metadata": {},
   "source": [
    "## Necesary number of calculated neighbours to reliabli get genes with close neighbours"
   ]
  },
  {
   "cell_type": "markdown",
   "metadata": {},
   "source": [
    "Algorithem used for neighbour calculation is stohastic. When comparing number of gene pairs above certain threshold, even when using high threshold (e.g. 0.99) there will be some pairs missed if only a few tens of closest neighbours are computed instead of a few hundreds of closest neighbours (shown in notebook regulons). Thus calculationg only 2 neighbours to find genes that have at least one close neighbour at ceratin threshold could lead to false negatives. However, calculating more neighbours can drasticaly increase compute time. \n",
    "\n",
    "Thus it was evaluated how the number of computed neighbours affects the set of retained genes. Genes retained when using more neighbours (100, termed 'larger') are compared to set of genes retained when computing less neighbours (2,3,5,10, termed 'smaller') at different thresholds. Using small number of neighbours seems to be sufficnet as only a small proportion of genes is missed. \n",
    "Intersect: presenet in smaller and larger, unique_larger: would be missed."
   ]
  },
  {
   "cell_type": "markdown",
   "metadata": {},
   "source": [
    "Processing with minmax and log."
   ]
  },
  {
   "cell_type": "code",
   "execution_count": 9,
   "metadata": {},
   "outputs": [
    {
     "data": {
      "text/html": [
       "<div>\n",
       "<style scoped>\n",
       "    .dataframe tbody tr th:only-of-type {\n",
       "        vertical-align: middle;\n",
       "    }\n",
       "\n",
       "    .dataframe tbody tr th {\n",
       "        vertical-align: top;\n",
       "    }\n",
       "\n",
       "    .dataframe thead th {\n",
       "        text-align: right;\n",
       "    }\n",
       "</style>\n",
       "<table border=\"1\" class=\"dataframe\">\n",
       "  <thead>\n",
       "    <tr style=\"text-align: right;\">\n",
       "      <th></th>\n",
       "      <th>n_neighbours</th>\n",
       "      <th>threshold</th>\n",
       "      <th>intersect</th>\n",
       "      <th>unique_smaller</th>\n",
       "      <th>unique_larger</th>\n",
       "    </tr>\n",
       "  </thead>\n",
       "  <tbody>\n",
       "    <tr>\n",
       "      <td>0</td>\n",
       "      <td>2</td>\n",
       "      <td>0.95</td>\n",
       "      <td>9016</td>\n",
       "      <td>0</td>\n",
       "      <td>4</td>\n",
       "    </tr>\n",
       "    <tr>\n",
       "      <td>1</td>\n",
       "      <td>2</td>\n",
       "      <td>0.98</td>\n",
       "      <td>5450</td>\n",
       "      <td>0</td>\n",
       "      <td>0</td>\n",
       "    </tr>\n",
       "    <tr>\n",
       "      <td>2</td>\n",
       "      <td>2</td>\n",
       "      <td>0.99</td>\n",
       "      <td>1936</td>\n",
       "      <td>0</td>\n",
       "      <td>0</td>\n",
       "    </tr>\n",
       "    <tr>\n",
       "      <td>3</td>\n",
       "      <td>3</td>\n",
       "      <td>0.95</td>\n",
       "      <td>9020</td>\n",
       "      <td>0</td>\n",
       "      <td>0</td>\n",
       "    </tr>\n",
       "    <tr>\n",
       "      <td>4</td>\n",
       "      <td>3</td>\n",
       "      <td>0.98</td>\n",
       "      <td>5450</td>\n",
       "      <td>0</td>\n",
       "      <td>0</td>\n",
       "    </tr>\n",
       "    <tr>\n",
       "      <td>5</td>\n",
       "      <td>3</td>\n",
       "      <td>0.99</td>\n",
       "      <td>1936</td>\n",
       "      <td>0</td>\n",
       "      <td>0</td>\n",
       "    </tr>\n",
       "    <tr>\n",
       "      <td>6</td>\n",
       "      <td>5</td>\n",
       "      <td>0.95</td>\n",
       "      <td>9019</td>\n",
       "      <td>0</td>\n",
       "      <td>1</td>\n",
       "    </tr>\n",
       "    <tr>\n",
       "      <td>7</td>\n",
       "      <td>5</td>\n",
       "      <td>0.98</td>\n",
       "      <td>5450</td>\n",
       "      <td>0</td>\n",
       "      <td>0</td>\n",
       "    </tr>\n",
       "    <tr>\n",
       "      <td>8</td>\n",
       "      <td>5</td>\n",
       "      <td>0.99</td>\n",
       "      <td>1936</td>\n",
       "      <td>0</td>\n",
       "      <td>0</td>\n",
       "    </tr>\n",
       "    <tr>\n",
       "      <td>9</td>\n",
       "      <td>10</td>\n",
       "      <td>0.95</td>\n",
       "      <td>9019</td>\n",
       "      <td>0</td>\n",
       "      <td>1</td>\n",
       "    </tr>\n",
       "    <tr>\n",
       "      <td>10</td>\n",
       "      <td>10</td>\n",
       "      <td>0.98</td>\n",
       "      <td>5450</td>\n",
       "      <td>0</td>\n",
       "      <td>0</td>\n",
       "    </tr>\n",
       "    <tr>\n",
       "      <td>11</td>\n",
       "      <td>10</td>\n",
       "      <td>0.99</td>\n",
       "      <td>1936</td>\n",
       "      <td>0</td>\n",
       "      <td>0</td>\n",
       "    </tr>\n",
       "  </tbody>\n",
       "</table>\n",
       "</div>"
      ],
      "text/plain": [
       "    n_neighbours  threshold  intersect  unique_smaller  unique_larger\n",
       "0              2       0.95       9016               0              4\n",
       "1              2       0.98       5450               0              0\n",
       "2              2       0.99       1936               0              0\n",
       "3              3       0.95       9020               0              0\n",
       "4              3       0.98       5450               0              0\n",
       "5              3       0.99       1936               0              0\n",
       "6              5       0.95       9019               0              1\n",
       "7              5       0.98       5450               0              0\n",
       "8              5       0.99       1936               0              0\n",
       "9             10       0.95       9019               0              1\n",
       "10            10       0.98       5450               0              0\n",
       "11            10       0.99       1936               0              0"
      ]
     },
     "execution_count": 9,
     "metadata": {},
     "output_type": "execute_result"
    }
   ],
   "source": [
    "jf.obtained_genes_by_n_neighbours(neighbour_calculator=neighbour_calculator, neighbours_size_larger=100,\n",
    "                                   neighbours_sizes_smaller=[2,3,5,10], thresholds=[0.95,0.98,0.99],log=True)"
   ]
  },
  {
   "cell_type": "markdown",
   "metadata": {},
   "source": [
    "Processing with minmax without log."
   ]
  },
  {
   "cell_type": "code",
   "execution_count": 12,
   "metadata": {},
   "outputs": [
    {
     "data": {
      "text/html": [
       "<div>\n",
       "<style scoped>\n",
       "    .dataframe tbody tr th:only-of-type {\n",
       "        vertical-align: middle;\n",
       "    }\n",
       "\n",
       "    .dataframe tbody tr th {\n",
       "        vertical-align: top;\n",
       "    }\n",
       "\n",
       "    .dataframe thead th {\n",
       "        text-align: right;\n",
       "    }\n",
       "</style>\n",
       "<table border=\"1\" class=\"dataframe\">\n",
       "  <thead>\n",
       "    <tr style=\"text-align: right;\">\n",
       "      <th></th>\n",
       "      <th>n_neighbours</th>\n",
       "      <th>threshold</th>\n",
       "      <th>intersect</th>\n",
       "      <th>unique_smaller</th>\n",
       "      <th>unique_larger</th>\n",
       "    </tr>\n",
       "  </thead>\n",
       "  <tbody>\n",
       "    <tr>\n",
       "      <td>0</td>\n",
       "      <td>2</td>\n",
       "      <td>0.95</td>\n",
       "      <td>3593</td>\n",
       "      <td>0</td>\n",
       "      <td>10</td>\n",
       "    </tr>\n",
       "    <tr>\n",
       "      <td>1</td>\n",
       "      <td>2</td>\n",
       "      <td>0.98</td>\n",
       "      <td>310</td>\n",
       "      <td>0</td>\n",
       "      <td>4</td>\n",
       "    </tr>\n",
       "    <tr>\n",
       "      <td>2</td>\n",
       "      <td>2</td>\n",
       "      <td>0.99</td>\n",
       "      <td>38</td>\n",
       "      <td>0</td>\n",
       "      <td>0</td>\n",
       "    </tr>\n",
       "    <tr>\n",
       "      <td>3</td>\n",
       "      <td>3</td>\n",
       "      <td>0.95</td>\n",
       "      <td>3601</td>\n",
       "      <td>0</td>\n",
       "      <td>2</td>\n",
       "    </tr>\n",
       "    <tr>\n",
       "      <td>4</td>\n",
       "      <td>3</td>\n",
       "      <td>0.98</td>\n",
       "      <td>311</td>\n",
       "      <td>0</td>\n",
       "      <td>3</td>\n",
       "    </tr>\n",
       "    <tr>\n",
       "      <td>5</td>\n",
       "      <td>3</td>\n",
       "      <td>0.99</td>\n",
       "      <td>38</td>\n",
       "      <td>0</td>\n",
       "      <td>0</td>\n",
       "    </tr>\n",
       "    <tr>\n",
       "      <td>6</td>\n",
       "      <td>5</td>\n",
       "      <td>0.95</td>\n",
       "      <td>3596</td>\n",
       "      <td>0</td>\n",
       "      <td>7</td>\n",
       "    </tr>\n",
       "    <tr>\n",
       "      <td>7</td>\n",
       "      <td>5</td>\n",
       "      <td>0.98</td>\n",
       "      <td>309</td>\n",
       "      <td>0</td>\n",
       "      <td>5</td>\n",
       "    </tr>\n",
       "    <tr>\n",
       "      <td>8</td>\n",
       "      <td>5</td>\n",
       "      <td>0.99</td>\n",
       "      <td>38</td>\n",
       "      <td>0</td>\n",
       "      <td>0</td>\n",
       "    </tr>\n",
       "    <tr>\n",
       "      <td>9</td>\n",
       "      <td>10</td>\n",
       "      <td>0.95</td>\n",
       "      <td>3601</td>\n",
       "      <td>0</td>\n",
       "      <td>2</td>\n",
       "    </tr>\n",
       "    <tr>\n",
       "      <td>10</td>\n",
       "      <td>10</td>\n",
       "      <td>0.98</td>\n",
       "      <td>309</td>\n",
       "      <td>0</td>\n",
       "      <td>5</td>\n",
       "    </tr>\n",
       "    <tr>\n",
       "      <td>11</td>\n",
       "      <td>10</td>\n",
       "      <td>0.99</td>\n",
       "      <td>38</td>\n",
       "      <td>0</td>\n",
       "      <td>0</td>\n",
       "    </tr>\n",
       "  </tbody>\n",
       "</table>\n",
       "</div>"
      ],
      "text/plain": [
       "    n_neighbours  threshold  intersect  unique_smaller  unique_larger\n",
       "0              2       0.95       3593               0             10\n",
       "1              2       0.98        310               0              4\n",
       "2              2       0.99         38               0              0\n",
       "3              3       0.95       3601               0              2\n",
       "4              3       0.98        311               0              3\n",
       "5              3       0.99         38               0              0\n",
       "6              5       0.95       3596               0              7\n",
       "7              5       0.98        309               0              5\n",
       "8              5       0.99         38               0              0\n",
       "9             10       0.95       3601               0              2\n",
       "10            10       0.98        309               0              5\n",
       "11            10       0.99         38               0              0"
      ]
     },
     "execution_count": 12,
     "metadata": {},
     "output_type": "execute_result"
    }
   ],
   "source": [
    "jf.obtained_genes_by_n_neighbours(neighbour_calculator=neighbour_calculator, neighbours_size_larger=100,\n",
    "                                   neighbours_sizes_smaller=[2,3,5,10], thresholds=[0.95,0.98,0.99],log=False)"
   ]
  },
  {
   "cell_type": "code",
   "execution_count": 80,
   "metadata": {},
   "outputs": [
    {
     "data": {
      "text/html": [
       "<div>\n",
       "<style scoped>\n",
       "    .dataframe tbody tr th:only-of-type {\n",
       "        vertical-align: middle;\n",
       "    }\n",
       "\n",
       "    .dataframe tbody tr th {\n",
       "        vertical-align: top;\n",
       "    }\n",
       "\n",
       "    .dataframe thead th {\n",
       "        text-align: right;\n",
       "    }\n",
       "</style>\n",
       "<table border=\"1\" class=\"dataframe\">\n",
       "  <thead>\n",
       "    <tr style=\"text-align: right;\">\n",
       "      <th></th>\n",
       "      <th>n_neighbours</th>\n",
       "      <th>threshold</th>\n",
       "      <th>intersect</th>\n",
       "      <th>unique_smaller</th>\n",
       "      <th>unique_larger</th>\n",
       "    </tr>\n",
       "  </thead>\n",
       "  <tbody>\n",
       "    <tr>\n",
       "      <td>0</td>\n",
       "      <td>2</td>\n",
       "      <td>0.95</td>\n",
       "      <td>780</td>\n",
       "      <td>0</td>\n",
       "      <td>4</td>\n",
       "    </tr>\n",
       "    <tr>\n",
       "      <td>1</td>\n",
       "      <td>2</td>\n",
       "      <td>0.98</td>\n",
       "      <td>76</td>\n",
       "      <td>0</td>\n",
       "      <td>2</td>\n",
       "    </tr>\n",
       "    <tr>\n",
       "      <td>2</td>\n",
       "      <td>2</td>\n",
       "      <td>0.99</td>\n",
       "      <td>8</td>\n",
       "      <td>0</td>\n",
       "      <td>0</td>\n",
       "    </tr>\n",
       "    <tr>\n",
       "      <td>3</td>\n",
       "      <td>3</td>\n",
       "      <td>0.95</td>\n",
       "      <td>784</td>\n",
       "      <td>0</td>\n",
       "      <td>0</td>\n",
       "    </tr>\n",
       "    <tr>\n",
       "      <td>4</td>\n",
       "      <td>3</td>\n",
       "      <td>0.98</td>\n",
       "      <td>78</td>\n",
       "      <td>0</td>\n",
       "      <td>0</td>\n",
       "    </tr>\n",
       "    <tr>\n",
       "      <td>5</td>\n",
       "      <td>3</td>\n",
       "      <td>0.99</td>\n",
       "      <td>8</td>\n",
       "      <td>0</td>\n",
       "      <td>0</td>\n",
       "    </tr>\n",
       "    <tr>\n",
       "      <td>6</td>\n",
       "      <td>5</td>\n",
       "      <td>0.95</td>\n",
       "      <td>784</td>\n",
       "      <td>0</td>\n",
       "      <td>0</td>\n",
       "    </tr>\n",
       "    <tr>\n",
       "      <td>7</td>\n",
       "      <td>5</td>\n",
       "      <td>0.98</td>\n",
       "      <td>78</td>\n",
       "      <td>0</td>\n",
       "      <td>0</td>\n",
       "    </tr>\n",
       "    <tr>\n",
       "      <td>8</td>\n",
       "      <td>5</td>\n",
       "      <td>0.99</td>\n",
       "      <td>8</td>\n",
       "      <td>0</td>\n",
       "      <td>0</td>\n",
       "    </tr>\n",
       "    <tr>\n",
       "      <td>9</td>\n",
       "      <td>10</td>\n",
       "      <td>0.95</td>\n",
       "      <td>784</td>\n",
       "      <td>0</td>\n",
       "      <td>0</td>\n",
       "    </tr>\n",
       "    <tr>\n",
       "      <td>10</td>\n",
       "      <td>10</td>\n",
       "      <td>0.98</td>\n",
       "      <td>78</td>\n",
       "      <td>0</td>\n",
       "      <td>0</td>\n",
       "    </tr>\n",
       "    <tr>\n",
       "      <td>11</td>\n",
       "      <td>10</td>\n",
       "      <td>0.99</td>\n",
       "      <td>8</td>\n",
       "      <td>0</td>\n",
       "      <td>0</td>\n",
       "    </tr>\n",
       "  </tbody>\n",
       "</table>\n",
       "</div>"
      ],
      "text/plain": [
       "    n_neighbours  threshold  intersect  unique_smaller  unique_larger\n",
       "0              2       0.95        780               0              4\n",
       "1              2       0.98         76               0              2\n",
       "2              2       0.99          8               0              0\n",
       "3              3       0.95        784               0              0\n",
       "4              3       0.98         78               0              0\n",
       "5              3       0.99          8               0              0\n",
       "6              5       0.95        784               0              0\n",
       "7              5       0.98         78               0              0\n",
       "8              5       0.99          8               0              0\n",
       "9             10       0.95        784               0              0\n",
       "10            10       0.98         78               0              0\n",
       "11            10       0.99          8               0              0"
      ]
     },
     "execution_count": 80,
     "metadata": {},
     "output_type": "execute_result"
    }
   ],
   "source": [
    "jf.obtained_genes_by_n_neighbours(neighbour_calculator=neighbour_calculator, neighbours_size_larger=100,\n",
    "                                   neighbours_sizes_smaller=[2,3,5,10], thresholds=[0.95,0.98,0.99],scale='mean0std1')"
   ]
  },
  {
   "cell_type": "markdown",
   "metadata": {},
   "source": [
    "## Similarity threshold selection"
   ]
  },
  {
   "cell_type": "markdown",
   "metadata": {},
   "source": [
    "To determine which genes will be retained for regulon computation it must be selected how close must be the nearest neighbour to preserve the genes from this pair. \n",
    "\n",
    "This could be done based on N of retained genes at each threshold (N genes) or by comparison of retained gene sets between samples (variation of F value), as done above for preprocessing parameter selection. The table is as above, subseted by relevant columns.\n",
    "\n",
    "A 'bump' sometimes appears at higher thresholds, posslibly indicating variability between replicates (used in training/test set) that becomes evident at lower number of retained genes. This variability between strains can be evaluated latter when plotting the expression profiles."
   ]
  },
  {
   "cell_type": "markdown",
   "metadata": {},
   "source": [
    "Scaling with minmax and use of log transformation."
   ]
  },
  {
   "cell_type": "code",
   "execution_count": 37,
   "metadata": {},
   "outputs": [
    {
     "data": {
      "image/png": "[encoded data removed]",
      "text/plain": [
       "<Figure size 432x288 with 2 Axes>"
      ]
     },
     "metadata": {},
     "output_type": "display_data"
    }
   ],
   "source": [
    "summary=neighbour_calculator.plot_select_threshold(thresholds=[0.97,0.975,0.98,0.985,0.99,0.9925,0.995,0.997,0.999],\n",
    "                                                   filter_column='Replicate',\n",
    "                                                   filter_column_values_sub=subset1,\n",
    "                                                   filter_column_values_test=subset2,\n",
    "                                                   neighbours_n=2)"
   ]
  },
  {
   "cell_type": "code",
   "execution_count": 38,
   "metadata": {},
   "outputs": [
    {
     "data": {
      "text/html": [
       "<div>\n",
       "<style scoped>\n",
       "    .dataframe tbody tr th:only-of-type {\n",
       "        vertical-align: middle;\n",
       "    }\n",
       "\n",
       "    .dataframe tbody tr th {\n",
       "        vertical-align: top;\n",
       "    }\n",
       "\n",
       "    .dataframe thead th {\n",
       "        text-align: right;\n",
       "    }\n",
       "</style>\n",
       "<table border=\"1\" class=\"dataframe\">\n",
       "  <thead>\n",
       "    <tr style=\"text-align: right;\">\n",
       "      <th></th>\n",
       "      <th>threshold</th>\n",
       "      <th>N genes</th>\n",
       "      <th>F value</th>\n",
       "    </tr>\n",
       "  </thead>\n",
       "  <tbody>\n",
       "    <tr>\n",
       "      <td>0</td>\n",
       "      <td>0.9700</td>\n",
       "      <td>7286</td>\n",
       "      <td>0.929430</td>\n",
       "    </tr>\n",
       "    <tr>\n",
       "      <td>1</td>\n",
       "      <td>0.9750</td>\n",
       "      <td>6324</td>\n",
       "      <td>0.898286</td>\n",
       "    </tr>\n",
       "    <tr>\n",
       "      <td>2</td>\n",
       "      <td>0.9800</td>\n",
       "      <td>5025</td>\n",
       "      <td>0.860815</td>\n",
       "    </tr>\n",
       "    <tr>\n",
       "      <td>3</td>\n",
       "      <td>0.9850</td>\n",
       "      <td>3420</td>\n",
       "      <td>0.803843</td>\n",
       "    </tr>\n",
       "    <tr>\n",
       "      <td>4</td>\n",
       "      <td>0.9900</td>\n",
       "      <td>1677</td>\n",
       "      <td>0.757662</td>\n",
       "    </tr>\n",
       "    <tr>\n",
       "      <td>5</td>\n",
       "      <td>0.9925</td>\n",
       "      <td>923</td>\n",
       "      <td>0.729597</td>\n",
       "    </tr>\n",
       "    <tr>\n",
       "      <td>6</td>\n",
       "      <td>0.9950</td>\n",
       "      <td>372</td>\n",
       "      <td>0.726131</td>\n",
       "    </tr>\n",
       "    <tr>\n",
       "      <td>7</td>\n",
       "      <td>0.9970</td>\n",
       "      <td>134</td>\n",
       "      <td>0.746479</td>\n",
       "    </tr>\n",
       "    <tr>\n",
       "      <td>8</td>\n",
       "      <td>0.9990</td>\n",
       "      <td>13</td>\n",
       "      <td>0.222222</td>\n",
       "    </tr>\n",
       "  </tbody>\n",
       "</table>\n",
       "</div>"
      ],
      "text/plain": [
       "   threshold  N genes   F value\n",
       "0     0.9700     7286  0.929430\n",
       "1     0.9750     6324  0.898286\n",
       "2     0.9800     5025  0.860815\n",
       "3     0.9850     3420  0.803843\n",
       "4     0.9900     1677  0.757662\n",
       "5     0.9925      923  0.729597\n",
       "6     0.9950      372  0.726131\n",
       "7     0.9970      134  0.746479\n",
       "8     0.9990       13  0.222222"
      ]
     },
     "execution_count": 38,
     "metadata": {},
     "output_type": "execute_result"
    }
   ],
   "source": [
    "summary.loc[:,['threshold','N genes','F value']]"
   ]
  },
  {
   "cell_type": "markdown",
   "metadata": {},
   "source": [
    "Scaling with minmax and no log transformation"
   ]
  },
  {
   "cell_type": "code",
   "execution_count": 33,
   "metadata": {},
   "outputs": [
    {
     "data": {
      "image/png": "[encoded data removed]",
      "text/plain": [
       "<Figure size 432x288 with 2 Axes>"
      ]
     },
     "metadata": {},
     "output_type": "display_data"
    }
   ],
   "source": [
    "summary_no_log=neighbour_calculator.plot_select_threshold(thresholds=[0.9,0.96,0.97,0.975,0.98,0.985,0.99,\n",
    "                                                                      0.995,0.999],\n",
    "                                                   filter_column='Replicate',\n",
    "                                                   filter_column_values_sub=subset1,\n",
    "                                                   filter_column_values_test=subset2,\n",
    "                                                   neighbours_n=2,use_log=False)"
   ]
  },
  {
   "cell_type": "code",
   "execution_count": 55,
   "metadata": {},
   "outputs": [
    {
     "data": {
      "text/html": [
       "<div>\n",
       "<style scoped>\n",
       "    .dataframe tbody tr th:only-of-type {\n",
       "        vertical-align: middle;\n",
       "    }\n",
       "\n",
       "    .dataframe tbody tr th {\n",
       "        vertical-align: top;\n",
       "    }\n",
       "\n",
       "    .dataframe thead th {\n",
       "        text-align: right;\n",
       "    }\n",
       "</style>\n",
       "<table border=\"1\" class=\"dataframe\">\n",
       "  <thead>\n",
       "    <tr style=\"text-align: right;\">\n",
       "      <th></th>\n",
       "      <th>threshold</th>\n",
       "      <th>N genes</th>\n",
       "      <th>F value</th>\n",
       "    </tr>\n",
       "  </thead>\n",
       "  <tbody>\n",
       "    <tr>\n",
       "      <td>0</td>\n",
       "      <td>0.900</td>\n",
       "      <td>9017</td>\n",
       "      <td>0.932247</td>\n",
       "    </tr>\n",
       "    <tr>\n",
       "      <td>1</td>\n",
       "      <td>0.960</td>\n",
       "      <td>2523</td>\n",
       "      <td>0.740310</td>\n",
       "    </tr>\n",
       "    <tr>\n",
       "      <td>2</td>\n",
       "      <td>0.970</td>\n",
       "      <td>1154</td>\n",
       "      <td>0.665054</td>\n",
       "    </tr>\n",
       "    <tr>\n",
       "      <td>3</td>\n",
       "      <td>0.975</td>\n",
       "      <td>683</td>\n",
       "      <td>0.663551</td>\n",
       "    </tr>\n",
       "    <tr>\n",
       "      <td>4</td>\n",
       "      <td>0.980</td>\n",
       "      <td>371</td>\n",
       "      <td>0.633971</td>\n",
       "    </tr>\n",
       "    <tr>\n",
       "      <td>5</td>\n",
       "      <td>0.985</td>\n",
       "      <td>206</td>\n",
       "      <td>0.587973</td>\n",
       "    </tr>\n",
       "    <tr>\n",
       "      <td>6</td>\n",
       "      <td>0.990</td>\n",
       "      <td>100</td>\n",
       "      <td>0.463918</td>\n",
       "    </tr>\n",
       "    <tr>\n",
       "      <td>7</td>\n",
       "      <td>0.995</td>\n",
       "      <td>35</td>\n",
       "      <td>0.478873</td>\n",
       "    </tr>\n",
       "    <tr>\n",
       "      <td>8</td>\n",
       "      <td>0.999</td>\n",
       "      <td>13</td>\n",
       "      <td>0.400000</td>\n",
       "    </tr>\n",
       "  </tbody>\n",
       "</table>\n",
       "</div>"
      ],
      "text/plain": [
       "   threshold  N genes   F value\n",
       "0      0.900     9017  0.932247\n",
       "1      0.960     2523  0.740310\n",
       "2      0.970     1154  0.665054\n",
       "3      0.975      683  0.663551\n",
       "4      0.980      371  0.633971\n",
       "5      0.985      206  0.587973\n",
       "6      0.990      100  0.463918\n",
       "7      0.995       35  0.478873\n",
       "8      0.999       13  0.400000"
      ]
     },
     "execution_count": 55,
     "metadata": {},
     "output_type": "execute_result"
    }
   ],
   "source": [
    "summary_no_log.loc[:,['threshold','N genes','F value']]"
   ]
  },
  {
   "cell_type": "markdown",
   "metadata": {},
   "source": [
    "Scaling with mean0std1 and log transformation."
   ]
  },
  {
   "cell_type": "code",
   "execution_count": 44,
   "metadata": {},
   "outputs": [
    {
     "data": {
      "image/png": "[encoded data removed]",
      "text/plain": [
       "<Figure size 432x288 with 2 Axes>"
      ]
     },
     "metadata": {},
     "output_type": "display_data"
    }
   ],
   "source": [
    "summary_meanstd=neighbour_calculator.plot_select_threshold(thresholds=[0.9,0.92,0.94,0.95,0.955,0.96,0.97,0.98,0.99],\n",
    "                                                   filter_column='Replicate',\n",
    "                                                   filter_column_values_sub=subset1,\n",
    "                                                   filter_column_values_test=subset2,\n",
    "                                                   neighbours_n=2,scale='mean0std1')"
   ]
  },
  {
   "cell_type": "code",
   "execution_count": 56,
   "metadata": {},
   "outputs": [
    {
     "data": {
      "text/html": [
       "<div>\n",
       "<style scoped>\n",
       "    .dataframe tbody tr th:only-of-type {\n",
       "        vertical-align: middle;\n",
       "    }\n",
       "\n",
       "    .dataframe tbody tr th {\n",
       "        vertical-align: top;\n",
       "    }\n",
       "\n",
       "    .dataframe thead th {\n",
       "        text-align: right;\n",
       "    }\n",
       "</style>\n",
       "<table border=\"1\" class=\"dataframe\">\n",
       "  <thead>\n",
       "    <tr style=\"text-align: right;\">\n",
       "      <th></th>\n",
       "      <th>threshold</th>\n",
       "      <th>N genes</th>\n",
       "      <th>F value</th>\n",
       "    </tr>\n",
       "  </thead>\n",
       "  <tbody>\n",
       "    <tr>\n",
       "      <td>0</td>\n",
       "      <td>0.900</td>\n",
       "      <td>2803</td>\n",
       "      <td>0.851515</td>\n",
       "    </tr>\n",
       "    <tr>\n",
       "      <td>1</td>\n",
       "      <td>0.920</td>\n",
       "      <td>1973</td>\n",
       "      <td>0.837980</td>\n",
       "    </tr>\n",
       "    <tr>\n",
       "      <td>2</td>\n",
       "      <td>0.940</td>\n",
       "      <td>1235</td>\n",
       "      <td>0.809626</td>\n",
       "    </tr>\n",
       "    <tr>\n",
       "      <td>3</td>\n",
       "      <td>0.950</td>\n",
       "      <td>918</td>\n",
       "      <td>0.790698</td>\n",
       "    </tr>\n",
       "    <tr>\n",
       "      <td>4</td>\n",
       "      <td>0.955</td>\n",
       "      <td>764</td>\n",
       "      <td>0.742610</td>\n",
       "    </tr>\n",
       "    <tr>\n",
       "      <td>5</td>\n",
       "      <td>0.960</td>\n",
       "      <td>611</td>\n",
       "      <td>0.714022</td>\n",
       "    </tr>\n",
       "    <tr>\n",
       "      <td>6</td>\n",
       "      <td>0.970</td>\n",
       "      <td>328</td>\n",
       "      <td>0.685083</td>\n",
       "    </tr>\n",
       "    <tr>\n",
       "      <td>7</td>\n",
       "      <td>0.980</td>\n",
       "      <td>131</td>\n",
       "      <td>0.638889</td>\n",
       "    </tr>\n",
       "    <tr>\n",
       "      <td>8</td>\n",
       "      <td>0.990</td>\n",
       "      <td>18</td>\n",
       "      <td>0.529412</td>\n",
       "    </tr>\n",
       "  </tbody>\n",
       "</table>\n",
       "</div>"
      ],
      "text/plain": [
       "   threshold  N genes   F value\n",
       "0      0.900     2803  0.851515\n",
       "1      0.920     1973  0.837980\n",
       "2      0.940     1235  0.809626\n",
       "3      0.950      918  0.790698\n",
       "4      0.955      764  0.742610\n",
       "5      0.960      611  0.714022\n",
       "6      0.970      328  0.685083\n",
       "7      0.980      131  0.638889\n",
       "8      0.990       18  0.529412"
      ]
     },
     "execution_count": 56,
     "metadata": {},
     "output_type": "execute_result"
    }
   ],
   "source": [
    "summary_meanstd.loc[:,['threshold','N genes','F value']]"
   ]
  },
  {
   "cell_type": "markdown",
   "metadata": {},
   "source": [
    "# Conclusion"
   ]
  },
  {
   "cell_type": "markdown",
   "metadata": {},
   "source": [
    "Based on above tests the genes for regulon (non inverse) calculation could be obtained with: 2 closest neighbours calculation based on cosine similarity and data preprocessed with log transformation and mean 0 and std 1 scaling. Threshold for inclusion of genes in close neighbours pairs could be 0.95 (or above): retaining approx 1000 genes (or less)."
   ]
  },
  {
   "cell_type": "code",
   "execution_count": null,
   "metadata": {},
   "outputs": [],
   "source": []
  }
 ],
 "metadata": {
  "kernelspec": {
   "display_name": "Python 3",
   "language": "python",
   "name": "python3"
  },
  "language_info": {
   "codemirror_mode": {
    "name": "ipython",
    "version": 3
   },
   "file_extension": ".py",
   "mimetype": "text/x-python",
   "name": "python",
   "nbconvert_exporter": "python",
   "pygments_lexer": "ipython3",
   "version": "3.6.8"
  }
 },
 "nbformat": 4,
 "nbformat_minor": 2
}
