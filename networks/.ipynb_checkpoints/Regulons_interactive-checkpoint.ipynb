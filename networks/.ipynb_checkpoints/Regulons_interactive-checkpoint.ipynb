{
 "cells": [
  {
   "cell_type": "markdown",
   "metadata": {},
   "source": [
    "### Load data"
   ]
  },
  {
   "cell_type": "code",
   "execution_count": 1,
   "metadata": {},
   "outputs": [],
   "source": [
    "import os\n",
    "import sys\n",
    "\n",
    "module_path = os.path.abspath(os.path.join('..'))\n",
    "if module_path not in sys.path:\n",
    "    sys.path.insert(0,module_path)\n",
    "\n",
    "import pandas as pd\n",
    "import matplotlib.pyplot as plt\n",
    "import altair as alt\n",
    "alt.renderers.enable('notebook')\n",
    "import random\n",
    "\n",
    "import ipywidgets\n",
    "\n",
    "from correlation_enrichment.library import SimilarityCalculator\n",
    "from library_regulons import *\n"
   ]
  },
  {
   "cell_type": "code",
   "execution_count": 2,
   "metadata": {},
   "outputs": [],
   "source": [
    "dataPath=module_path+'/data_expression/'\n",
    "genes = pd.read_csv(dataPath + 'mergedGenes_RPKUM.tsv', sep='\\t', index_col=0)\n",
    "conditions = pd.read_csv(dataPath + 'conditions_mergedGenes.tsv', sep='\\t', index_col=None)\n",
    "neighbour_calculator = NeighbourCalculator(genes,conditions=conditions,conditions_names_column='Measurment')"
   ]
  },
  {
   "cell_type": "markdown",
   "metadata": {},
   "source": [
    "## Select similarity threshold for obtaining genes with at least as similar (threshold) neighbours"
   ]
  },
  {
   "cell_type": "markdown",
   "metadata": {},
   "source": [
    "#### Avaliable replicates for determining  genes with at least how similar neighbour should still be used"
   ]
  },
  {
   "cell_type": "code",
   "execution_count": 16,
   "metadata": {},
   "outputs": [
    {
     "data": {
      "text/plain": [
       "['ac3pkaCoe_r2',\n",
       " 'gtaG_r2',\n",
       " 'dgcA_r2',\n",
       " 'mybB_bio2',\n",
       " 'AX4_FDpool02',\n",
       " 'dgcA_r1',\n",
       " 'AX4_bio1',\n",
       " 'gtaI_bio1',\n",
       " 'gtaG_r1',\n",
       " 'tagB_bio1',\n",
       " 'pkaR_bio1',\n",
       " 'tgrB1C1_r1',\n",
       " 'gbfA_r1',\n",
       " 'tgrC1_r1',\n",
       " 'mybBGFP_bio2',\n",
       " 'gbfA_r3',\n",
       " 'AX4_bio2',\n",
       " 'cudA_r2',\n",
       " 'mybBGFP_bio1',\n",
       " 'cudA_r3',\n",
       " 'AX4_pool19',\n",
       " 'ecmA_bio1',\n",
       " 'AX4_r1',\n",
       " 'pkaCoeAX4_r2',\n",
       " 'tgrB1_r1',\n",
       " 'ecmA_bio2',\n",
       " 'tgrB1C1_r2',\n",
       " 'AX4_bio3',\n",
       " 'pkaR_bio2',\n",
       " 'AX4_FDpool01',\n",
       " 'mybB_bio1',\n",
       " 'tagB_bio2',\n",
       " 'ac3pkaCoe_r1',\n",
       " 'AX4_pool21',\n",
       " 'gtaI_bio2',\n",
       " 'pkaCoeAX4_r3',\n",
       " 'comH_r1',\n",
       " 'comH_r2',\n",
       " 'tgrC1_r2',\n",
       " 'AX4_r2',\n",
       " 'tgrB1_r2']"
      ]
     },
     "execution_count": 16,
     "metadata": {},
     "output_type": "execute_result"
    }
   ],
   "source": [
    "availiable_replicates=list(set(conditions.loc[:,'Replicate']))\n",
    "availiable_replicates"
   ]
  },
  {
   "cell_type": "code",
   "execution_count": 14,
   "metadata": {},
   "outputs": [
    {
     "name": "stdout",
     "output_type": "stream",
     "text": [
      "['AX4_pool21', 'AX4_r2', 'tgrB1_r2', 'ecmA_bio1', 'comH_r1', 'comH_r2', 'tgrB1_r1', 'AX4_r1', 'AX4_bio2', 'AX4_FDpool01', 'cudA_r2', 'pkaR_bio2', 'ac3pkaCoe_r2', 'pkaR_bio1', 'mybB_bio1', 'AX4_bio3', 'tgrB1C1_r1', 'ecmA_bio2', 'gbfA_r3', 'AX4_FDpool02', 'mybBGFP_bio1', 'tgrC1_r1', 'cudA_r3', 'mybB_bio2', 'tgrB1C1_r2', 'pkaCoeAX4_r3', 'pkaCoeAX4_r2', 'AX4_bio1', 'gbfA_r1', 'gtaG_r2']\n",
      "['dgcA_r2', 'dgcA_r1', 'gtaI_bio1', 'gtaG_r1', 'tagB_bio1', 'mybBGFP_bio2', 'AX4_pool19', 'tagB_bio2', 'ac3pkaCoe_r1', 'gtaI_bio2', 'tgrC1_r2']\n"
     ]
    }
   ],
   "source": [
    "#TODO pack in fucntion\n",
    "filter_column_values_sub=random.sample(availiable_replicates,30)\n",
    "print(filter_column_values_sub)\n",
    "filter_column_values_test=availiable_replicates.copy()\n",
    "for sub in filter_column_values_sub:\n",
    "    filter_column_values_test.remove(sub)\n",
    "print(filter_column_values_test)"
   ]
  },
  {
   "cell_type": "code",
   "execution_count": 5,
   "metadata": {},
   "outputs": [],
   "source": [
    "filter_column_values_sub=['comH_r1', 'cudA_r2', 'gbfA_r1', 'mybBGFP_bio1','pkaR_bio1']\n",
    "filter_column_values_test=['AX4_bio1']"
   ]
  },
  {
   "cell_type": "markdown",
   "metadata": {},
   "source": [
    "### Number of retained genes and their agreement across different replicate samples based on threshold"
   ]
  },
  {
   "cell_type": "code",
   "execution_count": 15,
   "metadata": {},
   "outputs": [
    {
     "data": {
      "text/html": [
       "<div>\n",
       "<style scoped>\n",
       "    .dataframe tbody tr th:only-of-type {\n",
       "        vertical-align: middle;\n",
       "    }\n",
       "\n",
       "    .dataframe tbody tr th {\n",
       "        vertical-align: top;\n",
       "    }\n",
       "\n",
       "    .dataframe thead th {\n",
       "        text-align: right;\n",
       "    }\n",
       "</style>\n",
       "<table border=\"1\" class=\"dataframe\">\n",
       "  <thead>\n",
       "    <tr style=\"text-align: right;\">\n",
       "      <th></th>\n",
       "      <th>N neighbours</th>\n",
       "      <th>inverse</th>\n",
       "      <th>use_log</th>\n",
       "      <th>scale</th>\n",
       "      <th>threshold</th>\n",
       "      <th>batches</th>\n",
       "      <th>MSE</th>\n",
       "      <th>N pairs</th>\n",
       "      <th>N genes</th>\n",
       "    </tr>\n",
       "  </thead>\n",
       "  <tbody>\n",
       "    <tr>\n",
       "      <td>0</td>\n",
       "      <td>2</td>\n",
       "      <td>False</td>\n",
       "      <td>True</td>\n",
       "      <td>minmax</td>\n",
       "      <td>0.960</td>\n",
       "      <td>None</td>\n",
       "      <td>0.00046</td>\n",
       "      <td>7828</td>\n",
       "      <td>8506</td>\n",
       "    </tr>\n",
       "    <tr>\n",
       "      <td>1</td>\n",
       "      <td>2</td>\n",
       "      <td>False</td>\n",
       "      <td>True</td>\n",
       "      <td>minmax</td>\n",
       "      <td>0.970</td>\n",
       "      <td>None</td>\n",
       "      <td>0.00043</td>\n",
       "      <td>6804</td>\n",
       "      <td>7462</td>\n",
       "    </tr>\n",
       "    <tr>\n",
       "      <td>2</td>\n",
       "      <td>2</td>\n",
       "      <td>False</td>\n",
       "      <td>True</td>\n",
       "      <td>minmax</td>\n",
       "      <td>0.975</td>\n",
       "      <td>None</td>\n",
       "      <td>0.00040</td>\n",
       "      <td>5955</td>\n",
       "      <td>6585</td>\n",
       "    </tr>\n",
       "    <tr>\n",
       "      <td>3</td>\n",
       "      <td>2</td>\n",
       "      <td>False</td>\n",
       "      <td>True</td>\n",
       "      <td>minmax</td>\n",
       "      <td>0.980</td>\n",
       "      <td>None</td>\n",
       "      <td>0.00037</td>\n",
       "      <td>4783</td>\n",
       "      <td>5359</td>\n",
       "    </tr>\n",
       "    <tr>\n",
       "      <td>4</td>\n",
       "      <td>2</td>\n",
       "      <td>False</td>\n",
       "      <td>True</td>\n",
       "      <td>minmax</td>\n",
       "      <td>0.985</td>\n",
       "      <td>None</td>\n",
       "      <td>0.00032</td>\n",
       "      <td>3261</td>\n",
       "      <td>3756</td>\n",
       "    </tr>\n",
       "    <tr>\n",
       "      <td>5</td>\n",
       "      <td>2</td>\n",
       "      <td>False</td>\n",
       "      <td>True</td>\n",
       "      <td>minmax</td>\n",
       "      <td>0.990</td>\n",
       "      <td>None</td>\n",
       "      <td>0.00027</td>\n",
       "      <td>1501</td>\n",
       "      <td>1797</td>\n",
       "    </tr>\n",
       "    <tr>\n",
       "      <td>6</td>\n",
       "      <td>2</td>\n",
       "      <td>False</td>\n",
       "      <td>True</td>\n",
       "      <td>minmax</td>\n",
       "      <td>0.995</td>\n",
       "      <td>None</td>\n",
       "      <td>0.00010</td>\n",
       "      <td>302</td>\n",
       "      <td>390</td>\n",
       "    </tr>\n",
       "    <tr>\n",
       "      <td>7</td>\n",
       "      <td>2</td>\n",
       "      <td>False</td>\n",
       "      <td>True</td>\n",
       "      <td>minmax</td>\n",
       "      <td>0.999</td>\n",
       "      <td>None</td>\n",
       "      <td>0.00002</td>\n",
       "      <td>7</td>\n",
       "      <td>12</td>\n",
       "    </tr>\n",
       "  </tbody>\n",
       "</table>\n",
       "</div>"
      ],
      "text/plain": [
       "   N neighbours  inverse  use_log   scale  threshold batches      MSE  \\\n",
       "0             2    False     True  minmax      0.960    None  0.00046   \n",
       "1             2    False     True  minmax      0.970    None  0.00043   \n",
       "2             2    False     True  minmax      0.975    None  0.00040   \n",
       "3             2    False     True  minmax      0.980    None  0.00037   \n",
       "4             2    False     True  minmax      0.985    None  0.00032   \n",
       "5             2    False     True  minmax      0.990    None  0.00027   \n",
       "6             2    False     True  minmax      0.995    None  0.00010   \n",
       "7             2    False     True  minmax      0.999    None  0.00002   \n",
       "\n",
       "   N pairs  N genes  \n",
       "0     7828     8506  \n",
       "1     6804     7462  \n",
       "2     5955     6585  \n",
       "3     4783     5359  \n",
       "4     3261     3756  \n",
       "5     1501     1797  \n",
       "6      302      390  \n",
       "7        7       12  "
      ]
     },
     "execution_count": 15,
     "metadata": {},
     "output_type": "execute_result"
    },
    {
     "data": {
      "image/png": "[encoded data removed]",
      "text/plain": [
       "<Figure size 432x288 with 2 Axes>"
      ]
     },
     "metadata": {},
     "output_type": "display_data"
    }
   ],
   "source": [
    "summary=neighbour_calculator.plot_select_threshold(thresholds=[0.96,0.97,0.975,0.98,0.985,0.99,0.995,0.999],\n",
    "                                                   filter_column='Replicate',\n",
    "                                                   filter_column_values_sub=filter_column_values_sub,\n",
    "                                                   filter_column_values_test=filter_column_values_test,\n",
    "                                                   neighbours_n=2)\n",
    "summary"
   ]
  },
  {
   "cell_type": "markdown",
   "metadata": {},
   "source": [
    "## Hierarchical clustering"
   ]
  },
  {
   "cell_type": "code",
   "execution_count": 7,
   "metadata": {},
   "outputs": [],
   "source": [
    "# Use genes with at least one close neighbour in clustering\n",
    "result = neighbour_calculator.neighbours(2, inverse=False)\n",
    "hcl = HierarchicalClustering(result, genes, 0.99, inverse=False)"
   ]
  },
  {
   "cell_type": "code",
   "execution_count": 8,
   "metadata": {},
   "outputs": [],
   "source": [
    "# Use genes with at least one inverse profile neighbour in clustering\n",
    "result_inverse=neighbour_calculator.neighbours(2, inverse=True)\n",
    "hcl_inverse = HierarchicalClustering(result_inverse, genes, 0.99, inverse=True)"
   ]
  },
  {
   "cell_type": "code",
   "execution_count": 9,
   "metadata": {},
   "outputs": [],
   "source": [
    "ca=ClusterAnalyser(genes.index)"
   ]
  },
  {
   "cell_type": "markdown",
   "metadata": {},
   "source": [
    "### Cluster statistics based on cutting of hierarchical clustering"
   ]
  },
  {
   "cell_type": "code",
   "execution_count": 10,
   "metadata": {},
   "outputs": [
    {
     "data": {
      "text/html": [
       "<div>\n",
       "<style scoped>\n",
       "    .dataframe tbody tr th:only-of-type {\n",
       "        vertical-align: middle;\n",
       "    }\n",
       "\n",
       "    .dataframe tbody tr th {\n",
       "        vertical-align: top;\n",
       "    }\n",
       "\n",
       "    .dataframe thead th {\n",
       "        text-align: right;\n",
       "    }\n",
       "</style>\n",
       "<table border=\"1\" class=\"dataframe\">\n",
       "  <thead>\n",
       "    <tr style=\"text-align: right;\">\n",
       "      <th></th>\n",
       "      <th>Splitting parameter</th>\n",
       "      <th>Mean silhouette values</th>\n",
       "      <th>Mean max annotation ratio</th>\n",
       "      <th>Median cluster size</th>\n",
       "      <th>N clusters</th>\n",
       "    </tr>\n",
       "  </thead>\n",
       "  <tbody>\n",
       "    <tr>\n",
       "      <td>0</td>\n",
       "      <td>0.001</td>\n",
       "      <td>0.002077</td>\n",
       "      <td>1.000000</td>\n",
       "      <td>1.0</td>\n",
       "      <td>1963</td>\n",
       "    </tr>\n",
       "    <tr>\n",
       "      <td>1</td>\n",
       "      <td>0.031</td>\n",
       "      <td>0.162378</td>\n",
       "      <td>0.533074</td>\n",
       "      <td>7.0</td>\n",
       "      <td>213</td>\n",
       "    </tr>\n",
       "    <tr>\n",
       "      <td>2</td>\n",
       "      <td>0.061</td>\n",
       "      <td>0.150196</td>\n",
       "      <td>0.420233</td>\n",
       "      <td>19.5</td>\n",
       "      <td>86</td>\n",
       "    </tr>\n",
       "    <tr>\n",
       "      <td>3</td>\n",
       "      <td>0.091</td>\n",
       "      <td>0.153059</td>\n",
       "      <td>0.383268</td>\n",
       "      <td>28.0</td>\n",
       "      <td>54</td>\n",
       "    </tr>\n",
       "    <tr>\n",
       "      <td>4</td>\n",
       "      <td>0.121</td>\n",
       "      <td>0.163127</td>\n",
       "      <td>0.352140</td>\n",
       "      <td>41.0</td>\n",
       "      <td>39</td>\n",
       "    </tr>\n",
       "    <tr>\n",
       "      <td>5</td>\n",
       "      <td>0.151</td>\n",
       "      <td>0.167790</td>\n",
       "      <td>0.338521</td>\n",
       "      <td>44.0</td>\n",
       "      <td>32</td>\n",
       "    </tr>\n",
       "    <tr>\n",
       "      <td>6</td>\n",
       "      <td>0.181</td>\n",
       "      <td>0.182637</td>\n",
       "      <td>0.311284</td>\n",
       "      <td>52.5</td>\n",
       "      <td>24</td>\n",
       "    </tr>\n",
       "    <tr>\n",
       "      <td>7</td>\n",
       "      <td>0.211</td>\n",
       "      <td>0.189513</td>\n",
       "      <td>0.289883</td>\n",
       "      <td>58.0</td>\n",
       "      <td>23</td>\n",
       "    </tr>\n",
       "    <tr>\n",
       "      <td>8</td>\n",
       "      <td>0.241</td>\n",
       "      <td>0.180281</td>\n",
       "      <td>0.284047</td>\n",
       "      <td>66.5</td>\n",
       "      <td>20</td>\n",
       "    </tr>\n",
       "    <tr>\n",
       "      <td>9</td>\n",
       "      <td>0.271</td>\n",
       "      <td>0.190951</td>\n",
       "      <td>0.258755</td>\n",
       "      <td>74.0</td>\n",
       "      <td>17</td>\n",
       "    </tr>\n",
       "    <tr>\n",
       "      <td>10</td>\n",
       "      <td>0.301</td>\n",
       "      <td>0.194223</td>\n",
       "      <td>0.247082</td>\n",
       "      <td>59.0</td>\n",
       "      <td>15</td>\n",
       "    </tr>\n",
       "    <tr>\n",
       "      <td>11</td>\n",
       "      <td>0.331</td>\n",
       "      <td>0.188768</td>\n",
       "      <td>0.241245</td>\n",
       "      <td>51.5</td>\n",
       "      <td>14</td>\n",
       "    </tr>\n",
       "    <tr>\n",
       "      <td>12</td>\n",
       "      <td>0.361</td>\n",
       "      <td>0.185184</td>\n",
       "      <td>0.237354</td>\n",
       "      <td>68.0</td>\n",
       "      <td>12</td>\n",
       "    </tr>\n",
       "    <tr>\n",
       "      <td>13</td>\n",
       "      <td>0.391</td>\n",
       "      <td>0.182370</td>\n",
       "      <td>0.231518</td>\n",
       "      <td>77.0</td>\n",
       "      <td>11</td>\n",
       "    </tr>\n",
       "  </tbody>\n",
       "</table>\n",
       "</div>"
      ],
      "text/plain": [
       "    Splitting parameter  Mean silhouette values  Mean max annotation ratio  \\\n",
       "0                 0.001                0.002077                   1.000000   \n",
       "1                 0.031                0.162378                   0.533074   \n",
       "2                 0.061                0.150196                   0.420233   \n",
       "3                 0.091                0.153059                   0.383268   \n",
       "4                 0.121                0.163127                   0.352140   \n",
       "5                 0.151                0.167790                   0.338521   \n",
       "6                 0.181                0.182637                   0.311284   \n",
       "7                 0.211                0.189513                   0.289883   \n",
       "8                 0.241                0.180281                   0.284047   \n",
       "9                 0.271                0.190951                   0.258755   \n",
       "10                0.301                0.194223                   0.247082   \n",
       "11                0.331                0.188768                   0.241245   \n",
       "12                0.361                0.185184                   0.237354   \n",
       "13                0.391                0.182370                   0.231518   \n",
       "\n",
       "    Median cluster size  N clusters  \n",
       "0                   1.0        1963  \n",
       "1                   7.0         213  \n",
       "2                  19.5          86  \n",
       "3                  28.0          54  \n",
       "4                  41.0          39  \n",
       "5                  44.0          32  \n",
       "6                  52.5          24  \n",
       "7                  58.0          23  \n",
       "8                  66.5          20  \n",
       "9                  74.0          17  \n",
       "10                 59.0          15  \n",
       "11                 51.5          14  \n",
       "12                 68.0          12  \n",
       "13                 77.0          11  "
      ]
     },
     "execution_count": 10,
     "metadata": {},
     "output_type": "execute_result"
    },
    {
     "data": {
      "image/png": "[encoded data removed]",
      "text/plain": [
       "<Figure size 432x288 with 4 Axes>"
      ]
     },
     "metadata": {},
     "output_type": "display_data"
    }
   ],
   "source": [
    "ca.plot_clustering_metrics(clustering=hcl, splittings=np.arange(0.001,0.4,0.03))"
   ]
  },
  {
   "cell_type": "markdown",
   "metadata": {},
   "source": [
    "#### Clustering dendrogram for cutting at specified height"
   ]
  },
  {
   "cell_type": "code",
   "execution_count": 11,
   "metadata": {},
   "outputs": [
    {
     "data": {
      "application/vnd.jupyter.widget-view+json": {
       "model_id": "32acae241e854a249850f86d6cf6256d",
       "version_major": 2,
       "version_minor": 0
      },
      "text/plain": [
       "interactive(children=(FloatSlider(value=1.0, description='splitting', max=3.0, step=0.05), Output()), _dom_cla…"
      ]
     },
     "metadata": {},
     "output_type": "display_data"
    },
    {
     "data": {
      "text/plain": [
       "<function __main__.plot_clustering(splitting)>"
      ]
     },
     "execution_count": 11,
     "metadata": {},
     "output_type": "execute_result"
    }
   ],
   "source": [
    "def plot_clustering(splitting):\n",
    "    hcl.plot_clustering(cutting_distance=splitting)\n",
    "ipywidgets.interact(plot_clustering,splitting=(0, 3, 0.05))"
   ]
  },
  {
   "cell_type": "markdown",
   "metadata": {},
   "source": [
    "#### Cluster size distribution fir cutting at specified height"
   ]
  },
  {
   "cell_type": "code",
   "execution_count": 12,
   "metadata": {},
   "outputs": [
    {
     "data": {
      "application/vnd.jupyter.widget-view+json": {
       "model_id": "4368aeba01714a46bb10d834631ff787",
       "version_major": 2,
       "version_minor": 0
      },
      "text/plain": [
       "interactive(children=(FloatSlider(value=1.0, description='splitting', max=3.0, step=0.05), Output()), _dom_cla…"
      ]
     },
     "metadata": {},
     "output_type": "display_data"
    },
    {
     "data": {
      "text/plain": [
       "<function __main__.plot_clustering(splitting)>"
      ]
     },
     "execution_count": 12,
     "metadata": {},
     "output_type": "execute_result"
    }
   ],
   "source": [
    "def plot_clustering(splitting):\n",
    "    hcl.plot_cluster_sizes(splitting=splitting)\n",
    "ipywidgets.interact(plot_clustering,splitting=(0, 3, 0.05))"
   ]
  },
  {
   "cell_type": "code",
   "execution_count": 13,
   "metadata": {},
   "outputs": [],
   "source": [
    "hcl.save_clusters(splitting=0.1,file='Clusters_0.1.tsv')"
   ]
  },
  {
   "cell_type": "code",
   "execution_count": null,
   "metadata": {},
   "outputs": [],
   "source": []
  }
 ],
 "metadata": {
  "kernelspec": {
   "display_name": "Python 3",
   "language": "python",
   "name": "python3"
  },
  "language_info": {
   "codemirror_mode": {
    "name": "ipython",
    "version": 3
   },
   "file_extension": ".py",
   "mimetype": "text/x-python",
   "name": "python",
   "nbconvert_exporter": "python",
   "pygments_lexer": "ipython3",
   "version": "3.6.8"
  }
 },
 "nbformat": 4,
 "nbformat_minor": 2
}
