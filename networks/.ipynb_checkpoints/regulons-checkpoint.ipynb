{
 "cells": [
  {
   "cell_type": "markdown",
   "metadata": {},
   "source": [
    "# Obtain regulons based on gene expression similarity"
   ]
  },
  {
   "cell_type": "code",
   "execution_count": 3,
   "metadata": {},
   "outputs": [],
   "source": [
    "import os\n",
    "import sys\n",
    "\n",
    "module_path = os.path.abspath(os.path.join('..'))\n",
    "if module_path+'/correlation_enrichment/' not in sys.path:\n",
    "    sys.path.insert(0,module_path+'/correlation_enrichment/')\n",
    "if module_path+'/networks/' not in sys.path:\n",
    "    sys.path.insert(0,module_path+'/networks/')\n",
    "if module_path+'/data_expression/' not in sys.path:\n",
    "    sys.path.insert(0,module_path+'/data_expression/')\n",
    "\n",
    "import pandas as pd\n",
    "import matplotlib.pyplot as plt\n",
    "\n",
    "from library import SimilarityCalculator\n",
    "from library_regulons import *\n"
   ]
  },
  {
   "cell_type": "code",
   "execution_count": 4,
   "metadata": {},
   "outputs": [],
   "source": [
    "dataPath=module_path+'/data_expression/'\n",
    "genes = pd.read_csv(dataPath + 'mergedGenes_RPKUM.tsv', sep='\\t', index_col=0)\n",
    "conditions = pd.read_csv(dataPath + 'conditions_mergedGenes.tsv', sep='\\t', index_col=None)"
   ]
  },
  {
   "cell_type": "markdown",
   "metadata": {},
   "source": [
    "## Set parameters"
   ]
  },
  {
   "cell_type": "markdown",
   "metadata": {},
   "source": [
    "### Compare parameters for similarity calculation (expression scaling, way of combining samples)"
   ]
  },
  {
   "cell_type": "code",
   "execution_count": 5,
   "metadata": {},
   "outputs": [
    {
     "name": "stderr",
     "output_type": "stream",
     "text": [
      "/home/karin/Documents/git/orange3venv/lib/python3.6/site-packages/numba/ir_utils.py:1959: NumbaPendingDeprecationWarning: \n",
      "Encountered the use of a type that is scheduled for deprecation: type 'reflected list' found for argument 'forest' of function 'initialise_search'.\n",
      "\n",
      "For more information visit http://numba.pydata.org/numba-doc/latest/reference/deprecation.html#deprecation-of-reflection-for-list-and-set-types\n",
      "\n",
      "File \"../../orange3venv/lib/python3.6/site-packages/pynndescent/pynndescent_.py\", line 72:\n",
      "@numba.njit()\n",
      "def initialise_search(\n",
      "^\n",
      "\n",
      "  warnings.warn(NumbaPendingDeprecationWarning(msg, loc=loc))\n",
      "/home/karin/Documents/git/baylor-dicty/correlation_enrichment/library.py:235: RuntimeWarning: invalid value encountered in double_scalars\n",
      "  return np.inner(vector1, vector2) / (np.linalg.norm(vector1) * np.linalg.norm(vector2))\n"
     ]
    },
    {
     "name": "stdout",
     "output_type": "stream",
     "text": [
      "threshold: 0.95 MSE: 0.006849992730332485 N: 16043\n"
     ]
    }
   ],
   "source": [
    "# Set parameters\n",
    "# Cosine similarity threshold\n",
    "threshold=0.95\n",
    "#Set if want to compute at multiple thresholds\n",
    "thresholds=[threshold]\n",
    "#thresholds=[0.85,0.9,0.92,0.94,0.96,0.98,0.99]\n",
    "#Number of neighbours to obtain for each gene\n",
    "neighbours_n=30\n",
    "#Scaling of genes\n",
    "#scale: 'minmax' (from 0 to 1) or 'mean0std1' (to mean0 and std1)\n",
    "scale='minmax'\n",
    "#Log transform expression values before scaling\n",
    "use_log=True\n",
    "#Calculate inverse profiles\n",
    "inverse=False\n",
    "#Batches: 'replicate', 'strain', 'none' \n",
    "# replicate,strain - computes neighbours for each replicate/strain separately \n",
    "# and retains neighbours present at some threshold in all replicates/strains\n",
    "# none - uses all samples at the same time\n",
    "batches='none'\n",
    "\n",
    "#Prepare data\n",
    "if batches=='none':\n",
    "    batches=None\n",
    "if batches=='strain':\n",
    "    batches=list(conditions[list((conditions[\"Strain\"]=='comH') | (conditions[\"Strain\"]=='cudA') | (conditions[\"Strain\"]=='gbfA')  | (conditions[\"Strain\"]=='mybBGFP') | (conditions[\"Strain\"]=='pkaR'))]\n",
    "                 .loc[:,'Strain'])\n",
    "if batches=='replicate':\n",
    "    batches=list(conditions[list((conditions[\"Strain\"]=='comH') | (conditions[\"Strain\"]=='cudA') | (conditions[\"Strain\"]=='gbfA')  | (conditions[\"Strain\"]=='mybBGFP') | (conditions[\"Strain\"]=='pkaR'))]\n",
    "                .loc[:,'Replicate'])\n",
    "\n",
    "genes_sub=genes.T[list((conditions[\"Strain\"]=='comH')\n",
    "                        | (conditions[\"Strain\"]=='cudA')\n",
    "                        | (conditions[\"Strain\"]=='gbfA')\n",
    "                        | (conditions[\"Strain\"]=='mybBGFP')\n",
    "                        | (conditions[\"Strain\"]=='pkaR'))].T\n",
    "\n",
    "genes_test=genes.T[list((conditions[\"Replicate\"]=='AX4_bio1'))].T\n",
    "neighbour_calculator=NeighbourCalculator(genes_sub)\n",
    "test_index,test_query=NeighbourCalculator.get_index_query(genes_test,inverse=inverse,scale=scale,log=use_log)\n",
    "gene_names=np.array(genes_test.index)\n",
    "#Calculate neighbours\n",
    "if batches!=None:\n",
    "    results = neighbour_calculator.neighbours(neighbours_n, inverse=inverse, scale=scale, log=use_log, batches=batches)\n",
    "    result=neighbour_calculator.merge_results(results,threshold,len(set(batches)))\n",
    "else:\n",
    "    result = neighbour_calculator.neighbours(neighbours_n, inverse=inverse, scale=scale, log=use_log, batches=batches)\n",
    "\n",
    "#Filter neighbours on similarity\n",
    "for threshold in thresholds:\n",
    "    result_filtered=NeighbourCalculator.filter_similarities(result,threshold)\n",
    "    #Calculate MSE for each gene pair - \n",
    "    #compare similarity from gene subset to similarity of the gene pair in gene test set \n",
    "    sq_errors=[]\n",
    "    for pair,similarity in result_filtered.items():\n",
    "        gene1=pair[0]\n",
    "        gene2=pair[1]\n",
    "        similarity_test=SimilarityCalculator.calc_cosine(test_index[gene_names==gene1].flatten(),\n",
    "                                                         test_query[gene_names==gene2].flatten())\n",
    "        se=(similarity-similarity_test)**2\n",
    "        # Happens if at least one vector has all 0 values\n",
    "        if not np.isnan(se):\n",
    "            sq_errors.append(se)\n",
    "    print('threshold:',threshold,'MSE:',mean(sq_errors),'N:',len(result_filtered))\n"
   ]
  },
  {
   "cell_type": "markdown",
   "metadata": {},
   "source": [
    "#### Results summary\n",
    "Sample: comH_r1, cudA_r2, gbfA_r1,mybBGBF_bio1,pkaR_bio1 and test sample: AX4_bio1; not inverse: threshold 0.95; neighbours 30\n",
    "\n",
    "Comparison of scaling parameters:\n",
    "minmax, no log: MSE 0.01615798890022193, filtered N: 57921\n",
    "minmax, log: MSE 0.008855992300398607, filtered: 191347\n",
    "mean0std1, no log: MSE 0.10903301209390322, filtered: 14100\n",
    "mean0std1, log: MSE 0.008840844803079855, filtered: 6217\n",
    "mean0std1, log, threshold 0.935: MSE 0.008617332426242763, filtered: 14239\n",
    "Log on mean0std1 does not seem to perform better because of lesser number of retained pairs (eg. possibly more correlated ones, as shown when lowering filtering threshold for log based calculations\n",
    "\n",
    "Compare MSE at different thresholds, minmax, log, not inverse, 300 neighbours, no batches\n",
    "threshold: 0.99 MSE: 0.004401159883607221 N: 27422,\n",
    "threshold: 0.98 MSE: 0.008960403278511933 N: 235707,\n",
    "threshold: 0.97 MSE: 0.010837772836915213 N: 554577,\n",
    "threshold: 0.95 MSE: 0.012256426645819427 N: 1246669,\n",
    "threshold: 0.93 MSE: 0.012841511138263213 N: 1788086,\n",
    "threshold: 0.91 MSE: 0.013112523538440932 N: 2091354\n",
    "\n",
    "Use of batches by replicate\n",
    "minmax, log, batches: MSE 0.0005413249414331597, filtered: 243\n",
    "Try to lower threshold for merging to obtain similar number of results: However, even when lowering the threshold substantially (eg. to max of lowest similarity of individual strains - as pair must be present in all strains) the number of filtered pairs remained at 270\n",
    "\n",
    "Compare result by using batches on samples or strains\n",
    "Sample strains: comH, cudA, gbfA, mybBGBF, pkaR (each 2 replicates) and test sample: AX4_bio1; not inverse, threshold 0.95, neighbours 30, minmax, log\n",
    "By strain: 0.0006956959575191145 559, when lowering merging threshold to max of any result's min similarity there is 762 pairs\n",
    "By replicate: 6.592793901930816e-05 41, when lowering the merging threshold as above got to 54 pairs\n"
   ]
  },
  {
   "cell_type": "markdown",
   "metadata": {},
   "source": [
    "### Compare number of obtained neighbours above similarity threshold by setting different N of neighbours in the search"
   ]
  },
  {
   "cell_type": "code",
   "execution_count": 7,
   "metadata": {},
   "outputs": [
    {
     "data": {
      "text/plain": [
       "<matplotlib.collections.PathCollection at 0x7feffefc0400>"
      ]
     },
     "execution_count": 7,
     "metadata": {},
     "output_type": "execute_result"
    },
    {
     "data": {
      "image/png": "[encoded data removed]",
      "text/plain": [
       "<Figure size 432x288 with 1 Axes>"
      ]
     },
     "metadata": {
      "needs_background": "light"
     },
     "output_type": "display_data"
    }
   ],
   "source": [
    "neighbour_calculator = NeighbourCalculator(genes)\n",
    "inverse=False\n",
    "scale='minmax'\n",
    "use_log=True\n",
    "#Number of computed neighbours to compare\n",
    "N1=2\n",
    "N2=3\n",
    "#Similarity thresholds\n",
    "thresholds=[0.8,0.85,0.9,0.92,0.94,0.95,0.97,0.98,0.99]\n",
    "#Compute similarities\n",
    "#Can add parameter random (in function neighbours) to set different seed \n",
    "result0=np.array(list(neighbour_calculator.neighbours(N1,inverse,scale=scale,log=use_log).values()))\n",
    "result1=np.array(list(neighbour_calculator.neighbours(N2,inverse,scale=scale,log=use_log).values()))\n",
    "# What percent of shorter result's values is missing \n",
    "#(eg. how many more similarities at specified threshold are present in result with more neighbours (N2), \n",
    "# given as percentage of similarities at threhold from result with less neighbours (N1))\n",
    "differences=[]\n",
    "for threshold in thresholds:\n",
    "    differences.append((sum(result1>=threshold)-sum(result0>=threshold))/len(result0))\n",
    "plt.scatter(thresholds,differences)"
   ]
  },
  {
   "cell_type": "markdown",
   "metadata": {},
   "source": [
    "Regardless of N of compared neighbours with parameters scale=minmax, log=True, inverse=False there seems to be a knee at similarity=0.95. The difference in N of obtained pairs at any threshold depends heavily on difference of compared N1 and N2.\n",
    "\n",
    "On all genes:\n",
    "For: scale=minmax, log=True, inverse=False;\n",
    "Shows thresholds and differences\n",
    "\n",
    "With neighbours 90 and 100: \n",
    "{0.8: 0.0919429801303846,\n",
    " 0.85: 0.08757603169156868,\n",
    " 0.9: 0.0797643927342296,\n",
    " 0.92: 0.0747995882591472,\n",
    " 0.94: 0.06614783160215021,\n",
    " 0.95: 0.05897147966769602,\n",
    " 0.97: 0.030408517628954947,\n",
    " 0.98: 0.011565135115464196,\n",
    " 0.99: 0.0003566341225033012}\n",
    "\n",
    "With neighbours 250 and 300:\n",
    "{0.8: 0.15846030821583645,\n",
    " 0.85: 0.14988588269014977,\n",
    " 0.9: 0.13441715555935016,\n",
    " 0.92: 0.12286287322535006,\n",
    " 0.94: 0.10321746780016587,\n",
    " 0.95: 0.08689571949553593,\n",
    " 0.97: 0.03140208018246573,\n",
    " 0.98: 0.0075952425964775335,\n",
    " 0.99: 0.0}\n",
    "\n",
    "With neighbours 300 and 310:\n",
    "{0.8: 0.026306523784654787,\n",
    " 0.85: 0.02486818697868655,\n",
    " 0.9: 0.022217109835209428,\n",
    " 0.92: 0.020215100497172556,\n",
    " 0.94: 0.01687098335525039,\n",
    " 0.95: 0.01402936004208585,\n",
    " 0.97: 0.004912777331506044,\n",
    " 0.98: 0.0010464107378820762,\n",
    " 0.99: 0.0}\n",
    "\n",
    "With neighbours 300 and 400:\n",
    "{0.8: 0.26040938111687456,\n",
    " 0.85: 0.2459931932319785,\n",
    " 0.9: 0.21868104451164896,\n",
    " 0.92: 0.19832669873662792,\n",
    " 0.94: 0.16383019468529134,\n",
    " 0.95: 0.1344312786317128,\n",
    " 0.97: 0.04437049185446988,\n",
    " 0.98: 0.007848717812275061,\n",
    " 0.99: 0.0}\n",
    " \n",
    "With neighbours 30 and 400:\n",
    "{0.8: 7.517435541285033,\n",
    " 0.85: 7.133719717094834,\n",
    " 0.9: 6.469281868095933,\n",
    " 0.92: 5.998698212689623,\n",
    " 0.94: 5.203611369772997,\n",
    " 0.95: 4.545878659719649,\n",
    " 0.97: 2.084528974110627,\n",
    " 0.98: 0.7175401825616559,\n",
    " 0.99: 0.026200805364111155}\n",
    " \n",
    "With neighbours 100 and 400:\n",
    "{0.8: 1.670834934350487,\n",
    " 0.85: 1.581152357478234,\n",
    " 0.9: 1.4285127878316448,\n",
    " 0.92: 1.3180810286496163,\n",
    " 0.94: 1.1282372566844419,\n",
    " 0.95: 0.9730991630975699,\n",
    " 0.97: 0.4022801608202206,\n",
    " 0.98: 0.12323271135769379,\n",
    " 0.99: 0.0005182609673579937}\n",
    " \n",
    "With neighbours 200 and 400:\n",
    " {0.8: 0.4361484072449974,\n",
    " 0.85: 0.412617918149787,\n",
    " 0.9: 0.3709839505106742,\n",
    " 0.92: 0.3396469738651342,\n",
    " 0.94: 0.2868074013833705,\n",
    " 0.95: 0.24303973323287179,\n",
    " 0.97: 0.09090551080230366,\n",
    " 0.98: 0.023746848319847257,\n",
    " 0.99: 0.0}\n",
    " \n",
    "For 2 runs with 300 neighbours and different random seed the differences are 0 or in range of 3e-07.\n",
    " \n",
    "For neighbours  with scale=minmax, log=False, inverse=False, threhold=0.95\n",
    "N=20 vs N=30 0.0102, N=20 vs N=20, different seed =1.004e-05, N=30 vs N=40: 0.00299, N=30 vs N=30, different seed: -3.320e-05"
   ]
  },
  {
   "cell_type": "markdown",
   "metadata": {},
   "source": [
    "## Visualise how similarity at certain threshold looks like"
   ]
  },
  {
   "cell_type": "code",
   "execution_count": 8,
   "metadata": {},
   "outputs": [
    {
     "ename": "NameError",
     "evalue": "name 'neighbours_minmax' is not defined",
     "output_type": "error",
     "traceback": [
      "\u001b[0;31m---------------------------------------------------------------------------\u001b[0m",
      "\u001b[0;31mNameError\u001b[0m                                 Traceback (most recent call last)",
      "\u001b[0;32m<ipython-input-8-33d8b674af2a>\u001b[0m in \u001b[0;36m<module>\u001b[0;34m\u001b[0m\n\u001b[1;32m     14\u001b[0m         \u001b[0;32mif\u001b[0m \u001b[0msim_threshold\u001b[0m \u001b[0;34m<=\u001b[0m \u001b[0msim\u001b[0m \u001b[0;34m<\u001b[0m \u001b[0msim_threshold\u001b[0m \u001b[0;34m+\u001b[0m \u001b[0mstep\u001b[0m\u001b[0;34m:\u001b[0m\u001b[0;34m\u001b[0m\u001b[0;34m\u001b[0m\u001b[0m\n\u001b[1;32m     15\u001b[0m             \u001b[0msim_minmax\u001b[0m\u001b[0;34m=\u001b[0m\u001b[0;34m'NA'\u001b[0m\u001b[0;34m\u001b[0m\u001b[0;34m\u001b[0m\u001b[0m\n\u001b[0;32m---> 16\u001b[0;31m             \u001b[0;32mif\u001b[0m \u001b[0mgene_pair\u001b[0m \u001b[0;32min\u001b[0m \u001b[0mneighbours_minmax\u001b[0m\u001b[0;34m.\u001b[0m\u001b[0mkeys\u001b[0m\u001b[0;34m(\u001b[0m\u001b[0;34m)\u001b[0m\u001b[0;34m:\u001b[0m\u001b[0;34m\u001b[0m\u001b[0;34m\u001b[0m\u001b[0m\n\u001b[0m\u001b[1;32m     17\u001b[0m                 \u001b[0msim_minmax\u001b[0m\u001b[0;34m=\u001b[0m\u001b[0mround\u001b[0m\u001b[0;34m(\u001b[0m\u001b[0mneighbours_minmax\u001b[0m\u001b[0;34m[\u001b[0m\u001b[0mgene_pair\u001b[0m\u001b[0;34m]\u001b[0m\u001b[0;34m,\u001b[0m\u001b[0;36m3\u001b[0m\u001b[0;34m)\u001b[0m\u001b[0;34m\u001b[0m\u001b[0;34m\u001b[0m\u001b[0m\n\u001b[1;32m     18\u001b[0m             \u001b[0msim_meanstd\u001b[0m \u001b[0;34m=\u001b[0m \u001b[0;34m'NA'\u001b[0m\u001b[0;34m\u001b[0m\u001b[0;34m\u001b[0m\u001b[0m\n",
      "\u001b[0;31mNameError\u001b[0m: name 'neighbours_minmax' is not defined"
     ]
    }
   ],
   "source": [
    "#sim_threshold - upper border, step - sim_threshold+step=upper border\n",
    "#Plots first 9 pairs with such similarity (some genes may be repeated)\n",
    "sim_threshold = 0.90\n",
    "step = 0.01\n",
    "#Show only first n points from gene table as there is too many points to show at once\n",
    "first_n_points=30\n",
    "\n",
    "neighbour_calculator = NeighbourCalculator(genes)\n",
    "neighbours = neighbour_calculator.neighbours(3, False, scale='minmax',log=True)\n",
    "# Plot how it looks to have similarity above threshold:\n",
    "max_plot = 1\n",
    "for gene_pair, sim in neighbours.items():\n",
    "    if max_plot <= 9:\n",
    "        if sim_threshold <= sim < sim_threshold + step:\n",
    "            sim_minmax='NA'\n",
    "            if gene_pair in neighbours_minmax.keys():\n",
    "                sim_minmax=round(neighbours_minmax[gene_pair],3)\n",
    "            sim_meanstd = 'NA'\n",
    "            plt.subplot(3, 3, max_plot)\n",
    "            plt.title('minmax '+str(sim_minmax),fontdict = {'size': 8 })\n",
    "            print(gene_pair)\n",
    "            gene1 = pp.minmax_scale(list(genes.loc[gene_pair[0],:].iloc[:first_n_points]))\n",
    "            gene2 = pp.minmax_scale(list(genes.loc[gene_pair[1],:].iloc[:first_n_points]))\n",
    "            plt.plot(list(range(first_n_points)), gene1, color='g', linewidth=1)\n",
    "            plt.plot(list(range(first_n_points)), gene2, color='m', linewidth=1)\n",
    "            max_plot += 1\n",
    "\n"
   ]
  },
  {
   "cell_type": "code",
   "execution_count": null,
   "metadata": {},
   "outputs": [],
   "source": []
  }
 ],
 "metadata": {
  "kernelspec": {
   "display_name": "Python 3",
   "language": "python",
   "name": "python3"
  },
  "language_info": {
   "codemirror_mode": {
    "name": "ipython",
    "version": 3
   },
   "file_extension": ".py",
   "mimetype": "text/x-python",
   "name": "python",
   "nbconvert_exporter": "python",
   "pygments_lexer": "ipython3",
   "version": "3.6.8"
  }
 },
 "nbformat": 4,
 "nbformat_minor": 2
}
