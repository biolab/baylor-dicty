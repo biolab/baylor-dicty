{
 "cells": [
  {
   "cell_type": "code",
   "execution_count": 1,
   "metadata": {},
   "outputs": [],
   "source": [
    "import os\n",
    "import sys\n",
    "\n",
    "module_path = os.path.abspath(os.path.join('..'))\n",
    "if module_path+'/correlation_enrichment/' not in sys.path:\n",
    "    sys.path.insert(0,module_path+'/correlation_enrichment/')\n",
    "if module_path+'/networks/' not in sys.path:\n",
    "    sys.path.insert(0,module_path+'/networks/')\n",
    "if module_path+'/data_expression/' not in sys.path:\n",
    "    sys.path.insert(0,module_path+'/data_expression/')\n",
    "\n",
    "from scipy import spatial\n",
    "from statistics import mean\n",
    "import altair as alt\n",
    "alt.renderers.enable('notebook')\n",
    "\n",
    "from functionsDENet import *\n",
    "from library import SimilarityCalculator"
   ]
  },
  {
   "cell_type": "code",
   "execution_count": 2,
   "metadata": {},
   "outputs": [],
   "source": [
    "#Load data, use AX4 average for testing\n",
    "dataPath=module_path+'/data_expression/'\n",
    "\n",
    "tableLayout = dict()\n",
    "tableLayout['rep'] = dict()\n",
    "tableLayout['single'] = dict()\n",
    "tableLayout['single']['lastGene'] = 12734\n",
    "tableLayout['single']['Time'] = 12737\n",
    "tableLayout['single']['Strain'] = 12736\n",
    "tableLayout['rep']['lastGene'] = 12868\n",
    "tableLayout['rep']['Time'] = 12870\n",
    "tableLayout['rep']['Strain'] = 12869\n",
    "# data=tableLayout['single']\n",
    "data = tableLayout['rep']\n",
    "\n",
    "samples = {\n",
    "    'AX4': [1, 2, 5, 6, 7, 8, 9],\n",
    "    'tagB': [1, 2],\n",
    "    'comH': [1, 2],\n",
    "    'tgrC1': [1, 2],\n",
    "    'tgrB1': [1, 2],\n",
    "    'tgrB1C1': [1, 2],\n",
    "    'gbfA': [1, 2],\n",
    "}\n",
    "\n",
    "genesFromRow = 2\n",
    "\n",
    "strain = 'AX4'\n",
    "\n",
    "table = importTable(dataPath + 'trans_9repAX4_6strains_2rep_avr_T12.tab')\n",
    "genes, genesNotNull = extractGenesFromTable(table, genesFromRow, data['lastGene'])\n",
    "\n",
    "# For average of strain\n",
    "genesWT, genesWTN = genesByStrain(genesNotNull, table, data['Strain'], strain + '_avr', genesFromRow)"
   ]
  },
  {
   "cell_type": "code",
   "execution_count": 3,
   "metadata": {},
   "outputs": [],
   "source": [
    "#Helper functions\n",
    "\n",
    "# Compute all similarities by hand\n",
    "def true_neighbours(scaled):\n",
    "    n=scaled.shape[0]\n",
    "    similarities = np.ones((n, n))\n",
    "    for i in range(0, n - 1):\n",
    "        for j in range(i + 1,n):\n",
    "            similarity = SimilarityCalculator.calc_cosine(scaled[i], scaled[j])\n",
    "            similarities[j][i] = similarity\n",
    "            similarities[i][j] = similarity\n",
    "    return similarities    \n",
    "\n",
    "    # Check if neighbours are the same\n",
    "    # For each gene sum differences of knn best neighbour position indices between approximated neighbours\n",
    "    # and all neighbours computed based on computing all distances. For each set of parameters average these \n",
    "    # differences for closest neighbours and \"inverse\" neighbours (eg. opposite profile).\n",
    "def compare_neighbours(similarities,neigh,neighInv):\n",
    "    n=similarities.shape[0]\n",
    "    place_inv = list(range(0, n))\n",
    "    diffs_inv = []\n",
    "    diffs = []\n",
    "    for i in range(0, n):\n",
    "        sorted_indices = np.argsort(similarities[i])\n",
    "        neigh_dict_inv = dict(zip(sorted_indices, place_inv))\n",
    "        diff = 0\n",
    "        diff_inv = 0\n",
    "        for neighbour_place in range(knnNeighbours):\n",
    "            neighbour_inv = neighInv[i][neighbour_place]\n",
    "            real_place_inv = neigh_dict_inv[neighbour_inv]\n",
    "            diff_inv += abs(real_place_inv - neighbour_place)\n",
    "\n",
    "            # Note that closest neighbour is most often self, but not always.\n",
    "            # Thus the first neighbour is not automatically excluded\n",
    "            neighbour = neigh[i][neighbour_place]\n",
    "            real_place = subset - 1 - neigh_dict_inv[neighbour]\n",
    "            diff += abs(real_place - neighbour_place)\n",
    "        diffs.append(diff)\n",
    "        diffs_inv.append(diff_inv)\n",
    "    return (mean(diffs),mean(diffs_inv))\n",
    "\n"
   ]
  },
  {
   "cell_type": "markdown",
   "metadata": {},
   "source": [
    "## Check if cosine metric corresponds to \"hand-calculated\" cosine distance"
   ]
  },
  {
   "cell_type": "code",
   "execution_count": 22,
   "metadata": {},
   "outputs": [
    {
     "name": "stdout",
     "output_type": "stream",
     "text": [
      "Index sec: 1.3025460243225098\n",
      "KNN 30 sec: 2.363718271255493\n",
      "KNN 30 inverse sec: 1.6984362602233887\n",
      "MSE 1.2850574712743311e-15\n",
      "MSE inverse 1.0066666666736874e-15\n"
     ]
    }
   ],
   "source": [
    "# Perform KNN with package\n",
    "knnNeighbours=30\n",
    "dist, neigh, distInv, neighInv, nGenesKnnUsed = genesKNN(knnNeighbours, genesWTN, 1, save=False, timing=True)\n",
    "\n",
    "# Check cosine distance calculation\n",
    "scaled = normaliseGenes(genesWTN, 1)\n",
    "inverse = scaled * -1\n",
    "sse = []\n",
    "sse_inv = []\n",
    "for gene in range(0, 150):\n",
    "    for neighbour in range(1, knnNeighbours):\n",
    "        cosine_package = round(dist[gene][neighbour], 7)\n",
    "        cosine_direct = round(spatial.distance.cosine(scaled[gene], scaled[neigh[gene][neighbour]]), 7)\n",
    "        sse.append((cosine_direct - cosine_package) ** 2)\n",
    "    for neighbour in range(0, knnNeighbours):\n",
    "        cosine_package = round(distInv[gene][neighbour], 7)\n",
    "        cosine_direct = round(1-SimilarityCalculator.calc_cosine(inverse[gene], scaled[neighInv[gene][neighbour]]), 7)\n",
    "        sse_inv.append((cosine_direct - cosine_package) ** 2)\n",
    "print('MSE', sum(sse) / len(sse))\n",
    "print('MSE inverse', sum(sse_inv) / len(sse_inv))\n",
    "\n"
   ]
  },
  {
   "cell_type": "markdown",
   "metadata": {},
   "source": [
    "## Check if closest neighbours computation is reliable"
   ]
  },
  {
   "cell_type": "code",
   "execution_count": 11,
   "metadata": {},
   "outputs": [
    {
     "name": "stdout",
     "output_type": "stream",
     "text": [
      "100 3\n",
      "Index sec: 0.0027039051055908203\n",
      "KNN 3 sec: 0.012598752975463867\n",
      "KNN 3 inverse sec: 0.0024046897888183594\n",
      "100 5\n",
      "Index sec: 0.0025720596313476562\n",
      "KNN 5 sec: 0.012901067733764648\n",
      "KNN 5 inverse sec: 0.0029125213623046875\n",
      "100 8\n",
      "Index sec: 0.002628326416015625\n",
      "KNN 8 sec: 0.01483607292175293\n",
      "KNN 8 inverse sec: 0.003966093063354492\n",
      "100 10\n",
      "Index sec: 0.003527402877807617\n",
      "KNN 10 sec: 0.015808582305908203\n",
      "KNN 10 inverse sec: 0.005009889602661133\n",
      "100 20\n",
      "Index sec: 0.0029015541076660156\n",
      "KNN 20 sec: 0.020388364791870117\n",
      "KNN 20 inverse sec: 0.009617090225219727\n",
      "500 3\n",
      "Index sec: 0.020162105560302734\n",
      "KNN 3 sec: 0.035518646240234375\n",
      "KNN 3 inverse sec: 0.00861978530883789\n",
      "500 5\n",
      "Index sec: 0.01791548728942871\n",
      "KNN 5 sec: 0.04084610939025879\n",
      "KNN 5 inverse sec: 0.016595125198364258\n",
      "500 8\n",
      "Index sec: 0.017864704132080078\n",
      "KNN 8 sec: 0.04436755180358887\n",
      "KNN 8 inverse sec: 0.016628503799438477\n",
      "500 50\n",
      "Index sec: 0.01944136619567871\n",
      "KNN 50 sec: 0.13353371620178223\n",
      "KNN 50 inverse sec: 0.09641122817993164\n",
      "500 100\n",
      "Index sec: 0.021909713745117188\n",
      "KNN 100 sec: 0.494067907333374\n",
      "KNN 100 inverse sec: 0.4569053649902344\n",
      "1000 3\n",
      "Index sec: 0.057779788970947266\n",
      "KNN 3 sec: 0.06914329528808594\n",
      "KNN 3 inverse sec: 0.021136999130249023\n",
      "1000 5\n",
      "Index sec: 0.048044443130493164\n",
      "KNN 5 sec: 0.0781855583190918\n",
      "KNN 5 inverse sec: 0.0279388427734375\n",
      "1000 8\n",
      "Index sec: 0.05261540412902832\n",
      "KNN 8 sec: 0.09417343139648438\n",
      "KNN 8 inverse sec: 0.03751325607299805\n",
      "1000 100\n",
      "Index sec: 0.05178666114807129\n",
      "KNN 100 sec: 0.6082665920257568\n",
      "KNN 100 inverse sec: 0.5353391170501709\n",
      "1000 200\n",
      "Index sec: 0.05407547950744629\n",
      "KNN 200 sec: 3.2558093070983887\n",
      "KNN 200 inverse sec: 3.1679255962371826\n"
     ]
    }
   ],
   "source": [
    "# Check how this depends on data set size and number of required neighbours\n",
    "subset_size = []\n",
    "neighbour_n = []\n",
    "mean_diff = []\n",
    "mean_diff_inv = []\n",
    "for subset in [100, 500, 1000]:\n",
    "    genesSub = genesWTN.iloc[:subset, ]\n",
    "\n",
    "    # Compute all similarities by hand\n",
    "    scaled = normaliseGenes(genesSub, 1)\n",
    "    similarities = true_neighbours(scaled)\n",
    "    \n",
    "    # If knnNeighbours is set too big compared to sample size the package becomes very slow\n",
    "    for knnNeighbours in [3, 5, 8, int(subset / 10), int(subset / 5)]:\n",
    "        print(subset, knnNeighbours)\n",
    "        subset_size.append(subset)\n",
    "        neighbour_n.append(knnNeighbours)\n",
    "\n",
    "        # Neighbours with package\n",
    "        dist, neigh, distInv, neighInv, nGenesKnnUsed = genesKNN(knnNeighbours, genesSub, 1, save=False, timing=True)\n",
    "\n",
    "        # Check if neighbours are the same\n",
    "        # For each gene sum differences of knn best neighbour position indices between approximated neighbours\n",
    "        # and all neighbours computed based on computing all distances. For each set of parameters average these \n",
    "        # differences for closest neighbours and \"inverse\" neighbours (eg. opposite profile).\n",
    "        mean_difference,mean_difference_inv=compare_neighbours(similarities,neigh,neighInv)\n",
    "\n",
    "        mean_diff.append(mean_difference)\n",
    "        mean_diff_inv.append(mean_difference_inv)"
   ]
  },
  {
   "cell_type": "code",
   "execution_count": 12,
   "metadata": {},
   "outputs": [],
   "source": [
    "df = pd.DataFrame(list(zip(subset_size, neighbour_n, mean_diff, mean_diff_inv)),\n",
    "                  columns=['N genes', 'N neighbours', 'mean neighbour diff', 'mean inverse neighbour diff'])"
   ]
  },
  {
   "cell_type": "markdown",
   "metadata": {},
   "source": [
    "On the below graphs \"mean neighbour diff\" is average of difference sums between true neighbour positions and approximated ones for each gene for approximated neighbours."
   ]
  },
  {
   "cell_type": "code",
   "execution_count": 13,
   "metadata": {},
   "outputs": [
    {
     "data": {
      "application/javascript": [
       "const spec = {\"config\": {\"view\": {\"width\": 400, \"height\": 300}, \"mark\": {\"tooltip\": null}, \"circle\": {\"size\": 50}}, \"data\": {\"name\": \"data-4a37e1fb39bb4efb42b6ad3358714e0b\"}, \"mark\": \"circle\", \"encoding\": {\"color\": {\"type\": \"quantitative\", \"field\": \"mean neighbour diff\", \"scale\": {\"range\": [\"darkviolet\", \"yellow\", \"yellowgreen\", \"green\"]}}, \"x\": {\"type\": \"quantitative\", \"field\": \"N genes\"}, \"y\": {\"type\": \"quantitative\", \"field\": \"N neighbours\"}}, \"$schema\": \"https://vega.github.io/schema/vega-lite/v3.4.0.json\", \"datasets\": {\"data-4a37e1fb39bb4efb42b6ad3358714e0b\": [{\"N genes\": 100, \"N neighbours\": 3, \"mean neighbour diff\": 0.18, \"mean inverse neighbour diff\": 0.04}, {\"N genes\": 100, \"N neighbours\": 5, \"mean neighbour diff\": 0.26, \"mean inverse neighbour diff\": 0.0}, {\"N genes\": 100, \"N neighbours\": 8, \"mean neighbour diff\": 0.32, \"mean inverse neighbour diff\": 0.01}, {\"N genes\": 100, \"N neighbours\": 10, \"mean neighbour diff\": 0.26, \"mean inverse neighbour diff\": 0.03}, {\"N genes\": 100, \"N neighbours\": 20, \"mean neighbour diff\": 0.54, \"mean inverse neighbour diff\": 0.3}, {\"N genes\": 500, \"N neighbours\": 3, \"mean neighbour diff\": 0.038, \"mean inverse neighbour diff\": 0.43}, {\"N genes\": 500, \"N neighbours\": 5, \"mean neighbour diff\": 0.054, \"mean inverse neighbour diff\": 0.602}, {\"N genes\": 500, \"N neighbours\": 8, \"mean neighbour diff\": 0.082, \"mean inverse neighbour diff\": 0.752}, {\"N genes\": 500, \"N neighbours\": 50, \"mean neighbour diff\": 0.246, \"mean inverse neighbour diff\": 0.128}, {\"N genes\": 500, \"N neighbours\": 100, \"mean neighbour diff\": 0.426, \"mean inverse neighbour diff\": 0.444}, {\"N genes\": 1000, \"N neighbours\": 3, \"mean neighbour diff\": 0.054, \"mean inverse neighbour diff\": 0.478}, {\"N genes\": 1000, \"N neighbours\": 5, \"mean neighbour diff\": 0.105, \"mean inverse neighbour diff\": 0.671}, {\"N genes\": 1000, \"N neighbours\": 8, \"mean neighbour diff\": 0.141, \"mean inverse neighbour diff\": 0.98}, {\"N genes\": 1000, \"N neighbours\": 100, \"mean neighbour diff\": 0.655, \"mean inverse neighbour diff\": 0.252}, {\"N genes\": 1000, \"N neighbours\": 200, \"mean neighbour diff\": 1.259, \"mean inverse neighbour diff\": 1.173}]}};\n",
       "const opt = {};\n",
       "const type = \"vega-lite\";\n",
       "const id = \"448a5765-f1b7-40f8-a29f-54b2d5e9a0fd\";\n",
       "\n",
       "const output_area = this;\n",
       "\n",
       "require([\"nbextensions/jupyter-vega/index\"], function(vega) {\n",
       "  const target = document.createElement(\"div\");\n",
       "  target.id = id;\n",
       "  target.className = \"vega-embed\";\n",
       "\n",
       "  const style = document.createElement(\"style\");\n",
       "  style.textContent = [\n",
       "    \".vega-embed .error p {\",\n",
       "    \"  color: firebrick;\",\n",
       "    \"  font-size: 14px;\",\n",
       "    \"}\",\n",
       "  ].join(\"\\\\n\");\n",
       "\n",
       "  // element is a jQuery wrapped DOM element inside the output area\n",
       "  // see http://ipython.readthedocs.io/en/stable/api/generated/\\\n",
       "  // IPython.display.html#IPython.display.Javascript.__init__\n",
       "  element[0].appendChild(target);\n",
       "  element[0].appendChild(style);\n",
       "\n",
       "  vega.render(\"#\" + id, spec, type, opt, output_area);\n",
       "}, function (err) {\n",
       "  if (err.requireType !== \"scripterror\") {\n",
       "    throw(err);\n",
       "  }\n",
       "});\n"
      ],
      "text/plain": [
       "<vega.vegalite.VegaLite at 0x7f5f40b23cf8>"
      ]
     },
     "metadata": {
      "jupyter-vega": "#448a5765-f1b7-40f8-a29f-54b2d5e9a0fd"
     },
     "output_type": "display_data"
    },
    {
     "data": {
      "text/plain": []
     },
     "execution_count": 13,
     "metadata": {},
     "output_type": "execute_result"
    },
    {
     "data": {
      "image/png": "[encoded data removed]"
     },
     "metadata": {
      "jupyter-vega": "#448a5765-f1b7-40f8-a29f-54b2d5e9a0fd"
     },
     "output_type": "display_data"
    }
   ],
   "source": [
    "alt.Chart(df).mark_circle().encode(x='N genes',y='N neighbours', \n",
    "                                   color=alt.Color('mean neighbour diff',scale=\n",
    "                                                   alt.Scale(range=['darkviolet','yellow','yellowgreen','green']))\n",
    "                                  ).configure_circle(size=50)"
   ]
  },
  {
   "cell_type": "code",
   "execution_count": 14,
   "metadata": {},
   "outputs": [
    {
     "data": {
      "application/javascript": [
       "const spec = {\"config\": {\"view\": {\"width\": 400, \"height\": 300}, \"mark\": {\"tooltip\": null}, \"circle\": {\"size\": 50}}, \"data\": {\"name\": \"data-4a37e1fb39bb4efb42b6ad3358714e0b\"}, \"mark\": \"circle\", \"encoding\": {\"color\": {\"type\": \"quantitative\", \"field\": \"mean inverse neighbour diff\", \"scale\": {\"range\": [\"darkviolet\", \"yellow\", \"yellowgreen\", \"green\"]}}, \"x\": {\"type\": \"quantitative\", \"field\": \"N genes\"}, \"y\": {\"type\": \"quantitative\", \"field\": \"N neighbours\"}}, \"selection\": {\"selector001\": {\"type\": \"interval\", \"bind\": \"scales\", \"encodings\": [\"x\", \"y\"]}}, \"$schema\": \"https://vega.github.io/schema/vega-lite/v3.4.0.json\", \"datasets\": {\"data-4a37e1fb39bb4efb42b6ad3358714e0b\": [{\"N genes\": 100, \"N neighbours\": 3, \"mean neighbour diff\": 0.18, \"mean inverse neighbour diff\": 0.04}, {\"N genes\": 100, \"N neighbours\": 5, \"mean neighbour diff\": 0.26, \"mean inverse neighbour diff\": 0.0}, {\"N genes\": 100, \"N neighbours\": 8, \"mean neighbour diff\": 0.32, \"mean inverse neighbour diff\": 0.01}, {\"N genes\": 100, \"N neighbours\": 10, \"mean neighbour diff\": 0.26, \"mean inverse neighbour diff\": 0.03}, {\"N genes\": 100, \"N neighbours\": 20, \"mean neighbour diff\": 0.54, \"mean inverse neighbour diff\": 0.3}, {\"N genes\": 500, \"N neighbours\": 3, \"mean neighbour diff\": 0.038, \"mean inverse neighbour diff\": 0.43}, {\"N genes\": 500, \"N neighbours\": 5, \"mean neighbour diff\": 0.054, \"mean inverse neighbour diff\": 0.602}, {\"N genes\": 500, \"N neighbours\": 8, \"mean neighbour diff\": 0.082, \"mean inverse neighbour diff\": 0.752}, {\"N genes\": 500, \"N neighbours\": 50, \"mean neighbour diff\": 0.246, \"mean inverse neighbour diff\": 0.128}, {\"N genes\": 500, \"N neighbours\": 100, \"mean neighbour diff\": 0.426, \"mean inverse neighbour diff\": 0.444}, {\"N genes\": 1000, \"N neighbours\": 3, \"mean neighbour diff\": 0.054, \"mean inverse neighbour diff\": 0.478}, {\"N genes\": 1000, \"N neighbours\": 5, \"mean neighbour diff\": 0.105, \"mean inverse neighbour diff\": 0.671}, {\"N genes\": 1000, \"N neighbours\": 8, \"mean neighbour diff\": 0.141, \"mean inverse neighbour diff\": 0.98}, {\"N genes\": 1000, \"N neighbours\": 100, \"mean neighbour diff\": 0.655, \"mean inverse neighbour diff\": 0.252}, {\"N genes\": 1000, \"N neighbours\": 200, \"mean neighbour diff\": 1.259, \"mean inverse neighbour diff\": 1.173}]}};\n",
       "const opt = {};\n",
       "const type = \"vega-lite\";\n",
       "const id = \"2d8c4134-8441-4280-8a92-104418216673\";\n",
       "\n",
       "const output_area = this;\n",
       "\n",
       "require([\"nbextensions/jupyter-vega/index\"], function(vega) {\n",
       "  const target = document.createElement(\"div\");\n",
       "  target.id = id;\n",
       "  target.className = \"vega-embed\";\n",
       "\n",
       "  const style = document.createElement(\"style\");\n",
       "  style.textContent = [\n",
       "    \".vega-embed .error p {\",\n",
       "    \"  color: firebrick;\",\n",
       "    \"  font-size: 14px;\",\n",
       "    \"}\",\n",
       "  ].join(\"\\\\n\");\n",
       "\n",
       "  // element is a jQuery wrapped DOM element inside the output area\n",
       "  // see http://ipython.readthedocs.io/en/stable/api/generated/\\\n",
       "  // IPython.display.html#IPython.display.Javascript.__init__\n",
       "  element[0].appendChild(target);\n",
       "  element[0].appendChild(style);\n",
       "\n",
       "  vega.render(\"#\" + id, spec, type, opt, output_area);\n",
       "}, function (err) {\n",
       "  if (err.requireType !== \"scripterror\") {\n",
       "    throw(err);\n",
       "  }\n",
       "});\n"
      ],
      "text/plain": [
       "<vega.vegalite.VegaLite at 0x7f5eedbb4b38>"
      ]
     },
     "metadata": {
      "jupyter-vega": "#2d8c4134-8441-4280-8a92-104418216673"
     },
     "output_type": "display_data"
    },
    {
     "data": {
      "text/plain": []
     },
     "execution_count": 14,
     "metadata": {},
     "output_type": "execute_result"
    },
    {
     "data": {
      "image/png": "[encoded data removed]"
     },
     "metadata": {
      "jupyter-vega": "#2d8c4134-8441-4280-8a92-104418216673"
     },
     "output_type": "display_data"
    }
   ],
   "source": [
    "alt.Chart(df).mark_circle().encode(x='N genes', y='N neighbours',\n",
    "                                   color=alt.Color('mean inverse neighbour diff', scale=\n",
    "                                   alt.Scale(range=['darkviolet', 'yellow', 'yellowgreen', 'green']))\n",
    "                                   ).configure_circle(size=50).interactive()"
   ]
  },
  {
   "cell_type": "markdown",
   "metadata": {},
   "source": [
    "## Precision parameter "
   ]
  },
  {
   "cell_type": "code",
   "execution_count": 4,
   "metadata": {},
   "outputs": [],
   "source": [
    "subset=1000\n",
    "genesSub = genesWTN.iloc[:subset, ]\n",
    "scaled = normaliseGenes(genesSub, 1)\n",
    "#True neighbours\n",
    "similarities = true_neighbours(scaled)    "
   ]
  },
  {
   "cell_type": "code",
   "execution_count": 11,
   "metadata": {},
   "outputs": [
    {
     "name": "stdout",
     "output_type": "stream",
     "text": [
      "1 3\n",
      "1 5\n",
      "1 10\n",
      "1 20\n",
      "1 30\n",
      "3 3\n",
      "3 5\n",
      "3 10\n",
      "3 20\n",
      "3 30\n",
      "5 3\n",
      "5 5\n",
      "5 10\n",
      "5 20\n",
      "5 30\n",
      "7 3\n",
      "7 5\n",
      "7 10\n",
      "7 20\n",
      "7 30\n",
      "10 3\n",
      "10 5\n",
      "10 10\n",
      "10 20\n",
      "10 30\n"
     ]
    }
   ],
   "source": [
    "neighbour_n = []\n",
    "mean_diff = []\n",
    "precisions=[]\n",
    "times=[]\n",
    "direction=[]\n",
    "#Package\n",
    "index = getKnnIndex(scaled)\n",
    "for precision in [1,3,5,7,10]:\n",
    "    # If knnNeighbours is set too big compared to sample size the package becomes very slow\n",
    "    for knnNeighbours in [3, 5, 10, 20, 30]:\n",
    "        print(precision, knnNeighbours)\n",
    "        #Twice as for inverse and not inverse\n",
    "        neighbour_n.append(knnNeighbours)\n",
    "        neighbour_n.append(knnNeighbours)\n",
    "        precisions.append(precision)\n",
    "        precisions.append(precision)\n",
    "        # Neighbours with package\n",
    "        start = time.time()\n",
    "        resultKNN = index.query(scaled.tolist(), k=knnNeighbours,queue_size=precision)\n",
    "        end = time.time() - start\n",
    "        times.append(end)\n",
    "        dist = resultKNN[1]\n",
    "        neigh = resultKNN[0]\n",
    "\n",
    "        # Inverse result\n",
    "        start = time.time()\n",
    "        inverse = scaled * -1\n",
    "        resultKNNInv = index.query(inverse.tolist(), k=knnNeighbours,queue_size=precision)\n",
    "        end = time.time() - start\n",
    "        times.append(end)\n",
    "        distInv = resultKNNInv[1]\n",
    "        neighInv = resultKNNInv[0]\n",
    "\n",
    "        # Check if neighbours are the same\n",
    "        # For each gene sum differences of knn best neighbour position indices between approximated neighbours\n",
    "        # and all neighbours computed based on computing all distances. For each set of parameters average these \n",
    "        # differences for closest neighbours and \"inverse\" neighbours (eg. opposite profile).\n",
    "        mean_difference,mean_difference_inv=compare_neighbours(similarities,neigh,neighInv)\n",
    "        mean_diff.append(mean_difference)\n",
    "        mean_diff.append(mean_difference_inv)\n",
    "        direction.append('similar')\n",
    "        direction.append('inverse')"
   ]
  },
  {
   "cell_type": "code",
   "execution_count": 12,
   "metadata": {},
   "outputs": [],
   "source": [
    "df = pd.DataFrame(list(zip(precisions, neighbour_n, mean_diff, times,direction)),\n",
    "                  columns=['precision', 'N neighbours', 'mean neighbour diff', 'time','direction'])"
   ]
  },
  {
   "cell_type": "code",
   "execution_count": 18,
   "metadata": {},
   "outputs": [
    {
     "data": {
      "application/javascript": [
       "const spec = {\"config\": {\"view\": {\"width\": 400, \"height\": 300}, \"mark\": {\"tooltip\": null}, \"circle\": {\"size\": 50}}, \"data\": {\"name\": \"data-a90f9678f4c9685a64c0124a81d7cfeb\"}, \"mark\": \"point\", \"encoding\": {\"color\": {\"type\": \"quantitative\", \"field\": \"N neighbours\", \"scale\": {\"range\": [\"darkviolet\", \"yellow\", \"yellowgreen\", \"green\"]}}, \"shape\": {\"type\": \"nominal\", \"field\": \"direction\", \"scale\": {\"range\": [\"triangle\", \"circle\"]}}, \"x\": {\"type\": \"quantitative\", \"field\": \"precision\"}, \"y\": {\"type\": \"quantitative\", \"field\": \"time\"}}, \"selection\": {\"selector007\": {\"type\": \"interval\", \"bind\": \"scales\", \"encodings\": [\"x\", \"y\"]}}, \"$schema\": \"https://vega.github.io/schema/vega-lite/v3.4.0.json\", \"datasets\": {\"data-a90f9678f4c9685a64c0124a81d7cfeb\": [{\"precision\": 1, \"N neighbours\": 3, \"mean neighbour diff\": 0.379, \"time\": 0.07030463218688965, \"direction\": \"similar\"}, {\"precision\": 1, \"N neighbours\": 3, \"mean neighbour diff\": 4.024, \"time\": 0.016273021697998047, \"direction\": \"inverse\"}, {\"precision\": 1, \"N neighbours\": 5, \"mean neighbour diff\": 0.108, \"time\": 0.018069982528686523, \"direction\": \"similar\"}, {\"precision\": 1, \"N neighbours\": 5, \"mean neighbour diff\": 5.656, \"time\": 0.015927791595458984, \"direction\": \"inverse\"}, {\"precision\": 1, \"N neighbours\": 10, \"mean neighbour diff\": 0.24, \"time\": 0.022820234298706055, \"direction\": \"similar\"}, {\"precision\": 1, \"N neighbours\": 10, \"mean neighbour diff\": 8.046, \"time\": 0.01864314079284668, \"direction\": \"inverse\"}, {\"precision\": 1, \"N neighbours\": 20, \"mean neighbour diff\": 1.2, \"time\": 0.02773737907409668, \"direction\": \"similar\"}, {\"precision\": 1, \"N neighbours\": 20, \"mean neighbour diff\": 14.114, \"time\": 0.025937557220458984, \"direction\": \"inverse\"}, {\"precision\": 1, \"N neighbours\": 30, \"mean neighbour diff\": 2.018, \"time\": 0.03599977493286133, \"direction\": \"similar\"}, {\"precision\": 1, \"N neighbours\": 30, \"mean neighbour diff\": 21.222, \"time\": 0.02908182144165039, \"direction\": \"inverse\"}, {\"precision\": 3, \"N neighbours\": 3, \"mean neighbour diff\": 0.052, \"time\": 0.02050495147705078, \"direction\": \"similar\"}, {\"precision\": 3, \"N neighbours\": 3, \"mean neighbour diff\": 0.859, \"time\": 0.018717050552368164, \"direction\": \"inverse\"}, {\"precision\": 3, \"N neighbours\": 5, \"mean neighbour diff\": 0.098, \"time\": 0.026569366455078125, \"direction\": \"similar\"}, {\"precision\": 3, \"N neighbours\": 5, \"mean neighbour diff\": 1.259, \"time\": 0.02763843536376953, \"direction\": \"inverse\"}, {\"precision\": 3, \"N neighbours\": 10, \"mean neighbour diff\": 0.215, \"time\": 0.03691506385803223, \"direction\": \"similar\"}, {\"precision\": 3, \"N neighbours\": 10, \"mean neighbour diff\": 2.172, \"time\": 0.029981136322021484, \"direction\": \"inverse\"}, {\"precision\": 3, \"N neighbours\": 20, \"mean neighbour diff\": 0.384, \"time\": 0.05748748779296875, \"direction\": \"similar\"}, {\"precision\": 3, \"N neighbours\": 20, \"mean neighbour diff\": 3.38, \"time\": 0.05389213562011719, \"direction\": \"inverse\"}, {\"precision\": 3, \"N neighbours\": 30, \"mean neighbour diff\": 0.419, \"time\": 0.06911516189575195, \"direction\": \"similar\"}, {\"precision\": 3, \"N neighbours\": 30, \"mean neighbour diff\": 3.369, \"time\": 0.06926250457763672, \"direction\": \"inverse\"}, {\"precision\": 5, \"N neighbours\": 3, \"mean neighbour diff\": 0.059, \"time\": 0.02454996109008789, \"direction\": \"similar\"}, {\"precision\": 5, \"N neighbours\": 3, \"mean neighbour diff\": 0.506, \"time\": 0.021187543869018555, \"direction\": \"inverse\"}, {\"precision\": 5, \"N neighbours\": 5, \"mean neighbour diff\": 0.095, \"time\": 0.033440351486206055, \"direction\": \"similar\"}, {\"precision\": 5, \"N neighbours\": 5, \"mean neighbour diff\": 0.705, \"time\": 0.027302980422973633, \"direction\": \"inverse\"}, {\"precision\": 5, \"N neighbours\": 10, \"mean neighbour diff\": 0.149, \"time\": 0.0464935302734375, \"direction\": \"similar\"}, {\"precision\": 5, \"N neighbours\": 10, \"mean neighbour diff\": 1.213, \"time\": 0.042696475982666016, \"direction\": \"inverse\"}, {\"precision\": 5, \"N neighbours\": 20, \"mean neighbour diff\": 0.319, \"time\": 0.07372474670410156, \"direction\": \"similar\"}, {\"precision\": 5, \"N neighbours\": 20, \"mean neighbour diff\": 1.185, \"time\": 0.07041192054748535, \"direction\": \"inverse\"}, {\"precision\": 5, \"N neighbours\": 30, \"mean neighbour diff\": 0.304, \"time\": 0.1069788932800293, \"direction\": \"similar\"}, {\"precision\": 5, \"N neighbours\": 30, \"mean neighbour diff\": 0.813, \"time\": 0.10558032989501953, \"direction\": \"inverse\"}, {\"precision\": 7, \"N neighbours\": 3, \"mean neighbour diff\": 0.057, \"time\": 0.024912357330322266, \"direction\": \"similar\"}, {\"precision\": 7, \"N neighbours\": 3, \"mean neighbour diff\": 0.385, \"time\": 0.023425817489624023, \"direction\": \"inverse\"}, {\"precision\": 7, \"N neighbours\": 5, \"mean neighbour diff\": 0.098, \"time\": 0.039028167724609375, \"direction\": \"similar\"}, {\"precision\": 7, \"N neighbours\": 5, \"mean neighbour diff\": 0.449, \"time\": 0.031080961227416992, \"direction\": \"inverse\"}, {\"precision\": 7, \"N neighbours\": 10, \"mean neighbour diff\": 0.152, \"time\": 0.05371713638305664, \"direction\": \"similar\"}, {\"precision\": 7, \"N neighbours\": 10, \"mean neighbour diff\": 0.688, \"time\": 0.051415205001831055, \"direction\": \"inverse\"}, {\"precision\": 7, \"N neighbours\": 20, \"mean neighbour diff\": 0.304, \"time\": 0.10391664505004883, \"direction\": \"similar\"}, {\"precision\": 7, \"N neighbours\": 20, \"mean neighbour diff\": 0.492, \"time\": 0.10005450248718262, \"direction\": \"inverse\"}, {\"precision\": 7, \"N neighbours\": 30, \"mean neighbour diff\": 0.329, \"time\": 0.1550154685974121, \"direction\": \"similar\"}, {\"precision\": 7, \"N neighbours\": 30, \"mean neighbour diff\": 0.245, \"time\": 0.16069889068603516, \"direction\": \"inverse\"}, {\"precision\": 10, \"N neighbours\": 3, \"mean neighbour diff\": 0.051, \"time\": 0.031501054763793945, \"direction\": \"similar\"}, {\"precision\": 10, \"N neighbours\": 3, \"mean neighbour diff\": 0.221, \"time\": 0.03118586540222168, \"direction\": \"inverse\"}, {\"precision\": 10, \"N neighbours\": 5, \"mean neighbour diff\": 0.087, \"time\": 0.04512310028076172, \"direction\": \"similar\"}, {\"precision\": 10, \"N neighbours\": 5, \"mean neighbour diff\": 0.326, \"time\": 0.04411125183105469, \"direction\": \"inverse\"}, {\"precision\": 10, \"N neighbours\": 10, \"mean neighbour diff\": 0.167, \"time\": 0.08489656448364258, \"direction\": \"similar\"}, {\"precision\": 10, \"N neighbours\": 10, \"mean neighbour diff\": 0.299, \"time\": 0.08025360107421875, \"direction\": \"inverse\"}, {\"precision\": 10, \"N neighbours\": 20, \"mean neighbour diff\": 0.281, \"time\": 0.15108203887939453, \"direction\": \"similar\"}, {\"precision\": 10, \"N neighbours\": 20, \"mean neighbour diff\": 0.164, \"time\": 0.16232609748840332, \"direction\": \"inverse\"}, {\"precision\": 10, \"N neighbours\": 30, \"mean neighbour diff\": 0.339, \"time\": 0.264815092086792, \"direction\": \"similar\"}, {\"precision\": 10, \"N neighbours\": 30, \"mean neighbour diff\": 0.072, \"time\": 0.26610255241394043, \"direction\": \"inverse\"}]}};\n",
       "const opt = {};\n",
       "const type = \"vega-lite\";\n",
       "const id = \"5bf295c9-3917-4f85-888b-f7f79e63b8da\";\n",
       "\n",
       "const output_area = this;\n",
       "\n",
       "require([\"nbextensions/jupyter-vega/index\"], function(vega) {\n",
       "  const target = document.createElement(\"div\");\n",
       "  target.id = id;\n",
       "  target.className = \"vega-embed\";\n",
       "\n",
       "  const style = document.createElement(\"style\");\n",
       "  style.textContent = [\n",
       "    \".vega-embed .error p {\",\n",
       "    \"  color: firebrick;\",\n",
       "    \"  font-size: 14px;\",\n",
       "    \"}\",\n",
       "  ].join(\"\\\\n\");\n",
       "\n",
       "  // element is a jQuery wrapped DOM element inside the output area\n",
       "  // see http://ipython.readthedocs.io/en/stable/api/generated/\\\n",
       "  // IPython.display.html#IPython.display.Javascript.__init__\n",
       "  element[0].appendChild(target);\n",
       "  element[0].appendChild(style);\n",
       "\n",
       "  vega.render(\"#\" + id, spec, type, opt, output_area);\n",
       "}, function (err) {\n",
       "  if (err.requireType !== \"scripterror\") {\n",
       "    throw(err);\n",
       "  }\n",
       "});\n"
      ],
      "text/plain": [
       "<vega.vegalite.VegaLite at 0x7fc03be169e8>"
      ]
     },
     "metadata": {
      "jupyter-vega": "#5bf295c9-3917-4f85-888b-f7f79e63b8da"
     },
     "output_type": "display_data"
    },
    {
     "data": {
      "text/plain": []
     },
     "execution_count": 18,
     "metadata": {},
     "output_type": "execute_result"
    },
    {
     "data": {
      "image/png": "[encoded data removed]"
     },
     "metadata": {
      "jupyter-vega": "#5bf295c9-3917-4f85-888b-f7f79e63b8da"
     },
     "output_type": "display_data"
    }
   ],
   "source": [
    "alt.Chart(df).mark_point().encode(x='precision', y='time',\n",
    "                                   color=alt.Color('N neighbours', scale=\n",
    "                                   alt.Scale(range=['darkviolet', 'yellow', 'yellowgreen', 'green'])),\n",
    "                                   shape=alt.Shape('direction', scale=alt.Scale(range=['triangle', 'circle']))\n",
    "                                   ).configure_circle(size=50).interactive()"
   ]
  },
  {
   "cell_type": "code",
   "execution_count": 19,
   "metadata": {},
   "outputs": [
    {
     "data": {
      "application/javascript": [
       "const spec = {\"config\": {\"view\": {\"width\": 400, \"height\": 300}, \"mark\": {\"tooltip\": null}, \"circle\": {\"size\": 50}}, \"data\": {\"name\": \"data-a90f9678f4c9685a64c0124a81d7cfeb\"}, \"mark\": \"point\", \"encoding\": {\"color\": {\"type\": \"quantitative\", \"field\": \"N neighbours\", \"scale\": {\"range\": [\"darkviolet\", \"yellow\", \"yellowgreen\", \"green\"]}}, \"shape\": {\"type\": \"nominal\", \"field\": \"direction\", \"scale\": {\"range\": [\"triangle\", \"circle\"]}}, \"x\": {\"type\": \"quantitative\", \"field\": \"precision\"}, \"y\": {\"type\": \"quantitative\", \"field\": \"mean neighbour diff\"}}, \"selection\": {\"selector008\": {\"type\": \"interval\", \"bind\": \"scales\", \"encodings\": [\"x\", \"y\"]}}, \"$schema\": \"https://vega.github.io/schema/vega-lite/v3.4.0.json\", \"datasets\": {\"data-a90f9678f4c9685a64c0124a81d7cfeb\": [{\"precision\": 1, \"N neighbours\": 3, \"mean neighbour diff\": 0.379, \"time\": 0.07030463218688965, \"direction\": \"similar\"}, {\"precision\": 1, \"N neighbours\": 3, \"mean neighbour diff\": 4.024, \"time\": 0.016273021697998047, \"direction\": \"inverse\"}, {\"precision\": 1, \"N neighbours\": 5, \"mean neighbour diff\": 0.108, \"time\": 0.018069982528686523, \"direction\": \"similar\"}, {\"precision\": 1, \"N neighbours\": 5, \"mean neighbour diff\": 5.656, \"time\": 0.015927791595458984, \"direction\": \"inverse\"}, {\"precision\": 1, \"N neighbours\": 10, \"mean neighbour diff\": 0.24, \"time\": 0.022820234298706055, \"direction\": \"similar\"}, {\"precision\": 1, \"N neighbours\": 10, \"mean neighbour diff\": 8.046, \"time\": 0.01864314079284668, \"direction\": \"inverse\"}, {\"precision\": 1, \"N neighbours\": 20, \"mean neighbour diff\": 1.2, \"time\": 0.02773737907409668, \"direction\": \"similar\"}, {\"precision\": 1, \"N neighbours\": 20, \"mean neighbour diff\": 14.114, \"time\": 0.025937557220458984, \"direction\": \"inverse\"}, {\"precision\": 1, \"N neighbours\": 30, \"mean neighbour diff\": 2.018, \"time\": 0.03599977493286133, \"direction\": \"similar\"}, {\"precision\": 1, \"N neighbours\": 30, \"mean neighbour diff\": 21.222, \"time\": 0.02908182144165039, \"direction\": \"inverse\"}, {\"precision\": 3, \"N neighbours\": 3, \"mean neighbour diff\": 0.052, \"time\": 0.02050495147705078, \"direction\": \"similar\"}, {\"precision\": 3, \"N neighbours\": 3, \"mean neighbour diff\": 0.859, \"time\": 0.018717050552368164, \"direction\": \"inverse\"}, {\"precision\": 3, \"N neighbours\": 5, \"mean neighbour diff\": 0.098, \"time\": 0.026569366455078125, \"direction\": \"similar\"}, {\"precision\": 3, \"N neighbours\": 5, \"mean neighbour diff\": 1.259, \"time\": 0.02763843536376953, \"direction\": \"inverse\"}, {\"precision\": 3, \"N neighbours\": 10, \"mean neighbour diff\": 0.215, \"time\": 0.03691506385803223, \"direction\": \"similar\"}, {\"precision\": 3, \"N neighbours\": 10, \"mean neighbour diff\": 2.172, \"time\": 0.029981136322021484, \"direction\": \"inverse\"}, {\"precision\": 3, \"N neighbours\": 20, \"mean neighbour diff\": 0.384, \"time\": 0.05748748779296875, \"direction\": \"similar\"}, {\"precision\": 3, \"N neighbours\": 20, \"mean neighbour diff\": 3.38, \"time\": 0.05389213562011719, \"direction\": \"inverse\"}, {\"precision\": 3, \"N neighbours\": 30, \"mean neighbour diff\": 0.419, \"time\": 0.06911516189575195, \"direction\": \"similar\"}, {\"precision\": 3, \"N neighbours\": 30, \"mean neighbour diff\": 3.369, \"time\": 0.06926250457763672, \"direction\": \"inverse\"}, {\"precision\": 5, \"N neighbours\": 3, \"mean neighbour diff\": 0.059, \"time\": 0.02454996109008789, \"direction\": \"similar\"}, {\"precision\": 5, \"N neighbours\": 3, \"mean neighbour diff\": 0.506, \"time\": 0.021187543869018555, \"direction\": \"inverse\"}, {\"precision\": 5, \"N neighbours\": 5, \"mean neighbour diff\": 0.095, \"time\": 0.033440351486206055, \"direction\": \"similar\"}, {\"precision\": 5, \"N neighbours\": 5, \"mean neighbour diff\": 0.705, \"time\": 0.027302980422973633, \"direction\": \"inverse\"}, {\"precision\": 5, \"N neighbours\": 10, \"mean neighbour diff\": 0.149, \"time\": 0.0464935302734375, \"direction\": \"similar\"}, {\"precision\": 5, \"N neighbours\": 10, \"mean neighbour diff\": 1.213, \"time\": 0.042696475982666016, \"direction\": \"inverse\"}, {\"precision\": 5, \"N neighbours\": 20, \"mean neighbour diff\": 0.319, \"time\": 0.07372474670410156, \"direction\": \"similar\"}, {\"precision\": 5, \"N neighbours\": 20, \"mean neighbour diff\": 1.185, \"time\": 0.07041192054748535, \"direction\": \"inverse\"}, {\"precision\": 5, \"N neighbours\": 30, \"mean neighbour diff\": 0.304, \"time\": 0.1069788932800293, \"direction\": \"similar\"}, {\"precision\": 5, \"N neighbours\": 30, \"mean neighbour diff\": 0.813, \"time\": 0.10558032989501953, \"direction\": \"inverse\"}, {\"precision\": 7, \"N neighbours\": 3, \"mean neighbour diff\": 0.057, \"time\": 0.024912357330322266, \"direction\": \"similar\"}, {\"precision\": 7, \"N neighbours\": 3, \"mean neighbour diff\": 0.385, \"time\": 0.023425817489624023, \"direction\": \"inverse\"}, {\"precision\": 7, \"N neighbours\": 5, \"mean neighbour diff\": 0.098, \"time\": 0.039028167724609375, \"direction\": \"similar\"}, {\"precision\": 7, \"N neighbours\": 5, \"mean neighbour diff\": 0.449, \"time\": 0.031080961227416992, \"direction\": \"inverse\"}, {\"precision\": 7, \"N neighbours\": 10, \"mean neighbour diff\": 0.152, \"time\": 0.05371713638305664, \"direction\": \"similar\"}, {\"precision\": 7, \"N neighbours\": 10, \"mean neighbour diff\": 0.688, \"time\": 0.051415205001831055, \"direction\": \"inverse\"}, {\"precision\": 7, \"N neighbours\": 20, \"mean neighbour diff\": 0.304, \"time\": 0.10391664505004883, \"direction\": \"similar\"}, {\"precision\": 7, \"N neighbours\": 20, \"mean neighbour diff\": 0.492, \"time\": 0.10005450248718262, \"direction\": \"inverse\"}, {\"precision\": 7, \"N neighbours\": 30, \"mean neighbour diff\": 0.329, \"time\": 0.1550154685974121, \"direction\": \"similar\"}, {\"precision\": 7, \"N neighbours\": 30, \"mean neighbour diff\": 0.245, \"time\": 0.16069889068603516, \"direction\": \"inverse\"}, {\"precision\": 10, \"N neighbours\": 3, \"mean neighbour diff\": 0.051, \"time\": 0.031501054763793945, \"direction\": \"similar\"}, {\"precision\": 10, \"N neighbours\": 3, \"mean neighbour diff\": 0.221, \"time\": 0.03118586540222168, \"direction\": \"inverse\"}, {\"precision\": 10, \"N neighbours\": 5, \"mean neighbour diff\": 0.087, \"time\": 0.04512310028076172, \"direction\": \"similar\"}, {\"precision\": 10, \"N neighbours\": 5, \"mean neighbour diff\": 0.326, \"time\": 0.04411125183105469, \"direction\": \"inverse\"}, {\"precision\": 10, \"N neighbours\": 10, \"mean neighbour diff\": 0.167, \"time\": 0.08489656448364258, \"direction\": \"similar\"}, {\"precision\": 10, \"N neighbours\": 10, \"mean neighbour diff\": 0.299, \"time\": 0.08025360107421875, \"direction\": \"inverse\"}, {\"precision\": 10, \"N neighbours\": 20, \"mean neighbour diff\": 0.281, \"time\": 0.15108203887939453, \"direction\": \"similar\"}, {\"precision\": 10, \"N neighbours\": 20, \"mean neighbour diff\": 0.164, \"time\": 0.16232609748840332, \"direction\": \"inverse\"}, {\"precision\": 10, \"N neighbours\": 30, \"mean neighbour diff\": 0.339, \"time\": 0.264815092086792, \"direction\": \"similar\"}, {\"precision\": 10, \"N neighbours\": 30, \"mean neighbour diff\": 0.072, \"time\": 0.26610255241394043, \"direction\": \"inverse\"}]}};\n",
       "const opt = {};\n",
       "const type = \"vega-lite\";\n",
       "const id = \"29d05c46-da08-4fe1-84b9-2c3404b31750\";\n",
       "\n",
       "const output_area = this;\n",
       "\n",
       "require([\"nbextensions/jupyter-vega/index\"], function(vega) {\n",
       "  const target = document.createElement(\"div\");\n",
       "  target.id = id;\n",
       "  target.className = \"vega-embed\";\n",
       "\n",
       "  const style = document.createElement(\"style\");\n",
       "  style.textContent = [\n",
       "    \".vega-embed .error p {\",\n",
       "    \"  color: firebrick;\",\n",
       "    \"  font-size: 14px;\",\n",
       "    \"}\",\n",
       "  ].join(\"\\\\n\");\n",
       "\n",
       "  // element is a jQuery wrapped DOM element inside the output area\n",
       "  // see http://ipython.readthedocs.io/en/stable/api/generated/\\\n",
       "  // IPython.display.html#IPython.display.Javascript.__init__\n",
       "  element[0].appendChild(target);\n",
       "  element[0].appendChild(style);\n",
       "\n",
       "  vega.render(\"#\" + id, spec, type, opt, output_area);\n",
       "}, function (err) {\n",
       "  if (err.requireType !== \"scripterror\") {\n",
       "    throw(err);\n",
       "  }\n",
       "});\n"
      ],
      "text/plain": [
       "<vega.vegalite.VegaLite at 0x7fc042d10fd0>"
      ]
     },
     "metadata": {
      "jupyter-vega": "#29d05c46-da08-4fe1-84b9-2c3404b31750"
     },
     "output_type": "display_data"
    },
    {
     "data": {
      "text/plain": []
     },
     "execution_count": 19,
     "metadata": {},
     "output_type": "execute_result"
    },
    {
     "data": {
      "image/png": "[encoded data removed]"
     },
     "metadata": {
      "jupyter-vega": "#29d05c46-da08-4fe1-84b9-2c3404b31750"
     },
     "output_type": "display_data"
    }
   ],
   "source": [
    "alt.Chart(df).mark_point().encode(x='precision', y='mean neighbour diff',\n",
    "                                   color=alt.Color('N neighbours', scale=\n",
    "                                   alt.Scale(range=['darkviolet', 'yellow', 'yellowgreen', 'green'])),\n",
    "                                   shape=alt.Shape('direction', scale=alt.Scale(range=['triangle', 'circle']))\n",
    "                                   ).configure_circle(size=50).interactive()"
   ]
  },
  {
   "cell_type": "code",
   "execution_count": null,
   "metadata": {},
   "outputs": [],
   "source": []
  }
 ],
 "metadata": {
  "kernelspec": {
   "display_name": "Python 3",
   "language": "python",
   "name": "python3"
  },
  "language_info": {
   "codemirror_mode": {
    "name": "ipython",
    "version": 3
   },
   "file_extension": ".py",
   "mimetype": "text/x-python",
   "name": "python",
   "nbconvert_exporter": "python",
   "pygments_lexer": "ipython3",
   "version": "3.6.8"
  }
 },
 "nbformat": 4,
 "nbformat_minor": 2
}
