{
 "cells": [
  {
   "cell_type": "markdown",
   "metadata": {},
   "source": [
    "### Load data"
   ]
  },
  {
   "cell_type": "code",
   "execution_count": 1,
   "metadata": {},
   "outputs": [],
   "source": [
    "import os\n",
    "import sys\n",
    "\n",
    "module_path = os.path.abspath(os.path.join('..'))\n",
    "if module_path not in sys.path:\n",
    "    sys.path.insert(0,module_path)\n",
    "\n",
    "import pandas as pd\n",
    "import matplotlib.pyplot as plt\n",
    "import altair as alt\n",
    "alt.renderers.enable('notebook')\n",
    "\n",
    "from correlation_enrichment.library import SimilarityCalculator\n",
    "from library_regulons import *\n"
   ]
  },
  {
   "cell_type": "code",
   "execution_count": 2,
   "metadata": {},
   "outputs": [],
   "source": [
    "dataPath=module_path+'/data_expression/'\n",
    "genes = pd.read_csv(dataPath + 'mergedGenes_RPKUM.tsv', sep='\\t', index_col=0)\n",
    "conditions = pd.read_csv(dataPath + 'conditions_mergedGenes.tsv', sep='\\t', index_col=None)\n",
    "neighbour_calculator = NeighbourCalculator(genes,conditions=conditions,conditions_names_column='Measurment')"
   ]
  },
  {
   "cell_type": "markdown",
   "metadata": {},
   "source": [
    "### Avaliable replicates for determining  genes with at least how similar neighbour should still be used"
   ]
  },
  {
   "cell_type": "code",
   "execution_count": 3,
   "metadata": {},
   "outputs": [
    {
     "data": {
      "text/plain": [
       "{'AX4_FDpool01',\n",
       " 'AX4_FDpool02',\n",
       " 'AX4_bio1',\n",
       " 'AX4_bio2',\n",
       " 'AX4_bio3',\n",
       " 'AX4_pool19',\n",
       " 'AX4_pool21',\n",
       " 'AX4_r1',\n",
       " 'AX4_r2',\n",
       " 'ac3pkaCoe_r1',\n",
       " 'ac3pkaCoe_r2',\n",
       " 'comH_r1',\n",
       " 'comH_r2',\n",
       " 'cudA_r2',\n",
       " 'cudA_r3',\n",
       " 'dgcA_r1',\n",
       " 'dgcA_r2',\n",
       " 'ecmA_bio1',\n",
       " 'ecmA_bio2',\n",
       " 'gbfA_r1',\n",
       " 'gbfA_r3',\n",
       " 'gtaG_r1',\n",
       " 'gtaG_r2',\n",
       " 'gtaI_bio1',\n",
       " 'gtaI_bio2',\n",
       " 'mybBGFP_bio1',\n",
       " 'mybBGFP_bio2',\n",
       " 'mybB_bio1',\n",
       " 'mybB_bio2',\n",
       " 'pkaCoeAX4_r2',\n",
       " 'pkaCoeAX4_r3',\n",
       " 'pkaR_bio1',\n",
       " 'pkaR_bio2',\n",
       " 'tagB_bio1',\n",
       " 'tagB_bio2',\n",
       " 'tgrB1C1_r1',\n",
       " 'tgrB1C1_r2',\n",
       " 'tgrB1_r1',\n",
       " 'tgrB1_r2',\n",
       " 'tgrC1_r1',\n",
       " 'tgrC1_r2'}"
      ]
     },
     "execution_count": 3,
     "metadata": {},
     "output_type": "execute_result"
    }
   ],
   "source": [
    "set(conditions.loc[:,'Replicate'])"
   ]
  },
  {
   "cell_type": "code",
   "execution_count": null,
   "metadata": {},
   "outputs": [
    {
     "name": "stderr",
     "output_type": "stream",
     "text": [
      "/home/karin/Documents/git/orange3venv/lib/python3.6/site-packages/numba/ir_utils.py:1959: NumbaPendingDeprecationWarning: \n",
      "Encountered the use of a type that is scheduled for deprecation: type 'reflected list' found for argument 'forest' of function 'initialise_search'.\n",
      "\n",
      "For more information visit http://numba.pydata.org/numba-doc/latest/reference/deprecation.html#deprecation-of-reflection-for-list-and-set-types\n",
      "\n",
      "File \"../../orange3venv/lib/python3.6/site-packages/pynndescent/pynndescent_.py\", line 72:\n",
      "@numba.njit()\n",
      "def initialise_search(\n",
      "^\n",
      "\n",
      "  warnings.warn(NumbaPendingDeprecationWarning(msg, loc=loc))\n",
      "/home/karin/Documents/git/baylor-dicty/correlation_enrichment/library.py:235: RuntimeWarning: invalid value encountered in double_scalars\n",
      "  return np.inner(vector1, vector2) / (np.linalg.norm(vector1) * np.linalg.norm(vector2))\n"
     ]
    }
   ],
   "source": [
    "neighbour_calculator.plot_select_threshold(thresholds=[0.96,0.97,0.98,0.99,0.995],filter_column='Replicate',\n",
    "                                           filter_column_values_sub=['AX4_pool19',\n",
    " 'AX4_pool21',\n",
    " 'AX4_r1',\n",
    " 'AX4_r2',\n",
    " 'ac3pkaCoe_r1',\n",
    " 'ac3pkaCoe_r2',\n",
    " 'comH_r1',\n",
    " 'comH_r2',\n",
    " 'cudA_r2',\n",
    " 'cudA_r3',\n",
    " 'dgcA_r1',\n",
    " 'dgcA_r2',\n",
    " 'ecmA_bio1',\n",
    " 'ecmA_bio2',\n",
    " 'gbfA_r1',\n",
    " 'gbfA_r3'],filter_column_values_test=['tagB_bio1',\n",
    " 'tagB_bio2',\n",
    " 'tgrB1C1_r1',\n",
    " 'tgrB1C1_r2',\n",
    " 'tgrB1_r1'])"
   ]
  },
  {
   "cell_type": "code",
   "execution_count": null,
   "metadata": {},
   "outputs": [],
   "source": [
    "result = neighbour_calculator.neighbours(2, inverse=False)\n",
    "hcl = HierarchicalClustering(result, genes, 0.995, inverse=False)"
   ]
  },
  {
   "cell_type": "code",
   "execution_count": null,
   "metadata": {},
   "outputs": [],
   "source": [
    "ca=ClusterAnalyser(genes.index)"
   ]
  },
  {
   "cell_type": "code",
   "execution_count": null,
   "metadata": {},
   "outputs": [],
   "source": [
    "ca.plot_clustering_metrics(clustering=hcl, splittings=np.arange(0.01,0.4,0.03))"
   ]
  },
  {
   "cell_type": "code",
   "execution_count": null,
   "metadata": {},
   "outputs": [],
   "source": [
    "hcl.plot_clustering(cutting_distance=0.1)"
   ]
  },
  {
   "cell_type": "code",
   "execution_count": null,
   "metadata": {},
   "outputs": [],
   "source": [
    "hcl.plot_cluster_sizes(splitting=0.1)"
   ]
  },
  {
   "cell_type": "code",
   "execution_count": null,
   "metadata": {},
   "outputs": [],
   "source": []
  }
 ],
 "metadata": {
  "kernelspec": {
   "display_name": "Python 3",
   "language": "python",
   "name": "python3"
  },
  "language_info": {
   "codemirror_mode": {
    "name": "ipython",
    "version": 3
   },
   "file_extension": ".py",
   "mimetype": "text/x-python",
   "name": "python",
   "nbconvert_exporter": "python",
   "pygments_lexer": "ipython3",
   "version": "3.6.8"
  }
 },
 "nbformat": 4,
 "nbformat_minor": 2
}
