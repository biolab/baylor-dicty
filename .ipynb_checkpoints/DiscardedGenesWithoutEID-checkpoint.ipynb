{
 "cells": [
  {
   "cell_type": "markdown",
   "metadata": {},
   "source": [
    "# Count of annotations in dictyBase Phenotypes vs in Orange gene sets\n",
    "\n",
    "Code was adapted from https://github.com/JakaKokosar/bioinformatics-serverfiles/blob/master/update_scripts/gene_sets.py#L51 (generation of gene sets for Orange)."
   ]
  },
  {
   "cell_type": "code",
   "execution_count": 1,
   "metadata": {},
   "outputs": [],
   "source": [
    "from orangecontrib.bioinformatics.dicty import phenotypes\n",
    "from orangecontrib.bioinformatics.ncbi.gene import GeneMatcher"
   ]
  },
  {
   "cell_type": "code",
   "execution_count": 6,
   "metadata": {},
   "outputs": [
    {
     "name": "stdout",
     "output_type": "stream",
     "text": [
      "N genes with phenotype annotations in dictyBase: 1093 and in Orange Dictybase Phenotypes: 929\n",
      "N of genes across gene sets (with genes being involved in multiple gene sets): dictyBase 5693 , Orange 4977\n",
      "N of gene sets that have no genes left in Orange: 29 , out of 659 gene sets in dictyBase\n"
     ]
    }
   ],
   "source": [
    "dicty_annotations = 0\n",
    "dicty_genes = set()\n",
    "orange_annotations = 0\n",
    "orange_genes = set()\n",
    "empty_sets = 0\n",
    "\n",
    "gene_matcher = GeneMatcher('44689')\n",
    "for phenotype, mutants in phenotypes.phenotype_mutants().items():\n",
    "    gene_symbols = set(phenotypes.mutant_genes(mutant)[0] for mutant in mutants)\n",
    "    dicty_annotations += len(gene_symbols)\n",
    "    dicty_genes.update(gene_symbols)\n",
    "    gene_matcher.genes = gene_symbols\n",
    "    N_genes_set_Orange = 0\n",
    "    N_genes_set_dicty = len(gene_symbols)\n",
    "    for gene in gene_matcher.genes:\n",
    "        if gene.gene_id is not None:\n",
    "            orange_genes.add(gene.gene_id)\n",
    "            N_genes_set_Orange += 1\n",
    "    orange_annotations += N_genes_set_Orange\n",
    "    if N_genes_set_Orange < 1 and N_genes_set_dicty > 0:\n",
    "        empty_sets += 1\n",
    "\n",
    "print('N genes with phenotype annotations in dictyBase:', len(dicty_genes),\n",
    "      'and in Orange Dictybase Phenotypes:', len(orange_genes))\n",
    "print('N of genes across gene sets (with genes being involved in multiple gene sets): dictyBase',\n",
    "      dicty_annotations, ', Orange', orange_annotations)\n",
    "print('N of gene sets that have no genes left in Orange:', empty_sets, ', out of',\n",
    "      len(phenotypes.phenotype_mutants()), 'gene sets in dictyBase')\n"
   ]
  },
  {
   "cell_type": "markdown",
   "metadata": {},
   "source": [
    "Thus some genes are left with no annotations and also some gene sets are left empty. "
   ]
  },
  {
   "cell_type": "code",
   "execution_count": null,
   "metadata": {},
   "outputs": [],
   "source": []
  }
 ],
 "metadata": {
  "kernelspec": {
   "display_name": "Python 3",
   "language": "python",
   "name": "python3"
  },
  "language_info": {
   "codemirror_mode": {
    "name": "ipython",
    "version": 3
   },
   "file_extension": ".py",
   "mimetype": "text/x-python",
   "name": "python",
   "nbconvert_exporter": "python",
   "pygments_lexer": "ipython3",
   "version": "3.6.8"
  }
 },
 "nbformat": 4,
 "nbformat_minor": 2
}
